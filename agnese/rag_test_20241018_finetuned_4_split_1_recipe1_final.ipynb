{
 "cells": [
  {
   "cell_type": "markdown",
   "id": "J9y86_KPlUm6",
   "metadata": {
    "id": "J9y86_KPlUm6"
   },
   "source": [
    "**Resource:** https://github.com/aws-samples/Meta-Llama-on-AWS/blob/main/RAG-recipes/llama3-rag-langchain-smjs.ipynb"
   ]
  },
  {
   "cell_type": "markdown",
   "id": "lLuKPKGulaE7",
   "metadata": {
    "id": "lLuKPKGulaE7"
   },
   "source": [
    "* Embedding Model Used: *HuggingFace BGE Large EN Embedding model*\n",
    "* LLM Used: *HuggingFace Llama 3 8b Instruct LLM model*"
   ]
  },
  {
   "cell_type": "code",
   "execution_count": 146,
   "id": "7669e00e-f81b-4054-b7c7-dbf208dd3c7a",
   "metadata": {
    "id": "7669e00e-f81b-4054-b7c7-dbf208dd3c7a",
    "outputId": "59d7c039-b20b-4433-c1f5-543dcb6a6ea0"
   },
   "outputs": [
    {
     "name": "stdout",
     "output_type": "stream",
     "text": [
      "Overwriting requirements.txt\n"
     ]
    }
   ],
   "source": [
    "%%writefile requirements.txt\n",
    "langchain==0.1.14\n",
    "pypdf==4.1.0\n",
    "faiss-cpu==1.8.0\n",
    "boto3==1.34.58\n",
    "sqlalchemy==2.0.29"
   ]
  },
  {
   "cell_type": "code",
   "execution_count": 147,
   "id": "ce21f73c-4334-4d0c-9cbd-f9502a44fb96",
   "metadata": {
    "id": "ce21f73c-4334-4d0c-9cbd-f9502a44fb96",
    "outputId": "7b92100a-28dc-418d-c1be-309e9b4b487d"
   },
   "outputs": [
    {
     "name": "stdout",
     "output_type": "stream",
     "text": [
      "2.0.30\n"
     ]
    }
   ],
   "source": [
    "import sqlalchemy\n",
    "print(sqlalchemy.__version__)"
   ]
  },
  {
   "cell_type": "code",
   "execution_count": 148,
   "id": "755e8bfb-b5d7-4f27-9561-ecd91f3397bf",
   "metadata": {
    "id": "755e8bfb-b5d7-4f27-9561-ecd91f3397bf",
    "outputId": "bfbbac69-0c30-4f48-c029-e840b9c9933a"
   },
   "outputs": [
    {
     "name": "stdout",
     "output_type": "stream",
     "text": [
      "Requirement already satisfied: nvidia-ml-py3==7.352.0 in /opt/conda/lib/python3.11/site-packages (7.352.0)\n",
      "Note: you may need to restart the kernel to use updated packages.\n"
     ]
    }
   ],
   "source": [
    "pip install nvidia-ml-py3==7.352.0"
   ]
  },
  {
   "cell_type": "code",
   "execution_count": 149,
   "id": "2fede8f3-4749-47fa-8905-89487c720eb1",
   "metadata": {
    "id": "2fede8f3-4749-47fa-8905-89487c720eb1",
    "outputId": "9e7879a8-277f-46be-9dce-53b03de83d6f"
   },
   "outputs": [
    {
     "name": "stdout",
     "output_type": "stream",
     "text": [
      "Requirement already satisfied: sqlparse==0.5.0 in /opt/conda/lib/python3.11/site-packages (0.5.0)\n",
      "Note: you may need to restart the kernel to use updated packages.\n"
     ]
    }
   ],
   "source": [
    "pip install sqlparse==0.5.0"
   ]
  },
  {
   "cell_type": "code",
   "execution_count": 150,
   "id": "381349fb-f83e-4d62-b00b-0404204fb4ff",
   "metadata": {
    "id": "381349fb-f83e-4d62-b00b-0404204fb4ff",
    "outputId": "e8b912b4-4c64-40cc-e374-9e072b9ba61d"
   },
   "outputs": [
    {
     "name": "stdout",
     "output_type": "stream",
     "text": [
      "Requirement already satisfied: scikit-learn==1.3.0 in /opt/conda/lib/python3.11/site-packages (1.3.0)\n",
      "Requirement already satisfied: numpy>=1.17.3 in /opt/conda/lib/python3.11/site-packages (from scikit-learn==1.3.0) (1.26.4)\n",
      "Requirement already satisfied: scipy>=1.5.0 in /opt/conda/lib/python3.11/site-packages (from scikit-learn==1.3.0) (1.12.0)\n",
      "Requirement already satisfied: joblib>=1.1.1 in /opt/conda/lib/python3.11/site-packages (from scikit-learn==1.3.0) (1.4.2)\n",
      "Requirement already satisfied: threadpoolctl>=2.0.0 in /opt/conda/lib/python3.11/site-packages (from scikit-learn==1.3.0) (3.5.0)\n",
      "Note: you may need to restart the kernel to use updated packages.\n"
     ]
    }
   ],
   "source": [
    "pip install scikit-learn==1.3.0"
   ]
  },
  {
   "cell_type": "code",
   "execution_count": 151,
   "id": "28ecaeec-934a-44e5-909c-fa3606b3f97e",
   "metadata": {
    "id": "28ecaeec-934a-44e5-909c-fa3606b3f97e",
    "outputId": "cc86bc94-9377-453d-b212-e5c6ba186497"
   },
   "outputs": [
    {
     "name": "stdout",
     "output_type": "stream",
     "text": [
      "Requirement already satisfied: omegaconf==2.2.3 in /opt/conda/lib/python3.11/site-packages (2.2.3)\n",
      "Requirement already satisfied: antlr4-python3-runtime==4.9.* in /opt/conda/lib/python3.11/site-packages (from omegaconf==2.2.3) (4.9.3)\n",
      "Requirement already satisfied: PyYAML>=5.1.0 in /opt/conda/lib/python3.11/site-packages (from omegaconf==2.2.3) (6.0.2)\n",
      "Note: you may need to restart the kernel to use updated packages.\n"
     ]
    }
   ],
   "source": [
    "pip install omegaconf==2.2.3"
   ]
  },
  {
   "cell_type": "code",
   "execution_count": 152,
   "id": "58c5f5d9-6e4c-4652-896f-0620fe868df9",
   "metadata": {
    "id": "58c5f5d9-6e4c-4652-896f-0620fe868df9",
    "outputId": "b22f02ab-ba73-49ad-c3d8-2ffeb37067a4"
   },
   "outputs": [
    {
     "name": "stdout",
     "output_type": "stream",
     "text": [
      "Requirement already satisfied: gluonts==0.15.1 in /opt/conda/lib/python3.11/site-packages (0.15.1)\n",
      "Requirement already satisfied: numpy~=1.16 in /opt/conda/lib/python3.11/site-packages (from gluonts==0.15.1) (1.26.4)\n",
      "Requirement already satisfied: pandas<3,>=1.0 in /opt/conda/lib/python3.11/site-packages (from gluonts==0.15.1) (2.2.2)\n",
      "Requirement already satisfied: pydantic<3,>=1.7 in /opt/conda/lib/python3.11/site-packages (from gluonts==0.15.1) (1.10.17)\n",
      "Requirement already satisfied: tqdm~=4.23 in /opt/conda/lib/python3.11/site-packages (from gluonts==0.15.1) (4.66.5)\n",
      "Requirement already satisfied: toolz~=0.10 in /opt/conda/lib/python3.11/site-packages (from gluonts==0.15.1) (0.12.1)\n",
      "Requirement already satisfied: typing-extensions~=4.0 in /opt/conda/lib/python3.11/site-packages (from gluonts==0.15.1) (4.12.2)\n",
      "Requirement already satisfied: python-dateutil>=2.8.2 in /opt/conda/lib/python3.11/site-packages (from pandas<3,>=1.0->gluonts==0.15.1) (2.9.0)\n",
      "Requirement already satisfied: pytz>=2020.1 in /opt/conda/lib/python3.11/site-packages (from pandas<3,>=1.0->gluonts==0.15.1) (2023.3)\n",
      "Requirement already satisfied: tzdata>=2022.7 in /opt/conda/lib/python3.11/site-packages (from pandas<3,>=1.0->gluonts==0.15.1) (2024.1)\n",
      "Requirement already satisfied: six>=1.5 in /opt/conda/lib/python3.11/site-packages (from python-dateutil>=2.8.2->pandas<3,>=1.0->gluonts==0.15.1) (1.16.0)\n",
      "Note: you may need to restart the kernel to use updated packages.\n"
     ]
    }
   ],
   "source": [
    "pip install gluonts==0.15.1"
   ]
  },
  {
   "cell_type": "code",
   "execution_count": 153,
   "id": "5101aaa5-ca70-4840-b647-133cf2bd3274",
   "metadata": {
    "id": "5101aaa5-ca70-4840-b647-133cf2bd3274",
    "outputId": "e22cf26a-e7cd-4b57-e6a7-d6ee4f8e9d91"
   },
   "outputs": [
    {
     "name": "stdout",
     "output_type": "stream",
     "text": [
      "Requirement already satisfied: langchain==0.1.14 in /opt/conda/lib/python3.11/site-packages (0.1.14)\n",
      "Requirement already satisfied: PyYAML>=5.3 in /opt/conda/lib/python3.11/site-packages (from langchain==0.1.14) (6.0.2)\n",
      "Requirement already satisfied: SQLAlchemy<3,>=1.4 in /opt/conda/lib/python3.11/site-packages (from langchain==0.1.14) (2.0.29)\n",
      "Requirement already satisfied: aiohttp<4.0.0,>=3.8.3 in /opt/conda/lib/python3.11/site-packages (from langchain==0.1.14) (3.9.5)\n",
      "Requirement already satisfied: dataclasses-json<0.7,>=0.5.7 in /opt/conda/lib/python3.11/site-packages (from langchain==0.1.14) (0.6.7)\n",
      "Requirement already satisfied: jsonpatch<2.0,>=1.33 in /opt/conda/lib/python3.11/site-packages (from langchain==0.1.14) (1.33)\n",
      "Requirement already satisfied: langchain-community<0.1,>=0.0.30 in /opt/conda/lib/python3.11/site-packages (from langchain==0.1.14) (0.0.38)\n",
      "Requirement already satisfied: langchain-core<0.2.0,>=0.1.37 in /opt/conda/lib/python3.11/site-packages (from langchain==0.1.14) (0.1.52)\n",
      "Requirement already satisfied: langchain-text-splitters<0.1,>=0.0.1 in /opt/conda/lib/python3.11/site-packages (from langchain==0.1.14) (0.0.2)\n",
      "Requirement already satisfied: langsmith<0.2.0,>=0.1.17 in /opt/conda/lib/python3.11/site-packages (from langchain==0.1.14) (0.1.99)\n",
      "Requirement already satisfied: numpy<2,>=1 in /opt/conda/lib/python3.11/site-packages (from langchain==0.1.14) (1.26.4)\n",
      "Requirement already satisfied: pydantic<3,>=1 in /opt/conda/lib/python3.11/site-packages (from langchain==0.1.14) (1.10.17)\n",
      "Requirement already satisfied: requests<3,>=2 in /opt/conda/lib/python3.11/site-packages (from langchain==0.1.14) (2.32.3)\n",
      "Requirement already satisfied: tenacity<9.0.0,>=8.1.0 in /opt/conda/lib/python3.11/site-packages (from langchain==0.1.14) (8.5.0)\n",
      "Requirement already satisfied: aiosignal>=1.1.2 in /opt/conda/lib/python3.11/site-packages (from aiohttp<4.0.0,>=3.8.3->langchain==0.1.14) (1.3.1)\n",
      "Requirement already satisfied: attrs>=17.3.0 in /opt/conda/lib/python3.11/site-packages (from aiohttp<4.0.0,>=3.8.3->langchain==0.1.14) (23.2.0)\n",
      "Requirement already satisfied: frozenlist>=1.1.1 in /opt/conda/lib/python3.11/site-packages (from aiohttp<4.0.0,>=3.8.3->langchain==0.1.14) (1.4.1)\n",
      "Requirement already satisfied: multidict<7.0,>=4.5 in /opt/conda/lib/python3.11/site-packages (from aiohttp<4.0.0,>=3.8.3->langchain==0.1.14) (6.0.5)\n",
      "Requirement already satisfied: yarl<2.0,>=1.0 in /opt/conda/lib/python3.11/site-packages (from aiohttp<4.0.0,>=3.8.3->langchain==0.1.14) (1.9.4)\n",
      "Requirement already satisfied: marshmallow<4.0.0,>=3.18.0 in /opt/conda/lib/python3.11/site-packages (from dataclasses-json<0.7,>=0.5.7->langchain==0.1.14) (3.21.3)\n",
      "Requirement already satisfied: typing-inspect<1,>=0.4.0 in /opt/conda/lib/python3.11/site-packages (from dataclasses-json<0.7,>=0.5.7->langchain==0.1.14) (0.9.0)\n",
      "Requirement already satisfied: jsonpointer>=1.9 in /opt/conda/lib/python3.11/site-packages (from jsonpatch<2.0,>=1.33->langchain==0.1.14) (3.0.0)\n",
      "Requirement already satisfied: packaging<24.0,>=23.2 in /opt/conda/lib/python3.11/site-packages (from langchain-core<0.2.0,>=0.1.37->langchain==0.1.14) (23.2)\n",
      "Requirement already satisfied: orjson<4.0.0,>=3.9.14 in /opt/conda/lib/python3.11/site-packages (from langsmith<0.2.0,>=0.1.17->langchain==0.1.14) (3.10.7)\n",
      "Requirement already satisfied: typing-extensions>=4.2.0 in /opt/conda/lib/python3.11/site-packages (from pydantic<3,>=1->langchain==0.1.14) (4.12.2)\n",
      "Requirement already satisfied: charset-normalizer<4,>=2 in /opt/conda/lib/python3.11/site-packages (from requests<3,>=2->langchain==0.1.14) (3.3.2)\n",
      "Requirement already satisfied: idna<4,>=2.5 in /opt/conda/lib/python3.11/site-packages (from requests<3,>=2->langchain==0.1.14) (3.7)\n",
      "Requirement already satisfied: urllib3<3,>=1.21.1 in /opt/conda/lib/python3.11/site-packages (from requests<3,>=2->langchain==0.1.14) (1.26.19)\n",
      "Requirement already satisfied: certifi>=2017.4.17 in /opt/conda/lib/python3.11/site-packages (from requests<3,>=2->langchain==0.1.14) (2024.7.4)\n",
      "Requirement already satisfied: greenlet!=0.4.17 in /opt/conda/lib/python3.11/site-packages (from SQLAlchemy<3,>=1.4->langchain==0.1.14) (3.0.3)\n",
      "Requirement already satisfied: mypy-extensions>=0.3.0 in /opt/conda/lib/python3.11/site-packages (from typing-inspect<1,>=0.4.0->dataclasses-json<0.7,>=0.5.7->langchain==0.1.14) (1.0.0)\n",
      "Note: you may need to restart the kernel to use updated packages.\n"
     ]
    }
   ],
   "source": [
    "pip install langchain==0.1.14"
   ]
  },
  {
   "cell_type": "code",
   "execution_count": 154,
   "id": "83c3eb82-3e37-4f43-bb7e-88d5bec7f434",
   "metadata": {
    "id": "83c3eb82-3e37-4f43-bb7e-88d5bec7f434",
    "outputId": "72386820-87ec-4499-fb8c-6741bfa83559"
   },
   "outputs": [
    {
     "name": "stdout",
     "output_type": "stream",
     "text": [
      "Requirement already satisfied: boto3==1.34.58 in /opt/conda/lib/python3.11/site-packages (1.34.58)\n",
      "Requirement already satisfied: botocore<1.35.0,>=1.34.58 in /opt/conda/lib/python3.11/site-packages (from boto3==1.34.58) (1.34.131)\n",
      "Requirement already satisfied: jmespath<2.0.0,>=0.7.1 in /opt/conda/lib/python3.11/site-packages (from boto3==1.34.58) (1.0.1)\n",
      "Requirement already satisfied: s3transfer<0.11.0,>=0.10.0 in /opt/conda/lib/python3.11/site-packages (from boto3==1.34.58) (0.10.2)\n",
      "Requirement already satisfied: python-dateutil<3.0.0,>=2.1 in /opt/conda/lib/python3.11/site-packages (from botocore<1.35.0,>=1.34.58->boto3==1.34.58) (2.9.0)\n",
      "Requirement already satisfied: urllib3!=2.2.0,<3,>=1.25.4 in /opt/conda/lib/python3.11/site-packages (from botocore<1.35.0,>=1.34.58->boto3==1.34.58) (1.26.19)\n",
      "Requirement already satisfied: six>=1.5 in /opt/conda/lib/python3.11/site-packages (from python-dateutil<3.0.0,>=2.1->botocore<1.35.0,>=1.34.58->boto3==1.34.58) (1.16.0)\n",
      "Note: you may need to restart the kernel to use updated packages.\n"
     ]
    }
   ],
   "source": [
    "pip install boto3==1.34.58"
   ]
  },
  {
   "cell_type": "code",
   "execution_count": 155,
   "id": "f2db44b7-8505-42eb-86bb-3abac2b1b1db",
   "metadata": {
    "id": "f2db44b7-8505-42eb-86bb-3abac2b1b1db",
    "outputId": "a652d5bf-9732-4125-ccae-0de6164e0d0a"
   },
   "outputs": [
    {
     "name": "stdout",
     "output_type": "stream",
     "text": [
      "Requirement already satisfied: langchain==0.1.14 in /opt/conda/lib/python3.11/site-packages (from -r requirements.txt (line 1)) (0.1.14)\n",
      "Requirement already satisfied: pypdf==4.1.0 in /opt/conda/lib/python3.11/site-packages (from -r requirements.txt (line 2)) (4.1.0)\n",
      "Requirement already satisfied: faiss-cpu==1.8.0 in /opt/conda/lib/python3.11/site-packages (from -r requirements.txt (line 3)) (1.8.0)\n",
      "Requirement already satisfied: boto3==1.34.58 in /opt/conda/lib/python3.11/site-packages (from -r requirements.txt (line 4)) (1.34.58)\n",
      "Requirement already satisfied: sqlalchemy==2.0.29 in /opt/conda/lib/python3.11/site-packages (from -r requirements.txt (line 5)) (2.0.29)\n",
      "Requirement already satisfied: PyYAML>=5.3 in /opt/conda/lib/python3.11/site-packages (from langchain==0.1.14->-r requirements.txt (line 1)) (6.0.2)\n",
      "Requirement already satisfied: aiohttp<4.0.0,>=3.8.3 in /opt/conda/lib/python3.11/site-packages (from langchain==0.1.14->-r requirements.txt (line 1)) (3.9.5)\n",
      "Requirement already satisfied: dataclasses-json<0.7,>=0.5.7 in /opt/conda/lib/python3.11/site-packages (from langchain==0.1.14->-r requirements.txt (line 1)) (0.6.7)\n",
      "Requirement already satisfied: jsonpatch<2.0,>=1.33 in /opt/conda/lib/python3.11/site-packages (from langchain==0.1.14->-r requirements.txt (line 1)) (1.33)\n",
      "Requirement already satisfied: langchain-community<0.1,>=0.0.30 in /opt/conda/lib/python3.11/site-packages (from langchain==0.1.14->-r requirements.txt (line 1)) (0.0.38)\n",
      "Requirement already satisfied: langchain-core<0.2.0,>=0.1.37 in /opt/conda/lib/python3.11/site-packages (from langchain==0.1.14->-r requirements.txt (line 1)) (0.1.52)\n",
      "Requirement already satisfied: langchain-text-splitters<0.1,>=0.0.1 in /opt/conda/lib/python3.11/site-packages (from langchain==0.1.14->-r requirements.txt (line 1)) (0.0.2)\n",
      "Requirement already satisfied: langsmith<0.2.0,>=0.1.17 in /opt/conda/lib/python3.11/site-packages (from langchain==0.1.14->-r requirements.txt (line 1)) (0.1.99)\n",
      "Requirement already satisfied: numpy<2,>=1 in /opt/conda/lib/python3.11/site-packages (from langchain==0.1.14->-r requirements.txt (line 1)) (1.26.4)\n",
      "Requirement already satisfied: pydantic<3,>=1 in /opt/conda/lib/python3.11/site-packages (from langchain==0.1.14->-r requirements.txt (line 1)) (1.10.17)\n",
      "Requirement already satisfied: requests<3,>=2 in /opt/conda/lib/python3.11/site-packages (from langchain==0.1.14->-r requirements.txt (line 1)) (2.32.3)\n",
      "Requirement already satisfied: tenacity<9.0.0,>=8.1.0 in /opt/conda/lib/python3.11/site-packages (from langchain==0.1.14->-r requirements.txt (line 1)) (8.5.0)\n",
      "Requirement already satisfied: botocore<1.35.0,>=1.34.58 in /opt/conda/lib/python3.11/site-packages (from boto3==1.34.58->-r requirements.txt (line 4)) (1.34.131)\n",
      "Requirement already satisfied: jmespath<2.0.0,>=0.7.1 in /opt/conda/lib/python3.11/site-packages (from boto3==1.34.58->-r requirements.txt (line 4)) (1.0.1)\n",
      "Requirement already satisfied: s3transfer<0.11.0,>=0.10.0 in /opt/conda/lib/python3.11/site-packages (from boto3==1.34.58->-r requirements.txt (line 4)) (0.10.2)\n",
      "Requirement already satisfied: typing-extensions>=4.6.0 in /opt/conda/lib/python3.11/site-packages (from sqlalchemy==2.0.29->-r requirements.txt (line 5)) (4.12.2)\n",
      "Requirement already satisfied: greenlet!=0.4.17 in /opt/conda/lib/python3.11/site-packages (from sqlalchemy==2.0.29->-r requirements.txt (line 5)) (3.0.3)\n",
      "Requirement already satisfied: aiosignal>=1.1.2 in /opt/conda/lib/python3.11/site-packages (from aiohttp<4.0.0,>=3.8.3->langchain==0.1.14->-r requirements.txt (line 1)) (1.3.1)\n",
      "Requirement already satisfied: attrs>=17.3.0 in /opt/conda/lib/python3.11/site-packages (from aiohttp<4.0.0,>=3.8.3->langchain==0.1.14->-r requirements.txt (line 1)) (23.2.0)\n",
      "Requirement already satisfied: frozenlist>=1.1.1 in /opt/conda/lib/python3.11/site-packages (from aiohttp<4.0.0,>=3.8.3->langchain==0.1.14->-r requirements.txt (line 1)) (1.4.1)\n",
      "Requirement already satisfied: multidict<7.0,>=4.5 in /opt/conda/lib/python3.11/site-packages (from aiohttp<4.0.0,>=3.8.3->langchain==0.1.14->-r requirements.txt (line 1)) (6.0.5)\n",
      "Requirement already satisfied: yarl<2.0,>=1.0 in /opt/conda/lib/python3.11/site-packages (from aiohttp<4.0.0,>=3.8.3->langchain==0.1.14->-r requirements.txt (line 1)) (1.9.4)\n",
      "Requirement already satisfied: python-dateutil<3.0.0,>=2.1 in /opt/conda/lib/python3.11/site-packages (from botocore<1.35.0,>=1.34.58->boto3==1.34.58->-r requirements.txt (line 4)) (2.9.0)\n",
      "Requirement already satisfied: urllib3!=2.2.0,<3,>=1.25.4 in /opt/conda/lib/python3.11/site-packages (from botocore<1.35.0,>=1.34.58->boto3==1.34.58->-r requirements.txt (line 4)) (1.26.19)\n",
      "Requirement already satisfied: marshmallow<4.0.0,>=3.18.0 in /opt/conda/lib/python3.11/site-packages (from dataclasses-json<0.7,>=0.5.7->langchain==0.1.14->-r requirements.txt (line 1)) (3.21.3)\n",
      "Requirement already satisfied: typing-inspect<1,>=0.4.0 in /opt/conda/lib/python3.11/site-packages (from dataclasses-json<0.7,>=0.5.7->langchain==0.1.14->-r requirements.txt (line 1)) (0.9.0)\n",
      "Requirement already satisfied: jsonpointer>=1.9 in /opt/conda/lib/python3.11/site-packages (from jsonpatch<2.0,>=1.33->langchain==0.1.14->-r requirements.txt (line 1)) (3.0.0)\n",
      "Requirement already satisfied: packaging<24.0,>=23.2 in /opt/conda/lib/python3.11/site-packages (from langchain-core<0.2.0,>=0.1.37->langchain==0.1.14->-r requirements.txt (line 1)) (23.2)\n",
      "Requirement already satisfied: orjson<4.0.0,>=3.9.14 in /opt/conda/lib/python3.11/site-packages (from langsmith<0.2.0,>=0.1.17->langchain==0.1.14->-r requirements.txt (line 1)) (3.10.7)\n",
      "Requirement already satisfied: charset-normalizer<4,>=2 in /opt/conda/lib/python3.11/site-packages (from requests<3,>=2->langchain==0.1.14->-r requirements.txt (line 1)) (3.3.2)\n",
      "Requirement already satisfied: idna<4,>=2.5 in /opt/conda/lib/python3.11/site-packages (from requests<3,>=2->langchain==0.1.14->-r requirements.txt (line 1)) (3.7)\n",
      "Requirement already satisfied: certifi>=2017.4.17 in /opt/conda/lib/python3.11/site-packages (from requests<3,>=2->langchain==0.1.14->-r requirements.txt (line 1)) (2024.7.4)\n",
      "Requirement already satisfied: six>=1.5 in /opt/conda/lib/python3.11/site-packages (from python-dateutil<3.0.0,>=2.1->botocore<1.35.0,>=1.34.58->boto3==1.34.58->-r requirements.txt (line 4)) (1.16.0)\n",
      "Requirement already satisfied: mypy-extensions>=0.3.0 in /opt/conda/lib/python3.11/site-packages (from typing-inspect<1,>=0.4.0->dataclasses-json<0.7,>=0.5.7->langchain==0.1.14->-r requirements.txt (line 1)) (1.0.0)\n"
     ]
    }
   ],
   "source": [
    "!pip install -U -r requirements.txt"
   ]
  },
  {
   "cell_type": "code",
   "execution_count": 156,
   "id": "16247b8a-3f04-443e-b7dc-5a8a2e704e1c",
   "metadata": {
    "id": "16247b8a-3f04-443e-b7dc-5a8a2e704e1c",
    "outputId": "d251dd20-bd45-4caf-8cbc-7d233ae7bd28"
   },
   "outputs": [
    {
     "name": "stdout",
     "output_type": "stream",
     "text": [
      "0.1.14\n"
     ]
    }
   ],
   "source": [
    "import langchain\n",
    "print(langchain.__version__)"
   ]
  },
  {
   "cell_type": "code",
   "execution_count": 157,
   "id": "f416f576-9ac1-4a01-8dbf-bd6ed15c4565",
   "metadata": {
    "id": "f416f576-9ac1-4a01-8dbf-bd6ed15c4565",
    "outputId": "a768f761-5962-47e1-9da6-bffb4a305156"
   },
   "outputs": [],
   "source": [
    "try:\n",
    "    import sagemaker\n",
    "except ImportError:\n",
    "    !pip install sagemaker"
   ]
  },
  {
   "cell_type": "code",
   "execution_count": 13,
   "id": "8e421940-275f-4e09-ae23-7c384265ff36",
   "metadata": {
    "id": "8e421940-275f-4e09-ae23-7c384265ff36"
   },
   "outputs": [],
   "source": [
    "# Import the JumpStartModel class from the SageMaker JumpStart library\n",
    "from sagemaker.jumpstart.model import JumpStartModel"
   ]
  },
  {
   "cell_type": "code",
   "execution_count": 14,
   "id": "2bed3f89-4c20-452e-b13d-37aa6baa6b7a",
   "metadata": {
    "id": "2bed3f89-4c20-452e-b13d-37aa6baa6b7a"
   },
   "outputs": [],
   "source": [
    "# Specify the model ID for the HuggingFace Llama 3 8b Instruct LLM model\n",
    "model_id = \"meta-textgeneration-llama-3-8b-instruct\"\n",
    "accept_eula = True\n",
    "model = JumpStartModel(model_id=model_id, model_version=\"2.7.0\", instance_type= \"ml.g5.2xlarge\")"
   ]
  },
  {
   "cell_type": "code",
   "execution_count": 15,
   "id": "55a2761b-6f4e-4b43-950f-b5484f56a59f",
   "metadata": {
    "id": "55a2761b-6f4e-4b43-950f-b5484f56a59f",
    "outputId": "70e69864-9974-484b-8799-745970b88ead",
    "scrolled": true
   },
   "outputs": [
    {
     "name": "stdout",
     "output_type": "stream",
     "text": [
      "----------------!"
     ]
    }
   ],
   "source": [
    "predictor = model.deploy(accept_eula=accept_eula, instance_type=\"ml.g5.2xlarge\")"
   ]
  },
  {
   "cell_type": "code",
   "execution_count": 16,
   "id": "ee556c54-018e-4229-8ce5-df3f50a39932",
   "metadata": {
    "id": "ee556c54-018e-4229-8ce5-df3f50a39932"
   },
   "outputs": [],
   "source": [
    "# Specify the model ID for the HuggingFace BGE Large EN Embedding model\n",
    "model_id = \"huggingface-sentencesimilarity-bge-large-en-v1-5\"\n",
    "text_embedding_model = JumpStartModel(model_id=model_id,model_version=\"1.1.1\")"
   ]
  },
  {
   "cell_type": "code",
   "execution_count": 17,
   "id": "915c0d77-6a33-4fd5-9172-3a51a82e02fb",
   "metadata": {
    "id": "915c0d77-6a33-4fd5-9172-3a51a82e02fb",
    "outputId": "9622b492-167f-4ba5-8cfb-35fefc016b6c"
   },
   "outputs": [
    {
     "name": "stdout",
     "output_type": "stream",
     "text": [
      "---------!"
     ]
    }
   ],
   "source": [
    "embedding_predictor = text_embedding_model.deploy(instance_type=\"ml.g5.2xlarge\")"
   ]
  },
  {
   "cell_type": "code",
   "execution_count": 158,
   "id": "1e88bc85-bd59-4dd5-b901-7b5bddd89563",
   "metadata": {
    "id": "1e88bc85-bd59-4dd5-b901-7b5bddd89563"
   },
   "outputs": [],
   "source": [
    "import json\n",
    "import sagemaker\n",
    "\n",
    "from langchain_core.prompts import PromptTemplate\n",
    "from langchain_community.llms import SagemakerEndpoint\n",
    "from langchain_community.embeddings import SagemakerEndpointEmbeddings\n",
    "from langchain_community.llms.sagemaker_endpoint import LLMContentHandler\n",
    "from langchain_community.embeddings.sagemaker_endpoint import EmbeddingsContentHandler"
   ]
  },
  {
   "cell_type": "code",
   "execution_count": 159,
   "id": "341ccad9-043e-428f-b1b3-5c2bbfb49626",
   "metadata": {
    "id": "341ccad9-043e-428f-b1b3-5c2bbfb49626"
   },
   "outputs": [],
   "source": [
    "sess = sagemaker.session.Session()\n",
    "region = sess._region_name"
   ]
  },
  {
   "cell_type": "code",
   "execution_count": 160,
   "id": "ce1fcce5-c95f-40c4-894a-9ff8ebcd3c65",
   "metadata": {
    "id": "ce1fcce5-c95f-40c4-894a-9ff8ebcd3c65"
   },
   "outputs": [],
   "source": [
    "llm_endpoint_name = \"meta-textgeneration-llama-3-8b-instruct-2024-10-20-09-25-36-231\"\n",
    "embedding_endpoint_name = \"hf-sentencesimilarity-bge-large-en-v1-5-2024-10-20-09-35-36-025\""
   ]
  },
  {
   "cell_type": "code",
   "execution_count": 161,
   "id": "1d16164e-6a20-420f-b36a-f4a80b8856bf",
   "metadata": {
    "id": "1d16164e-6a20-420f-b36a-f4a80b8856bf"
   },
   "outputs": [],
   "source": [
    "from typing import Dict\n",
    "\n",
    "class Llama38BContentHandler(LLMContentHandler):\n",
    "    content_type = \"application/json\"\n",
    "    accepts = \"application/json\"\n",
    "\n",
    "    def transform_input(self, prompt: str, model_kwargs: dict) -> bytes:\n",
    "        payload = {\n",
    "            \"inputs\": prompt,\n",
    "            # default parameters\n",
    "            \"parameters\": {\n",
    "                # Controls the maximum number of tokens the model can generate\n",
    "                \"max_new_tokens\": 700, #started at 1000\n",
    "                # lower value makes the model more deterministic / higher value allows for more diverse responses\n",
    "                \"top_p\": 0.9,\n",
    "                # randomness\n",
    "                \"temperature\": 0.4, #started at 0.6\n",
    "                \"stop\": [\"<|eot_id|>\"],\n",
    "            },\n",
    "        }\n",
    "        input_str = json.dumps(\n",
    "            payload,\n",
    "        )\n",
    "        print(input_str)\n",
    "        return input_str.encode(\"utf-8\")\n",
    "\n",
    "    def transform_output(self, output: bytes) -> str:\n",
    "        response_json = json.loads(output.read().decode(\"utf-8\"))\n",
    "        print(response_json)\n",
    "        content = response_json[\"generated_text\"].strip()\n",
    "        return content"
   ]
  },
  {
   "cell_type": "code",
   "execution_count": 162,
   "id": "212bc9d6-e447-4543-8f78-055ea54964e1",
   "metadata": {
    "id": "212bc9d6-e447-4543-8f78-055ea54964e1"
   },
   "outputs": [],
   "source": [
    "# Instantiate the content handler for Llama3-8B\n",
    "llama_content_handler = Llama38BContentHandler()\n",
    "\n",
    "# Setup for using the Llama3-8B model with SageMaker Endpoint\n",
    "llm = SagemakerEndpoint(\n",
    "     endpoint_name=llm_endpoint_name,\n",
    "     region_name=region,\n",
    "     model_kwargs={\"max_new_tokens\": 1024, \"top_p\": 0.9, \"temperature\": 0.4},\n",
    "     content_handler=llama_content_handler\n",
    " )"
   ]
  },
  {
   "cell_type": "code",
   "execution_count": 163,
   "id": "049303f4-b4b2-40de-8eab-0327a323344a",
   "metadata": {
    "id": "049303f4-b4b2-40de-8eab-0327a323344a"
   },
   "outputs": [],
   "source": [
    "from typing import List\n",
    "\n",
    "class BGEContentHandlerV15(EmbeddingsContentHandler):\n",
    "    content_type = \"application/json\"\n",
    "    accepts = \"application/json\"\n",
    "\n",
    "    def transform_input(self, text_inputs: List[str], model_kwargs: dict) -> bytes:\n",
    "        \"\"\"\n",
    "        Transforms the input into bytes that can be consumed by SageMaker endpoint.\n",
    "        Args:\n",
    "            text_inputs (list[str]): A list of input text strings to be processed.\n",
    "            model_kwargs (Dict): Additional keyword arguments to be passed to the endpoint.\n",
    "               Possible keys and their descriptions:\n",
    "               - mode (str): Inference method. Valid modes are 'embedding', 'nn_corpus', and 'nn_train_data'.\n",
    "               - corpus (str): Corpus for Nearest Neighbor. Required when mode is 'nn_corpus'.\n",
    "               - top_k (int): Top K for Nearest Neighbor. Required when mode is 'nn_corpus'.\n",
    "               - queries (list[str]): Queries for Nearest Neighbor. Required when mode is 'nn_corpus' or 'nn_train_data'.\n",
    "        Returns:\n",
    "            The transformed bytes input.\n",
    "        \"\"\"\n",
    "        input_str = json.dumps(\n",
    "            {\n",
    "                \"text_inputs\": text_inputs,\n",
    "                **model_kwargs\n",
    "            }\n",
    "        )\n",
    "        return input_str.encode(\"utf-8\")\n",
    "\n",
    "    def transform_output(self, output: bytes) -> List[List[float]]:\n",
    "        \"\"\"\n",
    "        Transforms the bytes output from the endpoint into a list of embeddings.\n",
    "        Args:\n",
    "            output: The bytes output from SageMaker endpoint.\n",
    "        Returns:\n",
    "            The transformed output - list of embeddings\n",
    "        Note:\n",
    "            The length of the outer list is the number of input strings.\n",
    "            The length of the inner lists is the embedding dimension.\n",
    "        \"\"\"\n",
    "        response_json = json.loads(output.read().decode(\"utf-8\"))\n",
    "        return response_json[\"embedding\"]"
   ]
  },
  {
   "cell_type": "code",
   "execution_count": 164,
   "id": "3ac5a543-7597-4e4f-98e5-678d09014751",
   "metadata": {
    "id": "3ac5a543-7597-4e4f-98e5-678d09014751"
   },
   "outputs": [],
   "source": [
    "bge_content_handler = BGEContentHandlerV15()\n",
    "sagemaker_embeddings = SagemakerEndpointEmbeddings(\n",
    "    endpoint_name=embedding_endpoint_name,\n",
    "    region_name=region,\n",
    "    model_kwargs={\"mode\": \"embedding\"},\n",
    "    content_handler=bge_content_handler,\n",
    ")"
   ]
  },
  {
   "cell_type": "code",
   "execution_count": 165,
   "id": "17164921-16c5-4a8e-9c08-43ac5fc899ea",
   "metadata": {},
   "outputs": [
    {
     "name": "stdout",
     "output_type": "stream",
     "text": [
      "Requirement already satisfied: openpyxl in /opt/conda/lib/python3.11/site-packages (3.1.5)\n",
      "Requirement already satisfied: et-xmlfile in /opt/conda/lib/python3.11/site-packages (from openpyxl) (1.1.0)\n"
     ]
    }
   ],
   "source": [
    "!pip install openpyxl"
   ]
  },
  {
   "cell_type": "code",
   "execution_count": 166,
   "id": "4105adc2-dbf6-4de1-847e-e4a7b20ea737",
   "metadata": {
    "id": "4105adc2-dbf6-4de1-847e-e4a7b20ea737",
    "outputId": "085fa715-d31a-4beb-9542-3918c02b390c"
   },
   "outputs": [
    {
     "name": "stdout",
     "output_type": "stream",
     "text": [
      "Excel files in the specified directory:\n",
      "recipe_final1_split_1.xlsx\n"
     ]
    }
   ],
   "source": [
    "import os\n",
    "\n",
    "# Set the directory path to the correct folder\n",
    "#directory_path = 'user-default-efs'\n",
    "\n",
    "contents = os.listdir()\n",
    "# Filter the list to get only PDF files\n",
    "xlsx_files = [item for item in contents if item.endswith('.xlsx')]\n",
    "\n",
    "# Print the PDF files\n",
    "print(\"Excel files in the specified directory:\")\n",
    "for item in xlsx_files:\n",
    "    print(item)"
   ]
  },
  {
   "cell_type": "code",
   "execution_count": 167,
   "id": "eba6953a-43b4-43d5-995f-175e66a4eb81",
   "metadata": {
    "id": "eba6953a-43b4-43d5-995f-175e66a4eb81",
    "outputId": "0ef1cfd7-dc3d-4afa-8501-1ff9589bc4fb"
   },
   "outputs": [],
   "source": [
    "import json\n",
    "from typing import List, Dict\n",
    "from langchain import PromptTemplate\n",
    "from langchain.text_splitter import RecursiveCharacterTextSplitter\n",
    "from langchain_community.vectorstores import FAISS\n",
    "from langchain.indexes.vectorstore import VectorStoreIndexWrapper\n",
    "from langchain.schema import HumanMessage\n",
    "import pandas as pd\n",
    "from langchain.docstore.document import Document\n",
    "\n",
    "# Define the optimized prompt template\n",
    "prompt_template = \"\"\"<|begin_of_text|><|start_header_id|>system<|end_header_id|>\n",
    "You are a helpful assistant specialized in providing recipes. When answering questions about recipes, always structure your response as follows:\n",
    "1. Recipe Name\n",
    "2. Ingredients (as a numbered list)\n",
    "3. Instructions (as a numbered list)\n",
    "4. Any additional notes or tips\n",
    "Ensure that ingredients and instructions are always presented as numbered lists for clarity and ease of use.\n",
    "Use the following context to answer the user's query:\n",
    "{context}\n",
    "<|eot_id|><|start_header_id|>user<|end_header_id|>\n",
    "{query}\n",
    "<|eot_id|><|start_header_id|>assistant<|end_header_id|>\n",
    "Provide a complete recipe following the structure outlined above.\n",
    "\"\"\"\n",
    "\n",
    "PROMPT = PromptTemplate(\n",
    "    template=prompt_template, input_variables=[\"context\", \"query\"]\n",
    ")\n",
    "\n",
    "# 1. Document Processing\n",
    "documents = []\n",
    "metadata = [{} for _ in xlsx_files]  # Initialize metadata for each Excel file\n",
    "\n",
    "for idx, file in enumerate(xlsx_files):\n",
    "    # Load Excel file\n",
    "    df = pd.read_excel(file)\n",
    "    \n",
    "    # Process each row in the Excel file\n",
    "    for _, row in df.iterrows():\n",
    "        recipe = f\"Title: {row['title']}\\nIngredients: {row['ingredients']}\\nInstructions: {row['instructions']}\"\n",
    "        document = Document(page_content=recipe, metadata=metadata[idx])\n",
    "        documents.append(document)\n",
    "\n",
    "# Apply text splitting if needed\n",
    "text_splitter = RecursiveCharacterTextSplitter(\n",
    "    chunk_size=1000,\n",
    "    chunk_overlap=50,\n",
    ")\n",
    "docs = text_splitter.split_documents(documents)\n",
    "\n",
    "# 2. Vector Store Creation\n",
    "vectorstore_faiss = FAISS.from_documents(\n",
    "    docs,\n",
    "    sagemaker_embeddings,\n",
    ")\n",
    "wrapper_store_faiss = VectorStoreIndexWrapper(vectorstore=vectorstore_faiss)\n",
    "\n",
    "# 3. Load Allergens\n",
    "with open('allergens.json', 'r') as f:\n",
    "    allergens = json.load(f)\n",
    "\n",
    "# 4. Define Filtering and Query Functions\n",
    "def filter_documents_by_allergen(docs, allergen):\n",
    "    if allergen:\n",
    "        return [doc for doc in docs if allergen.lower() not in doc.page_content.lower()]\n",
    "    return docs\n",
    "\n",
    "def query_with_allergen_filter(query: str, allergen: str = None):\n",
    "    # Retrieve relevant documents\n",
    "    retrieved_docs = wrapper_store_faiss.vectorstore.similarity_search(query)\n",
    "    \n",
    "    # Filter documents based on allergen\n",
    "    filtered_docs = filter_documents_by_allergen(retrieved_docs, allergen)\n",
    "    \n",
    "    # Generate response using filtered documents\n",
    "    context = \"\\n\".join([doc.page_content for doc in filtered_docs])\n",
    "    \n",
    "    formatted_prompt = PROMPT.format(context=context, query=query)\n",
    "    \n",
    "    # Use the invoke method instead of calling the LLM directly\n",
    "    response = llm.invoke([HumanMessage(content=formatted_prompt)])\n",
    "    \n",
    "    # Check if response is a string or an object with content attribute\n",
    "    if isinstance(response, str):\n",
    "        return response\n",
    "    elif hasattr(response, 'content'):\n",
    "        return response.content\n",
    "    else:\n",
    "        return str(response)  # fallback to string representation\n",
    "\n",
    "# Modify the process_query function to include the allergen information in the query\n",
    "def process_query(user_query: str):\n",
    "    allergen = None\n",
    "    if \"allergic to\" in user_query.lower():\n",
    "        allergen = user_query.lower().split(\"allergic to\")[-1].split(\",\")[0].strip()\n",
    "        query = f\"Please provide a recipe that doesn't include {allergen}. {user_query}\"\n",
    "    else:\n",
    "        query = user_query\n",
    "    \n",
    "    result = query_with_allergen_filter(query, allergen)\n",
    "    return result"
   ]
  },
  {
   "cell_type": "code",
   "execution_count": 168,
   "id": "504931cb-8360-4a16-8e33-5e4c833e57a6",
   "metadata": {},
   "outputs": [
    {
     "name": "stdout",
     "output_type": "stream",
     "text": [
      "{\"inputs\": \"Human: <|begin_of_text|><|start_header_id|>system<|end_header_id|>\\nYou are a helpful assistant specialized in providing recipes. When answering questions about recipes, always structure your response as follows:\\n1. Recipe Name\\n2. Ingredients (as a numbered list)\\n3. Instructions (as a numbered list)\\n4. Any additional notes or tips\\nEnsure that ingredients and instructions are always presented as numbered lists for clarity and ease of use.\\nUse the following context to answer the user's query:\\nTitle: Banana-Cream Cheese Breakfast Cakes\\nIngredients: 8 ounces cream cheese, at room temperature, 1 teaspoon vanilla extract, 2 large egg whites, at room temperature, 1/2 cup sugar, 1 1/2 cups plus 3 tablespoons cake flour, 1 1/2 teaspoons baking soda, 1/2 teaspoon kosher salt, 1 stick plus 2 tablespoons unsalted butter, at room temperature, 1 cup plus 6 tablespoons sugar, 2 teaspoons vanilla extract, 3 large eggs, at room temperature, 3 very ripe bananas, mashed\\nTitle: \\\"V\\\" is for Vegetarian Ragout over Cheese Polenta with Red Pepper Coulis\\nIngredients: 3 tablespoons cornstarch, 1 1/2 cups vegetable broth, 3 ounces (6 tablespoons or 3/4 stick) butter, 2 roasted red bell peppers, seeded and peeled, 1 clove garlic, 2 cups vegetable stock, 2 cups heavy cream, 1 cup cornmeal, 1 cup grated Parmesan, Salt and pepper, 1/8 cup grapeseed oil, 1 onion, medium diced, 2 cloves garlic, chopped, 1 carrot, peeled and diced medium, 1 zucchini, medium dice, 1 yellow squash, medium dice, 1 small eggplant, medium dice, 3 tablespoons tomato paste, 1 tablespoon chopped fresh parsley leaves, 2 teaspoons chopped fresh thyme leaves, 1/4 cup kalamata pitted black olives, cut in 1/2, Kosher salt, Freshly ground black pepper, 2 fresh plum tomatoes, diced, 6 to 8 sprigs fresh basil\\n<|eot_id|><|start_header_id|>user<|end_header_id|>\\nPlease provide a recipe that doesn't include milk. I am allergic to milk, please give me a dairy-free recipe.\\n<|eot_id|><|start_header_id|>assistant<|end_header_id|>\\nProvide a complete recipe following the structure outlined above.\\n\", \"parameters\": {\"max_new_tokens\": 700, \"top_p\": 0.9, \"temperature\": 0.4, \"stop\": [\"<|eot_id|>\"]}}\n",
      "{'generated_text': '**Dairy-Free Banana-Cream Cheese Breakfast Cakes**\\n\\n2. Ingredients:\\n   1. 8 ounces vegan cream cheese (such as Tofutti or Kite Hill), at room temperature\\n   1. 1 teaspoon vanilla extract\\n   2. 2 large egg whites, at room temperature\\n   3. 1/2 cup sugar\\n   4. 1 1/2 cups plus 3 tablespoons cake flour\\n   5. 1 1/2 teaspoons baking soda\\n   6. 1/2 teaspoon kosher salt\\n   7. 1 stick plus 2 tablespoons vegan butter (such as Earth Balance), at room temperature\\n   8. 1 cup plus 6 tablespoons sugar\\n   9. 2 teaspoons vanilla extract\\n   10. 3 large eggs, at room temperature\\n   11. 3 very ripe bananas, mashed\\n\\n3. Instructions:\\n   1. Preheat the oven to 350°F (180°C). Grease a 12-cup muffin tin.\\n   2. In a medium bowl, whisk together the flour, baking soda, and salt.\\n   3. In a large bowl, use an electric mixer to beat the vegan cream cheese until smooth.\\n   4. Add the sugar, egg whites, and vanilla extract to the bowl. Beat until well combined.\\n   5. Add the flour mixture to the bowl and mix until just combined.\\n   6. Melt the vegan butter and let it cool slightly. Add it to the bowl and mix until well combined.\\n   7. Fold in the mashed bananas.\\n   8. Divide the batter evenly among the muffin cups.\\n   9. Bake for 20-25 minutes or until a toothpick inserted into the center of a cake comes out clean.\\n   10. Let the cakes cool in the pan for 5 minutes before transferring them to a wire rack to cool completely.\\n\\n4. Additional notes or tips:\\n   - Make sure to use a high-quality vegan cream cheese that is suitable for baking.\\n   - If you prefer a stronger banana flavor, you can use 4 bananas instead of 3.\\n   - These cakes are best served fresh, but they can be stored in an airtight container at room temperature for up to 3 days or frozen for up to 2 months.'}\n",
      "**Dairy-Free Banana-Cream Cheese Breakfast Cakes**\n",
      "\n",
      "2. Ingredients:\n",
      "   1. 8 ounces vegan cream cheese (such as Tofutti or Kite Hill), at room temperature\n",
      "   1. 1 teaspoon vanilla extract\n",
      "   2. 2 large egg whites, at room temperature\n",
      "   3. 1/2 cup sugar\n",
      "   4. 1 1/2 cups plus 3 tablespoons cake flour\n",
      "   5. 1 1/2 teaspoons baking soda\n",
      "   6. 1/2 teaspoon kosher salt\n",
      "   7. 1 stick plus 2 tablespoons vegan butter (such as Earth Balance), at room temperature\n",
      "   8. 1 cup plus 6 tablespoons sugar\n",
      "   9. 2 teaspoons vanilla extract\n",
      "   10. 3 large eggs, at room temperature\n",
      "   11. 3 very ripe bananas, mashed\n",
      "\n",
      "3. Instructions:\n",
      "   1. Preheat the oven to 350°F (180°C). Grease a 12-cup muffin tin.\n",
      "   2. In a medium bowl, whisk together the flour, baking soda, and salt.\n",
      "   3. In a large bowl, use an electric mixer to beat the vegan cream cheese until smooth.\n",
      "   4. Add the sugar, egg whites, and vanilla extract to the bowl. Beat until well combined.\n",
      "   5. Add the flour mixture to the bowl and mix until just combined.\n",
      "   6. Melt the vegan butter and let it cool slightly. Add it to the bowl and mix until well combined.\n",
      "   7. Fold in the mashed bananas.\n",
      "   8. Divide the batter evenly among the muffin cups.\n",
      "   9. Bake for 20-25 minutes or until a toothpick inserted into the center of a cake comes out clean.\n",
      "   10. Let the cakes cool in the pan for 5 minutes before transferring them to a wire rack to cool completely.\n",
      "\n",
      "4. Additional notes or tips:\n",
      "   - Make sure to use a high-quality vegan cream cheese that is suitable for baking.\n",
      "   - If you prefer a stronger banana flavor, you can use 4 bananas instead of 3.\n",
      "   - These cakes are best served fresh, but they can be stored in an airtight container at room temperature for up to 3 days or frozen for up to 2 months.\n"
     ]
    }
   ],
   "source": [
    "# Example Usage\n",
    "query = \"I am allergic to milk, please give me a dairy-free recipe.\"\n",
    "result = process_query(query)\n",
    "print(result)"
   ]
  },
  {
   "cell_type": "code",
   "execution_count": 169,
   "id": "0720aa8d-e5de-4dba-bd0f-8f7a49642969",
   "metadata": {},
   "outputs": [
    {
     "name": "stdout",
     "output_type": "stream",
     "text": [
      "{\"inputs\": \"Human: <|begin_of_text|><|start_header_id|>system<|end_header_id|>\\nYou are a helpful assistant specialized in providing recipes. When answering questions about recipes, always structure your response as follows:\\n1. Recipe Name\\n2. Ingredients (as a numbered list)\\n3. Instructions (as a numbered list)\\n4. Any additional notes or tips\\nEnsure that ingredients and instructions are always presented as numbered lists for clarity and ease of use.\\nUse the following context to answer the user's query:\\nInstructions: Bring a stockpot of lightly salted water to a boil over high heat. Add the potatoes, and cook until tender, 15 to 20 minutes. Drain potatoes. Cut potatoes into 1/3-inch-thick rounds, and transfer to a bowl. Set aside. Bring a stockpot of lightly salted water to a boil over high heat, and prepare an ice bath. Trim bottoms from Brussels sprouts. Peel away the inner leaves, one by one. Add carrots to boiling water, and cook until tender, about 4 minutes. Using a slotted spoon, transfer carrots to bowl with the potatoes. Add the leaves of the Brussels sprouts to the boiling water, and cook until just tender, about 3 minutes. Using a slotted spoon, transfer leaves to the ice bath to stop the cooking process. Drain in a colander, and add leaves to bowl with carrots and potatoes. In a medium saucepan, bring 1 cup water to a boil. Add the cream, and return to a boil. Boil 2 minutes, reduce heat to low, and whisk in the butter, piece by piece. Add the reserved potatoes, carrots,\\nTitle: Bacon and Brussels Sprout Mac and Cheese\\nIngredients: 4 cups Brussels sprouts, on the larger side, or 1 large stalk, Salt, 1 tablespoon EVOO, 4 ounces center-cut bacon or pancetta, chopped, 3 tablespoons butter, 3 to 4 cloves garlic, chopped, 1 onion, chopped, Freshly ground black pepper, 3 tablespoons flour, 1/2 cup dry white wine, 1 cup grated Parmigiano-Reggiano, 1 cup chicken stock, 3 cups whole milk, Freshly grated nutmeg, 1 pound cavatappi, hollow short curls of pasta with lines, or penne, 1 cup shredded white sharp Cheddar, 1 cup shredded gruyere\\nInstructions: Watch how to make this recipe.\\nPreheat the oven to 375 degrees F.\\nWith a sharp paring knife, core the Brussels sprouts and separate the leaves; place in a large bowl.\\nHeat a large pot of water to boil and salt the water. Parboil the leaves to tender crisp, 2 minutes. Remove with a spider, drain and cool. Dry the leaves on a kitchen towel. Add more water to fill the pot back up for the pasta, return to a boil.\\nTitle: Bean Cassoulet with Fennel Spiced Chicken and Roasted Vegetables\\nIngredients: 12 medium Brussels sprouts, 2 medium red onions, 1/2 cup extra-virgin olive oil, 3 medium parsnips, 3 medium carrots, 3 celery stalks, peeled, Finely ground sea salt, 1/4 cup Fennel Spice Rub, recipe follows, 1 (4 pound) chicken plus 2 bone-in chicken breasts, 2 to 3 garlic cloves, smashed, 1/4 pound pancetta, cut into strips about 1/2-inch thick and 1-inch long, optional, 1 pound giant white beans, such as Corona, precooked or canned with liquid, 1 cup fennel seeds, 3 tablespoons coriander seeds, 2 tablespoons white peppercorns, 3 tablespoons grey salt\\nInstructions: Trim the Brussel sprouts by removing the tough outer leaves and stems. Halve lengthwise. Cook the Brussel sprouts in a cast iron casserole or oven-proof skillet in boiling salted water for 8 to 10 minutes. Drain and set aside.\\nTitle: Bacon and Brussel Sprout Hash\\nIngredients: Extra-virgin olive oil, 4 slices of thick-cut bacon, 4 sprigs fresh thyme, 1 lb of fingerling potatoes, split down the middle, 2 cups Brussel sprouts, cut into thick slices, 1/2 lb red pearl onions, peeled, 1/2 cup low-sodium chicken broth, 2 tablespoons balsamic vinegar, 1/4 bunch flat-leaf parsley, roughly chopped, Kosher salt and freshly ground black pepper\\nInstructions: Set a large saute pan over medium heat and add a 2 count of olive oil. Cut bacon into long strips and add to pan together with thyme. Cook for 5 to 7 minutes to render the fat then strain and set aside. Discard half the fat in the pan then add brussel sprouts, potatoes and pearl onions. Season with salt and pepper and cook until slightly browned. Add chicken stock and steam for 3 to 5 minutes until liquid has evaporated and vegetables are tender. Add balsamic vinegar and toss to coat. Cook until balsamic has reduced then fold in fresh parsley and bacon.\\n<|eot_id|><|start_header_id|>user<|end_header_id|>\\nI have brussel sprouts and carrots, can you give me a healthy dairy-free recipe to make.\\n<|eot_id|><|start_header_id|>assistant<|end_header_id|>\\nProvide a complete recipe following the structure outlined above.\\n\", \"parameters\": {\"max_new_tokens\": 700, \"top_p\": 0.9, \"temperature\": 0.4, \"stop\": [\"<|eot_id|>\"]}}\n",
      "{'generated_text': '**Roasted Brussels Sprouts and Carrots with Lemon-Tahini Sauce**\\n\\nIngredients:\\n\\n1. 1 pound Brussels sprouts, trimmed and halved\\n2. 2 medium carrots, peeled and sliced\\n3. 2 tablespoons olive oil\\n4. 1/2 teaspoon salt\\n5. 1/4 teaspoon black pepper\\n6. 2 cloves garlic, minced\\n7. 2 tablespoons freshly squeezed lemon juice\\n8. 1/4 cup tahini\\n9. 2 tablespoons water\\n10. 1 tablespoon chopped fresh parsley\\n\\nInstructions:\\n\\n1. Preheat the oven to 425°F (220°C).\\n2. In a large bowl, toss Brussels sprouts and carrots with olive oil, salt, and pepper until they are evenly coated.\\n3. Spread the vegetables in a single layer on a baking sheet and roast for 20-25 minutes, or until tender and caramelized.\\n4. In a blender or food processor, combine garlic, lemon juice, tahini, and water. Blend until smooth and creamy.\\n5. Remove the roasted vegetables from the oven and toss with the lemon-tahini sauce.\\n6. Garnish with chopped parsley and serve hot.\\n\\nAdditional notes or tips:\\n\\n* You can adjust the amount of garlic and lemon juice to your taste.\\n* If you prefer a thicker sauce, add more tahini or reduce the amount of water.\\n* This recipe is dairy-free and vegan-friendly, making it a great option for those with dietary restrictions.\\n* You can also add other spices or herbs to the sauce, such as cumin or paprika, to give it a unique flavor.'}\n",
      "**Roasted Brussels Sprouts and Carrots with Lemon-Tahini Sauce**\n",
      "\n",
      "Ingredients:\n",
      "\n",
      "1. 1 pound Brussels sprouts, trimmed and halved\n",
      "2. 2 medium carrots, peeled and sliced\n",
      "3. 2 tablespoons olive oil\n",
      "4. 1/2 teaspoon salt\n",
      "5. 1/4 teaspoon black pepper\n",
      "6. 2 cloves garlic, minced\n",
      "7. 2 tablespoons freshly squeezed lemon juice\n",
      "8. 1/4 cup tahini\n",
      "9. 2 tablespoons water\n",
      "10. 1 tablespoon chopped fresh parsley\n",
      "\n",
      "Instructions:\n",
      "\n",
      "1. Preheat the oven to 425°F (220°C).\n",
      "2. In a large bowl, toss Brussels sprouts and carrots with olive oil, salt, and pepper until they are evenly coated.\n",
      "3. Spread the vegetables in a single layer on a baking sheet and roast for 20-25 minutes, or until tender and caramelized.\n",
      "4. In a blender or food processor, combine garlic, lemon juice, tahini, and water. Blend until smooth and creamy.\n",
      "5. Remove the roasted vegetables from the oven and toss with the lemon-tahini sauce.\n",
      "6. Garnish with chopped parsley and serve hot.\n",
      "\n",
      "Additional notes or tips:\n",
      "\n",
      "* You can adjust the amount of garlic and lemon juice to your taste.\n",
      "* If you prefer a thicker sauce, add more tahini or reduce the amount of water.\n",
      "* This recipe is dairy-free and vegan-friendly, making it a great option for those with dietary restrictions.\n",
      "* You can also add other spices or herbs to the sauce, such as cumin or paprika, to give it a unique flavor.\n"
     ]
    }
   ],
   "source": [
    "# Another Example Usage run previously by Phoebe\n",
    "query = \"I have brussel sprouts and carrots, can you give me a healthy dairy-free recipe to make.\"\n",
    "result = process_query(query)\n",
    "print(result)"
   ]
  },
  {
   "cell_type": "code",
   "execution_count": 170,
   "id": "a4cc5feb-b136-4125-baba-5e8231146eca",
   "metadata": {},
   "outputs": [
    {
     "name": "stdout",
     "output_type": "stream",
     "text": [
      "\n",
      "Query: Give me a recipe for a vegetarian pasta dish.\n",
      "{\"inputs\": \"Human: <|begin_of_text|><|start_header_id|>system<|end_header_id|>\\nYou are a helpful assistant specialized in providing recipes. When answering questions about recipes, always structure your response as follows:\\n1. Recipe Name\\n2. Ingredients (as a numbered list)\\n3. Instructions (as a numbered list)\\n4. Any additional notes or tips\\nEnsure that ingredients and instructions are always presented as numbered lists for clarity and ease of use.\\nUse the following context to answer the user's query:\\nTitle: Baked Pasta with Tomatoes, Shiitakes, and Prosciutto\\nIngredients: 2 cups finely chopped onion, 2 large garlic cloves, minced, 1/4 teaspoon dried hot red pepper flakes, or to taste, 1 teaspoon dried basil, crumbled, 1 teaspoon dried oregano, crumbled, 2 tablespoons olive oil, 1 pound fresh shiitakes, stems discarded and the caps sliced, 8 ounces (1 stick) unsalted butter, 6 tablespoons all-purpose flour, 4 cups milk, 2 (28-ounce) cans Italian whole, peeled tomatoes, drained well and chopped, 1/4 pound thinly sliced prosciutto, cut into strips, 1/4 pound Italian Fontina, grated (about 1 cup), 1/4 pound Gorgonzola, crumbled (about 1 cup), 1 1/2 cups freshly grated Parmesan, 2/3 cup minced fresh parsley leaves, 1 pound penne (quill-shaped pasta) or farfalle (large bow-tie-shaped pasta)\\nTitle: Asparagus and Pistachio Pesto Pasta\\nIngredients: 1 pound thin asparagus, 1/4 cup fresh mint leaves, 1/4 cup fresh flat-leaf parsley leaves, 1/4 cup fresh tarragon leaves or 1/2 cup fresh basil leaves, 1/4 cup grated Parmigiano-Reggiano, 3 to 4 tablespoons toasted pistachios, 1 clove garlic, grated or made into a paste, Juice of 1 lime or 1/2 lemon, 1/3 to 1/2 cup EVOO, Salt and freshly ground pepper, 1 pound penne, 1 cup fresh shelled peas or defrosted frozen organic peas, Shaved Parmigiano-Reggiano, for garnish\\nTitle: Beautiful Leftover Roasted Veg Bruschetta\\nTitle: Angel Hair Pasta with Lemon, Fingerling Potatoes and Sunflower Greens\\nIngredients: 4 to 6 smallish fingerling potatoes (about 4 to 6 ounces total), thoroughly washed and dried, 1 tablespoons extra-virgin olive oil, 2 tablespoons kosher salt, for the pasta water, plus more for seasoning, Freshly ground black pepper, 6 quarts water, 1/2 pound dried angel hair pasta, 1 cup heavy cream, 1 cup sour cream, Zest of 2 lemons, Juice of 1 lemon, Worcestershire sauce, 1 small bunch chives, trimmed and minced, 1/2 cup sunflower greens, 4 to 6 smallish fingerling potatoes (about 4 to 6 ounces total), thoroughly washed and dried, 1 tablespoons extra-virgin olive oil, 2 tablespoons kosher salt, for the pasta water, plus more for seasoning, Freshly ground black pepper, 6 quarts water, 1/2 pound dried angel hair pasta, 1 cup heavy cream, 1 cup sour cream, Zest of 2 lemons, Juice of 1 lemon, Worcestershire sauce, 1 small bunch chives, trimmed and minced, 1/2 cup sunflower greens\\n<|eot_id|><|start_header_id|>user<|end_header_id|>\\nGive me a recipe for a vegetarian pasta dish.\\n<|eot_id|><|start_header_id|>assistant<|end_header_id|>\\nProvide a complete recipe following the structure outlined above.\\n\", \"parameters\": {\"max_new_tokens\": 700, \"top_p\": 0.9, \"temperature\": 0.4, \"stop\": [\"<|eot_id|>\"]}}\n",
      "{'generated_text': '**Asparagus and Pistachio Pesto Pasta**\\n\\n**Ingredients:**\\n\\n1. 1 pound thin asparagus\\n2. 1/4 cup fresh mint leaves\\n3. 1/4 cup fresh flat-leaf parsley leaves\\n4. 1/4 cup fresh tarragon leaves or 1/2 cup fresh basil leaves\\n5. 1/4 cup grated Parmigiano-Reggiano\\n6. 3 to 4 tablespoons toasted pistachios\\n7. 1 clove garlic, grated or made into a paste\\n8. Juice of 1 lime or 1/2 lemon\\n9. 1/3 to 1/2 cup EVOO\\n10. Salt and freshly ground pepper\\n11. 1 pound penne\\n12. 1 cup fresh shelled peas or defrosted frozen organic peas\\n13. Shaved Parmigiano-Reggiano, for garnish\\n\\n**Instructions:**\\n\\n1. Preheat the oven to 425°F (220°C).\\n2. Toss the asparagus with 2 tablespoons of EVOO, salt, and pepper on a baking sheet. Roast for 12-15 minutes, or until tender.\\n3. In a food processor, combine the roasted asparagus, mint, parsley, tarragon, Parmigiano-Reggiano, pistachios, garlic, and a pinch of salt and pepper. Process until smooth.\\n4. Cook the penne according to package instructions. Reserve 1 cup of pasta water before draining.\\n5. In a large bowl, combine the cooked penne, asparagus pesto, and reserved pasta water. Toss until the pasta is well coated.\\n6. Add the peas and toss to combine.\\n7. Season with salt, pepper, and additional EVOO if needed.\\n8. Serve immediately, garnished with shaved Parmigiano-Reggiano.\\n\\n**Additional Notes:**\\n\\n* You can also use frozen asparagus, thawed and drained, if fresh is not available.\\n* Adjust the amount of garlic to your taste.\\n* This recipe makes 4 servings. You can easily double or triple the recipe for a larger crowd.\\n* You can also add some cherry tomatoes or other vegetables to the pesto for added flavor and texture.'}\n",
      "**Asparagus and Pistachio Pesto Pasta**\n",
      "\n",
      "**Ingredients:**\n",
      "\n",
      "1. 1 pound thin asparagus\n",
      "2. 1/4 cup fresh mint leaves\n",
      "3. 1/4 cup fresh flat-leaf parsley leaves\n",
      "4. 1/4 cup fresh tarragon leaves or 1/2 cup fresh basil leaves\n",
      "5. 1/4 cup grated Parmigiano-Reggiano\n",
      "6. 3 to 4 tablespoons toasted pistachios\n",
      "7. 1 clove garlic, grated or made into a paste\n",
      "8. Juice of 1 lime or 1/2 lemon\n",
      "9. 1/3 to 1/2 cup EVOO\n",
      "10. Salt and freshly ground pepper\n",
      "11. 1 pound penne\n",
      "12. 1 cup fresh shelled peas or defrosted frozen organic peas\n",
      "13. Shaved Parmigiano-Reggiano, for garnish\n",
      "\n",
      "**Instructions:**\n",
      "\n",
      "1. Preheat the oven to 425°F (220°C).\n",
      "2. Toss the asparagus with 2 tablespoons of EVOO, salt, and pepper on a baking sheet. Roast for 12-15 minutes, or until tender.\n",
      "3. In a food processor, combine the roasted asparagus, mint, parsley, tarragon, Parmigiano-Reggiano, pistachios, garlic, and a pinch of salt and pepper. Process until smooth.\n",
      "4. Cook the penne according to package instructions. Reserve 1 cup of pasta water before draining.\n",
      "5. In a large bowl, combine the cooked penne, asparagus pesto, and reserved pasta water. Toss until the pasta is well coated.\n",
      "6. Add the peas and toss to combine.\n",
      "7. Season with salt, pepper, and additional EVOO if needed.\n",
      "8. Serve immediately, garnished with shaved Parmigiano-Reggiano.\n",
      "\n",
      "**Additional Notes:**\n",
      "\n",
      "* You can also use frozen asparagus, thawed and drained, if fresh is not available.\n",
      "* Adjust the amount of garlic to your taste.\n",
      "* This recipe makes 4 servings. You can easily double or triple the recipe for a larger crowd.\n",
      "* You can also add some cherry tomatoes or other vegetables to the pesto for added flavor and texture.\n",
      "--------------------------------------------------\n",
      "\n",
      "Query: I'm allergic to nuts. Can you give me a dessert recipe?\n",
      "{\"inputs\": \"Human: <|begin_of_text|><|start_header_id|>system<|end_header_id|>\\nYou are a helpful assistant specialized in providing recipes. When answering questions about recipes, always structure your response as follows:\\n1. Recipe Name\\n2. Ingredients (as a numbered list)\\n3. Instructions (as a numbered list)\\n4. Any additional notes or tips\\nEnsure that ingredients and instructions are always presented as numbered lists for clarity and ease of use.\\nUse the following context to answer the user's query:\\nTitle: Almond Cake with Plum Sauce Filling and Ginger Buttercream\\nIngredients: 2 1/2 cups diced plums, 2 cups sugar, 1/4 cup minced onions, 2 tablespoons apple cider vinegar, 1 tablespoon soy sauce, 1 tablespoon brown sugar, 2 teaspoons grated fresh ginger, 1 teaspoon chile flakes, 2 1/2 cups all-purpose flour, 4 large eggs, 2 cups sugar, 1/2 teaspoon salt, 2 1/4 teaspoons baking powder, 3/4 cup vegetable oil, 1 cup whole milk, 1 1/2 teaspoons almond extract, 1 pound (4 sticks) unsalted butter, 8 teaspoons grated fresh ginger, 2 pounds confectioners' sugar, 2 teaspoons whole milk, 1/2 teaspoon salt\\nTitle: Banana Cake with White Chocolate Macadamia Frosting\\nIngredients: 1 3/4 teaspoons baking powder, 2 tablespoons banana pudding mix, 1 cup white sugar, 1/2 cup buttermilk, 1 ripe banana, mashed, 1/2 cup butter, 2 eggs, Buttercream Frosting, recipe follows, 2 teaspoons vanilla extract, Macadamia nuts, dry roasted and finely chopped, 1 1/2 cups all-purpose flour, 1/2 cup (1 stick) butter, at room temperature, 2 to 3 cups confectioners' sugar, 1/8 to 1/4 cup melted white baking chocolates, 1/2 teaspoon vanilla extract\\nTitle: Banana Peanut Butter Milk Chocolate Cake\\nIngredients: 8 tablespoons (1 stick) unsalted butter, room temperature, plus more for coating pans, 2 1/2 cups sifted cake flour (not self-rising), plus more for dusting, 3/4 teaspoon baking soda, 1/2 teaspoon baking powder, 1/2 teaspoon salt, 1 cup pureed ripe bananas (about 3), 1 teaspoon pure vanilla extract, 1/4 cup buttermilk, 2 tablespoons vegetable shortening, 1 1/2 cups superfine sugar, 3 large eggs, lightly beaten, Milk Chocolate Peanut-Butter Frosting, recipe follows, Peanut Butter Fudge, recipe follows, 1 pound milk chocolate, finely chopped, 8 tablespoons (1 stick) unsalted butter, cut into small pieces, 1 1/2 cups smooth peanut butter, 2 tablespoons milk, 2 tablespoons unsalted butter, chilled, plus more for pan, 3 tablespoons light corn syrup, 1 cup granulated sugar, 3/4 cup packed light-brown sugar, 3/4 cup milk, 1/2 teaspoon salt, Pinch baking soda, 6 tablespoons creamy peanut butter, 1 teaspoon pure vanilla extract\\nTitle: Almond Layer Cake With White Chocolate Frosting\\nIngredients: 1 stick unsalted butter, at room temperature, plus more for the pans, 2 cups cake flour, plus more for dusting, 1 tablespoon baking powder, 1/2 teaspoon salt, 1/2 cup blanched almonds, 5 large egg whites, 1 cup whole milk, 2 teaspoons vanilla extract, 1 1/2 teaspoons almond extract, 1 1/2 cups granulated sugar, White nonpareils or sprinkles, for topping (optional), 8 ounces white chocolate, coarsely chopped, 2 8-ounce packages cream cheese, at room temperature, 1 1/2 sticks (12 tablespoons) unsalted butter, at room temperature, 1 cup confectioners' sugar\\nInstructions: Special equipment: two 9-inch-round cake pans\\n<|eot_id|><|start_header_id|>user<|end_header_id|>\\nPlease provide a recipe that doesn't include nuts. can you give me a dessert recipe?. I'm allergic to nuts. Can you give me a dessert recipe?\\n<|eot_id|><|start_header_id|>assistant<|end_header_id|>\\nProvide a complete recipe following the structure outlined above.\\n\", \"parameters\": {\"max_new_tokens\": 700, \"top_p\": 0.9, \"temperature\": 0.4, \"stop\": [\"<|eot_id|>\"]}}\n",
      "{'generated_text': \"**Lemon Lavender Pound Cake**\\n\\n**Ingredients:**\\n\\n1. 1 1/2 cups (3 sticks) unsalted butter, softened\\n2. 1 3/4 cups granulated sugar\\n3. 4 large eggs, at room temperature\\n4. 2 teaspoons grated lemon zest\\n5. 2 tablespoons freshly squeezed lemon juice\\n6. 2 teaspoons dried lavender buds\\n7. 2 1/4 cups all-purpose flour\\n8. 1 teaspoon baking powder\\n9. 1/2 teaspoon salt\\n10. 1 cup whole milk, at room temperature\\n\\n**Instructions:**\\n\\n1. Preheat the oven to 325°F (165°C). Grease a 9x5-inch loaf pan and line it with parchment paper.\\n2. In a large mixing bowl, cream the butter and sugar until light and fluffy, about 3 minutes.\\n3. Beat in the eggs one at a time, then stir in the lemon zest and juice.\\n4. In a small bowl, whisk together the flour, baking powder, and salt. Add the dry ingredients to the butter mixture and mix until just combined.\\n5. Stir in the milk and lavender buds.\\n6. Pour the batter into the prepared loaf pan and smooth the top.\\n7. Bake for 45-50 minutes or until a toothpick inserted into the center comes out clean.\\n8. Remove from the oven and let cool in the pan for 10 minutes before transferring to a wire rack to cool completely.\\n\\n**Additional Notes:**\\n\\n* Make sure to use high-quality, fresh lavender buds for the best flavor.\\n* If you prefer a stronger lemon flavor, you can increase the lemon zest to 3 teaspoons or add an additional 1-2 tablespoons of lemon juice.\\n* This cake is perfect for spring or summer, and it's a great dessert to serve at a dinner party or special occasion.\"}\n",
      "**Lemon Lavender Pound Cake**\n",
      "\n",
      "**Ingredients:**\n",
      "\n",
      "1. 1 1/2 cups (3 sticks) unsalted butter, softened\n",
      "2. 1 3/4 cups granulated sugar\n",
      "3. 4 large eggs, at room temperature\n",
      "4. 2 teaspoons grated lemon zest\n",
      "5. 2 tablespoons freshly squeezed lemon juice\n",
      "6. 2 teaspoons dried lavender buds\n",
      "7. 2 1/4 cups all-purpose flour\n",
      "8. 1 teaspoon baking powder\n",
      "9. 1/2 teaspoon salt\n",
      "10. 1 cup whole milk, at room temperature\n",
      "\n",
      "**Instructions:**\n",
      "\n",
      "1. Preheat the oven to 325°F (165°C). Grease a 9x5-inch loaf pan and line it with parchment paper.\n",
      "2. In a large mixing bowl, cream the butter and sugar until light and fluffy, about 3 minutes.\n",
      "3. Beat in the eggs one at a time, then stir in the lemon zest and juice.\n",
      "4. In a small bowl, whisk together the flour, baking powder, and salt. Add the dry ingredients to the butter mixture and mix until just combined.\n",
      "5. Stir in the milk and lavender buds.\n",
      "6. Pour the batter into the prepared loaf pan and smooth the top.\n",
      "7. Bake for 45-50 minutes or until a toothpick inserted into the center comes out clean.\n",
      "8. Remove from the oven and let cool in the pan for 10 minutes before transferring to a wire rack to cool completely.\n",
      "\n",
      "**Additional Notes:**\n",
      "\n",
      "* Make sure to use high-quality, fresh lavender buds for the best flavor.\n",
      "* If you prefer a stronger lemon flavor, you can increase the lemon zest to 3 teaspoons or add an additional 1-2 tablespoons of lemon juice.\n",
      "* This cake is perfect for spring or summer, and it's a great dessert to serve at a dinner party or special occasion.\n",
      "--------------------------------------------------\n",
      "\n",
      "Query: I need a gluten-free breakfast recipe.\n",
      "{\"inputs\": \"Human: <|begin_of_text|><|start_header_id|>system<|end_header_id|>\\nYou are a helpful assistant specialized in providing recipes. When answering questions about recipes, always structure your response as follows:\\n1. Recipe Name\\n2. Ingredients (as a numbered list)\\n3. Instructions (as a numbered list)\\n4. Any additional notes or tips\\nEnsure that ingredients and instructions are always presented as numbered lists for clarity and ease of use.\\nUse the following context to answer the user's query:\\nTitle: A Bowl of Gluten-Free Oatmeal\\nIngredients: 1 cup whole milk, 1 cup water, 1/2 teaspoon kosher salt, 1 teaspoon vanilla extract, 1 cup whole rolled gluten-free oats\\nInstructions: Set a saucepan over high heat. Pour in the milk and water. Add the salt and vanilla extract. Bring the liquids to a boil.\\nWhen the milky water is boiling, pour in the oats. Stir quite vigorously. When the water returns to a boil, turn down the heat to low. Simmer the oats, stirring every few minutes, until the oats are creamy and plump, the liquid fully absorbed, about 15 minutes.\\nTurn off the heat and cover the pan. Let the oatmeal sit for five minutes to fully absorb the liquid.\\nTop with your favorite sweetener and fruit. (This one is maple syrup, peaches, and blackberries.)\\nVariations: If you cannot eat dairy, almond milk or hemp milk work well here too.\\nTitle: Artichoke Pancakes with Goat Cheese\\nIngredients: 3 fresh artichokes, 2 lemons, cut in half, Large bowl of ice water, 3 large eggs, 1/4 cup water, 1 teaspoon kosher salt, 1/2 teaspoon black pepper, 1/3 cup all purpose white flour, 2 egg whites, 1 tablespoon olive oil, 3 tablespoons goat cheese, 1 tablespoon sour cream\\nTitle: 3-Ingredient Gluten-Free Banana Pancakes\\nIngredients: 2 large eggs, 1 large banana, 1/4 teaspoon pumpkin pie spice\\nInstructions: Watch how to make this recipe.\\nBlend the eggs, banana and pumpkin pie spice in a blender until smooth.\\nHeat a large nonstick skillet or griddle over medium-low heat. Working in batches, drop silver-dollar portions of the batter (about 1 tablespoon) onto the skillet and cook until golden brown, 1 to 2 minutes per side.\\nTitle: Banana-Cream Cheese Breakfast Cakes\\nIngredients: 8 ounces cream cheese, at room temperature, 1 teaspoon vanilla extract, 2 large egg whites, at room temperature, 1/2 cup sugar, 1 1/2 cups plus 3 tablespoons cake flour, 1 1/2 teaspoons baking soda, 1/2 teaspoon kosher salt, 1 stick plus 2 tablespoons unsalted butter, at room temperature, 1 cup plus 6 tablespoons sugar, 2 teaspoons vanilla extract, 3 large eggs, at room temperature, 3 very ripe bananas, mashed\\n<|eot_id|><|start_header_id|>user<|end_header_id|>\\nI need a gluten-free breakfast recipe.\\n<|eot_id|><|start_header_id|>assistant<|end_header_id|>\\nProvide a complete recipe following the structure outlined above.\\n\", \"parameters\": {\"max_new_tokens\": 700, \"top_p\": 0.9, \"temperature\": 0.4, \"stop\": [\"<|eot_id|>\"]}}\n",
      "{'generated_text': '**Gluten-Free Banana Pancakes**\\n\\n**Ingredients:**\\n\\n1. 2 large eggs\\n2. 1 large banana\\n3. 1/4 teaspoon pumpkin pie spice\\n\\n**Instructions:**\\n\\n1. Watch how to make this recipe.\\n2. Blend the eggs, banana, and pumpkin pie spice in a blender until smooth.\\n3. Heat a large nonstick skillet or griddle over medium-low heat.\\n4. Working in batches, drop silver-dollar portions of the batter (about 1 tablespoon) onto the skillet and cook until golden brown, 1 to 2 minutes per side.\\n\\n**Additional Notes or Tips:**\\n\\n* You can adjust the amount of pumpkin pie spice to your taste.\\n* These pancakes are best served warm with your favorite toppings, such as maple syrup, honey, or fresh fruit.\\n* You can also store leftover pancakes in an airtight container in the refrigerator for up to 3 days and reheat them in the toaster or microwave.'}\n",
      "**Gluten-Free Banana Pancakes**\n",
      "\n",
      "**Ingredients:**\n",
      "\n",
      "1. 2 large eggs\n",
      "2. 1 large banana\n",
      "3. 1/4 teaspoon pumpkin pie spice\n",
      "\n",
      "**Instructions:**\n",
      "\n",
      "1. Watch how to make this recipe.\n",
      "2. Blend the eggs, banana, and pumpkin pie spice in a blender until smooth.\n",
      "3. Heat a large nonstick skillet or griddle over medium-low heat.\n",
      "4. Working in batches, drop silver-dollar portions of the batter (about 1 tablespoon) onto the skillet and cook until golden brown, 1 to 2 minutes per side.\n",
      "\n",
      "**Additional Notes or Tips:**\n",
      "\n",
      "* You can adjust the amount of pumpkin pie spice to your taste.\n",
      "* These pancakes are best served warm with your favorite toppings, such as maple syrup, honey, or fresh fruit.\n",
      "* You can also store leftover pancakes in an airtight container in the refrigerator for up to 3 days and reheat them in the toaster or microwave.\n",
      "--------------------------------------------------\n"
     ]
    }
   ],
   "source": [
    "# Example with multiple queries\n",
    "queries = [\n",
    "    \"Give me a recipe for a vegetarian pasta dish.\",\n",
    "    \"I'm allergic to nuts. Can you give me a dessert recipe?\",\n",
    "    \"I need a gluten-free breakfast recipe.\"\n",
    "]\n",
    "\n",
    "for q in queries:\n",
    "    print(f\"\\nQuery: {q}\")\n",
    "    result = process_query(q)\n",
    "    print(result)\n",
    "    print(\"-\" * 50)"
   ]
  },
  {
   "cell_type": "code",
   "execution_count": 171,
   "id": "3b1b7d44-32ae-4a66-a1c0-f59325fe3b18",
   "metadata": {},
   "outputs": [
    {
     "name": "stdout",
     "output_type": "stream",
     "text": [
      "{\"inputs\": \"Human: <|begin_of_text|><|start_header_id|>system<|end_header_id|>\\nYou are a helpful assistant specialized in providing recipes. When answering questions about recipes, always structure your response as follows:\\n1. Recipe Name\\n2. Ingredients (as a numbered list)\\n3. Instructions (as a numbered list)\\n4. Any additional notes or tips\\nEnsure that ingredients and instructions are always presented as numbered lists for clarity and ease of use.\\nUse the following context to answer the user's query:\\nInstructions: Preheat oven to 450 degrees F.\\nCoat tenderloins in steak seasoning or season with salt and pepper. Combine brown sugar and 5 spice powder. Rub sugar and spice over pork. Brush baking dish or broiler pan with oil. Place pork in oven and bake 10 minutes. Combine barbecue sauce with orange zest and juice and sesame oil. Baste meat liberally with sauce and roast meat 15 minutes longer. Remove meat from oven and transfer to a serving platter. Coat meat with sesame and cilantro or chives for color.\\nCombine mangoes, bell pepper, jalapeno, onion, lime and basil in a bowl. Season with salt, to your taste.\\nPre-heat a large casserole or stock pot. On a plate, mix the cumin, coriander, chile, pepper and sugar. Salt the pieces of pork and season well with the spice mix. Coat the pot with oil and brown the pork on both sides, about 12 minutes. Wipe out pot and coat again with oil. Brown the onions and garlic, about 8 minutes. Deglaze with wine and add the soy, chipotle, bay and cover with water. Check for seasoning. Bring to a boil and let simmer 4 hours until the meat is very soft. Carefully pull out pork and bay leaves. Blend the cooking liquid with a hand blender and check for seasoning. When pork is cool enough to touch, shred the pork by hand. In a large bowl, take 6 cups of shredded pork and mix with the rice, red bells, scallion whites and cilantro. Add the sauce, a small ladle at a time just to moisten the mix. Season and check. Lay the leaves shiny side down, and place 1 cup of filling on each. Wrap by bringing the bottom up first, fold in the sides underneath, then continue\\nHeat 2 tablespoons of olive oil in a medium saute pan over high heat. Sear the tenderloin until evenly colored and transfer to the oven. Cook until the pork reaches the internal temperature of 145 degrees F. Remove from the pan and allow to rest 15 minutes. Thinly slice.\\nWhile tenderloin is in the marinade, in a small pot over high heat add the remaining 2 tablespoons olive oil and saute the onions, fennel, garlic and thyme until just colored. Reduce the heat to low and deglaze with the sake. Cover with a lid and cook for 30 minutes, stirring periodically until the onions are translucent and soft. Remove from heat.\\nIn a small bowl, using a fork, mix in the remaining herbs and the goat cheese and season with and salt and pepper, to taste.\\nWhile the onions are cooking, thinly slice the bread. Rub each piece with a garlic clove and season lightly with salt and pepper. Drizzle each piece with olive oil and bake until golden but still soft in the center, 10 minutes.\\nPreheat oven to 400 degrees F.\\nIn order to achieve uniform cooking, fold over slender tail end of tenderloin and tie with kitchen twine. Set a large electric griddle at its highest setting; brush the tenderloin with the olive oil and sear on all sides until well browned, approximately 10 minutes. Rest the meat for at least 5 minutes or until it is cool to the touch so as not to melt the dough.\\n<|eot_id|><|start_header_id|>user<|end_header_id|>\\nHow to cook a dish with pork tenderloin?\\n<|eot_id|><|start_header_id|>assistant<|end_header_id|>\\nProvide a complete recipe following the structure outlined above.\\n\", \"parameters\": {\"max_new_tokens\": 700, \"top_p\": 0.9, \"temperature\": 0.4, \"stop\": [\"<|eot_id|>\"]}}\n",
      "{'generated_text': '**Asian-Glazed Pork Tenderloin with Sesame and Cilantro**\\n\\n2. Ingredients:\\n\\t1. 1 (1-1.5 pound) pork tenderloin\\n\\t2. 2 tablespoons steak seasoning or salt and pepper\\n\\t3. 2 tablespoons brown sugar\\n\\t4. 1 teaspoon 5-spice powder\\n\\t5. 2 tablespoons sesame oil\\n\\t6. 1/4 cup barbecue sauce\\n\\t7. 1 orange, zested and juiced\\n\\t8. 1/4 cup chopped cilantro or chives\\n\\t9. Sesame seeds for garnish\\n\\n3. Instructions:\\n\\t1. Preheat oven to 450°F (230°C).\\n\\t2. Coat the pork tenderloin with steak seasoning or salt and pepper.\\n\\t3. In a small bowl, mix together brown sugar and 5-spice powder. Rub the mixture all over the pork tenderloin.\\n\\t4. Brush a baking dish or broiler pan with sesame oil. Place the pork tenderloin in the dish and bake for 10 minutes.\\n\\t5. In a small bowl, whisk together barbecue sauce, orange zest, and juice. Brush the glaze all over the pork tenderloin.\\n\\t6. Return the pork to the oven and bake for an additional 15 minutes, or until cooked through.\\n\\t7. Remove the pork from the oven and let it rest for a few minutes. Sprinkle with chopped cilantro or chives and sesame seeds for garnish.\\n\\n4. Additional notes or tips:\\n\\t* Make sure to not overcook the pork tenderloin, as it can become dry and tough.\\n\\t* You can adjust the amount of glaze to your taste, and also add other ingredients like soy sauce or honey to the glaze for added flavor.\\n\\t* Serve with your favorite sides, such as roasted vegetables or a salad.'}\n",
      "**Asian-Glazed Pork Tenderloin with Sesame and Cilantro**\n",
      "\n",
      "2. Ingredients:\n",
      "\t1. 1 (1-1.5 pound) pork tenderloin\n",
      "\t2. 2 tablespoons steak seasoning or salt and pepper\n",
      "\t3. 2 tablespoons brown sugar\n",
      "\t4. 1 teaspoon 5-spice powder\n",
      "\t5. 2 tablespoons sesame oil\n",
      "\t6. 1/4 cup barbecue sauce\n",
      "\t7. 1 orange, zested and juiced\n",
      "\t8. 1/4 cup chopped cilantro or chives\n",
      "\t9. Sesame seeds for garnish\n",
      "\n",
      "3. Instructions:\n",
      "\t1. Preheat oven to 450°F (230°C).\n",
      "\t2. Coat the pork tenderloin with steak seasoning or salt and pepper.\n",
      "\t3. In a small bowl, mix together brown sugar and 5-spice powder. Rub the mixture all over the pork tenderloin.\n",
      "\t4. Brush a baking dish or broiler pan with sesame oil. Place the pork tenderloin in the dish and bake for 10 minutes.\n",
      "\t5. In a small bowl, whisk together barbecue sauce, orange zest, and juice. Brush the glaze all over the pork tenderloin.\n",
      "\t6. Return the pork to the oven and bake for an additional 15 minutes, or until cooked through.\n",
      "\t7. Remove the pork from the oven and let it rest for a few minutes. Sprinkle with chopped cilantro or chives and sesame seeds for garnish.\n",
      "\n",
      "4. Additional notes or tips:\n",
      "\t* Make sure to not overcook the pork tenderloin, as it can become dry and tough.\n",
      "\t* You can adjust the amount of glaze to your taste, and also add other ingredients like soy sauce or honey to the glaze for added flavor.\n",
      "\t* Serve with your favorite sides, such as roasted vegetables or a salad.\n"
     ]
    }
   ],
   "source": [
    "# Another Example Usage run previously by Phoebe\n",
    "query = \"How to cook a dish with pork tenderloin?\"\n",
    "result = process_query(query)\n",
    "print(result)"
   ]
  },
  {
   "cell_type": "code",
   "execution_count": 173,
   "id": "a1f3c811-8e3f-43b5-a32d-930dbd0014df",
   "metadata": {},
   "outputs": [
    {
     "name": "stdout",
     "output_type": "stream",
     "text": [
      "{\"inputs\": \"Human: <|begin_of_text|><|start_header_id|>system<|end_header_id|>\\nYou are a helpful assistant specialized in providing recipes. When answering questions about recipes, always structure your response as follows:\\n1. Recipe Name\\n2. Ingredients (as a numbered list)\\n3. Instructions (as a numbered list)\\n4. Any additional notes or tips\\nEnsure that ingredients and instructions are always presented as numbered lists for clarity and ease of use.\\nUse the following context to answer the user's query:\\nInstructions: Bring a stockpot of lightly salted water to a boil over high heat. Add the potatoes, and cook until tender, 15 to 20 minutes. Drain potatoes. Cut potatoes into 1/3-inch-thick rounds, and transfer to a bowl. Set aside. Bring a stockpot of lightly salted water to a boil over high heat, and prepare an ice bath. Trim bottoms from Brussels sprouts. Peel away the inner leaves, one by one. Add carrots to boiling water, and cook until tender, about 4 minutes. Using a slotted spoon, transfer carrots to bowl with the potatoes. Add the leaves of the Brussels sprouts to the boiling water, and cook until just tender, about 3 minutes. Using a slotted spoon, transfer leaves to the ice bath to stop the cooking process. Drain in a colander, and add leaves to bowl with carrots and potatoes. In a medium saucepan, bring 1 cup water to a boil. Add the cream, and return to a boil. Boil 2 minutes, reduce heat to low, and whisk in the butter, piece by piece. Add the reserved potatoes, carrots,\\nTitle: Bacon and Brussels Sprout Mac and Cheese\\nIngredients: 4 cups Brussels sprouts, on the larger side, or 1 large stalk, Salt, 1 tablespoon EVOO, 4 ounces center-cut bacon or pancetta, chopped, 3 tablespoons butter, 3 to 4 cloves garlic, chopped, 1 onion, chopped, Freshly ground black pepper, 3 tablespoons flour, 1/2 cup dry white wine, 1 cup grated Parmigiano-Reggiano, 1 cup chicken stock, 3 cups whole milk, Freshly grated nutmeg, 1 pound cavatappi, hollow short curls of pasta with lines, or penne, 1 cup shredded white sharp Cheddar, 1 cup shredded gruyere\\nInstructions: Watch how to make this recipe.\\nPreheat the oven to 375 degrees F.\\nWith a sharp paring knife, core the Brussels sprouts and separate the leaves; place in a large bowl.\\nHeat a large pot of water to boil and salt the water. Parboil the leaves to tender crisp, 2 minutes. Remove with a spider, drain and cool. Dry the leaves on a kitchen towel. Add more water to fill the pot back up for the pasta, return to a boil.\\nTitle: Bean Cassoulet with Fennel Spiced Chicken and Roasted Vegetables\\nIngredients: 12 medium Brussels sprouts, 2 medium red onions, 1/2 cup extra-virgin olive oil, 3 medium parsnips, 3 medium carrots, 3 celery stalks, peeled, Finely ground sea salt, 1/4 cup Fennel Spice Rub, recipe follows, 1 (4 pound) chicken plus 2 bone-in chicken breasts, 2 to 3 garlic cloves, smashed, 1/4 pound pancetta, cut into strips about 1/2-inch thick and 1-inch long, optional, 1 pound giant white beans, such as Corona, precooked or canned with liquid, 1 cup fennel seeds, 3 tablespoons coriander seeds, 2 tablespoons white peppercorns, 3 tablespoons grey salt\\nInstructions: Trim the Brussel sprouts by removing the tough outer leaves and stems. Halve lengthwise. Cook the Brussel sprouts in a cast iron casserole or oven-proof skillet in boiling salted water for 8 to 10 minutes. Drain and set aside.\\nTitle: Bacon and Brussel Sprout Hash\\nIngredients: Extra-virgin olive oil, 4 slices of thick-cut bacon, 4 sprigs fresh thyme, 1 lb of fingerling potatoes, split down the middle, 2 cups Brussel sprouts, cut into thick slices, 1/2 lb red pearl onions, peeled, 1/2 cup low-sodium chicken broth, 2 tablespoons balsamic vinegar, 1/4 bunch flat-leaf parsley, roughly chopped, Kosher salt and freshly ground black pepper\\nInstructions: Set a large saute pan over medium heat and add a 2 count of olive oil. Cut bacon into long strips and add to pan together with thyme. Cook for 5 to 7 minutes to render the fat then strain and set aside. Discard half the fat in the pan then add brussel sprouts, potatoes and pearl onions. Season with salt and pepper and cook until slightly browned. Add chicken stock and steam for 3 to 5 minutes until liquid has evaporated and vegetables are tender. Add balsamic vinegar and toss to coat. Cook until balsamic has reduced then fold in fresh parsley and bacon.\\n<|eot_id|><|start_header_id|>user<|end_header_id|>\\nI have brussel sprouts and carrots, can you give me a healthy dairy-free recipe to make.\\n<|eot_id|><|start_header_id|>assistant<|end_header_id|>\\nProvide a complete recipe following the structure outlined above.\\n\", \"parameters\": {\"max_new_tokens\": 700, \"top_p\": 0.9, \"temperature\": 0.4, \"stop\": [\"<|eot_id|>\"]}}\n",
      "{'generated_text': '**Roasted Brussels Sprouts and Carrots with Lemon-Tahini Sauce**\\n\\nIngredients:\\n\\n1. 1 pound Brussels sprouts, trimmed and halved\\n2. 2 medium carrots, peeled and sliced\\n3. 2 tablespoons olive oil\\n4. 1/2 teaspoon salt\\n5. 1/4 teaspoon black pepper\\n6. 2 cloves garlic, minced\\n7. 2 tablespoons freshly squeezed lemon juice\\n8. 1/4 cup tahini\\n9. 2 tablespoons water\\n10. 1 tablespoon chopped fresh parsley\\n\\nInstructions:\\n\\n1. Preheat the oven to 425°F (220°C).\\n2. In a large bowl, toss Brussels sprouts and carrots with olive oil, salt, and pepper until they are evenly coated.\\n3. Spread the vegetables in a single layer on a baking sheet and roast for 20-25 minutes, or until tender and caramelized.\\n4. In a blender or food processor, combine garlic, lemon juice, tahini, and water. Blend until smooth and creamy.\\n5. Remove the roasted vegetables from the oven and toss with the lemon-tahini sauce.\\n6. Garnish with chopped parsley and serve hot.\\n\\nAdditional notes or tips:\\n\\n* You can adjust the amount of garlic and lemon juice to your taste.\\n* If you prefer a thicker sauce, add more tahini or reduce the amount of water.\\n* This recipe is dairy-free and vegan-friendly, making it a great option for those with dietary restrictions.\\n* You can also add other spices or herbs to the sauce, such as cumin or paprika, to give it a unique flavor.'}\n",
      "**Roasted Brussels Sprouts and Carrots with Lemon-Tahini Sauce**\n",
      "\n",
      "Ingredients:\n",
      "\n",
      "1. 1 pound Brussels sprouts, trimmed and halved\n",
      "2. 2 medium carrots, peeled and sliced\n",
      "3. 2 tablespoons olive oil\n",
      "4. 1/2 teaspoon salt\n",
      "5. 1/4 teaspoon black pepper\n",
      "6. 2 cloves garlic, minced\n",
      "7. 2 tablespoons freshly squeezed lemon juice\n",
      "8. 1/4 cup tahini\n",
      "9. 2 tablespoons water\n",
      "10. 1 tablespoon chopped fresh parsley\n",
      "\n",
      "Instructions:\n",
      "\n",
      "1. Preheat the oven to 425°F (220°C).\n",
      "2. In a large bowl, toss Brussels sprouts and carrots with olive oil, salt, and pepper until they are evenly coated.\n",
      "3. Spread the vegetables in a single layer on a baking sheet and roast for 20-25 minutes, or until tender and caramelized.\n",
      "4. In a blender or food processor, combine garlic, lemon juice, tahini, and water. Blend until smooth and creamy.\n",
      "5. Remove the roasted vegetables from the oven and toss with the lemon-tahini sauce.\n",
      "6. Garnish with chopped parsley and serve hot.\n",
      "\n",
      "Additional notes or tips:\n",
      "\n",
      "* You can adjust the amount of garlic and lemon juice to your taste.\n",
      "* If you prefer a thicker sauce, add more tahini or reduce the amount of water.\n",
      "* This recipe is dairy-free and vegan-friendly, making it a great option for those with dietary restrictions.\n",
      "* You can also add other spices or herbs to the sauce, such as cumin or paprika, to give it a unique flavor.\n"
     ]
    }
   ],
   "source": [
    "# Another query example\n",
    "query = \"I have brussel sprouts and carrots, can you give me a healthy dairy-free recipe to make.\"\n",
    "result = process_query(query)\n",
    "print(result)"
   ]
  },
  {
   "cell_type": "code",
   "execution_count": 174,
   "id": "8c54c36a-ddfb-440b-9102-5ce58da526f8",
   "metadata": {},
   "outputs": [
    {
     "name": "stdout",
     "output_type": "stream",
     "text": [
      "{\"inputs\": \"Human: <|begin_of_text|><|start_header_id|>system<|end_header_id|>\\nYou are a helpful assistant specialized in providing recipes. When answering questions about recipes, always structure your response as follows:\\n1. Recipe Name\\n2. Ingredients (as a numbered list)\\n3. Instructions (as a numbered list)\\n4. Any additional notes or tips\\nEnsure that ingredients and instructions are always presented as numbered lists for clarity and ease of use.\\nUse the following context to answer the user's query:\\nInstructions: Preheat oven to 450 degrees F.\\nCoat tenderloins in steak seasoning or season with salt and pepper. Combine brown sugar and 5 spice powder. Rub sugar and spice over pork. Brush baking dish or broiler pan with oil. Place pork in oven and bake 10 minutes. Combine barbecue sauce with orange zest and juice and sesame oil. Baste meat liberally with sauce and roast meat 15 minutes longer. Remove meat from oven and transfer to a serving platter. Coat meat with sesame and cilantro or chives for color.\\nCombine mangoes, bell pepper, jalapeno, onion, lime and basil in a bowl. Season with salt, to your taste.\\nPre-heat a large casserole or stock pot. On a plate, mix the cumin, coriander, chile, pepper and sugar. Salt the pieces of pork and season well with the spice mix. Coat the pot with oil and brown the pork on both sides, about 12 minutes. Wipe out pot and coat again with oil. Brown the onions and garlic, about 8 minutes. Deglaze with wine and add the soy, chipotle, bay and cover with water. Check for seasoning. Bring to a boil and let simmer 4 hours until the meat is very soft. Carefully pull out pork and bay leaves. Blend the cooking liquid with a hand blender and check for seasoning. When pork is cool enough to touch, shred the pork by hand. In a large bowl, take 6 cups of shredded pork and mix with the rice, red bells, scallion whites and cilantro. Add the sauce, a small ladle at a time just to moisten the mix. Season and check. Lay the leaves shiny side down, and place 1 cup of filling on each. Wrap by bringing the bottom up first, fold in the sides underneath, then continue\\nHeat 2 tablespoons of olive oil in a medium saute pan over high heat. Sear the tenderloin until evenly colored and transfer to the oven. Cook until the pork reaches the internal temperature of 145 degrees F. Remove from the pan and allow to rest 15 minutes. Thinly slice.\\nWhile tenderloin is in the marinade, in a small pot over high heat add the remaining 2 tablespoons olive oil and saute the onions, fennel, garlic and thyme until just colored. Reduce the heat to low and deglaze with the sake. Cover with a lid and cook for 30 minutes, stirring periodically until the onions are translucent and soft. Remove from heat.\\nIn a small bowl, using a fork, mix in the remaining herbs and the goat cheese and season with and salt and pepper, to taste.\\nWhile the onions are cooking, thinly slice the bread. Rub each piece with a garlic clove and season lightly with salt and pepper. Drizzle each piece with olive oil and bake until golden but still soft in the center, 10 minutes.\\nPreheat oven to 400 degrees F.\\nIn order to achieve uniform cooking, fold over slender tail end of tenderloin and tie with kitchen twine. Set a large electric griddle at its highest setting; brush the tenderloin with the olive oil and sear on all sides until well browned, approximately 10 minutes. Rest the meat for at least 5 minutes or until it is cool to the touch so as not to melt the dough.\\n<|eot_id|><|start_header_id|>user<|end_header_id|>\\nHow to cook a dish with pork tenderloin?\\n<|eot_id|><|start_header_id|>assistant<|end_header_id|>\\nProvide a complete recipe following the structure outlined above.\\n\", \"parameters\": {\"max_new_tokens\": 700, \"top_p\": 0.9, \"temperature\": 0.4, \"stop\": [\"<|eot_id|>\"]}}\n",
      "{'generated_text': '**Asian-Glazed Pork Tenderloin with Sesame and Cilantro**\\n\\n2. Ingredients:\\n\\t1. 1 (1-1.5 pound) pork tenderloin\\n\\t2. 2 tablespoons steak seasoning or salt and pepper\\n\\t3. 2 tablespoons brown sugar\\n\\t4. 1 teaspoon 5-spice powder\\n\\t5. 2 tablespoons sesame oil\\n\\t6. 1/4 cup barbecue sauce\\n\\t7. 1 orange, zested and juiced\\n\\t8. 1/4 cup chopped cilantro or chives\\n\\t9. Sesame seeds for garnish\\n\\n3. Instructions:\\n\\t1. Preheat oven to 450°F (230°C).\\n\\t2. Coat the pork tenderloin with steak seasoning or salt and pepper.\\n\\t3. In a small bowl, mix together brown sugar and 5-spice powder. Rub the mixture all over the pork tenderloin.\\n\\t4. Brush a baking dish or broiler pan with sesame oil. Place the pork tenderloin in the dish and bake for 10 minutes.\\n\\t5. In a small bowl, whisk together barbecue sauce, orange zest, and juice. Brush the glaze all over the pork tenderloin.\\n\\t6. Return the pork to the oven and bake for an additional 15 minutes, or until cooked through.\\n\\t7. Remove the pork from the oven and let it rest for a few minutes. Sprinkle with chopped cilantro or chives and sesame seeds for garnish.\\n\\n4. Additional notes or tips:\\n\\t* Make sure to not overcook the pork tenderloin, as it can become dry and tough.\\n\\t* You can adjust the amount of glaze to your taste, and also add other ingredients like soy sauce or honey to the glaze for added flavor.\\n\\t* Serve with your favorite sides, such as roasted vegetables or a salad.'}\n",
      "**Asian-Glazed Pork Tenderloin with Sesame and Cilantro**\n",
      "\n",
      "2. Ingredients:\n",
      "\t1. 1 (1-1.5 pound) pork tenderloin\n",
      "\t2. 2 tablespoons steak seasoning or salt and pepper\n",
      "\t3. 2 tablespoons brown sugar\n",
      "\t4. 1 teaspoon 5-spice powder\n",
      "\t5. 2 tablespoons sesame oil\n",
      "\t6. 1/4 cup barbecue sauce\n",
      "\t7. 1 orange, zested and juiced\n",
      "\t8. 1/4 cup chopped cilantro or chives\n",
      "\t9. Sesame seeds for garnish\n",
      "\n",
      "3. Instructions:\n",
      "\t1. Preheat oven to 450°F (230°C).\n",
      "\t2. Coat the pork tenderloin with steak seasoning or salt and pepper.\n",
      "\t3. In a small bowl, mix together brown sugar and 5-spice powder. Rub the mixture all over the pork tenderloin.\n",
      "\t4. Brush a baking dish or broiler pan with sesame oil. Place the pork tenderloin in the dish and bake for 10 minutes.\n",
      "\t5. In a small bowl, whisk together barbecue sauce, orange zest, and juice. Brush the glaze all over the pork tenderloin.\n",
      "\t6. Return the pork to the oven and bake for an additional 15 minutes, or until cooked through.\n",
      "\t7. Remove the pork from the oven and let it rest for a few minutes. Sprinkle with chopped cilantro or chives and sesame seeds for garnish.\n",
      "\n",
      "4. Additional notes or tips:\n",
      "\t* Make sure to not overcook the pork tenderloin, as it can become dry and tough.\n",
      "\t* You can adjust the amount of glaze to your taste, and also add other ingredients like soy sauce or honey to the glaze for added flavor.\n",
      "\t* Serve with your favorite sides, such as roasted vegetables or a salad.\n"
     ]
    }
   ],
   "source": [
    "# Another Example Usage run previously by Phoebe\n",
    "query = \"How to cook a dish with pork tenderloin?\"\n",
    "result = process_query(query)\n",
    "print(result)"
   ]
  },
  {
   "cell_type": "code",
   "execution_count": null,
   "id": "55839a04-eea9-4534-a77b-af93dd4f631e",
   "metadata": {},
   "outputs": [],
   "source": []
  }
 ],
 "metadata": {
  "colab": {
   "provenance": []
  },
  "kernelspec": {
   "display_name": "Python 3 (ipykernel)",
   "language": "python",
   "name": "python3"
  },
  "language_info": {
   "codemirror_mode": {
    "name": "ipython",
    "version": 3
   },
   "file_extension": ".py",
   "mimetype": "text/x-python",
   "name": "python",
   "nbconvert_exporter": "python",
   "pygments_lexer": "ipython3",
   "version": "3.11.9"
  }
 },
 "nbformat": 4,
 "nbformat_minor": 5
}
