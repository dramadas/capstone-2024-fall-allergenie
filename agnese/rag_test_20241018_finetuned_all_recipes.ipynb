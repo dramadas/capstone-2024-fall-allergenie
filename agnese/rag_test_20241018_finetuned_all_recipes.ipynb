{
 "cells": [
  {
   "cell_type": "markdown",
   "id": "J9y86_KPlUm6",
   "metadata": {
    "id": "J9y86_KPlUm6"
   },
   "source": [
    "**Resource:** https://github.com/aws-samples/Meta-Llama-on-AWS/blob/main/RAG-recipes/llama3-rag-langchain-smjs.ipynb"
   ]
  },
  {
   "cell_type": "markdown",
   "id": "lLuKPKGulaE7",
   "metadata": {
    "id": "lLuKPKGulaE7"
   },
   "source": [
    "* Embedding Model Used: *HuggingFace BGE Large EN Embedding model*\n",
    "* LLM Used: *HuggingFace Llama 3 8b Instruct LLM model*"
   ]
  },
  {
   "cell_type": "code",
   "execution_count": 1,
   "id": "7669e00e-f81b-4054-b7c7-dbf208dd3c7a",
   "metadata": {
    "id": "7669e00e-f81b-4054-b7c7-dbf208dd3c7a",
    "outputId": "59d7c039-b20b-4433-c1f5-543dcb6a6ea0"
   },
   "outputs": [
    {
     "name": "stdout",
     "output_type": "stream",
     "text": [
      "Overwriting requirements.txt\n"
     ]
    }
   ],
   "source": [
    "%%writefile requirements.txt\n",
    "langchain==0.1.14\n",
    "pypdf==4.1.0\n",
    "faiss-cpu==1.8.0\n",
    "boto3==1.34.58\n",
    "sqlalchemy==2.0.29"
   ]
  },
  {
   "cell_type": "code",
   "execution_count": 2,
   "id": "ce21f73c-4334-4d0c-9cbd-f9502a44fb96",
   "metadata": {
    "id": "ce21f73c-4334-4d0c-9cbd-f9502a44fb96",
    "outputId": "7b92100a-28dc-418d-c1be-309e9b4b487d"
   },
   "outputs": [
    {
     "name": "stdout",
     "output_type": "stream",
     "text": [
      "2.0.30\n"
     ]
    }
   ],
   "source": [
    "import sqlalchemy\n",
    "print(sqlalchemy.__version__)"
   ]
  },
  {
   "cell_type": "code",
   "execution_count": 3,
   "id": "755e8bfb-b5d7-4f27-9561-ecd91f3397bf",
   "metadata": {
    "id": "755e8bfb-b5d7-4f27-9561-ecd91f3397bf",
    "outputId": "bfbbac69-0c30-4f48-c029-e840b9c9933a"
   },
   "outputs": [
    {
     "name": "stdout",
     "output_type": "stream",
     "text": [
      "Collecting nvidia-ml-py3==7.352.0\n",
      "  Using cached nvidia_ml_py3-7.352.0-py3-none-any.whl\n",
      "Installing collected packages: nvidia-ml-py3\n",
      "\u001b[31mERROR: pip's dependency resolver does not currently take into account all the packages that are installed. This behaviour is the source of the following dependency conflicts.\n",
      "autogluon-multimodal 1.1.1 requires omegaconf<2.3.0,>=2.1.1, but you have omegaconf 2.3.0 which is incompatible.\n",
      "autogluon-multimodal 1.1.1 requires scikit-learn<1.4.1,>=1.3.0, but you have scikit-learn 1.4.2 which is incompatible.\u001b[0m\u001b[31m\n",
      "\u001b[0mSuccessfully installed nvidia-ml-py3-7.352.0\n",
      "Note: you may need to restart the kernel to use updated packages.\n"
     ]
    }
   ],
   "source": [
    "pip install nvidia-ml-py3==7.352.0"
   ]
  },
  {
   "cell_type": "code",
   "execution_count": 4,
   "id": "2fede8f3-4749-47fa-8905-89487c720eb1",
   "metadata": {
    "id": "2fede8f3-4749-47fa-8905-89487c720eb1",
    "outputId": "9e7879a8-277f-46be-9dce-53b03de83d6f"
   },
   "outputs": [
    {
     "name": "stdout",
     "output_type": "stream",
     "text": [
      "Collecting sqlparse==0.5.0\n",
      "  Using cached sqlparse-0.5.0-py3-none-any.whl.metadata (3.9 kB)\n",
      "Using cached sqlparse-0.5.0-py3-none-any.whl (43 kB)\n",
      "Installing collected packages: sqlparse\n",
      "  Attempting uninstall: sqlparse\n",
      "    Found existing installation: sqlparse 0.5.1\n",
      "    Uninstalling sqlparse-0.5.1:\n",
      "      Successfully uninstalled sqlparse-0.5.1\n",
      "Successfully installed sqlparse-0.5.0\n",
      "Note: you may need to restart the kernel to use updated packages.\n"
     ]
    }
   ],
   "source": [
    "pip install sqlparse==0.5.0"
   ]
  },
  {
   "cell_type": "code",
   "execution_count": 5,
   "id": "381349fb-f83e-4d62-b00b-0404204fb4ff",
   "metadata": {
    "id": "381349fb-f83e-4d62-b00b-0404204fb4ff",
    "outputId": "e8b912b4-4c64-40cc-e374-9e072b9ba61d"
   },
   "outputs": [
    {
     "name": "stdout",
     "output_type": "stream",
     "text": [
      "Collecting scikit-learn==1.3.0\n",
      "  Using cached scikit_learn-1.3.0-cp311-cp311-manylinux_2_17_x86_64.manylinux2014_x86_64.whl.metadata (11 kB)\n",
      "Requirement already satisfied: numpy>=1.17.3 in /opt/conda/lib/python3.11/site-packages (from scikit-learn==1.3.0) (1.26.4)\n",
      "Requirement already satisfied: scipy>=1.5.0 in /opt/conda/lib/python3.11/site-packages (from scikit-learn==1.3.0) (1.12.0)\n",
      "Requirement already satisfied: joblib>=1.1.1 in /opt/conda/lib/python3.11/site-packages (from scikit-learn==1.3.0) (1.4.2)\n",
      "Requirement already satisfied: threadpoolctl>=2.0.0 in /opt/conda/lib/python3.11/site-packages (from scikit-learn==1.3.0) (3.5.0)\n",
      "Using cached scikit_learn-1.3.0-cp311-cp311-manylinux_2_17_x86_64.manylinux2014_x86_64.whl (10.9 MB)\n",
      "Installing collected packages: scikit-learn\n",
      "  Attempting uninstall: scikit-learn\n",
      "    Found existing installation: scikit-learn 1.4.2\n",
      "    Uninstalling scikit-learn-1.4.2:\n",
      "      Successfully uninstalled scikit-learn-1.4.2\n",
      "\u001b[31mERROR: pip's dependency resolver does not currently take into account all the packages that are installed. This behaviour is the source of the following dependency conflicts.\n",
      "autogluon-multimodal 1.1.1 requires omegaconf<2.3.0,>=2.1.1, but you have omegaconf 2.3.0 which is incompatible.\n",
      "autogluon-timeseries 1.1.1 requires gluonts==0.15.1, but you have gluonts 0.14.3 which is incompatible.\u001b[0m\u001b[31m\n",
      "\u001b[0mSuccessfully installed scikit-learn-1.3.0\n",
      "Note: you may need to restart the kernel to use updated packages.\n"
     ]
    }
   ],
   "source": [
    "pip install scikit-learn==1.3.0"
   ]
  },
  {
   "cell_type": "code",
   "execution_count": 6,
   "id": "28ecaeec-934a-44e5-909c-fa3606b3f97e",
   "metadata": {
    "id": "28ecaeec-934a-44e5-909c-fa3606b3f97e",
    "outputId": "cc86bc94-9377-453d-b212-e5c6ba186497"
   },
   "outputs": [
    {
     "name": "stdout",
     "output_type": "stream",
     "text": [
      "Collecting omegaconf==2.2.3\n",
      "  Using cached omegaconf-2.2.3-py3-none-any.whl.metadata (3.9 kB)\n",
      "Requirement already satisfied: antlr4-python3-runtime==4.9.* in /opt/conda/lib/python3.11/site-packages (from omegaconf==2.2.3) (4.9.3)\n",
      "Requirement already satisfied: PyYAML>=5.1.0 in /opt/conda/lib/python3.11/site-packages (from omegaconf==2.2.3) (6.0.2)\n",
      "Using cached omegaconf-2.2.3-py3-none-any.whl (79 kB)\n",
      "Installing collected packages: omegaconf\n",
      "  Attempting uninstall: omegaconf\n",
      "    Found existing installation: omegaconf 2.3.0\n",
      "    Uninstalling omegaconf-2.3.0:\n",
      "      Successfully uninstalled omegaconf-2.3.0\n",
      "Successfully installed omegaconf-2.2.3\n",
      "Note: you may need to restart the kernel to use updated packages.\n"
     ]
    }
   ],
   "source": [
    "pip install omegaconf==2.2.3"
   ]
  },
  {
   "cell_type": "code",
   "execution_count": 7,
   "id": "58c5f5d9-6e4c-4652-896f-0620fe868df9",
   "metadata": {
    "id": "58c5f5d9-6e4c-4652-896f-0620fe868df9",
    "outputId": "b22f02ab-ba73-49ad-c3d8-2ffeb37067a4"
   },
   "outputs": [
    {
     "name": "stdout",
     "output_type": "stream",
     "text": [
      "Collecting gluonts==0.15.1\n",
      "  Using cached gluonts-0.15.1-py3-none-any.whl.metadata (9.9 kB)\n",
      "Requirement already satisfied: numpy~=1.16 in /opt/conda/lib/python3.11/site-packages (from gluonts==0.15.1) (1.26.4)\n",
      "Requirement already satisfied: pandas<3,>=1.0 in /opt/conda/lib/python3.11/site-packages (from gluonts==0.15.1) (2.2.2)\n",
      "Requirement already satisfied: pydantic<3,>=1.7 in /opt/conda/lib/python3.11/site-packages (from gluonts==0.15.1) (1.10.17)\n",
      "Requirement already satisfied: tqdm~=4.23 in /opt/conda/lib/python3.11/site-packages (from gluonts==0.15.1) (4.66.5)\n",
      "Requirement already satisfied: toolz~=0.10 in /opt/conda/lib/python3.11/site-packages (from gluonts==0.15.1) (0.12.1)\n",
      "Requirement already satisfied: typing-extensions~=4.0 in /opt/conda/lib/python3.11/site-packages (from gluonts==0.15.1) (4.12.2)\n",
      "Requirement already satisfied: python-dateutil>=2.8.2 in /opt/conda/lib/python3.11/site-packages (from pandas<3,>=1.0->gluonts==0.15.1) (2.9.0)\n",
      "Requirement already satisfied: pytz>=2020.1 in /opt/conda/lib/python3.11/site-packages (from pandas<3,>=1.0->gluonts==0.15.1) (2023.3)\n",
      "Requirement already satisfied: tzdata>=2022.7 in /opt/conda/lib/python3.11/site-packages (from pandas<3,>=1.0->gluonts==0.15.1) (2024.1)\n",
      "Requirement already satisfied: six>=1.5 in /opt/conda/lib/python3.11/site-packages (from python-dateutil>=2.8.2->pandas<3,>=1.0->gluonts==0.15.1) (1.16.0)\n",
      "Using cached gluonts-0.15.1-py3-none-any.whl (1.5 MB)\n",
      "Installing collected packages: gluonts\n",
      "  Attempting uninstall: gluonts\n",
      "    Found existing installation: gluonts 0.14.3\n",
      "    Uninstalling gluonts-0.14.3:\n",
      "      Successfully uninstalled gluonts-0.14.3\n",
      "Successfully installed gluonts-0.15.1\n",
      "Note: you may need to restart the kernel to use updated packages.\n"
     ]
    }
   ],
   "source": [
    "pip install gluonts==0.15.1"
   ]
  },
  {
   "cell_type": "code",
   "execution_count": 8,
   "id": "5101aaa5-ca70-4840-b647-133cf2bd3274",
   "metadata": {
    "id": "5101aaa5-ca70-4840-b647-133cf2bd3274",
    "outputId": "e22cf26a-e7cd-4b57-e6a7-d6ee4f8e9d91"
   },
   "outputs": [
    {
     "name": "stdout",
     "output_type": "stream",
     "text": [
      "Collecting langchain==0.1.14\n",
      "  Using cached langchain-0.1.14-py3-none-any.whl.metadata (13 kB)\n",
      "Requirement already satisfied: PyYAML>=5.3 in /opt/conda/lib/python3.11/site-packages (from langchain==0.1.14) (6.0.2)\n",
      "Requirement already satisfied: SQLAlchemy<3,>=1.4 in /opt/conda/lib/python3.11/site-packages (from langchain==0.1.14) (2.0.30)\n",
      "Requirement already satisfied: aiohttp<4.0.0,>=3.8.3 in /opt/conda/lib/python3.11/site-packages (from langchain==0.1.14) (3.9.5)\n",
      "Requirement already satisfied: dataclasses-json<0.7,>=0.5.7 in /opt/conda/lib/python3.11/site-packages (from langchain==0.1.14) (0.6.7)\n",
      "Requirement already satisfied: jsonpatch<2.0,>=1.33 in /opt/conda/lib/python3.11/site-packages (from langchain==0.1.14) (1.33)\n",
      "Collecting langchain-community<0.1,>=0.0.30 (from langchain==0.1.14)\n",
      "  Using cached langchain_community-0.0.38-py3-none-any.whl.metadata (8.7 kB)\n",
      "Collecting langchain-core<0.2.0,>=0.1.37 (from langchain==0.1.14)\n",
      "  Using cached langchain_core-0.1.52-py3-none-any.whl.metadata (5.9 kB)\n",
      "Collecting langchain-text-splitters<0.1,>=0.0.1 (from langchain==0.1.14)\n",
      "  Using cached langchain_text_splitters-0.0.2-py3-none-any.whl.metadata (2.2 kB)\n",
      "Requirement already satisfied: langsmith<0.2.0,>=0.1.17 in /opt/conda/lib/python3.11/site-packages (from langchain==0.1.14) (0.1.99)\n",
      "Requirement already satisfied: numpy<2,>=1 in /opt/conda/lib/python3.11/site-packages (from langchain==0.1.14) (1.26.4)\n",
      "Requirement already satisfied: pydantic<3,>=1 in /opt/conda/lib/python3.11/site-packages (from langchain==0.1.14) (1.10.17)\n",
      "Requirement already satisfied: requests<3,>=2 in /opt/conda/lib/python3.11/site-packages (from langchain==0.1.14) (2.32.3)\n",
      "Requirement already satisfied: tenacity<9.0.0,>=8.1.0 in /opt/conda/lib/python3.11/site-packages (from langchain==0.1.14) (8.5.0)\n",
      "Requirement already satisfied: aiosignal>=1.1.2 in /opt/conda/lib/python3.11/site-packages (from aiohttp<4.0.0,>=3.8.3->langchain==0.1.14) (1.3.1)\n",
      "Requirement already satisfied: attrs>=17.3.0 in /opt/conda/lib/python3.11/site-packages (from aiohttp<4.0.0,>=3.8.3->langchain==0.1.14) (23.2.0)\n",
      "Requirement already satisfied: frozenlist>=1.1.1 in /opt/conda/lib/python3.11/site-packages (from aiohttp<4.0.0,>=3.8.3->langchain==0.1.14) (1.4.1)\n",
      "Requirement already satisfied: multidict<7.0,>=4.5 in /opt/conda/lib/python3.11/site-packages (from aiohttp<4.0.0,>=3.8.3->langchain==0.1.14) (6.0.5)\n",
      "Requirement already satisfied: yarl<2.0,>=1.0 in /opt/conda/lib/python3.11/site-packages (from aiohttp<4.0.0,>=3.8.3->langchain==0.1.14) (1.9.4)\n",
      "Requirement already satisfied: marshmallow<4.0.0,>=3.18.0 in /opt/conda/lib/python3.11/site-packages (from dataclasses-json<0.7,>=0.5.7->langchain==0.1.14) (3.21.3)\n",
      "Requirement already satisfied: typing-inspect<1,>=0.4.0 in /opt/conda/lib/python3.11/site-packages (from dataclasses-json<0.7,>=0.5.7->langchain==0.1.14) (0.9.0)\n",
      "Requirement already satisfied: jsonpointer>=1.9 in /opt/conda/lib/python3.11/site-packages (from jsonpatch<2.0,>=1.33->langchain==0.1.14) (3.0.0)\n",
      "Collecting packaging<24.0,>=23.2 (from langchain-core<0.2.0,>=0.1.37->langchain==0.1.14)\n",
      "  Using cached packaging-23.2-py3-none-any.whl.metadata (3.2 kB)\n",
      "Requirement already satisfied: orjson<4.0.0,>=3.9.14 in /opt/conda/lib/python3.11/site-packages (from langsmith<0.2.0,>=0.1.17->langchain==0.1.14) (3.10.7)\n",
      "Requirement already satisfied: typing-extensions>=4.2.0 in /opt/conda/lib/python3.11/site-packages (from pydantic<3,>=1->langchain==0.1.14) (4.12.2)\n",
      "Requirement already satisfied: charset-normalizer<4,>=2 in /opt/conda/lib/python3.11/site-packages (from requests<3,>=2->langchain==0.1.14) (3.3.2)\n",
      "Requirement already satisfied: idna<4,>=2.5 in /opt/conda/lib/python3.11/site-packages (from requests<3,>=2->langchain==0.1.14) (3.7)\n",
      "Requirement already satisfied: urllib3<3,>=1.21.1 in /opt/conda/lib/python3.11/site-packages (from requests<3,>=2->langchain==0.1.14) (1.26.19)\n",
      "Requirement already satisfied: certifi>=2017.4.17 in /opt/conda/lib/python3.11/site-packages (from requests<3,>=2->langchain==0.1.14) (2024.7.4)\n",
      "Requirement already satisfied: greenlet!=0.4.17 in /opt/conda/lib/python3.11/site-packages (from SQLAlchemy<3,>=1.4->langchain==0.1.14) (3.0.3)\n",
      "Requirement already satisfied: mypy-extensions>=0.3.0 in /opt/conda/lib/python3.11/site-packages (from typing-inspect<1,>=0.4.0->dataclasses-json<0.7,>=0.5.7->langchain==0.1.14) (1.0.0)\n",
      "Using cached langchain-0.1.14-py3-none-any.whl (812 kB)\n",
      "Using cached langchain_community-0.0.38-py3-none-any.whl (2.0 MB)\n",
      "Using cached langchain_core-0.1.52-py3-none-any.whl (302 kB)\n",
      "Using cached langchain_text_splitters-0.0.2-py3-none-any.whl (23 kB)\n",
      "Using cached packaging-23.2-py3-none-any.whl (53 kB)\n",
      "Installing collected packages: packaging, langchain-core, langchain-text-splitters, langchain-community, langchain\n",
      "  Attempting uninstall: packaging\n",
      "    Found existing installation: packaging 24.1\n",
      "    Uninstalling packaging-24.1:\n",
      "      Successfully uninstalled packaging-24.1\n",
      "  Attempting uninstall: langchain-core\n",
      "    Found existing installation: langchain-core 0.2.33\n",
      "    Uninstalling langchain-core-0.2.33:\n",
      "      Successfully uninstalled langchain-core-0.2.33\n",
      "  Attempting uninstall: langchain-text-splitters\n",
      "    Found existing installation: langchain-text-splitters 0.2.2\n",
      "    Uninstalling langchain-text-splitters-0.2.2:\n",
      "      Successfully uninstalled langchain-text-splitters-0.2.2\n",
      "  Attempting uninstall: langchain-community\n",
      "    Found existing installation: langchain-community 0.2.12\n",
      "    Uninstalling langchain-community-0.2.12:\n",
      "      Successfully uninstalled langchain-community-0.2.12\n",
      "  Attempting uninstall: langchain\n",
      "    Found existing installation: langchain 0.2.5\n",
      "    Uninstalling langchain-0.2.5:\n",
      "      Successfully uninstalled langchain-0.2.5\n",
      "\u001b[31mERROR: pip's dependency resolver does not currently take into account all the packages that are installed. This behaviour is the source of the following dependency conflicts.\n",
      "jupyter-ai 2.20.0 requires faiss-cpu<=1.8.0, which is not installed.\n",
      "jupyter-ai-magics 2.20.0 requires langchain-community<0.3.0,>=0.1.0, but you have langchain-community 0.0.38 which is incompatible.\n",
      "langchain-aws 0.1.16 requires langchain-core<0.3,>=0.2.29, but you have langchain-core 0.1.52 which is incompatible.\n",
      "sagemaker 2.227.0 requires boto3<2.0,>=1.34.142, but you have boto3 1.34.131 which is incompatible.\n",
      "sparkmagic 0.21.0 requires pandas<2.0.0,>=0.17.1, but you have pandas 2.2.2 which is incompatible.\u001b[0m\u001b[31m\n",
      "\u001b[0mSuccessfully installed langchain-0.1.14 langchain-community-0.0.38 langchain-core-0.1.52 langchain-text-splitters-0.0.2 packaging-23.2\n",
      "Note: you may need to restart the kernel to use updated packages.\n"
     ]
    }
   ],
   "source": [
    "pip install langchain==0.1.14"
   ]
  },
  {
   "cell_type": "code",
   "execution_count": 9,
   "id": "83c3eb82-3e37-4f43-bb7e-88d5bec7f434",
   "metadata": {
    "id": "83c3eb82-3e37-4f43-bb7e-88d5bec7f434",
    "outputId": "72386820-87ec-4499-fb8c-6741bfa83559"
   },
   "outputs": [
    {
     "name": "stdout",
     "output_type": "stream",
     "text": [
      "Collecting boto3==1.34.58\n",
      "  Using cached boto3-1.34.58-py3-none-any.whl.metadata (6.6 kB)\n",
      "Requirement already satisfied: botocore<1.35.0,>=1.34.58 in /opt/conda/lib/python3.11/site-packages (from boto3==1.34.58) (1.34.131)\n",
      "Requirement already satisfied: jmespath<2.0.0,>=0.7.1 in /opt/conda/lib/python3.11/site-packages (from boto3==1.34.58) (1.0.1)\n",
      "Requirement already satisfied: s3transfer<0.11.0,>=0.10.0 in /opt/conda/lib/python3.11/site-packages (from boto3==1.34.58) (0.10.2)\n",
      "Requirement already satisfied: python-dateutil<3.0.0,>=2.1 in /opt/conda/lib/python3.11/site-packages (from botocore<1.35.0,>=1.34.58->boto3==1.34.58) (2.9.0)\n",
      "Requirement already satisfied: urllib3!=2.2.0,<3,>=1.25.4 in /opt/conda/lib/python3.11/site-packages (from botocore<1.35.0,>=1.34.58->boto3==1.34.58) (1.26.19)\n",
      "Requirement already satisfied: six>=1.5 in /opt/conda/lib/python3.11/site-packages (from python-dateutil<3.0.0,>=2.1->botocore<1.35.0,>=1.34.58->boto3==1.34.58) (1.16.0)\n",
      "Using cached boto3-1.34.58-py3-none-any.whl (139 kB)\n",
      "Installing collected packages: boto3\n",
      "  Attempting uninstall: boto3\n",
      "    Found existing installation: boto3 1.34.131\n",
      "    Uninstalling boto3-1.34.131:\n",
      "      Successfully uninstalled boto3-1.34.131\n",
      "\u001b[31mERROR: pip's dependency resolver does not currently take into account all the packages that are installed. This behaviour is the source of the following dependency conflicts.\n",
      "langchain-aws 0.1.16 requires boto3<1.35.0,>=1.34.131, but you have boto3 1.34.58 which is incompatible.\n",
      "langchain-aws 0.1.16 requires langchain-core<0.3,>=0.2.29, but you have langchain-core 0.1.52 which is incompatible.\n",
      "sagemaker 2.227.0 requires boto3<2.0,>=1.34.142, but you have boto3 1.34.58 which is incompatible.\u001b[0m\u001b[31m\n",
      "\u001b[0mSuccessfully installed boto3-1.34.58\n",
      "Note: you may need to restart the kernel to use updated packages.\n"
     ]
    }
   ],
   "source": [
    "pip install boto3==1.34.58"
   ]
  },
  {
   "cell_type": "code",
   "execution_count": 10,
   "id": "f2db44b7-8505-42eb-86bb-3abac2b1b1db",
   "metadata": {
    "id": "f2db44b7-8505-42eb-86bb-3abac2b1b1db",
    "outputId": "a652d5bf-9732-4125-ccae-0de6164e0d0a"
   },
   "outputs": [
    {
     "name": "stdout",
     "output_type": "stream",
     "text": [
      "Requirement already satisfied: langchain==0.1.14 in /opt/conda/lib/python3.11/site-packages (from -r requirements.txt (line 1)) (0.1.14)\n",
      "Collecting pypdf==4.1.0 (from -r requirements.txt (line 2))\n",
      "  Using cached pypdf-4.1.0-py3-none-any.whl.metadata (7.4 kB)\n",
      "Collecting faiss-cpu==1.8.0 (from -r requirements.txt (line 3))\n",
      "  Using cached faiss_cpu-1.8.0-cp311-cp311-manylinux_2_17_x86_64.manylinux2014_x86_64.whl.metadata (3.6 kB)\n",
      "Requirement already satisfied: boto3==1.34.58 in /opt/conda/lib/python3.11/site-packages (from -r requirements.txt (line 4)) (1.34.58)\n",
      "Collecting sqlalchemy==2.0.29 (from -r requirements.txt (line 5))\n",
      "  Using cached SQLAlchemy-2.0.29-cp311-cp311-manylinux_2_17_x86_64.manylinux2014_x86_64.whl.metadata (9.6 kB)\n",
      "Requirement already satisfied: PyYAML>=5.3 in /opt/conda/lib/python3.11/site-packages (from langchain==0.1.14->-r requirements.txt (line 1)) (6.0.2)\n",
      "Requirement already satisfied: aiohttp<4.0.0,>=3.8.3 in /opt/conda/lib/python3.11/site-packages (from langchain==0.1.14->-r requirements.txt (line 1)) (3.9.5)\n",
      "Requirement already satisfied: dataclasses-json<0.7,>=0.5.7 in /opt/conda/lib/python3.11/site-packages (from langchain==0.1.14->-r requirements.txt (line 1)) (0.6.7)\n",
      "Requirement already satisfied: jsonpatch<2.0,>=1.33 in /opt/conda/lib/python3.11/site-packages (from langchain==0.1.14->-r requirements.txt (line 1)) (1.33)\n",
      "Requirement already satisfied: langchain-community<0.1,>=0.0.30 in /opt/conda/lib/python3.11/site-packages (from langchain==0.1.14->-r requirements.txt (line 1)) (0.0.38)\n",
      "Requirement already satisfied: langchain-core<0.2.0,>=0.1.37 in /opt/conda/lib/python3.11/site-packages (from langchain==0.1.14->-r requirements.txt (line 1)) (0.1.52)\n",
      "Requirement already satisfied: langchain-text-splitters<0.1,>=0.0.1 in /opt/conda/lib/python3.11/site-packages (from langchain==0.1.14->-r requirements.txt (line 1)) (0.0.2)\n",
      "Requirement already satisfied: langsmith<0.2.0,>=0.1.17 in /opt/conda/lib/python3.11/site-packages (from langchain==0.1.14->-r requirements.txt (line 1)) (0.1.99)\n",
      "Requirement already satisfied: numpy<2,>=1 in /opt/conda/lib/python3.11/site-packages (from langchain==0.1.14->-r requirements.txt (line 1)) (1.26.4)\n",
      "Requirement already satisfied: pydantic<3,>=1 in /opt/conda/lib/python3.11/site-packages (from langchain==0.1.14->-r requirements.txt (line 1)) (1.10.17)\n",
      "Requirement already satisfied: requests<3,>=2 in /opt/conda/lib/python3.11/site-packages (from langchain==0.1.14->-r requirements.txt (line 1)) (2.32.3)\n",
      "Requirement already satisfied: tenacity<9.0.0,>=8.1.0 in /opt/conda/lib/python3.11/site-packages (from langchain==0.1.14->-r requirements.txt (line 1)) (8.5.0)\n",
      "Requirement already satisfied: botocore<1.35.0,>=1.34.58 in /opt/conda/lib/python3.11/site-packages (from boto3==1.34.58->-r requirements.txt (line 4)) (1.34.131)\n",
      "Requirement already satisfied: jmespath<2.0.0,>=0.7.1 in /opt/conda/lib/python3.11/site-packages (from boto3==1.34.58->-r requirements.txt (line 4)) (1.0.1)\n",
      "Requirement already satisfied: s3transfer<0.11.0,>=0.10.0 in /opt/conda/lib/python3.11/site-packages (from boto3==1.34.58->-r requirements.txt (line 4)) (0.10.2)\n",
      "Requirement already satisfied: typing-extensions>=4.6.0 in /opt/conda/lib/python3.11/site-packages (from sqlalchemy==2.0.29->-r requirements.txt (line 5)) (4.12.2)\n",
      "Requirement already satisfied: greenlet!=0.4.17 in /opt/conda/lib/python3.11/site-packages (from sqlalchemy==2.0.29->-r requirements.txt (line 5)) (3.0.3)\n",
      "Requirement already satisfied: aiosignal>=1.1.2 in /opt/conda/lib/python3.11/site-packages (from aiohttp<4.0.0,>=3.8.3->langchain==0.1.14->-r requirements.txt (line 1)) (1.3.1)\n",
      "Requirement already satisfied: attrs>=17.3.0 in /opt/conda/lib/python3.11/site-packages (from aiohttp<4.0.0,>=3.8.3->langchain==0.1.14->-r requirements.txt (line 1)) (23.2.0)\n",
      "Requirement already satisfied: frozenlist>=1.1.1 in /opt/conda/lib/python3.11/site-packages (from aiohttp<4.0.0,>=3.8.3->langchain==0.1.14->-r requirements.txt (line 1)) (1.4.1)\n",
      "Requirement already satisfied: multidict<7.0,>=4.5 in /opt/conda/lib/python3.11/site-packages (from aiohttp<4.0.0,>=3.8.3->langchain==0.1.14->-r requirements.txt (line 1)) (6.0.5)\n",
      "Requirement already satisfied: yarl<2.0,>=1.0 in /opt/conda/lib/python3.11/site-packages (from aiohttp<4.0.0,>=3.8.3->langchain==0.1.14->-r requirements.txt (line 1)) (1.9.4)\n",
      "Requirement already satisfied: python-dateutil<3.0.0,>=2.1 in /opt/conda/lib/python3.11/site-packages (from botocore<1.35.0,>=1.34.58->boto3==1.34.58->-r requirements.txt (line 4)) (2.9.0)\n",
      "Requirement already satisfied: urllib3!=2.2.0,<3,>=1.25.4 in /opt/conda/lib/python3.11/site-packages (from botocore<1.35.0,>=1.34.58->boto3==1.34.58->-r requirements.txt (line 4)) (1.26.19)\n",
      "Requirement already satisfied: marshmallow<4.0.0,>=3.18.0 in /opt/conda/lib/python3.11/site-packages (from dataclasses-json<0.7,>=0.5.7->langchain==0.1.14->-r requirements.txt (line 1)) (3.21.3)\n",
      "Requirement already satisfied: typing-inspect<1,>=0.4.0 in /opt/conda/lib/python3.11/site-packages (from dataclasses-json<0.7,>=0.5.7->langchain==0.1.14->-r requirements.txt (line 1)) (0.9.0)\n",
      "Requirement already satisfied: jsonpointer>=1.9 in /opt/conda/lib/python3.11/site-packages (from jsonpatch<2.0,>=1.33->langchain==0.1.14->-r requirements.txt (line 1)) (3.0.0)\n",
      "Requirement already satisfied: packaging<24.0,>=23.2 in /opt/conda/lib/python3.11/site-packages (from langchain-core<0.2.0,>=0.1.37->langchain==0.1.14->-r requirements.txt (line 1)) (23.2)\n",
      "Requirement already satisfied: orjson<4.0.0,>=3.9.14 in /opt/conda/lib/python3.11/site-packages (from langsmith<0.2.0,>=0.1.17->langchain==0.1.14->-r requirements.txt (line 1)) (3.10.7)\n",
      "Requirement already satisfied: charset-normalizer<4,>=2 in /opt/conda/lib/python3.11/site-packages (from requests<3,>=2->langchain==0.1.14->-r requirements.txt (line 1)) (3.3.2)\n",
      "Requirement already satisfied: idna<4,>=2.5 in /opt/conda/lib/python3.11/site-packages (from requests<3,>=2->langchain==0.1.14->-r requirements.txt (line 1)) (3.7)\n",
      "Requirement already satisfied: certifi>=2017.4.17 in /opt/conda/lib/python3.11/site-packages (from requests<3,>=2->langchain==0.1.14->-r requirements.txt (line 1)) (2024.7.4)\n",
      "Requirement already satisfied: six>=1.5 in /opt/conda/lib/python3.11/site-packages (from python-dateutil<3.0.0,>=2.1->botocore<1.35.0,>=1.34.58->boto3==1.34.58->-r requirements.txt (line 4)) (1.16.0)\n",
      "Requirement already satisfied: mypy-extensions>=0.3.0 in /opt/conda/lib/python3.11/site-packages (from typing-inspect<1,>=0.4.0->dataclasses-json<0.7,>=0.5.7->langchain==0.1.14->-r requirements.txt (line 1)) (1.0.0)\n",
      "Using cached pypdf-4.1.0-py3-none-any.whl (286 kB)\n",
      "Using cached faiss_cpu-1.8.0-cp311-cp311-manylinux_2_17_x86_64.manylinux2014_x86_64.whl (27.0 MB)\n",
      "Using cached SQLAlchemy-2.0.29-cp311-cp311-manylinux_2_17_x86_64.manylinux2014_x86_64.whl (3.2 MB)\n",
      "Installing collected packages: sqlalchemy, pypdf, faiss-cpu\n",
      "  Attempting uninstall: sqlalchemy\n",
      "    Found existing installation: SQLAlchemy 2.0.30\n",
      "    Uninstalling SQLAlchemy-2.0.30:\n",
      "      Successfully uninstalled SQLAlchemy-2.0.30\n",
      "Successfully installed faiss-cpu-1.8.0 pypdf-4.1.0 sqlalchemy-2.0.32\n"
     ]
    }
   ],
   "source": [
    "!pip install -U -r requirements.txt"
   ]
  },
  {
   "cell_type": "code",
   "execution_count": 11,
   "id": "16247b8a-3f04-443e-b7dc-5a8a2e704e1c",
   "metadata": {
    "id": "16247b8a-3f04-443e-b7dc-5a8a2e704e1c",
    "outputId": "d251dd20-bd45-4caf-8cbc-7d233ae7bd28"
   },
   "outputs": [
    {
     "name": "stdout",
     "output_type": "stream",
     "text": [
      "0.1.14\n"
     ]
    }
   ],
   "source": [
    "import langchain\n",
    "print(langchain.__version__)"
   ]
  },
  {
   "cell_type": "code",
   "execution_count": 12,
   "id": "f416f576-9ac1-4a01-8dbf-bd6ed15c4565",
   "metadata": {
    "id": "f416f576-9ac1-4a01-8dbf-bd6ed15c4565",
    "outputId": "a768f761-5962-47e1-9da6-bffb4a305156"
   },
   "outputs": [
    {
     "name": "stdout",
     "output_type": "stream",
     "text": [
      "sagemaker.config INFO - Not applying SDK defaults from location: /etc/xdg/sagemaker/config.yaml\n",
      "sagemaker.config INFO - Not applying SDK defaults from location: /home/sagemaker-user/.config/sagemaker/config.yaml\n"
     ]
    }
   ],
   "source": [
    "try:\n",
    "    import sagemaker\n",
    "except ImportError:\n",
    "    !pip install sagemaker"
   ]
  },
  {
   "cell_type": "code",
   "execution_count": 13,
   "id": "8e421940-275f-4e09-ae23-7c384265ff36",
   "metadata": {
    "id": "8e421940-275f-4e09-ae23-7c384265ff36"
   },
   "outputs": [],
   "source": [
    "# Import the JumpStartModel class from the SageMaker JumpStart library\n",
    "from sagemaker.jumpstart.model import JumpStartModel"
   ]
  },
  {
   "cell_type": "code",
   "execution_count": 14,
   "id": "2bed3f89-4c20-452e-b13d-37aa6baa6b7a",
   "metadata": {
    "id": "2bed3f89-4c20-452e-b13d-37aa6baa6b7a"
   },
   "outputs": [],
   "source": [
    "# Specify the model ID for the HuggingFace Llama 3 8b Instruct LLM model\n",
    "model_id = \"meta-textgeneration-llama-3-8b-instruct\"\n",
    "accept_eula = True\n",
    "model = JumpStartModel(model_id=model_id, model_version=\"2.7.0\", instance_type= \"ml.g5.2xlarge\")"
   ]
  },
  {
   "cell_type": "code",
   "execution_count": 15,
   "id": "55a2761b-6f4e-4b43-950f-b5484f56a59f",
   "metadata": {
    "id": "55a2761b-6f4e-4b43-950f-b5484f56a59f",
    "outputId": "70e69864-9974-484b-8799-745970b88ead",
    "scrolled": true
   },
   "outputs": [
    {
     "name": "stdout",
     "output_type": "stream",
     "text": [
      "------------------!"
     ]
    }
   ],
   "source": [
    "predictor = model.deploy(accept_eula=accept_eula, instance_type=\"ml.g5.2xlarge\")"
   ]
  },
  {
   "cell_type": "code",
   "execution_count": 16,
   "id": "ee556c54-018e-4229-8ce5-df3f50a39932",
   "metadata": {
    "id": "ee556c54-018e-4229-8ce5-df3f50a39932"
   },
   "outputs": [],
   "source": [
    "# Specify the model ID for the HuggingFace BGE Large EN Embedding model\n",
    "model_id = \"huggingface-sentencesimilarity-bge-large-en-v1-5\"\n",
    "text_embedding_model = JumpStartModel(model_id=model_id,model_version=\"1.1.1\")"
   ]
  },
  {
   "cell_type": "code",
   "execution_count": 17,
   "id": "915c0d77-6a33-4fd5-9172-3a51a82e02fb",
   "metadata": {
    "id": "915c0d77-6a33-4fd5-9172-3a51a82e02fb",
    "outputId": "9622b492-167f-4ba5-8cfb-35fefc016b6c"
   },
   "outputs": [
    {
     "name": "stdout",
     "output_type": "stream",
     "text": [
      "---------!"
     ]
    }
   ],
   "source": [
    "embedding_predictor = text_embedding_model.deploy(instance_type=\"ml.g5.2xlarge\")"
   ]
  },
  {
   "cell_type": "code",
   "execution_count": 18,
   "id": "1e88bc85-bd59-4dd5-b901-7b5bddd89563",
   "metadata": {
    "id": "1e88bc85-bd59-4dd5-b901-7b5bddd89563"
   },
   "outputs": [],
   "source": [
    "import json\n",
    "import sagemaker\n",
    "\n",
    "from langchain_core.prompts import PromptTemplate\n",
    "from langchain_community.llms import SagemakerEndpoint\n",
    "from langchain_community.embeddings import SagemakerEndpointEmbeddings\n",
    "from langchain_community.llms.sagemaker_endpoint import LLMContentHandler\n",
    "from langchain_community.embeddings.sagemaker_endpoint import EmbeddingsContentHandler"
   ]
  },
  {
   "cell_type": "code",
   "execution_count": 19,
   "id": "341ccad9-043e-428f-b1b3-5c2bbfb49626",
   "metadata": {
    "id": "341ccad9-043e-428f-b1b3-5c2bbfb49626"
   },
   "outputs": [],
   "source": [
    "sess = sagemaker.session.Session()\n",
    "region = sess._region_name"
   ]
  },
  {
   "cell_type": "code",
   "execution_count": 20,
   "id": "ce1fcce5-c95f-40c4-894a-9ff8ebcd3c65",
   "metadata": {
    "id": "ce1fcce5-c95f-40c4-894a-9ff8ebcd3c65"
   },
   "outputs": [],
   "source": [
    "llm_endpoint_name = \"meta-textgeneration-llama-3-8b-instruct-2024-10-21-01-56-36-789\"\n",
    "embedding_endpoint_name = \"hf-sentencesimilarity-bge-large-en-v1-5-2024-10-21-02-07-53-002\""
   ]
  },
  {
   "cell_type": "code",
   "execution_count": 21,
   "id": "1d16164e-6a20-420f-b36a-f4a80b8856bf",
   "metadata": {
    "id": "1d16164e-6a20-420f-b36a-f4a80b8856bf"
   },
   "outputs": [],
   "source": [
    "from typing import Dict\n",
    "\n",
    "class Llama38BContentHandler(LLMContentHandler):\n",
    "    content_type = \"application/json\"\n",
    "    accepts = \"application/json\"\n",
    "\n",
    "    def transform_input(self, prompt: str, model_kwargs: dict) -> bytes:\n",
    "        payload = {\n",
    "            \"inputs\": prompt,\n",
    "            # default parameters\n",
    "            \"parameters\": {\n",
    "                # Controls the maximum number of tokens the model can generate\n",
    "                \"max_new_tokens\": 700, #started at 1000\n",
    "                # lower value makes the model more deterministic / higher value allows for more diverse responses\n",
    "                \"top_p\": 0.9,\n",
    "                # randomness\n",
    "                \"temperature\": 0.4, #started at 0.6\n",
    "                \"stop\": [\"<|eot_id|>\"],\n",
    "            },\n",
    "        }\n",
    "        input_str = json.dumps(\n",
    "            payload,\n",
    "        )\n",
    "        print(input_str)\n",
    "        return input_str.encode(\"utf-8\")\n",
    "\n",
    "    def transform_output(self, output: bytes) -> str:\n",
    "        response_json = json.loads(output.read().decode(\"utf-8\"))\n",
    "        print(response_json)\n",
    "        content = response_json[\"generated_text\"].strip()\n",
    "        return content"
   ]
  },
  {
   "cell_type": "code",
   "execution_count": 22,
   "id": "212bc9d6-e447-4543-8f78-055ea54964e1",
   "metadata": {
    "id": "212bc9d6-e447-4543-8f78-055ea54964e1"
   },
   "outputs": [],
   "source": [
    "# Instantiate the content handler for Llama3-8B\n",
    "llama_content_handler = Llama38BContentHandler()\n",
    "\n",
    "# Setup for using the Llama3-8B model with SageMaker Endpoint\n",
    "llm = SagemakerEndpoint(\n",
    "     endpoint_name=llm_endpoint_name,\n",
    "     region_name=region,\n",
    "     model_kwargs={\"max_new_tokens\": 1024, \"top_p\": 0.9, \"temperature\": 0.4},\n",
    "     content_handler=llama_content_handler\n",
    " )"
   ]
  },
  {
   "cell_type": "code",
   "execution_count": 23,
   "id": "049303f4-b4b2-40de-8eab-0327a323344a",
   "metadata": {
    "id": "049303f4-b4b2-40de-8eab-0327a323344a"
   },
   "outputs": [],
   "source": [
    "from typing import List\n",
    "\n",
    "class BGEContentHandlerV15(EmbeddingsContentHandler):\n",
    "    content_type = \"application/json\"\n",
    "    accepts = \"application/json\"\n",
    "\n",
    "    def transform_input(self, text_inputs: List[str], model_kwargs: dict) -> bytes:\n",
    "        \"\"\"\n",
    "        Transforms the input into bytes that can be consumed by SageMaker endpoint.\n",
    "        Args:\n",
    "            text_inputs (list[str]): A list of input text strings to be processed.\n",
    "            model_kwargs (Dict): Additional keyword arguments to be passed to the endpoint.\n",
    "               Possible keys and their descriptions:\n",
    "               - mode (str): Inference method. Valid modes are 'embedding', 'nn_corpus', and 'nn_train_data'.\n",
    "               - corpus (str): Corpus for Nearest Neighbor. Required when mode is 'nn_corpus'.\n",
    "               - top_k (int): Top K for Nearest Neighbor. Required when mode is 'nn_corpus'.\n",
    "               - queries (list[str]): Queries for Nearest Neighbor. Required when mode is 'nn_corpus' or 'nn_train_data'.\n",
    "        Returns:\n",
    "            The transformed bytes input.\n",
    "        \"\"\"\n",
    "        input_str = json.dumps(\n",
    "            {\n",
    "                \"text_inputs\": text_inputs,\n",
    "                **model_kwargs\n",
    "            }\n",
    "        )\n",
    "        return input_str.encode(\"utf-8\")\n",
    "\n",
    "    def transform_output(self, output: bytes) -> List[List[float]]:\n",
    "        \"\"\"\n",
    "        Transforms the bytes output from the endpoint into a list of embeddings.\n",
    "        Args:\n",
    "            output: The bytes output from SageMaker endpoint.\n",
    "        Returns:\n",
    "            The transformed output - list of embeddings\n",
    "        Note:\n",
    "            The length of the outer list is the number of input strings.\n",
    "            The length of the inner lists is the embedding dimension.\n",
    "        \"\"\"\n",
    "        response_json = json.loads(output.read().decode(\"utf-8\"))\n",
    "        return response_json[\"embedding\"]"
   ]
  },
  {
   "cell_type": "code",
   "execution_count": 24,
   "id": "3ac5a543-7597-4e4f-98e5-678d09014751",
   "metadata": {
    "id": "3ac5a543-7597-4e4f-98e5-678d09014751"
   },
   "outputs": [],
   "source": [
    "bge_content_handler = BGEContentHandlerV15()\n",
    "sagemaker_embeddings = SagemakerEndpointEmbeddings(\n",
    "    endpoint_name=embedding_endpoint_name,\n",
    "    region_name=region,\n",
    "    model_kwargs={\"mode\": \"embedding\"},\n",
    "    content_handler=bge_content_handler,\n",
    ")"
   ]
  },
  {
   "cell_type": "code",
   "execution_count": 25,
   "id": "17164921-16c5-4a8e-9c08-43ac5fc899ea",
   "metadata": {},
   "outputs": [
    {
     "name": "stdout",
     "output_type": "stream",
     "text": [
      "Collecting openpyxl\n",
      "  Using cached openpyxl-3.1.5-py2.py3-none-any.whl.metadata (2.5 kB)\n",
      "Collecting et-xmlfile (from openpyxl)\n",
      "  Using cached et_xmlfile-1.1.0-py3-none-any.whl.metadata (1.8 kB)\n",
      "Using cached openpyxl-3.1.5-py2.py3-none-any.whl (250 kB)\n",
      "Using cached et_xmlfile-1.1.0-py3-none-any.whl (4.7 kB)\n",
      "Installing collected packages: et-xmlfile, openpyxl\n",
      "Successfully installed et-xmlfile-1.1.0 openpyxl-3.1.5\n"
     ]
    }
   ],
   "source": [
    "!pip install openpyxl"
   ]
  },
  {
   "cell_type": "code",
   "execution_count": 26,
   "id": "4105adc2-dbf6-4de1-847e-e4a7b20ea737",
   "metadata": {
    "id": "4105adc2-dbf6-4de1-847e-e4a7b20ea737",
    "outputId": "085fa715-d31a-4beb-9542-3918c02b390c"
   },
   "outputs": [
    {
     "name": "stdout",
     "output_type": "stream",
     "text": [
      "Excel files in the specified directory:\n",
      "recipe_final1_split_1.xlsx\n",
      "recipe_final1_split_12.xlsx\n",
      "recipe_final1_split_4.xlsx\n",
      "recipe_final1_split_6.xlsx\n",
      "recipe_final2_split_1.xlsx\n",
      "recipe_final1_split_8.xlsx\n",
      "recipe_final1_split_7.xlsx\n",
      "recipe_final1_split_5.xlsx\n",
      "recipe_final1_split_9.xlsx\n",
      "recipe_final1_split_10.xlsx\n",
      "recipe_final2_split_2.xlsx\n",
      "recipe_final1_split_3.xlsx\n",
      "recipe_final2_split_3.xlsx\n",
      "recipe_final1_split_11.xlsx\n",
      "recipe_final2_split_5.xlsx\n",
      "recipe_final2_split_6.xlsx\n",
      "recipe_final2_split_4.xlsx\n",
      "recipe_final2_split_10.xlsx\n",
      "recipe_final2_split_7.xlsx\n",
      "recipe_final2_split_9.xlsx\n",
      "recipe_final2_split_11.xlsx\n",
      "recipe_final2_split_14.xlsx\n",
      "recipe_final2_split_12.xlsx\n",
      "recipe_final1_split_2.xlsx\n",
      "recipe_final2_split_16.xlsx\n",
      "recipe_final2_split_15.xlsx\n",
      "recipe_final2_split_13.xlsx\n",
      "recipe_final2_split_8.xlsx\n"
     ]
    }
   ],
   "source": [
    "import os\n",
    "\n",
    "# Set the directory path to the correct folder\n",
    "#directory_path = 'user-default-efs'\n",
    "\n",
    "contents = os.listdir()\n",
    "# Filter the list to get only PDF files\n",
    "xlsx_files = [item for item in contents if item.endswith('.xlsx')]\n",
    "\n",
    "# Print the PDF files\n",
    "print(\"Excel files in the specified directory:\")\n",
    "for item in xlsx_files:\n",
    "    print(item)"
   ]
  },
  {
   "cell_type": "code",
   "execution_count": 27,
   "id": "eba6953a-43b4-43d5-995f-175e66a4eb81",
   "metadata": {
    "id": "eba6953a-43b4-43d5-995f-175e66a4eb81",
    "outputId": "0ef1cfd7-dc3d-4afa-8501-1ff9589bc4fb"
   },
   "outputs": [],
   "source": [
    "import json\n",
    "from typing import List, Dict\n",
    "from langchain import PromptTemplate\n",
    "from langchain.text_splitter import RecursiveCharacterTextSplitter\n",
    "from langchain_community.vectorstores import FAISS\n",
    "from langchain.indexes.vectorstore import VectorStoreIndexWrapper\n",
    "from langchain.schema import HumanMessage\n",
    "import pandas as pd\n",
    "from langchain.docstore.document import Document\n",
    "\n",
    "# Define the optimized prompt template\n",
    "prompt_template = \"\"\"<|begin_of_text|><|start_header_id|>system<|end_header_id|>\n",
    "You are a helpful assistant specialized in providing recipes. When answering questions about recipes, always structure your response as follows:\n",
    "1. Recipe Name\n",
    "2. Ingredients (as a numbered list)\n",
    "3. Instructions (as a numbered list)\n",
    "4. Any additional notes or tips\n",
    "Ensure that ingredients and instructions are always presented as numbered lists for clarity and ease of use.\n",
    "Use the following context to answer the user's query:\n",
    "{context}\n",
    "<|eot_id|><|start_header_id|>user<|end_header_id|>\n",
    "{query}\n",
    "<|eot_id|><|start_header_id|>assistant<|end_header_id|>\n",
    "Provide a complete recipe following the structure outlined above.\n",
    "\"\"\"\n",
    "\n",
    "PROMPT = PromptTemplate(\n",
    "    template=prompt_template, input_variables=[\"context\", \"query\"]\n",
    ")\n",
    "\n",
    "# 1. Document Processing\n",
    "documents = []\n",
    "metadata = [{} for _ in xlsx_files]  # Initialize metadata for each Excel file\n",
    "\n",
    "for idx, file in enumerate(xlsx_files):\n",
    "    # Load Excel file\n",
    "    df = pd.read_excel(file)\n",
    "    \n",
    "    # Process each row in the Excel file\n",
    "    for _, row in df.iterrows():\n",
    "        recipe = f\"Title: {row['title']}\\nIngredients: {row['ingredients']}\\nInstructions: {row['instructions']}\"\n",
    "        document = Document(page_content=recipe, metadata=metadata[idx])\n",
    "        documents.append(document)\n",
    "\n",
    "# Apply text splitting if needed\n",
    "text_splitter = RecursiveCharacterTextSplitter(\n",
    "    chunk_size=1000,\n",
    "    chunk_overlap=50,\n",
    ")\n",
    "docs = text_splitter.split_documents(documents)\n",
    "\n",
    "# 2. Vector Store Creation\n",
    "vectorstore_faiss = FAISS.from_documents(\n",
    "    docs,\n",
    "    sagemaker_embeddings,\n",
    ")\n",
    "wrapper_store_faiss = VectorStoreIndexWrapper(vectorstore=vectorstore_faiss)\n",
    "\n",
    "# 3. Load Allergens\n",
    "with open('allergens.json', 'r') as f:\n",
    "    allergens = json.load(f)\n",
    "\n",
    "# 4. Define Filtering and Query Functions\n",
    "def filter_documents_by_allergen(docs, allergen):\n",
    "    if allergen:\n",
    "        return [doc for doc in docs if allergen.lower() not in doc.page_content.lower()]\n",
    "    return docs\n",
    "\n",
    "def query_with_allergen_filter(query: str, allergen: str = None):\n",
    "    # Retrieve relevant documents\n",
    "    retrieved_docs = wrapper_store_faiss.vectorstore.similarity_search(query)\n",
    "    \n",
    "    # Filter documents based on allergen\n",
    "    filtered_docs = filter_documents_by_allergen(retrieved_docs, allergen)\n",
    "    \n",
    "    # Generate response using filtered documents\n",
    "    context = \"\\n\".join([doc.page_content for doc in filtered_docs])\n",
    "    \n",
    "    formatted_prompt = PROMPT.format(context=context, query=query)\n",
    "    \n",
    "    # Use the invoke method instead of calling the LLM directly\n",
    "    response = llm.invoke([HumanMessage(content=formatted_prompt)])\n",
    "    \n",
    "    # Check if response is a string or an object with content attribute\n",
    "    if isinstance(response, str):\n",
    "        return response\n",
    "    elif hasattr(response, 'content'):\n",
    "        return response.content\n",
    "    else:\n",
    "        return str(response)  # fallback to string representation\n",
    "\n",
    "# Modify the process_query function to include the allergen information in the query\n",
    "def process_query(user_query: str):\n",
    "    allergen = None\n",
    "    if \"allergic to\" in user_query.lower():\n",
    "        allergen = user_query.lower().split(\"allergic to\")[-1].split(\",\")[0].strip()\n",
    "        query = f\"Please provide a recipe that doesn't include {allergen}. {user_query}\"\n",
    "    else:\n",
    "        query = user_query\n",
    "    \n",
    "    result = query_with_allergen_filter(query, allergen)\n",
    "    return result"
   ]
  },
  {
   "cell_type": "code",
   "execution_count": 29,
   "id": "504931cb-8360-4a16-8e33-5e4c833e57a6",
   "metadata": {},
   "outputs": [
    {
     "name": "stdout",
     "output_type": "stream",
     "text": [
      "{\"inputs\": \"Human: <|begin_of_text|><|start_header_id|>system<|end_header_id|>\\nYou are a helpful assistant specialized in providing recipes. When answering questions about recipes, always structure your response as follows:\\n1. Recipe Name\\n2. Ingredients (as a numbered list)\\n3. Instructions (as a numbered list)\\n4. Any additional notes or tips\\nEnsure that ingredients and instructions are always presented as numbered lists for clarity and ease of use.\\nUse the following context to answer the user's query:\\nTitle: No-Bake Cheesecake Squares\\nIngredients: 1 stick plus 6 tablespoons unsalted butter, at room temperature, 1/4 cup granulated sugar, 1/4 cup unsweetened cocoa powder, 1 large egg, lightly beaten, 2 cups graham cracker crumbs, 3/4 cup sweetened shredded coconut, 1/2 cup walnuts, finely chopped, plus whole nuts for topping, 4 ounces cream cheese, at room temperature, 1/2 teaspoon vanilla extract, Pinch of salt, 1 1/2 cups confectioners' sugar, 1 tablespoon heavy cream, 4 ounces semisweet chocolate, chopped\\nTitle: No-Bake Cheesecake Squares\\nIngredients: 1 stick plus 6 tablespoons unsalted butter, at room temperature, 1/4 cup granulated sugar, 1/4 cup unsweetened cocoa powder, 1 large egg, lightly beaten, 2 cups graham cracker crumbs, 3/4 cup sweetened shredded coconut, 1/2 cup walnuts, finely chopped, plus whole nuts for topping, 4 ounces cream cheese, at room temperature, 1/2 teaspoon vanilla extract, Pinch of salt, 1 1/2 cups confectioners' sugar, 1 tablespoon heavy cream, 4 ounces semisweet chocolate, chopped\\n<|eot_id|><|start_header_id|>user<|end_header_id|>\\nPlease provide a recipe that doesn't include milk. I am allergic to milk, please give me a dairy-free recipe.\\n<|eot_id|><|start_header_id|>assistant<|end_header_id|>\\nProvide a complete recipe following the structure outlined above.\\n\", \"parameters\": {\"max_new_tokens\": 700, \"top_p\": 0.9, \"temperature\": 0.4, \"stop\": [\"<|eot_id|>\"]}}\n",
      "{'generated_text': \"**No-Bake Cheesecake Squares (Dairy-Free)**\\n\\n**Ingredients:**\\n\\n1. 1 stick plus 6 tablespoons unsalted vegan butter, at room temperature\\n2. 1/4 cup granulated sugar\\n3. 1/4 cup unsweetened cocoa powder\\n4. 1 large egg, lightly beaten\\n5. 2 cups graham cracker crumbs\\n6. 3/4 cup sweetened shredded coconut\\n7. 1/2 cup chopped walnuts\\n8. 4 ounces vegan cream cheese, at room temperature\\n9. 1/2 teaspoon vanilla extract\\n10. Pinch of salt\\n11. 1 1/2 cups confectioners' sugar\\n12. 1 tablespoon non-dairy heavy cream (such as soy or coconut cream)\\n13. 4 ounces dairy-free semisweet chocolate, chopped\\n\\n**Instructions:**\\n\\n1. In a medium bowl, combine the graham cracker crumbs, sweetened shredded coconut, and chopped walnuts. Mix well.\\n2. In a large bowl, cream together the vegan butter and granulated sugar until light and fluffy.\\n3. Beat in the egg and vanilla extract until well combined.\\n4. In a separate bowl, whisk together the cocoa powder and confectioners' sugar.\\n5. Add the cocoa mixture to the wet ingredients and mix until smooth.\\n6. Stir in the vegan cream cheese until well combined.\\n7. Press the crust mixture into a 9x9-inch pan lined with parchment paper.\\n8. Pour the cheesecake mixture over the crust.\\n9. Melt the dairy-free chocolate in a double boiler or in the microwave in 30-second increments, stirring between each interval until smooth.\\n10. Pour the melted chocolate over the cheesecake mixture.\\n11. Refrigerate for at least 4 hours or overnight.\\n12. Cut into squares and serve.\\n\\n**Additional Notes:**\\n\\n* Make sure to choose a vegan cream cheese and dairy-free chocolate to ensure the recipe is completely dairy-free.\\n* You can replace the non-dairy heavy cream with a mixture of soy milk and cornstarch if needed.\\n* These no-bake cheesecake squares are perfect for a dairy-free dessert or snack. Enjoy!\"}\n",
      "**No-Bake Cheesecake Squares (Dairy-Free)**\n",
      "\n",
      "**Ingredients:**\n",
      "\n",
      "1. 1 stick plus 6 tablespoons unsalted vegan butter, at room temperature\n",
      "2. 1/4 cup granulated sugar\n",
      "3. 1/4 cup unsweetened cocoa powder\n",
      "4. 1 large egg, lightly beaten\n",
      "5. 2 cups graham cracker crumbs\n",
      "6. 3/4 cup sweetened shredded coconut\n",
      "7. 1/2 cup chopped walnuts\n",
      "8. 4 ounces vegan cream cheese, at room temperature\n",
      "9. 1/2 teaspoon vanilla extract\n",
      "10. Pinch of salt\n",
      "11. 1 1/2 cups confectioners' sugar\n",
      "12. 1 tablespoon non-dairy heavy cream (such as soy or coconut cream)\n",
      "13. 4 ounces dairy-free semisweet chocolate, chopped\n",
      "\n",
      "**Instructions:**\n",
      "\n",
      "1. In a medium bowl, combine the graham cracker crumbs, sweetened shredded coconut, and chopped walnuts. Mix well.\n",
      "2. In a large bowl, cream together the vegan butter and granulated sugar until light and fluffy.\n",
      "3. Beat in the egg and vanilla extract until well combined.\n",
      "4. In a separate bowl, whisk together the cocoa powder and confectioners' sugar.\n",
      "5. Add the cocoa mixture to the wet ingredients and mix until smooth.\n",
      "6. Stir in the vegan cream cheese until well combined.\n",
      "7. Press the crust mixture into a 9x9-inch pan lined with parchment paper.\n",
      "8. Pour the cheesecake mixture over the crust.\n",
      "9. Melt the dairy-free chocolate in a double boiler or in the microwave in 30-second increments, stirring between each interval until smooth.\n",
      "10. Pour the melted chocolate over the cheesecake mixture.\n",
      "11. Refrigerate for at least 4 hours or overnight.\n",
      "12. Cut into squares and serve.\n",
      "\n",
      "**Additional Notes:**\n",
      "\n",
      "* Make sure to choose a vegan cream cheese and dairy-free chocolate to ensure the recipe is completely dairy-free.\n",
      "* You can replace the non-dairy heavy cream with a mixture of soy milk and cornstarch if needed.\n",
      "* These no-bake cheesecake squares are perfect for a dairy-free dessert or snack. Enjoy!\n"
     ]
    }
   ],
   "source": [
    "# Example Usage\n",
    "query = \"I am allergic to milk, please give me a dairy-free recipe.\"\n",
    "result = process_query(query)\n",
    "print(result)"
   ]
  },
  {
   "cell_type": "code",
   "execution_count": 30,
   "id": "0720aa8d-e5de-4dba-bd0f-8f7a49642969",
   "metadata": {},
   "outputs": [
    {
     "name": "stdout",
     "output_type": "stream",
     "text": [
      "{\"inputs\": \"Human: <|begin_of_text|><|start_header_id|>system<|end_header_id|>\\nYou are a helpful assistant specialized in providing recipes. When answering questions about recipes, always structure your response as follows:\\n1. Recipe Name\\n2. Ingredients (as a numbered list)\\n3. Instructions (as a numbered list)\\n4. Any additional notes or tips\\nEnsure that ingredients and instructions are always presented as numbered lists for clarity and ease of use.\\nUse the following context to answer the user's query:\\nTitle: Sprouts, Squash and 'Shrooms\\nIngredients: 1 pint Brussels sprouts, tough outer leaves removed and halved from top to bottom, 1 pound baby carrots, 1 tablespoon olive oil, 1 tablespoon unsalted butter, 2 shallots, sliced, 2 cloves garlic, gently crushed with the side of a knife and minced, 1 pint (about 6 ounces) white mushrooms, brushed clean, trimmed, and halved if medium or sliced, if large (leave whole if small), 1 cup white wine, 5 or 6 small pattypan squash, quartered (choose those that are light green but heavy for their size), 1/3 cup hoisin sauce, at room temperature\\nInstructions: Steam Brussels sprouts until they just begin to get tender, but are still bright green. Remove from heat and set aside.\\nBoil baby carrots in salted water until just tender. Do not over cook. Remove from heat, drain and set aside.\\nTitle: Sprouts, Squash and 'Shrooms\\nIngredients: 1 pint Brussels sprouts, tough outer leaves removed and halved from top to bottom, 1 pound baby carrots, 1 tablespoon olive oil, 1 tablespoon unsalted butter, 2 shallots, sliced, 2 cloves garlic, gently crushed with the side of a knife and minced, 1 pint (about 6 ounces) white mushrooms, brushed clean, trimmed, and halved if medium or sliced, if large (leave whole if small), 1 cup white wine, 5 or 6 small pattypan squash, quartered (choose those that are light green but heavy for their size), 1/3 cup hoisin sauce, at room temperature\\nInstructions: Steam Brussels sprouts until they just begin to get tender, but are still bright green. Remove from heat and set aside.\\nBoil baby carrots in salted water until just tender. Do not over cook. Remove from heat, drain and set aside.\\nTitle: brussels sprouts\\nIngredients: 1 brussles sprout, 2 cloves garlic\\nInstructions: eat brussels sprouts.\\nTitle: brussels sprouts\\nIngredients: 1 brussles sprout, 2 cloves garlic\\nInstructions: eat brussels sprouts.\\n<|eot_id|><|start_header_id|>user<|end_header_id|>\\nI have brussel sprouts and carrots, can you give me a healthy dairy-free recipe to make.\\n<|eot_id|><|start_header_id|>assistant<|end_header_id|>\\nProvide a complete recipe following the structure outlined above.\\n\", \"parameters\": {\"max_new_tokens\": 700, \"top_p\": 0.9, \"temperature\": 0.4, \"stop\": [\"<|eot_id|>\"]}}\n",
      "{'generated_text': \"**Sprouts, Squash and 'Shrooms**\\n\\n**Ingredients:**\\n\\n1. 1 pint Brussels sprouts, tough outer leaves removed and halved from top to bottom\\n2. 1 pound baby carrots\\n3. 1 tablespoon olive oil\\n4. 1 tablespoon unsalted butter\\n5. 2 shallots, sliced\\n6. 2 cloves garlic, gently crushed with the side of a knife and minced\\n7. 1 pint (about 6 ounces) white mushrooms, brushed clean, trimmed, and halved if medium or sliced, if large (leave whole if small)\\n8. 1 cup white wine\\n9. 5 or 6 small pattypan squash, quartered (choose those that are light green but heavy for their size)\\n10. 1/3 cup hoisin sauce, at room temperature\\n\\n**Instructions:**\\n\\n1. Steam Brussels sprouts until they just begin to get tender, but are still bright green. Remove from heat and set aside.\\n2. Boil baby carrots in salted water until just tender. Do not over cook. Remove from heat, drain and set aside.\\n3. In a large skillet, heat the olive oil over medium-high heat. Add the butter and let it melt.\\n4. Add the sliced shallots and cook until they are translucent, about 3-4 minutes.\\n5. Add the minced garlic and cook for an additional minute, until fragrant.\\n6. Add the mushrooms and cook until they release their moisture and start to brown, about 5 minutes.\\n7. Add the white wine and cook until the liquid has almost completely evaporated, about 2-3 minutes.\\n8. Add the quartered squash and cook until they are tender and lightly browned, about 5-7 minutes.\\n9. Add the steamed Brussels sprouts and cooked carrots to the skillet. Toss everything together to combine.\\n10. Drizzle the hoisin sauce over the top and toss again to coat.\\n11. Serve hot and enjoy!\\n\\n**Additional Notes:**\\n\\n* You can adjust the amount of garlic and shallots to your taste.\\n* If you prefer a stronger flavor, you can add more hoisin sauce or use a different type of sauce.\\n* This recipe is dairy-free, but you can add some dairy-free cheese or nuts if you prefer a creamier dish.\"}\n",
      "**Sprouts, Squash and 'Shrooms**\n",
      "\n",
      "**Ingredients:**\n",
      "\n",
      "1. 1 pint Brussels sprouts, tough outer leaves removed and halved from top to bottom\n",
      "2. 1 pound baby carrots\n",
      "3. 1 tablespoon olive oil\n",
      "4. 1 tablespoon unsalted butter\n",
      "5. 2 shallots, sliced\n",
      "6. 2 cloves garlic, gently crushed with the side of a knife and minced\n",
      "7. 1 pint (about 6 ounces) white mushrooms, brushed clean, trimmed, and halved if medium or sliced, if large (leave whole if small)\n",
      "8. 1 cup white wine\n",
      "9. 5 or 6 small pattypan squash, quartered (choose those that are light green but heavy for their size)\n",
      "10. 1/3 cup hoisin sauce, at room temperature\n",
      "\n",
      "**Instructions:**\n",
      "\n",
      "1. Steam Brussels sprouts until they just begin to get tender, but are still bright green. Remove from heat and set aside.\n",
      "2. Boil baby carrots in salted water until just tender. Do not over cook. Remove from heat, drain and set aside.\n",
      "3. In a large skillet, heat the olive oil over medium-high heat. Add the butter and let it melt.\n",
      "4. Add the sliced shallots and cook until they are translucent, about 3-4 minutes.\n",
      "5. Add the minced garlic and cook for an additional minute, until fragrant.\n",
      "6. Add the mushrooms and cook until they release their moisture and start to brown, about 5 minutes.\n",
      "7. Add the white wine and cook until the liquid has almost completely evaporated, about 2-3 minutes.\n",
      "8. Add the quartered squash and cook until they are tender and lightly browned, about 5-7 minutes.\n",
      "9. Add the steamed Brussels sprouts and cooked carrots to the skillet. Toss everything together to combine.\n",
      "10. Drizzle the hoisin sauce over the top and toss again to coat.\n",
      "11. Serve hot and enjoy!\n",
      "\n",
      "**Additional Notes:**\n",
      "\n",
      "* You can adjust the amount of garlic and shallots to your taste.\n",
      "* If you prefer a stronger flavor, you can add more hoisin sauce or use a different type of sauce.\n",
      "* This recipe is dairy-free, but you can add some dairy-free cheese or nuts if you prefer a creamier dish.\n"
     ]
    }
   ],
   "source": [
    "# Another Example Usage run previously by Phoebe\n",
    "query = \"I have brussel sprouts and carrots, can you give me a healthy dairy-free recipe to make.\"\n",
    "result = process_query(query)\n",
    "print(result)"
   ]
  },
  {
   "cell_type": "code",
   "execution_count": 170,
   "id": "a4cc5feb-b136-4125-baba-5e8231146eca",
   "metadata": {},
   "outputs": [
    {
     "name": "stdout",
     "output_type": "stream",
     "text": [
      "\n",
      "Query: Give me a recipe for a vegetarian pasta dish.\n",
      "{\"inputs\": \"Human: <|begin_of_text|><|start_header_id|>system<|end_header_id|>\\nYou are a helpful assistant specialized in providing recipes. When answering questions about recipes, always structure your response as follows:\\n1. Recipe Name\\n2. Ingredients (as a numbered list)\\n3. Instructions (as a numbered list)\\n4. Any additional notes or tips\\nEnsure that ingredients and instructions are always presented as numbered lists for clarity and ease of use.\\nUse the following context to answer the user's query:\\nTitle: Baked Pasta with Tomatoes, Shiitakes, and Prosciutto\\nIngredients: 2 cups finely chopped onion, 2 large garlic cloves, minced, 1/4 teaspoon dried hot red pepper flakes, or to taste, 1 teaspoon dried basil, crumbled, 1 teaspoon dried oregano, crumbled, 2 tablespoons olive oil, 1 pound fresh shiitakes, stems discarded and the caps sliced, 8 ounces (1 stick) unsalted butter, 6 tablespoons all-purpose flour, 4 cups milk, 2 (28-ounce) cans Italian whole, peeled tomatoes, drained well and chopped, 1/4 pound thinly sliced prosciutto, cut into strips, 1/4 pound Italian Fontina, grated (about 1 cup), 1/4 pound Gorgonzola, crumbled (about 1 cup), 1 1/2 cups freshly grated Parmesan, 2/3 cup minced fresh parsley leaves, 1 pound penne (quill-shaped pasta) or farfalle (large bow-tie-shaped pasta)\\nTitle: Asparagus and Pistachio Pesto Pasta\\nIngredients: 1 pound thin asparagus, 1/4 cup fresh mint leaves, 1/4 cup fresh flat-leaf parsley leaves, 1/4 cup fresh tarragon leaves or 1/2 cup fresh basil leaves, 1/4 cup grated Parmigiano-Reggiano, 3 to 4 tablespoons toasted pistachios, 1 clove garlic, grated or made into a paste, Juice of 1 lime or 1/2 lemon, 1/3 to 1/2 cup EVOO, Salt and freshly ground pepper, 1 pound penne, 1 cup fresh shelled peas or defrosted frozen organic peas, Shaved Parmigiano-Reggiano, for garnish\\nTitle: Beautiful Leftover Roasted Veg Bruschetta\\nTitle: Angel Hair Pasta with Lemon, Fingerling Potatoes and Sunflower Greens\\nIngredients: 4 to 6 smallish fingerling potatoes (about 4 to 6 ounces total), thoroughly washed and dried, 1 tablespoons extra-virgin olive oil, 2 tablespoons kosher salt, for the pasta water, plus more for seasoning, Freshly ground black pepper, 6 quarts water, 1/2 pound dried angel hair pasta, 1 cup heavy cream, 1 cup sour cream, Zest of 2 lemons, Juice of 1 lemon, Worcestershire sauce, 1 small bunch chives, trimmed and minced, 1/2 cup sunflower greens, 4 to 6 smallish fingerling potatoes (about 4 to 6 ounces total), thoroughly washed and dried, 1 tablespoons extra-virgin olive oil, 2 tablespoons kosher salt, for the pasta water, plus more for seasoning, Freshly ground black pepper, 6 quarts water, 1/2 pound dried angel hair pasta, 1 cup heavy cream, 1 cup sour cream, Zest of 2 lemons, Juice of 1 lemon, Worcestershire sauce, 1 small bunch chives, trimmed and minced, 1/2 cup sunflower greens\\n<|eot_id|><|start_header_id|>user<|end_header_id|>\\nGive me a recipe for a vegetarian pasta dish.\\n<|eot_id|><|start_header_id|>assistant<|end_header_id|>\\nProvide a complete recipe following the structure outlined above.\\n\", \"parameters\": {\"max_new_tokens\": 700, \"top_p\": 0.9, \"temperature\": 0.4, \"stop\": [\"<|eot_id|>\"]}}\n",
      "{'generated_text': '**Asparagus and Pistachio Pesto Pasta**\\n\\n**Ingredients:**\\n\\n1. 1 pound thin asparagus\\n2. 1/4 cup fresh mint leaves\\n3. 1/4 cup fresh flat-leaf parsley leaves\\n4. 1/4 cup fresh tarragon leaves or 1/2 cup fresh basil leaves\\n5. 1/4 cup grated Parmigiano-Reggiano\\n6. 3 to 4 tablespoons toasted pistachios\\n7. 1 clove garlic, grated or made into a paste\\n8. Juice of 1 lime or 1/2 lemon\\n9. 1/3 to 1/2 cup EVOO\\n10. Salt and freshly ground pepper\\n11. 1 pound penne\\n12. 1 cup fresh shelled peas or defrosted frozen organic peas\\n13. Shaved Parmigiano-Reggiano, for garnish\\n\\n**Instructions:**\\n\\n1. Preheat the oven to 425°F (220°C).\\n2. Toss the asparagus with 2 tablespoons of EVOO, salt, and pepper on a baking sheet. Roast for 12-15 minutes, or until tender.\\n3. In a food processor, combine the roasted asparagus, mint, parsley, tarragon, Parmigiano-Reggiano, pistachios, garlic, and a pinch of salt and pepper. Process until smooth.\\n4. Cook the penne according to package instructions. Reserve 1 cup of pasta water before draining.\\n5. In a large bowl, combine the cooked penne, asparagus pesto, and reserved pasta water. Toss until the pasta is well coated.\\n6. Add the peas and toss to combine.\\n7. Season with salt, pepper, and additional EVOO if needed.\\n8. Serve immediately, garnished with shaved Parmigiano-Reggiano.\\n\\n**Additional Notes:**\\n\\n* You can also use frozen asparagus, thawed and drained, if fresh is not available.\\n* Adjust the amount of garlic to your taste.\\n* This recipe makes 4 servings. You can easily double or triple the recipe for a larger crowd.\\n* You can also add some cherry tomatoes or other vegetables to the pesto for added flavor and texture.'}\n",
      "**Asparagus and Pistachio Pesto Pasta**\n",
      "\n",
      "**Ingredients:**\n",
      "\n",
      "1. 1 pound thin asparagus\n",
      "2. 1/4 cup fresh mint leaves\n",
      "3. 1/4 cup fresh flat-leaf parsley leaves\n",
      "4. 1/4 cup fresh tarragon leaves or 1/2 cup fresh basil leaves\n",
      "5. 1/4 cup grated Parmigiano-Reggiano\n",
      "6. 3 to 4 tablespoons toasted pistachios\n",
      "7. 1 clove garlic, grated or made into a paste\n",
      "8. Juice of 1 lime or 1/2 lemon\n",
      "9. 1/3 to 1/2 cup EVOO\n",
      "10. Salt and freshly ground pepper\n",
      "11. 1 pound penne\n",
      "12. 1 cup fresh shelled peas or defrosted frozen organic peas\n",
      "13. Shaved Parmigiano-Reggiano, for garnish\n",
      "\n",
      "**Instructions:**\n",
      "\n",
      "1. Preheat the oven to 425°F (220°C).\n",
      "2. Toss the asparagus with 2 tablespoons of EVOO, salt, and pepper on a baking sheet. Roast for 12-15 minutes, or until tender.\n",
      "3. In a food processor, combine the roasted asparagus, mint, parsley, tarragon, Parmigiano-Reggiano, pistachios, garlic, and a pinch of salt and pepper. Process until smooth.\n",
      "4. Cook the penne according to package instructions. Reserve 1 cup of pasta water before draining.\n",
      "5. In a large bowl, combine the cooked penne, asparagus pesto, and reserved pasta water. Toss until the pasta is well coated.\n",
      "6. Add the peas and toss to combine.\n",
      "7. Season with salt, pepper, and additional EVOO if needed.\n",
      "8. Serve immediately, garnished with shaved Parmigiano-Reggiano.\n",
      "\n",
      "**Additional Notes:**\n",
      "\n",
      "* You can also use frozen asparagus, thawed and drained, if fresh is not available.\n",
      "* Adjust the amount of garlic to your taste.\n",
      "* This recipe makes 4 servings. You can easily double or triple the recipe for a larger crowd.\n",
      "* You can also add some cherry tomatoes or other vegetables to the pesto for added flavor and texture.\n",
      "--------------------------------------------------\n",
      "\n",
      "Query: I'm allergic to nuts. Can you give me a dessert recipe?\n",
      "{\"inputs\": \"Human: <|begin_of_text|><|start_header_id|>system<|end_header_id|>\\nYou are a helpful assistant specialized in providing recipes. When answering questions about recipes, always structure your response as follows:\\n1. Recipe Name\\n2. Ingredients (as a numbered list)\\n3. Instructions (as a numbered list)\\n4. Any additional notes or tips\\nEnsure that ingredients and instructions are always presented as numbered lists for clarity and ease of use.\\nUse the following context to answer the user's query:\\nTitle: Almond Cake with Plum Sauce Filling and Ginger Buttercream\\nIngredients: 2 1/2 cups diced plums, 2 cups sugar, 1/4 cup minced onions, 2 tablespoons apple cider vinegar, 1 tablespoon soy sauce, 1 tablespoon brown sugar, 2 teaspoons grated fresh ginger, 1 teaspoon chile flakes, 2 1/2 cups all-purpose flour, 4 large eggs, 2 cups sugar, 1/2 teaspoon salt, 2 1/4 teaspoons baking powder, 3/4 cup vegetable oil, 1 cup whole milk, 1 1/2 teaspoons almond extract, 1 pound (4 sticks) unsalted butter, 8 teaspoons grated fresh ginger, 2 pounds confectioners' sugar, 2 teaspoons whole milk, 1/2 teaspoon salt\\nTitle: Banana Cake with White Chocolate Macadamia Frosting\\nIngredients: 1 3/4 teaspoons baking powder, 2 tablespoons banana pudding mix, 1 cup white sugar, 1/2 cup buttermilk, 1 ripe banana, mashed, 1/2 cup butter, 2 eggs, Buttercream Frosting, recipe follows, 2 teaspoons vanilla extract, Macadamia nuts, dry roasted and finely chopped, 1 1/2 cups all-purpose flour, 1/2 cup (1 stick) butter, at room temperature, 2 to 3 cups confectioners' sugar, 1/8 to 1/4 cup melted white baking chocolates, 1/2 teaspoon vanilla extract\\nTitle: Banana Peanut Butter Milk Chocolate Cake\\nIngredients: 8 tablespoons (1 stick) unsalted butter, room temperature, plus more for coating pans, 2 1/2 cups sifted cake flour (not self-rising), plus more for dusting, 3/4 teaspoon baking soda, 1/2 teaspoon baking powder, 1/2 teaspoon salt, 1 cup pureed ripe bananas (about 3), 1 teaspoon pure vanilla extract, 1/4 cup buttermilk, 2 tablespoons vegetable shortening, 1 1/2 cups superfine sugar, 3 large eggs, lightly beaten, Milk Chocolate Peanut-Butter Frosting, recipe follows, Peanut Butter Fudge, recipe follows, 1 pound milk chocolate, finely chopped, 8 tablespoons (1 stick) unsalted butter, cut into small pieces, 1 1/2 cups smooth peanut butter, 2 tablespoons milk, 2 tablespoons unsalted butter, chilled, plus more for pan, 3 tablespoons light corn syrup, 1 cup granulated sugar, 3/4 cup packed light-brown sugar, 3/4 cup milk, 1/2 teaspoon salt, Pinch baking soda, 6 tablespoons creamy peanut butter, 1 teaspoon pure vanilla extract\\nTitle: Almond Layer Cake With White Chocolate Frosting\\nIngredients: 1 stick unsalted butter, at room temperature, plus more for the pans, 2 cups cake flour, plus more for dusting, 1 tablespoon baking powder, 1/2 teaspoon salt, 1/2 cup blanched almonds, 5 large egg whites, 1 cup whole milk, 2 teaspoons vanilla extract, 1 1/2 teaspoons almond extract, 1 1/2 cups granulated sugar, White nonpareils or sprinkles, for topping (optional), 8 ounces white chocolate, coarsely chopped, 2 8-ounce packages cream cheese, at room temperature, 1 1/2 sticks (12 tablespoons) unsalted butter, at room temperature, 1 cup confectioners' sugar\\nInstructions: Special equipment: two 9-inch-round cake pans\\n<|eot_id|><|start_header_id|>user<|end_header_id|>\\nPlease provide a recipe that doesn't include nuts. can you give me a dessert recipe?. I'm allergic to nuts. Can you give me a dessert recipe?\\n<|eot_id|><|start_header_id|>assistant<|end_header_id|>\\nProvide a complete recipe following the structure outlined above.\\n\", \"parameters\": {\"max_new_tokens\": 700, \"top_p\": 0.9, \"temperature\": 0.4, \"stop\": [\"<|eot_id|>\"]}}\n",
      "{'generated_text': \"**Lemon Lavender Pound Cake**\\n\\n**Ingredients:**\\n\\n1. 1 1/2 cups (3 sticks) unsalted butter, softened\\n2. 1 3/4 cups granulated sugar\\n3. 4 large eggs, at room temperature\\n4. 2 teaspoons grated lemon zest\\n5. 2 tablespoons freshly squeezed lemon juice\\n6. 2 teaspoons dried lavender buds\\n7. 2 1/4 cups all-purpose flour\\n8. 1 teaspoon baking powder\\n9. 1/2 teaspoon salt\\n10. 1 cup whole milk, at room temperature\\n\\n**Instructions:**\\n\\n1. Preheat the oven to 325°F (165°C). Grease a 9x5-inch loaf pan and line it with parchment paper.\\n2. In a large mixing bowl, cream the butter and sugar until light and fluffy, about 3 minutes.\\n3. Beat in the eggs one at a time, then stir in the lemon zest and juice.\\n4. In a small bowl, whisk together the flour, baking powder, and salt. Add the dry ingredients to the butter mixture and mix until just combined.\\n5. Stir in the milk and lavender buds.\\n6. Pour the batter into the prepared loaf pan and smooth the top.\\n7. Bake for 45-50 minutes or until a toothpick inserted into the center comes out clean.\\n8. Remove from the oven and let cool in the pan for 10 minutes before transferring to a wire rack to cool completely.\\n\\n**Additional Notes:**\\n\\n* Make sure to use high-quality, fresh lavender buds for the best flavor.\\n* If you prefer a stronger lemon flavor, you can increase the lemon zest to 3 teaspoons or add an additional 1-2 tablespoons of lemon juice.\\n* This cake is perfect for spring or summer, and it's a great dessert to serve at a dinner party or special occasion.\"}\n",
      "**Lemon Lavender Pound Cake**\n",
      "\n",
      "**Ingredients:**\n",
      "\n",
      "1. 1 1/2 cups (3 sticks) unsalted butter, softened\n",
      "2. 1 3/4 cups granulated sugar\n",
      "3. 4 large eggs, at room temperature\n",
      "4. 2 teaspoons grated lemon zest\n",
      "5. 2 tablespoons freshly squeezed lemon juice\n",
      "6. 2 teaspoons dried lavender buds\n",
      "7. 2 1/4 cups all-purpose flour\n",
      "8. 1 teaspoon baking powder\n",
      "9. 1/2 teaspoon salt\n",
      "10. 1 cup whole milk, at room temperature\n",
      "\n",
      "**Instructions:**\n",
      "\n",
      "1. Preheat the oven to 325°F (165°C). Grease a 9x5-inch loaf pan and line it with parchment paper.\n",
      "2. In a large mixing bowl, cream the butter and sugar until light and fluffy, about 3 minutes.\n",
      "3. Beat in the eggs one at a time, then stir in the lemon zest and juice.\n",
      "4. In a small bowl, whisk together the flour, baking powder, and salt. Add the dry ingredients to the butter mixture and mix until just combined.\n",
      "5. Stir in the milk and lavender buds.\n",
      "6. Pour the batter into the prepared loaf pan and smooth the top.\n",
      "7. Bake for 45-50 minutes or until a toothpick inserted into the center comes out clean.\n",
      "8. Remove from the oven and let cool in the pan for 10 minutes before transferring to a wire rack to cool completely.\n",
      "\n",
      "**Additional Notes:**\n",
      "\n",
      "* Make sure to use high-quality, fresh lavender buds for the best flavor.\n",
      "* If you prefer a stronger lemon flavor, you can increase the lemon zest to 3 teaspoons or add an additional 1-2 tablespoons of lemon juice.\n",
      "* This cake is perfect for spring or summer, and it's a great dessert to serve at a dinner party or special occasion.\n",
      "--------------------------------------------------\n",
      "\n",
      "Query: I need a gluten-free breakfast recipe.\n",
      "{\"inputs\": \"Human: <|begin_of_text|><|start_header_id|>system<|end_header_id|>\\nYou are a helpful assistant specialized in providing recipes. When answering questions about recipes, always structure your response as follows:\\n1. Recipe Name\\n2. Ingredients (as a numbered list)\\n3. Instructions (as a numbered list)\\n4. Any additional notes or tips\\nEnsure that ingredients and instructions are always presented as numbered lists for clarity and ease of use.\\nUse the following context to answer the user's query:\\nTitle: A Bowl of Gluten-Free Oatmeal\\nIngredients: 1 cup whole milk, 1 cup water, 1/2 teaspoon kosher salt, 1 teaspoon vanilla extract, 1 cup whole rolled gluten-free oats\\nInstructions: Set a saucepan over high heat. Pour in the milk and water. Add the salt and vanilla extract. Bring the liquids to a boil.\\nWhen the milky water is boiling, pour in the oats. Stir quite vigorously. When the water returns to a boil, turn down the heat to low. Simmer the oats, stirring every few minutes, until the oats are creamy and plump, the liquid fully absorbed, about 15 minutes.\\nTurn off the heat and cover the pan. Let the oatmeal sit for five minutes to fully absorb the liquid.\\nTop with your favorite sweetener and fruit. (This one is maple syrup, peaches, and blackberries.)\\nVariations: If you cannot eat dairy, almond milk or hemp milk work well here too.\\nTitle: Artichoke Pancakes with Goat Cheese\\nIngredients: 3 fresh artichokes, 2 lemons, cut in half, Large bowl of ice water, 3 large eggs, 1/4 cup water, 1 teaspoon kosher salt, 1/2 teaspoon black pepper, 1/3 cup all purpose white flour, 2 egg whites, 1 tablespoon olive oil, 3 tablespoons goat cheese, 1 tablespoon sour cream\\nTitle: 3-Ingredient Gluten-Free Banana Pancakes\\nIngredients: 2 large eggs, 1 large banana, 1/4 teaspoon pumpkin pie spice\\nInstructions: Watch how to make this recipe.\\nBlend the eggs, banana and pumpkin pie spice in a blender until smooth.\\nHeat a large nonstick skillet or griddle over medium-low heat. Working in batches, drop silver-dollar portions of the batter (about 1 tablespoon) onto the skillet and cook until golden brown, 1 to 2 minutes per side.\\nTitle: Banana-Cream Cheese Breakfast Cakes\\nIngredients: 8 ounces cream cheese, at room temperature, 1 teaspoon vanilla extract, 2 large egg whites, at room temperature, 1/2 cup sugar, 1 1/2 cups plus 3 tablespoons cake flour, 1 1/2 teaspoons baking soda, 1/2 teaspoon kosher salt, 1 stick plus 2 tablespoons unsalted butter, at room temperature, 1 cup plus 6 tablespoons sugar, 2 teaspoons vanilla extract, 3 large eggs, at room temperature, 3 very ripe bananas, mashed\\n<|eot_id|><|start_header_id|>user<|end_header_id|>\\nI need a gluten-free breakfast recipe.\\n<|eot_id|><|start_header_id|>assistant<|end_header_id|>\\nProvide a complete recipe following the structure outlined above.\\n\", \"parameters\": {\"max_new_tokens\": 700, \"top_p\": 0.9, \"temperature\": 0.4, \"stop\": [\"<|eot_id|>\"]}}\n",
      "{'generated_text': '**Gluten-Free Banana Pancakes**\\n\\n**Ingredients:**\\n\\n1. 2 large eggs\\n2. 1 large banana\\n3. 1/4 teaspoon pumpkin pie spice\\n\\n**Instructions:**\\n\\n1. Watch how to make this recipe.\\n2. Blend the eggs, banana, and pumpkin pie spice in a blender until smooth.\\n3. Heat a large nonstick skillet or griddle over medium-low heat.\\n4. Working in batches, drop silver-dollar portions of the batter (about 1 tablespoon) onto the skillet and cook until golden brown, 1 to 2 minutes per side.\\n\\n**Additional Notes or Tips:**\\n\\n* You can adjust the amount of pumpkin pie spice to your taste.\\n* These pancakes are best served warm with your favorite toppings, such as maple syrup, honey, or fresh fruit.\\n* You can also store leftover pancakes in an airtight container in the refrigerator for up to 3 days and reheat them in the toaster or microwave.'}\n",
      "**Gluten-Free Banana Pancakes**\n",
      "\n",
      "**Ingredients:**\n",
      "\n",
      "1. 2 large eggs\n",
      "2. 1 large banana\n",
      "3. 1/4 teaspoon pumpkin pie spice\n",
      "\n",
      "**Instructions:**\n",
      "\n",
      "1. Watch how to make this recipe.\n",
      "2. Blend the eggs, banana, and pumpkin pie spice in a blender until smooth.\n",
      "3. Heat a large nonstick skillet or griddle over medium-low heat.\n",
      "4. Working in batches, drop silver-dollar portions of the batter (about 1 tablespoon) onto the skillet and cook until golden brown, 1 to 2 minutes per side.\n",
      "\n",
      "**Additional Notes or Tips:**\n",
      "\n",
      "* You can adjust the amount of pumpkin pie spice to your taste.\n",
      "* These pancakes are best served warm with your favorite toppings, such as maple syrup, honey, or fresh fruit.\n",
      "* You can also store leftover pancakes in an airtight container in the refrigerator for up to 3 days and reheat them in the toaster or microwave.\n",
      "--------------------------------------------------\n"
     ]
    }
   ],
   "source": [
    "# Example with multiple different queries\n",
    "queries = [\n",
    "    \"Give me a recipe for a vegetarian pasta dish.\",\n",
    "    \"I'm allergic to nuts. Can you give me a dessert recipe?\",\n",
    "    \"I need a gluten-free breakfast recipe.\"\n",
    "]\n",
    "\n",
    "for q in queries:\n",
    "    print(f\"\\nQuery: {q}\")\n",
    "    result = process_query(q)\n",
    "    print(result)\n",
    "    print(\"-\" * 50)"
   ]
  },
  {
   "cell_type": "code",
   "execution_count": 33,
   "id": "cb3bd811-86b1-45ad-94e6-f9faf70b3951",
   "metadata": {},
   "outputs": [
    {
     "name": "stdout",
     "output_type": "stream",
     "text": [
      "\n",
      "Query: I'm allergic to nuts. Can you give me a dessert recipe?\n",
      "{\"inputs\": \"Human: <|begin_of_text|><|start_header_id|>system<|end_header_id|>\\nYou are a helpful assistant specialized in providing recipes. When answering questions about recipes, always structure your response as follows:\\n1. Recipe Name\\n2. Ingredients (as a numbered list)\\n3. Instructions (as a numbered list)\\n4. Any additional notes or tips\\nEnsure that ingredients and instructions are always presented as numbered lists for clarity and ease of use.\\nUse the following context to answer the user's query:\\nTitle: Honey-Apple-Almond Cake\\nIngredients: 4 large egg whites, 1 cup sugar, 1 teaspoon almond extract, 3 sticks unsalted butter, cut into small pieces, at room temperature, 3 tablespoons honey, Basic Vanilla Cake, recipe follows, baked and cooled, 3/4 cup apple butter, Sliced almonds, toasted, for topping, 2 sticks unsalted butter, at room temperature, plus more for the pans, 3 cups all-purpose flour, plus more for the pans, 1 tablespoon baking powder, 1/2 teaspoon salt, 1 1/2 cups sugar, 4 large eggs, at room temperature, 1 tablespoon vanilla extract, 3/4 cup heavy cream\\nTitle: Lemon-Almond Butter Cake\\nIngredients: Grated zest and juice of 2 lemons, 3/4 cup plus 2 tablespoons sugar, 4 extra-large eggs, 6 tablespoons unsalted butter, cubed, 9 tablespoons unsalted butter, softened, 1 cup plus 1 tablespoon flour, 1 cup plus 1 to 2 tablespoons sugar, 1 teaspoon baking powder, 1/2 teaspoon kosher salt, 2 extra-large eggs, 1/2 cup ground toasted almonds, 2 tablespoons toasted sliced almonds, 1 tablespoon almond liqueur (optional), 1/2 cup heavy cream (optional), 2 tablespoons confectioners' sugar or as needed\\nTitle: Chocolate Pudding Cake with Coconut Ice Cream\\nIngredients: 1 cup heavy whipping cream, 1 cup unsweetened coconut milk, 4 large egg yolks, 1/4 cup sugar, 1/2 cup shredded coconut, toasted, 1 cup all-purpose flour, 1 1/2 cups golden brown sugar, 1/2 cup unsweetened cocoa powder, 2 teaspoons baking powder, 1 cup heavy whipping cream, 1 1/4 cups coconut water (not coconut milk), 1 cup coconut milk, 1 tablespoon sugar, 2 tablespoons shredded coconut, 1/4 cup thinly sliced coquito nuts, toasted, 2 tablespoons julienned crystallized ginger\\nTitle: Chocolate Pudding Cake with Coconut Ice Cream\\nIngredients: 1 cup heavy whipping cream, 1 cup unsweetened coconut milk, 4 large egg yolks, 1/4 cup sugar, 1/2 cup shredded coconut, toasted, 1 cup all-purpose flour, 1 1/2 cups golden brown sugar, 1/2 cup unsweetened cocoa powder, 2 teaspoons baking powder, 1 cup heavy whipping cream, 1 1/4 cups coconut water (not coconut milk), 1 cup coconut milk, 1 tablespoon sugar, 2 tablespoons shredded coconut, 1/4 cup thinly sliced coquito nuts, toasted, 2 tablespoons julienned crystallized ginger\\n<|eot_id|><|start_header_id|>user<|end_header_id|>\\nPlease provide a recipe that doesn't include nuts. can you give me a dessert recipe?. I'm allergic to nuts. Can you give me a dessert recipe?\\n<|eot_id|><|start_header_id|>assistant<|end_header_id|>\\nProvide a complete recipe following the structure outlined above.\\n\", \"parameters\": {\"max_new_tokens\": 700, \"top_p\": 0.9, \"temperature\": 0.4, \"stop\": [\"<|eot_id|>\"]}}\n",
      "{'generated_text': \"**Lemon-Almond Butter Cake**\\n\\n**Ingredients:**\\n\\n1. Grated zest and juice of 2 lemons\\n2. 3/4 cup plus 2 tablespoons sugar\\n3. 4 extra-large eggs\\n4. 6 tablespoons unsalted butter, cubed\\n5. 9 tablespoons unsalted butter, softened\\n6. 1 cup plus 1 tablespoon flour\\n7. 1 cup plus 1 to 2 tablespoons sugar\\n8. 1 teaspoon baking powder\\n9. 1/2 teaspoon kosher salt\\n10. 2 extra-large eggs\\n11. 1/2 cup heavy cream (optional)\\n12. 2 tablespoons confectioners' sugar or as needed\\n\\n**Instructions:**\\n\\n1. Preheat the oven to 350°F (180°C). Grease and flour two 9-inch (23cm) round cake pans.\\n2. In a medium bowl, whisk together the flour, sugar, baking powder, and salt.\\n3. In a large bowl, whisk together the lemon zest, lemon juice, and softened butter until well combined.\\n4. Add the eggs one at a time, whisking well after each addition.\\n5. Gradually add the dry ingredients to the wet ingredients, whisking until smooth.\\n6. Divide the batter evenly between the prepared pans and smooth the tops.\\n7. Bake for 30-35 minutes or until a toothpick inserted in the center comes out clean.\\n8. Allow the cakes to cool in the pans for 10 minutes before transferring to a wire rack to cool completely.\\n9. If desired, top with whipped cream and confectioners' sugar.\\n\\n**Additional Notes:**\\n\\n* Make sure to use fresh and high-quality lemons for the best flavor.\\n* If you prefer a stronger lemon flavor, you can increase the amount of lemon zest and juice.\\n* This cake is perfect for spring or summer, and it's a great option for a birthday or special occasion.\"}\n",
      "**Lemon-Almond Butter Cake**\n",
      "\n",
      "**Ingredients:**\n",
      "\n",
      "1. Grated zest and juice of 2 lemons\n",
      "2. 3/4 cup plus 2 tablespoons sugar\n",
      "3. 4 extra-large eggs\n",
      "4. 6 tablespoons unsalted butter, cubed\n",
      "5. 9 tablespoons unsalted butter, softened\n",
      "6. 1 cup plus 1 tablespoon flour\n",
      "7. 1 cup plus 1 to 2 tablespoons sugar\n",
      "8. 1 teaspoon baking powder\n",
      "9. 1/2 teaspoon kosher salt\n",
      "10. 2 extra-large eggs\n",
      "11. 1/2 cup heavy cream (optional)\n",
      "12. 2 tablespoons confectioners' sugar or as needed\n",
      "\n",
      "**Instructions:**\n",
      "\n",
      "1. Preheat the oven to 350°F (180°C). Grease and flour two 9-inch (23cm) round cake pans.\n",
      "2. In a medium bowl, whisk together the flour, sugar, baking powder, and salt.\n",
      "3. In a large bowl, whisk together the lemon zest, lemon juice, and softened butter until well combined.\n",
      "4. Add the eggs one at a time, whisking well after each addition.\n",
      "5. Gradually add the dry ingredients to the wet ingredients, whisking until smooth.\n",
      "6. Divide the batter evenly between the prepared pans and smooth the tops.\n",
      "7. Bake for 30-35 minutes or until a toothpick inserted in the center comes out clean.\n",
      "8. Allow the cakes to cool in the pans for 10 minutes before transferring to a wire rack to cool completely.\n",
      "9. If desired, top with whipped cream and confectioners' sugar.\n",
      "\n",
      "**Additional Notes:**\n",
      "\n",
      "* Make sure to use fresh and high-quality lemons for the best flavor.\n",
      "* If you prefer a stronger lemon flavor, you can increase the amount of lemon zest and juice.\n",
      "* This cake is perfect for spring or summer, and it's a great option for a birthday or special occasion.\n",
      "--------------------------------------------------\n",
      "\n",
      "Query: I'm allergic to nuts. Can you give me a dessert recipe?\n",
      "{\"inputs\": \"Human: <|begin_of_text|><|start_header_id|>system<|end_header_id|>\\nYou are a helpful assistant specialized in providing recipes. When answering questions about recipes, always structure your response as follows:\\n1. Recipe Name\\n2. Ingredients (as a numbered list)\\n3. Instructions (as a numbered list)\\n4. Any additional notes or tips\\nEnsure that ingredients and instructions are always presented as numbered lists for clarity and ease of use.\\nUse the following context to answer the user's query:\\nTitle: Honey-Apple-Almond Cake\\nIngredients: 4 large egg whites, 1 cup sugar, 1 teaspoon almond extract, 3 sticks unsalted butter, cut into small pieces, at room temperature, 3 tablespoons honey, Basic Vanilla Cake, recipe follows, baked and cooled, 3/4 cup apple butter, Sliced almonds, toasted, for topping, 2 sticks unsalted butter, at room temperature, plus more for the pans, 3 cups all-purpose flour, plus more for the pans, 1 tablespoon baking powder, 1/2 teaspoon salt, 1 1/2 cups sugar, 4 large eggs, at room temperature, 1 tablespoon vanilla extract, 3/4 cup heavy cream\\nTitle: Lemon-Almond Butter Cake\\nIngredients: Grated zest and juice of 2 lemons, 3/4 cup plus 2 tablespoons sugar, 4 extra-large eggs, 6 tablespoons unsalted butter, cubed, 9 tablespoons unsalted butter, softened, 1 cup plus 1 tablespoon flour, 1 cup plus 1 to 2 tablespoons sugar, 1 teaspoon baking powder, 1/2 teaspoon kosher salt, 2 extra-large eggs, 1/2 cup ground toasted almonds, 2 tablespoons toasted sliced almonds, 1 tablespoon almond liqueur (optional), 1/2 cup heavy cream (optional), 2 tablespoons confectioners' sugar or as needed\\nTitle: Chocolate Pudding Cake with Coconut Ice Cream\\nIngredients: 1 cup heavy whipping cream, 1 cup unsweetened coconut milk, 4 large egg yolks, 1/4 cup sugar, 1/2 cup shredded coconut, toasted, 1 cup all-purpose flour, 1 1/2 cups golden brown sugar, 1/2 cup unsweetened cocoa powder, 2 teaspoons baking powder, 1 cup heavy whipping cream, 1 1/4 cups coconut water (not coconut milk), 1 cup coconut milk, 1 tablespoon sugar, 2 tablespoons shredded coconut, 1/4 cup thinly sliced coquito nuts, toasted, 2 tablespoons julienned crystallized ginger\\nTitle: Chocolate Pudding Cake with Coconut Ice Cream\\nIngredients: 1 cup heavy whipping cream, 1 cup unsweetened coconut milk, 4 large egg yolks, 1/4 cup sugar, 1/2 cup shredded coconut, toasted, 1 cup all-purpose flour, 1 1/2 cups golden brown sugar, 1/2 cup unsweetened cocoa powder, 2 teaspoons baking powder, 1 cup heavy whipping cream, 1 1/4 cups coconut water (not coconut milk), 1 cup coconut milk, 1 tablespoon sugar, 2 tablespoons shredded coconut, 1/4 cup thinly sliced coquito nuts, toasted, 2 tablespoons julienned crystallized ginger\\n<|eot_id|><|start_header_id|>user<|end_header_id|>\\nPlease provide a recipe that doesn't include nuts. can you give me a dessert recipe?. I'm allergic to nuts. Can you give me a dessert recipe?\\n<|eot_id|><|start_header_id|>assistant<|end_header_id|>\\nProvide a complete recipe following the structure outlined above.\\n\", \"parameters\": {\"max_new_tokens\": 700, \"top_p\": 0.9, \"temperature\": 0.4, \"stop\": [\"<|eot_id|>\"]}}\n",
      "{'generated_text': \"**Lemon-Almond Butter Cake**\\n\\n**Ingredients:**\\n\\n1. Grated zest and juice of 2 lemons\\n2. 3/4 cup plus 2 tablespoons sugar\\n3. 4 extra-large eggs\\n4. 6 tablespoons unsalted butter, cubed\\n5. 9 tablespoons unsalted butter, softened\\n6. 1 cup plus 1 tablespoon flour\\n7. 1 cup plus 1 to 2 tablespoons sugar\\n8. 1 teaspoon baking powder\\n9. 1/2 teaspoon kosher salt\\n10. 2 extra-large eggs\\n11. 1/2 cup heavy cream (optional)\\n12. 2 tablespoons confectioners' sugar or as needed\\n\\n**Instructions:**\\n\\n1. Preheat the oven to 350°F (180°C). Grease and flour two 9-inch (23cm) round cake pans.\\n2. In a medium bowl, whisk together the flour, sugar, baking powder, and salt.\\n3. In a large bowl, whisk together the lemon zest, lemon juice, and softened butter until well combined.\\n4. Add the eggs one at a time, whisking well after each addition.\\n5. Gradually add the dry ingredients to the wet ingredients, whisking until smooth.\\n6. Divide the batter evenly between the prepared pans and smooth the tops.\\n7. Bake for 30-35 minutes or until a toothpick inserted in the center comes out clean.\\n8. Allow the cakes to cool in the pans for 10 minutes before transferring to a wire rack to cool completely.\\n9. If desired, top with whipped cream and confectioners' sugar.\\n\\n**Additional Notes:**\\n\\n* Make sure to use fresh and high-quality lemons for the best flavor.\\n* If you prefer a stronger lemon flavor, you can increase the amount of lemon zest and juice.\\n* This cake is perfect for spring or summer, and it's a great option for a birthday or special occasion.\"}\n",
      "**Lemon-Almond Butter Cake**\n",
      "\n",
      "**Ingredients:**\n",
      "\n",
      "1. Grated zest and juice of 2 lemons\n",
      "2. 3/4 cup plus 2 tablespoons sugar\n",
      "3. 4 extra-large eggs\n",
      "4. 6 tablespoons unsalted butter, cubed\n",
      "5. 9 tablespoons unsalted butter, softened\n",
      "6. 1 cup plus 1 tablespoon flour\n",
      "7. 1 cup plus 1 to 2 tablespoons sugar\n",
      "8. 1 teaspoon baking powder\n",
      "9. 1/2 teaspoon kosher salt\n",
      "10. 2 extra-large eggs\n",
      "11. 1/2 cup heavy cream (optional)\n",
      "12. 2 tablespoons confectioners' sugar or as needed\n",
      "\n",
      "**Instructions:**\n",
      "\n",
      "1. Preheat the oven to 350°F (180°C). Grease and flour two 9-inch (23cm) round cake pans.\n",
      "2. In a medium bowl, whisk together the flour, sugar, baking powder, and salt.\n",
      "3. In a large bowl, whisk together the lemon zest, lemon juice, and softened butter until well combined.\n",
      "4. Add the eggs one at a time, whisking well after each addition.\n",
      "5. Gradually add the dry ingredients to the wet ingredients, whisking until smooth.\n",
      "6. Divide the batter evenly between the prepared pans and smooth the tops.\n",
      "7. Bake for 30-35 minutes or until a toothpick inserted in the center comes out clean.\n",
      "8. Allow the cakes to cool in the pans for 10 minutes before transferring to a wire rack to cool completely.\n",
      "9. If desired, top with whipped cream and confectioners' sugar.\n",
      "\n",
      "**Additional Notes:**\n",
      "\n",
      "* Make sure to use fresh and high-quality lemons for the best flavor.\n",
      "* If you prefer a stronger lemon flavor, you can increase the amount of lemon zest and juice.\n",
      "* This cake is perfect for spring or summer, and it's a great option for a birthday or special occasion.\n",
      "--------------------------------------------------\n",
      "\n",
      "Query: I'm allergic to nuts. Can you give me a dessert recipe?\n",
      "{\"inputs\": \"Human: <|begin_of_text|><|start_header_id|>system<|end_header_id|>\\nYou are a helpful assistant specialized in providing recipes. When answering questions about recipes, always structure your response as follows:\\n1. Recipe Name\\n2. Ingredients (as a numbered list)\\n3. Instructions (as a numbered list)\\n4. Any additional notes or tips\\nEnsure that ingredients and instructions are always presented as numbered lists for clarity and ease of use.\\nUse the following context to answer the user's query:\\nTitle: Honey-Apple-Almond Cake\\nIngredients: 4 large egg whites, 1 cup sugar, 1 teaspoon almond extract, 3 sticks unsalted butter, cut into small pieces, at room temperature, 3 tablespoons honey, Basic Vanilla Cake, recipe follows, baked and cooled, 3/4 cup apple butter, Sliced almonds, toasted, for topping, 2 sticks unsalted butter, at room temperature, plus more for the pans, 3 cups all-purpose flour, plus more for the pans, 1 tablespoon baking powder, 1/2 teaspoon salt, 1 1/2 cups sugar, 4 large eggs, at room temperature, 1 tablespoon vanilla extract, 3/4 cup heavy cream\\nTitle: Lemon-Almond Butter Cake\\nIngredients: Grated zest and juice of 2 lemons, 3/4 cup plus 2 tablespoons sugar, 4 extra-large eggs, 6 tablespoons unsalted butter, cubed, 9 tablespoons unsalted butter, softened, 1 cup plus 1 tablespoon flour, 1 cup plus 1 to 2 tablespoons sugar, 1 teaspoon baking powder, 1/2 teaspoon kosher salt, 2 extra-large eggs, 1/2 cup ground toasted almonds, 2 tablespoons toasted sliced almonds, 1 tablespoon almond liqueur (optional), 1/2 cup heavy cream (optional), 2 tablespoons confectioners' sugar or as needed\\nTitle: Chocolate Pudding Cake with Coconut Ice Cream\\nIngredients: 1 cup heavy whipping cream, 1 cup unsweetened coconut milk, 4 large egg yolks, 1/4 cup sugar, 1/2 cup shredded coconut, toasted, 1 cup all-purpose flour, 1 1/2 cups golden brown sugar, 1/2 cup unsweetened cocoa powder, 2 teaspoons baking powder, 1 cup heavy whipping cream, 1 1/4 cups coconut water (not coconut milk), 1 cup coconut milk, 1 tablespoon sugar, 2 tablespoons shredded coconut, 1/4 cup thinly sliced coquito nuts, toasted, 2 tablespoons julienned crystallized ginger\\nTitle: Chocolate Pudding Cake with Coconut Ice Cream\\nIngredients: 1 cup heavy whipping cream, 1 cup unsweetened coconut milk, 4 large egg yolks, 1/4 cup sugar, 1/2 cup shredded coconut, toasted, 1 cup all-purpose flour, 1 1/2 cups golden brown sugar, 1/2 cup unsweetened cocoa powder, 2 teaspoons baking powder, 1 cup heavy whipping cream, 1 1/4 cups coconut water (not coconut milk), 1 cup coconut milk, 1 tablespoon sugar, 2 tablespoons shredded coconut, 1/4 cup thinly sliced coquito nuts, toasted, 2 tablespoons julienned crystallized ginger\\n<|eot_id|><|start_header_id|>user<|end_header_id|>\\nPlease provide a recipe that doesn't include nuts. can you give me a dessert recipe?. I'm allergic to nuts. Can you give me a dessert recipe?\\n<|eot_id|><|start_header_id|>assistant<|end_header_id|>\\nProvide a complete recipe following the structure outlined above.\\n\", \"parameters\": {\"max_new_tokens\": 700, \"top_p\": 0.9, \"temperature\": 0.4, \"stop\": [\"<|eot_id|>\"]}}\n",
      "{'generated_text': \"**Lemon-Almond Butter Cake**\\n\\n**Ingredients:**\\n\\n1. Grated zest and juice of 2 lemons\\n2. 3/4 cup plus 2 tablespoons sugar\\n3. 4 extra-large eggs\\n4. 6 tablespoons unsalted butter, cubed\\n5. 9 tablespoons unsalted butter, softened\\n6. 1 cup plus 1 tablespoon flour\\n7. 1 cup plus 1 to 2 tablespoons sugar\\n8. 1 teaspoon baking powder\\n9. 1/2 teaspoon kosher salt\\n10. 2 extra-large eggs\\n11. 1/2 cup heavy cream (optional)\\n12. 2 tablespoons confectioners' sugar or as needed\\n\\n**Instructions:**\\n\\n1. Preheat the oven to 350°F (180°C). Grease and flour two 9-inch (23cm) round cake pans.\\n2. In a medium bowl, whisk together the flour, sugar, baking powder, and salt.\\n3. In a large bowl, whisk together the lemon zest, lemon juice, and softened butter until well combined.\\n4. Add the eggs one at a time, whisking well after each addition.\\n5. Gradually add the dry ingredients to the wet ingredients, whisking until smooth.\\n6. Divide the batter evenly between the prepared pans and smooth the tops.\\n7. Bake for 30-35 minutes or until a toothpick inserted in the center comes out clean.\\n8. Allow the cakes to cool in the pans for 10 minutes before transferring to a wire rack to cool completely.\\n9. If desired, top with whipped cream and confectioners' sugar.\\n\\n**Additional Notes:**\\n\\n* Make sure to use fresh and high-quality lemons for the best flavor.\\n* If you prefer a stronger lemon flavor, you can increase the amount of lemon zest and juice.\\n* This cake is perfect for spring or summer, and it's a great option for a birthday or special occasion.\"}\n",
      "**Lemon-Almond Butter Cake**\n",
      "\n",
      "**Ingredients:**\n",
      "\n",
      "1. Grated zest and juice of 2 lemons\n",
      "2. 3/4 cup plus 2 tablespoons sugar\n",
      "3. 4 extra-large eggs\n",
      "4. 6 tablespoons unsalted butter, cubed\n",
      "5. 9 tablespoons unsalted butter, softened\n",
      "6. 1 cup plus 1 tablespoon flour\n",
      "7. 1 cup plus 1 to 2 tablespoons sugar\n",
      "8. 1 teaspoon baking powder\n",
      "9. 1/2 teaspoon kosher salt\n",
      "10. 2 extra-large eggs\n",
      "11. 1/2 cup heavy cream (optional)\n",
      "12. 2 tablespoons confectioners' sugar or as needed\n",
      "\n",
      "**Instructions:**\n",
      "\n",
      "1. Preheat the oven to 350°F (180°C). Grease and flour two 9-inch (23cm) round cake pans.\n",
      "2. In a medium bowl, whisk together the flour, sugar, baking powder, and salt.\n",
      "3. In a large bowl, whisk together the lemon zest, lemon juice, and softened butter until well combined.\n",
      "4. Add the eggs one at a time, whisking well after each addition.\n",
      "5. Gradually add the dry ingredients to the wet ingredients, whisking until smooth.\n",
      "6. Divide the batter evenly between the prepared pans and smooth the tops.\n",
      "7. Bake for 30-35 minutes or until a toothpick inserted in the center comes out clean.\n",
      "8. Allow the cakes to cool in the pans for 10 minutes before transferring to a wire rack to cool completely.\n",
      "9. If desired, top with whipped cream and confectioners' sugar.\n",
      "\n",
      "**Additional Notes:**\n",
      "\n",
      "* Make sure to use fresh and high-quality lemons for the best flavor.\n",
      "* If you prefer a stronger lemon flavor, you can increase the amount of lemon zest and juice.\n",
      "* This cake is perfect for spring or summer, and it's a great option for a birthday or special occasion.\n",
      "--------------------------------------------------\n"
     ]
    }
   ],
   "source": [
    "# Example with multiple equal queries (same request)\n",
    "queries = [\n",
    "    \"I'm allergic to nuts. Can you give me a dessert recipe?\",\n",
    "    \"I'm allergic to nuts. Can you give me a dessert recipe?\",\n",
    "    \"I'm allergic to nuts. Can you give me a dessert recipe?\"\n",
    "]\n",
    "\n",
    "for q in queries:\n",
    "    print(f\"\\nQuery: {q}\")\n",
    "    result = process_query(q)\n",
    "    print(result)\n",
    "    print(\"-\" * 50)"
   ]
  },
  {
   "cell_type": "code",
   "execution_count": 31,
   "id": "3b1b7d44-32ae-4a66-a1c0-f59325fe3b18",
   "metadata": {},
   "outputs": [
    {
     "name": "stdout",
     "output_type": "stream",
     "text": [
      "{\"inputs\": \"Human: <|begin_of_text|><|start_header_id|>system<|end_header_id|>\\nYou are a helpful assistant specialized in providing recipes. When answering questions about recipes, always structure your response as follows:\\n1. Recipe Name\\n2. Ingredients (as a numbered list)\\n3. Instructions (as a numbered list)\\n4. Any additional notes or tips\\nEnsure that ingredients and instructions are always presented as numbered lists for clarity and ease of use.\\nUse the following context to answer the user's query:\\nInstructions: In a deep rectangular or oval dish that can contain the meat and all the other ingredients except for the mushrooms, combine the pork tenderloin, 3 tablespoons of olive oil, onion, garlic, bay leaves, celery, rosemary, and red wine. Turn the meat over several times to coat it well, then cover the dish with plastic wrap and refrigerate overnight. Take it out occasionally whenever convenient to turn the pork over, basting it with its marinade.\\nThe following day, take the meat out of the refrigerator at least 1 hour before proceeding with the preparation of the dish. Turn it over and baste it when you take it out of the refrigerator, and once every half hour thereafter.\\nDetach the mushroom caps from the stems, discarding the stems. Wash the caps quickly in running cold water without letting them soak. Pat them dry gently but thoroughly with a cloth towel, and cut them into thin slices.\\nInstructions: In a deep rectangular or oval dish that can contain the meat and all the other ingredients except for the mushrooms, combine the pork tenderloin, 3 tablespoons of olive oil, onion, garlic, bay leaves, celery, rosemary, and red wine. Turn the meat over several times to coat it well, then cover the dish with plastic wrap and refrigerate overnight. Take it out occasionally whenever convenient to turn the pork over, basting it with its marinade.\\nThe following day, take the meat out of the refrigerator at least 1 hour before proceeding with the preparation of the dish. Turn it over and baste it when you take it out of the refrigerator, and once every half hour thereafter.\\nDetach the mushroom caps from the stems, discarding the stems. Wash the caps quickly in running cold water without letting them soak. Pat them dry gently but thoroughly with a cloth towel, and cut them into thin slices.\\nPLATING Using an o-ring in the center of the plate, fill with the pork sauce. Top with fried potatoes. Cut each pork tenderloin into 3 equal pieces and surround ring. Pull ring off and serve.\\nMake a paste with curry powder, water salt and slowly add oil. Let stand for 1 hour to settle. Use top, yellow oil for garnish or frying.\\nPLATING Using an o-ring in the center of the plate, fill with the pork sauce. Top with fried potatoes. Cut each pork tenderloin into 3 equal pieces and surround ring. Pull ring off and serve.\\nMake a paste with curry powder, water salt and slowly add oil. Let stand for 1 hour to settle. Use top, yellow oil for garnish or frying.\\n<|eot_id|><|start_header_id|>user<|end_header_id|>\\nHow to cook a dish with pork tenderloin?\\n<|eot_id|><|start_header_id|>assistant<|end_header_id|>\\nProvide a complete recipe following the structure outlined above.\\n\", \"parameters\": {\"max_new_tokens\": 700, \"top_p\": 0.9, \"temperature\": 0.4, \"stop\": [\"<|eot_id|>\"]}}\n",
      "{'generated_text': \"**Herbed Pork Tenderloin with Mushroom Sauce**\\n\\n**Ingredients:**\\n\\n1. 1 (1-1.5 pound) pork tenderloin\\n2. 3 tablespoons olive oil\\n3. 1 onion, sliced\\n4. 3 cloves garlic, minced\\n5. 2 bay leaves\\n6. 2 stalks celery, sliced\\n7. 2 sprigs fresh rosemary, chopped\\n8. 1 cup red wine\\n9. 1 cup mushrooms (button or cremini), sliced\\n10. Salt and pepper, to taste\\n11. Curry powder (for garnish or frying)\\n\\n**Instructions:**\\n\\n1. In a deep rectangular or oval dish, combine the pork tenderloin, 3 tablespoons of olive oil, onion, garlic, bay leaves, celery, rosemary, and red wine. Turn the meat over several times to coat it well, then cover the dish with plastic wrap and refrigerate overnight. Take it out occasionally whenever convenient to turn the pork over, basting it with its marinade.\\n2. The following day, take the meat out of the refrigerator at least 1 hour before proceeding with the preparation of the dish. Turn it over and baste it when you take it out of the refrigerator, and once every half hour thereafter.\\n3. Detach the mushroom caps from the stems, discarding the stems. Wash the caps quickly in running cold water without letting them soak. Pat them dry gently but thoroughly with a cloth towel, and cut them into thin slices.\\n4. Preheat the oven to 400°F (200°C).\\n5. Remove the pork from the marinade, letting any excess liquid drip off. Place the pork on a baking sheet lined with parchment paper and roast for 20-25 minutes, or until cooked through.\\n6. While the pork is cooking, heat the mushroom slices in a pan with a little oil until they're tender and lightly browned.\\n7. To plate, use an o-ring in the center of the plate, fill with the pork sauce (made by deglazing the pan with a little red wine and scraping up the browned bits). Top with fried potatoes. Cut each pork tenderloin into 3 equal pieces and surround the ring. Pull the ring off and serve.\\n\\n**Additional Notes:**\\n\\n* Make a paste with curry powder, water, salt, and slowly add oil. Let it stand for 1 hour to settle. Use the top, yellow oil for garnish or frying.\\n* You can adjust the amount of herbs and spices to your taste.\\n* This recipe is perfect for a special occasion or a dinner party.\"}\n",
      "**Herbed Pork Tenderloin with Mushroom Sauce**\n",
      "\n",
      "**Ingredients:**\n",
      "\n",
      "1. 1 (1-1.5 pound) pork tenderloin\n",
      "2. 3 tablespoons olive oil\n",
      "3. 1 onion, sliced\n",
      "4. 3 cloves garlic, minced\n",
      "5. 2 bay leaves\n",
      "6. 2 stalks celery, sliced\n",
      "7. 2 sprigs fresh rosemary, chopped\n",
      "8. 1 cup red wine\n",
      "9. 1 cup mushrooms (button or cremini), sliced\n",
      "10. Salt and pepper, to taste\n",
      "11. Curry powder (for garnish or frying)\n",
      "\n",
      "**Instructions:**\n",
      "\n",
      "1. In a deep rectangular or oval dish, combine the pork tenderloin, 3 tablespoons of olive oil, onion, garlic, bay leaves, celery, rosemary, and red wine. Turn the meat over several times to coat it well, then cover the dish with plastic wrap and refrigerate overnight. Take it out occasionally whenever convenient to turn the pork over, basting it with its marinade.\n",
      "2. The following day, take the meat out of the refrigerator at least 1 hour before proceeding with the preparation of the dish. Turn it over and baste it when you take it out of the refrigerator, and once every half hour thereafter.\n",
      "3. Detach the mushroom caps from the stems, discarding the stems. Wash the caps quickly in running cold water without letting them soak. Pat them dry gently but thoroughly with a cloth towel, and cut them into thin slices.\n",
      "4. Preheat the oven to 400°F (200°C).\n",
      "5. Remove the pork from the marinade, letting any excess liquid drip off. Place the pork on a baking sheet lined with parchment paper and roast for 20-25 minutes, or until cooked through.\n",
      "6. While the pork is cooking, heat the mushroom slices in a pan with a little oil until they're tender and lightly browned.\n",
      "7. To plate, use an o-ring in the center of the plate, fill with the pork sauce (made by deglazing the pan with a little red wine and scraping up the browned bits). Top with fried potatoes. Cut each pork tenderloin into 3 equal pieces and surround the ring. Pull the ring off and serve.\n",
      "\n",
      "**Additional Notes:**\n",
      "\n",
      "* Make a paste with curry powder, water, salt, and slowly add oil. Let it stand for 1 hour to settle. Use the top, yellow oil for garnish or frying.\n",
      "* You can adjust the amount of herbs and spices to your taste.\n",
      "* This recipe is perfect for a special occasion or a dinner party.\n"
     ]
    }
   ],
   "source": [
    "# Another Example Usage run previously by Phoebe\n",
    "query = \"How to cook a dish with pork tenderloin?\"\n",
    "result = process_query(query)\n",
    "print(result)"
   ]
  },
  {
   "cell_type": "code",
   "execution_count": 173,
   "id": "a1f3c811-8e3f-43b5-a32d-930dbd0014df",
   "metadata": {},
   "outputs": [
    {
     "name": "stdout",
     "output_type": "stream",
     "text": [
      "{\"inputs\": \"Human: <|begin_of_text|><|start_header_id|>system<|end_header_id|>\\nYou are a helpful assistant specialized in providing recipes. When answering questions about recipes, always structure your response as follows:\\n1. Recipe Name\\n2. Ingredients (as a numbered list)\\n3. Instructions (as a numbered list)\\n4. Any additional notes or tips\\nEnsure that ingredients and instructions are always presented as numbered lists for clarity and ease of use.\\nUse the following context to answer the user's query:\\nInstructions: Bring a stockpot of lightly salted water to a boil over high heat. Add the potatoes, and cook until tender, 15 to 20 minutes. Drain potatoes. Cut potatoes into 1/3-inch-thick rounds, and transfer to a bowl. Set aside. Bring a stockpot of lightly salted water to a boil over high heat, and prepare an ice bath. Trim bottoms from Brussels sprouts. Peel away the inner leaves, one by one. Add carrots to boiling water, and cook until tender, about 4 minutes. Using a slotted spoon, transfer carrots to bowl with the potatoes. Add the leaves of the Brussels sprouts to the boiling water, and cook until just tender, about 3 minutes. Using a slotted spoon, transfer leaves to the ice bath to stop the cooking process. Drain in a colander, and add leaves to bowl with carrots and potatoes. In a medium saucepan, bring 1 cup water to a boil. Add the cream, and return to a boil. Boil 2 minutes, reduce heat to low, and whisk in the butter, piece by piece. Add the reserved potatoes, carrots,\\nTitle: Bacon and Brussels Sprout Mac and Cheese\\nIngredients: 4 cups Brussels sprouts, on the larger side, or 1 large stalk, Salt, 1 tablespoon EVOO, 4 ounces center-cut bacon or pancetta, chopped, 3 tablespoons butter, 3 to 4 cloves garlic, chopped, 1 onion, chopped, Freshly ground black pepper, 3 tablespoons flour, 1/2 cup dry white wine, 1 cup grated Parmigiano-Reggiano, 1 cup chicken stock, 3 cups whole milk, Freshly grated nutmeg, 1 pound cavatappi, hollow short curls of pasta with lines, or penne, 1 cup shredded white sharp Cheddar, 1 cup shredded gruyere\\nInstructions: Watch how to make this recipe.\\nPreheat the oven to 375 degrees F.\\nWith a sharp paring knife, core the Brussels sprouts and separate the leaves; place in a large bowl.\\nHeat a large pot of water to boil and salt the water. Parboil the leaves to tender crisp, 2 minutes. Remove with a spider, drain and cool. Dry the leaves on a kitchen towel. Add more water to fill the pot back up for the pasta, return to a boil.\\nTitle: Bean Cassoulet with Fennel Spiced Chicken and Roasted Vegetables\\nIngredients: 12 medium Brussels sprouts, 2 medium red onions, 1/2 cup extra-virgin olive oil, 3 medium parsnips, 3 medium carrots, 3 celery stalks, peeled, Finely ground sea salt, 1/4 cup Fennel Spice Rub, recipe follows, 1 (4 pound) chicken plus 2 bone-in chicken breasts, 2 to 3 garlic cloves, smashed, 1/4 pound pancetta, cut into strips about 1/2-inch thick and 1-inch long, optional, 1 pound giant white beans, such as Corona, precooked or canned with liquid, 1 cup fennel seeds, 3 tablespoons coriander seeds, 2 tablespoons white peppercorns, 3 tablespoons grey salt\\nInstructions: Trim the Brussel sprouts by removing the tough outer leaves and stems. Halve lengthwise. Cook the Brussel sprouts in a cast iron casserole or oven-proof skillet in boiling salted water for 8 to 10 minutes. Drain and set aside.\\nTitle: Bacon and Brussel Sprout Hash\\nIngredients: Extra-virgin olive oil, 4 slices of thick-cut bacon, 4 sprigs fresh thyme, 1 lb of fingerling potatoes, split down the middle, 2 cups Brussel sprouts, cut into thick slices, 1/2 lb red pearl onions, peeled, 1/2 cup low-sodium chicken broth, 2 tablespoons balsamic vinegar, 1/4 bunch flat-leaf parsley, roughly chopped, Kosher salt and freshly ground black pepper\\nInstructions: Set a large saute pan over medium heat and add a 2 count of olive oil. Cut bacon into long strips and add to pan together with thyme. Cook for 5 to 7 minutes to render the fat then strain and set aside. Discard half the fat in the pan then add brussel sprouts, potatoes and pearl onions. Season with salt and pepper and cook until slightly browned. Add chicken stock and steam for 3 to 5 minutes until liquid has evaporated and vegetables are tender. Add balsamic vinegar and toss to coat. Cook until balsamic has reduced then fold in fresh parsley and bacon.\\n<|eot_id|><|start_header_id|>user<|end_header_id|>\\nI have brussel sprouts and carrots, can you give me a healthy dairy-free recipe to make.\\n<|eot_id|><|start_header_id|>assistant<|end_header_id|>\\nProvide a complete recipe following the structure outlined above.\\n\", \"parameters\": {\"max_new_tokens\": 700, \"top_p\": 0.9, \"temperature\": 0.4, \"stop\": [\"<|eot_id|>\"]}}\n",
      "{'generated_text': '**Roasted Brussels Sprouts and Carrots with Lemon-Tahini Sauce**\\n\\nIngredients:\\n\\n1. 1 pound Brussels sprouts, trimmed and halved\\n2. 2 medium carrots, peeled and sliced\\n3. 2 tablespoons olive oil\\n4. 1/2 teaspoon salt\\n5. 1/4 teaspoon black pepper\\n6. 2 cloves garlic, minced\\n7. 2 tablespoons freshly squeezed lemon juice\\n8. 1/4 cup tahini\\n9. 2 tablespoons water\\n10. 1 tablespoon chopped fresh parsley\\n\\nInstructions:\\n\\n1. Preheat the oven to 425°F (220°C).\\n2. In a large bowl, toss Brussels sprouts and carrots with olive oil, salt, and pepper until they are evenly coated.\\n3. Spread the vegetables in a single layer on a baking sheet and roast for 20-25 minutes, or until tender and caramelized.\\n4. In a blender or food processor, combine garlic, lemon juice, tahini, and water. Blend until smooth and creamy.\\n5. Remove the roasted vegetables from the oven and toss with the lemon-tahini sauce.\\n6. Garnish with chopped parsley and serve hot.\\n\\nAdditional notes or tips:\\n\\n* You can adjust the amount of garlic and lemon juice to your taste.\\n* If you prefer a thicker sauce, add more tahini or reduce the amount of water.\\n* This recipe is dairy-free and vegan-friendly, making it a great option for those with dietary restrictions.\\n* You can also add other spices or herbs to the sauce, such as cumin or paprika, to give it a unique flavor.'}\n",
      "**Roasted Brussels Sprouts and Carrots with Lemon-Tahini Sauce**\n",
      "\n",
      "Ingredients:\n",
      "\n",
      "1. 1 pound Brussels sprouts, trimmed and halved\n",
      "2. 2 medium carrots, peeled and sliced\n",
      "3. 2 tablespoons olive oil\n",
      "4. 1/2 teaspoon salt\n",
      "5. 1/4 teaspoon black pepper\n",
      "6. 2 cloves garlic, minced\n",
      "7. 2 tablespoons freshly squeezed lemon juice\n",
      "8. 1/4 cup tahini\n",
      "9. 2 tablespoons water\n",
      "10. 1 tablespoon chopped fresh parsley\n",
      "\n",
      "Instructions:\n",
      "\n",
      "1. Preheat the oven to 425°F (220°C).\n",
      "2. In a large bowl, toss Brussels sprouts and carrots with olive oil, salt, and pepper until they are evenly coated.\n",
      "3. Spread the vegetables in a single layer on a baking sheet and roast for 20-25 minutes, or until tender and caramelized.\n",
      "4. In a blender or food processor, combine garlic, lemon juice, tahini, and water. Blend until smooth and creamy.\n",
      "5. Remove the roasted vegetables from the oven and toss with the lemon-tahini sauce.\n",
      "6. Garnish with chopped parsley and serve hot.\n",
      "\n",
      "Additional notes or tips:\n",
      "\n",
      "* You can adjust the amount of garlic and lemon juice to your taste.\n",
      "* If you prefer a thicker sauce, add more tahini or reduce the amount of water.\n",
      "* This recipe is dairy-free and vegan-friendly, making it a great option for those with dietary restrictions.\n",
      "* You can also add other spices or herbs to the sauce, such as cumin or paprika, to give it a unique flavor.\n"
     ]
    }
   ],
   "source": [
    "# Another query example\n",
    "query = \"I have brussel sprouts and carrots, can you give me a healthy dairy-free recipe to make.\"\n",
    "result = process_query(query)\n",
    "print(result)"
   ]
  },
  {
   "cell_type": "code",
   "execution_count": 32,
   "id": "8c54c36a-ddfb-440b-9102-5ce58da526f8",
   "metadata": {},
   "outputs": [
    {
     "name": "stdout",
     "output_type": "stream",
     "text": [
      "{\"inputs\": \"Human: <|begin_of_text|><|start_header_id|>system<|end_header_id|>\\nYou are a helpful assistant specialized in providing recipes. When answering questions about recipes, always structure your response as follows:\\n1. Recipe Name\\n2. Ingredients (as a numbered list)\\n3. Instructions (as a numbered list)\\n4. Any additional notes or tips\\nEnsure that ingredients and instructions are always presented as numbered lists for clarity and ease of use.\\nUse the following context to answer the user's query:\\nInstructions: In a deep rectangular or oval dish that can contain the meat and all the other ingredients except for the mushrooms, combine the pork tenderloin, 3 tablespoons of olive oil, onion, garlic, bay leaves, celery, rosemary, and red wine. Turn the meat over several times to coat it well, then cover the dish with plastic wrap and refrigerate overnight. Take it out occasionally whenever convenient to turn the pork over, basting it with its marinade.\\nThe following day, take the meat out of the refrigerator at least 1 hour before proceeding with the preparation of the dish. Turn it over and baste it when you take it out of the refrigerator, and once every half hour thereafter.\\nDetach the mushroom caps from the stems, discarding the stems. Wash the caps quickly in running cold water without letting them soak. Pat them dry gently but thoroughly with a cloth towel, and cut them into thin slices.\\nInstructions: In a deep rectangular or oval dish that can contain the meat and all the other ingredients except for the mushrooms, combine the pork tenderloin, 3 tablespoons of olive oil, onion, garlic, bay leaves, celery, rosemary, and red wine. Turn the meat over several times to coat it well, then cover the dish with plastic wrap and refrigerate overnight. Take it out occasionally whenever convenient to turn the pork over, basting it with its marinade.\\nThe following day, take the meat out of the refrigerator at least 1 hour before proceeding with the preparation of the dish. Turn it over and baste it when you take it out of the refrigerator, and once every half hour thereafter.\\nDetach the mushroom caps from the stems, discarding the stems. Wash the caps quickly in running cold water without letting them soak. Pat them dry gently but thoroughly with a cloth towel, and cut them into thin slices.\\nPLATING Using an o-ring in the center of the plate, fill with the pork sauce. Top with fried potatoes. Cut each pork tenderloin into 3 equal pieces and surround ring. Pull ring off and serve.\\nMake a paste with curry powder, water salt and slowly add oil. Let stand for 1 hour to settle. Use top, yellow oil for garnish or frying.\\nPLATING Using an o-ring in the center of the plate, fill with the pork sauce. Top with fried potatoes. Cut each pork tenderloin into 3 equal pieces and surround ring. Pull ring off and serve.\\nMake a paste with curry powder, water salt and slowly add oil. Let stand for 1 hour to settle. Use top, yellow oil for garnish or frying.\\n<|eot_id|><|start_header_id|>user<|end_header_id|>\\nHow to cook a dish with pork tenderloin?\\n<|eot_id|><|start_header_id|>assistant<|end_header_id|>\\nProvide a complete recipe following the structure outlined above.\\n\", \"parameters\": {\"max_new_tokens\": 700, \"top_p\": 0.9, \"temperature\": 0.4, \"stop\": [\"<|eot_id|>\"]}}\n",
      "{'generated_text': \"**Herbed Pork Tenderloin with Mushroom Sauce**\\n\\n**Ingredients:**\\n\\n1. 1 (1-1.5 pound) pork tenderloin\\n2. 3 tablespoons olive oil\\n3. 1 onion, sliced\\n4. 3 cloves garlic, minced\\n5. 2 bay leaves\\n6. 2 stalks celery, sliced\\n7. 2 sprigs fresh rosemary, chopped\\n8. 1 cup red wine\\n9. 1 cup mushrooms (button or cremini), sliced\\n10. Salt and pepper, to taste\\n11. Curry powder (for garnish or frying)\\n\\n**Instructions:**\\n\\n1. In a deep rectangular or oval dish, combine the pork tenderloin, 3 tablespoons of olive oil, onion, garlic, bay leaves, celery, rosemary, and red wine. Turn the meat over several times to coat it well, then cover the dish with plastic wrap and refrigerate overnight. Take it out occasionally whenever convenient to turn the pork over, basting it with its marinade.\\n2. The following day, take the meat out of the refrigerator at least 1 hour before proceeding with the preparation of the dish. Turn it over and baste it when you take it out of the refrigerator, and once every half hour thereafter.\\n3. Detach the mushroom caps from the stems, discarding the stems. Wash the caps quickly in running cold water without letting them soak. Pat them dry gently but thoroughly with a cloth towel, and cut them into thin slices.\\n4. Preheat the oven to 400°F (200°C).\\n5. Remove the pork from the marinade, letting any excess liquid drip off. Place the pork on a baking sheet lined with parchment paper and roast for 20-25 minutes, or until cooked through.\\n6. While the pork is cooking, heat the mushroom slices in a pan with a little oil until they're tender and lightly browned.\\n7. To plate, use an o-ring in the center of the plate, fill with the pork sauce (made by deglazing the pan with a little red wine and scraping up the browned bits). Top with fried potatoes. Cut each pork tenderloin into 3 equal pieces and surround the ring. Pull the ring off and serve.\\n\\n**Additional Notes:**\\n\\n* Make a paste with curry powder, water, salt, and slowly add oil. Let it stand for 1 hour to settle. Use the top, yellow oil for garnish or frying.\\n* You can adjust the amount of herbs and spices to your taste.\\n* This recipe is perfect for a special occasion or a dinner party.\"}\n",
      "**Herbed Pork Tenderloin with Mushroom Sauce**\n",
      "\n",
      "**Ingredients:**\n",
      "\n",
      "1. 1 (1-1.5 pound) pork tenderloin\n",
      "2. 3 tablespoons olive oil\n",
      "3. 1 onion, sliced\n",
      "4. 3 cloves garlic, minced\n",
      "5. 2 bay leaves\n",
      "6. 2 stalks celery, sliced\n",
      "7. 2 sprigs fresh rosemary, chopped\n",
      "8. 1 cup red wine\n",
      "9. 1 cup mushrooms (button or cremini), sliced\n",
      "10. Salt and pepper, to taste\n",
      "11. Curry powder (for garnish or frying)\n",
      "\n",
      "**Instructions:**\n",
      "\n",
      "1. In a deep rectangular or oval dish, combine the pork tenderloin, 3 tablespoons of olive oil, onion, garlic, bay leaves, celery, rosemary, and red wine. Turn the meat over several times to coat it well, then cover the dish with plastic wrap and refrigerate overnight. Take it out occasionally whenever convenient to turn the pork over, basting it with its marinade.\n",
      "2. The following day, take the meat out of the refrigerator at least 1 hour before proceeding with the preparation of the dish. Turn it over and baste it when you take it out of the refrigerator, and once every half hour thereafter.\n",
      "3. Detach the mushroom caps from the stems, discarding the stems. Wash the caps quickly in running cold water without letting them soak. Pat them dry gently but thoroughly with a cloth towel, and cut them into thin slices.\n",
      "4. Preheat the oven to 400°F (200°C).\n",
      "5. Remove the pork from the marinade, letting any excess liquid drip off. Place the pork on a baking sheet lined with parchment paper and roast for 20-25 minutes, or until cooked through.\n",
      "6. While the pork is cooking, heat the mushroom slices in a pan with a little oil until they're tender and lightly browned.\n",
      "7. To plate, use an o-ring in the center of the plate, fill with the pork sauce (made by deglazing the pan with a little red wine and scraping up the browned bits). Top with fried potatoes. Cut each pork tenderloin into 3 equal pieces and surround the ring. Pull the ring off and serve.\n",
      "\n",
      "**Additional Notes:**\n",
      "\n",
      "* Make a paste with curry powder, water, salt, and slowly add oil. Let it stand for 1 hour to settle. Use the top, yellow oil for garnish or frying.\n",
      "* You can adjust the amount of herbs and spices to your taste.\n",
      "* This recipe is perfect for a special occasion or a dinner party.\n"
     ]
    }
   ],
   "source": [
    "# Another Example Usage run previously by Phoebe\n",
    "query = \"How to cook a dish with pork tenderloin?\"\n",
    "result = process_query(query)\n",
    "print(result)"
   ]
  },
  {
   "cell_type": "markdown",
   "id": "2ea92ec5-3c7b-4998-b6fd-2d3b5ea89675",
   "metadata": {},
   "source": [
    "## Metric"
   ]
  },
  {
   "cell_type": "markdown",
   "id": "40d3cd9b-d794-46b4-be85-4968cd06535e",
   "metadata": {},
   "source": [
    "* Blue"
   ]
  },
  {
   "cell_type": "code",
   "execution_count": 35,
   "id": "e43cffe0-c5cf-4f7c-bf45-6c6f2fdf3b76",
   "metadata": {},
   "outputs": [
    {
     "name": "stderr",
     "output_type": "stream",
     "text": [
      "[nltk_data] Downloading package punkt to /home/sagemaker-\n",
      "[nltk_data]     user/nltk_data...\n",
      "[nltk_data]   Unzipping tokenizers/punkt.zip.\n"
     ]
    },
    {
     "data": {
      "text/plain": [
       "True"
      ]
     },
     "execution_count": 35,
     "metadata": {},
     "output_type": "execute_result"
    }
   ],
   "source": [
    "import nltk\n",
    "nltk.download('punkt')"
   ]
  },
  {
   "cell_type": "code",
   "execution_count": 45,
   "id": "09d2d1fe-55fa-4b47-a42a-c6095b011702",
   "metadata": {},
   "outputs": [
    {
     "name": "stdout",
     "output_type": "stream",
     "text": [
      "{\"inputs\": \"Human: <|begin_of_text|><|start_header_id|>system<|end_header_id|>\\nYou are a helpful assistant specialized in providing recipes. When answering questions about recipes, always structure your response as follows:\\n1. Recipe Name\\n2. Ingredients (as a numbered list)\\n3. Instructions (as a numbered list)\\n4. Any additional notes or tips\\nEnsure that ingredients and instructions are always presented as numbered lists for clarity and ease of use.\\nUse the following context to answer the user's query:\\nTitle: Spatchcocked Turkey with Sage Butter and Gravy\\nIngredients: One 14-pound turkey, Sage Butter, recipe follows, Olive oil, Salt and freshly ground black pepper, 5 bay leaves, 4 cloves garlic, smashed, 2 Granny Smith apples, cut into 1/2-inch dice, 2 ribs celery, cut into 1/2-inch dice, 1 large or 2 small carrots, peeled and cut into 1/2-inch dice, 1 large onion, cut into 1/2-inch dice, 1 cinnamon stick, 1 bunch fresh thyme, Kosher salt, 4 cups chicken stock, 2 cups apple cider, 1/2 to 3/4 cup all-purpose flour, 2 sticks (1 cup) butter, softened, 1/4 cup chopped fresh sage, Salt and pepper\\nInstructions: For the turkey: Preheat the oven to 375 degrees F.\\nTitle: Spatchcocked Turkey with Sage Butter and Gravy\\nIngredients: One 14-pound turkey, Sage Butter, recipe follows, Olive oil, Salt and freshly ground black pepper, 5 bay leaves, 4 cloves garlic, smashed, 2 Granny Smith apples, cut into 1/2-inch dice, 2 ribs celery, cut into 1/2-inch dice, 1 large or 2 small carrots, peeled and cut into 1/2-inch dice, 1 large onion, cut into 1/2-inch dice, 1 cinnamon stick, 1 bunch fresh thyme, Kosher salt, 4 cups chicken stock, 2 cups apple cider, 1/2 to 3/4 cup all-purpose flour, 2 sticks (1 cup) butter, softened, 1/4 cup chopped fresh sage, Salt and pepper\\nInstructions: For the turkey: Preheat the oven to 375 degrees F.\\nTitle: Sage-Green Peppercorn Gravy\\nIngredients: 2 tablespoons butter, 1 onion, halved, 2 garlic cloves, 3 carrots, cut in chunks, 3 celery stalks, cut in chunks, 4 sprigs flat-leaf parsley, plus 4 sprigs, 4 sprigs fresh thyme, plus 4 sprigs, 4 sage leaves, plus 4 leaves, 2 bay leaves, plus 2 leaves, 1/4 cup cognac, plus 2 tablespoons, 2 tablespoons flour, 1 quart chicken broth, low sodium, 1 pound smoked and cooked turkey wings, 2 cups water, 2 tablespoons olive oil, Turkey giblets and neck, Salt and pepper, 1 tablespoon green peppercorns\\nTitle: Sage-Green Peppercorn Gravy\\nIngredients: 2 tablespoons butter, 1 onion, halved, 2 garlic cloves, 3 carrots, cut in chunks, 3 celery stalks, cut in chunks, 4 sprigs flat-leaf parsley, plus 4 sprigs, 4 sprigs fresh thyme, plus 4 sprigs, 4 sage leaves, plus 4 leaves, 2 bay leaves, plus 2 leaves, 1/4 cup cognac, plus 2 tablespoons, 2 tablespoons flour, 1 quart chicken broth, low sodium, 1 pound smoked and cooked turkey wings, 2 cups water, 2 tablespoons olive oil, Turkey giblets and neck, Salt and pepper, 1 tablespoon green peppercorns\\n<|eot_id|><|start_header_id|>user<|end_header_id|>\\nGive me a recipe for Spatchcocked Turkey with Sage Butter and Gravy\\n<|eot_id|><|start_header_id|>assistant<|end_header_id|>\\nProvide a complete recipe following the structure outlined above.\\n\", \"parameters\": {\"max_new_tokens\": 700, \"top_p\": 0.9, \"temperature\": 0.4, \"stop\": [\"<|eot_id|>\"]}}\n",
      "{'generated_text': '**Spatchcocked Turkey with Sage Butter and Gravy**\\n\\n**Ingredients:**\\n\\n1. One 14-pound turkey\\n2. Sage Butter (recipe follows)\\n3. Olive oil\\n4. Salt and freshly ground black pepper\\n5. 5 bay leaves\\n6. 4 cloves garlic, smashed\\n7. 2 Granny Smith apples, cut into 1/2-inch dice\\n8. 2 ribs celery, cut into 1/2-inch dice\\n9. 1 large or 2 small carrots, peeled and cut into 1/2-inch dice\\n10. 1 large onion, cut into 1/2-inch dice\\n11. 1 cinnamon stick\\n12. 1 bunch fresh thyme\\n13. Kosher salt\\n14. 4 cups chicken stock\\n15. 2 cups apple cider\\n16. 1/2 to 3/4 cup all-purpose flour\\n17. 2 sticks (1 cup) butter, softened\\n18. 1/4 cup chopped fresh sage\\n19. Salt and pepper\\n\\n**Instructions:**\\n\\n1. Preheat the oven to 375 degrees F.\\n2. Rinse the turkey and pat it dry with paper towels.\\n3. Remove the backbone and flatten the turkey.\\n4. In a small bowl, mix together the softened butter, chopped sage, salt, and pepper.\\n5. Rub the sage butter all over the turkey, making sure to get some under the skin as well.\\n6. Season the turkey with salt, pepper, and a few sprigs of thyme.\\n7. Place the turkey in a roasting pan and put it in the oven.\\n8. Roast the turkey for about 2 1/2 hours, or until it reaches an internal temperature of 165 degrees F.\\n9. While the turkey is cooking, prepare the gravy. See the Sage-Green Peppercorn Gravy recipe below.\\n\\n**Sage-Green Peppercorn Gravy**\\n\\n**Ingredients:**\\n\\n1. 2 tablespoons butter\\n2. 1 onion, halved\\n3. 2 garlic cloves\\n4. 3 carrots, cut in chunks\\n5. 3 celery stalks, cut in chunks\\n6. 4 sprigs flat-leaf parsley, plus 4 sprigs\\n7. 4 sprigs fresh thyme, plus 4 sprigs\\n8. 4 sage leaves, plus 4 leaves\\n9. 2 bay leaves, plus 2 leaves\\n10. 1/4 cup cognac, plus 2 tablespoons\\n11. 2 tablespoons flour\\n12. 1 quart chicken broth, low sodium\\n13. 1 pound smoked and cooked turkey wings\\n14. 2 cups water\\n15. 2 tablespoons olive oil\\n16. Turkey giblets and neck\\n17. Salt and pepper\\n18. 1 tablespoon green peppercorns\\n\\n**Instructions:**\\n\\n1. Melt the butter in a large saucepan over medium heat.\\n2. Add the onion, garlic, carrots, and celery and cook until the vegetables are tender, about 10 minutes.\\n3. Add the parsley, thyme, sage, and bay leaves and cook for 1 minute.\\n4. Add the cognac and cook until the liquid is almost completely evaporated, about 2 minutes.\\n5. Sprinkle the flour over the vegetables and cook for 1 minute.\\n6. Gradually'}\n"
     ]
    },
    {
     "name": "stderr",
     "output_type": "stream",
     "text": [
      "/opt/conda/lib/python3.11/site-packages/nltk/translate/bleu_score.py:577: UserWarning: \n",
      "The hypothesis contains 0 counts of 4-gram overlaps.\n",
      "Therefore the BLEU score evaluates to 0, independently of\n",
      "how many N-gram overlaps of lower order it contains.\n",
      "Consider using lower n-gram order or use SmoothingFunction()\n",
      "  warnings.warn(_msg)\n",
      "/opt/conda/lib/python3.11/site-packages/nltk/translate/bleu_score.py:577: UserWarning: \n",
      "The hypothesis contains 0 counts of 3-gram overlaps.\n",
      "Therefore the BLEU score evaluates to 0, independently of\n",
      "how many N-gram overlaps of lower order it contains.\n",
      "Consider using lower n-gram order or use SmoothingFunction()\n",
      "  warnings.warn(_msg)\n"
     ]
    },
    {
     "name": "stdout",
     "output_type": "stream",
     "text": [
      "\n",
      "Recipe 1:\n",
      "Query: Give me a recipe for Spatchcocked Turkey with Sage Butter and Gravy\n",
      "Most Similar Reference Recipe (truncated): Title: Spatchcocked Turkey with Sage Butter and Gravy\n",
      "Ingredients: One 14-pound turkey, Sage Butter, recipe follows, Olive oil, Salt and freshly ground black pepper, 5 bay leaves, 4 cloves garlic, sma...\n",
      "Generated Recipe (truncated): **Spatchcocked Turkey with Sage Butter and Gravy**\n",
      "\n",
      "**Ingredients:**\n",
      "\n",
      "1. One 14-pound turkey\n",
      "2. Sage Butter (recipe follows)\n",
      "3. Olive oil\n",
      "4. Salt and freshly ground black pepper\n",
      "5. 5 bay leaves\n",
      "6. 4 c...\n",
      "BLEU score: 0.26848698745971405\n",
      "--------------------------------------------------\n",
      "{\"inputs\": \"Human: <|begin_of_text|><|start_header_id|>system<|end_header_id|>\\nYou are a helpful assistant specialized in providing recipes. When answering questions about recipes, always structure your response as follows:\\n1. Recipe Name\\n2. Ingredients (as a numbered list)\\n3. Instructions (as a numbered list)\\n4. Any additional notes or tips\\nEnsure that ingredients and instructions are always presented as numbered lists for clarity and ease of use.\\nUse the following context to answer the user's query:\\nTitle: Good Old American Corn Pudding\\nIngredients: 1 tablespoon butter, 1 medium onion (small dice), 1 teaspoon minced garlic, Kernels from 6 ears of corn, Salt and pepper to taste, 1 quart corn stock (recipe follows), 1 quart heavy cream, 10 ounces yellow cornmeal, 1/2 cup chives, 6 corn stalks, stripped of kernels, 1 medium onion, large dice, 2 carrots, 2 bay leaves, 1 tablespoon peppercorn, 2 tablespoons salt, 2 quarts water\\nInstructions: Corn Stock: Place all ingredients in a large pot and cover with cold water. Simmer for 40 minutes and strain.\\nPudding: Melt the butter in a large saucepan over low heat and cook the onions and garlic for 3 minutes. Add the corn kernels and cook 1 minute. Season with salt and pepper. Add stock and cream and bring to a boil. Slowly whisk in cornmeal and cook for 3 minutes. Add chives, stir, and serve.\\nTitle: Good Old American Corn Pudding\\nIngredients: 1 tablespoon butter, 1 medium onion (small dice), 1 teaspoon minced garlic, Kernels from 6 ears of corn, Salt and pepper to taste, 1 quart corn stock (recipe follows), 1 quart heavy cream, 10 ounces yellow cornmeal, 1/2 cup chives, 6 corn stalks, stripped of kernels, 1 medium onion, large dice, 2 carrots, 2 bay leaves, 1 tablespoon peppercorn, 2 tablespoons salt, 2 quarts water\\nInstructions: Corn Stock: Place all ingredients in a large pot and cover with cold water. Simmer for 40 minutes and strain.\\nPudding: Melt the butter in a large saucepan over low heat and cook the onions and garlic for 3 minutes. Add the corn kernels and cook 1 minute. Season with salt and pepper. Add stock and cream and bring to a boil. Slowly whisk in cornmeal and cook for 3 minutes. Add chives, stir, and serve.\\nTitle: Corn Pudding\\nIngredients: 3 eggs, 1 cup heavy cream, 2 tablespoons sugar, 1 1/2 tablespoons flour, 1 teaspoon salt, 1 teaspoon baking powder, 3 cups corn, 1/4 pound melted butter\\nInstructions: Preheat oven to 350 degrees F.\\nBeat eggs and add heavy cream. Slowly add the dry ingredients. Add the corn and stir in the melted butter.\\nPour mixture into a greased casserole dish and bake for 45 minutes\\nTitle: Corn Pudding\\nIngredients: 3 eggs, 1 cup heavy cream, 2 tablespoons sugar, 1 1/2 tablespoons flour, 1 teaspoon salt, 1 teaspoon baking powder, 3 cups corn, 1/4 pound melted butter\\nInstructions: Preheat oven to 350 degrees F.\\nBeat eggs and add heavy cream. Slowly add the dry ingredients. Add the corn and stir in the melted butter.\\nPour mixture into a greased casserole dish and bake for 45 minutes\\n<|eot_id|><|start_header_id|>user<|end_header_id|>\\nGive me a recipe for Corn Pudding\\n<|eot_id|><|start_header_id|>assistant<|end_header_id|>\\nProvide a complete recipe following the structure outlined above.\\n\", \"parameters\": {\"max_new_tokens\": 700, \"top_p\": 0.9, \"temperature\": 0.4, \"stop\": [\"<|eot_id|>\"]}}\n",
      "{'generated_text': '**Corn Pudding**\\n\\n**Ingredients:**\\n\\n1. 3 eggs\\n2. 1 cup heavy cream\\n3. 2 tablespoons sugar\\n4. 1 1/2 tablespoons flour\\n5. 1 teaspoon salt\\n6. 1 teaspoon baking powder\\n7. 3 cups corn\\n8. 1/4 pound melted butter\\n\\n**Instructions:**\\n\\n1. Preheat oven to 350 degrees F.\\n2. Beat eggs and add heavy cream.\\n3. Slowly add the dry ingredients (flour, salt, and baking powder).\\n4. Add the corn and stir in the melted butter.\\n5. Pour the mixture into a greased casserole dish.\\n6. Bake for 45 minutes.\\n\\n**Additional Notes or Tips:**\\n\\n* You can adjust the amount of sugar to your taste.\\n* Use fresh or frozen corn kernels for the best flavor.\\n* If you want a crispy top, broil the pudding for an additional 2-3 minutes after baking. Keep an eye on it to avoid burning.'}\n"
     ]
    },
    {
     "name": "stderr",
     "output_type": "stream",
     "text": [
      "/opt/conda/lib/python3.11/site-packages/nltk/translate/bleu_score.py:577: UserWarning: \n",
      "The hypothesis contains 0 counts of 4-gram overlaps.\n",
      "Therefore the BLEU score evaluates to 0, independently of\n",
      "how many N-gram overlaps of lower order it contains.\n",
      "Consider using lower n-gram order or use SmoothingFunction()\n",
      "  warnings.warn(_msg)\n",
      "/opt/conda/lib/python3.11/site-packages/nltk/translate/bleu_score.py:577: UserWarning: \n",
      "The hypothesis contains 0 counts of 3-gram overlaps.\n",
      "Therefore the BLEU score evaluates to 0, independently of\n",
      "how many N-gram overlaps of lower order it contains.\n",
      "Consider using lower n-gram order or use SmoothingFunction()\n",
      "  warnings.warn(_msg)\n"
     ]
    },
    {
     "name": "stdout",
     "output_type": "stream",
     "text": [
      "\n",
      "Recipe 2:\n",
      "Query: Give me a recipe for Corn Pudding\n",
      "Most Similar Reference Recipe (truncated): Title: Corn Pudding\n",
      "Ingredients: 3 eggs, 1 cup heavy cream, 2 tablespoons sugar, 1 1/2 tablespoons flour, 1 teaspoon salt, 1 teaspoon baking powder, 3 cups corn, 1/4 pound melted butter\n",
      "Instructions: ...\n",
      "Generated Recipe (truncated): **Corn Pudding**\n",
      "\n",
      "**Ingredients:**\n",
      "\n",
      "1. 3 eggs\n",
      "2. 1 cup heavy cream\n",
      "3. 2 tablespoons sugar\n",
      "4. 1 1/2 tablespoons flour\n",
      "5. 1 teaspoon salt\n",
      "6. 1 teaspoon baking powder\n",
      "7. 3 cups corn\n",
      "8. 1/4 pound melted b...\n",
      "BLEU score: 0.27569386939150375\n",
      "--------------------------------------------------\n",
      "{\"inputs\": \"Human: <|begin_of_text|><|start_header_id|>system<|end_header_id|>\\nYou are a helpful assistant specialized in providing recipes. When answering questions about recipes, always structure your response as follows:\\n1. Recipe Name\\n2. Ingredients (as a numbered list)\\n3. Instructions (as a numbered list)\\n4. Any additional notes or tips\\nEnsure that ingredients and instructions are always presented as numbered lists for clarity and ease of use.\\nUse the following context to answer the user's query:\\nTitle: Amy's Marvelous Marbled Cheesecake\\nIngredients: 1 1/2 cups crushed chocolate graham crackers , 6 tablespoons butter, softened , 2 (1 ounce) squares semisweet chocolate, chopped , 2 (8 ounce) packages cream cheese, softened , 1/2 cup white sugar , 1/2 teaspoon vanilla extract , 2 eggs , \\nInstructions: Preheat oven to 325 degrees F (165 degrees C). In a medium bowl, combine graham cracker crumbs and butter. Mix well and press into the bottom of a 9 inch springform pan. Bake in preheated oven for 10 minutes. In a microwave-safe bowl, microwave chocolate until melted. Stir occasionally until chocolate is smooth.\\nIn a large bowl, beat the softened cream cheese, sugar and vanilla until creamy and smooth. Blend in the eggs one at a time. Remove 1 cup of cream cheese mixture and combine with melted chocolate.\\nSpread plain batter into the crust. Drop the chocolate mixture randomly over the top. With the tip of a knife, Swirl the batter to create a marble effect.\\nTitle: Marble Cheesecake\\nIngredients: 4 ounces chocolate cookie crumbs, 2 tablespoons melted butter, 2 1/2 pounds cream cheese, room temperature, 1 3/4 cups sugar, 3 tablespoons flour, 1/4 teaspoon salt, 2 yolks, 5 eggs, 1 teaspoon vanilla, 3/4 cup sour cream, plus 1/4 cup, 6 ounces semisweet chocolate, melted and slightly cooled\\nInstructions: Preheat oven to 450 degrees F. Grease a 10-inch spring form pan.\\nIf needed, use a rolling pin with the cookie crumbs in a sealable plastic bag to crush them. Blend the cookie crumbs with the melted butter, press it into the bottom of the pan, and chill.\\nIn a mixer with a whisk attachment, place the softened cream cheese and whip it. Add the sugar and continue to mix until blended. Add the flour and salt and blend. Add the yolks and eggs gradually, scraping in between then add the vanilla. Add 3/4 cup of the sour cream and mix in. Take off 2 cups of the mixture and set aside.\\nTitle: Marble Cheesecake\\nIngredients: 1 1/2 cups graham cracker crumbs, 6 tablespoon unsalted butter, melted, 1/4 cup sugar, 2 squares unsweetened chocolate, 2 tablespoon unsalted butter, 3 8-ounce packages cream cheese, at room temperature, 1 cup sugar, 1 teaspoon pure vanilla extract, 4 large eggs, lightly beaten, 1 cup light cream\\nInstructions: Special equipment: a 9-inch springform pan\\nPreheat the oven to 450 degrees F.\\nFor the crust: In a large bowl, combine the graham cracker crumbs, butter and sugar. Press into a 9-inch springform pan, pushing the crumbs up the sides. Put the pan in the freezer to chill.\\nFor the filling: Microwave the chocolate and butter in a microwave-safe bowl until melted, about 1 minute. Set aside.\\nTitle: Marble Cheesecake\\nIngredients: 1 1/2 cups graham cracker crumbs, 6 tablespoon unsalted butter, melted, 1/4 cup sugar, 2 squares unsweetened chocolate, 2 tablespoon unsalted butter, 3 8-ounce packages cream cheese, at room temperature, 1 cup sugar, 1 teaspoon pure vanilla extract, 4 large eggs, lightly beaten, 1 cup light cream\\nInstructions: Special equipment: a 9-inch springform pan\\nPreheat the oven to 450 degrees F.\\nFor the crust: In a large bowl, combine the graham cracker crumbs, butter and sugar. Press into a 9-inch springform pan, pushing the crumbs up the sides. Put the pan in the freezer to chill.\\nFor the filling: Microwave the chocolate and butter in a microwave-safe bowl until melted, about 1 minute. Set aside.\\n<|eot_id|><|start_header_id|>user<|end_header_id|>\\nGive me a recipe for Marble Cheesecake\\n<|eot_id|><|start_header_id|>assistant<|end_header_id|>\\nProvide a complete recipe following the structure outlined above.\\n\", \"parameters\": {\"max_new_tokens\": 700, \"top_p\": 0.9, \"temperature\": 0.4, \"stop\": [\"<|eot_id|>\"]}}\n",
      "{'generated_text': \"**Marble Cheesecake**\\n\\n**Ingredients:**\\n\\n1. 1 1/2 cups graham cracker crumbs\\n2. 6 tablespoons unsalted butter, melted\\n3. 1/4 cup sugar\\n4. 2 squares unsweetened chocolate\\n5. 2 tablespoons unsalted butter\\n6. 3 8-ounce packages cream cheese, at room temperature\\n7. 1 cup sugar\\n8. 1 teaspoon pure vanilla extract\\n9. 4 large eggs, lightly beaten\\n10. 1 cup light cream\\n\\n**Instructions:**\\n\\n1. Special equipment: a 9-inch springform pan\\n2. Preheat the oven to 450 degrees F.\\n3. For the crust: In a large bowl, combine the graham cracker crumbs, butter, and sugar. Press into a 9-inch springform pan, pushing the crumbs up the sides. Put the pan in the freezer to chill.\\n4. For the filling: Microwave the chocolate and butter in a microwave-safe bowl until melted, about 1 minute. Set aside.\\n5. In a large bowl, beat the cream cheese until smooth. Add the sugar and beat until combined. Beat in the vanilla extract.\\n6. Beat in the eggs one at a time, followed by the light cream.\\n7. Remove 1 cup of the cheesecake batter and mix with the melted chocolate until well combined.\\n8. Pour the plain cheesecake batter into the prepared pan over the crust.\\n9. Drop the chocolate batter by spoonfuls onto the plain batter.\\n10. Use a knife or spatula to create a marble effect by gently swirling the batters together.\\n11. Bake for 55-60 minutes or until the edges are set and the center is slightly jiggly.\\n12. Let the cheesecake cool completely in the pan before refrigerating for at least 4 hours or overnight.\\n\\n**Additional Notes:**\\n\\n* To ensure a smooth cheesecake, make sure to beat the cream cheese until it's smooth and creamy.\\n* Don't overmix the batter, as this can cause the cheesecake to crack.\\n* Let the cheesecake cool completely before refrigerating to prevent cracking.\\n* You can garnish the cheesecake with chocolate shavings or whipped cream for a decorative touch.\"}\n"
     ]
    },
    {
     "name": "stderr",
     "output_type": "stream",
     "text": [
      "/opt/conda/lib/python3.11/site-packages/nltk/translate/bleu_score.py:577: UserWarning: \n",
      "The hypothesis contains 0 counts of 4-gram overlaps.\n",
      "Therefore the BLEU score evaluates to 0, independently of\n",
      "how many N-gram overlaps of lower order it contains.\n",
      "Consider using lower n-gram order or use SmoothingFunction()\n",
      "  warnings.warn(_msg)\n",
      "/opt/conda/lib/python3.11/site-packages/nltk/translate/bleu_score.py:577: UserWarning: \n",
      "The hypothesis contains 0 counts of 3-gram overlaps.\n",
      "Therefore the BLEU score evaluates to 0, independently of\n",
      "how many N-gram overlaps of lower order it contains.\n",
      "Consider using lower n-gram order or use SmoothingFunction()\n",
      "  warnings.warn(_msg)\n"
     ]
    },
    {
     "name": "stdout",
     "output_type": "stream",
     "text": [
      "\n",
      "Recipe 3:\n",
      "Query: Give me a recipe for Marble Cheesecake\n",
      "Most Similar Reference Recipe (truncated): Title: Marble Cheesecake\n",
      "Ingredients: 1 1/2 cups graham cracker crumbs, 6 tablespoon unsalted butter, melted, 1/4 cup sugar, 2 squares unsweetened chocolate, 2 tablespoon unsalted butter, 3 8-ounce pa...\n",
      "Generated Recipe (truncated): **Marble Cheesecake**\n",
      "\n",
      "**Ingredients:**\n",
      "\n",
      "1. 1 1/2 cups graham cracker crumbs\n",
      "2. 6 tablespoons unsalted butter, melted\n",
      "3. 1/4 cup sugar\n",
      "4. 2 squares unsweetened chocolate\n",
      "5. 2 tablespoons unsalted butt...\n",
      "BLEU score: 0.36451887750067735\n",
      "--------------------------------------------------\n",
      "{\"inputs\": \"Human: <|begin_of_text|><|start_header_id|>system<|end_header_id|>\\nYou are a helpful assistant specialized in providing recipes. When answering questions about recipes, always structure your response as follows:\\n1. Recipe Name\\n2. Ingredients (as a numbered list)\\n3. Instructions (as a numbered list)\\n4. Any additional notes or tips\\nEnsure that ingredients and instructions are always presented as numbered lists for clarity and ease of use.\\nUse the following context to answer the user's query:\\nTitle: New Zealand Venison Sliders with Tomato Chile Jam\\nIngredients: About 1 pound (500g) ground beef, About 1 pound (500g) farmed ground New Zealand venison (any cut will do but the most cost effective is from the leg), 2 teaspoons extra-virgin olive oil, plus more for brushing, 2 teaspoons flake sea salt, such as Maldon, 1 teaspoon ground cinnamon, 1 teaspoon dried oregano, 1/2 teaspoon freshly ground pepper, 1 small bunch fresh flat-leaf parsley, leaves removed and finely chopped, 12 slider buns, Tomato Chile Jam, recipe follows, 12 cornichons, 3 pounds peeled canned tomatoes, About 3 cups (750g) sugar, 1/2 cup plus 1 tablespoon (150g) cider vinegar, 1 1/2 teaspoons (25ml) fish sauce, 5 large cloves garlic, minced, 4 red hot chiles, finely chopped, 1 thumb fresh ginger, peeled and grated\\nTitle: New Zealand Venison Sliders with Tomato Chile Jam\\nIngredients: About 1 pound (500g) ground beef, About 1 pound (500g) farmed ground New Zealand venison (any cut will do but the most cost effective is from the leg), 2 teaspoons extra-virgin olive oil, plus more for brushing, 2 teaspoons flake sea salt, such as Maldon, 1 teaspoon ground cinnamon, 1 teaspoon dried oregano, 1/2 teaspoon freshly ground pepper, 1 small bunch fresh flat-leaf parsley, leaves removed and finely chopped, 12 slider buns, Tomato Chile Jam, recipe follows, 12 cornichons, 3 pounds peeled canned tomatoes, About 3 cups (750g) sugar, 1/2 cup plus 1 tablespoon (150g) cider vinegar, 1 1/2 teaspoons (25ml) fish sauce, 5 large cloves garlic, minced, 4 red hot chiles, finely chopped, 1 thumb fresh ginger, peeled and grated\\nTitle: Pan Roasted Venison with Crushed Blackberry-Ancho Chile Sauce and Sweet Potato-Toasted Pine Nut Polenta\\nTitle: Pan Roasted Venison with Crushed Blackberry-Ancho Chile Sauce and Sweet Potato-Toasted Pine Nut Polenta\\n<|eot_id|><|start_header_id|>user<|end_header_id|>\\nGive me a recipe for New Zealand Venison Sliders with Tomato Chile Jam\\n<|eot_id|><|start_header_id|>assistant<|end_header_id|>\\nProvide a complete recipe following the structure outlined above.\\n\", \"parameters\": {\"max_new_tokens\": 700, \"top_p\": 0.9, \"temperature\": 0.4, \"stop\": [\"<|eot_id|>\"]}}\n",
      "{'generated_text': \"**New Zealand Venison Sliders with Tomato Chile Jam**\\n\\n**Ingredients:**\\n\\n1. About 1 pound (500g) ground beef\\n2. About 1 pound (500g) farmed ground New Zealand venison (any cut will do but the most cost-effective is from the leg)\\n3. 2 teaspoons extra-virgin olive oil, plus more for brushing\\n4. 2 teaspoons flake sea salt, such as Maldon\\n5. 1 teaspoon ground cinnamon\\n6. 1 teaspoon dried oregano\\n7. 1/2 teaspoon freshly ground pepper\\n8. 1 small bunch fresh flat-leaf parsley, leaves removed and finely chopped\\n9. 12 slider buns\\n10. Tomato Chile Jam (recipe follows)\\n11. 12 cornichons\\n\\n**Instructions:**\\n\\n1. Preheat a grill or grill pan to medium-high heat.\\n2. In a large bowl, combine the ground beef and venison. Add the olive oil, flake sea salt, cinnamon, oregano, and pepper. Mix well with your hands or a wooden spoon until just combined. Do not overmix.\\n3. Divide the mixture into 12 equal portions and shape each portion into a ball. Flatten each ball slightly into a patty.\\n4. Brush the grill or grill pan with olive oil to prevent sticking. Grill the patties for 3-4 minutes per side, or until they reach your desired level of doneness.\\n5. While the patties are cooking, toast the slider buns on the grill or in a toaster.\\n6. Assemble the sliders by spreading a spoonful of Tomato Chile Jam on the bottom bun, followed by a cooked patty, a few cornichons, and a sprinkle of parsley. Top with the top bun.\\n\\n**Tomato Chile Jam:**\\n\\n(Recipe follows)\\n\\n**Ingredients:**\\n\\n1. 3 pounds peeled canned tomatoes\\n2. About 3 cups (750g) sugar\\n3. 1/2 cup plus 1 tablespoon (150g) cider vinegar\\n4. 1 1/2 teaspoons (25ml) fish sauce\\n5. 5 large cloves garlic, minced\\n6. 4 red hot chiles, finely chopped\\n7. 1 thumb fresh ginger, peeled and grated\\n\\n**Instructions:**\\n\\n1. In a medium saucepan, combine the canned tomatoes, sugar, cider vinegar, fish sauce, garlic, chiles, and ginger.\\n2. Bring the mixture to a boil over high heat, then reduce the heat to medium-low and simmer for 20-25 minutes, stirring occasionally, until the jam has thickened and reduced slightly.\\n3. Remove from heat and let cool to room temperature.\\n\\n**Additional Notes:**\\n\\n* You can make the Tomato Chile Jam ahead of time and store it in an airtight container in the refrigerator for up to 2 weeks.\\n* If you can't find New Zealand venison, you can substitute it with other game meats or even beef or pork.\\n* For an added crunch, top the sliders with some crispy bacon or chopped nuts.\"}\n"
     ]
    },
    {
     "name": "stderr",
     "output_type": "stream",
     "text": [
      "/opt/conda/lib/python3.11/site-packages/nltk/translate/bleu_score.py:577: UserWarning: \n",
      "The hypothesis contains 0 counts of 4-gram overlaps.\n",
      "Therefore the BLEU score evaluates to 0, independently of\n",
      "how many N-gram overlaps of lower order it contains.\n",
      "Consider using lower n-gram order or use SmoothingFunction()\n",
      "  warnings.warn(_msg)\n",
      "/opt/conda/lib/python3.11/site-packages/nltk/translate/bleu_score.py:577: UserWarning: \n",
      "The hypothesis contains 0 counts of 3-gram overlaps.\n",
      "Therefore the BLEU score evaluates to 0, independently of\n",
      "how many N-gram overlaps of lower order it contains.\n",
      "Consider using lower n-gram order or use SmoothingFunction()\n",
      "  warnings.warn(_msg)\n"
     ]
    },
    {
     "name": "stdout",
     "output_type": "stream",
     "text": [
      "\n",
      "Recipe 4:\n",
      "Query: Give me a recipe for New Zealand Venison Sliders with Tomato Chile Jam\n",
      "Most Similar Reference Recipe (truncated): Title: New Zealand Venison Sliders with Tomato Chile Jam\n",
      "Ingredients: About 1 pound (500g) ground beef, About 1 pound (500g) farmed ground New Zealand venison (any cut will do but the most cost effect...\n",
      "Generated Recipe (truncated): **New Zealand Venison Sliders with Tomato Chile Jam**\n",
      "\n",
      "**Ingredients:**\n",
      "\n",
      "1. About 1 pound (500g) ground beef\n",
      "2. About 1 pound (500g) farmed ground New Zealand venison (any cut will do but the most cos...\n",
      "BLEU score: 0.3259071379123106\n",
      "--------------------------------------------------\n",
      "{\"inputs\": \"Human: <|begin_of_text|><|start_header_id|>system<|end_header_id|>\\nYou are a helpful assistant specialized in providing recipes. When answering questions about recipes, always structure your response as follows:\\n1. Recipe Name\\n2. Ingredients (as a numbered list)\\n3. Instructions (as a numbered list)\\n4. Any additional notes or tips\\nEnsure that ingredients and instructions are always presented as numbered lists for clarity and ease of use.\\nUse the following context to answer the user's query:\\nTitle: Mexicana Meatloaf with Cilantro Pesto and Crispy Tortilla Strips\\nTitle: Mexicana Meatloaf with Cilantro Pesto and Crispy Tortilla Strips\\nTitle: Jalapeno Pesto\\nIngredients: 1/4 cup walnuts , 2 cloves garlic , 2 cups packed fresh basil leaves , 3/4 cup shredded Parmagiano-Reggiano cheese , 1 jalapeno pepper, stem removed , 2/3 cup olive oil , salt and ground black pepper to taste , \\nInstructions: Pulse walnuts and garlic in a food processor until finely chopped. Add basil, Parmigiano-Reggiano cheese, and jalapeno pepper; process until combined. Stream olive oil into basil mixture while food processor is still running until consistency is smooth. Season with salt and black pepper.\\nTitle: Every Herb Pesto\\nIngredients: 1/2 cup Marcona almonds, toasted, 2 cloves garlic, peeled, 1 cup fresh spinach leaves, 1/2 cup grated Parmesan, 1/2 cup fresh cilantro leaves, 1/2 cup fresh parsley leaves, 1/4 cup basil leaves, 1/4 cup fresh tarragon leaves, 1/8 cup fresh mint leaves, 1/16 cup fresh chervil leaves, 2 tablespoons chopped fresh chives, Zest of 1 lemon, Juice of 1 lemon, 3/4 cup canola oil, 1/4 cup extra-virgin olive oil, Kosher salt and freshly cracked black pepper, Garlic-rubbed crostini, optional, Heirloom tomatoes, chopped, optional\\n<|eot_id|><|start_header_id|>user<|end_header_id|>\\nGive me a recipe for Jalapeno Pesto\\n<|eot_id|><|start_header_id|>assistant<|end_header_id|>\\nProvide a complete recipe following the structure outlined above.\\n\", \"parameters\": {\"max_new_tokens\": 700, \"top_p\": 0.9, \"temperature\": 0.4, \"stop\": [\"<|eot_id|>\"]}}\n",
      "{'generated_text': '**Jalapeno Pesto**\\n\\n**Ingredients:**\\n\\n1. 1/4 cup walnuts\\n2. 2 cloves garlic\\n3. 2 cups packed fresh basil leaves\\n4. 3/4 cup shredded Parmesan cheese\\n5. 1 jalapeno pepper, stem removed\\n6. 2/3 cup olive oil\\n7. Salt and ground black pepper to taste\\n\\n**Instructions:**\\n\\n1. Pulse walnuts and garlic in a food processor until finely chopped.\\n2. Add basil, Parmesan cheese, and jalapeno pepper; process until combined.\\n3. Stream olive oil into basil mixture while the food processor is still running until the consistency is smooth.\\n4. Season with salt and black pepper to taste.\\n\\n**Additional Notes or Tips:**\\n\\n* You can adjust the level of heat in the pesto by using more or fewer jalapeno peppers.\\n* This pesto is great as a dip, a sauce for pasta, or as a topping for grilled meats or vegetables.\\n* You can also store the pesto in an airtight container in the refrigerator for up to 1 week or freeze it for up to 6 months.'}\n"
     ]
    },
    {
     "name": "stderr",
     "output_type": "stream",
     "text": [
      "/opt/conda/lib/python3.11/site-packages/nltk/translate/bleu_score.py:577: UserWarning: \n",
      "The hypothesis contains 0 counts of 3-gram overlaps.\n",
      "Therefore the BLEU score evaluates to 0, independently of\n",
      "how many N-gram overlaps of lower order it contains.\n",
      "Consider using lower n-gram order or use SmoothingFunction()\n",
      "  warnings.warn(_msg)\n",
      "/opt/conda/lib/python3.11/site-packages/nltk/translate/bleu_score.py:577: UserWarning: \n",
      "The hypothesis contains 0 counts of 4-gram overlaps.\n",
      "Therefore the BLEU score evaluates to 0, independently of\n",
      "how many N-gram overlaps of lower order it contains.\n",
      "Consider using lower n-gram order or use SmoothingFunction()\n",
      "  warnings.warn(_msg)\n"
     ]
    },
    {
     "name": "stdout",
     "output_type": "stream",
     "text": [
      "\n",
      "Recipe 5:\n",
      "Query: Give me a recipe for Jalapeno Pesto\n",
      "Most Similar Reference Recipe (truncated): Title: Jalapeno Pesto\n",
      "Ingredients: 1/4 cup walnuts , 2 cloves garlic , 2 cups packed fresh basil leaves , 3/4 cup shredded Parmagiano-Reggiano cheese , 1 jalapeno pepper, stem removed , 2/3 cup olive ...\n",
      "Generated Recipe (truncated): **Jalapeno Pesto**\n",
      "\n",
      "**Ingredients:**\n",
      "\n",
      "1. 1/4 cup walnuts\n",
      "2. 2 cloves garlic\n",
      "3. 2 cups packed fresh basil leaves\n",
      "4. 3/4 cup shredded Parmesan cheese\n",
      "5. 1 jalapeno pepper, stem removed\n",
      "6. 2/3 cup olive ...\n",
      "BLEU score: 0.32115936031893466\n",
      "--------------------------------------------------\n",
      "{\"inputs\": \"Human: <|begin_of_text|><|start_header_id|>system<|end_header_id|>\\nYou are a helpful assistant specialized in providing recipes. When answering questions about recipes, always structure your response as follows:\\n1. Recipe Name\\n2. Ingredients (as a numbered list)\\n3. Instructions (as a numbered list)\\n4. Any additional notes or tips\\nEnsure that ingredients and instructions are always presented as numbered lists for clarity and ease of use.\\nUse the following context to answer the user's query:\\nTitle: Banana Pancakes\\nIngredients: 1 1/2 cups all-purpose flour, 1 tablespoon sugar, 1/2 teaspoon salt, 1 teaspoon baking soda, 1 teaspoon baking powder, 1 large egg, 1 cup buttermilk, 1/4 cup whole milk, 1 tablespoon melted unsalted butter, plus 3 tablespoons, 3 ripe bananas, cut into 1/3-inch slices\\nTitle: Banana Pancakes\\nIngredients: 1 1/2 cups all-purpose flour, 1 tablespoon sugar, 1/2 teaspoon salt, 1 teaspoon baking soda, 1 teaspoon baking powder, 1 large egg, 1 cup buttermilk, 1/4 cup whole milk, 1 tablespoon melted unsalted butter, plus 3 tablespoons, 3 ripe bananas, cut into 1/3-inch slices\\nTitle: Round Two Recipe: Chicken Crepes\\nTitle: ROUND 2 RECIPE - Hawaiian Pizza\\n<|eot_id|><|start_header_id|>user<|end_header_id|>\\nGive me a recipe for Banana Pancakes II\\n<|eot_id|><|start_header_id|>assistant<|end_header_id|>\\nProvide a complete recipe following the structure outlined above.\\n\", \"parameters\": {\"max_new_tokens\": 700, \"top_p\": 0.9, \"temperature\": 0.4, \"stop\": [\"<|eot_id|>\"]}}\n",
      "{'generated_text': \"**Banana Pancakes II**\\n\\n**Ingredients:**\\n\\n1. 1 1/2 cups all-purpose flour\\n2. 1 tablespoon sugar\\n3. 1/2 teaspoon salt\\n4. 1 teaspoon baking soda\\n5. 1 teaspoon baking powder\\n6. 1 large egg\\n7. 1 cup buttermilk\\n8. 1/4 cup whole milk\\n9. 1 tablespoon melted unsalted butter, plus 3 tablespoons\\n10. 3 ripe bananas, cut into 1/3-inch slices\\n\\n**Instructions:**\\n\\n1. In a large bowl, whisk together flour, sugar, salt, baking soda, and baking powder.\\n2. In a separate bowl, whisk together egg, buttermilk, whole milk, and melted butter.\\n3. Add the wet ingredients to the dry ingredients and stir until just combined. Do not overmix.\\n4. Fold in the sliced bananas.\\n5. Heat a non-stick skillet or griddle over medium heat. Grease with butter or cooking spray if necessary.\\n6. Using a 1/4 cup measuring cup, scoop the batter onto the skillet or griddle.\\n7. Cook for 2-3 minutes, until bubbles appear on the surface and the edges start to dry.\\n8. Flip the pancakes and cook for an additional 1-2 minutes, until golden brown.\\n9. Serve warm with your favorite toppings, such as maple syrup, butter, whipped cream, or fresh fruit.\\n\\n**Additional Notes:**\\n\\n* Make sure to use ripe bananas for the best flavor and texture.\\n* If you don't have buttermilk, you can make a substitute by mixing 1 cup of milk with 1 tablespoon of white vinegar or lemon juice. Let it sit for 5-10 minutes before using.\\n* You can also add chopped nuts, chocolate chips, or other mix-ins to the batter for added flavor and texture.\"}\n"
     ]
    },
    {
     "name": "stderr",
     "output_type": "stream",
     "text": [
      "/opt/conda/lib/python3.11/site-packages/nltk/translate/bleu_score.py:577: UserWarning: \n",
      "The hypothesis contains 0 counts of 4-gram overlaps.\n",
      "Therefore the BLEU score evaluates to 0, independently of\n",
      "how many N-gram overlaps of lower order it contains.\n",
      "Consider using lower n-gram order or use SmoothingFunction()\n",
      "  warnings.warn(_msg)\n",
      "/opt/conda/lib/python3.11/site-packages/nltk/translate/bleu_score.py:577: UserWarning: \n",
      "The hypothesis contains 0 counts of 3-gram overlaps.\n",
      "Therefore the BLEU score evaluates to 0, independently of\n",
      "how many N-gram overlaps of lower order it contains.\n",
      "Consider using lower n-gram order or use SmoothingFunction()\n",
      "  warnings.warn(_msg)\n"
     ]
    },
    {
     "name": "stdout",
     "output_type": "stream",
     "text": [
      "\n",
      "Recipe 6:\n",
      "Query: Give me a recipe for Banana Pancakes II\n",
      "Most Similar Reference Recipe (truncated): Title: Banana Pancakes\n",
      "Ingredients: 1 1/2 cups all-purpose flour, 1 tablespoon sugar, 1/2 teaspoon salt, 1 teaspoon baking soda, 1 teaspoon baking powder, 1 large egg, 1 cup buttermilk, 1/4 cup whole ...\n",
      "Generated Recipe (truncated): **Banana Pancakes II**\n",
      "\n",
      "**Ingredients:**\n",
      "\n",
      "1. 1 1/2 cups all-purpose flour\n",
      "2. 1 tablespoon sugar\n",
      "3. 1/2 teaspoon salt\n",
      "4. 1 teaspoon baking soda\n",
      "5. 1 teaspoon baking powder\n",
      "6. 1 large egg\n",
      "7. 1 cup butte...\n",
      "BLEU score: 0.22998276049191493\n",
      "--------------------------------------------------\n",
      "{\"inputs\": \"Human: <|begin_of_text|><|start_header_id|>system<|end_header_id|>\\nYou are a helpful assistant specialized in providing recipes. When answering questions about recipes, always structure your response as follows:\\n1. Recipe Name\\n2. Ingredients (as a numbered list)\\n3. Instructions (as a numbered list)\\n4. Any additional notes or tips\\nEnsure that ingredients and instructions are always presented as numbered lists for clarity and ease of use.\\nUse the following context to answer the user's query:\\nTitle: Eggnog Rum Muffins\\nIngredients: 2 cups all-purpose flour , 1/2 cup white sugar , 1 tablespoon baking powder , 1 teaspoon nutmeg , 1/2 teaspoon salt , 1/2 cup walnuts, chopped (optional) , 1 cup eggnog , 1/3 cup butter, melted , 1/4 cup rum , 1 egg, beaten , 1 teaspoon vanilla extract , \\nInstructions: Preheat oven to 400 degrees F (200 degrees C). Line 12 muffin cups with paper liners or grease.\\nCombine flour, sugar, baking powder, nutmeg, and salt in a large bowl; mix in walnuts.\\nCombine eggnog, melted butter, rum, egg, and vanilla extract in a separate bowl; stir into flour mixture until just moistened, forming a lumpy batter.\\nPour batter into prepared muffin cups and bake in preheated oven until a toothpick inserted into the center comes out clean, about 15 minutes.\\nTitle: Best Boozy Eggnog\\nIngredients: 12 eggs, separated , 1 1/2 cups white sugar , 6 cups bourbon , 4 cups milk , 4 cups heavy whipping cream , 2 cups cognac , 3/4 cup peach brandy , 3/4 cup apricot brandy , 3/4 cup light rum , 1/2 cup dark rum , 1 pinch ground nutmeg , \\nInstructions: Beat egg yolks in a large bowl with an electric mixer until smooth. Beat in sugar until dissolved. Mix in bourbon, milk, heavy cream, and cognac. Add peach brandy, apricot brandy, and light rum; mix well.\\nBeat egg whites with an electric mixer in a separate bowl until stiff peaks form. Fold into the egg yolk mixture. Fold in dark rum. Sprinkle nutmeg on top and chill until serving.\\nTitle: Cranberry-Eggnog Muffins\\nIngredients: Cooking spray, 1 cup dried cranberries, roughly chopped, 1/2 cup rum or apple juice, 2 1/2 cups all-purpose flour, 2 teaspoons baking powder, 3/4 cup packed light brown sugar, 1/2 teaspoon salt, 1 stick unsalted butter, melted, 1 1/2 cups eggnog, 2 large eggs, at room temperature, 1 tablespoon vanilla extract, 1 1/2 cups all-purpose flour, 1 1/2 teaspoons ground cinnamon, 1/2 teaspoon freshly grated nutmeg, 1 1/2 sticks unsalted butter, melted, 3/4 teaspoon salt, 1 1/4 cups packed light brown sugar\\nInstructions: Prepare the muffins: Preheat the oven to 375 degrees F. Mist a 12-cup muffin pan with cooking spray. Warm the cranberries and rum in a small saucepan over medium heat, then remove from the heat and let steep 5 minutes. Drain.\\nWhisk the flour, baking powder, brown sugar and salt in a medium bowl.\\nTitle: Cranberry-Eggnog Muffins\\nIngredients: Cooking spray, 1 cup dried cranberries, roughly chopped, 1/2 cup rum or apple juice, 2 1/2 cups all-purpose flour, 2 teaspoons baking powder, 3/4 cup packed light brown sugar, 1/2 teaspoon salt, 1 stick unsalted butter, melted, 1 1/2 cups eggnog, 2 large eggs, at room temperature, 1 tablespoon vanilla extract, 1 1/2 cups all-purpose flour, 1 1/2 teaspoons ground cinnamon, 1/2 teaspoon freshly grated nutmeg, 1 1/2 sticks unsalted butter, melted, 3/4 teaspoon salt, 1 1/4 cups packed light brown sugar\\nInstructions: Prepare the muffins: Preheat the oven to 375 degrees F. Mist a 12-cup muffin pan with cooking spray. Warm the cranberries and rum in a small saucepan over medium heat, then remove from the heat and let steep 5 minutes. Drain.\\nWhisk the flour, baking powder, brown sugar and salt in a medium bowl.\\n<|eot_id|><|start_header_id|>user<|end_header_id|>\\nGive me a recipe for Eggnog Rum Muffins\\n<|eot_id|><|start_header_id|>assistant<|end_header_id|>\\nProvide a complete recipe following the structure outlined above.\\n\", \"parameters\": {\"max_new_tokens\": 700, \"top_p\": 0.9, \"temperature\": 0.4, \"stop\": [\"<|eot_id|>\"]}}\n",
      "{'generated_text': '**Eggnog Rum Muffins**\\n\\n**Ingredients:**\\n\\n1. 2 cups all-purpose flour\\n2. 1/2 cup white sugar\\n3. 1 tablespoon baking powder\\n4. 1 teaspoon nutmeg\\n5. 1/2 teaspoon salt\\n6. 1/2 cup walnuts, chopped (optional)\\n7. 1 cup eggnog\\n8. 1/3 cup butter, melted\\n9. 1/4 cup rum\\n10. 1 egg, beaten\\n11. 1 teaspoon vanilla extract\\n\\n**Instructions:**\\n\\n1. Preheat oven to 400 degrees F (200 degrees C). Line 12 muffin cups with paper liners or grease.\\n2. Combine flour, sugar, baking powder, nutmeg, and salt in a large bowl; mix in walnuts (if using).\\n3. Combine eggnog, melted butter, rum, egg, and vanilla extract in a separate bowl; stir into flour mixture until just moistened, forming a lumpy batter.\\n4. Pour batter into prepared muffin cups and bake in preheated oven until a toothpick inserted into the center comes out clean, about 15 minutes.\\n\\n**Additional Notes:**\\n\\n* You can adjust the amount of rum to your taste, or omit it altogether if you prefer.\\n* These muffins are best served warm, topped with a dollop of whipped cream or a sprinkle of nutmeg.\\n* You can also make these muffins in a 9x13-inch baking dish, adjusting the baking time to about 25-30 minutes.'}\n"
     ]
    },
    {
     "name": "stderr",
     "output_type": "stream",
     "text": [
      "/opt/conda/lib/python3.11/site-packages/nltk/translate/bleu_score.py:577: UserWarning: \n",
      "The hypothesis contains 0 counts of 4-gram overlaps.\n",
      "Therefore the BLEU score evaluates to 0, independently of\n",
      "how many N-gram overlaps of lower order it contains.\n",
      "Consider using lower n-gram order or use SmoothingFunction()\n",
      "  warnings.warn(_msg)\n",
      "/opt/conda/lib/python3.11/site-packages/nltk/translate/bleu_score.py:577: UserWarning: \n",
      "The hypothesis contains 0 counts of 3-gram overlaps.\n",
      "Therefore the BLEU score evaluates to 0, independently of\n",
      "how many N-gram overlaps of lower order it contains.\n",
      "Consider using lower n-gram order or use SmoothingFunction()\n",
      "  warnings.warn(_msg)\n"
     ]
    },
    {
     "name": "stdout",
     "output_type": "stream",
     "text": [
      "\n",
      "Recipe 7:\n",
      "Query: Give me a recipe for Eggnog Rum Muffins\n",
      "Most Similar Reference Recipe (truncated): Title: Eggnog Rum Muffins\n",
      "Ingredients: 2 cups all-purpose flour , 1/2 cup white sugar , 1 tablespoon baking powder , 1 teaspoon nutmeg , 1/2 teaspoon salt , 1/2 cup walnuts, chopped (optional) , 1 cup...\n",
      "Generated Recipe (truncated): **Eggnog Rum Muffins**\n",
      "\n",
      "**Ingredients:**\n",
      "\n",
      "1. 2 cups all-purpose flour\n",
      "2. 1/2 cup white sugar\n",
      "3. 1 tablespoon baking powder\n",
      "4. 1 teaspoon nutmeg\n",
      "5. 1/2 teaspoon salt\n",
      "6. 1/2 cup walnuts, chopped (option...\n",
      "BLEU score: 0.49044436523127866\n",
      "--------------------------------------------------\n",
      "{\"inputs\": \"Human: <|begin_of_text|><|start_header_id|>system<|end_header_id|>\\nYou are a helpful assistant specialized in providing recipes. When answering questions about recipes, always structure your response as follows:\\n1. Recipe Name\\n2. Ingredients (as a numbered list)\\n3. Instructions (as a numbered list)\\n4. Any additional notes or tips\\nEnsure that ingredients and instructions are always presented as numbered lists for clarity and ease of use.\\nUse the following context to answer the user's query:\\nTitle: Peanut Meringues with Hot Chocolate: Cacahuetes Merengues con Chocolate Caliente\\nIngredients: 1 cup egg whites, 1/4 teaspoon cream of tartar, 3/4 cup granulated sugar, 8 ounces powdered sugar, 4 tablespoons flour, 8 ounces chopped peanuts, 1/2 pound semisweet chocolate chopped, 1/4 pound butter, cut into six pieces, 1 ounce sugar, 3 eggs, 1 1/2 ounces cocoa, sifted, 1/4 teaspoon vanilla extract, 1 cup heavy cream, whipped\\nInstructions: Meringues: Preheat oven to 225 degrees F.\\nIn a standing mixer fitted with a whisk attachment, whip egg whites, cream of tartar, and granulated sugar to soft peaks at high speed. Add the powdered sugar and flour, a third at a time. Whip on high speed to stiff peaks. Fold in the peanuts.\\nPlace batter in a piping bag, and pipe meringues into 2-inch long tubes onto a parchment paper lined sheet tray. Bake for 2 hours.\\nHot Chocolate: Chocolate Caliente: Preheat oven to 325 degrees F.\\nTitle: Peanut Meringues with Hot Chocolate: Cacahuetes Merengues con Chocolate Caliente\\nIngredients: 1 cup egg whites, 1/4 teaspoon cream of tartar, 3/4 cup granulated sugar, 8 ounces powdered sugar, 4 tablespoons flour, 8 ounces chopped peanuts, 1/2 pound semisweet chocolate chopped, 1/4 pound butter, cut into six pieces, 1 ounce sugar, 3 eggs, 1 1/2 ounces cocoa, sifted, 1/4 teaspoon vanilla extract, 1 cup heavy cream, whipped\\nInstructions: Meringues: Preheat oven to 225 degrees F.\\nIn a standing mixer fitted with a whisk attachment, whip egg whites, cream of tartar, and granulated sugar to soft peaks at high speed. Add the powdered sugar and flour, a third at a time. Whip on high speed to stiff peaks. Fold in the peanuts.\\nPlace batter in a piping bag, and pipe meringues into 2-inch long tubes onto a parchment paper lined sheet tray. Bake for 2 hours.\\nHot Chocolate: Chocolate Caliente: Preheat oven to 325 degrees F.\\nInstructions: Preheat oven to 350 degrees. Butter a 6 to 8 inch square baking pan. Sift the flour with the baking soda and salt onto a sheet of waxed paper. Scrape the vanilla beans and reserve the pods and scrapings. Place the vanilla and the butter in a small saucepan and heat until melted. Beat the egg with the brown sugar at medium high speed until it resembles very loose meringue, about 3 minutes, then add melted butter. Reduce the speed, then add the flour and mix until not quite incorporated. Add the nuts and chopped chocolate; fold until well blended. Transfer the batter to the prepared pan. Bake until the top is dry and golden and a toothpick inserted in the center emerges nearly dry, about 30 minutes. Makes 15 bars.;\\nInstructions: Preheat oven to 350 degrees. Butter a 6 to 8 inch square baking pan. Sift the flour with the baking soda and salt onto a sheet of waxed paper. Scrape the vanilla beans and reserve the pods and scrapings. Place the vanilla and the butter in a small saucepan and heat until melted. Beat the egg with the brown sugar at medium high speed until it resembles very loose meringue, about 3 minutes, then add melted butter. Reduce the speed, then add the flour and mix until not quite incorporated. Add the nuts and chopped chocolate; fold until well blended. Transfer the batter to the prepared pan. Bake until the top is dry and golden and a toothpick inserted in the center emerges nearly dry, about 30 minutes. Makes 15 bars.;\\n<|eot_id|><|start_header_id|>user<|end_header_id|>\\nGive me a recipe for Peanut Meringues with Hot Chocolate\\n<|eot_id|><|start_header_id|>assistant<|end_header_id|>\\nProvide a complete recipe following the structure outlined above.\\n\", \"parameters\": {\"max_new_tokens\": 700, \"top_p\": 0.9, \"temperature\": 0.4, \"stop\": [\"<|eot_id|>\"]}}\n",
      "{'generated_text': '**Peanut Meringues with Hot Chocolate: Cacahuetes Merengues con Chocolate Caliente**\\n\\n**Ingredients:**\\n\\n1. 1 cup egg whites\\n2. 1/4 teaspoon cream of tartar\\n3. 3/4 cup granulated sugar\\n4. 8 ounces powdered sugar\\n5. 4 tablespoons flour\\n6. 8 ounces chopped peanuts\\n7. 1/2 pound semisweet chocolate, chopped\\n8. 1/4 pound butter, cut into six pieces\\n9. 1 ounce sugar\\n10. 3 eggs\\n11. 1 1/2 ounces cocoa, sifted\\n12. 1/4 teaspoon vanilla extract\\n13. 1 cup heavy cream, whipped\\n\\n**Instructions:**\\n\\n**Meringues:**\\n\\n1. Preheat oven to 225 degrees F.\\n2. In a standing mixer fitted with a whisk attachment, whip egg whites, cream of tartar, and granulated sugar to soft peaks at high speed.\\n3. Add the powdered sugar and flour, a third at a time. Whip on high speed to stiff peaks.\\n4. Fold in the peanuts.\\n5. Place batter in a piping bag, and pipe meringues into 2-inch long tubes onto a parchment paper-lined sheet tray.\\n6. Bake for 2 hours.\\n\\n**Hot Chocolate: Chocolate Caliente:**\\n\\n1. Preheat oven to 325 degrees F.\\n2. Butter a 6 to 8 inch square baking pan.\\n3. Sift the flour with the baking soda and salt onto a sheet of waxed paper.\\n4. Scrape the vanilla beans and reserve the pods and scrapings.\\n5. Place the vanilla and the butter in a small saucepan and heat until melted.\\n6. Beat the egg with the brown sugar at medium-high speed until it resembles very loose meringue, about 3 minutes, then add melted butter.\\n7. Reduce the speed, then add the flour and mix until not quite incorporated.\\n8. Add the nuts and chopped chocolate; fold until well blended.\\n9. Transfer the batter to the prepared pan.\\n10. Bake until the top is dry and golden and a toothpick inserted in the center emerges nearly dry, about 30 minutes.\\n11. Makes 15 bars.\\n\\n**Additional Notes or Tips:**\\n\\n* For the meringues, make sure to whip the egg whites until stiff peaks form to ensure they hold their shape.\\n* For the hot chocolate, be careful not to overmix the batter, as it can result in a dense cake.\\n* You can adjust the amount of chocolate to your liking, and also add other nuts or flavorings to the meringues and hot chocolate for added variety.'}\n"
     ]
    },
    {
     "name": "stderr",
     "output_type": "stream",
     "text": [
      "/opt/conda/lib/python3.11/site-packages/nltk/translate/bleu_score.py:577: UserWarning: \n",
      "The hypothesis contains 0 counts of 4-gram overlaps.\n",
      "Therefore the BLEU score evaluates to 0, independently of\n",
      "how many N-gram overlaps of lower order it contains.\n",
      "Consider using lower n-gram order or use SmoothingFunction()\n",
      "  warnings.warn(_msg)\n",
      "/opt/conda/lib/python3.11/site-packages/nltk/translate/bleu_score.py:577: UserWarning: \n",
      "The hypothesis contains 0 counts of 3-gram overlaps.\n",
      "Therefore the BLEU score evaluates to 0, independently of\n",
      "how many N-gram overlaps of lower order it contains.\n",
      "Consider using lower n-gram order or use SmoothingFunction()\n",
      "  warnings.warn(_msg)\n"
     ]
    },
    {
     "name": "stdout",
     "output_type": "stream",
     "text": [
      "\n",
      "Recipe 8:\n",
      "Query: Give me a recipe for Peanut Meringues with Hot Chocolate\n",
      "Most Similar Reference Recipe (truncated): Title: Peanut Meringues with Hot Chocolate: Cacahuetes Merengues con Chocolate Caliente\n",
      "Ingredients: 1 cup egg whites, 1/4 teaspoon cream of tartar, 3/4 cup granulated sugar, 8 ounces powdered sugar, ...\n",
      "Generated Recipe (truncated): **Peanut Meringues with Hot Chocolate: Cacahuetes Merengues con Chocolate Caliente**\n",
      "\n",
      "**Ingredients:**\n",
      "\n",
      "1. 1 cup egg whites\n",
      "2. 1/4 teaspoon cream of tartar\n",
      "3. 3/4 cup granulated sugar\n",
      "4. 8 ounces powd...\n",
      "BLEU score: 0.346323376088845\n",
      "--------------------------------------------------\n",
      "{\"inputs\": \"Human: <|begin_of_text|><|start_header_id|>system<|end_header_id|>\\nYou are a helpful assistant specialized in providing recipes. When answering questions about recipes, always structure your response as follows:\\n1. Recipe Name\\n2. Ingredients (as a numbered list)\\n3. Instructions (as a numbered list)\\n4. Any additional notes or tips\\nEnsure that ingredients and instructions are always presented as numbered lists for clarity and ease of use.\\nUse the following context to answer the user's query:\\nTitle: Polish Cream Cheese Coffee Cake\\nIngredients: 1 cup white sugar , 1/2 cup butter , 1 egg , 1 cup sour cream , 1 teaspoon vanilla extract , 3 cups all-purpose flour , 1 teaspoon baking soda , 1 teaspoon baking powder , Filling: , 2 (8 ounce) packages cream cheese, softened , 1/2 cup white sugar , 1 egg , Topping: , 1/2 cup chopped pecans , 1/2 cup brown sugar , 1/3 cup all-purpose flour , 1/3 cup butter , \\nInstructions: Preheat oven to 350 degrees F (175 degrees C). Grease a 9x13-inch baking dish.\\nBeat 1 cup white sugar, 1/2 cup butter, and 1 egg in a bowl until smooth. Add sour cream and vanilla extract; mix well. Stir in 3 cups flour, baking soda, and baking powder until mixture comes together in a sticky dough. Spread half the dough evenly into prepared baking dish.\\nBeat cream cheese, 1/2 cup white sugar, and 1 egg in another bowl until smooth. Spoon mixture into baking dish over dough. Drop remaining half of dough by spoonfuls over cream cheese mixture.\\nRemove cake from the oven, allow to cool completely, and remove from the pan. Cut the cake horizontally into 2 layers. Place 1 layer onto a serving platter to serve as the bottom of the cake; set the second layer aside.\\nMix instant coffee with 3/4 cup of water in a bowl until dissolved; drizzle the coffee mixture evenly over the bottom cake layer.\\nDrizzle coffee liqueur over the bottom cake layer.\\nBeat 8 ounces cream cheese, 1/2 cup cream, butter, and French vanilla pudding mix with an electric mixer in a bowl until the mixture is smooth and creamy, about 3 minutes.\\nSpread pudding mixture over the bottom cake layer.\\nPlace the top cake layer onto the filling.\\nBeat 4 ounces cream cheese, 2 tablespoons cream, confectioners' sugar, and vanilla extract with an electric mixer in a bowl until smooth.\\nSpread the frosting over the top and sides of the cake. Refrigerate leftovers.\\nIn a medium sized bowl beat the softened cream cheese until smooth. Gradually add 1 cup white sugar mixing until well blended. Add eggs, one at a time. Beat at low speed until very smooth.\\nMelt the 8 ounces semisweet chocolate with 2 tablespoons whipping cream in a pan or bowl set over boiling water, stir until smooth.\\nAdd chocolate mixture to cream cheese mixture and blend well. Stir in sour cream, salt, coffee, 1/4 cup coffee liqueur, and vanilla; beat until smooth. Pour mixture into prepared pan.\\nBake in the center of oven at 350 degrees F (175 degrees C) for 45 minutes. Center will be soft but will firm up when chilled. Do not over bake. Leave cake in oven with the heat turned off and the door ajar for 45 minutes. Remove cake from oven and chill for 12 hours. Just before serving top cake with mounds of flavored whipped cream and garnish with chocolate leaves. Yields 16 servings.\\nTitle: Cream Cheese Coffee Cake I\\nIngredients: 1/3 cup packed dark brown sugar , 2 teaspoons unsweetened cocoa powder , 1/3 cup chopped semisweet chocolate , 1 teaspoon ground cinnamon , 1/3 cup raisins , 1/3 cup golden raisins , 1/2 cup toasted walnuts, chopped , 3/4 cup unsalted butter , 1/2 (8 ounce) package cream cheese , 1 cup packed brown sugar , 1/3 cup white sugar , 5 eggs , 1 1/2 teaspoons vanilla extract , 1 cup plain yogurt , 3 1/4 cups all-purpose flour , 1/4 teaspoon salt , 1 tablespoon baking powder , 1/2 teaspoon baking soda , \\nInstructions: Preheat oven to 350 degrees F (175 degrees C). Generously grease a 12 cup Bundt cake pan or a 9 or 10 inch tube pan.\\nSoak raisins in warm water until plump. Drain and dry. Chop coarsely. Mix with 1/3 cup dark brown sugar, cocoa, chocolate, cinnamon, and chopped nuts. You can also mince filling ingredients in a food processor for another texture.\\n<|eot_id|><|start_header_id|>user<|end_header_id|>\\nGive me a recipe for Cream Cheese Coffee Cake I\\n<|eot_id|><|start_header_id|>assistant<|end_header_id|>\\nProvide a complete recipe following the structure outlined above.\\n\", \"parameters\": {\"max_new_tokens\": 700, \"top_p\": 0.9, \"temperature\": 0.4, \"stop\": [\"<|eot_id|>\"]}}\n",
      "{'generated_text': '**Cream Cheese Coffee Cake I**\\n\\n**Ingredients:**\\n\\n1. 1/3 cup packed dark brown sugar\\n2. 2 teaspoons unsweetened cocoa powder\\n3. 1/3 cup chopped semisweet chocolate\\n4. 1 teaspoon ground cinnamon\\n5. 1/3 cup raisins\\n6. 1/3 cup golden raisins\\n7. 1/2 cup toasted walnuts, chopped\\n8. 3/4 cup unsalted butter\\n9. 1/2 (8 ounce) package cream cheese\\n10. 1 cup packed brown sugar\\n11. 1/3 cup white sugar\\n12. 5 eggs\\n13. 1 1/2 teaspoons vanilla extract\\n14. 1 cup plain yogurt\\n15. 3 1/4 cups all-purpose flour\\n16. 1/4 teaspoon salt\\n17. 1 tablespoon baking powder\\n18. 1/2 teaspoon baking soda\\n\\n**Instructions:**\\n\\n1. Preheat oven to 350 degrees F (175 degrees C). Generously grease a 12-cup Bundt cake pan or a 9 or 10-inch tube pan.\\n2. Soak raisins in warm water until plump. Drain and dry. Chop coarsely. Mix with 1/3 cup dark brown sugar, cocoa, chocolate, cinnamon, and chopped nuts. You can also mince filling ingredients in a food processor for another texture.\\n3. Beat 3/4 cup unsalted butter and 1/2 (8 ounce) package cream cheese until smooth.\\n4. Gradually add 1 cup packed brown sugar, 1/3 cup white sugar, and 5 eggs, beating well after each addition.\\n5. Beat in 1 1/2 teaspoons vanilla extract and 1 cup plain yogurt.\\n6. Stir in 3 1/4 cups all-purpose flour, 1/4 teaspoon salt, 1 tablespoon baking powder, and 1/2 teaspoon baking soda.\\n7. Pour half of the batter into the prepared pan.\\n8. Spread the filling mixture evenly over the batter.\\n9. Pour the remaining batter over the filling.\\n10. Bake for 55-60 minutes or until a toothpick inserted into the center comes out clean.\\n11. Let the cake cool in the pan for 10 minutes before transferring it to a wire rack to cool completely.\\n\\n**Additional Notes:**\\n\\n* This recipe makes one large coffee cake. You can also divide the batter into two 9x5-inch loaf pans for a more manageable size.\\n* The cake will be dense and moist, with a lovely coffee flavor from the cocoa and chocolate.\\n* You can adjust the amount of filling to your liking, and you can also add other nuts or chocolate chips to the batter for added texture and flavor.'}\n"
     ]
    },
    {
     "name": "stderr",
     "output_type": "stream",
     "text": [
      "/opt/conda/lib/python3.11/site-packages/nltk/translate/bleu_score.py:577: UserWarning: \n",
      "The hypothesis contains 0 counts of 4-gram overlaps.\n",
      "Therefore the BLEU score evaluates to 0, independently of\n",
      "how many N-gram overlaps of lower order it contains.\n",
      "Consider using lower n-gram order or use SmoothingFunction()\n",
      "  warnings.warn(_msg)\n",
      "/opt/conda/lib/python3.11/site-packages/nltk/translate/bleu_score.py:577: UserWarning: \n",
      "The hypothesis contains 0 counts of 3-gram overlaps.\n",
      "Therefore the BLEU score evaluates to 0, independently of\n",
      "how many N-gram overlaps of lower order it contains.\n",
      "Consider using lower n-gram order or use SmoothingFunction()\n",
      "  warnings.warn(_msg)\n"
     ]
    },
    {
     "name": "stdout",
     "output_type": "stream",
     "text": [
      "\n",
      "Recipe 9:\n",
      "Query: Give me a recipe for Cream Cheese Coffee Cake I\n",
      "Most Similar Reference Recipe (truncated): Title: Cream Cheese Coffee Cake I\n",
      "Ingredients: 1/3 cup packed dark brown sugar , 2 teaspoons unsweetened cocoa powder , 1/3 cup chopped semisweet chocolate , 1 teaspoon ground cinnamon , 1/3 cup raisi...\n",
      "Generated Recipe (truncated): **Cream Cheese Coffee Cake I**\n",
      "\n",
      "**Ingredients:**\n",
      "\n",
      "1. 1/3 cup packed dark brown sugar\n",
      "2. 2 teaspoons unsweetened cocoa powder\n",
      "3. 1/3 cup chopped semisweet chocolate\n",
      "4. 1 teaspoon ground cinnamon\n",
      "5. 1/3...\n",
      "BLEU score: 0.3643128082132172\n",
      "--------------------------------------------------\n",
      "{\"inputs\": \"Human: <|begin_of_text|><|start_header_id|>system<|end_header_id|>\\nYou are a helpful assistant specialized in providing recipes. When answering questions about recipes, always structure your response as follows:\\n1. Recipe Name\\n2. Ingredients (as a numbered list)\\n3. Instructions (as a numbered list)\\n4. Any additional notes or tips\\nEnsure that ingredients and instructions are always presented as numbered lists for clarity and ease of use.\\nUse the following context to answer the user's query:\\nPreheat the oven to 400 degrees F.\\nIn a large bowl, combine the breadcrumbs, Parmesan, basil, parsley, milk, tomato paste, salt, pepper, eggs, garlic and onions. Using a wooden spoon, stir to blend. Add the ground turkey and sausage meat. Using fingers, gently mix all the ingredients until thoroughly combined.\\nUsing a 1-ounce cookie scoop or a small ice cream scoop, form the meat mixture into 1 1/2-inch balls (22 to 24 meatballs). Place the meatballs on a heavy nonstick baking sheet, spacing apart. Drizzle with olive oil and bake until cooked through, 15 minutes. Yield: 22 to 24 meatballs.\\nTitle: Turkey Meatballs\\nIngredients: 1 green onion, thinly sliced, 1 minced clove of garlic, 1 egg, lightly beaten, 1-ounce fresh bread crumbs, 2 tablespoons grated Parmesan cheese, plus extra to serve on the side for grating, 1 pound ground turkey or chicken, 5 tablespoons olive oil, 2 cups tomato sauce (recipe above), 1 pound perciatelli pasta, Salt and pepper to taste, Parmesan cheese-to serve on the side for grating\\nTitle: Easy Turkey Meatballs\\nIngredients: cooking spray , 2 slices white bread, torn into pieces , 2 1/2 tablespoons 1% milk , 1/2 pound ground turkey , 1/4 pound turkey Italian sausages, casings removed , 2 1/2 tablespoons grated Parmesan cheese , 1 1/2 tablespoons finely chopped fresh parsley , 1 1/2 cloves garlic, finely chopped , salt and ground black pepper to taste , \\nInstructions: Preheat oven to 350 degrees F (175 degrees C). Line a baking sheet with aluminum foil and spray with cooking spray.\\nPlace bread pieces in a bowl. Pour milk over bread; allow bread to soak for 1 minute. Squeeze excess moisture from the bread and place bread in a bowl; discard milk.\\nMix ground turkey, turkey Italian sausage, Parmesan cheese, parsley, garlic, salt, and pepper together in a bowl. Add soaked bread to turkey mixture and gently mix. Form turkey mixture into 1 1/2-inch balls; place on the prepared baking sheet.\\nInstructions: Watch how to make this recipe.\\nFor the meatballs: In a large bowl, combine the breadcrumbs, Parmesan, basil, parsley, milk, tomato paste, garlic, salt, pepper, egg, garlic and onions. Using a wooden spoon, stir to blend. Add the ground turkey and sausage meat. Using fingers, gently mix all the ingredients until thoroughly combined. Using a tablespoon measure, form the meat mixture into 1 to 1 1/4-inch balls (about 36 meatballs).\\nIn a large nonstick skillet, heat the olive oil over medium-high heat. Working in batches, add the meatballs and cook, turning occasionally, until well browned on all sides and cooked through, 10 to 12 minutes. Drain on paper towels.\\n<|eot_id|><|start_header_id|>user<|end_header_id|>\\nGive me a recipe for Turkey Meatballs\\n<|eot_id|><|start_header_id|>assistant<|end_header_id|>\\nProvide a complete recipe following the structure outlined above.\\n\", \"parameters\": {\"max_new_tokens\": 700, \"top_p\": 0.9, \"temperature\": 0.4, \"stop\": [\"<|eot_id|>\"]}}\n",
      "{'generated_text': '**Turkey Meatballs**\\n\\n**Ingredients:**\\n\\n1. 1 green onion, thinly sliced\\n2. 1 minced clove of garlic\\n3. 1 egg, lightly beaten\\n4. 1-ounce fresh bread crumbs\\n5. 2 tablespoons grated Parmesan cheese, plus extra to serve on the side for grating\\n6. 1 pound ground turkey or chicken\\n7. 5 tablespoons olive oil\\n8. 2 cups tomato sauce (recipe above)\\n9. 1 pound perciatelli pasta\\n10. Salt and pepper to taste\\n11. Parmesan cheese (for serving)\\n\\n**Instructions:**\\n\\n1. Preheat the oven to 400 degrees F.\\n2. In a large bowl, combine the breadcrumbs, Parmesan, basil, parsley, milk, tomato paste, salt, pepper, eggs, garlic, and onions. Using a wooden spoon, stir to blend.\\n3. Add the ground turkey and sausage meat. Using fingers, gently mix all the ingredients until thoroughly combined.\\n4. Using a 1-ounce cookie scoop or a small ice cream scoop, form the meat mixture into 1 1/2-inch balls (22 to 24 meatballs).\\n5. Place the meatballs on a heavy nonstick baking sheet, spacing apart. Drizzle with olive oil and bake until cooked through, 15 minutes.\\n6. Yield: 22 to 24 meatballs.\\n\\n**Additional Notes or Tips:**\\n\\n* You can also cook the meatballs in a skillet on the stovetop or in a slow cooker. Simply brown the meatballs in a skillet and then simmer in your favorite sauce, or cook them in the slow cooker with your favorite sauce for 2-3 hours.\\n* Serve the meatballs with your favorite pasta, marinara sauce, and grated Parmesan cheese for a delicious and easy dinner.'}\n"
     ]
    },
    {
     "name": "stderr",
     "output_type": "stream",
     "text": [
      "/opt/conda/lib/python3.11/site-packages/nltk/translate/bleu_score.py:577: UserWarning: \n",
      "The hypothesis contains 0 counts of 4-gram overlaps.\n",
      "Therefore the BLEU score evaluates to 0, independently of\n",
      "how many N-gram overlaps of lower order it contains.\n",
      "Consider using lower n-gram order or use SmoothingFunction()\n",
      "  warnings.warn(_msg)\n",
      "/opt/conda/lib/python3.11/site-packages/nltk/translate/bleu_score.py:577: UserWarning: \n",
      "The hypothesis contains 0 counts of 3-gram overlaps.\n",
      "Therefore the BLEU score evaluates to 0, independently of\n",
      "how many N-gram overlaps of lower order it contains.\n",
      "Consider using lower n-gram order or use SmoothingFunction()\n",
      "  warnings.warn(_msg)\n"
     ]
    },
    {
     "name": "stdout",
     "output_type": "stream",
     "text": [
      "\n",
      "Recipe 10:\n",
      "Query: Give me a recipe for Turkey Meatballs\n",
      "Most Similar Reference Recipe (truncated): Title: Classic Italian Turkey Meatballs\n",
      "Ingredients: 1 cup plain breadcrumbs, 1/2 cup finely grated Parmesan, plus more for serving, 1/4 cup chopped fresh basil, 1/4 cup chopped fresh Italian parsley,...\n",
      "Generated Recipe (truncated): **Turkey Meatballs**\n",
      "\n",
      "**Ingredients:**\n",
      "\n",
      "1. 1 green onion, thinly sliced\n",
      "2. 1 minced clove of garlic\n",
      "3. 1 egg, lightly beaten\n",
      "4. 1-ounce fresh bread crumbs\n",
      "5. 2 tablespoons grated Parmesan cheese, plus...\n",
      "BLEU score: 0.26195883998105673\n",
      "--------------------------------------------------\n",
      "\n",
      "Average BLEU score: 0.32487883825894526\n"
     ]
    }
   ],
   "source": [
    "import random\n",
    "import re\n",
    "from nltk.translate.bleu_score import sentence_bleu\n",
    "\n",
    "def simple_tokenize(text):\n",
    "    return re.findall(r'\\w+|[^\\w\\s]', text.lower())\n",
    "\n",
    "def calculate_bleu(reference, candidate):\n",
    "    reference_tokens = [simple_tokenize(reference)]\n",
    "    candidate_tokens = simple_tokenize(candidate)\n",
    "    return sentence_bleu(reference_tokens, candidate_tokens)\n",
    "\n",
    "def evaluate_recipes_bleu(reference_recipes, num_recipes=10):\n",
    "    # Sample queries\n",
    "    queries = []\n",
    "    for recipe in reference_recipes:\n",
    "        title = recipe.split('\\n')[0].split(': ')[1]\n",
    "        queries.append(f\"Give me a recipe for {title}\")\n",
    "    \n",
    "    sampled_queries = random.sample(queries, min(num_recipes, len(queries)))\n",
    "    \n",
    "    bleu_scores = []\n",
    "    for i, query in enumerate(sampled_queries, 1):\n",
    "        generated_recipe = process_query(query)  # RAG system's query processing function\n",
    "        \n",
    "        # Find the most similar reference recipe\n",
    "        most_similar_recipe = max(reference_recipes, \n",
    "                                  key=lambda ref: calculate_bleu(ref, generated_recipe))\n",
    "        \n",
    "        bleu_score = calculate_bleu(most_similar_recipe, generated_recipe)\n",
    "        bleu_scores.append(bleu_score)\n",
    "        \n",
    "        print(f\"\\nRecipe {i}:\")\n",
    "        print(f\"Query: {query}\")\n",
    "        print(f\"Most Similar Reference Recipe (truncated): {most_similar_recipe[:200]}...\")\n",
    "        print(f\"Generated Recipe (truncated): {generated_recipe[:200]}...\")\n",
    "        print(f\"BLEU score: {bleu_score}\")\n",
    "        print(\"-\" * 50)\n",
    "    \n",
    "    avg_bleu = sum(bleu_scores) / len(bleu_scores)\n",
    "    print(f\"\\nAverage BLEU score: {avg_bleu}\")\n",
    "    return bleu_scores, avg_bleu\n",
    "\n",
    "# Run the evaluation\n",
    "bleu_scores, avg_bleu = evaluate_recipes_bleu(reference_recipes, num_recipes=10)"
   ]
  },
  {
   "cell_type": "markdown",
   "id": "321e9343-a70f-4340-a261-b2b377738923",
   "metadata": {},
   "source": [
    "I think a BLUE csore of 0.325 is quite respectful.\n",
    "a) Variability in recipes: There are many ways to express the same cooking instructions, and ingredient lists can vary in order and specificity.\n",
    "b) Creative task: Recipe generation is more creative than straight translation, which BLEU was originally designed for.\n",
    "c) Comparison to other NLP tasks: In many NLP tasks, scores around 0.3-0.4 are considered good, especially for creative or variable content generation.\n",
    "\n",
    "This score suggests that your RAG system is capturing a significant amount of relevant information and structure from the reference recipes."
   ]
  },
  {
   "cell_type": "code",
   "execution_count": null,
   "id": "10abae17-67b4-47c8-a95c-701401073af5",
   "metadata": {},
   "outputs": [],
   "source": [
    "# Calculate Avg. BLUE for 100 random recipes\n",
    "\n",
    "#import random\n",
    "#import re\n",
    "#from nltk.translate.bleu_score import sentence_bleu\n",
    "#from tqdm import tqdm  # for progress bar\n",
    "\n",
    "#def simple_tokenize(text):\n",
    "    #return re.findall(r'\\w+|[^\\w\\s]', text.lower())\n",
    "\n",
    "#def calculate_bleu(reference, candidate):\n",
    "    #reference_tokens = [simple_tokenize(reference)]\n",
    "    #candidate_tokens = simple_tokenize(candidate)\n",
    "    #return sentence_bleu(reference_tokens, candidate_tokens)\n",
    "\n",
    "#def evaluate_recipes_bleu(reference_recipes, num_recipes=100):\n",
    "    # Sample queries\n",
    "    #queries = [f\"Give me a recipe for {recipe.split('\\\\n')[0].split(': ')[1]}\" \n",
    "               #for recipe in reference_recipes]\n",
    "    \n",
    "    #sampled_queries = random.sample(queries, min(num_recipes, len(queries)))\n",
    "    \n",
    "    #bleu_scores = []\n",
    "    #for query in tqdm(sampled_queries, desc=\"Evaluating Recipes\"):\n",
    "        #generated_recipe = process_query(query)  # Your RAG system's query processing function\n",
    "        \n",
    "        # Find the most similar reference recipe\n",
    "        #most_similar_recipe = max(reference_recipes, \n",
    "                                  #key=lambda ref: calculate_bleu(ref, generated_recipe))\n",
    "        \n",
    "        #bleu_score = calculate_bleu(most_similar_recipe, generated_recipe)\n",
    "        #bleu_scores.append(bleu_score)\n",
    "    \n",
    "    #avg_bleu = sum(bleu_scores) / len(bleu_scores)\n",
    "    #return avg_bleu\n",
    "\n",
    "# Run the evaluation\n",
    "#avg_bleu = evaluate_recipes_bleu(reference_recipes, num_recipes=100)\n",
    "#print(f\"\\nAverage BLEU score for 100 recipes: {avg_bleu}\")\n"
   ]
  },
  {
   "cell_type": "markdown",
   "id": "413b0fd0-c4ba-4cce-8858-37609737c886",
   "metadata": {},
   "source": [
    "* ROUGE"
   ]
  },
  {
   "cell_type": "markdown",
   "id": "433d19df-77ca-49d0-ac10-be3f7125dc29",
   "metadata": {},
   "source": [
    "* F1"
   ]
  },
  {
   "cell_type": "markdown",
   "id": "2aca0471-6b37-4df0-9e63-739d3c3c9b0d",
   "metadata": {},
   "source": [
    "* Embedding Quality:\n",
    "\n",
    "Cosine similarity: Compare the embeddings of similar recipes to ensure they are close in the vector space"
   ]
  },
  {
   "cell_type": "markdown",
   "id": "cba26ee4-36c4-4809-8e3e-b53964687567",
   "metadata": {},
   "source": [
    "* Allergen Compliance\n",
    "\n",
    "Allergen avoidance rate: Calculate the percentage of recipes that successfully avoid specified allergens when requested."
   ]
  },
  {
   "cell_type": "markdown",
   "id": "224ccde8-2fc1-4e15-b9e3-885bfdb7a9b8",
   "metadata": {},
   "source": [
    "* Response Diversity:\n",
    "\n",
    "Unique recipe rate: Measure the percentage of unique recipes generated across multiple similar queries to ensure variety.\n",
    "\n",
    "\n"
   ]
  },
  {
   "cell_type": "markdown",
   "id": "9e40d647-95f8-42e7-8a73-0b75e26c522b",
   "metadata": {},
   "source": [
    "* Retrieval Efficiency:\n",
    "\n",
    "Retrieval time: Measure the time taken to retrieve relevant documents from the FAISS index."
   ]
  },
  {
   "cell_type": "markdown",
   "id": "e0cc02c0-dbd0-4da2-88ca-93a797e5a1c1",
   "metadata": {},
   "source": [
    "* End-to-End Performance:\n",
    "\n",
    "Query-to-recipe time: Measure the total time from receiving a query to generating a complete recipe"
   ]
  },
  {
   "cell_type": "code",
   "execution_count": null,
   "id": "ed0e9378-23d2-4fc9-a7b3-dd99b5be09fc",
   "metadata": {},
   "outputs": [],
   "source": []
  }
 ],
 "metadata": {
  "colab": {
   "provenance": []
  },
  "kernelspec": {
   "display_name": "Python 3 (ipykernel)",
   "language": "python",
   "name": "python3"
  },
  "language_info": {
   "codemirror_mode": {
    "name": "ipython",
    "version": 3
   },
   "file_extension": ".py",
   "mimetype": "text/x-python",
   "name": "python",
   "nbconvert_exporter": "python",
   "pygments_lexer": "ipython3",
   "version": "3.11.9"
  }
 },
 "nbformat": 4,
 "nbformat_minor": 5
}
