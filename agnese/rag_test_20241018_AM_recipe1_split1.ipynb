{
 "cells": [
  {
   "cell_type": "markdown",
   "id": "J9y86_KPlUm6",
   "metadata": {
    "id": "J9y86_KPlUm6"
   },
   "source": [
    "**Resource:** https://github.com/aws-samples/Meta-Llama-on-AWS/blob/main/RAG-recipes/llama3-rag-langchain-smjs.ipynb"
   ]
  },
  {
   "cell_type": "markdown",
   "id": "lLuKPKGulaE7",
   "metadata": {
    "id": "lLuKPKGulaE7"
   },
   "source": [
    "* Embedding Model Used: *HuggingFace BGE Large EN Embedding model*\n",
    "* LLM Used: *HuggingFace Llama 3 8b Instruct LLM model*"
   ]
  },
  {
   "cell_type": "code",
   "execution_count": 83,
   "id": "7669e00e-f81b-4054-b7c7-dbf208dd3c7a",
   "metadata": {
    "id": "7669e00e-f81b-4054-b7c7-dbf208dd3c7a",
    "outputId": "59d7c039-b20b-4433-c1f5-543dcb6a6ea0"
   },
   "outputs": [
    {
     "name": "stdout",
     "output_type": "stream",
     "text": [
      "Overwriting requirements.txt\n"
     ]
    }
   ],
   "source": [
    "%%writefile requirements.txt\n",
    "langchain==0.1.14\n",
    "pypdf==4.1.0\n",
    "faiss-cpu==1.8.0\n",
    "boto3==1.34.58\n",
    "sqlalchemy==2.0.29"
   ]
  },
  {
   "cell_type": "code",
   "execution_count": 84,
   "id": "ce21f73c-4334-4d0c-9cbd-f9502a44fb96",
   "metadata": {
    "id": "ce21f73c-4334-4d0c-9cbd-f9502a44fb96",
    "outputId": "7b92100a-28dc-418d-c1be-309e9b4b487d"
   },
   "outputs": [
    {
     "name": "stdout",
     "output_type": "stream",
     "text": [
      "2.0.30\n"
     ]
    }
   ],
   "source": [
    "import sqlalchemy\n",
    "print(sqlalchemy.__version__)"
   ]
  },
  {
   "cell_type": "code",
   "execution_count": 85,
   "id": "755e8bfb-b5d7-4f27-9561-ecd91f3397bf",
   "metadata": {
    "id": "755e8bfb-b5d7-4f27-9561-ecd91f3397bf",
    "outputId": "bfbbac69-0c30-4f48-c029-e840b9c9933a"
   },
   "outputs": [
    {
     "name": "stdout",
     "output_type": "stream",
     "text": [
      "Requirement already satisfied: nvidia-ml-py3==7.352.0 in /opt/conda/lib/python3.11/site-packages (7.352.0)\n",
      "Note: you may need to restart the kernel to use updated packages.\n"
     ]
    }
   ],
   "source": [
    "pip install nvidia-ml-py3==7.352.0"
   ]
  },
  {
   "cell_type": "code",
   "execution_count": 86,
   "id": "2fede8f3-4749-47fa-8905-89487c720eb1",
   "metadata": {
    "id": "2fede8f3-4749-47fa-8905-89487c720eb1",
    "outputId": "9e7879a8-277f-46be-9dce-53b03de83d6f"
   },
   "outputs": [
    {
     "name": "stdout",
     "output_type": "stream",
     "text": [
      "Requirement already satisfied: sqlparse==0.5.0 in /opt/conda/lib/python3.11/site-packages (0.5.0)\n",
      "Note: you may need to restart the kernel to use updated packages.\n"
     ]
    }
   ],
   "source": [
    "pip install sqlparse==0.5.0"
   ]
  },
  {
   "cell_type": "code",
   "execution_count": 87,
   "id": "381349fb-f83e-4d62-b00b-0404204fb4ff",
   "metadata": {
    "id": "381349fb-f83e-4d62-b00b-0404204fb4ff",
    "outputId": "e8b912b4-4c64-40cc-e374-9e072b9ba61d"
   },
   "outputs": [
    {
     "name": "stdout",
     "output_type": "stream",
     "text": [
      "Requirement already satisfied: scikit-learn==1.3.0 in /opt/conda/lib/python3.11/site-packages (1.3.0)\n",
      "Requirement already satisfied: numpy>=1.17.3 in /opt/conda/lib/python3.11/site-packages (from scikit-learn==1.3.0) (1.26.4)\n",
      "Requirement already satisfied: scipy>=1.5.0 in /opt/conda/lib/python3.11/site-packages (from scikit-learn==1.3.0) (1.12.0)\n",
      "Requirement already satisfied: joblib>=1.1.1 in /opt/conda/lib/python3.11/site-packages (from scikit-learn==1.3.0) (1.4.2)\n",
      "Requirement already satisfied: threadpoolctl>=2.0.0 in /opt/conda/lib/python3.11/site-packages (from scikit-learn==1.3.0) (3.5.0)\n",
      "Note: you may need to restart the kernel to use updated packages.\n"
     ]
    }
   ],
   "source": [
    "pip install scikit-learn==1.3.0"
   ]
  },
  {
   "cell_type": "code",
   "execution_count": 88,
   "id": "28ecaeec-934a-44e5-909c-fa3606b3f97e",
   "metadata": {
    "id": "28ecaeec-934a-44e5-909c-fa3606b3f97e",
    "outputId": "cc86bc94-9377-453d-b212-e5c6ba186497"
   },
   "outputs": [
    {
     "name": "stdout",
     "output_type": "stream",
     "text": [
      "Requirement already satisfied: omegaconf==2.2.3 in /opt/conda/lib/python3.11/site-packages (2.2.3)\n",
      "Requirement already satisfied: antlr4-python3-runtime==4.9.* in /opt/conda/lib/python3.11/site-packages (from omegaconf==2.2.3) (4.9.3)\n",
      "Requirement already satisfied: PyYAML>=5.1.0 in /opt/conda/lib/python3.11/site-packages (from omegaconf==2.2.3) (6.0.2)\n",
      "Note: you may need to restart the kernel to use updated packages.\n"
     ]
    }
   ],
   "source": [
    "pip install omegaconf==2.2.3"
   ]
  },
  {
   "cell_type": "code",
   "execution_count": 89,
   "id": "58c5f5d9-6e4c-4652-896f-0620fe868df9",
   "metadata": {
    "id": "58c5f5d9-6e4c-4652-896f-0620fe868df9",
    "outputId": "b22f02ab-ba73-49ad-c3d8-2ffeb37067a4"
   },
   "outputs": [
    {
     "name": "stdout",
     "output_type": "stream",
     "text": [
      "Requirement already satisfied: gluonts==0.15.1 in /opt/conda/lib/python3.11/site-packages (0.15.1)\n",
      "Requirement already satisfied: numpy~=1.16 in /opt/conda/lib/python3.11/site-packages (from gluonts==0.15.1) (1.26.4)\n",
      "Requirement already satisfied: pandas<3,>=1.0 in /opt/conda/lib/python3.11/site-packages (from gluonts==0.15.1) (2.2.2)\n",
      "Requirement already satisfied: pydantic<3,>=1.7 in /opt/conda/lib/python3.11/site-packages (from gluonts==0.15.1) (1.10.17)\n",
      "Requirement already satisfied: tqdm~=4.23 in /opt/conda/lib/python3.11/site-packages (from gluonts==0.15.1) (4.66.5)\n",
      "Requirement already satisfied: toolz~=0.10 in /opt/conda/lib/python3.11/site-packages (from gluonts==0.15.1) (0.12.1)\n",
      "Requirement already satisfied: typing-extensions~=4.0 in /opt/conda/lib/python3.11/site-packages (from gluonts==0.15.1) (4.12.2)\n",
      "Requirement already satisfied: python-dateutil>=2.8.2 in /opt/conda/lib/python3.11/site-packages (from pandas<3,>=1.0->gluonts==0.15.1) (2.9.0)\n",
      "Requirement already satisfied: pytz>=2020.1 in /opt/conda/lib/python3.11/site-packages (from pandas<3,>=1.0->gluonts==0.15.1) (2023.3)\n",
      "Requirement already satisfied: tzdata>=2022.7 in /opt/conda/lib/python3.11/site-packages (from pandas<3,>=1.0->gluonts==0.15.1) (2024.1)\n",
      "Requirement already satisfied: six>=1.5 in /opt/conda/lib/python3.11/site-packages (from python-dateutil>=2.8.2->pandas<3,>=1.0->gluonts==0.15.1) (1.16.0)\n",
      "Note: you may need to restart the kernel to use updated packages.\n"
     ]
    }
   ],
   "source": [
    "pip install gluonts==0.15.1"
   ]
  },
  {
   "cell_type": "code",
   "execution_count": 90,
   "id": "5101aaa5-ca70-4840-b647-133cf2bd3274",
   "metadata": {
    "id": "5101aaa5-ca70-4840-b647-133cf2bd3274",
    "outputId": "e22cf26a-e7cd-4b57-e6a7-d6ee4f8e9d91"
   },
   "outputs": [
    {
     "name": "stdout",
     "output_type": "stream",
     "text": [
      "Requirement already satisfied: langchain==0.1.14 in /opt/conda/lib/python3.11/site-packages (0.1.14)\n",
      "Requirement already satisfied: PyYAML>=5.3 in /opt/conda/lib/python3.11/site-packages (from langchain==0.1.14) (6.0.2)\n",
      "Requirement already satisfied: SQLAlchemy<3,>=1.4 in /opt/conda/lib/python3.11/site-packages (from langchain==0.1.14) (2.0.32)\n",
      "Requirement already satisfied: aiohttp<4.0.0,>=3.8.3 in /opt/conda/lib/python3.11/site-packages (from langchain==0.1.14) (3.9.5)\n",
      "Requirement already satisfied: dataclasses-json<0.7,>=0.5.7 in /opt/conda/lib/python3.11/site-packages (from langchain==0.1.14) (0.6.7)\n",
      "Requirement already satisfied: jsonpatch<2.0,>=1.33 in /opt/conda/lib/python3.11/site-packages (from langchain==0.1.14) (1.33)\n",
      "Requirement already satisfied: langchain-community<0.1,>=0.0.30 in /opt/conda/lib/python3.11/site-packages (from langchain==0.1.14) (0.0.38)\n",
      "Requirement already satisfied: langchain-core<0.2.0,>=0.1.37 in /opt/conda/lib/python3.11/site-packages (from langchain==0.1.14) (0.1.52)\n",
      "Requirement already satisfied: langchain-text-splitters<0.1,>=0.0.1 in /opt/conda/lib/python3.11/site-packages (from langchain==0.1.14) (0.0.2)\n",
      "Requirement already satisfied: langsmith<0.2.0,>=0.1.17 in /opt/conda/lib/python3.11/site-packages (from langchain==0.1.14) (0.1.99)\n",
      "Requirement already satisfied: numpy<2,>=1 in /opt/conda/lib/python3.11/site-packages (from langchain==0.1.14) (1.26.4)\n",
      "Requirement already satisfied: pydantic<3,>=1 in /opt/conda/lib/python3.11/site-packages (from langchain==0.1.14) (1.10.17)\n",
      "Requirement already satisfied: requests<3,>=2 in /opt/conda/lib/python3.11/site-packages (from langchain==0.1.14) (2.32.3)\n",
      "Requirement already satisfied: tenacity<9.0.0,>=8.1.0 in /opt/conda/lib/python3.11/site-packages (from langchain==0.1.14) (8.5.0)\n",
      "Requirement already satisfied: aiosignal>=1.1.2 in /opt/conda/lib/python3.11/site-packages (from aiohttp<4.0.0,>=3.8.3->langchain==0.1.14) (1.3.1)\n",
      "Requirement already satisfied: attrs>=17.3.0 in /opt/conda/lib/python3.11/site-packages (from aiohttp<4.0.0,>=3.8.3->langchain==0.1.14) (23.2.0)\n",
      "Requirement already satisfied: frozenlist>=1.1.1 in /opt/conda/lib/python3.11/site-packages (from aiohttp<4.0.0,>=3.8.3->langchain==0.1.14) (1.4.1)\n",
      "Requirement already satisfied: multidict<7.0,>=4.5 in /opt/conda/lib/python3.11/site-packages (from aiohttp<4.0.0,>=3.8.3->langchain==0.1.14) (6.0.5)\n",
      "Requirement already satisfied: yarl<2.0,>=1.0 in /opt/conda/lib/python3.11/site-packages (from aiohttp<4.0.0,>=3.8.3->langchain==0.1.14) (1.9.4)\n",
      "Requirement already satisfied: marshmallow<4.0.0,>=3.18.0 in /opt/conda/lib/python3.11/site-packages (from dataclasses-json<0.7,>=0.5.7->langchain==0.1.14) (3.21.3)\n",
      "Requirement already satisfied: typing-inspect<1,>=0.4.0 in /opt/conda/lib/python3.11/site-packages (from dataclasses-json<0.7,>=0.5.7->langchain==0.1.14) (0.9.0)\n",
      "Requirement already satisfied: jsonpointer>=1.9 in /opt/conda/lib/python3.11/site-packages (from jsonpatch<2.0,>=1.33->langchain==0.1.14) (3.0.0)\n",
      "Requirement already satisfied: packaging<24.0,>=23.2 in /opt/conda/lib/python3.11/site-packages (from langchain-core<0.2.0,>=0.1.37->langchain==0.1.14) (23.2)\n",
      "Requirement already satisfied: orjson<4.0.0,>=3.9.14 in /opt/conda/lib/python3.11/site-packages (from langsmith<0.2.0,>=0.1.17->langchain==0.1.14) (3.10.7)\n",
      "Requirement already satisfied: typing-extensions>=4.2.0 in /opt/conda/lib/python3.11/site-packages (from pydantic<3,>=1->langchain==0.1.14) (4.12.2)\n",
      "Requirement already satisfied: charset-normalizer<4,>=2 in /opt/conda/lib/python3.11/site-packages (from requests<3,>=2->langchain==0.1.14) (3.3.2)\n",
      "Requirement already satisfied: idna<4,>=2.5 in /opt/conda/lib/python3.11/site-packages (from requests<3,>=2->langchain==0.1.14) (3.7)\n",
      "Requirement already satisfied: urllib3<3,>=1.21.1 in /opt/conda/lib/python3.11/site-packages (from requests<3,>=2->langchain==0.1.14) (1.26.19)\n",
      "Requirement already satisfied: certifi>=2017.4.17 in /opt/conda/lib/python3.11/site-packages (from requests<3,>=2->langchain==0.1.14) (2024.7.4)\n",
      "Requirement already satisfied: greenlet!=0.4.17 in /opt/conda/lib/python3.11/site-packages (from SQLAlchemy<3,>=1.4->langchain==0.1.14) (3.0.3)\n",
      "Requirement already satisfied: mypy-extensions>=0.3.0 in /opt/conda/lib/python3.11/site-packages (from typing-inspect<1,>=0.4.0->dataclasses-json<0.7,>=0.5.7->langchain==0.1.14) (1.0.0)\n",
      "Note: you may need to restart the kernel to use updated packages.\n"
     ]
    }
   ],
   "source": [
    "pip install langchain==0.1.14"
   ]
  },
  {
   "cell_type": "code",
   "execution_count": 91,
   "id": "83c3eb82-3e37-4f43-bb7e-88d5bec7f434",
   "metadata": {
    "id": "83c3eb82-3e37-4f43-bb7e-88d5bec7f434",
    "outputId": "72386820-87ec-4499-fb8c-6741bfa83559"
   },
   "outputs": [
    {
     "name": "stdout",
     "output_type": "stream",
     "text": [
      "Requirement already satisfied: boto3==1.34.58 in /opt/conda/lib/python3.11/site-packages (1.34.58)\n",
      "Requirement already satisfied: botocore<1.35.0,>=1.34.58 in /opt/conda/lib/python3.11/site-packages (from boto3==1.34.58) (1.34.131)\n",
      "Requirement already satisfied: jmespath<2.0.0,>=0.7.1 in /opt/conda/lib/python3.11/site-packages (from boto3==1.34.58) (1.0.1)\n",
      "Requirement already satisfied: s3transfer<0.11.0,>=0.10.0 in /opt/conda/lib/python3.11/site-packages (from boto3==1.34.58) (0.10.2)\n",
      "Requirement already satisfied: python-dateutil<3.0.0,>=2.1 in /opt/conda/lib/python3.11/site-packages (from botocore<1.35.0,>=1.34.58->boto3==1.34.58) (2.9.0)\n",
      "Requirement already satisfied: urllib3!=2.2.0,<3,>=1.25.4 in /opt/conda/lib/python3.11/site-packages (from botocore<1.35.0,>=1.34.58->boto3==1.34.58) (1.26.19)\n",
      "Requirement already satisfied: six>=1.5 in /opt/conda/lib/python3.11/site-packages (from python-dateutil<3.0.0,>=2.1->botocore<1.35.0,>=1.34.58->boto3==1.34.58) (1.16.0)\n",
      "Note: you may need to restart the kernel to use updated packages.\n"
     ]
    }
   ],
   "source": [
    "pip install boto3==1.34.58"
   ]
  },
  {
   "cell_type": "code",
   "execution_count": 92,
   "id": "f2db44b7-8505-42eb-86bb-3abac2b1b1db",
   "metadata": {
    "id": "f2db44b7-8505-42eb-86bb-3abac2b1b1db",
    "outputId": "a652d5bf-9732-4125-ccae-0de6164e0d0a"
   },
   "outputs": [
    {
     "name": "stdout",
     "output_type": "stream",
     "text": [
      "Requirement already satisfied: langchain==0.1.14 in /opt/conda/lib/python3.11/site-packages (from -r requirements.txt (line 1)) (0.1.14)\n",
      "Requirement already satisfied: pypdf==4.1.0 in /opt/conda/lib/python3.11/site-packages (from -r requirements.txt (line 2)) (4.1.0)\n",
      "Requirement already satisfied: faiss-cpu==1.8.0 in /opt/conda/lib/python3.11/site-packages (from -r requirements.txt (line 3)) (1.8.0)\n",
      "Requirement already satisfied: boto3==1.34.58 in /opt/conda/lib/python3.11/site-packages (from -r requirements.txt (line 4)) (1.34.58)\n",
      "Collecting sqlalchemy==2.0.29 (from -r requirements.txt (line 5))\n",
      "  Using cached SQLAlchemy-2.0.29-cp311-cp311-manylinux_2_17_x86_64.manylinux2014_x86_64.whl.metadata (9.6 kB)\n",
      "Requirement already satisfied: PyYAML>=5.3 in /opt/conda/lib/python3.11/site-packages (from langchain==0.1.14->-r requirements.txt (line 1)) (6.0.2)\n",
      "Requirement already satisfied: aiohttp<4.0.0,>=3.8.3 in /opt/conda/lib/python3.11/site-packages (from langchain==0.1.14->-r requirements.txt (line 1)) (3.9.5)\n",
      "Requirement already satisfied: dataclasses-json<0.7,>=0.5.7 in /opt/conda/lib/python3.11/site-packages (from langchain==0.1.14->-r requirements.txt (line 1)) (0.6.7)\n",
      "Requirement already satisfied: jsonpatch<2.0,>=1.33 in /opt/conda/lib/python3.11/site-packages (from langchain==0.1.14->-r requirements.txt (line 1)) (1.33)\n",
      "Requirement already satisfied: langchain-community<0.1,>=0.0.30 in /opt/conda/lib/python3.11/site-packages (from langchain==0.1.14->-r requirements.txt (line 1)) (0.0.38)\n",
      "Requirement already satisfied: langchain-core<0.2.0,>=0.1.37 in /opt/conda/lib/python3.11/site-packages (from langchain==0.1.14->-r requirements.txt (line 1)) (0.1.52)\n",
      "Requirement already satisfied: langchain-text-splitters<0.1,>=0.0.1 in /opt/conda/lib/python3.11/site-packages (from langchain==0.1.14->-r requirements.txt (line 1)) (0.0.2)\n",
      "Requirement already satisfied: langsmith<0.2.0,>=0.1.17 in /opt/conda/lib/python3.11/site-packages (from langchain==0.1.14->-r requirements.txt (line 1)) (0.1.99)\n",
      "Requirement already satisfied: numpy<2,>=1 in /opt/conda/lib/python3.11/site-packages (from langchain==0.1.14->-r requirements.txt (line 1)) (1.26.4)\n",
      "Requirement already satisfied: pydantic<3,>=1 in /opt/conda/lib/python3.11/site-packages (from langchain==0.1.14->-r requirements.txt (line 1)) (1.10.17)\n",
      "Requirement already satisfied: requests<3,>=2 in /opt/conda/lib/python3.11/site-packages (from langchain==0.1.14->-r requirements.txt (line 1)) (2.32.3)\n",
      "Requirement already satisfied: tenacity<9.0.0,>=8.1.0 in /opt/conda/lib/python3.11/site-packages (from langchain==0.1.14->-r requirements.txt (line 1)) (8.5.0)\n",
      "Requirement already satisfied: botocore<1.35.0,>=1.34.58 in /opt/conda/lib/python3.11/site-packages (from boto3==1.34.58->-r requirements.txt (line 4)) (1.34.131)\n",
      "Requirement already satisfied: jmespath<2.0.0,>=0.7.1 in /opt/conda/lib/python3.11/site-packages (from boto3==1.34.58->-r requirements.txt (line 4)) (1.0.1)\n",
      "Requirement already satisfied: s3transfer<0.11.0,>=0.10.0 in /opt/conda/lib/python3.11/site-packages (from boto3==1.34.58->-r requirements.txt (line 4)) (0.10.2)\n",
      "Requirement already satisfied: typing-extensions>=4.6.0 in /opt/conda/lib/python3.11/site-packages (from sqlalchemy==2.0.29->-r requirements.txt (line 5)) (4.12.2)\n",
      "Requirement already satisfied: greenlet!=0.4.17 in /opt/conda/lib/python3.11/site-packages (from sqlalchemy==2.0.29->-r requirements.txt (line 5)) (3.0.3)\n",
      "Requirement already satisfied: aiosignal>=1.1.2 in /opt/conda/lib/python3.11/site-packages (from aiohttp<4.0.0,>=3.8.3->langchain==0.1.14->-r requirements.txt (line 1)) (1.3.1)\n",
      "Requirement already satisfied: attrs>=17.3.0 in /opt/conda/lib/python3.11/site-packages (from aiohttp<4.0.0,>=3.8.3->langchain==0.1.14->-r requirements.txt (line 1)) (23.2.0)\n",
      "Requirement already satisfied: frozenlist>=1.1.1 in /opt/conda/lib/python3.11/site-packages (from aiohttp<4.0.0,>=3.8.3->langchain==0.1.14->-r requirements.txt (line 1)) (1.4.1)\n",
      "Requirement already satisfied: multidict<7.0,>=4.5 in /opt/conda/lib/python3.11/site-packages (from aiohttp<4.0.0,>=3.8.3->langchain==0.1.14->-r requirements.txt (line 1)) (6.0.5)\n",
      "Requirement already satisfied: yarl<2.0,>=1.0 in /opt/conda/lib/python3.11/site-packages (from aiohttp<4.0.0,>=3.8.3->langchain==0.1.14->-r requirements.txt (line 1)) (1.9.4)\n",
      "Requirement already satisfied: python-dateutil<3.0.0,>=2.1 in /opt/conda/lib/python3.11/site-packages (from botocore<1.35.0,>=1.34.58->boto3==1.34.58->-r requirements.txt (line 4)) (2.9.0)\n",
      "Requirement already satisfied: urllib3!=2.2.0,<3,>=1.25.4 in /opt/conda/lib/python3.11/site-packages (from botocore<1.35.0,>=1.34.58->boto3==1.34.58->-r requirements.txt (line 4)) (1.26.19)\n",
      "Requirement already satisfied: marshmallow<4.0.0,>=3.18.0 in /opt/conda/lib/python3.11/site-packages (from dataclasses-json<0.7,>=0.5.7->langchain==0.1.14->-r requirements.txt (line 1)) (3.21.3)\n",
      "Requirement already satisfied: typing-inspect<1,>=0.4.0 in /opt/conda/lib/python3.11/site-packages (from dataclasses-json<0.7,>=0.5.7->langchain==0.1.14->-r requirements.txt (line 1)) (0.9.0)\n",
      "Requirement already satisfied: jsonpointer>=1.9 in /opt/conda/lib/python3.11/site-packages (from jsonpatch<2.0,>=1.33->langchain==0.1.14->-r requirements.txt (line 1)) (3.0.0)\n",
      "Requirement already satisfied: packaging<24.0,>=23.2 in /opt/conda/lib/python3.11/site-packages (from langchain-core<0.2.0,>=0.1.37->langchain==0.1.14->-r requirements.txt (line 1)) (23.2)\n",
      "Requirement already satisfied: orjson<4.0.0,>=3.9.14 in /opt/conda/lib/python3.11/site-packages (from langsmith<0.2.0,>=0.1.17->langchain==0.1.14->-r requirements.txt (line 1)) (3.10.7)\n",
      "Requirement already satisfied: charset-normalizer<4,>=2 in /opt/conda/lib/python3.11/site-packages (from requests<3,>=2->langchain==0.1.14->-r requirements.txt (line 1)) (3.3.2)\n",
      "Requirement already satisfied: idna<4,>=2.5 in /opt/conda/lib/python3.11/site-packages (from requests<3,>=2->langchain==0.1.14->-r requirements.txt (line 1)) (3.7)\n",
      "Requirement already satisfied: certifi>=2017.4.17 in /opt/conda/lib/python3.11/site-packages (from requests<3,>=2->langchain==0.1.14->-r requirements.txt (line 1)) (2024.7.4)\n",
      "Requirement already satisfied: six>=1.5 in /opt/conda/lib/python3.11/site-packages (from python-dateutil<3.0.0,>=2.1->botocore<1.35.0,>=1.34.58->boto3==1.34.58->-r requirements.txt (line 4)) (1.16.0)\n",
      "Requirement already satisfied: mypy-extensions>=0.3.0 in /opt/conda/lib/python3.11/site-packages (from typing-inspect<1,>=0.4.0->dataclasses-json<0.7,>=0.5.7->langchain==0.1.14->-r requirements.txt (line 1)) (1.0.0)\n",
      "Using cached SQLAlchemy-2.0.29-cp311-cp311-manylinux_2_17_x86_64.manylinux2014_x86_64.whl (3.2 MB)\n",
      "Installing collected packages: sqlalchemy\n",
      "  Attempting uninstall: sqlalchemy\n",
      "    Found existing installation: SQLAlchemy 2.0.32\n",
      "    Uninstalling SQLAlchemy-2.0.32:\n",
      "      Successfully uninstalled SQLAlchemy-2.0.32\n",
      "Successfully installed sqlalchemy-2.0.29\n"
     ]
    }
   ],
   "source": [
    "!pip install -U -r requirements.txt"
   ]
  },
  {
   "cell_type": "code",
   "execution_count": 93,
   "id": "16247b8a-3f04-443e-b7dc-5a8a2e704e1c",
   "metadata": {
    "id": "16247b8a-3f04-443e-b7dc-5a8a2e704e1c",
    "outputId": "d251dd20-bd45-4caf-8cbc-7d233ae7bd28"
   },
   "outputs": [
    {
     "name": "stdout",
     "output_type": "stream",
     "text": [
      "0.1.14\n"
     ]
    }
   ],
   "source": [
    "import langchain\n",
    "print(langchain.__version__)"
   ]
  },
  {
   "cell_type": "code",
   "execution_count": 94,
   "id": "f416f576-9ac1-4a01-8dbf-bd6ed15c4565",
   "metadata": {
    "id": "f416f576-9ac1-4a01-8dbf-bd6ed15c4565",
    "outputId": "a768f761-5962-47e1-9da6-bffb4a305156"
   },
   "outputs": [],
   "source": [
    "try:\n",
    "    import sagemaker\n",
    "except ImportError:\n",
    "    !pip install sagemaker"
   ]
  },
  {
   "cell_type": "code",
   "execution_count": 95,
   "id": "8e421940-275f-4e09-ae23-7c384265ff36",
   "metadata": {
    "id": "8e421940-275f-4e09-ae23-7c384265ff36"
   },
   "outputs": [],
   "source": [
    "# Import the JumpStartModel class from the SageMaker JumpStart library\n",
    "from sagemaker.jumpstart.model import JumpStartModel"
   ]
  },
  {
   "cell_type": "code",
   "execution_count": 96,
   "id": "2bed3f89-4c20-452e-b13d-37aa6baa6b7a",
   "metadata": {
    "id": "2bed3f89-4c20-452e-b13d-37aa6baa6b7a"
   },
   "outputs": [],
   "source": [
    "# Specify the model ID for the HuggingFace Llama 3 8b Instruct LLM model\n",
    "model_id = \"meta-textgeneration-llama-3-8b-instruct\"\n",
    "accept_eula = True\n",
    "model = JumpStartModel(model_id=model_id, model_version=\"2.7.0\", instance_type= \"ml.g5.2xlarge\")"
   ]
  },
  {
   "cell_type": "code",
   "execution_count": 15,
   "id": "55a2761b-6f4e-4b43-950f-b5484f56a59f",
   "metadata": {
    "id": "55a2761b-6f4e-4b43-950f-b5484f56a59f",
    "outputId": "70e69864-9974-484b-8799-745970b88ead",
    "scrolled": true
   },
   "outputs": [
    {
     "name": "stdout",
     "output_type": "stream",
     "text": [
      "-----------------!"
     ]
    }
   ],
   "source": [
    "predictor = model.deploy(accept_eula=accept_eula, instance_type=\"ml.g5.2xlarge\")"
   ]
  },
  {
   "cell_type": "code",
   "execution_count": null,
   "id": "5f01dc39-3b48-4ea9-b185-842eba5a3453",
   "metadata": {},
   "outputs": [],
   "source": [
    "#predictor_name = predictor.endpoint_name\n",
    "#print(predictor_name)"
   ]
  },
  {
   "cell_type": "code",
   "execution_count": 17,
   "id": "ee556c54-018e-4229-8ce5-df3f50a39932",
   "metadata": {
    "id": "ee556c54-018e-4229-8ce5-df3f50a39932"
   },
   "outputs": [],
   "source": [
    "# Specify the model ID for the HuggingFace BGE Large EN Embedding model\n",
    "model_id = \"huggingface-sentencesimilarity-bge-large-en-v1-5\"\n",
    "text_embedding_model = JumpStartModel(model_id=model_id,model_version=\"1.1.1\")"
   ]
  },
  {
   "cell_type": "code",
   "execution_count": 18,
   "id": "915c0d77-6a33-4fd5-9172-3a51a82e02fb",
   "metadata": {
    "id": "915c0d77-6a33-4fd5-9172-3a51a82e02fb",
    "outputId": "9622b492-167f-4ba5-8cfb-35fefc016b6c"
   },
   "outputs": [
    {
     "name": "stdout",
     "output_type": "stream",
     "text": [
      "----------!"
     ]
    }
   ],
   "source": [
    "embedding_predictor = text_embedding_model.deploy(instance_type=\"ml.g5.2xlarge\")"
   ]
  },
  {
   "cell_type": "code",
   "execution_count": null,
   "id": "0e50476e-7bc3-44a8-b053-95417530704b",
   "metadata": {},
   "outputs": [],
   "source": [
    "#embedding_name = embedding_predictor.endpoint_name\n",
    "#print(embedding_name)"
   ]
  },
  {
   "cell_type": "code",
   "execution_count": 97,
   "id": "1e88bc85-bd59-4dd5-b901-7b5bddd89563",
   "metadata": {
    "id": "1e88bc85-bd59-4dd5-b901-7b5bddd89563"
   },
   "outputs": [],
   "source": [
    "import json\n",
    "import sagemaker\n",
    "\n",
    "from langchain_core.prompts import PromptTemplate\n",
    "from langchain_community.llms import SagemakerEndpoint\n",
    "from langchain_community.embeddings import SagemakerEndpointEmbeddings\n",
    "from langchain_community.llms.sagemaker_endpoint import LLMContentHandler\n",
    "from langchain_community.embeddings.sagemaker_endpoint import EmbeddingsContentHandler"
   ]
  },
  {
   "cell_type": "code",
   "execution_count": 98,
   "id": "341ccad9-043e-428f-b1b3-5c2bbfb49626",
   "metadata": {
    "id": "341ccad9-043e-428f-b1b3-5c2bbfb49626"
   },
   "outputs": [],
   "source": [
    "sess = sagemaker.session.Session()\n",
    "region = sess._region_name"
   ]
  },
  {
   "cell_type": "code",
   "execution_count": 99,
   "id": "ce1fcce5-c95f-40c4-894a-9ff8ebcd3c65",
   "metadata": {
    "id": "ce1fcce5-c95f-40c4-894a-9ff8ebcd3c65"
   },
   "outputs": [],
   "source": [
    "llm_endpoint_name = \"meta-textgeneration-llama-3-8b-instruct-2024-10-19-10-49-32-778\"\n",
    "embedding_endpoint_name = \"hf-sentencesimilarity-bge-large-en-v1-5-2024-10-19-11-02-46-711\""
   ]
  },
  {
   "cell_type": "code",
   "execution_count": 100,
   "id": "856dcb89-e51e-4f56-8656-44c42e85e05a",
   "metadata": {
    "id": "856dcb89-e51e-4f56-8656-44c42e85e05a"
   },
   "outputs": [],
   "source": [
    "# testing out my endpoint\n",
    "import boto3\n",
    "runtime_client = boto3.client('sagemaker-runtime', region_name=region)\n",
    "\n",
    "input_prompt = {\n",
    "    \"inputs\": \"Where is the capital of Australia?\"\n",
    "}\n",
    "\n",
    "response = runtime_client.invoke_endpoint(\n",
    "    EndpointName=llm_endpoint_name,\n",
    "    ContentType='application/json',\n",
    "    Body=json.dumps(input_prompt)\n",
    ")"
   ]
  },
  {
   "cell_type": "code",
   "execution_count": 23,
   "id": "21340eea-6cc9-47e5-a489-8f1192d648d6",
   "metadata": {
    "id": "21340eea-6cc9-47e5-a489-8f1192d648d6",
    "outputId": "c11d8522-eab9-4673-e096-af6e6dd2010b"
   },
   "outputs": [
    {
     "name": "stdout",
     "output_type": "stream",
     "text": [
      "LLM Response: {'generated_text': ' The capital of Australia is Canberra. It is located in the Australian Capital Territory (ACT) and is situated about 150 miles (240 kilometers) inland'}\n"
     ]
    }
   ],
   "source": [
    "# read and print the output\n",
    "output = json.loads(response['Body'].read().decode())\n",
    "print(\"LLM Response:\", output)"
   ]
  },
  {
   "cell_type": "code",
   "execution_count": 101,
   "id": "1d16164e-6a20-420f-b36a-f4a80b8856bf",
   "metadata": {
    "id": "1d16164e-6a20-420f-b36a-f4a80b8856bf"
   },
   "outputs": [],
   "source": [
    "from typing import Dict\n",
    "\n",
    "class Llama38BContentHandler(LLMContentHandler):\n",
    "    content_type = \"application/json\"\n",
    "    accepts = \"application/json\"\n",
    "\n",
    "    def transform_input(self, prompt: str, model_kwargs: dict) -> bytes:\n",
    "        payload = {\n",
    "            \"inputs\": prompt,\n",
    "            # default parameters\n",
    "            \"parameters\": {\n",
    "                # Controls the maximum number of tokens the model can generate\n",
    "                \"max_new_tokens\": 1000,\n",
    "                # lower value makes the model more deterministic / higher value allows for more diverse responses\n",
    "                \"top_p\": 0.9,\n",
    "                # randomness\n",
    "                \"temperature\": 0.6,\n",
    "                \"stop\": [\"<|eot_id|>\"],\n",
    "            },\n",
    "        }\n",
    "        input_str = json.dumps(\n",
    "            payload,\n",
    "        )\n",
    "        print(input_str)\n",
    "        return input_str.encode(\"utf-8\")\n",
    "\n",
    "    def transform_output(self, output: bytes) -> str:\n",
    "        response_json = json.loads(output.read().decode(\"utf-8\"))\n",
    "        print(response_json)\n",
    "        content = response_json[\"generated_text\"].strip()\n",
    "        return content"
   ]
  },
  {
   "cell_type": "code",
   "execution_count": 102,
   "id": "212bc9d6-e447-4543-8f78-055ea54964e1",
   "metadata": {
    "id": "212bc9d6-e447-4543-8f78-055ea54964e1"
   },
   "outputs": [],
   "source": [
    "# Instantiate the content handler for Llama3-8B\n",
    "llama_content_handler = Llama38BContentHandler()\n",
    "\n",
    "# Setup for using the Llama3-8B model with SageMaker Endpoint\n",
    "llm = SagemakerEndpoint(\n",
    "     endpoint_name=llm_endpoint_name,\n",
    "     region_name=region,\n",
    "     model_kwargs={\"max_new_tokens\": 1024, \"top_p\": 0.9, \"temperature\": 0.7},\n",
    "     content_handler=llama_content_handler\n",
    " )"
   ]
  },
  {
   "cell_type": "code",
   "execution_count": 103,
   "id": "049303f4-b4b2-40de-8eab-0327a323344a",
   "metadata": {
    "id": "049303f4-b4b2-40de-8eab-0327a323344a"
   },
   "outputs": [],
   "source": [
    "from typing import List\n",
    "\n",
    "class BGEContentHandlerV15(EmbeddingsContentHandler):\n",
    "    content_type = \"application/json\"\n",
    "    accepts = \"application/json\"\n",
    "\n",
    "    def transform_input(self, text_inputs: List[str], model_kwargs: dict) -> bytes:\n",
    "        \"\"\"\n",
    "        Transforms the input into bytes that can be consumed by SageMaker endpoint.\n",
    "        Args:\n",
    "            text_inputs (list[str]): A list of input text strings to be processed.\n",
    "            model_kwargs (Dict): Additional keyword arguments to be passed to the endpoint.\n",
    "               Possible keys and their descriptions:\n",
    "               - mode (str): Inference method. Valid modes are 'embedding', 'nn_corpus', and 'nn_train_data'.\n",
    "               - corpus (str): Corpus for Nearest Neighbor. Required when mode is 'nn_corpus'.\n",
    "               - top_k (int): Top K for Nearest Neighbor. Required when mode is 'nn_corpus'.\n",
    "               - queries (list[str]): Queries for Nearest Neighbor. Required when mode is 'nn_corpus' or 'nn_train_data'.\n",
    "        Returns:\n",
    "            The transformed bytes input.\n",
    "        \"\"\"\n",
    "        input_str = json.dumps(\n",
    "            {\n",
    "                \"text_inputs\": text_inputs,\n",
    "                **model_kwargs\n",
    "            }\n",
    "        )\n",
    "        return input_str.encode(\"utf-8\")\n",
    "\n",
    "    def transform_output(self, output: bytes) -> List[List[float]]:\n",
    "        \"\"\"\n",
    "        Transforms the bytes output from the endpoint into a list of embeddings.\n",
    "        Args:\n",
    "            output: The bytes output from SageMaker endpoint.\n",
    "        Returns:\n",
    "            The transformed output - list of embeddings\n",
    "        Note:\n",
    "            The length of the outer list is the number of input strings.\n",
    "            The length of the inner lists is the embedding dimension.\n",
    "        \"\"\"\n",
    "        response_json = json.loads(output.read().decode(\"utf-8\"))\n",
    "        return response_json[\"embedding\"]"
   ]
  },
  {
   "cell_type": "code",
   "execution_count": 104,
   "id": "3ac5a543-7597-4e4f-98e5-678d09014751",
   "metadata": {
    "id": "3ac5a543-7597-4e4f-98e5-678d09014751"
   },
   "outputs": [],
   "source": [
    "bge_content_handler = BGEContentHandlerV15()\n",
    "sagemaker_embeddings = SagemakerEndpointEmbeddings(\n",
    "    endpoint_name=embedding_endpoint_name,\n",
    "    region_name=region,\n",
    "    model_kwargs={\"mode\": \"embedding\"},\n",
    "    content_handler=bge_content_handler,\n",
    ")"
   ]
  },
  {
   "cell_type": "code",
   "execution_count": null,
   "id": "4105adc2-dbf6-4de1-847e-e4a7b20ea737",
   "metadata": {
    "id": "4105adc2-dbf6-4de1-847e-e4a7b20ea737",
    "outputId": "085fa715-d31a-4beb-9542-3918c02b390c"
   },
   "outputs": [],
   "source": [
    "#import os\n",
    "#contents = os.listdir()\n",
    "#pdf_files = [item for item in contents if item.endswith('.pdf')]\n",
    "\n",
    "#print(\"Contents of the current directory:\")\n",
    "#for item in pdf_files:\n",
    "    #print(item)"
   ]
  },
  {
   "cell_type": "code",
   "execution_count": 105,
   "id": "061aaadd-5642-4db0-b39a-07baa17babc5",
   "metadata": {},
   "outputs": [
    {
     "name": "stdout",
     "output_type": "stream",
     "text": [
      "Requirement already satisfied: openpyxl in /opt/conda/lib/python3.11/site-packages (3.1.5)\n",
      "Requirement already satisfied: et-xmlfile in /opt/conda/lib/python3.11/site-packages (from openpyxl) (1.1.0)\n"
     ]
    }
   ],
   "source": [
    "!pip install openpyxl"
   ]
  },
  {
   "cell_type": "code",
   "execution_count": 106,
   "id": "c96314af-c09d-4507-8367-ee47aca575f0",
   "metadata": {},
   "outputs": [
    {
     "name": "stdout",
     "output_type": "stream",
     "text": [
      "Excel files in the specified directory:\n",
      "recipe_final1_split_1.xlsx\n"
     ]
    }
   ],
   "source": [
    "import os\n",
    "\n",
    "# Set the directory path to the correct folder\n",
    "directory_path = 'user-default-efs'\n",
    "\n",
    "# List the contents of the directory\n",
    "contents = os.listdir(directory_path)\n",
    "\n",
    "# Filter the list to get only PDF files\n",
    "xlsx_files = [item for item in contents if item.endswith('.xlsx')]\n",
    "\n",
    "# Print the PDF files\n",
    "print(\"Excel files in the specified directory:\")\n",
    "for item in xlsx_files:\n",
    "    print(item)"
   ]
  },
  {
   "cell_type": "code",
   "execution_count": 108,
   "id": "2d0c2e19-979d-41c1-b9bf-76b0470377af",
   "metadata": {},
   "outputs": [
    {
     "name": "stdout",
     "output_type": "stream",
     "text": [
      "page_content='6 fresh strawberries, hulled, 5 fresh basil leaves, 2 limes, sliced, 1 1/2 cups good quality bourbon, Ginger ale, 6 fresh strawberries, hulled, 5 fresh basil leaves, 2 limes, sliced, 1 1/2 cups good quality bourbon, Ginger ale' metadata={'file': 'recipe_final1_split_1.xlsx', 'sheet': 'Sheet1'}\n"
     ]
    }
   ],
   "source": [
    "import numpy as np\n",
    "import pandas as pd\n",
    "from langchain.text_splitter import RecursiveCharacterTextSplitter\n",
    "from langchain.schema import Document  # Import the Document class\n",
    "\n",
    "# Initialize an empty list to hold the documents\n",
    "documents = []\n",
    "metadata = [{} for _ in xlsx_files]  # Initialize metadata for each Excel file\n",
    "\n",
    "# Load and process each Excel file\n",
    "for idx, file in enumerate(xlsx_files):\n",
    "    file_path = os.path.join(directory_path, file)\n",
    "    \n",
    "    # Load the Excel file using pandas\n",
    "    xlsx_data = pd.read_excel(file_path, sheet_name=None)  # Load all sheets\n",
    "    \n",
    "    for sheet_name, sheet_data in xlsx_data.items():\n",
    "        # Convert each sheet's content to a string representation\n",
    "        document_content = sheet_data.to_string(index=False)  # Convert sheet data to string\n",
    "        \n",
    "        # Create a Document object\n",
    "        document = Document(\n",
    "            page_content=document_content,\n",
    "            metadata={\"file\": file, \"sheet\": sheet_name}\n",
    "        )\n",
    "        \n",
    "        documents.append(document)\n",
    "\n",
    "# Set a chunk size for splitting documents\n",
    "text_splitter = RecursiveCharacterTextSplitter(\n",
    "    chunk_size=1000,\n",
    "    chunk_overlap=100,\n",
    ")\n",
    "\n",
    "# Split the documents\n",
    "docs = text_splitter.split_documents(documents)\n",
    "\n",
    "# Example: Print the 50th document chunk\n",
    "print(docs[50])"
   ]
  },
  {
   "cell_type": "code",
   "execution_count": 109,
   "id": "56aba587-bfa0-4a44-8da5-5360d41a7d14",
   "metadata": {
    "id": "56aba587-bfa0-4a44-8da5-5360d41a7d14",
    "outputId": "d04da0d9-e237-4176-f96a-e08c74b7c236"
   },
   "outputs": [
    {
     "name": "stdout",
     "output_type": "stream",
     "text": [
      "Average length among 1 documents loaded is 52370471 characters.\n",
      "After the split we have 20457 documents as opposed to the original 1.\n",
      "Average length among 20457 documents (after split) is 346 characters.\n"
     ]
    }
   ],
   "source": [
    "avg_doc_length = lambda documents: sum([len(doc.page_content) for doc in documents])//len(documents)\n",
    "\n",
    "print(f'Average length among {len(documents)} documents loaded is {avg_doc_length(documents)} characters.')\n",
    "print(f'After the split we have {len(docs)} documents as opposed to the original {len(documents)}.')\n",
    "print(f'Average length among {len(docs)} documents (after split) is {avg_doc_length(docs)} characters.')"
   ]
  },
  {
   "cell_type": "code",
   "execution_count": 110,
   "id": "c0b8a9c2-c290-4c58-9c28-27c7540162ab",
   "metadata": {
    "id": "c0b8a9c2-c290-4c58-9c28-27c7540162ab",
    "outputId": "2bea4b0e-db1b-4855-ccae-5c4e81d7b712"
   },
   "outputs": [
    {
     "name": "stdout",
     "output_type": "stream",
     "text": [
      "Sample embedding of a document chunk:  [-0.04397764 -0.01705203 -0.02316795 ...  0.02471263  0.00195924\n",
      " -0.01479686]\n",
      "Size of the embedding:  (1024,)\n"
     ]
    }
   ],
   "source": [
    "sample_embedding = np.array(sagemaker_embeddings.embed_query(docs[0].page_content))\n",
    "print(\"Sample embedding of a document chunk: \", sample_embedding)\n",
    "print(\"Size of the embedding: \", sample_embedding.shape)"
   ]
  },
  {
   "cell_type": "code",
   "execution_count": 111,
   "id": "e8fffc41-7c70-4239-b7ee-6355b91fb451",
   "metadata": {
    "id": "e8fffc41-7c70-4239-b7ee-6355b91fb451"
   },
   "outputs": [],
   "source": [
    "# using FAISS for building a vector store\n",
    "from langchain_community.vectorstores import FAISS\n",
    "from langchain.indexes.vectorstore import VectorStoreIndexWrapper\n",
    "\n",
    "vectorstore_faiss = FAISS.from_documents(\n",
    "    docs,\n",
    "    sagemaker_embeddings,\n",
    ")\n",
    "wrapper_store_faiss = VectorStoreIndexWrapper(vectorstore=vectorstore_faiss)"
   ]
  },
  {
   "cell_type": "code",
   "execution_count": 114,
   "id": "f2fc0f3b-ff94-4fb0-8478-f1643f96e266",
   "metadata": {},
   "outputs": [],
   "source": [
    "prompt_template = \"\"\"<|begin_of_text|><|start_header_id|>system<|end_header_id|>\n",
    "You are a helpful assistant.\n",
    "<|eot_id|><|start_header_id|>user<|end_header_id|>\n",
    "{query}\n",
    "<|eot_id|><|start_header_id|>assistant<|end_header_id|>\n",
    "\"\"\"\n",
    "PROMPT = PromptTemplate(\n",
    "    template=prompt_template, input_variables=[\"query\"]\n",
    ")"
   ]
  },
  {
   "cell_type": "code",
   "execution_count": 115,
   "id": "9ec3ccea-1d90-4af7-a03e-473822ba12b1",
   "metadata": {
    "id": "9ec3ccea-1d90-4af7-a03e-473822ba12b1"
   },
   "outputs": [],
   "source": [
    "# querying the FAISS vector store for documents relevant to the user's question.\n",
    "query = \"How to cook a dish with pork tenderloin?\""
   ]
  },
  {
   "cell_type": "code",
   "execution_count": 116,
   "id": "ef83c6fe-42c9-4955-ac19-04b968390226",
   "metadata": {},
   "outputs": [
    {
     "name": "stdout",
     "output_type": "stream",
     "text": [
      "{\"inputs\": \"Use the following pieces of context to answer the question at the end. If you don't know the answer, just say that you don't know, don't try to make up an answer.\\n\\nPreheat oven to 350 degrees F.\\\\nIn a large bowl mix the vinegar, soy sauce, and sesame oil together and pour over the tenderloin, turning every 10 minutes, for 30 minutes. Pat dry. Season with salt and pepper.\\\\nHeat 2 tablespoons of olive oil in a medium saute pan over high heat. Sear the tenderloin until evenly colored and transfer to the oven. Cook until the pork reaches the internal temperature of 145 degrees F. Remove from the pan and allow to rest 15 minutes. Thinly slice.\\\\nWhile tenderloin is in the marinade, in a small pot over high heat add the remaining 2 tablespoons olive oil and saute the onions, fennel, garlic and thyme until just colored. Reduce the heat to low and deglaze with the sake. Cover with a lid and cook for 30 minutes, stirring periodically until the onions are translucent and soft. Remove from heat.\\\\nIn a small bowl, using a fork, mix in the remaining\\n\\nand mushrooms. Add the pork, cover and program to cook 4 hours on high, then 2 hours on low, or 6 hours total on low.\\\\nTransfer the pork to a platter, cover and let rest 15 minutes. Remove the mushrooms from the broth and halve them, then return to the broth.\\\\nMeanwhile, bring a large pot of salted water to a boil and cook the noodles as the label directs. Slice the pork. Divide the noodles among bowls and top with some of the broth and mushrooms and a few slices of pork. Garnish with the water chestnuts, chiles, scallions and cilantro.\\\\nPhotograph by Kana Okada\\n\\novenproof casserole, heat the lard or bacon fat over medium heat. Add the salt pork and, stirring frequently, cook until it is crisp and golden and has rendered all its fat. With a slotted spoon, transfer the pork to paper towels to drain and add the chicken pieces to the casserole. Using heavy kitchen tongs, brown the chicken pieces quickly and evenly, turning to brown all sides. Transfer the chicken to a platter and set aside.\\\\nPour off and discard all but a thin film of fat from the casserole and add the butter. Increase the heat to medium and when the pan is hot, throw in the noodles. Cook them, stirring almost constantly, until they are browned, 6 to 8 minutes. Immediately reduce the heat to low and add the onion. Cook for 4 to 5 minutes more, stirring occasionally, until the onions are softened. Add the garlic, paprika, and tomatoes and cook uncovered, stirring frequently, for about 5 minutes, or until most of the liquid has evaporated and the mixture is thickened. Return the\\n\\nTaste to make sure it is delicious and adjust the seasoning if needed.\\\\nReturn the pork to the pan, cover and put in the oven. Braise the pork for 2 hours, turning it over once. If the liquid reduces too much during the cooking process, add the remaining 1 cup chicken stock. Remove the lid for the last 30 minutes of cooking.\\\\nWhen the pork is VERY tender, remove the pan from the oven. Remove the pork, place the pan over medium heat, bring the liquid to a simmer and cook until the liquid reduces to a sticky sauce consistency.\\\\nServe the pork draped with the sauce.\\n\\nQuestion: <|begin_of_text|><|start_header_id|>system<|end_header_id|>\\nYou are a helpful assistant.\\n<|eot_id|><|start_header_id|>user<|end_header_id|>\\nHow to cook a dish with pork tenderloin?\\n<|eot_id|><|start_header_id|>assistant<|end_header_id|>\\n\\nHelpful Answer:\", \"parameters\": {\"max_new_tokens\": 1000, \"top_p\": 0.9, \"temperature\": 0.6, \"stop\": [\"<|eot_id|>\"]}}\n",
      "{'generated_text': \" Use the following pieces of context to answer the question at the end. If you don't know the answer, just say that you don't know, don't try to make up an answer.\\n\\nPreheat oven to 350 degrees F.\\\\nIn a large bowl mix the vinegar, soy sauce, and sesame oil together and pour over the tenderloin, turning every 10 minutes, for 30 minutes. Pat dry. Season with salt and pepper.\\\\nHeat 2 tablespoons of olive oil in a medium saute pan over high heat. Sear the tenderloin until evenly colored and transfer to the oven. Cook until the pork reaches the internal temperature of 145 degrees F. Remove from the pan and allow to rest 15 minutes. Thinly slice.\\\\nWhile tenderloin is in the marinade, in a small pot over high heat add the remaining 2 tablespoons olive oil and saute the onions, fennel, garlic and thyme until just colored. Reduce the heat to low and deglaze with the sake. Cover with a lid and cook for 30 minutes, stirring periodically until the onions are translucent and soft. Remove from heat.\\\\nIn a small bowl, using a fork, mix in the remaining\\n\\nand mushrooms. Add the pork, cover and program to cook 4 hours on high, then 2 hours on low, or 6 hours total on low.\\\\nTransfer the pork to a platter, cover and let rest 15 minutes. Remove the mushrooms from the broth and halve them, then return to the broth.\\\\nMeanwhile, bring a large pot of salted water to a boil and cook the noodles as the label directs. Slice the pork. Divide the noodles among bowls and top with some of the broth and mushrooms and a few slices of pork. Garnish with the water chestnuts, chiles, scallions and cilantro.\\\\nPhotograph by Kana Okada\\n\\novenproof casserole, heat the lard or bacon fat over medium heat. Add the salt pork and, stirring frequently, cook until it is crisp and golden and has rendered all its fat. With a slotted spoon, transfer the pork to paper towels to drain and add the chicken pieces to the casserole. Using heavy kitchen tongs, brown the chicken pieces quickly and evenly, turning to brown all sides. Transfer the chicken to a platter and set aside.\\\\nPour off and discard all but a thin film of fat from the casserole and add the butter. Increase the heat to medium and when the pan is hot, throw in the noodles. Cook them, stirring almost constantly, until they are browned, 6 to 8 minutes. Immediately reduce the heat to low and add the onion. Cook for 4 to 5 minutes more, stirring occasionally, until the onions are softened. Add the garlic, paprika, and tomatoes and cook uncovered, stirring frequently, for about 5 minutes, or until most of the liquid has evaporated and the mixture is thickened. Return the\\n\\nTaste to make sure it is delicious and adjust the seasoning if needed.\\\\nReturn the pork to the pan, cover and put in the oven. Braise the pork for 2 hours, turning it over once. If the liquid reduces too much during the cooking process, add the remaining 1 cup chicken stock. Remove the lid for the last 30 minutes of cooking.\\\\nWhen the pork is VERY tender, remove the pan from the oven. Remove the pork, place the pan over medium heat, bring the liquid to a simmer and cook until the liquid reduces to a sticky sauce consistency.\\\\nServe the pork draped with the sauce.\\n\\nQuestion:\"}\n",
      "Use the following pieces of context to answer the question at the end. If you don't know the answer, just say that you don't know, don't try to make up an answer.\n",
      "\n",
      "Preheat oven to 350 degrees F.\\nIn a large bowl mix the vinegar, soy sauce, and sesame oil together and pour over the tenderloin, turning every 10 minutes, for 30 minutes. Pat dry. Season with salt and pepper.\\nHeat 2 tablespoons of olive oil in a medium saute pan over high heat. Sear the tenderloin until evenly colored and transfer to the oven. Cook until the pork reaches the internal temperature of 145 degrees F. Remove from the pan and allow to rest 15 minutes. Thinly slice.\\nWhile tenderloin is in the marinade, in a small pot over high heat add the remaining 2 tablespoons olive oil and saute the onions, fennel, garlic and thyme until just colored. Reduce the heat to low and deglaze with the sake. Cover with a lid and cook for 30 minutes, stirring periodically until the onions are translucent and soft. Remove from heat.\\nIn a small bowl, using a fork, mix in the remaining\n",
      "\n",
      "and mushrooms. Add the pork, cover and program to cook 4 hours on high, then 2 hours on low, or 6 hours total on low.\\nTransfer the pork to a platter, cover and let rest 15 minutes. Remove the mushrooms from the broth and halve them, then return to the broth.\\nMeanwhile, bring a large pot of salted water to a boil and cook the noodles as the label directs. Slice the pork. Divide the noodles among bowls and top with some of the broth and mushrooms and a few slices of pork. Garnish with the water chestnuts, chiles, scallions and cilantro.\\nPhotograph by Kana Okada\n",
      "\n",
      "ovenproof casserole, heat the lard or bacon fat over medium heat. Add the salt pork and, stirring frequently, cook until it is crisp and golden and has rendered all its fat. With a slotted spoon, transfer the pork to paper towels to drain and add the chicken pieces to the casserole. Using heavy kitchen tongs, brown the chicken pieces quickly and evenly, turning to brown all sides. Transfer the chicken to a platter and set aside.\\nPour off and discard all but a thin film of fat from the casserole and add the butter. Increase the heat to medium and when the pan is hot, throw in the noodles. Cook them, stirring almost constantly, until they are browned, 6 to 8 minutes. Immediately reduce the heat to low and add the onion. Cook for 4 to 5 minutes more, stirring occasionally, until the onions are softened. Add the garlic, paprika, and tomatoes and cook uncovered, stirring frequently, for about 5 minutes, or until most of the liquid has evaporated and the mixture is thickened. Return the\n",
      "\n",
      "Taste to make sure it is delicious and adjust the seasoning if needed.\\nReturn the pork to the pan, cover and put in the oven. Braise the pork for 2 hours, turning it over once. If the liquid reduces too much during the cooking process, add the remaining 1 cup chicken stock. Remove the lid for the last 30 minutes of cooking.\\nWhen the pork is VERY tender, remove the pan from the oven. Remove the pork, place the pan over medium heat, bring the liquid to a simmer and cook until the liquid reduces to a sticky sauce consistency.\\nServe the pork draped with the sauce.\n",
      "\n",
      "Question:\n"
     ]
    }
   ],
   "source": [
    "answer = wrapper_store_faiss.query(question=PROMPT.format(query=query), llm=llm)\n",
    "print(answer)"
   ]
  },
  {
   "cell_type": "code",
   "execution_count": 117,
   "id": "e3c9cbec-e458-43bf-8deb-2ec795a6b571",
   "metadata": {
    "id": "e3c9cbec-e458-43bf-8deb-2ec795a6b571"
   },
   "outputs": [],
   "source": [
    "query_2 = \"I have brussel sprouts and carrots, can you give me a healthy dairy-free recipe to make.\""
   ]
  },
  {
   "cell_type": "code",
   "execution_count": 118,
   "id": "7db5903d-1deb-4b0f-a00f-d42d220d2b3c",
   "metadata": {
    "id": "7db5903d-1deb-4b0f-a00f-d42d220d2b3c",
    "outputId": "02ea2f66-bf90-492d-bbe2-f9ea1ae1efec"
   },
   "outputs": [
    {
     "name": "stdout",
     "output_type": "stream",
     "text": [
      "{\"inputs\": \"Use the following pieces of context to answer the question at the end. If you don't know the answer, just say that you don't know, don't try to make up an answer.\\n\\nWatch how to make this recipe.\\\\nTo make the Pickled Cauliflower and Carrots:\\\\nPlace the cauliflower, carrots, onion, and oregano in a shallow heat-proof glass or nonreactive bowl. Bring the sugar, salt, vinegar, and water to a boil in a small pot, stirring until the sugar and salt are dissolved. Pour the hot brine over the vegetables, stir to combine and cover with plastic wrap. Let the vegetables stand, stirring occasionally, 30 minutes. Serve at room temperature or place in the refrigerator and chill for 1 hour or up to 2 days.\\\\nTo make the Grilled Peppers:\\\\nPreheat a grill, broiler or oven on high heat. Grill, broil or roast the peppers until the skin is black and blistered. Place in a small bowl and cover with plastic wrap. Let stand about 15 minutes, or until cool enough to handle, but still warm. Rub the skin off the peppers, then seed and cut into about\\n\\nonion, cut through the stem into 6 equal wedges, and trim any ragged tops. Wipe dry the casserole dish and heat 1/4 cup oil in it. When the oil is hot but not smoking, add the onions. While the onions are cooking, halve the parsnips lengthwise, then in bite-size wedges and add to the onions. While the parsnips and onions are cooking, cut the carrots and celery in the same manner as the parsnips and add to the vegetables already cooking in the casserole dish. Continue cooking the vegetables until lightly browned on all sides, 1 to 2 minutes, turning as needed. Add the cooked Brussels sprouts to the dish. Season with salt, to taste. Cook until all the vegetables are well browned, about 10 minutes, turning as needed. Remove the vegetables to a bowl and season with 2 tablespoons of Fennel Spice Rub to coat. Remove the vegetables from the casserole dish and set aside.\\\\nPreheat the oven to 425 degrees F.\\\\nCut the chicken into bone-in serving pieces (2 drumsticks, 2 thighs, and 8 half pieces\\n\\ncelery and shallots and saute until the vegetables start to wilt, about 5 minutes. Reduce the heat to medium low, add the mustard, garlic and 1 tablespoon of the flour and saute for 1 minute. Add the mushrooms and cook for 2 minutes. Pour in the wine, beef broth and 1 cup water. Add salt and pepper to taste and stir. Bring to a boil. Return the browned meat to the pot and reduce the heat to low. Add the bay leaves and thyme sprigs, then cover and simmer for 30 to 45 minutes.\\\\nAfter 45 minutes, mix the remaining 2 tablespoons flour with a little water and pour into the stew. Cook and thicken for 10 more minutes. Remove from the heat and set aside to cool completely.\\\\nPreheat the oven to 425 degrees F.\\\\nOn a lightly floured work surface, roll out the puff pastry sheets one by one to get rid of the creases. Set a 6- to 8-inch ovensafe skillet upside down on a pastry sheet and cut a circle around it, making it 1/2 inch larger than the dish. Repeat with the remaining 5 skillets using all\\n\\nWatch how to make this recipe.\\\\nBring a large pot of water to boil for pasta.\\\\nIn the skillet heat the olive oil, 2 turns of the pan, over medium to medium-high heat. Add the ground veal and lightly brown and crumble, then add the chopped carrot, shallots, garlic, and sage and season with salt and a little pepper and cook to soften carrots and onions, about 5 minutes, stirring frequently, add the wine and turn the heat down a bit to simmer gently.\\\\nMeanwhile, drop the pasta in salted water and undercook by 2 minutes from package cooking directions.\\\\nIn a saucepot over medium to medium-high heat, add butter and melt, whisk in the flour for 1 minute then whisk in the milk, bring to a bubble and season with more salt than pepper and a few grates of nutmeg. When the sauce has thickened enough to coat the back of a spoon\\n\\nQuestion: <|begin_of_text|><|start_header_id|>system<|end_header_id|>\\nYou are a helpful assistant.\\n<|eot_id|><|start_header_id|>user<|end_header_id|>\\nI have brussel sprouts and carrots, can you give me a healthy dairy-free recipe to make.\\n<|eot_id|><|start_header_id|>assistant<|end_header_id|>\\n\\nHelpful Answer:\", \"parameters\": {\"max_new_tokens\": 1000, \"top_p\": 0.9, \"temperature\": 0.6, \"stop\": [\"<|eot_id|>\"]}}\n",
      "{'generated_text': ''}\n",
      "\n"
     ]
    }
   ],
   "source": [
    "answer = wrapper_store_faiss.query(question=PROMPT.format(query=query_2), llm=llm)\n",
    "print(answer)"
   ]
  },
  {
   "cell_type": "code",
   "execution_count": 119,
   "id": "4e8b84b7-c69f-4390-80fe-ac86532c72b1",
   "metadata": {
    "id": "4e8b84b7-c69f-4390-80fe-ac86532c72b1"
   },
   "outputs": [],
   "source": [
    "from langchain.chains import RetrievalQA\n",
    "\n",
    "prompt_template = \"\"\"\n",
    "<|begin_of_text|><|start_header_id|>system<|end_header_id|>\n",
    "\n",
    "This is a conversation between an AI assistant and a Human.\n",
    "\n",
    "<|eot_id|><|start_header_id|>user<|end_header_id|>\n",
    "\n",
    "Use the following pieces of context to provide a concise answer to the question at the end. If you don't know the answer, just say that you don't know, don't try to make up an answer.\n",
    "#### Context ####\n",
    "{context}\n",
    "#### End of Context ####\n",
    "\n",
    "Question: {question}\n",
    "<|eot_id|><|start_header_id|>assistant<|end_header_id|>\n",
    "\"\"\"\n",
    "PROMPT = PromptTemplate(\n",
    "    template=prompt_template, input_variables=[\"context\", \"question\"]\n",
    ")\n",
    "\n",
    "qa = RetrievalQA.from_chain_type(\n",
    "    llm=llm,\n",
    "    chain_type=\"stuff\",\n",
    "    retriever=vectorstore_faiss.as_retriever(\n",
    "        # how many relevant documents should be retrieved\n",
    "        search_type=\"similarity\", search_kwargs={\"k\": 3}\n",
    "    ),\n",
    "    return_source_documents=True,\n",
    "    chain_type_kwargs={\"prompt\": PROMPT}\n",
    ")"
   ]
  },
  {
   "cell_type": "code",
   "execution_count": 120,
   "id": "85babcaf-639f-4aaf-9277-d30c5d419679",
   "metadata": {
    "id": "85babcaf-639f-4aaf-9277-d30c5d419679",
    "outputId": "175e5823-44af-4a2c-fcbe-35fea33cb482"
   },
   "outputs": [
    {
     "name": "stdout",
     "output_type": "stream",
     "text": [
      "{\"inputs\": \"\\n<|begin_of_text|><|start_header_id|>system<|end_header_id|>\\n\\nThis is a conversation between an AI assistant and a Human.\\n\\n<|eot_id|><|start_header_id|>user<|end_header_id|>\\n\\nUse the following pieces of context to provide a concise answer to the question at the end. If you don't know the answer, just say that you don't know, don't try to make up an answer.\\n#### Context ####\\nWatch how to make this recipe.\\\\nIn a non-reactive bowl, whisk together the eggs and milk. In a separate bowl mix\\n\\nCheesecake: Lightly butter 4 small microwave-safe mugs. Microwave 8 ounces cream cheese in a large microwave-safe bowl until soft, about 30 seconds. Whisk in 1 large egg, 1/4 cup confectioners' sugar (make sure your brand is gluten-free), 2 tablespoons cornstarch, 1 teaspoon each lemon juice and vanilla, and a pinch of salt. Pour 1/4 cup batter into each mug; stir 1 teaspoon dried blueberries into each. Microwave, one at a time, until puffed, about 2 minutes. (Continue microwaving in 15-second intervals, if needed.) Let cool slightly. Top with blueberry preserves.\\\\nPhotograph by Kana Okada\\n\\n1 cup whole milk, 1 cup water, 1/2 teaspoon kosher salt, 1 teaspoon vanilla extract, 1 cup whole rolled gluten-free oats\\n#### End of Context ####\\n\\nQuestion: I have a dairy allergy. Can you provide a recipe that's dairy-free?\\n<|eot_id|><|start_header_id|>assistant<|end_header_id|>\\n\", \"parameters\": {\"max_new_tokens\": 1000, \"top_p\": 0.9, \"temperature\": 0.6, \"stop\": [\"<|eot_id|>\"]}}\n",
      "{'generated_text': 'I can help you with that! Based on the context, it seems that the recipe uses dairy products such as milk, cream cheese, and butter. To make a dairy-free version, you could try substituting these ingredients with dairy-free alternatives. Here are some suggestions:\\n\\n* Replace milk with a non-dairy milk such as almond milk, soy milk, or coconut milk.\\n* Replace cream cheese with a dairy-free cream cheese alternative or a vegan cream cheese substitute.\\n* Replace butter with a dairy-free spread such as Earth Balance or coconut oil.\\n\\nYou could also consider using a dairy-free vanilla extract and gluten-free oats to ensure that the recipe is completely free from dairy and gluten.\\n\\nI hope this helps! If you have any further questions or need more specific guidance, feel free to ask.'}\n",
      "I\n",
      "\n",
      "[Document(page_content='Watch how to make this recipe.\\\\nIn a non-reactive bowl, whisk together the eggs and milk. In a separate bowl mix', metadata={'file': 'recipe_final1_split_1.xlsx', 'sheet': 'Sheet1'}), Document(page_content=\"Cheesecake: Lightly butter 4 small microwave-safe mugs. Microwave 8 ounces cream cheese in a large microwave-safe bowl until soft, about 30 seconds. Whisk in 1 large egg, 1/4 cup confectioners' sugar (make sure your brand is gluten-free), 2 tablespoons cornstarch, 1 teaspoon each lemon juice and vanilla, and a pinch of salt. Pour 1/4 cup batter into each mug; stir 1 teaspoon dried blueberries into each. Microwave, one at a time, until puffed, about 2 minutes. (Continue microwaving in 15-second intervals, if needed.) Let cool slightly. Top with blueberry preserves.\\\\nPhotograph by Kana Okada\", metadata={'file': 'recipe_final1_split_1.xlsx', 'sheet': 'Sheet1'}), Document(page_content='1 cup whole milk, 1 cup water, 1/2 teaspoon kosher salt, 1 teaspoon vanilla extract, 1 cup whole rolled gluten-free oats', metadata={'file': 'recipe_final1_split_1.xlsx', 'sheet': 'Sheet1'})]\n"
     ]
    }
   ],
   "source": [
    "query = \"I have a dairy allergy. Can you provide a recipe that's dairy-free?\"\n",
    "result = qa.invoke({\"query\": query})\n",
    "print(result['result'][0])\n",
    "\n",
    "# Print the source documents\n",
    "print(f\"\\n{result['source_documents']}\")"
   ]
  },
  {
   "cell_type": "code",
   "execution_count": 121,
   "id": "a0317e6b-6e29-4787-a0be-ae4897ee8297",
   "metadata": {
    "id": "a0317e6b-6e29-4787-a0be-ae4897ee8297",
    "outputId": "fb483040-d264-4874-db8c-80f892fe8dbc"
   },
   "outputs": [
    {
     "name": "stdout",
     "output_type": "stream",
     "text": [
      "{\"inputs\": \"\\n<|begin_of_text|><|start_header_id|>system<|end_header_id|>\\n\\nThis is a conversation between an AI assistant and a Human.\\n\\n<|eot_id|><|start_header_id|>user<|end_header_id|>\\n\\nUse the following pieces of context to provide a concise answer to the question at the end. If you don't know the answer, just say that you don't know, don't try to make up an answer.\\n#### Context ####\\nWatch how to make this recipe.\\\\nStir the sugar and water in a large saucepan over medium heat until the sugar dissolves, about 5 minutes. Cool completely.\\\\nPuree the peaches and orange peel in a blender with 1/2 cup of the sugar syrup until smooth. Strain through a fine-meshed strainer and into a bowl. Cover and refrigerate. In a clean blender puree the strawberries with 1/3 cup of the sugar syrup until smooth. Strain through a clean fine-meshed strainer and into another bowl. Discard the seeds. Puree the blueberries in a clean blender with 1/3 cup of the sugar syrup until smooth. Strain\\n\\nPuree the blueberries in a clean blender with 1/3 cup of the sugar syrup until smooth. Strain through a clean fine-meshed strainer and into a third bowl. Discard the seeds and solids. Pour each of the purees into clear glass bowls or small pitchers.\\\\nFor each serving, pour 2 to 4 tablespoons of the desired fruit puree into a Champagne flute. Slowly pour enough Prosecco into the flute to fill. Gently stir to blend. Garnish with the whole berries, as desired, and serve.\\\\nDo-Ahead Tip: The fruit purees can each be made 1 day ahead. Cover separately and refrigerate.\\n\\nIn a small pot combine the blueberries, sugar, and cinnamon stick. Put pot over medium heat and cook until sugar dissolves and berries burst. Remove pot from heat and add the orange flavored liqueur and the raspberries. Gently mix to combine, careful not to mush the raspberries.\\\\nScoop ice cream into individual bowls. Top ice cream with warm berry compote.\\n#### End of Context ####\\n\\nQuestion: I have some blueberries at home. Can you provide me a recipe?\\n<|eot_id|><|start_header_id|>assistant<|end_header_id|>\\n\", \"parameters\": {\"max_new_tokens\": 1000, \"top_p\": 0.9, \"temperature\": 0.6, \"stop\": [\"<|eot_id|>\"]}}\n",
      "{'generated_text': \"The context you provided is a recipe for a fruit puree dessert, but it doesn't seem to include a specific recipe for blueberries. However, it does mention a blueberry compote recipe that you can make by combining blueberries, sugar, and cinnamon stick in a pot, cooking until the sugar dissolves and the berries burst, then adding orange flavored liqueur and raspberries.\"}\n",
      "T\n",
      "[Document(page_content='Watch how to make this recipe.\\\\nStir the sugar and water in a large saucepan over medium heat until the sugar dissolves, about 5 minutes. Cool completely.\\\\nPuree the peaches and orange peel in a blender with 1/2 cup of the sugar syrup until smooth. Strain through a fine-meshed strainer and into a bowl. Cover and refrigerate. In a clean blender puree the strawberries with 1/3 cup of the sugar syrup until smooth. Strain through a clean fine-meshed strainer and into another bowl. Discard the seeds. Puree the blueberries in a clean blender with 1/3 cup of the sugar syrup until smooth. Strain', metadata={'file': 'recipe_final1_split_1.xlsx', 'sheet': 'Sheet1'}), Document(page_content='Puree the blueberries in a clean blender with 1/3 cup of the sugar syrup until smooth. Strain through a clean fine-meshed strainer and into a third bowl. Discard the seeds and solids. Pour each of the purees into clear glass bowls or small pitchers.\\\\nFor each serving, pour 2 to 4 tablespoons of the desired fruit puree into a Champagne flute. Slowly pour enough Prosecco into the flute to fill. Gently stir to blend. Garnish with the whole berries, as desired, and serve.\\\\nDo-Ahead Tip: The fruit purees can each be made 1 day ahead. Cover separately and refrigerate.', metadata={'file': 'recipe_final1_split_1.xlsx', 'sheet': 'Sheet1'}), Document(page_content='In a small pot combine the blueberries, sugar, and cinnamon stick. Put pot over medium heat and cook until sugar dissolves and berries burst. Remove pot from heat and add the orange flavored liqueur and the raspberries. Gently mix to combine, careful not to mush the raspberries.\\\\nScoop ice cream into individual bowls. Top ice cream with warm berry compote.', metadata={'file': 'recipe_final1_split_1.xlsx', 'sheet': 'Sheet1'})]\n"
     ]
    }
   ],
   "source": [
    "query = \"I have some blueberries at home. Can you provide me a recipe?\"\n",
    "result = qa.invoke({\"query\": query})\n",
    "print(result['result'][0])\n",
    "\n",
    "# Print the source documents\n",
    "print(result['source_documents'])"
   ]
  },
  {
   "cell_type": "code",
   "execution_count": null,
   "id": "1d90a4cf-9171-48ae-bc32-a10d278c618c",
   "metadata": {},
   "outputs": [],
   "source": []
  }
 ],
 "metadata": {
  "colab": {
   "provenance": []
  },
  "kernelspec": {
   "display_name": "Python 3 (ipykernel)",
   "language": "python",
   "name": "python3"
  },
  "language_info": {
   "codemirror_mode": {
    "name": "ipython",
    "version": 3
   },
   "file_extension": ".py",
   "mimetype": "text/x-python",
   "name": "python",
   "nbconvert_exporter": "python",
   "pygments_lexer": "ipython3",
   "version": "3.11.9"
  }
 },
 "nbformat": 4,
 "nbformat_minor": 5
}
