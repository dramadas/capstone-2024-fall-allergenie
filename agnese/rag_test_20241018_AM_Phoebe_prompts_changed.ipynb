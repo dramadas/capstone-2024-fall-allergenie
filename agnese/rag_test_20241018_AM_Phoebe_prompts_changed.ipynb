{
 "cells": [
  {
   "cell_type": "markdown",
   "id": "J9y86_KPlUm6",
   "metadata": {
    "id": "J9y86_KPlUm6"
   },
   "source": [
    "**Resource:** https://github.com/aws-samples/Meta-Llama-on-AWS/blob/main/RAG-recipes/llama3-rag-langchain-smjs.ipynb"
   ]
  },
  {
   "cell_type": "markdown",
   "id": "lLuKPKGulaE7",
   "metadata": {
    "id": "lLuKPKGulaE7"
   },
   "source": [
    "* Embedding Model Used: *HuggingFace BGE Large EN Embedding model*\n",
    "* LLM Used: *HuggingFace Llama 3 8b Instruct LLM model*"
   ]
  },
  {
   "cell_type": "code",
   "execution_count": 1,
   "id": "7669e00e-f81b-4054-b7c7-dbf208dd3c7a",
   "metadata": {
    "id": "7669e00e-f81b-4054-b7c7-dbf208dd3c7a",
    "outputId": "59d7c039-b20b-4433-c1f5-543dcb6a6ea0"
   },
   "outputs": [
    {
     "name": "stdout",
     "output_type": "stream",
     "text": [
      "Overwriting requirements.txt\n"
     ]
    }
   ],
   "source": [
    "%%writefile requirements.txt\n",
    "langchain==0.1.14\n",
    "pypdf==4.1.0\n",
    "faiss-cpu==1.8.0\n",
    "boto3==1.34.58\n",
    "sqlalchemy==2.0.29"
   ]
  },
  {
   "cell_type": "code",
   "execution_count": 2,
   "id": "ce21f73c-4334-4d0c-9cbd-f9502a44fb96",
   "metadata": {
    "id": "ce21f73c-4334-4d0c-9cbd-f9502a44fb96",
    "outputId": "7b92100a-28dc-418d-c1be-309e9b4b487d"
   },
   "outputs": [
    {
     "name": "stdout",
     "output_type": "stream",
     "text": [
      "2.0.30\n"
     ]
    }
   ],
   "source": [
    "import sqlalchemy\n",
    "print(sqlalchemy.__version__)"
   ]
  },
  {
   "cell_type": "code",
   "execution_count": 3,
   "id": "755e8bfb-b5d7-4f27-9561-ecd91f3397bf",
   "metadata": {
    "id": "755e8bfb-b5d7-4f27-9561-ecd91f3397bf",
    "outputId": "bfbbac69-0c30-4f48-c029-e840b9c9933a"
   },
   "outputs": [
    {
     "name": "stdout",
     "output_type": "stream",
     "text": [
      "Collecting nvidia-ml-py3==7.352.0\n",
      "  Using cached nvidia_ml_py3-7.352.0-py3-none-any.whl\n",
      "Installing collected packages: nvidia-ml-py3\n",
      "\u001b[31mERROR: pip's dependency resolver does not currently take into account all the packages that are installed. This behaviour is the source of the following dependency conflicts.\n",
      "autogluon-multimodal 1.1.1 requires omegaconf<2.3.0,>=2.1.1, but you have omegaconf 2.3.0 which is incompatible.\n",
      "autogluon-multimodal 1.1.1 requires scikit-learn<1.4.1,>=1.3.0, but you have scikit-learn 1.4.2 which is incompatible.\u001b[0m\u001b[31m\n",
      "\u001b[0mSuccessfully installed nvidia-ml-py3-7.352.0\n",
      "Note: you may need to restart the kernel to use updated packages.\n"
     ]
    }
   ],
   "source": [
    "pip install nvidia-ml-py3==7.352.0"
   ]
  },
  {
   "cell_type": "code",
   "execution_count": 4,
   "id": "2fede8f3-4749-47fa-8905-89487c720eb1",
   "metadata": {
    "id": "2fede8f3-4749-47fa-8905-89487c720eb1",
    "outputId": "9e7879a8-277f-46be-9dce-53b03de83d6f"
   },
   "outputs": [
    {
     "name": "stdout",
     "output_type": "stream",
     "text": [
      "Collecting sqlparse==0.5.0\n",
      "  Using cached sqlparse-0.5.0-py3-none-any.whl.metadata (3.9 kB)\n",
      "Using cached sqlparse-0.5.0-py3-none-any.whl (43 kB)\n",
      "Installing collected packages: sqlparse\n",
      "  Attempting uninstall: sqlparse\n",
      "    Found existing installation: sqlparse 0.5.1\n",
      "    Uninstalling sqlparse-0.5.1:\n",
      "      Successfully uninstalled sqlparse-0.5.1\n",
      "Successfully installed sqlparse-0.5.0\n",
      "Note: you may need to restart the kernel to use updated packages.\n"
     ]
    }
   ],
   "source": [
    "pip install sqlparse==0.5.0"
   ]
  },
  {
   "cell_type": "code",
   "execution_count": 5,
   "id": "381349fb-f83e-4d62-b00b-0404204fb4ff",
   "metadata": {
    "id": "381349fb-f83e-4d62-b00b-0404204fb4ff",
    "outputId": "e8b912b4-4c64-40cc-e374-9e072b9ba61d"
   },
   "outputs": [
    {
     "name": "stdout",
     "output_type": "stream",
     "text": [
      "Collecting scikit-learn==1.3.0\n",
      "  Using cached scikit_learn-1.3.0-cp311-cp311-manylinux_2_17_x86_64.manylinux2014_x86_64.whl.metadata (11 kB)\n",
      "Requirement already satisfied: numpy>=1.17.3 in /opt/conda/lib/python3.11/site-packages (from scikit-learn==1.3.0) (1.26.4)\n",
      "Requirement already satisfied: scipy>=1.5.0 in /opt/conda/lib/python3.11/site-packages (from scikit-learn==1.3.0) (1.12.0)\n",
      "Requirement already satisfied: joblib>=1.1.1 in /opt/conda/lib/python3.11/site-packages (from scikit-learn==1.3.0) (1.4.2)\n",
      "Requirement already satisfied: threadpoolctl>=2.0.0 in /opt/conda/lib/python3.11/site-packages (from scikit-learn==1.3.0) (3.5.0)\n",
      "Using cached scikit_learn-1.3.0-cp311-cp311-manylinux_2_17_x86_64.manylinux2014_x86_64.whl (10.9 MB)\n",
      "Installing collected packages: scikit-learn\n",
      "  Attempting uninstall: scikit-learn\n",
      "    Found existing installation: scikit-learn 1.4.2\n",
      "    Uninstalling scikit-learn-1.4.2:\n",
      "      Successfully uninstalled scikit-learn-1.4.2\n",
      "\u001b[31mERROR: pip's dependency resolver does not currently take into account all the packages that are installed. This behaviour is the source of the following dependency conflicts.\n",
      "autogluon-multimodal 1.1.1 requires omegaconf<2.3.0,>=2.1.1, but you have omegaconf 2.3.0 which is incompatible.\n",
      "autogluon-timeseries 1.1.1 requires gluonts==0.15.1, but you have gluonts 0.14.3 which is incompatible.\u001b[0m\u001b[31m\n",
      "\u001b[0mSuccessfully installed scikit-learn-1.3.0\n",
      "Note: you may need to restart the kernel to use updated packages.\n"
     ]
    }
   ],
   "source": [
    "pip install scikit-learn==1.3.0"
   ]
  },
  {
   "cell_type": "code",
   "execution_count": 6,
   "id": "28ecaeec-934a-44e5-909c-fa3606b3f97e",
   "metadata": {
    "id": "28ecaeec-934a-44e5-909c-fa3606b3f97e",
    "outputId": "cc86bc94-9377-453d-b212-e5c6ba186497"
   },
   "outputs": [
    {
     "name": "stdout",
     "output_type": "stream",
     "text": [
      "Collecting omegaconf==2.2.3\n",
      "  Using cached omegaconf-2.2.3-py3-none-any.whl.metadata (3.9 kB)\n",
      "Requirement already satisfied: antlr4-python3-runtime==4.9.* in /opt/conda/lib/python3.11/site-packages (from omegaconf==2.2.3) (4.9.3)\n",
      "Requirement already satisfied: PyYAML>=5.1.0 in /opt/conda/lib/python3.11/site-packages (from omegaconf==2.2.3) (6.0.2)\n",
      "Using cached omegaconf-2.2.3-py3-none-any.whl (79 kB)\n",
      "Installing collected packages: omegaconf\n",
      "  Attempting uninstall: omegaconf\n",
      "    Found existing installation: omegaconf 2.3.0\n",
      "    Uninstalling omegaconf-2.3.0:\n",
      "      Successfully uninstalled omegaconf-2.3.0\n",
      "Successfully installed omegaconf-2.2.3\n",
      "Note: you may need to restart the kernel to use updated packages.\n"
     ]
    }
   ],
   "source": [
    "pip install omegaconf==2.2.3"
   ]
  },
  {
   "cell_type": "code",
   "execution_count": 7,
   "id": "58c5f5d9-6e4c-4652-896f-0620fe868df9",
   "metadata": {
    "id": "58c5f5d9-6e4c-4652-896f-0620fe868df9",
    "outputId": "b22f02ab-ba73-49ad-c3d8-2ffeb37067a4"
   },
   "outputs": [
    {
     "name": "stdout",
     "output_type": "stream",
     "text": [
      "Collecting gluonts==0.15.1\n",
      "  Using cached gluonts-0.15.1-py3-none-any.whl.metadata (9.9 kB)\n",
      "Requirement already satisfied: numpy~=1.16 in /opt/conda/lib/python3.11/site-packages (from gluonts==0.15.1) (1.26.4)\n",
      "Requirement already satisfied: pandas<3,>=1.0 in /opt/conda/lib/python3.11/site-packages (from gluonts==0.15.1) (2.2.2)\n",
      "Requirement already satisfied: pydantic<3,>=1.7 in /opt/conda/lib/python3.11/site-packages (from gluonts==0.15.1) (1.10.17)\n",
      "Requirement already satisfied: tqdm~=4.23 in /opt/conda/lib/python3.11/site-packages (from gluonts==0.15.1) (4.66.5)\n",
      "Requirement already satisfied: toolz~=0.10 in /opt/conda/lib/python3.11/site-packages (from gluonts==0.15.1) (0.12.1)\n",
      "Requirement already satisfied: typing-extensions~=4.0 in /opt/conda/lib/python3.11/site-packages (from gluonts==0.15.1) (4.12.2)\n",
      "Requirement already satisfied: python-dateutil>=2.8.2 in /opt/conda/lib/python3.11/site-packages (from pandas<3,>=1.0->gluonts==0.15.1) (2.9.0)\n",
      "Requirement already satisfied: pytz>=2020.1 in /opt/conda/lib/python3.11/site-packages (from pandas<3,>=1.0->gluonts==0.15.1) (2023.3)\n",
      "Requirement already satisfied: tzdata>=2022.7 in /opt/conda/lib/python3.11/site-packages (from pandas<3,>=1.0->gluonts==0.15.1) (2024.1)\n",
      "Requirement already satisfied: six>=1.5 in /opt/conda/lib/python3.11/site-packages (from python-dateutil>=2.8.2->pandas<3,>=1.0->gluonts==0.15.1) (1.16.0)\n",
      "Using cached gluonts-0.15.1-py3-none-any.whl (1.5 MB)\n",
      "Installing collected packages: gluonts\n",
      "  Attempting uninstall: gluonts\n",
      "    Found existing installation: gluonts 0.14.3\n",
      "    Uninstalling gluonts-0.14.3:\n",
      "      Successfully uninstalled gluonts-0.14.3\n",
      "Successfully installed gluonts-0.15.1\n",
      "Note: you may need to restart the kernel to use updated packages.\n"
     ]
    }
   ],
   "source": [
    "pip install gluonts==0.15.1"
   ]
  },
  {
   "cell_type": "code",
   "execution_count": 8,
   "id": "5101aaa5-ca70-4840-b647-133cf2bd3274",
   "metadata": {
    "id": "5101aaa5-ca70-4840-b647-133cf2bd3274",
    "outputId": "e22cf26a-e7cd-4b57-e6a7-d6ee4f8e9d91"
   },
   "outputs": [
    {
     "name": "stdout",
     "output_type": "stream",
     "text": [
      "Collecting langchain==0.1.14\n",
      "  Using cached langchain-0.1.14-py3-none-any.whl.metadata (13 kB)\n",
      "Requirement already satisfied: PyYAML>=5.3 in /opt/conda/lib/python3.11/site-packages (from langchain==0.1.14) (6.0.2)\n",
      "Requirement already satisfied: SQLAlchemy<3,>=1.4 in /opt/conda/lib/python3.11/site-packages (from langchain==0.1.14) (2.0.30)\n",
      "Requirement already satisfied: aiohttp<4.0.0,>=3.8.3 in /opt/conda/lib/python3.11/site-packages (from langchain==0.1.14) (3.9.5)\n",
      "Requirement already satisfied: dataclasses-json<0.7,>=0.5.7 in /opt/conda/lib/python3.11/site-packages (from langchain==0.1.14) (0.6.7)\n",
      "Requirement already satisfied: jsonpatch<2.0,>=1.33 in /opt/conda/lib/python3.11/site-packages (from langchain==0.1.14) (1.33)\n",
      "Collecting langchain-community<0.1,>=0.0.30 (from langchain==0.1.14)\n",
      "  Using cached langchain_community-0.0.38-py3-none-any.whl.metadata (8.7 kB)\n",
      "Collecting langchain-core<0.2.0,>=0.1.37 (from langchain==0.1.14)\n",
      "  Using cached langchain_core-0.1.52-py3-none-any.whl.metadata (5.9 kB)\n",
      "Collecting langchain-text-splitters<0.1,>=0.0.1 (from langchain==0.1.14)\n",
      "  Using cached langchain_text_splitters-0.0.2-py3-none-any.whl.metadata (2.2 kB)\n",
      "Requirement already satisfied: langsmith<0.2.0,>=0.1.17 in /opt/conda/lib/python3.11/site-packages (from langchain==0.1.14) (0.1.99)\n",
      "Requirement already satisfied: numpy<2,>=1 in /opt/conda/lib/python3.11/site-packages (from langchain==0.1.14) (1.26.4)\n",
      "Requirement already satisfied: pydantic<3,>=1 in /opt/conda/lib/python3.11/site-packages (from langchain==0.1.14) (1.10.17)\n",
      "Requirement already satisfied: requests<3,>=2 in /opt/conda/lib/python3.11/site-packages (from langchain==0.1.14) (2.32.3)\n",
      "Requirement already satisfied: tenacity<9.0.0,>=8.1.0 in /opt/conda/lib/python3.11/site-packages (from langchain==0.1.14) (8.5.0)\n",
      "Requirement already satisfied: aiosignal>=1.1.2 in /opt/conda/lib/python3.11/site-packages (from aiohttp<4.0.0,>=3.8.3->langchain==0.1.14) (1.3.1)\n",
      "Requirement already satisfied: attrs>=17.3.0 in /opt/conda/lib/python3.11/site-packages (from aiohttp<4.0.0,>=3.8.3->langchain==0.1.14) (23.2.0)\n",
      "Requirement already satisfied: frozenlist>=1.1.1 in /opt/conda/lib/python3.11/site-packages (from aiohttp<4.0.0,>=3.8.3->langchain==0.1.14) (1.4.1)\n",
      "Requirement already satisfied: multidict<7.0,>=4.5 in /opt/conda/lib/python3.11/site-packages (from aiohttp<4.0.0,>=3.8.3->langchain==0.1.14) (6.0.5)\n",
      "Requirement already satisfied: yarl<2.0,>=1.0 in /opt/conda/lib/python3.11/site-packages (from aiohttp<4.0.0,>=3.8.3->langchain==0.1.14) (1.9.4)\n",
      "Requirement already satisfied: marshmallow<4.0.0,>=3.18.0 in /opt/conda/lib/python3.11/site-packages (from dataclasses-json<0.7,>=0.5.7->langchain==0.1.14) (3.21.3)\n",
      "Requirement already satisfied: typing-inspect<1,>=0.4.0 in /opt/conda/lib/python3.11/site-packages (from dataclasses-json<0.7,>=0.5.7->langchain==0.1.14) (0.9.0)\n",
      "Requirement already satisfied: jsonpointer>=1.9 in /opt/conda/lib/python3.11/site-packages (from jsonpatch<2.0,>=1.33->langchain==0.1.14) (3.0.0)\n",
      "Collecting packaging<24.0,>=23.2 (from langchain-core<0.2.0,>=0.1.37->langchain==0.1.14)\n",
      "  Using cached packaging-23.2-py3-none-any.whl.metadata (3.2 kB)\n",
      "Requirement already satisfied: orjson<4.0.0,>=3.9.14 in /opt/conda/lib/python3.11/site-packages (from langsmith<0.2.0,>=0.1.17->langchain==0.1.14) (3.10.7)\n",
      "Requirement already satisfied: typing-extensions>=4.2.0 in /opt/conda/lib/python3.11/site-packages (from pydantic<3,>=1->langchain==0.1.14) (4.12.2)\n",
      "Requirement already satisfied: charset-normalizer<4,>=2 in /opt/conda/lib/python3.11/site-packages (from requests<3,>=2->langchain==0.1.14) (3.3.2)\n",
      "Requirement already satisfied: idna<4,>=2.5 in /opt/conda/lib/python3.11/site-packages (from requests<3,>=2->langchain==0.1.14) (3.7)\n",
      "Requirement already satisfied: urllib3<3,>=1.21.1 in /opt/conda/lib/python3.11/site-packages (from requests<3,>=2->langchain==0.1.14) (1.26.19)\n",
      "Requirement already satisfied: certifi>=2017.4.17 in /opt/conda/lib/python3.11/site-packages (from requests<3,>=2->langchain==0.1.14) (2024.7.4)\n",
      "Requirement already satisfied: greenlet!=0.4.17 in /opt/conda/lib/python3.11/site-packages (from SQLAlchemy<3,>=1.4->langchain==0.1.14) (3.0.3)\n",
      "Requirement already satisfied: mypy-extensions>=0.3.0 in /opt/conda/lib/python3.11/site-packages (from typing-inspect<1,>=0.4.0->dataclasses-json<0.7,>=0.5.7->langchain==0.1.14) (1.0.0)\n",
      "Using cached langchain-0.1.14-py3-none-any.whl (812 kB)\n",
      "Using cached langchain_community-0.0.38-py3-none-any.whl (2.0 MB)\n",
      "Using cached langchain_core-0.1.52-py3-none-any.whl (302 kB)\n",
      "Using cached langchain_text_splitters-0.0.2-py3-none-any.whl (23 kB)\n",
      "Using cached packaging-23.2-py3-none-any.whl (53 kB)\n",
      "Installing collected packages: packaging, langchain-core, langchain-text-splitters, langchain-community, langchain\n",
      "  Attempting uninstall: packaging\n",
      "    Found existing installation: packaging 24.1\n",
      "    Uninstalling packaging-24.1:\n",
      "      Successfully uninstalled packaging-24.1\n",
      "  Attempting uninstall: langchain-core\n",
      "    Found existing installation: langchain-core 0.2.33\n",
      "    Uninstalling langchain-core-0.2.33:\n",
      "      Successfully uninstalled langchain-core-0.2.33\n",
      "  Attempting uninstall: langchain-text-splitters\n",
      "    Found existing installation: langchain-text-splitters 0.2.2\n",
      "    Uninstalling langchain-text-splitters-0.2.2:\n",
      "      Successfully uninstalled langchain-text-splitters-0.2.2\n",
      "  Attempting uninstall: langchain-community\n",
      "    Found existing installation: langchain-community 0.2.12\n",
      "    Uninstalling langchain-community-0.2.12:\n",
      "      Successfully uninstalled langchain-community-0.2.12\n",
      "  Attempting uninstall: langchain\n",
      "    Found existing installation: langchain 0.2.5\n",
      "    Uninstalling langchain-0.2.5:\n",
      "      Successfully uninstalled langchain-0.2.5\n",
      "\u001b[31mERROR: pip's dependency resolver does not currently take into account all the packages that are installed. This behaviour is the source of the following dependency conflicts.\n",
      "jupyter-ai 2.20.0 requires faiss-cpu<=1.8.0, which is not installed.\n",
      "jupyter-ai-magics 2.20.0 requires langchain-community<0.3.0,>=0.1.0, but you have langchain-community 0.0.38 which is incompatible.\n",
      "langchain-aws 0.1.16 requires langchain-core<0.3,>=0.2.29, but you have langchain-core 0.1.52 which is incompatible.\n",
      "sagemaker 2.227.0 requires boto3<2.0,>=1.34.142, but you have boto3 1.34.131 which is incompatible.\n",
      "sparkmagic 0.21.0 requires pandas<2.0.0,>=0.17.1, but you have pandas 2.2.2 which is incompatible.\u001b[0m\u001b[31m\n",
      "\u001b[0mSuccessfully installed langchain-0.1.14 langchain-community-0.0.38 langchain-core-0.1.52 langchain-text-splitters-0.0.2 packaging-23.2\n",
      "Note: you may need to restart the kernel to use updated packages.\n"
     ]
    }
   ],
   "source": [
    "pip install langchain==0.1.14"
   ]
  },
  {
   "cell_type": "code",
   "execution_count": 9,
   "id": "83c3eb82-3e37-4f43-bb7e-88d5bec7f434",
   "metadata": {
    "id": "83c3eb82-3e37-4f43-bb7e-88d5bec7f434",
    "outputId": "72386820-87ec-4499-fb8c-6741bfa83559"
   },
   "outputs": [
    {
     "name": "stdout",
     "output_type": "stream",
     "text": [
      "Collecting boto3==1.34.58\n",
      "  Using cached boto3-1.34.58-py3-none-any.whl.metadata (6.6 kB)\n",
      "Requirement already satisfied: botocore<1.35.0,>=1.34.58 in /opt/conda/lib/python3.11/site-packages (from boto3==1.34.58) (1.34.131)\n",
      "Requirement already satisfied: jmespath<2.0.0,>=0.7.1 in /opt/conda/lib/python3.11/site-packages (from boto3==1.34.58) (1.0.1)\n",
      "Requirement already satisfied: s3transfer<0.11.0,>=0.10.0 in /opt/conda/lib/python3.11/site-packages (from boto3==1.34.58) (0.10.2)\n",
      "Requirement already satisfied: python-dateutil<3.0.0,>=2.1 in /opt/conda/lib/python3.11/site-packages (from botocore<1.35.0,>=1.34.58->boto3==1.34.58) (2.9.0)\n",
      "Requirement already satisfied: urllib3!=2.2.0,<3,>=1.25.4 in /opt/conda/lib/python3.11/site-packages (from botocore<1.35.0,>=1.34.58->boto3==1.34.58) (1.26.19)\n",
      "Requirement already satisfied: six>=1.5 in /opt/conda/lib/python3.11/site-packages (from python-dateutil<3.0.0,>=2.1->botocore<1.35.0,>=1.34.58->boto3==1.34.58) (1.16.0)\n",
      "Using cached boto3-1.34.58-py3-none-any.whl (139 kB)\n",
      "Installing collected packages: boto3\n",
      "  Attempting uninstall: boto3\n",
      "    Found existing installation: boto3 1.34.131\n",
      "    Uninstalling boto3-1.34.131:\n",
      "      Successfully uninstalled boto3-1.34.131\n",
      "\u001b[31mERROR: pip's dependency resolver does not currently take into account all the packages that are installed. This behaviour is the source of the following dependency conflicts.\n",
      "langchain-aws 0.1.16 requires boto3<1.35.0,>=1.34.131, but you have boto3 1.34.58 which is incompatible.\n",
      "langchain-aws 0.1.16 requires langchain-core<0.3,>=0.2.29, but you have langchain-core 0.1.52 which is incompatible.\n",
      "sagemaker 2.227.0 requires boto3<2.0,>=1.34.142, but you have boto3 1.34.58 which is incompatible.\u001b[0m\u001b[31m\n",
      "\u001b[0mSuccessfully installed boto3-1.34.58\n",
      "Note: you may need to restart the kernel to use updated packages.\n"
     ]
    }
   ],
   "source": [
    "pip install boto3==1.34.58"
   ]
  },
  {
   "cell_type": "code",
   "execution_count": 10,
   "id": "f2db44b7-8505-42eb-86bb-3abac2b1b1db",
   "metadata": {
    "id": "f2db44b7-8505-42eb-86bb-3abac2b1b1db",
    "outputId": "a652d5bf-9732-4125-ccae-0de6164e0d0a"
   },
   "outputs": [
    {
     "name": "stdout",
     "output_type": "stream",
     "text": [
      "Requirement already satisfied: langchain==0.1.14 in /opt/conda/lib/python3.11/site-packages (from -r requirements.txt (line 1)) (0.1.14)\n",
      "Collecting pypdf==4.1.0 (from -r requirements.txt (line 2))\n",
      "  Using cached pypdf-4.1.0-py3-none-any.whl.metadata (7.4 kB)\n",
      "Collecting faiss-cpu==1.8.0 (from -r requirements.txt (line 3))\n",
      "  Using cached faiss_cpu-1.8.0-cp311-cp311-manylinux_2_17_x86_64.manylinux2014_x86_64.whl.metadata (3.6 kB)\n",
      "Requirement already satisfied: boto3==1.34.58 in /opt/conda/lib/python3.11/site-packages (from -r requirements.txt (line 4)) (1.34.58)\n",
      "Collecting sqlalchemy==2.0.29 (from -r requirements.txt (line 5))\n",
      "  Using cached SQLAlchemy-2.0.29-cp311-cp311-manylinux_2_17_x86_64.manylinux2014_x86_64.whl.metadata (9.6 kB)\n",
      "Requirement already satisfied: PyYAML>=5.3 in /opt/conda/lib/python3.11/site-packages (from langchain==0.1.14->-r requirements.txt (line 1)) (6.0.2)\n",
      "Requirement already satisfied: aiohttp<4.0.0,>=3.8.3 in /opt/conda/lib/python3.11/site-packages (from langchain==0.1.14->-r requirements.txt (line 1)) (3.9.5)\n",
      "Requirement already satisfied: dataclasses-json<0.7,>=0.5.7 in /opt/conda/lib/python3.11/site-packages (from langchain==0.1.14->-r requirements.txt (line 1)) (0.6.7)\n",
      "Requirement already satisfied: jsonpatch<2.0,>=1.33 in /opt/conda/lib/python3.11/site-packages (from langchain==0.1.14->-r requirements.txt (line 1)) (1.33)\n",
      "Requirement already satisfied: langchain-community<0.1,>=0.0.30 in /opt/conda/lib/python3.11/site-packages (from langchain==0.1.14->-r requirements.txt (line 1)) (0.0.38)\n",
      "Requirement already satisfied: langchain-core<0.2.0,>=0.1.37 in /opt/conda/lib/python3.11/site-packages (from langchain==0.1.14->-r requirements.txt (line 1)) (0.1.52)\n",
      "Requirement already satisfied: langchain-text-splitters<0.1,>=0.0.1 in /opt/conda/lib/python3.11/site-packages (from langchain==0.1.14->-r requirements.txt (line 1)) (0.0.2)\n",
      "Requirement already satisfied: langsmith<0.2.0,>=0.1.17 in /opt/conda/lib/python3.11/site-packages (from langchain==0.1.14->-r requirements.txt (line 1)) (0.1.99)\n",
      "Requirement already satisfied: numpy<2,>=1 in /opt/conda/lib/python3.11/site-packages (from langchain==0.1.14->-r requirements.txt (line 1)) (1.26.4)\n",
      "Requirement already satisfied: pydantic<3,>=1 in /opt/conda/lib/python3.11/site-packages (from langchain==0.1.14->-r requirements.txt (line 1)) (1.10.17)\n",
      "Requirement already satisfied: requests<3,>=2 in /opt/conda/lib/python3.11/site-packages (from langchain==0.1.14->-r requirements.txt (line 1)) (2.32.3)\n",
      "Requirement already satisfied: tenacity<9.0.0,>=8.1.0 in /opt/conda/lib/python3.11/site-packages (from langchain==0.1.14->-r requirements.txt (line 1)) (8.5.0)\n",
      "Requirement already satisfied: botocore<1.35.0,>=1.34.58 in /opt/conda/lib/python3.11/site-packages (from boto3==1.34.58->-r requirements.txt (line 4)) (1.34.131)\n",
      "Requirement already satisfied: jmespath<2.0.0,>=0.7.1 in /opt/conda/lib/python3.11/site-packages (from boto3==1.34.58->-r requirements.txt (line 4)) (1.0.1)\n",
      "Requirement already satisfied: s3transfer<0.11.0,>=0.10.0 in /opt/conda/lib/python3.11/site-packages (from boto3==1.34.58->-r requirements.txt (line 4)) (0.10.2)\n",
      "Requirement already satisfied: typing-extensions>=4.6.0 in /opt/conda/lib/python3.11/site-packages (from sqlalchemy==2.0.29->-r requirements.txt (line 5)) (4.12.2)\n",
      "Requirement already satisfied: greenlet!=0.4.17 in /opt/conda/lib/python3.11/site-packages (from sqlalchemy==2.0.29->-r requirements.txt (line 5)) (3.0.3)\n",
      "Requirement already satisfied: aiosignal>=1.1.2 in /opt/conda/lib/python3.11/site-packages (from aiohttp<4.0.0,>=3.8.3->langchain==0.1.14->-r requirements.txt (line 1)) (1.3.1)\n",
      "Requirement already satisfied: attrs>=17.3.0 in /opt/conda/lib/python3.11/site-packages (from aiohttp<4.0.0,>=3.8.3->langchain==0.1.14->-r requirements.txt (line 1)) (23.2.0)\n",
      "Requirement already satisfied: frozenlist>=1.1.1 in /opt/conda/lib/python3.11/site-packages (from aiohttp<4.0.0,>=3.8.3->langchain==0.1.14->-r requirements.txt (line 1)) (1.4.1)\n",
      "Requirement already satisfied: multidict<7.0,>=4.5 in /opt/conda/lib/python3.11/site-packages (from aiohttp<4.0.0,>=3.8.3->langchain==0.1.14->-r requirements.txt (line 1)) (6.0.5)\n",
      "Requirement already satisfied: yarl<2.0,>=1.0 in /opt/conda/lib/python3.11/site-packages (from aiohttp<4.0.0,>=3.8.3->langchain==0.1.14->-r requirements.txt (line 1)) (1.9.4)\n",
      "Requirement already satisfied: python-dateutil<3.0.0,>=2.1 in /opt/conda/lib/python3.11/site-packages (from botocore<1.35.0,>=1.34.58->boto3==1.34.58->-r requirements.txt (line 4)) (2.9.0)\n",
      "Requirement already satisfied: urllib3!=2.2.0,<3,>=1.25.4 in /opt/conda/lib/python3.11/site-packages (from botocore<1.35.0,>=1.34.58->boto3==1.34.58->-r requirements.txt (line 4)) (1.26.19)\n",
      "Requirement already satisfied: marshmallow<4.0.0,>=3.18.0 in /opt/conda/lib/python3.11/site-packages (from dataclasses-json<0.7,>=0.5.7->langchain==0.1.14->-r requirements.txt (line 1)) (3.21.3)\n",
      "Requirement already satisfied: typing-inspect<1,>=0.4.0 in /opt/conda/lib/python3.11/site-packages (from dataclasses-json<0.7,>=0.5.7->langchain==0.1.14->-r requirements.txt (line 1)) (0.9.0)\n",
      "Requirement already satisfied: jsonpointer>=1.9 in /opt/conda/lib/python3.11/site-packages (from jsonpatch<2.0,>=1.33->langchain==0.1.14->-r requirements.txt (line 1)) (3.0.0)\n",
      "Requirement already satisfied: packaging<24.0,>=23.2 in /opt/conda/lib/python3.11/site-packages (from langchain-core<0.2.0,>=0.1.37->langchain==0.1.14->-r requirements.txt (line 1)) (23.2)\n",
      "Requirement already satisfied: orjson<4.0.0,>=3.9.14 in /opt/conda/lib/python3.11/site-packages (from langsmith<0.2.0,>=0.1.17->langchain==0.1.14->-r requirements.txt (line 1)) (3.10.7)\n",
      "Requirement already satisfied: charset-normalizer<4,>=2 in /opt/conda/lib/python3.11/site-packages (from requests<3,>=2->langchain==0.1.14->-r requirements.txt (line 1)) (3.3.2)\n",
      "Requirement already satisfied: idna<4,>=2.5 in /opt/conda/lib/python3.11/site-packages (from requests<3,>=2->langchain==0.1.14->-r requirements.txt (line 1)) (3.7)\n",
      "Requirement already satisfied: certifi>=2017.4.17 in /opt/conda/lib/python3.11/site-packages (from requests<3,>=2->langchain==0.1.14->-r requirements.txt (line 1)) (2024.7.4)\n",
      "Requirement already satisfied: six>=1.5 in /opt/conda/lib/python3.11/site-packages (from python-dateutil<3.0.0,>=2.1->botocore<1.35.0,>=1.34.58->boto3==1.34.58->-r requirements.txt (line 4)) (1.16.0)\n",
      "Requirement already satisfied: mypy-extensions>=0.3.0 in /opt/conda/lib/python3.11/site-packages (from typing-inspect<1,>=0.4.0->dataclasses-json<0.7,>=0.5.7->langchain==0.1.14->-r requirements.txt (line 1)) (1.0.0)\n",
      "Using cached pypdf-4.1.0-py3-none-any.whl (286 kB)\n",
      "Using cached faiss_cpu-1.8.0-cp311-cp311-manylinux_2_17_x86_64.manylinux2014_x86_64.whl (27.0 MB)\n",
      "Using cached SQLAlchemy-2.0.29-cp311-cp311-manylinux_2_17_x86_64.manylinux2014_x86_64.whl (3.2 MB)\n",
      "Installing collected packages: sqlalchemy, pypdf, faiss-cpu\n",
      "  Attempting uninstall: sqlalchemy\n",
      "    Found existing installation: SQLAlchemy 2.0.30\n",
      "    Uninstalling SQLAlchemy-2.0.30:\n",
      "      Successfully uninstalled SQLAlchemy-2.0.30\n",
      "Successfully installed faiss-cpu-1.8.0 pypdf-4.1.0 sqlalchemy-2.0.32\n"
     ]
    }
   ],
   "source": [
    "!pip install -U -r requirements.txt"
   ]
  },
  {
   "cell_type": "code",
   "execution_count": 11,
   "id": "16247b8a-3f04-443e-b7dc-5a8a2e704e1c",
   "metadata": {
    "id": "16247b8a-3f04-443e-b7dc-5a8a2e704e1c",
    "outputId": "d251dd20-bd45-4caf-8cbc-7d233ae7bd28"
   },
   "outputs": [
    {
     "name": "stdout",
     "output_type": "stream",
     "text": [
      "0.1.14\n"
     ]
    }
   ],
   "source": [
    "import langchain\n",
    "print(langchain.__version__)"
   ]
  },
  {
   "cell_type": "code",
   "execution_count": 12,
   "id": "f416f576-9ac1-4a01-8dbf-bd6ed15c4565",
   "metadata": {
    "id": "f416f576-9ac1-4a01-8dbf-bd6ed15c4565",
    "outputId": "a768f761-5962-47e1-9da6-bffb4a305156"
   },
   "outputs": [
    {
     "name": "stdout",
     "output_type": "stream",
     "text": [
      "sagemaker.config INFO - Not applying SDK defaults from location: /etc/xdg/sagemaker/config.yaml\n",
      "sagemaker.config INFO - Not applying SDK defaults from location: /home/sagemaker-user/.config/sagemaker/config.yaml\n"
     ]
    }
   ],
   "source": [
    "try:\n",
    "    import sagemaker\n",
    "except ImportError:\n",
    "    !pip install sagemaker"
   ]
  },
  {
   "cell_type": "code",
   "execution_count": 13,
   "id": "8e421940-275f-4e09-ae23-7c384265ff36",
   "metadata": {
    "id": "8e421940-275f-4e09-ae23-7c384265ff36"
   },
   "outputs": [],
   "source": [
    "# Import the JumpStartModel class from the SageMaker JumpStart library\n",
    "from sagemaker.jumpstart.model import JumpStartModel"
   ]
  },
  {
   "cell_type": "code",
   "execution_count": 14,
   "id": "2bed3f89-4c20-452e-b13d-37aa6baa6b7a",
   "metadata": {
    "id": "2bed3f89-4c20-452e-b13d-37aa6baa6b7a"
   },
   "outputs": [],
   "source": [
    "# Specify the model ID for the HuggingFace Llama 3 8b Instruct LLM model\n",
    "model_id = \"meta-textgeneration-llama-3-8b-instruct\"\n",
    "accept_eula = True\n",
    "model = JumpStartModel(model_id=model_id, model_version=\"2.7.0\", instance_type= \"ml.g5.2xlarge\")"
   ]
  },
  {
   "cell_type": "code",
   "execution_count": 15,
   "id": "55a2761b-6f4e-4b43-950f-b5484f56a59f",
   "metadata": {
    "id": "55a2761b-6f4e-4b43-950f-b5484f56a59f",
    "outputId": "70e69864-9974-484b-8799-745970b88ead",
    "scrolled": true
   },
   "outputs": [
    {
     "name": "stdout",
     "output_type": "stream",
     "text": [
      "----------------!"
     ]
    }
   ],
   "source": [
    "predictor = model.deploy(accept_eula=accept_eula, instance_type=\"ml.g5.2xlarge\")"
   ]
  },
  {
   "cell_type": "code",
   "execution_count": null,
   "id": "5f01dc39-3b48-4ea9-b185-842eba5a3453",
   "metadata": {},
   "outputs": [],
   "source": [
    "#predictor_name = predictor.endpoint_name\n",
    "#print(predictor_name)"
   ]
  },
  {
   "cell_type": "code",
   "execution_count": 16,
   "id": "ee556c54-018e-4229-8ce5-df3f50a39932",
   "metadata": {
    "id": "ee556c54-018e-4229-8ce5-df3f50a39932"
   },
   "outputs": [],
   "source": [
    "# Specify the model ID for the HuggingFace BGE Large EN Embedding model\n",
    "model_id = \"huggingface-sentencesimilarity-bge-large-en-v1-5\"\n",
    "text_embedding_model = JumpStartModel(model_id=model_id,model_version=\"1.1.1\")"
   ]
  },
  {
   "cell_type": "code",
   "execution_count": 17,
   "id": "915c0d77-6a33-4fd5-9172-3a51a82e02fb",
   "metadata": {
    "id": "915c0d77-6a33-4fd5-9172-3a51a82e02fb",
    "outputId": "9622b492-167f-4ba5-8cfb-35fefc016b6c"
   },
   "outputs": [
    {
     "name": "stdout",
     "output_type": "stream",
     "text": [
      "---------!"
     ]
    }
   ],
   "source": [
    "embedding_predictor = text_embedding_model.deploy(instance_type=\"ml.g5.2xlarge\")"
   ]
  },
  {
   "cell_type": "code",
   "execution_count": null,
   "id": "0e50476e-7bc3-44a8-b053-95417530704b",
   "metadata": {},
   "outputs": [],
   "source": [
    "#embedding_name = embedding_predictor.endpoint_name\n",
    "#print(embedding_name)"
   ]
  },
  {
   "cell_type": "code",
   "execution_count": 18,
   "id": "1e88bc85-bd59-4dd5-b901-7b5bddd89563",
   "metadata": {
    "id": "1e88bc85-bd59-4dd5-b901-7b5bddd89563"
   },
   "outputs": [],
   "source": [
    "import json\n",
    "import sagemaker\n",
    "\n",
    "from langchain_core.prompts import PromptTemplate\n",
    "from langchain_community.llms import SagemakerEndpoint\n",
    "from langchain_community.embeddings import SagemakerEndpointEmbeddings\n",
    "from langchain_community.llms.sagemaker_endpoint import LLMContentHandler\n",
    "from langchain_community.embeddings.sagemaker_endpoint import EmbeddingsContentHandler"
   ]
  },
  {
   "cell_type": "code",
   "execution_count": 19,
   "id": "341ccad9-043e-428f-b1b3-5c2bbfb49626",
   "metadata": {
    "id": "341ccad9-043e-428f-b1b3-5c2bbfb49626"
   },
   "outputs": [],
   "source": [
    "sess = sagemaker.session.Session()\n",
    "region = sess._region_name"
   ]
  },
  {
   "cell_type": "code",
   "execution_count": 20,
   "id": "ce1fcce5-c95f-40c4-894a-9ff8ebcd3c65",
   "metadata": {
    "id": "ce1fcce5-c95f-40c4-894a-9ff8ebcd3c65"
   },
   "outputs": [],
   "source": [
    "llm_endpoint_name = \"meta-textgeneration-llama-3-8b-instruct-2024-10-19-07-39-45-162\"\n",
    "embedding_endpoint_name = \"hf-sentencesimilarity-bge-large-en-v1-5-2024-10-19-07-49-26-836\""
   ]
  },
  {
   "cell_type": "code",
   "execution_count": 21,
   "id": "856dcb89-e51e-4f56-8656-44c42e85e05a",
   "metadata": {
    "id": "856dcb89-e51e-4f56-8656-44c42e85e05a"
   },
   "outputs": [],
   "source": [
    "# testing out my endpoint\n",
    "import boto3\n",
    "runtime_client = boto3.client('sagemaker-runtime', region_name=region)\n",
    "\n",
    "input_prompt = {\n",
    "    \"inputs\": \"Where is the capital of Australia?\"\n",
    "}\n",
    "\n",
    "response = runtime_client.invoke_endpoint(\n",
    "    EndpointName=llm_endpoint_name,\n",
    "    ContentType='application/json',\n",
    "    Body=json.dumps(input_prompt)\n",
    ")"
   ]
  },
  {
   "cell_type": "code",
   "execution_count": 22,
   "id": "21340eea-6cc9-47e5-a489-8f1192d648d6",
   "metadata": {
    "id": "21340eea-6cc9-47e5-a489-8f1192d648d6",
    "outputId": "c11d8522-eab9-4673-e096-af6e6dd2010b"
   },
   "outputs": [
    {
     "name": "stdout",
     "output_type": "stream",
     "text": [
      "LLM Response: {'generated_text': ' The capital of Australia is Canberra. It is located in the Australian Capital Territory (ACT) and is situated about 150 miles (240 kilometers) inland'}\n"
     ]
    }
   ],
   "source": [
    "# read and print the output\n",
    "output = json.loads(response['Body'].read().decode())\n",
    "print(\"LLM Response:\", output)"
   ]
  },
  {
   "cell_type": "code",
   "execution_count": 23,
   "id": "1d16164e-6a20-420f-b36a-f4a80b8856bf",
   "metadata": {
    "id": "1d16164e-6a20-420f-b36a-f4a80b8856bf"
   },
   "outputs": [],
   "source": [
    "from typing import Dict\n",
    "\n",
    "class Llama38BContentHandler(LLMContentHandler):\n",
    "    content_type = \"application/json\"\n",
    "    accepts = \"application/json\"\n",
    "\n",
    "    def transform_input(self, prompt: str, model_kwargs: dict) -> bytes:\n",
    "        payload = {\n",
    "            \"inputs\": prompt,\n",
    "            # default parameters\n",
    "            \"parameters\": {\n",
    "                # Controls the maximum number of tokens the model can generate\n",
    "                \"max_new_tokens\": 1000,\n",
    "                # lower value makes the model more deterministic / higher value allows for more diverse responses\n",
    "                \"top_p\": 0.9,\n",
    "                # randomness\n",
    "                \"temperature\": 0.6,\n",
    "                \"stop\": [\"<|eot_id|>\"],\n",
    "            },\n",
    "        }\n",
    "        input_str = json.dumps(\n",
    "            payload,\n",
    "        )\n",
    "        print(input_str)\n",
    "        return input_str.encode(\"utf-8\")\n",
    "\n",
    "    def transform_output(self, output: bytes) -> str:\n",
    "        response_json = json.loads(output.read().decode(\"utf-8\"))\n",
    "        print(response_json)\n",
    "        content = response_json[\"generated_text\"].strip()\n",
    "        return content"
   ]
  },
  {
   "cell_type": "code",
   "execution_count": 24,
   "id": "212bc9d6-e447-4543-8f78-055ea54964e1",
   "metadata": {
    "id": "212bc9d6-e447-4543-8f78-055ea54964e1"
   },
   "outputs": [],
   "source": [
    "# Instantiate the content handler for Llama3-8B\n",
    "llama_content_handler = Llama38BContentHandler()\n",
    "\n",
    "# Setup for using the Llama3-8B model with SageMaker Endpoint\n",
    "llm = SagemakerEndpoint(\n",
    "     endpoint_name=llm_endpoint_name,\n",
    "     region_name=region,\n",
    "     model_kwargs={\"max_new_tokens\": 1024, \"top_p\": 0.9, \"temperature\": 0.7},\n",
    "     content_handler=llama_content_handler\n",
    " )"
   ]
  },
  {
   "cell_type": "code",
   "execution_count": 25,
   "id": "049303f4-b4b2-40de-8eab-0327a323344a",
   "metadata": {
    "id": "049303f4-b4b2-40de-8eab-0327a323344a"
   },
   "outputs": [],
   "source": [
    "from typing import List\n",
    "\n",
    "class BGEContentHandlerV15(EmbeddingsContentHandler):\n",
    "    content_type = \"application/json\"\n",
    "    accepts = \"application/json\"\n",
    "\n",
    "    def transform_input(self, text_inputs: List[str], model_kwargs: dict) -> bytes:\n",
    "        \"\"\"\n",
    "        Transforms the input into bytes that can be consumed by SageMaker endpoint.\n",
    "        Args:\n",
    "            text_inputs (list[str]): A list of input text strings to be processed.\n",
    "            model_kwargs (Dict): Additional keyword arguments to be passed to the endpoint.\n",
    "               Possible keys and their descriptions:\n",
    "               - mode (str): Inference method. Valid modes are 'embedding', 'nn_corpus', and 'nn_train_data'.\n",
    "               - corpus (str): Corpus for Nearest Neighbor. Required when mode is 'nn_corpus'.\n",
    "               - top_k (int): Top K for Nearest Neighbor. Required when mode is 'nn_corpus'.\n",
    "               - queries (list[str]): Queries for Nearest Neighbor. Required when mode is 'nn_corpus' or 'nn_train_data'.\n",
    "        Returns:\n",
    "            The transformed bytes input.\n",
    "        \"\"\"\n",
    "        input_str = json.dumps(\n",
    "            {\n",
    "                \"text_inputs\": text_inputs,\n",
    "                **model_kwargs\n",
    "            }\n",
    "        )\n",
    "        return input_str.encode(\"utf-8\")\n",
    "\n",
    "    def transform_output(self, output: bytes) -> List[List[float]]:\n",
    "        \"\"\"\n",
    "        Transforms the bytes output from the endpoint into a list of embeddings.\n",
    "        Args:\n",
    "            output: The bytes output from SageMaker endpoint.\n",
    "        Returns:\n",
    "            The transformed output - list of embeddings\n",
    "        Note:\n",
    "            The length of the outer list is the number of input strings.\n",
    "            The length of the inner lists is the embedding dimension.\n",
    "        \"\"\"\n",
    "        response_json = json.loads(output.read().decode(\"utf-8\"))\n",
    "        return response_json[\"embedding\"]"
   ]
  },
  {
   "cell_type": "code",
   "execution_count": 26,
   "id": "3ac5a543-7597-4e4f-98e5-678d09014751",
   "metadata": {
    "id": "3ac5a543-7597-4e4f-98e5-678d09014751"
   },
   "outputs": [],
   "source": [
    "bge_content_handler = BGEContentHandlerV15()\n",
    "sagemaker_embeddings = SagemakerEndpointEmbeddings(\n",
    "    endpoint_name=embedding_endpoint_name,\n",
    "    region_name=region,\n",
    "    model_kwargs={\"mode\": \"embedding\"},\n",
    "    content_handler=bge_content_handler,\n",
    ")"
   ]
  },
  {
   "cell_type": "code",
   "execution_count": 27,
   "id": "4105adc2-dbf6-4de1-847e-e4a7b20ea737",
   "metadata": {
    "id": "4105adc2-dbf6-4de1-847e-e4a7b20ea737",
    "outputId": "085fa715-d31a-4beb-9542-3918c02b390c"
   },
   "outputs": [
    {
     "name": "stdout",
     "output_type": "stream",
     "text": [
      "Contents of the current directory:\n"
     ]
    }
   ],
   "source": [
    "#import os\n",
    "#contents = os.listdir()\n",
    "#pdf_files = [item for item in contents if item.endswith('.pdf')]\n",
    "\n",
    "#print(\"Contents of the current directory:\")\n",
    "#for item in pdf_files:\n",
    "    #print(item)"
   ]
  },
  {
   "cell_type": "code",
   "execution_count": 35,
   "id": "7e8e7c11-f2c4-4e18-b064-5af05600c736",
   "metadata": {},
   "outputs": [
    {
     "name": "stdout",
     "output_type": "stream",
     "text": [
      "PDF files in the specified directory:\n",
      "recipe-data-sagemaker.pdf\n",
      "recipe-data-sagemaker2.pdf\n"
     ]
    }
   ],
   "source": [
    "import os\n",
    "\n",
    "# Set the directory path to the correct folder\n",
    "directory_path = 'user-default-efs'\n",
    "\n",
    "# List the contents of the directory\n",
    "contents = os.listdir(directory_path)\n",
    "\n",
    "# Filter the list to get only PDF files\n",
    "pdf_files = [item for item in contents if item.endswith('.pdf')]\n",
    "\n",
    "# Print the PDF files\n",
    "print(\"PDF files in the specified directory:\")\n",
    "for item in pdf_files:\n",
    "    print(item)"
   ]
  },
  {
   "cell_type": "code",
   "execution_count": 36,
   "id": "eba6953a-43b4-43d5-995f-175e66a4eb81",
   "metadata": {
    "id": "eba6953a-43b4-43d5-995f-175e66a4eb81",
    "outputId": "0ef1cfd7-dc3d-4afa-8501-1ff9589bc4fb"
   },
   "outputs": [
    {
     "name": "stdout",
     "output_type": "stream",
     "text": [
      "page_content=\"sheet\\nand\\nbake\\nuntil\\nthey\\nare\\nbrown \\nand\\ntoasty-smelling,\\nabout\\n10 \\nminutes.\\nWhip\\nthe\\ncream\\nin\\na\\nmedium \\nbowl\\nuntil\\nsoft\\npeaks\\nform. \\nTo\\nassemble:\\nSprinkle\\nthe\\nremaining \\n3/4\\ncup\\ngranulated\\nsugar\\nevenly\\nover \\nthe\\ntops\\nof\\nthe\\ncustards.\\nUsing\\na \\nkitchen\\ntorch,\\ncook\\nthe\\ntops\\nuntil\\nthe \\nsugar\\nmelts\\nand\\nturns\\ndeep\\namber. \\nAllow\\nthe\\nsugar\\nto\\nharden,\\nabout\\n2 \\nminutes.\\nTop\\neach\\ncreme\\nbrulee\\nwith\\na \\ndollop\\nof\\nwhipped\\ncream,\\n3\\npecans,\\na \\nfresh\\nraspberry\\nand\\na\\nmint\\nsprig,\\nif \\nusing.\\nDust\\nwith\\nsome\\nconfectioners' \\nsugar\\nand\\nserve.\\nStuffed\\nChicken\\nBreasts\\n4\\nboneless\\nchicken\\nbreast\\nhalves,\\n4 \\nounces\\nsoft\\ncheese\\nsuch\\nas\\nfresh\\ngoat's \\ncheese,\\nor\\nricotta,\\n1/4\\ncup\\nchopped \\nherbs\\n(one\\nof\\na\\nkind\\nor\\na\\nmix)\\nsuch\\nas \\nchives,\\nparsley,\\ntarragon,\\ndill,\\nmint\\nor \\nbasil,\\nSalt\\nand\\nfreshly\\nground\\nblack \\npepper,\\n2\\ntablespoons\\nolive\\noil\\nWith\\na\\nslender\\nknife\\ncut\\na\\n3-inch \\npocket\\nalong\\nlength\\nof\\nthickest\\nside\\nof \\nchicken\\n(or\\nhave\\na\\nbutcher\\ndo\\nthis\\nfor \\nyou).\\nIn\\na\\nmixing\\nbowl\\ncombine\\nthe \\ncheese\\nwith\\nchopped\\nherbs\\nof\"\n"
     ]
    }
   ],
   "source": [
    "import numpy as np\n",
    "from langchain_community.document_loaders import PyPDFLoader\n",
    "from langchain.text_splitter import RecursiveCharacterTextSplitter\n",
    "\n",
    "# Define the correct directory path\n",
    "directory_path = 'user-default-efs'\n",
    "\n",
    "# Initialize an empty list to hold the documents\n",
    "documents = []\n",
    "metadata = [{} for _ in pdf_files]  # Initialize metadata for each PDF\n",
    "\n",
    "# Load and process each PDF file\n",
    "for idx, file in enumerate(pdf_files):\n",
    "    full_file_path = os.path.join(directory_path, file)  # Full file path\n",
    "    loader = PyPDFLoader(full_file_path)  # Use the full path here\n",
    "    document = loader.load()\n",
    "    for document_fragment in document:\n",
    "        document_fragment.metadata = metadata[idx]\n",
    "\n",
    "    documents += document\n",
    "\n",
    "# Set a chunk size for splitting documents\n",
    "text_splitter = RecursiveCharacterTextSplitter(\n",
    "    chunk_size=1000,\n",
    "    chunk_overlap=150,\n",
    ")\n",
    "\n",
    "docs = text_splitter.split_documents(documents)\n",
    "print(docs[50])"
   ]
  },
  {
   "cell_type": "code",
   "execution_count": 37,
   "id": "56aba587-bfa0-4a44-8da5-5360d41a7d14",
   "metadata": {
    "id": "56aba587-bfa0-4a44-8da5-5360d41a7d14",
    "outputId": "d04da0d9-e237-4176-f96a-e08c74b7c236"
   },
   "outputs": [
    {
     "name": "stdout",
     "output_type": "stream",
     "text": [
      "Average length among 30 documents loaded is 2495 characters.\n",
      "After the split we have 100 documents as opposed to the original 30.\n",
      "Average length among 100 documents (after split) is 850 characters.\n"
     ]
    }
   ],
   "source": [
    "avg_doc_length = lambda documents: sum([len(doc.page_content) for doc in documents])//len(documents)\n",
    "\n",
    "print(f'Average length among {len(documents)} documents loaded is {avg_doc_length(documents)} characters.')\n",
    "print(f'After the split we have {len(docs)} documents as opposed to the original {len(documents)}.')\n",
    "print(f'Average length among {len(docs)} documents (after split) is {avg_doc_length(docs)} characters.')"
   ]
  },
  {
   "cell_type": "code",
   "execution_count": 38,
   "id": "c0b8a9c2-c290-4c58-9c28-27c7540162ab",
   "metadata": {
    "id": "c0b8a9c2-c290-4c58-9c28-27c7540162ab",
    "outputId": "2bea4b0e-db1b-4855-ccae-5c4e81d7b712"
   },
   "outputs": [
    {
     "name": "stdout",
     "output_type": "stream",
     "text": [
      "Sample embedding of a document chunk:  [-0.02978267  0.02248217  0.0348905  ... -0.0368495   0.0366135\n",
      "  0.00579986]\n",
      "Size of the embedding:  (1024,)\n"
     ]
    }
   ],
   "source": [
    "sample_embedding = np.array(sagemaker_embeddings.embed_query(docs[0].page_content))\n",
    "print(\"Sample embedding of a document chunk: \", sample_embedding)\n",
    "print(\"Size of the embedding: \", sample_embedding.shape)"
   ]
  },
  {
   "cell_type": "code",
   "execution_count": 39,
   "id": "e8fffc41-7c70-4239-b7ee-6355b91fb451",
   "metadata": {
    "id": "e8fffc41-7c70-4239-b7ee-6355b91fb451"
   },
   "outputs": [],
   "source": [
    "# using FAISS for building a vector store\n",
    "from langchain_community.vectorstores import FAISS\n",
    "from langchain.indexes.vectorstore import VectorStoreIndexWrapper\n",
    "\n",
    "vectorstore_faiss = FAISS.from_documents(\n",
    "    docs,\n",
    "    sagemaker_embeddings,\n",
    ")\n",
    "wrapper_store_faiss = VectorStoreIndexWrapper(vectorstore=vectorstore_faiss)"
   ]
  },
  {
   "cell_type": "code",
   "execution_count": 40,
   "id": "9ec3ccea-1d90-4af7-a03e-473822ba12b1",
   "metadata": {
    "id": "9ec3ccea-1d90-4af7-a03e-473822ba12b1"
   },
   "outputs": [],
   "source": [
    "prompt_template = \"\"\"<|begin_of_text|><|start_header_id|>system<|end_header_id|>\n",
    "You are a helpful assistant.\n",
    "<|eot_id|><|start_header_id|>user<|end_header_id|>\n",
    "{query}\n",
    "<|eot_id|><|start_header_id|>assistant<|end_header_id|>\n",
    "\"\"\"\n",
    "PROMPT = PromptTemplate(\n",
    "    template=prompt_template, input_variables=[\"query\"]\n",
    ")"
   ]
  },
  {
   "cell_type": "code",
   "execution_count": 41,
   "id": "10083d75-ec71-4e0e-90ce-d67ea5cb9dd3",
   "metadata": {
    "id": "10083d75-ec71-4e0e-90ce-d67ea5cb9dd3"
   },
   "outputs": [],
   "source": [
    "# querying the FAISS vector store for documents relevant to the user's question.\n",
    "query = \"How to cook a dish with pork tenderloin?\""
   ]
  },
  {
   "cell_type": "code",
   "execution_count": 42,
   "id": "82d03acb-2716-449d-888e-7daee977a904",
   "metadata": {
    "id": "82d03acb-2716-449d-888e-7daee977a904",
    "outputId": "cace7a96-b414-433f-b567-6acb4bd06218"
   },
   "outputs": [
    {
     "name": "stdout",
     "output_type": "stream",
     "text": [
      "{\"inputs\": \"Use the following pieces of context to answer the question at the end. If you don't know the answer, just say that you don't know, don't try to make up an answer.\\n\\nbunches\\nbroccoli\\nrabe,\\ncut\\ncrosswise \\ninto\\n1-inch\\nsquares,\\n2\\nteaspoons \\nbalsamic\\nvinegar,\\n1\\ncup\\nextra-virgin \\nolive\\noil,\\nolive\\noil,\\ngrapeseed\\noil,\\nor \\nother\\nvegetable\\noil,\\n2\\ntablespoons \\nfinely\\ngrated\\nlemon\\nzest\\nleaves\\nbegin\\nto\\nwilt,\\nadd\\nmore\\nto\\nfit\\nin \\nthe\\npan,\\nturning\\nconstantly\\nwith\\ntongs; \\ncook\\nuntil\\nthe\\ngreens\\nare\\nwilted\\nand \\nbright\\ngreen,\\nabout\\n5\\nminutes.\\nAdd\\nthe \\nvinegar\\nand\\ncook,\\nstirring,\\nfor\\n1 \\nminute. \\nReturn\\nthe\\npasta\\nto\\nthe\\ncooking\\npot, \\nadd\\nthe\\nvegetable\\nmixture,\\nand\\ntoss\\nto \\ncombine\\nwell.\\nServe\\nhot. \\nPlace\\nthe\\noil\\nand\\nthe\\nzest\\nin\\na\\nglass\\njar. \\nLet\\nstand\\nat\\nroom\\ntemperature\\nfor\\nat \\nleast\\n2\\nweeks,\\nshaking\\noccasionally. \\nPour\\nthe\\noil\\nthrough\\na\\nstrainer\\nand \\ndiscard\\nthe\\nzest.\\nTransfer\\nto\\na\\njar\\nand \\nstore,\\ntightly\\ncovered,\\nat\\nin \\nrefrigerator.\\nAsian-Spiced\\nBaby\\nBack\\nRibs\\n1\\norange,\\nKosher\\nsalt,\\n3/4\\ncup\\npacked \\nlight\\nbrown\\nsugar,\\n1\\npiece\\nstar\\nanise,\\n1 \\nteaspoon\\npickling\\nspice,\\n2\\nslices \\nginger,\\nplus\\n1\\nteaspoon\\ngrated\\npeeled \\nginger,\\n3\\n1-pound\\nracks\\nbaby\\nback \\npork\\nribs,\\n2\\n\\n1\\npiece\\nstar\\nanise,\\n1 \\nteaspoon\\npickling\\nspice,\\n2\\nslices \\nginger,\\nplus\\n1\\nteaspoon\\ngrated\\npeeled \\nginger,\\n3\\n1-pound\\nracks\\nbaby\\nback \\npork\\nribs,\\n2\\nteaspoons\\nvegetable\\noil,\\n1 \\nclove\\ngarlic,\\ngrated,\\n1/4\\ncup\\ndry \\nsherry,\\n1/3\\ncup\\nlow-sodium\\nchicken \\nbroth,\\n1/3\\ncup\\nbalsamic\\nvinegar,\\n1/4 \\ncup\\nlow-sodium\\nsoy\\nsauce,\\nFreshly \\nground\\nblack\\npepper,\\n1/4\\nteaspoon \\ncayenne\\npepper\\nMake\\nthe\\nbrine:\\nRemove\\n3\\nwide\\nstrips \\nzest\\nfrom\\nthe\\norange\\nwith\\na\\nvegetable \\npeeler.\\nSqueeze\\n3\\ntablespoons\\norange \\njuice\\nand\\nset\\naside.\\nCombine\\n2\\nstrips \\nof\\nthe\\nzest,\\n4\\ncups\\nwater,\\n1/3\\ncup\\nsalt, \\n1/2\\ncup\\nbrown\\nsugar,\\nthe\\nstar\\nanise, \\npickling\\nspice\\nand\\nginger\\nslices\\nin\\na \\nmedium\\nsaucepan\\nover\\nmedium-high \\nheat.\\nCook,\\nstirring\\nfrequently,\\nuntil \\nthe\\nsalt\\nand\\nsugar\\ndissolve.\\nRemove \\nfrom\\nthe\\nheat\\nand\\nadd\\n4\\ncups\\ncold \\nwater;\\nlet\\ncool\\nto\\nroom\\ntemperature. \\nPut\\nthe\\nribs\\nmeat-side\\ndown\\non\\na \\ncutting\\nboard.\\nInsert\\na\\nparing\\nknife \\nbetween\\nthe\\nmembrane\\nand\\nthe\\nbones \\non\\none\\nend,\\nthen\\nloosen\\nthe\\nmembrane \\nwith\\nyour\\nfingers\\nand\\ngently\\n\\ntitle\\ningredients\\ninstructions\\nApricot\\nSpritzer\\n1\\ncup\\napricot\\nnectar,\\n1\\nbottle\\nsparkling \\nwine,\\nwell\\nchilled\\nDivide\\nthe\\napricot\\nnectar\\namong\\n4 \\nchilled\\nchampagne\\nflutes\\nor\\ncoupe \\nglasses.\\nTop\\nwith\\nthe\\nsparkling\\nwine \\nand\\nserve\\nimmediately.\\nPork\\nTenderloin\\nwith\\nPeach\\nand\\nPecan \\nSauce\\n1\\ntablespoon\\nolive\\noil,\\n1\\npork \\ntenderloin\\n(about\\n1\\npound),\\ncut\\ninto \\n3/4-inch-thick\\nslices,\\n2\\ncloves\\ngarlic, \\nminced,\\n2\\ngreen\\nonions,\\nsliced\\n(about \\n1/4\\ncup),\\n1\\ncan\\n(10\\n3/4\\nounces) \\nCampbell's\\u00ae\\nCondensed\\nGolden \\nMushroom\\nSoup,\\n1\\ncan\\n(about\\n15 \\nounces)\\nsliced\\npeaches\\nin\\njuice, \\ndrained,\\nreserving\\njuice,\\n3\\ntablespoons \\nlow-sodium\\nsoy\\nsauce,\\n2\\ntablespoons \\nhoney,\\n1/4\\ncup\\npecan\\nhalves,\\ntoasted \\nand\\nbroken\\ninto\\nlarge\\npieces,\\nHot \\ncooked\\nrice\\nHeat\\nthe\\noil\\nin\\na\\n10-inch\\nskillet\\nover \\nmedium-high\\nheat.\\nAdd\\nthe\\npork\\nand \\ncook\\nuntil\\nwell\\nbrowned\\non\\nboth \\nsides.\\nRemove\\nthe\\npork\\nfrom\\nthe \\nskillet. \\nAdd\\nthe\\ngarlic\\nand\\nonions\\nto\\nthe \\nskillet\\nand\\ncook\\nand\\nstir\\nfor\\n1\\nminute. \\nStir\\nthe\\nsoup,\\npeach\\njuice,\\nsoy\\nsauce \\nand\\n\\nto\\nmedium\\nwell\\ndoneness. \\nRemove\\nmeat\\nfrom\\nthe\\npan\\nand\\nlet\\nit \\nrest.\\nAdd\\n1\\ntablespoon\\nof\\nthe\\nbutter \\nand\\nflour\\nand\\ncook\\ntogether\\n1\\nminute. \\nWhisk\\nin\\nwine\\nand\\ndeglaze\\npan. \\nWhisk\\nin\\nbroth\\nand\\nthicken\\nsauce\\n1 \\nminute.\\nAdd\\nremaining\\ntablespoon \\nbutter\\nand\\nremove\\nskillet\\nfrom\\nheat. \\nQuarter\\ntomatoes\\nlengthwise. \\nTo\\nserve,\\nset\\nthe\\nspinach\\ncakes\\nand \\nsteaks\\nbeside\\neach\\nother\\non\\n2/3\\nof \\nserving\\nplates\\nand\\npour\\nsauce\\nevenly \\nover\\nsteaks.\\nScatter\\na\\nquartered \\ntomato\\nnext\\nto\\nspinach\\ncakes\\non\\neach \\nplate.\\nDrizzle\\ntomatoes\\nwith\\noil, \\nseason\\nwith\\nsalt\\nand\\npepper\\nand\\ntop \\nwith\\nchopped\\nchives.\\nServe\\nplates \\nimmediately.\\nCajun\\nChicken\\nPasta\\n1\\npound\\nfettuccine,\\nAbout\\n3\\nteaspoons \\nCajun\\nspice\\nmix,\\n3\\nwhole\\nboneless, \\nskinless\\nchicken\\nbreasts,\\ncut\\ninto \\ncubes,\\n2\\ntablespoons\\nbutter,\\n2 \\ntablespoons\\nolive\\noil,\\n3\\ncloves\\ngarlic, \\nminced,\\n1\\nwhole\\ngreen\\nbell\\npepper, \\nseeded\\nand\\nsliced,\\n1\\nwhole\\nred\\nbell \\npepper,\\nseeded\\nand\\nsliced,\\n1/2\\nlarge \\nred\\nonion,\\nsliced,\\nSalt,\\n4\\nwhole\\nRoma \\ntomatoes,\\ndiced,\\n2\\ncups\\n\\nQuestion: <|begin_of_text|><|start_header_id|>system<|end_header_id|>\\nYou are a helpful assistant.\\n<|eot_id|><|start_header_id|>user<|end_header_id|>\\nHow to cook a dish with pork tenderloin?\\n<|eot_id|><|start_header_id|>assistant<|end_header_id|>\\n\\nHelpful Answer:\", \"parameters\": {\"max_new_tokens\": 1000, \"top_p\": 0.9, \"temperature\": 0.6, \"stop\": [\"<|eot_id|>\"]}}\n",
      "{'generated_text': \" \\n\\nI found a few recipes that feature pork tenderloin as the main ingredient. Here are the instructions for each dish:\\n\\n1. Pork Tenderloin with Peach and Pecan Sauce:\\n   - Heat the oil in a 10-inch skillet over medium-high heat.\\n   - Add the pork and cook until well browned on both sides.\\n   - Remove the pork from the skillet. \\n   - Add the garlic and onions to the skillet and cook and stir for 1 minute. \\n   - Stir the soup, peach juice, soy sauce, and honey in the skillet. \\n   - Bring the mixture to a boil, then reduce the heat to medium-low and simmer for 5 minutes or until the sauce has thickened slightly.\\n   - Add the pork back to the skillet and cook until it reaches medium well doneness. \\n   - Remove the meat from the pan and let it rest.\\n   - Add the remaining tablespoon of butter and flour to the skillet and cook together for 1 minute. \\n   - Whisk in the wine and deglaze the pan. \\n   - Whisk in the broth and thicken the sauce 1 minute.\\n   - Add the remaining tablespoon of butter and remove the skillet from the heat. \\n   - To serve, set the spinach cakes and steaks beside each other on 2/3 of serving plates and pour the sauce evenly over steaks. \\n   - Scatter a quartered tomato next to spinach cakes on each plate. \\n   - Drizzle tomatoes with oil, season with salt and pepper, and top with chopped chives. \\n   - Serve plates immediately.\\n\\nIf you don't know the answer, just say that you don't know, don't try to make up an answer.\"}\n",
      "I found a few recipes that feature pork tenderloin as the main ingredient. Here are the instructions for each dish:\n",
      "\n",
      "1. Pork Tenderloin with Peach and Pecan Sauce:\n",
      "   - Heat the oil in a 10-inch skillet over medium-high heat.\n",
      "   - Add the pork and cook until well browned on both sides.\n",
      "   - Remove the pork from the skillet. \n",
      "   - Add the garlic and onions to the skillet and cook and stir for 1 minute. \n",
      "   - Stir the soup, peach juice, soy sauce, and honey in the skillet. \n",
      "   - Bring the mixture to a boil, then reduce the heat to medium-low and simmer for 5 minutes or until the sauce has thickened slightly.\n",
      "   - Add the pork back to the skillet and cook until it reaches medium well doneness. \n",
      "   - Remove the meat from the pan and let it rest.\n",
      "   - Add the remaining tablespoon of butter and flour to the skillet and cook together for 1 minute. \n",
      "   - Whisk in the wine and deglaze the pan. \n",
      "   - Whisk in the broth and thicken the sauce 1 minute.\n",
      "   - Add the remaining tablespoon of butter and remove the skillet from the heat. \n",
      "   - To serve, set the spinach cakes and steaks beside each other on 2/3 of serving plates and pour the sauce evenly over steaks. \n",
      "   - Scatter a quartered tomato next to spinach cakes on each plate. \n",
      "   - Drizzle tomatoes with oil, season with salt and pepper, and top with chopped chives. \n",
      "   - Serve plates immediately.\n",
      "\n",
      "If you don't know the answer, just say that you don't know, don't try to make up an answer.\n"
     ]
    }
   ],
   "source": [
    "answer = wrapper_store_faiss.query(question=PROMPT.format(query=query), llm=llm)\n",
    "print(answer)"
   ]
  },
  {
   "cell_type": "code",
   "execution_count": 47,
   "id": "e3c9cbec-e458-43bf-8deb-2ec795a6b571",
   "metadata": {
    "id": "e3c9cbec-e458-43bf-8deb-2ec795a6b571"
   },
   "outputs": [],
   "source": [
    "query_2 = \"I have almond milk and carrot, can you give me a healthy dairy-free recipe to make to be used as dessert.\""
   ]
  },
  {
   "cell_type": "code",
   "execution_count": 48,
   "id": "7db5903d-1deb-4b0f-a00f-d42d220d2b3c",
   "metadata": {
    "id": "7db5903d-1deb-4b0f-a00f-d42d220d2b3c",
    "outputId": "02ea2f66-bf90-492d-bbe2-f9ea1ae1efec",
    "scrolled": false
   },
   "outputs": [
    {
     "name": "stdout",
     "output_type": "stream",
     "text": [
      "{\"inputs\": \"Use the following pieces of context to answer the question at the end. If you don't know the answer, just say that you don't know, don't try to make up an answer.\\n\\nbody \\nas\\npossible. \\nInsert\\nthe\\nshears\\ninto\\nthe\\ntail\\nend\\nof \\nthe\\nchicken\\nand\\ncut\\nalong\\nthe \\nbreastbone. \\nPull\\nback\\none\\nof\\nthe\\nbreasts\\nand\\ncut\\nit \\noff\\nthe\\nbackbone.\\nRepeat\\non\\nthe\\nother \\nside. \\nPhotograph\\nby\\nDavid\\nMalosh\\nChocolate\\nTurnovers\\n1\\n(17\\n1/4-ounce)\\npackage\\npuff\\npastry \\nsheets,\\n4\\n1/2\\nounces\\nsemi-\\nor \\nbittersweet\\nchocolate,\\nbroken\\ninto \\n1/4-ounce\\npieces,\\n1\\negg,\\nbeaten, \\nConfectioners'\\nsugar,\\nfor\\ndusting \\n(optional)\\nAdjust\\noven\\nracks\\nto\\nthe\\nupper\\nand \\nlower\\nmiddle\\npositions\\nand\\nheat\\nthe \\noven\\nto\\n425\\ndegrees. \\nWorking\\nwith\\none\\nsheet\\nat\\na\\ntime\\non\\na \\nlightly\\nfloured\\nwork\\nsurface,\\ntrim\\nthe \\npuff\\npastry\\nsheets\\nto\\n9-\\nby\\n9-inch \\nsquares,\\nthen\\ncut\\neach\\nsheet\\ninto\\nnine \\n3-inch\\nsquares. \\nWorking\\nwith\\none\\nsquare\\nof\\ndough\\nat \\na\\ntime,\\nplace\\na\\nportion\\nof\\nchocolate \\nonto\\nthe\\nlower\\ncorner,\\nbrush\\ntwo \\nedges\\nof\\nthe\\ndough\\nwith\\nbeaten\\negg, \\nand\\nfold\\nthe\\ndough\\nin\\nhalf\\ndiagonally \\nto\\nform\\na\\nturnover.\\nPlace\\neach \\nturnover\\non\\na\\nparchment-lined\\ncookie \\nsheet,\\nspacing\\nthem\\nabout\\n2\\ninches \\napart\\n(about\\n9\\nper\\n\\ntablespoon\\nsalt,\\n1\\ntablespoon\\nsesame \\noil,\\n1\\npackage\\ngyoza\\nwrappers,\\nBlack \\npepper,\\n3/4\\npound\\nflank\\nsteak,\\n3 \\nquarts\\nwater,\\n1/2\\nteaspoon\\nsalt,\\n1 \\nteaspoon\\nsoy\\nsauce,\\n1\\nenvelope \\nwonton\\nsoup\\nbase,\\n1\\nscallion\\nsliced \\nthinly\\non\\nthe\\ndiagonal,\\n1\\nbeaten\\negg, \\ncooked\\nin\\none\\nlayer\\nand\\njulienned,\\n1 \\nsheet\\nnori\\n(seaweed)\\ncut\\ninto\\n2-inch \\nlong\\njulienne\\nwater\\nfor\\n1\\nminute\\nuntil\\nwilted,\\nthen \\nshock\\nin\\nice\\nwater.\\nRoughly\\nchop\\nthe \\ncabbage\\nand\\ntransfer\\nto\\na\\nfood \\nprocessor.\\nPulse\\nuntil\\nwell\\nchopped. \\nSqueeze\\nout\\nexcess\\nwater\\nand\\ntransfer \\nto\\na\\nlarge\\nbowl.\\nBlanch\\nthe\\nsoy\\nbean \\nsprouts\\nin\\nthe\\nsame\\nboiling,\\nsalted \\nwater\\nfor\\n1\\nminute\\nand\\nshock\\nin\\nice \\nwater.\\nTransfer\\nto\\na\\nfood\\nprocessor \\nand\\npulse\\nuntil\\nwell\\nchopped.\\nSqueeze \\nout\\nthe\\nexcess\\nwater\\nand\\nadd\\nto\\nthe \\ncabbage.\\nStir\\nin\\nthe\\nchopped\\ntofu. \\nTransfer\\nthe\\nmixture\\nto\\na\\ncheesecloth \\nlined\\nsieve,\\nplace\\na\\nweighted\\nplate\\non \\ntop\\nof\\nthe\\nmixture,\\nand\\nlet\\nstand\\nover \\na\\nbowl\\nin\\nthe\\nrefrigerator\\nfor\\n2\\nhours \\nto\\nremove\\nexcess\\nwater. \\nTransfer\\nthe\\nvegetable\\n\\nPlace\\nthe\\nsecond\\ncake\\nlayer\\non\\ntop. \\nSpread\\nfrosting\\nover\\nthe\\nsides\\nand\\ntop \\nof\\nthe\\ncake.\\nSkinny\\nDarrell\\nWraps\\n3\\npounds\\ncheese\\ncurd,\\n2\\ntablespoons \\nsalt,\\nBoiling\\nwater,\\n1\\ncup\\nkosher\\nsalt, \\n1/4\\ncup\\ngarlic\\npowder,\\n1/4\\ncup\\nground \\nblack\\npepper,\\n2\\nmedium\\nwhite \\npotatoes,\\npeeled,\\nwashed\\nand\\ndried \\n(about\\n1\\n1/2\\npounds),\\n2\\ntablespoons \\nextra-virgin\\nolive\\noil,\\n1/4\\nteaspoon\\nsea \\nsalt,\\n1/4\\nteaspoon\\nground\\nblack \\npepper,\\nNonstick\\ncooking\\nspray,\\n2 \\ncups\\npanko\\nbreadcrumbs,\\n1\\ncup \\nlow-fat\\nbuttermilk,\\n1\\ntablespoon\\nhot \\nsauce,\\n1\\n1/4\\npounds\\nskinless,\\nboneless \\nchicken\\nbreast,\\ncut\\ninto\\n3-inch\\nstrips, \\n1\\ncup\\njarred\\nmarinara\\nsauce,\\nFour \\n8-inch\\nwhole\\nwheat\\ntortillas,\\n16\\nfresh \\nbasil\\nleaves\\nFor\\nthe\\nmozzarella:\\nBreak\\napart\\nthe \\ncheese\\ncurd\\ninto\\nsmall\\npieces\\nand\\nput \\nthem\\ninto\\na\\nlarge\\nbowl.\\nCover\\nthe \\ncurds\\nwith\\nhot\\nwater\\nfrom\\nthe\\ntap\\nto \\ntake\\nchill\\nout\\nof\\nthe\\ncurd.\\nDrain\\nthe \\nwater.\\nAdd\\nthe\\nsalt\\nand\\nmix\\nwith \\nhands.\\nAdd\\nboiling\\nwater\\nto\\ncover\\nthe \\ncurds\\nand\\nbegin\\nto\\nwork\\nit\\ninto\\na\\nsilky \\ntexture\\nuntil\\nall\\n\\ncups\\ncake\\nflour\\n(not\\nself-rising), \\nsifted,\\n1\\ntablespoon\\nbaking\\npowder, \\n1/4\\nteaspoon\\nsalt,\\n1\\n1/2\\ncups\\nsugar, \\n1/2\\ncup\\nmilk,\\n1/2\\ncup\\nwater,\\n1 \\nteaspoon\\npure\\nvanilla\\nextract,\\n1/4 \\nteaspoon\\npure\\nalmond\\nextract,\\n3\\nlarge \\negg\\nwhites,\\nLady\\nBaltimore\\nFrosting, \\nrecipe\\nfollows,\\n6\\ndried\\nfigs,\\nfinely \\nchopped,\\n1/2\\ncup\\nraisins,\\nchopped,\\n1/2 \\ncup\\npecans\\nor\\nwalnuts,\\nchopped\\n1/2\\nteaspoon\\nlight\\ncorn\\nsyrup \\n2/3\\ncup\\nwater \\n2\\nlarge\\negg\\nwhites \\n1\\nteaspoon\\npure\\nvanilla\\nextract \\nPinch\\ncoarse\\nsalt \\nIn\\na\\nsmall\\nsaucepan,\\ncombine\\nthe \\nsugar,\\ncorn\\nsyrup,\\nand\\nwater.\\nBring\\nto \\na\\nboil\\nover\\nhigh\\nheat,\\nstirring\\nto \\ndissolve\\nthe\\nsugar.\\nWhen\\nthe\\nsugar \\nhas\\ndissolved,\\ncontinue\\nto\\ncook \\nwithout\\nstirring,\\nuntil\\nit\\nreaches\\n248 \\ndegrees\\nF\\non\\na\\ncandy\\nthermometer. \\nBeat\\nthe\\negg\\nwhites,\\nvanilla,\\nand\\nthe \\nsalt\\nin\\nthe\\nbowl\\nof\\nan\\nelectric\\nmixer \\nfitted\\nwith\\nthe\\nwhisk\\nattachment\\nuntil \\nstiff\\npeaks\\nform.\\nWhen\\nthe\\nsugar \\nmixture\\nhas\\nreached\\n248\\ndegrees\\nF, \\npour\\nit\\ninto\\nthe\\nbeaten\\negg\\nwhites, \\nwhile\\nbeating\\nconstantly\\non\\nhigh\\n\\nQuestion: <|begin_of_text|><|start_header_id|>system<|end_header_id|>\\nYou are a helpful assistant.\\n<|eot_id|><|start_header_id|>user<|end_header_id|>\\nI have almond milk and carrot, can you give me a healthy dairy-free recipe to make to be used as dessert.\\n<|eot_id|><|start_header_id|>assistant<|end_header_id|>\\n\\nHelpful Answer:\", \"parameters\": {\"max_new_tokens\": 1000, \"top_p\": 0.9, \"temperature\": 0.6, \"stop\": [\"<|eot_id|>\"]}}\n",
      "{'generated_text': \" I'd be happy to help you with a healthy dairy-free dessert recipe using almond milk and carrot! Here's a recipe for a delicious and unique dessert:\\n\\nCarrot Cake with Almond Milk and Cream Cheese Frosting\\n\\nIngredients:\\n\\nFor the cake:\\n\\n* 2 cups cake flour (not self-rising)\\n* 1 teaspoon baking powder\\n* 1/4 teaspoon salt\\n* 1 cup granulated sugar\\n* 1/2 cup unsalted butter, softened\\n* 2 large eggs\\n* 1 cup almond milk\\n* 1 teaspoon pure vanilla extract\\n* 2 cups grated carrots\\n* 1/2 cup chopped walnuts or pecans\\n* 1/2 teaspoon ground cinnamon\\n* 1/4 teaspoon ground nutmeg\\n\\nFor the frosting:\\n\\n* 8 ounces cream cheese, softened\\n* 1/2 cup unsalted butter, softened\\n* 1 teaspoon pure vanilla extract\\n* 2 cups powdered sugar\\n* 2 tablespoons almond milk\\n* 1/4 teaspoon salt\\n\\nInstructions:\\n\\n1. Preheat the oven to 350°F (180°C). Grease two 9-inch (23cm) round cake pans and line the bottoms with parchment paper.\\n2. In a medium bowl, whisk together the flour, baking powder, and salt.\\n3. In a large bowl, use an electric mixer to beat the sugar and butter until light and fluffy, about 2 minutes.\\n4. Beat in the eggs one at a time, then beat in the almond milk and vanilla extract.\\n5. With the mixer on low speed, gradually add the flour mixture to the wet ingredients and mix until just combined.\\n6. Stir in the grated carrots, chopped nuts, cinnamon, and nutmeg.\\n7. Divide the batter evenly between the prepared pans and smooth the tops.\\n8. Bake for 30-35 minutes or until a toothpick inserted into the center of each cake comes out clean.\\n9. Let the cakes cool in the pans for 10 minutes, then transfer them to a wire rack to cool completely.\\n10. For the frosting, beat the cream cheese and butter until smooth and creamy.\\n11. Beat in the vanilla extract, then gradually add the powdered sugar, beating until smooth and creamy.\\n12. Beat in the almond milk and salt until well combined.\\n13. Once the cakes are completely cool, place one cake layer on a serving plate and spread a layer of frosting on top.\\n14. Place the second cake layer on top and frost the entire cake with the remaining frosting.\\n\\nEnjoy your delicious and healthy dairy-free carrot cake with almond milk and cream cheese frosting!\"}\n",
      "I'd be happy to help you with a healthy dairy-free dessert recipe using almond milk and carrot! Here's a recipe for a delicious and unique dessert:\n",
      "\n",
      "Carrot Cake with Almond Milk and Cream Cheese Frosting\n",
      "\n",
      "Ingredients:\n",
      "\n",
      "For the cake:\n",
      "\n",
      "* 2 cups cake flour (not self-rising)\n",
      "* 1 teaspoon baking powder\n",
      "* 1/4 teaspoon salt\n",
      "* 1 cup granulated sugar\n",
      "* 1/2 cup unsalted butter, softened\n",
      "* 2 large eggs\n",
      "* 1 cup almond milk\n",
      "* 1 teaspoon pure vanilla extract\n",
      "* 2 cups grated carrots\n",
      "* 1/2 cup chopped walnuts or pecans\n",
      "* 1/2 teaspoon ground cinnamon\n",
      "* 1/4 teaspoon ground nutmeg\n",
      "\n",
      "For the frosting:\n",
      "\n",
      "* 8 ounces cream cheese, softened\n",
      "* 1/2 cup unsalted butter, softened\n",
      "* 1 teaspoon pure vanilla extract\n",
      "* 2 cups powdered sugar\n",
      "* 2 tablespoons almond milk\n",
      "* 1/4 teaspoon salt\n",
      "\n",
      "Instructions:\n",
      "\n",
      "1. Preheat the oven to 350°F (180°C). Grease two 9-inch (23cm) round cake pans and line the bottoms with parchment paper.\n",
      "2. In a medium bowl, whisk together the flour, baking powder, and salt.\n",
      "3. In a large bowl, use an electric mixer to beat the sugar and butter until light and fluffy, about 2 minutes.\n",
      "4. Beat in the eggs one at a time, then beat in the almond milk and vanilla extract.\n",
      "5. With the mixer on low speed, gradually add the flour mixture to the wet ingredients and mix until just combined.\n",
      "6. Stir in the grated carrots, chopped nuts, cinnamon, and nutmeg.\n",
      "7. Divide the batter evenly between the prepared pans and smooth the tops.\n",
      "8. Bake for 30-35 minutes or until a toothpick inserted into the center of each cake comes out clean.\n",
      "9. Let the cakes cool in the pans for 10 minutes, then transfer them to a wire rack to cool completely.\n",
      "10. For the frosting, beat the cream cheese and butter until smooth and creamy.\n",
      "11. Beat in the vanilla extract, then gradually add the powdered sugar, beating until smooth and creamy.\n",
      "12. Beat in the almond milk and salt until well combined.\n",
      "13. Once the cakes are completely cool, place one cake layer on a serving plate and spread a layer of frosting on top.\n",
      "14. Place the second cake layer on top and frost the entire cake with the remaining frosting.\n",
      "\n",
      "Enjoy your delicious and healthy dairy-free carrot cake with almond milk and cream cheese frosting!\n"
     ]
    }
   ],
   "source": [
    "answer = wrapper_store_faiss.query(question=PROMPT.format(query=query_2), llm=llm)\n",
    "print(answer)"
   ]
  },
  {
   "cell_type": "code",
   "execution_count": 49,
   "id": "4e8b84b7-c69f-4390-80fe-ac86532c72b1",
   "metadata": {
    "id": "4e8b84b7-c69f-4390-80fe-ac86532c72b1"
   },
   "outputs": [],
   "source": [
    "from langchain.chains import RetrievalQA\n",
    "\n",
    "prompt_template = \"\"\"\n",
    "<|begin_of_text|><|start_header_id|>system<|end_header_id|>\n",
    "\n",
    "This is a conversation between an AI assistant and a Human.\n",
    "\n",
    "<|eot_id|><|start_header_id|>user<|end_header_id|>\n",
    "\n",
    "Use the following pieces of context to provide a concise answer to the question at the end. If you don't know the answer, just say that you don't know, don't try to make up an answer.\n",
    "#### Context ####\n",
    "{context}\n",
    "#### End of Context ####\n",
    "\n",
    "Question: {question}\n",
    "<|eot_id|><|start_header_id|>assistant<|end_header_id|>\n",
    "\"\"\"\n",
    "PROMPT = PromptTemplate(\n",
    "    template=prompt_template, input_variables=[\"context\", \"question\"]\n",
    ")\n",
    "\n",
    "qa = RetrievalQA.from_chain_type(\n",
    "    llm=llm,\n",
    "    chain_type=\"stuff\",\n",
    "    retriever=vectorstore_faiss.as_retriever(\n",
    "        # how many relevant documents should be retrieved\n",
    "        search_type=\"similarity\", search_kwargs={\"k\": 3}\n",
    "    ),\n",
    "    return_source_documents=True,\n",
    "    chain_type_kwargs={\"prompt\": PROMPT}\n",
    ")"
   ]
  },
  {
   "cell_type": "code",
   "execution_count": 50,
   "id": "85babcaf-639f-4aaf-9277-d30c5d419679",
   "metadata": {
    "id": "85babcaf-639f-4aaf-9277-d30c5d419679",
    "outputId": "175e5823-44af-4a2c-fcbe-35fea33cb482"
   },
   "outputs": [
    {
     "name": "stdout",
     "output_type": "stream",
     "text": [
      "{\"inputs\": \"\\n<|begin_of_text|><|start_header_id|>system<|end_header_id|>\\n\\nThis is a conversation between an AI assistant and a Human.\\n\\n<|eot_id|><|start_header_id|>user<|end_header_id|>\\n\\nUse the following pieces of context to provide a concise answer to the question at the end. If you don't know the answer, just say that you don't know, don't try to make up an answer.\\n#### Context ####\\nPlace\\nthe\\nsecond\\ncake\\nlayer\\non\\ntop. \\nSpread\\nfrosting\\nover\\nthe\\nsides\\nand\\ntop \\nof\\nthe\\ncake.\\nSkinny\\nDarrell\\nWraps\\n3\\npounds\\ncheese\\ncurd,\\n2\\ntablespoons \\nsalt,\\nBoiling\\nwater,\\n1\\ncup\\nkosher\\nsalt, \\n1/4\\ncup\\ngarlic\\npowder,\\n1/4\\ncup\\nground \\nblack\\npepper,\\n2\\nmedium\\nwhite \\npotatoes,\\npeeled,\\nwashed\\nand\\ndried \\n(about\\n1\\n1/2\\npounds),\\n2\\ntablespoons \\nextra-virgin\\nolive\\noil,\\n1/4\\nteaspoon\\nsea \\nsalt,\\n1/4\\nteaspoon\\nground\\nblack \\npepper,\\nNonstick\\ncooking\\nspray,\\n2 \\ncups\\npanko\\nbreadcrumbs,\\n1\\ncup \\nlow-fat\\nbuttermilk,\\n1\\ntablespoon\\nhot \\nsauce,\\n1\\n1/4\\npounds\\nskinless,\\nboneless \\nchicken\\nbreast,\\ncut\\ninto\\n3-inch\\nstrips, \\n1\\ncup\\njarred\\nmarinara\\nsauce,\\nFour \\n8-inch\\nwhole\\nwheat\\ntortillas,\\n16\\nfresh \\nbasil\\nleaves\\nFor\\nthe\\nmozzarella:\\nBreak\\napart\\nthe \\ncheese\\ncurd\\ninto\\nsmall\\npieces\\nand\\nput \\nthem\\ninto\\na\\nlarge\\nbowl.\\nCover\\nthe \\ncurds\\nwith\\nhot\\nwater\\nfrom\\nthe\\ntap\\nto \\ntake\\nchill\\nout\\nof\\nthe\\ncurd.\\nDrain\\nthe \\nwater.\\nAdd\\nthe\\nsalt\\nand\\nmix\\nwith \\nhands.\\nAdd\\nboiling\\nwater\\nto\\ncover\\nthe \\ncurds\\nand\\nbegin\\nto\\nwork\\nit\\ninto\\na\\nsilky \\ntexture\\nuntil\\nall\\n\\nhot,\\ndump\\nthe\\nmacaroni \\ninto\\nthe\\nCheddar-butter\\nmixture\\nand \\ntoss\\nto\\nmix\\nwell. \\nMeanwhile,\\nin\\na\\nsmall\\nsaucepan,\\nbring \\nthe\\nmilk\\nto\\na\\nbare\\nsimmer\\nover \\nmedium\\nheat.\\nIn\\na\\nmedium\\nbowl, \\nwhisk\\nthe\\negg\\nbriefly\\nto\\nbreak\\nit\\nup. \\nTemper\\nthe\\negg\\nby\\ndrizzling\\n1/2\\ncup \\nof\\nthe\\nwarm\\nmilk\\nin\\nwhile\\nwhisking \\nuntil\\nincorporated.\\n(This\\nwill\\nprevent \\nthe\\negg\\nfrom\\nscrambling.)\\nMix\\nthe \\ntempered\\negg\\nand\\nthe\\nremaining\\nwarm \\nmilk\\ninto\\nthe\\nmacaroni\\nand\\nstir\\nwell \\nuntil\\neverything\\nis\\nevenly\\ncoated. \\nPour\\nthe\\ncontents\\nof\\nthe\\nbowl\\ninto\\nthe \\nprepared\\nbaking\\npan,\\nspreading\\nthe \\nmacaroni\\nand\\nsauce\\nevenly. \\nIn\\na\\nmedium\\nbowl,\\ntoss\\ntogether\\nthe \\npancetta,\\nParmesan,\\npanko\\nand \\nparsley,\\nand\\nsprinkle\\nover\\nthe\\ntop\\nof \\nthe\\nmacaroni.\\n(This\\nwill\\ncreate\\na \\nyummy\\ncrust.) \\nBake\\nuntil\\ngolden\\nbrown\\nand\\nbubbling \\non\\ntop,\\nand\\nthe\\npancetta\\nis\\ncrispy,\\n25 \\nto\\n30\\nminutes.\\nServe\\nwarm.\\nBaby\\nGreens\\nwith\\nMustard \\nVinaigrette\\n1\\nrounded\\nteaspoon\\ngrainy\\nmustard,\\n1 \\ntablespoon\\nred\\nwine\\nvinegar,\\n3 \\ntablespoons\\nextra-virgin\\nolive\\noil,\\n6\\nto \\n8\\n\\nbutter,\\n1\\nteaspoon\\nsalt,\\n2\\ncups\\nwhite \\nwine,\\n10\\nounces\\ncanned\\nbeef \\nconsomme,\\n10\\nounces\\nchicken\\nbroth, \\n10\\nounces\\napple\\ncider\\n(unfiltered\\nis \\nbest),\\nBouquet\\ngarni;\\nthyme\\nsprigs, \\nbay\\nleaf\\nand\\nparsley\\ntied\\ntogether\\nwith \\nkitchen\\nstring,\\n1\\nloaf\\ncountry\\nstyle \\nbread,\\nKosher\\nsalt,\\nGround\\nblack \\npepper,\\nSplash\\nof\\nCognac\\n(optional),\\n1 \\ncup\\nFontina\\nor\\nGruyere\\ncheese,\\ngrated\\nfinely\\nslice\\ninto\\nhalf-moon\\nshapes.\\nSet \\nelectric\\nskillet\\nto\\n300\\ndegrees\\nand\\nadd \\nbutter.\\nOnce\\nbutter\\nhas\\nmelted\\nadd\\na \\nlayer\\nof\\nonions\\nand\\nsprinkle\\nwith\\na \\nlittle\\nsalt.\\nRepeat\\nlayering\\nonions\\nand \\nsalt\\nuntil\\nall\\nonions\\nare\\nin\\nthe\\nskillet. \\nDo\\nnot\\ntry\\nstirring\\nuntil\\nonions\\nhave \\nsweated\\ndown\\nfor\\n15\\nto\\n20\\nminutes. \\nAfter\\nthat,\\nstir\\noccasionally\\nuntil \\nonions\\nare\\ndark\\nmahogany\\nand \\nreduced\\nto\\napproximately\\n2\\ncups.\\nThis \\nshould\\ntake\\n45\\nminutes\\nto\\n1\\nhour.\\nDo \\nnot\\nworry\\nabout\\nburning. \\nAdd\\nenough\\nwine\\nto\\ncover\\nthe\\nonions \\nand\\nturn\\nheat\\nto\\nhigh,\\nreducing\\nthe \\nwine\\nto\\na\\nsyrup\\nconsistency.\\nAdd \\nconsomme,\\nchicken\\nbroth,\\napple\\n#### End of Context ####\\n\\nQuestion: I have a dairy allergy. Can you provide a recipe that's dairy-free?\\n<|eot_id|><|start_header_id|>assistant<|end_header_id|>\\n\", \"parameters\": {\"max_new_tokens\": 1000, \"top_p\": 0.9, \"temperature\": 0.6, \"stop\": [\"<|eot_id|>\"]}}\n",
      "{'generated_text': \"I apologize, but the provided context does not contain a specific recipe. It appears to be a collection of ingredients and instructions for various dishes. To provide a dairy-free recipe, I would need more information about the specific dish you are looking for or the ingredients you would like to use. If you could provide more context or clarify your request, I'll do my best to assist you.\"}\n",
      "I\n",
      "\n",
      "[Document(page_content='Place\\nthe\\nsecond\\ncake\\nlayer\\non\\ntop. \\nSpread\\nfrosting\\nover\\nthe\\nsides\\nand\\ntop \\nof\\nthe\\ncake.\\nSkinny\\nDarrell\\nWraps\\n3\\npounds\\ncheese\\ncurd,\\n2\\ntablespoons \\nsalt,\\nBoiling\\nwater,\\n1\\ncup\\nkosher\\nsalt, \\n1/4\\ncup\\ngarlic\\npowder,\\n1/4\\ncup\\nground \\nblack\\npepper,\\n2\\nmedium\\nwhite \\npotatoes,\\npeeled,\\nwashed\\nand\\ndried \\n(about\\n1\\n1/2\\npounds),\\n2\\ntablespoons \\nextra-virgin\\nolive\\noil,\\n1/4\\nteaspoon\\nsea \\nsalt,\\n1/4\\nteaspoon\\nground\\nblack \\npepper,\\nNonstick\\ncooking\\nspray,\\n2 \\ncups\\npanko\\nbreadcrumbs,\\n1\\ncup \\nlow-fat\\nbuttermilk,\\n1\\ntablespoon\\nhot \\nsauce,\\n1\\n1/4\\npounds\\nskinless,\\nboneless \\nchicken\\nbreast,\\ncut\\ninto\\n3-inch\\nstrips, \\n1\\ncup\\njarred\\nmarinara\\nsauce,\\nFour \\n8-inch\\nwhole\\nwheat\\ntortillas,\\n16\\nfresh \\nbasil\\nleaves\\nFor\\nthe\\nmozzarella:\\nBreak\\napart\\nthe \\ncheese\\ncurd\\ninto\\nsmall\\npieces\\nand\\nput \\nthem\\ninto\\na\\nlarge\\nbowl.\\nCover\\nthe \\ncurds\\nwith\\nhot\\nwater\\nfrom\\nthe\\ntap\\nto \\ntake\\nchill\\nout\\nof\\nthe\\ncurd.\\nDrain\\nthe \\nwater.\\nAdd\\nthe\\nsalt\\nand\\nmix\\nwith \\nhands.\\nAdd\\nboiling\\nwater\\nto\\ncover\\nthe \\ncurds\\nand\\nbegin\\nto\\nwork\\nit\\ninto\\na\\nsilky \\ntexture\\nuntil\\nall'), Document(page_content='hot,\\ndump\\nthe\\nmacaroni \\ninto\\nthe\\nCheddar-butter\\nmixture\\nand \\ntoss\\nto\\nmix\\nwell. \\nMeanwhile,\\nin\\na\\nsmall\\nsaucepan,\\nbring \\nthe\\nmilk\\nto\\na\\nbare\\nsimmer\\nover \\nmedium\\nheat.\\nIn\\na\\nmedium\\nbowl, \\nwhisk\\nthe\\negg\\nbriefly\\nto\\nbreak\\nit\\nup. \\nTemper\\nthe\\negg\\nby\\ndrizzling\\n1/2\\ncup \\nof\\nthe\\nwarm\\nmilk\\nin\\nwhile\\nwhisking \\nuntil\\nincorporated.\\n(This\\nwill\\nprevent \\nthe\\negg\\nfrom\\nscrambling.)\\nMix\\nthe \\ntempered\\negg\\nand\\nthe\\nremaining\\nwarm \\nmilk\\ninto\\nthe\\nmacaroni\\nand\\nstir\\nwell \\nuntil\\neverything\\nis\\nevenly\\ncoated. \\nPour\\nthe\\ncontents\\nof\\nthe\\nbowl\\ninto\\nthe \\nprepared\\nbaking\\npan,\\nspreading\\nthe \\nmacaroni\\nand\\nsauce\\nevenly. \\nIn\\na\\nmedium\\nbowl,\\ntoss\\ntogether\\nthe \\npancetta,\\nParmesan,\\npanko\\nand \\nparsley,\\nand\\nsprinkle\\nover\\nthe\\ntop\\nof \\nthe\\nmacaroni.\\n(This\\nwill\\ncreate\\na \\nyummy\\ncrust.) \\nBake\\nuntil\\ngolden\\nbrown\\nand\\nbubbling \\non\\ntop,\\nand\\nthe\\npancetta\\nis\\ncrispy,\\n25 \\nto\\n30\\nminutes.\\nServe\\nwarm.\\nBaby\\nGreens\\nwith\\nMustard \\nVinaigrette\\n1\\nrounded\\nteaspoon\\ngrainy\\nmustard,\\n1 \\ntablespoon\\nred\\nwine\\nvinegar,\\n3 \\ntablespoons\\nextra-virgin\\nolive\\noil,\\n6\\nto \\n8'), Document(page_content='butter,\\n1\\nteaspoon\\nsalt,\\n2\\ncups\\nwhite \\nwine,\\n10\\nounces\\ncanned\\nbeef \\nconsomme,\\n10\\nounces\\nchicken\\nbroth, \\n10\\nounces\\napple\\ncider\\n(unfiltered\\nis \\nbest),\\nBouquet\\ngarni;\\nthyme\\nsprigs, \\nbay\\nleaf\\nand\\nparsley\\ntied\\ntogether\\nwith \\nkitchen\\nstring,\\n1\\nloaf\\ncountry\\nstyle \\nbread,\\nKosher\\nsalt,\\nGround\\nblack \\npepper,\\nSplash\\nof\\nCognac\\n(optional),\\n1 \\ncup\\nFontina\\nor\\nGruyere\\ncheese,\\ngrated\\nfinely\\nslice\\ninto\\nhalf-moon\\nshapes.\\nSet \\nelectric\\nskillet\\nto\\n300\\ndegrees\\nand\\nadd \\nbutter.\\nOnce\\nbutter\\nhas\\nmelted\\nadd\\na \\nlayer\\nof\\nonions\\nand\\nsprinkle\\nwith\\na \\nlittle\\nsalt.\\nRepeat\\nlayering\\nonions\\nand \\nsalt\\nuntil\\nall\\nonions\\nare\\nin\\nthe\\nskillet. \\nDo\\nnot\\ntry\\nstirring\\nuntil\\nonions\\nhave \\nsweated\\ndown\\nfor\\n15\\nto\\n20\\nminutes. \\nAfter\\nthat,\\nstir\\noccasionally\\nuntil \\nonions\\nare\\ndark\\nmahogany\\nand \\nreduced\\nto\\napproximately\\n2\\ncups.\\nThis \\nshould\\ntake\\n45\\nminutes\\nto\\n1\\nhour.\\nDo \\nnot\\nworry\\nabout\\nburning. \\nAdd\\nenough\\nwine\\nto\\ncover\\nthe\\nonions \\nand\\nturn\\nheat\\nto\\nhigh,\\nreducing\\nthe \\nwine\\nto\\na\\nsyrup\\nconsistency.\\nAdd \\nconsomme,\\nchicken\\nbroth,\\napple')]\n"
     ]
    }
   ],
   "source": [
    "query = \"I have a dairy allergy. Can you provide a recipe that's dairy-free?\"\n",
    "result = qa.invoke({\"query\": query})\n",
    "print(result['result'][0])\n",
    "\n",
    "# Print the source documents\n",
    "print(f\"\\n{result['source_documents']}\")"
   ]
  },
  {
   "cell_type": "code",
   "execution_count": 51,
   "id": "a0317e6b-6e29-4787-a0be-ae4897ee8297",
   "metadata": {
    "id": "a0317e6b-6e29-4787-a0be-ae4897ee8297",
    "outputId": "fb483040-d264-4874-db8c-80f892fe8dbc"
   },
   "outputs": [
    {
     "name": "stdout",
     "output_type": "stream",
     "text": [
      "{\"inputs\": \"\\n<|begin_of_text|><|start_header_id|>system<|end_header_id|>\\n\\nThis is a conversation between an AI assistant and a Human.\\n\\n<|eot_id|><|start_header_id|>user<|end_header_id|>\\n\\nUse the following pieces of context to provide a concise answer to the question at the end. If you don't know the answer, just say that you don't know, don't try to make up an answer.\\n#### Context ####\\n1\\nminute.\\nDivide \\namong\\n6\\nglasses;\\ngarnish\\nwith\\nlime\\nor \\nlemon\\nwedges. \\nPhotograph\\nby\\nLevi\\nBrown\\nBlueberry-Poppy\\nSeed\\nLoaves\\n1\\n1/3\\ncups\\nvegetable\\noil,\\nplus\\nmore\\nfor \\nbrushing,\\n3\\ncups\\nall-purpose\\nflour,\\n1 \\n1/2\\nteaspoons\\nbaking\\npowder,\\n2\\n1/2 \\ncups\\nsugar,\\nPinch\\nof\\nsalt,\\n1\\n1/2\\ncups \\nwhole\\nmilk,\\n3\\nlarge\\neggs,\\n1\\n1/2 \\ntablespoons\\npoppy\\nseeds,\\n1\\n1/2 \\nteaspoons\\nalmond\\nextract,\\n1\\n1/2 \\nteaspoons\\nvanilla\\nextract,\\n1\\ncup \\nblueberries\\nPreheat\\nthe\\noven\\nto\\n350\\ndegrees\\nF. \\nBrush\\n4\\nmini\\nloaf\\npans\\n(about\\n5\\nby\\n3 \\ninches\\neach)\\nwith\\nvegetable\\noil. \\nWhisk\\nthe\\nflour,\\nbaking\\npowder,\\nsugar \\nand\\nsalt\\nin\\na\\nlarge\\nbowl.\\nBeat\\nthe\\nmilk, \\n1\\n1/3\\ncups\\nvegetable\\noil,\\nthe\\neggs, \\npoppy\\nseeds,\\nand\\nalmond\\nand\\nvanilla \\nextracts\\nin\\na\\nstand\\nmixer\\nfitted\\nwith \\nthe\\npaddle\\nattachment\\non\\nmedium \\nspeed\\nuntil\\ncombined.\\nGradually\\nbeat \\nin\\nthe\\nflour\\nmixture\\nuntil\\nwell \\ncombined.\\nFold\\nthe\\nblueberries\\ninto \\nthe\\nbatter\\nwith\\na\\nrubber\\nspatula. \\nDivide\\nthe\\nbatter\\namong\\nthe\\nprepared \\npans\\nand\\nbake\\nuntil\\ngolden\\non\\ntop\\nand \\na\\ntoothpick\\ninserted\\n\\ntitle\\ningredients\\ninstructions\\nBlackberry\\nLemonade\\nMuddle\\n2\\ncups\\nblackberries\\nwith\\n2 \\ncups\\nsimple\\nsyrup\\n(recipe\\nfollows)\\nin \\na\\npitcher.\\nStir\\nin\\n2\\ncups\\neach\\nfresh \\nlemon\\njuice\\nand\\nwater;\\nadd\\nice\\nand \\nlemon\\nslices. \\nSimple\\nSyrup:\\nTo\\nmake\\n2\\ncups\\nsimple \\nsyrup,\\nbring\\n1\\n1/2cups\\neach\\nsugar\\nand \\nwater\\nto\\na\\nboil,\\nstirring\\nuntil \\ndissolved.\\nLet\\ncool. \\nPhotograph\\nby\\nJonathan\\nKantor\\nUltra\\nCreamy\\nBlack\\nand\\nWhite \\nCheesecake\\nNonstick\\ncooking\\nspray,\\n1\\n1/2\\ncups \\nplus\\n2\\ntablespoons\\nsugar,\\n25\\nchocolate \\nwafer\\ncookies\\nfrom\\none\\n9-ounce \\npackage,\\n4\\ntablespoons\\nunsalted \\nbutter,\\nmelted,\\nThree\\n8-ounce \\npackages\\ncream\\ncheese,\\nat\\nroom \\ntemperature,\\n4\\nlarge\\neggs,\\n1/2\\ncup \\nsour\\ncream,\\n1/4\\ncup\\nall-purpose\\nflour, \\n2\\nteaspoons\\nvanilla\\nextract,\\n3\\nounces \\nchopped\\nsemisweet\\nchocolate,\\nmelted \\nand\\ncooled\\nslightly,\\n1/2\\nteaspoon\\npure \\nalmond\\nextract,\\nWhite\\nand\\nsemisweet \\nchocolate\\ncurls,\\nfor\\ngarnish\\n1.\\nArrange\\nthe\\noven\\nracks\\nin\\nthe \\ncenter\\nand\\nlower\\nthird\\nof\\nthe\\noven. \\nPlace\\na\\nbaking\\ndish\\nor\\nroasting\\npan\\non \\nthe\\nbottom\\n\\nwith\\na\\nhandful\\nof\\npotato\\nchips\\non\\nthe \\nside.\\nBlackberry\\nLemonade\\nMuddle\\n2\\ncups\\nblackberries\\nwith\\n2 \\ncups\\nsimple\\nsyrup\\n(recipe\\nfollows)\\nin \\na\\npitcher.\\nStir\\nin\\n2\\ncups\\neach\\nfresh \\nlemon\\njuice\\nand\\nwater;\\nadd\\nice\\nand \\nlemon\\nslices. \\nSimple\\nSyrup:\\nTo\\nmake\\n2\\ncups\\nsimple \\nsyrup,\\nbring\\n1\\n1/2cups\\neach\\nsugar\\nand \\nwater\\nto\\na\\nboil,\\nstirring\\nuntil \\ndissolved.\\nLet\\ncool. \\nPhotograph\\nby\\nJonathan\\nKantor\\n#### End of Context ####\\n\\nQuestion: I have some blueberries at home. Can you provide me a recipe?\\n<|eot_id|><|start_header_id|>assistant<|end_header_id|>\\n\", \"parameters\": {\"max_new_tokens\": 1000, \"top_p\": 0.9, \"temperature\": 0.6, \"stop\": [\"<|eot_id|>\"]}}\n",
      "{'generated_text': \"Based on the context you provided, I found a recipe for Blueberry-Poppy Seed Loaves. Here's the recipe:\\n\\nIngredients:\\n\\n* 1 1/3 cups vegetable oil, plus more for brushing\\n* 3 cups all-purpose flour\\n* 1 1/2 teaspoons baking powder\\n* 2 1/2 cups sugar\\n* Pinch of salt\\n* 1 1/2 cups whole milk\\n* 3 large eggs\\n* 1 1/2 tablespoons poppy seeds\\n* 1 1/2 teaspoons almond extract\\n* 1 1/2 teaspoons vanilla extract\\n* 1 cup blueberries\\n\\nInstructions:\\n\\n1. Preheat the oven to 350°F. Brush 4 mini loaf pans (about 5 by 3 inches each) with vegetable oil.\\n2. Whisk the flour, baking powder, sugar, and salt in a large bowl.\\n3. Beat the milk, 1/3 cup vegetable oil, eggs, poppy seeds, almond extract, and vanilla extract in a stand mixer fitted with the paddle attachment on medium speed until combined.\\n4. Gradually beat in the flour mixture until well combined.\\n5. Fold the blueberries into the batter with a rubber spatula.\\n6. Divide the batter among the prepared pans and bake until golden on top and a toothpick inserted comes out clean.\\n\\nI hope you enjoy this recipe!\"}\n",
      "B\n",
      "[Document(page_content='1\\nminute.\\nDivide \\namong\\n6\\nglasses;\\ngarnish\\nwith\\nlime\\nor \\nlemon\\nwedges. \\nPhotograph\\nby\\nLevi\\nBrown\\nBlueberry-Poppy\\nSeed\\nLoaves\\n1\\n1/3\\ncups\\nvegetable\\noil,\\nplus\\nmore\\nfor \\nbrushing,\\n3\\ncups\\nall-purpose\\nflour,\\n1 \\n1/2\\nteaspoons\\nbaking\\npowder,\\n2\\n1/2 \\ncups\\nsugar,\\nPinch\\nof\\nsalt,\\n1\\n1/2\\ncups \\nwhole\\nmilk,\\n3\\nlarge\\neggs,\\n1\\n1/2 \\ntablespoons\\npoppy\\nseeds,\\n1\\n1/2 \\nteaspoons\\nalmond\\nextract,\\n1\\n1/2 \\nteaspoons\\nvanilla\\nextract,\\n1\\ncup \\nblueberries\\nPreheat\\nthe\\noven\\nto\\n350\\ndegrees\\nF. \\nBrush\\n4\\nmini\\nloaf\\npans\\n(about\\n5\\nby\\n3 \\ninches\\neach)\\nwith\\nvegetable\\noil. \\nWhisk\\nthe\\nflour,\\nbaking\\npowder,\\nsugar \\nand\\nsalt\\nin\\na\\nlarge\\nbowl.\\nBeat\\nthe\\nmilk, \\n1\\n1/3\\ncups\\nvegetable\\noil,\\nthe\\neggs, \\npoppy\\nseeds,\\nand\\nalmond\\nand\\nvanilla \\nextracts\\nin\\na\\nstand\\nmixer\\nfitted\\nwith \\nthe\\npaddle\\nattachment\\non\\nmedium \\nspeed\\nuntil\\ncombined.\\nGradually\\nbeat \\nin\\nthe\\nflour\\nmixture\\nuntil\\nwell \\ncombined.\\nFold\\nthe\\nblueberries\\ninto \\nthe\\nbatter\\nwith\\na\\nrubber\\nspatula. \\nDivide\\nthe\\nbatter\\namong\\nthe\\nprepared \\npans\\nand\\nbake\\nuntil\\ngolden\\non\\ntop\\nand \\na\\ntoothpick\\ninserted'), Document(page_content='title\\ningredients\\ninstructions\\nBlackberry\\nLemonade\\nMuddle\\n2\\ncups\\nblackberries\\nwith\\n2 \\ncups\\nsimple\\nsyrup\\n(recipe\\nfollows)\\nin \\na\\npitcher.\\nStir\\nin\\n2\\ncups\\neach\\nfresh \\nlemon\\njuice\\nand\\nwater;\\nadd\\nice\\nand \\nlemon\\nslices. \\nSimple\\nSyrup:\\nTo\\nmake\\n2\\ncups\\nsimple \\nsyrup,\\nbring\\n1\\n1/2cups\\neach\\nsugar\\nand \\nwater\\nto\\na\\nboil,\\nstirring\\nuntil \\ndissolved.\\nLet\\ncool. \\nPhotograph\\nby\\nJonathan\\nKantor\\nUltra\\nCreamy\\nBlack\\nand\\nWhite \\nCheesecake\\nNonstick\\ncooking\\nspray,\\n1\\n1/2\\ncups \\nplus\\n2\\ntablespoons\\nsugar,\\n25\\nchocolate \\nwafer\\ncookies\\nfrom\\none\\n9-ounce \\npackage,\\n4\\ntablespoons\\nunsalted \\nbutter,\\nmelted,\\nThree\\n8-ounce \\npackages\\ncream\\ncheese,\\nat\\nroom \\ntemperature,\\n4\\nlarge\\neggs,\\n1/2\\ncup \\nsour\\ncream,\\n1/4\\ncup\\nall-purpose\\nflour, \\n2\\nteaspoons\\nvanilla\\nextract,\\n3\\nounces \\nchopped\\nsemisweet\\nchocolate,\\nmelted \\nand\\ncooled\\nslightly,\\n1/2\\nteaspoon\\npure \\nalmond\\nextract,\\nWhite\\nand\\nsemisweet \\nchocolate\\ncurls,\\nfor\\ngarnish\\n1.\\nArrange\\nthe\\noven\\nracks\\nin\\nthe \\ncenter\\nand\\nlower\\nthird\\nof\\nthe\\noven. \\nPlace\\na\\nbaking\\ndish\\nor\\nroasting\\npan\\non \\nthe\\nbottom'), Document(page_content='with\\na\\nhandful\\nof\\npotato\\nchips\\non\\nthe \\nside.\\nBlackberry\\nLemonade\\nMuddle\\n2\\ncups\\nblackberries\\nwith\\n2 \\ncups\\nsimple\\nsyrup\\n(recipe\\nfollows)\\nin \\na\\npitcher.\\nStir\\nin\\n2\\ncups\\neach\\nfresh \\nlemon\\njuice\\nand\\nwater;\\nadd\\nice\\nand \\nlemon\\nslices. \\nSimple\\nSyrup:\\nTo\\nmake\\n2\\ncups\\nsimple \\nsyrup,\\nbring\\n1\\n1/2cups\\neach\\nsugar\\nand \\nwater\\nto\\na\\nboil,\\nstirring\\nuntil \\ndissolved.\\nLet\\ncool. \\nPhotograph\\nby\\nJonathan\\nKantor')]\n"
     ]
    }
   ],
   "source": [
    "query = \"I have some blueberries at home. Can you provide me a recipe?\"\n",
    "result = qa.invoke({\"query\": query})\n",
    "print(result['result'][0])\n",
    "\n",
    "# Print the source documents\n",
    "print(result['source_documents'])"
   ]
  },
  {
   "cell_type": "code",
   "execution_count": null,
   "id": "1d90a4cf-9171-48ae-bc32-a10d278c618c",
   "metadata": {},
   "outputs": [],
   "source": []
  }
 ],
 "metadata": {
  "colab": {
   "provenance": []
  },
  "kernelspec": {
   "display_name": "Python 3 (ipykernel)",
   "language": "python",
   "name": "python3"
  },
  "language_info": {
   "codemirror_mode": {
    "name": "ipython",
    "version": 3
   },
   "file_extension": ".py",
   "mimetype": "text/x-python",
   "name": "python",
   "nbconvert_exporter": "python",
   "pygments_lexer": "ipython3",
   "version": "3.9.16"
  }
 },
 "nbformat": 4,
 "nbformat_minor": 5
}
