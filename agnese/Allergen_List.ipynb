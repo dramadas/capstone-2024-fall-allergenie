{
 "cells": [
  {
   "cell_type": "code",
   "execution_count": 1,
   "id": "8c4ede89",
   "metadata": {},
   "outputs": [
    {
     "name": "stdout",
     "output_type": "stream",
     "text": [
      "JSON file 'allergens.json' created successfully!\n"
     ]
    }
   ],
   "source": [
    "import json\n",
    "\n",
    "# Updated allergen data\n",
    "allergens = {\n",
    "  \"meat_items\": [\"beef\", \"chicken\", \"pork\", \"lamb\", \"turkey\", \"duck\", \"veal\", \"bacon\", \"ham\", \"sausage\", \"salami\", \"jerky\", \"fish\", \"shrimp\", \"crab\", \"lobster\", \"goat\", \"rabbit\", \"venison\", \"kebab\", \"mutton\", \"chorizo\", \"pâté\", \"chicken breast\", \"ground beef\", \"ribs\", \"steak\", \"filet mignon\", \"tenderloin\"],\n",
    "  \"dairy_items\": [\"whole milk\", \"skim milk\", \"cheese\", \"yogurt\", \"greek yogurt\", \"flavored yogurt\", \"unsalted butter\", \"salted butter\", \"ghee\", \"heavy cream\", \"whipping cream\", \"sour cream\", \"crème fraîche\", \"regular ice cream\", \"gelato\", \"soft serve\", \"sweetened condensed milk\", \"evaporated milk\", \"buttermilk\", \"custard\", \"ricotta cheese\", \"chocolate\"],\n",
    "  \"seafood_items\": [\"fish\", \"shrimp\", \"crab\", \"lobster\", \"scallops\", \"clams\", \"mussels\", \"oysters\", \"sardines\", \"anchovies\", \"tuna\", \"salmon\", \"trout\", \"halibut\", \"cod\", \"tilapia\", \"catfish\", \"squid\", \"octopus\", \"crawfish\", \"sea bass\", \"pollock\", \"hake\", \"snapper\", \"rockfish\", \"mackerel\", \"perch\", \"mollusk\", \"crustaceans\"],\n",
    "  \"nuts\": [\"almonds\", \"brazil nuts\", \"cashews\", \"chestnuts\", \"hazelnuts\", \"filberts\", \"macadamia nuts\", \"pecans\", \"pine nuts\", \"pignoli\", \"pistachios\", \"walnuts\", \"peanuts\", \"coconuts\", \"shea nuts\", \"beechnuts\", \"butternuts\", \"chinquapins\", \"ginkgo nuts\", \"hickory nuts\", \"lychee nuts\", \"pili nuts\", \"sassafras nuts\", \"almond milk\", \"cashew milk\"],\n",
    "  \"gluten_items\": [\"bread\", \"pasta\", \"cereal\", \"crackers\", \"beer\", \"seitan\", \"breaded foods\", \"soy sauce\", \"some sauces and dressings\"],\n",
    "  \"soy_foods\": [\"tofu\", \"soy sauce\", \"edamame\", \"tempeh\", \"miso\", \"soy milk\", \"soy nuts\", \"protein bars\"],\n",
    "  \"wheat_foods\": [\"bread\", \"pasta\", \"cereal\", \"cookies\", \"cakes\", \"crackers\", \"beer\", \"bulgur\", \"wheat germ\"],\n",
    "  \"celery\": [\"celery\"],\n",
    "  \"fruit_items\": [\"apples\", \"pears\", \"peaches\", \"cherries\", \"plums\", \"kiwis\", \"bananas\", \"strawberries\", \"raspberries\", \"blueberries\", \"blackberries\", \"citrus fruits\", \"oranges\", \"lemons\", \"limes\", \"grapefruits\", \"mangoes\", \"pineapples\", \"avocados\", \"melons\", \"watermelons\", \"cantaloupes\", \"honeydew melons\", \"figs\", \"papayas\", \"passion fruits\", \"pomegranates\", \"grapes\", \"lychees\", \"nectarines\", \"coconuts\"],\n",
    "  \"preservatives_additives\": [\"sulphur dioxide\", \"sulphites\", \"sodium benzoate\", \"potassium sorbate\", \"nitrites\", \"nitrates\", \"monosodium glutamate (MSG)\"],\n",
    "  \"spices_condiments\": [\"mustard\", \"mustard seeds\", \"mustard powder\", \"prepared mustard\", \"curry powder\", \"paprika\", \"cumin\", \"black pepper\", \"turmeric\", \"garlic powder\", \"onion powder\"]\n",
    "}\n",
    "\n",
    "# Save the updated allergen data as a JSON file\n",
    "with open('allergens.json', 'w') as json_file:\n",
    "    json.dump(allergens, json_file, indent=4)\n",
    "\n",
    "print(\"JSON file 'allergens.json' created successfully!\")\n"
   ]
  },
  {
   "cell_type": "code",
   "execution_count": null,
   "id": "9bae7412",
   "metadata": {},
   "outputs": [],
   "source": []
  }
 ],
 "metadata": {
  "kernelspec": {
   "display_name": "Python 3 (ipykernel)",
   "language": "python",
   "name": "python3"
  },
  "language_info": {
   "codemirror_mode": {
    "name": "ipython",
    "version": 3
   },
   "file_extension": ".py",
   "mimetype": "text/x-python",
   "name": "python",
   "nbconvert_exporter": "python",
   "pygments_lexer": "ipython3",
   "version": "3.9.16"
  }
 },
 "nbformat": 4,
 "nbformat_minor": 5
}
