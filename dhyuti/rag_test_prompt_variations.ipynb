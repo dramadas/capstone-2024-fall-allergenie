{
 "cells": [
  {
   "cell_type": "markdown",
   "id": "J9y86_KPlUm6",
   "metadata": {
    "id": "J9y86_KPlUm6"
   },
   "source": [
    "**Resource:** https://github.com/aws-samples/Meta-Llama-on-AWS/blob/main/RAG-recipes/llama3-rag-langchain-smjs.ipynb"
   ]
  },
  {
   "cell_type": "markdown",
   "id": "lLuKPKGulaE7",
   "metadata": {
    "id": "lLuKPKGulaE7"
   },
   "source": [
    "* Embedding Model Used: *HuggingFace BGE Large EN Embedding model*\n",
    "* LLM Used: *HuggingFace Llama 3 8b Instruct LLM model*"
   ]
  },
  {
   "cell_type": "code",
   "execution_count": 1,
   "id": "7669e00e-f81b-4054-b7c7-dbf208dd3c7a",
   "metadata": {
    "id": "7669e00e-f81b-4054-b7c7-dbf208dd3c7a",
    "outputId": "59d7c039-b20b-4433-c1f5-543dcb6a6ea0"
   },
   "outputs": [
    {
     "name": "stdout",
     "output_type": "stream",
     "text": [
      "Overwriting requirements.txt\n"
     ]
    }
   ],
   "source": [
    "%%writefile requirements.txt\n",
    "langchain==0.1.14\n",
    "pypdf==4.1.0\n",
    "faiss-cpu==1.8.0\n",
    "boto3==1.34.58\n",
    "sqlalchemy==2.0.29"
   ]
  },
  {
   "cell_type": "code",
   "execution_count": 2,
   "id": "ce21f73c-4334-4d0c-9cbd-f9502a44fb96",
   "metadata": {
    "id": "ce21f73c-4334-4d0c-9cbd-f9502a44fb96",
    "outputId": "7b92100a-28dc-418d-c1be-309e9b4b487d"
   },
   "outputs": [
    {
     "name": "stdout",
     "output_type": "stream",
     "text": [
      "2.0.30\n"
     ]
    }
   ],
   "source": [
    "import sqlalchemy\n",
    "print(sqlalchemy.__version__)"
   ]
  },
  {
   "cell_type": "code",
   "execution_count": 3,
   "id": "755e8bfb-b5d7-4f27-9561-ecd91f3397bf",
   "metadata": {
    "id": "755e8bfb-b5d7-4f27-9561-ecd91f3397bf",
    "outputId": "bfbbac69-0c30-4f48-c029-e840b9c9933a"
   },
   "outputs": [
    {
     "name": "stdout",
     "output_type": "stream",
     "text": [
      "Collecting nvidia-ml-py3==7.352.0\n",
      "  Using cached nvidia_ml_py3-7.352.0-py3-none-any.whl\n",
      "Installing collected packages: nvidia-ml-py3\n",
      "\u001b[31mERROR: pip's dependency resolver does not currently take into account all the packages that are installed. This behaviour is the source of the following dependency conflicts.\n",
      "autogluon-multimodal 1.1.1 requires omegaconf<2.3.0,>=2.1.1, but you have omegaconf 2.3.0 which is incompatible.\n",
      "autogluon-multimodal 1.1.1 requires scikit-learn<1.4.1,>=1.3.0, but you have scikit-learn 1.4.2 which is incompatible.\u001b[0m\u001b[31m\n",
      "\u001b[0mSuccessfully installed nvidia-ml-py3-7.352.0\n",
      "Note: you may need to restart the kernel to use updated packages.\n"
     ]
    }
   ],
   "source": [
    "pip install nvidia-ml-py3==7.352.0"
   ]
  },
  {
   "cell_type": "code",
   "execution_count": 4,
   "id": "2fede8f3-4749-47fa-8905-89487c720eb1",
   "metadata": {
    "id": "2fede8f3-4749-47fa-8905-89487c720eb1",
    "outputId": "9e7879a8-277f-46be-9dce-53b03de83d6f"
   },
   "outputs": [
    {
     "name": "stdout",
     "output_type": "stream",
     "text": [
      "Collecting sqlparse==0.5.0\n",
      "  Using cached sqlparse-0.5.0-py3-none-any.whl.metadata (3.9 kB)\n",
      "Using cached sqlparse-0.5.0-py3-none-any.whl (43 kB)\n",
      "Installing collected packages: sqlparse\n",
      "  Attempting uninstall: sqlparse\n",
      "    Found existing installation: sqlparse 0.5.1\n",
      "    Uninstalling sqlparse-0.5.1:\n",
      "      Successfully uninstalled sqlparse-0.5.1\n",
      "Successfully installed sqlparse-0.5.0\n",
      "Note: you may need to restart the kernel to use updated packages.\n"
     ]
    }
   ],
   "source": [
    "pip install sqlparse==0.5.0"
   ]
  },
  {
   "cell_type": "code",
   "execution_count": 5,
   "id": "381349fb-f83e-4d62-b00b-0404204fb4ff",
   "metadata": {
    "id": "381349fb-f83e-4d62-b00b-0404204fb4ff",
    "outputId": "e8b912b4-4c64-40cc-e374-9e072b9ba61d"
   },
   "outputs": [
    {
     "name": "stdout",
     "output_type": "stream",
     "text": [
      "Collecting scikit-learn==1.3.0\n",
      "  Using cached scikit_learn-1.3.0-cp311-cp311-manylinux_2_17_x86_64.manylinux2014_x86_64.whl.metadata (11 kB)\n",
      "Requirement already satisfied: numpy>=1.17.3 in /opt/conda/lib/python3.11/site-packages (from scikit-learn==1.3.0) (1.26.4)\n",
      "Requirement already satisfied: scipy>=1.5.0 in /opt/conda/lib/python3.11/site-packages (from scikit-learn==1.3.0) (1.12.0)\n",
      "Requirement already satisfied: joblib>=1.1.1 in /opt/conda/lib/python3.11/site-packages (from scikit-learn==1.3.0) (1.4.2)\n",
      "Requirement already satisfied: threadpoolctl>=2.0.0 in /opt/conda/lib/python3.11/site-packages (from scikit-learn==1.3.0) (3.5.0)\n",
      "Using cached scikit_learn-1.3.0-cp311-cp311-manylinux_2_17_x86_64.manylinux2014_x86_64.whl (10.9 MB)\n",
      "Installing collected packages: scikit-learn\n",
      "  Attempting uninstall: scikit-learn\n",
      "    Found existing installation: scikit-learn 1.4.2\n",
      "    Uninstalling scikit-learn-1.4.2:\n",
      "      Successfully uninstalled scikit-learn-1.4.2\n",
      "\u001b[31mERROR: pip's dependency resolver does not currently take into account all the packages that are installed. This behaviour is the source of the following dependency conflicts.\n",
      "autogluon-multimodal 1.1.1 requires omegaconf<2.3.0,>=2.1.1, but you have omegaconf 2.3.0 which is incompatible.\n",
      "autogluon-timeseries 1.1.1 requires gluonts==0.15.1, but you have gluonts 0.14.3 which is incompatible.\u001b[0m\u001b[31m\n",
      "\u001b[0mSuccessfully installed scikit-learn-1.3.0\n",
      "Note: you may need to restart the kernel to use updated packages.\n"
     ]
    }
   ],
   "source": [
    "pip install scikit-learn==1.3.0"
   ]
  },
  {
   "cell_type": "code",
   "execution_count": 6,
   "id": "28ecaeec-934a-44e5-909c-fa3606b3f97e",
   "metadata": {
    "id": "28ecaeec-934a-44e5-909c-fa3606b3f97e",
    "outputId": "cc86bc94-9377-453d-b212-e5c6ba186497"
   },
   "outputs": [
    {
     "name": "stdout",
     "output_type": "stream",
     "text": [
      "Collecting omegaconf==2.2.3\n",
      "  Using cached omegaconf-2.2.3-py3-none-any.whl.metadata (3.9 kB)\n",
      "Requirement already satisfied: antlr4-python3-runtime==4.9.* in /opt/conda/lib/python3.11/site-packages (from omegaconf==2.2.3) (4.9.3)\n",
      "Requirement already satisfied: PyYAML>=5.1.0 in /opt/conda/lib/python3.11/site-packages (from omegaconf==2.2.3) (6.0.2)\n",
      "Using cached omegaconf-2.2.3-py3-none-any.whl (79 kB)\n",
      "Installing collected packages: omegaconf\n",
      "  Attempting uninstall: omegaconf\n",
      "    Found existing installation: omegaconf 2.3.0\n",
      "    Uninstalling omegaconf-2.3.0:\n",
      "      Successfully uninstalled omegaconf-2.3.0\n",
      "Successfully installed omegaconf-2.2.3\n",
      "Note: you may need to restart the kernel to use updated packages.\n"
     ]
    }
   ],
   "source": [
    "pip install omegaconf==2.2.3"
   ]
  },
  {
   "cell_type": "code",
   "execution_count": 7,
   "id": "58c5f5d9-6e4c-4652-896f-0620fe868df9",
   "metadata": {
    "id": "58c5f5d9-6e4c-4652-896f-0620fe868df9",
    "outputId": "b22f02ab-ba73-49ad-c3d8-2ffeb37067a4"
   },
   "outputs": [
    {
     "name": "stdout",
     "output_type": "stream",
     "text": [
      "Collecting gluonts==0.15.1\n",
      "  Using cached gluonts-0.15.1-py3-none-any.whl.metadata (9.9 kB)\n",
      "Requirement already satisfied: numpy~=1.16 in /opt/conda/lib/python3.11/site-packages (from gluonts==0.15.1) (1.26.4)\n",
      "Requirement already satisfied: pandas<3,>=1.0 in /opt/conda/lib/python3.11/site-packages (from gluonts==0.15.1) (2.2.2)\n",
      "Requirement already satisfied: pydantic<3,>=1.7 in /opt/conda/lib/python3.11/site-packages (from gluonts==0.15.1) (1.10.17)\n",
      "Requirement already satisfied: tqdm~=4.23 in /opt/conda/lib/python3.11/site-packages (from gluonts==0.15.1) (4.66.5)\n",
      "Requirement already satisfied: toolz~=0.10 in /opt/conda/lib/python3.11/site-packages (from gluonts==0.15.1) (0.12.1)\n",
      "Requirement already satisfied: typing-extensions~=4.0 in /opt/conda/lib/python3.11/site-packages (from gluonts==0.15.1) (4.12.2)\n",
      "Requirement already satisfied: python-dateutil>=2.8.2 in /opt/conda/lib/python3.11/site-packages (from pandas<3,>=1.0->gluonts==0.15.1) (2.9.0)\n",
      "Requirement already satisfied: pytz>=2020.1 in /opt/conda/lib/python3.11/site-packages (from pandas<3,>=1.0->gluonts==0.15.1) (2023.3)\n",
      "Requirement already satisfied: tzdata>=2022.7 in /opt/conda/lib/python3.11/site-packages (from pandas<3,>=1.0->gluonts==0.15.1) (2024.1)\n",
      "Requirement already satisfied: six>=1.5 in /opt/conda/lib/python3.11/site-packages (from python-dateutil>=2.8.2->pandas<3,>=1.0->gluonts==0.15.1) (1.16.0)\n",
      "Using cached gluonts-0.15.1-py3-none-any.whl (1.5 MB)\n",
      "Installing collected packages: gluonts\n",
      "  Attempting uninstall: gluonts\n",
      "    Found existing installation: gluonts 0.14.3\n",
      "    Uninstalling gluonts-0.14.3:\n",
      "      Successfully uninstalled gluonts-0.14.3\n",
      "Successfully installed gluonts-0.15.1\n",
      "Note: you may need to restart the kernel to use updated packages.\n"
     ]
    }
   ],
   "source": [
    "pip install gluonts==0.15.1"
   ]
  },
  {
   "cell_type": "code",
   "execution_count": 8,
   "id": "5101aaa5-ca70-4840-b647-133cf2bd3274",
   "metadata": {
    "id": "5101aaa5-ca70-4840-b647-133cf2bd3274",
    "outputId": "e22cf26a-e7cd-4b57-e6a7-d6ee4f8e9d91"
   },
   "outputs": [
    {
     "name": "stdout",
     "output_type": "stream",
     "text": [
      "Collecting langchain==0.1.14\n",
      "  Using cached langchain-0.1.14-py3-none-any.whl.metadata (13 kB)\n",
      "Requirement already satisfied: PyYAML>=5.3 in /opt/conda/lib/python3.11/site-packages (from langchain==0.1.14) (6.0.2)\n",
      "Requirement already satisfied: SQLAlchemy<3,>=1.4 in /opt/conda/lib/python3.11/site-packages (from langchain==0.1.14) (2.0.30)\n",
      "Requirement already satisfied: aiohttp<4.0.0,>=3.8.3 in /opt/conda/lib/python3.11/site-packages (from langchain==0.1.14) (3.9.5)\n",
      "Requirement already satisfied: dataclasses-json<0.7,>=0.5.7 in /opt/conda/lib/python3.11/site-packages (from langchain==0.1.14) (0.6.7)\n",
      "Requirement already satisfied: jsonpatch<2.0,>=1.33 in /opt/conda/lib/python3.11/site-packages (from langchain==0.1.14) (1.33)\n",
      "Collecting langchain-community<0.1,>=0.0.30 (from langchain==0.1.14)\n",
      "  Using cached langchain_community-0.0.38-py3-none-any.whl.metadata (8.7 kB)\n",
      "Collecting langchain-core<0.2.0,>=0.1.37 (from langchain==0.1.14)\n",
      "  Using cached langchain_core-0.1.52-py3-none-any.whl.metadata (5.9 kB)\n",
      "Collecting langchain-text-splitters<0.1,>=0.0.1 (from langchain==0.1.14)\n",
      "  Using cached langchain_text_splitters-0.0.2-py3-none-any.whl.metadata (2.2 kB)\n",
      "Requirement already satisfied: langsmith<0.2.0,>=0.1.17 in /opt/conda/lib/python3.11/site-packages (from langchain==0.1.14) (0.1.99)\n",
      "Requirement already satisfied: numpy<2,>=1 in /opt/conda/lib/python3.11/site-packages (from langchain==0.1.14) (1.26.4)\n",
      "Requirement already satisfied: pydantic<3,>=1 in /opt/conda/lib/python3.11/site-packages (from langchain==0.1.14) (1.10.17)\n",
      "Requirement already satisfied: requests<3,>=2 in /opt/conda/lib/python3.11/site-packages (from langchain==0.1.14) (2.32.3)\n",
      "Requirement already satisfied: tenacity<9.0.0,>=8.1.0 in /opt/conda/lib/python3.11/site-packages (from langchain==0.1.14) (8.5.0)\n",
      "Requirement already satisfied: aiosignal>=1.1.2 in /opt/conda/lib/python3.11/site-packages (from aiohttp<4.0.0,>=3.8.3->langchain==0.1.14) (1.3.1)\n",
      "Requirement already satisfied: attrs>=17.3.0 in /opt/conda/lib/python3.11/site-packages (from aiohttp<4.0.0,>=3.8.3->langchain==0.1.14) (23.2.0)\n",
      "Requirement already satisfied: frozenlist>=1.1.1 in /opt/conda/lib/python3.11/site-packages (from aiohttp<4.0.0,>=3.8.3->langchain==0.1.14) (1.4.1)\n",
      "Requirement already satisfied: multidict<7.0,>=4.5 in /opt/conda/lib/python3.11/site-packages (from aiohttp<4.0.0,>=3.8.3->langchain==0.1.14) (6.0.5)\n",
      "Requirement already satisfied: yarl<2.0,>=1.0 in /opt/conda/lib/python3.11/site-packages (from aiohttp<4.0.0,>=3.8.3->langchain==0.1.14) (1.9.4)\n",
      "Requirement already satisfied: marshmallow<4.0.0,>=3.18.0 in /opt/conda/lib/python3.11/site-packages (from dataclasses-json<0.7,>=0.5.7->langchain==0.1.14) (3.21.3)\n",
      "Requirement already satisfied: typing-inspect<1,>=0.4.0 in /opt/conda/lib/python3.11/site-packages (from dataclasses-json<0.7,>=0.5.7->langchain==0.1.14) (0.9.0)\n",
      "Requirement already satisfied: jsonpointer>=1.9 in /opt/conda/lib/python3.11/site-packages (from jsonpatch<2.0,>=1.33->langchain==0.1.14) (3.0.0)\n",
      "Collecting packaging<24.0,>=23.2 (from langchain-core<0.2.0,>=0.1.37->langchain==0.1.14)\n",
      "  Using cached packaging-23.2-py3-none-any.whl.metadata (3.2 kB)\n",
      "Requirement already satisfied: orjson<4.0.0,>=3.9.14 in /opt/conda/lib/python3.11/site-packages (from langsmith<0.2.0,>=0.1.17->langchain==0.1.14) (3.10.7)\n",
      "Requirement already satisfied: typing-extensions>=4.2.0 in /opt/conda/lib/python3.11/site-packages (from pydantic<3,>=1->langchain==0.1.14) (4.12.2)\n",
      "Requirement already satisfied: charset-normalizer<4,>=2 in /opt/conda/lib/python3.11/site-packages (from requests<3,>=2->langchain==0.1.14) (3.3.2)\n",
      "Requirement already satisfied: idna<4,>=2.5 in /opt/conda/lib/python3.11/site-packages (from requests<3,>=2->langchain==0.1.14) (3.7)\n",
      "Requirement already satisfied: urllib3<3,>=1.21.1 in /opt/conda/lib/python3.11/site-packages (from requests<3,>=2->langchain==0.1.14) (1.26.19)\n",
      "Requirement already satisfied: certifi>=2017.4.17 in /opt/conda/lib/python3.11/site-packages (from requests<3,>=2->langchain==0.1.14) (2024.7.4)\n",
      "Requirement already satisfied: greenlet!=0.4.17 in /opt/conda/lib/python3.11/site-packages (from SQLAlchemy<3,>=1.4->langchain==0.1.14) (3.0.3)\n",
      "Requirement already satisfied: mypy-extensions>=0.3.0 in /opt/conda/lib/python3.11/site-packages (from typing-inspect<1,>=0.4.0->dataclasses-json<0.7,>=0.5.7->langchain==0.1.14) (1.0.0)\n",
      "Using cached langchain-0.1.14-py3-none-any.whl (812 kB)\n",
      "Using cached langchain_community-0.0.38-py3-none-any.whl (2.0 MB)\n",
      "Using cached langchain_core-0.1.52-py3-none-any.whl (302 kB)\n",
      "Using cached langchain_text_splitters-0.0.2-py3-none-any.whl (23 kB)\n",
      "Using cached packaging-23.2-py3-none-any.whl (53 kB)\n",
      "Installing collected packages: packaging, langchain-core, langchain-text-splitters, langchain-community, langchain\n",
      "  Attempting uninstall: packaging\n",
      "    Found existing installation: packaging 24.1\n",
      "    Uninstalling packaging-24.1:\n",
      "      Successfully uninstalled packaging-24.1\n",
      "  Attempting uninstall: langchain-core\n",
      "    Found existing installation: langchain-core 0.2.33\n",
      "    Uninstalling langchain-core-0.2.33:\n",
      "      Successfully uninstalled langchain-core-0.2.33\n",
      "  Attempting uninstall: langchain-text-splitters\n",
      "    Found existing installation: langchain-text-splitters 0.2.2\n",
      "    Uninstalling langchain-text-splitters-0.2.2:\n",
      "      Successfully uninstalled langchain-text-splitters-0.2.2\n",
      "  Attempting uninstall: langchain-community\n",
      "    Found existing installation: langchain-community 0.2.12\n",
      "    Uninstalling langchain-community-0.2.12:\n",
      "      Successfully uninstalled langchain-community-0.2.12\n",
      "  Attempting uninstall: langchain\n",
      "    Found existing installation: langchain 0.2.5\n",
      "    Uninstalling langchain-0.2.5:\n",
      "      Successfully uninstalled langchain-0.2.5\n",
      "\u001b[31mERROR: pip's dependency resolver does not currently take into account all the packages that are installed. This behaviour is the source of the following dependency conflicts.\n",
      "jupyter-ai 2.20.0 requires faiss-cpu<=1.8.0, which is not installed.\n",
      "jupyter-ai-magics 2.20.0 requires langchain-community<0.3.0,>=0.1.0, but you have langchain-community 0.0.38 which is incompatible.\n",
      "langchain-aws 0.1.16 requires langchain-core<0.3,>=0.2.29, but you have langchain-core 0.1.52 which is incompatible.\n",
      "sagemaker 2.227.0 requires boto3<2.0,>=1.34.142, but you have boto3 1.34.131 which is incompatible.\n",
      "sparkmagic 0.21.0 requires pandas<2.0.0,>=0.17.1, but you have pandas 2.2.2 which is incompatible.\u001b[0m\u001b[31m\n",
      "\u001b[0mSuccessfully installed langchain-0.1.14 langchain-community-0.0.38 langchain-core-0.1.52 langchain-text-splitters-0.0.2 packaging-23.2\n",
      "Note: you may need to restart the kernel to use updated packages.\n"
     ]
    }
   ],
   "source": [
    "pip install langchain==0.1.14"
   ]
  },
  {
   "cell_type": "code",
   "execution_count": 9,
   "id": "83c3eb82-3e37-4f43-bb7e-88d5bec7f434",
   "metadata": {
    "id": "83c3eb82-3e37-4f43-bb7e-88d5bec7f434",
    "outputId": "72386820-87ec-4499-fb8c-6741bfa83559"
   },
   "outputs": [
    {
     "name": "stdout",
     "output_type": "stream",
     "text": [
      "Collecting boto3==1.34.58\n",
      "  Using cached boto3-1.34.58-py3-none-any.whl.metadata (6.6 kB)\n",
      "Requirement already satisfied: botocore<1.35.0,>=1.34.58 in /opt/conda/lib/python3.11/site-packages (from boto3==1.34.58) (1.34.131)\n",
      "Requirement already satisfied: jmespath<2.0.0,>=0.7.1 in /opt/conda/lib/python3.11/site-packages (from boto3==1.34.58) (1.0.1)\n",
      "Requirement already satisfied: s3transfer<0.11.0,>=0.10.0 in /opt/conda/lib/python3.11/site-packages (from boto3==1.34.58) (0.10.2)\n",
      "Requirement already satisfied: python-dateutil<3.0.0,>=2.1 in /opt/conda/lib/python3.11/site-packages (from botocore<1.35.0,>=1.34.58->boto3==1.34.58) (2.9.0)\n",
      "Requirement already satisfied: urllib3!=2.2.0,<3,>=1.25.4 in /opt/conda/lib/python3.11/site-packages (from botocore<1.35.0,>=1.34.58->boto3==1.34.58) (1.26.19)\n",
      "Requirement already satisfied: six>=1.5 in /opt/conda/lib/python3.11/site-packages (from python-dateutil<3.0.0,>=2.1->botocore<1.35.0,>=1.34.58->boto3==1.34.58) (1.16.0)\n",
      "Using cached boto3-1.34.58-py3-none-any.whl (139 kB)\n",
      "Installing collected packages: boto3\n",
      "  Attempting uninstall: boto3\n",
      "    Found existing installation: boto3 1.34.131\n",
      "    Uninstalling boto3-1.34.131:\n",
      "      Successfully uninstalled boto3-1.34.131\n",
      "\u001b[31mERROR: pip's dependency resolver does not currently take into account all the packages that are installed. This behaviour is the source of the following dependency conflicts.\n",
      "langchain-aws 0.1.16 requires boto3<1.35.0,>=1.34.131, but you have boto3 1.34.58 which is incompatible.\n",
      "langchain-aws 0.1.16 requires langchain-core<0.3,>=0.2.29, but you have langchain-core 0.1.52 which is incompatible.\n",
      "sagemaker 2.227.0 requires boto3<2.0,>=1.34.142, but you have boto3 1.34.58 which is incompatible.\u001b[0m\u001b[31m\n",
      "\u001b[0mSuccessfully installed boto3-1.34.58\n",
      "Note: you may need to restart the kernel to use updated packages.\n"
     ]
    }
   ],
   "source": [
    "pip install boto3==1.34.58"
   ]
  },
  {
   "cell_type": "code",
   "execution_count": 10,
   "id": "f2db44b7-8505-42eb-86bb-3abac2b1b1db",
   "metadata": {
    "id": "f2db44b7-8505-42eb-86bb-3abac2b1b1db",
    "outputId": "a652d5bf-9732-4125-ccae-0de6164e0d0a"
   },
   "outputs": [
    {
     "name": "stdout",
     "output_type": "stream",
     "text": [
      "Requirement already satisfied: langchain==0.1.14 in /opt/conda/lib/python3.11/site-packages (from -r requirements.txt (line 1)) (0.1.14)\n",
      "Collecting pypdf==4.1.0 (from -r requirements.txt (line 2))\n",
      "  Using cached pypdf-4.1.0-py3-none-any.whl.metadata (7.4 kB)\n",
      "Collecting faiss-cpu==1.8.0 (from -r requirements.txt (line 3))\n",
      "  Using cached faiss_cpu-1.8.0-cp311-cp311-manylinux_2_17_x86_64.manylinux2014_x86_64.whl.metadata (3.6 kB)\n",
      "Requirement already satisfied: boto3==1.34.58 in /opt/conda/lib/python3.11/site-packages (from -r requirements.txt (line 4)) (1.34.58)\n",
      "Collecting sqlalchemy==2.0.29 (from -r requirements.txt (line 5))\n",
      "  Using cached SQLAlchemy-2.0.29-cp311-cp311-manylinux_2_17_x86_64.manylinux2014_x86_64.whl.metadata (9.6 kB)\n",
      "Requirement already satisfied: PyYAML>=5.3 in /opt/conda/lib/python3.11/site-packages (from langchain==0.1.14->-r requirements.txt (line 1)) (6.0.2)\n",
      "Requirement already satisfied: aiohttp<4.0.0,>=3.8.3 in /opt/conda/lib/python3.11/site-packages (from langchain==0.1.14->-r requirements.txt (line 1)) (3.9.5)\n",
      "Requirement already satisfied: dataclasses-json<0.7,>=0.5.7 in /opt/conda/lib/python3.11/site-packages (from langchain==0.1.14->-r requirements.txt (line 1)) (0.6.7)\n",
      "Requirement already satisfied: jsonpatch<2.0,>=1.33 in /opt/conda/lib/python3.11/site-packages (from langchain==0.1.14->-r requirements.txt (line 1)) (1.33)\n",
      "Requirement already satisfied: langchain-community<0.1,>=0.0.30 in /opt/conda/lib/python3.11/site-packages (from langchain==0.1.14->-r requirements.txt (line 1)) (0.0.38)\n",
      "Requirement already satisfied: langchain-core<0.2.0,>=0.1.37 in /opt/conda/lib/python3.11/site-packages (from langchain==0.1.14->-r requirements.txt (line 1)) (0.1.52)\n",
      "Requirement already satisfied: langchain-text-splitters<0.1,>=0.0.1 in /opt/conda/lib/python3.11/site-packages (from langchain==0.1.14->-r requirements.txt (line 1)) (0.0.2)\n",
      "Requirement already satisfied: langsmith<0.2.0,>=0.1.17 in /opt/conda/lib/python3.11/site-packages (from langchain==0.1.14->-r requirements.txt (line 1)) (0.1.99)\n",
      "Requirement already satisfied: numpy<2,>=1 in /opt/conda/lib/python3.11/site-packages (from langchain==0.1.14->-r requirements.txt (line 1)) (1.26.4)\n",
      "Requirement already satisfied: pydantic<3,>=1 in /opt/conda/lib/python3.11/site-packages (from langchain==0.1.14->-r requirements.txt (line 1)) (1.10.17)\n",
      "Requirement already satisfied: requests<3,>=2 in /opt/conda/lib/python3.11/site-packages (from langchain==0.1.14->-r requirements.txt (line 1)) (2.32.3)\n",
      "Requirement already satisfied: tenacity<9.0.0,>=8.1.0 in /opt/conda/lib/python3.11/site-packages (from langchain==0.1.14->-r requirements.txt (line 1)) (8.5.0)\n",
      "Requirement already satisfied: botocore<1.35.0,>=1.34.58 in /opt/conda/lib/python3.11/site-packages (from boto3==1.34.58->-r requirements.txt (line 4)) (1.34.131)\n",
      "Requirement already satisfied: jmespath<2.0.0,>=0.7.1 in /opt/conda/lib/python3.11/site-packages (from boto3==1.34.58->-r requirements.txt (line 4)) (1.0.1)\n",
      "Requirement already satisfied: s3transfer<0.11.0,>=0.10.0 in /opt/conda/lib/python3.11/site-packages (from boto3==1.34.58->-r requirements.txt (line 4)) (0.10.2)\n",
      "Requirement already satisfied: typing-extensions>=4.6.0 in /opt/conda/lib/python3.11/site-packages (from sqlalchemy==2.0.29->-r requirements.txt (line 5)) (4.12.2)\n",
      "Requirement already satisfied: greenlet!=0.4.17 in /opt/conda/lib/python3.11/site-packages (from sqlalchemy==2.0.29->-r requirements.txt (line 5)) (3.0.3)\n",
      "Requirement already satisfied: aiosignal>=1.1.2 in /opt/conda/lib/python3.11/site-packages (from aiohttp<4.0.0,>=3.8.3->langchain==0.1.14->-r requirements.txt (line 1)) (1.3.1)\n",
      "Requirement already satisfied: attrs>=17.3.0 in /opt/conda/lib/python3.11/site-packages (from aiohttp<4.0.0,>=3.8.3->langchain==0.1.14->-r requirements.txt (line 1)) (23.2.0)\n",
      "Requirement already satisfied: frozenlist>=1.1.1 in /opt/conda/lib/python3.11/site-packages (from aiohttp<4.0.0,>=3.8.3->langchain==0.1.14->-r requirements.txt (line 1)) (1.4.1)\n",
      "Requirement already satisfied: multidict<7.0,>=4.5 in /opt/conda/lib/python3.11/site-packages (from aiohttp<4.0.0,>=3.8.3->langchain==0.1.14->-r requirements.txt (line 1)) (6.0.5)\n",
      "Requirement already satisfied: yarl<2.0,>=1.0 in /opt/conda/lib/python3.11/site-packages (from aiohttp<4.0.0,>=3.8.3->langchain==0.1.14->-r requirements.txt (line 1)) (1.9.4)\n",
      "Requirement already satisfied: python-dateutil<3.0.0,>=2.1 in /opt/conda/lib/python3.11/site-packages (from botocore<1.35.0,>=1.34.58->boto3==1.34.58->-r requirements.txt (line 4)) (2.9.0)\n",
      "Requirement already satisfied: urllib3!=2.2.0,<3,>=1.25.4 in /opt/conda/lib/python3.11/site-packages (from botocore<1.35.0,>=1.34.58->boto3==1.34.58->-r requirements.txt (line 4)) (1.26.19)\n",
      "Requirement already satisfied: marshmallow<4.0.0,>=3.18.0 in /opt/conda/lib/python3.11/site-packages (from dataclasses-json<0.7,>=0.5.7->langchain==0.1.14->-r requirements.txt (line 1)) (3.21.3)\n",
      "Requirement already satisfied: typing-inspect<1,>=0.4.0 in /opt/conda/lib/python3.11/site-packages (from dataclasses-json<0.7,>=0.5.7->langchain==0.1.14->-r requirements.txt (line 1)) (0.9.0)\n",
      "Requirement already satisfied: jsonpointer>=1.9 in /opt/conda/lib/python3.11/site-packages (from jsonpatch<2.0,>=1.33->langchain==0.1.14->-r requirements.txt (line 1)) (3.0.0)\n",
      "Requirement already satisfied: packaging<24.0,>=23.2 in /opt/conda/lib/python3.11/site-packages (from langchain-core<0.2.0,>=0.1.37->langchain==0.1.14->-r requirements.txt (line 1)) (23.2)\n",
      "Requirement already satisfied: orjson<4.0.0,>=3.9.14 in /opt/conda/lib/python3.11/site-packages (from langsmith<0.2.0,>=0.1.17->langchain==0.1.14->-r requirements.txt (line 1)) (3.10.7)\n",
      "Requirement already satisfied: charset-normalizer<4,>=2 in /opt/conda/lib/python3.11/site-packages (from requests<3,>=2->langchain==0.1.14->-r requirements.txt (line 1)) (3.3.2)\n",
      "Requirement already satisfied: idna<4,>=2.5 in /opt/conda/lib/python3.11/site-packages (from requests<3,>=2->langchain==0.1.14->-r requirements.txt (line 1)) (3.7)\n",
      "Requirement already satisfied: certifi>=2017.4.17 in /opt/conda/lib/python3.11/site-packages (from requests<3,>=2->langchain==0.1.14->-r requirements.txt (line 1)) (2024.7.4)\n",
      "Requirement already satisfied: six>=1.5 in /opt/conda/lib/python3.11/site-packages (from python-dateutil<3.0.0,>=2.1->botocore<1.35.0,>=1.34.58->boto3==1.34.58->-r requirements.txt (line 4)) (1.16.0)\n",
      "Requirement already satisfied: mypy-extensions>=0.3.0 in /opt/conda/lib/python3.11/site-packages (from typing-inspect<1,>=0.4.0->dataclasses-json<0.7,>=0.5.7->langchain==0.1.14->-r requirements.txt (line 1)) (1.0.0)\n",
      "Using cached pypdf-4.1.0-py3-none-any.whl (286 kB)\n",
      "Using cached faiss_cpu-1.8.0-cp311-cp311-manylinux_2_17_x86_64.manylinux2014_x86_64.whl (27.0 MB)\n",
      "Using cached SQLAlchemy-2.0.29-cp311-cp311-manylinux_2_17_x86_64.manylinux2014_x86_64.whl (3.2 MB)\n",
      "Installing collected packages: sqlalchemy, pypdf, faiss-cpu\n",
      "  Attempting uninstall: sqlalchemy\n",
      "    Found existing installation: SQLAlchemy 2.0.30\n",
      "    Uninstalling SQLAlchemy-2.0.30:\n",
      "      Successfully uninstalled SQLAlchemy-2.0.30\n",
      "Successfully installed faiss-cpu-1.8.0 pypdf-4.1.0 sqlalchemy-2.0.32\n"
     ]
    }
   ],
   "source": [
    "!pip install -U -r requirements.txt"
   ]
  },
  {
   "cell_type": "code",
   "execution_count": 11,
   "id": "16247b8a-3f04-443e-b7dc-5a8a2e704e1c",
   "metadata": {
    "id": "16247b8a-3f04-443e-b7dc-5a8a2e704e1c",
    "outputId": "d251dd20-bd45-4caf-8cbc-7d233ae7bd28"
   },
   "outputs": [
    {
     "name": "stdout",
     "output_type": "stream",
     "text": [
      "0.1.14\n"
     ]
    }
   ],
   "source": [
    "import langchain\n",
    "print(langchain.__version__)"
   ]
  },
  {
   "cell_type": "code",
   "execution_count": 12,
   "id": "f416f576-9ac1-4a01-8dbf-bd6ed15c4565",
   "metadata": {
    "id": "f416f576-9ac1-4a01-8dbf-bd6ed15c4565",
    "outputId": "a768f761-5962-47e1-9da6-bffb4a305156"
   },
   "outputs": [
    {
     "name": "stdout",
     "output_type": "stream",
     "text": [
      "sagemaker.config INFO - Not applying SDK defaults from location: /etc/xdg/sagemaker/config.yaml\n",
      "sagemaker.config INFO - Not applying SDK defaults from location: /home/sagemaker-user/.config/sagemaker/config.yaml\n"
     ]
    }
   ],
   "source": [
    "try:\n",
    "    import sagemaker\n",
    "except ImportError:\n",
    "    !pip install sagemaker"
   ]
  },
  {
   "cell_type": "code",
   "execution_count": 13,
   "id": "8e421940-275f-4e09-ae23-7c384265ff36",
   "metadata": {
    "id": "8e421940-275f-4e09-ae23-7c384265ff36"
   },
   "outputs": [],
   "source": [
    "# Import the JumpStartModel class from the SageMaker JumpStart library\n",
    "from sagemaker.jumpstart.model import JumpStartModel"
   ]
  },
  {
   "cell_type": "code",
   "execution_count": 14,
   "id": "2bed3f89-4c20-452e-b13d-37aa6baa6b7a",
   "metadata": {
    "id": "2bed3f89-4c20-452e-b13d-37aa6baa6b7a"
   },
   "outputs": [],
   "source": [
    "# Specify the model ID for the HuggingFace Llama 3 8b Instruct LLM model\n",
    "model_id = \"meta-textgeneration-llama-3-8b-instruct\"\n",
    "accept_eula = True\n",
    "model = JumpStartModel(model_id=model_id, model_version=\"2.7.0\", instance_type= \"ml.g5.2xlarge\")"
   ]
  },
  {
   "cell_type": "code",
   "execution_count": 15,
   "id": "55a2761b-6f4e-4b43-950f-b5484f56a59f",
   "metadata": {
    "id": "55a2761b-6f4e-4b43-950f-b5484f56a59f",
    "outputId": "70e69864-9974-484b-8799-745970b88ead",
    "scrolled": true
   },
   "outputs": [
    {
     "name": "stdout",
     "output_type": "stream",
     "text": [
      "------------------!"
     ]
    }
   ],
   "source": [
    "predictor = model.deploy(accept_eula=accept_eula, instance_type=\"ml.g5.2xlarge\")"
   ]
  },
  {
   "cell_type": "code",
   "execution_count": 16,
   "id": "ee556c54-018e-4229-8ce5-df3f50a39932",
   "metadata": {
    "id": "ee556c54-018e-4229-8ce5-df3f50a39932"
   },
   "outputs": [],
   "source": [
    "# Specify the model ID for the HuggingFace BGE Large EN Embedding model\n",
    "model_id = \"huggingface-sentencesimilarity-bge-large-en-v1-5\"\n",
    "text_embedding_model = JumpStartModel(model_id=model_id,model_version=\"1.1.1\")"
   ]
  },
  {
   "cell_type": "code",
   "execution_count": 17,
   "id": "915c0d77-6a33-4fd5-9172-3a51a82e02fb",
   "metadata": {
    "id": "915c0d77-6a33-4fd5-9172-3a51a82e02fb",
    "outputId": "9622b492-167f-4ba5-8cfb-35fefc016b6c"
   },
   "outputs": [
    {
     "name": "stdout",
     "output_type": "stream",
     "text": [
      "-----------!"
     ]
    }
   ],
   "source": [
    "embedding_predictor = text_embedding_model.deploy(instance_type=\"ml.g5.2xlarge\")"
   ]
  },
  {
   "cell_type": "code",
   "execution_count": 18,
   "id": "1e88bc85-bd59-4dd5-b901-7b5bddd89563",
   "metadata": {
    "id": "1e88bc85-bd59-4dd5-b901-7b5bddd89563"
   },
   "outputs": [],
   "source": [
    "import json\n",
    "import sagemaker\n",
    "\n",
    "from langchain_core.prompts import PromptTemplate\n",
    "from langchain_community.llms import SagemakerEndpoint\n",
    "from langchain_community.embeddings import SagemakerEndpointEmbeddings\n",
    "from langchain_community.llms.sagemaker_endpoint import LLMContentHandler\n",
    "from langchain_community.embeddings.sagemaker_endpoint import EmbeddingsContentHandler"
   ]
  },
  {
   "cell_type": "code",
   "execution_count": 19,
   "id": "341ccad9-043e-428f-b1b3-5c2bbfb49626",
   "metadata": {
    "id": "341ccad9-043e-428f-b1b3-5c2bbfb49626"
   },
   "outputs": [],
   "source": [
    "sess = sagemaker.session.Session()\n",
    "region = sess._region_name"
   ]
  },
  {
   "cell_type": "code",
   "execution_count": 20,
   "id": "ce1fcce5-c95f-40c4-894a-9ff8ebcd3c65",
   "metadata": {
    "id": "ce1fcce5-c95f-40c4-894a-9ff8ebcd3c65"
   },
   "outputs": [],
   "source": [
    "llm_endpoint_name = \"meta-textgeneration-llama-3-8b-instruct-2024-10-24-03-58-46-991\"\n",
    "embedding_endpoint_name = \"hf-sentencesimilarity-bge-large-en-v1-5-2024-10-24-04-08-20-205\""
   ]
  },
  {
   "cell_type": "code",
   "execution_count": 21,
   "id": "856dcb89-e51e-4f56-8656-44c42e85e05a",
   "metadata": {
    "id": "856dcb89-e51e-4f56-8656-44c42e85e05a"
   },
   "outputs": [],
   "source": [
    "# testing out my endpoint\n",
    "import boto3\n",
    "runtime_client = boto3.client('sagemaker-runtime', region_name=region)\n",
    "\n",
    "input_prompt = {\n",
    "    \"inputs\": \"Where is the capital of China?\"\n",
    "}\n",
    "\n",
    "response = runtime_client.invoke_endpoint(\n",
    "    EndpointName=llm_endpoint_name,\n",
    "    ContentType='application/json',\n",
    "    Body=json.dumps(input_prompt)\n",
    ")"
   ]
  },
  {
   "cell_type": "code",
   "execution_count": 22,
   "id": "21340eea-6cc9-47e5-a489-8f1192d648d6",
   "metadata": {
    "id": "21340eea-6cc9-47e5-a489-8f1192d648d6",
    "outputId": "c11d8522-eab9-4673-e096-af6e6dd2010b"
   },
   "outputs": [
    {
     "name": "stdout",
     "output_type": "stream",
     "text": [
      "LLM Response: {'generated_text': ' The capital of China is Beijing. Beijing is located in the northern part of the country and is the second most populous city in China, with a population'}\n"
     ]
    }
   ],
   "source": [
    "# read and print the output\n",
    "output = json.loads(response['Body'].read().decode())\n",
    "print(\"LLM Response:\", output)"
   ]
  },
  {
   "cell_type": "code",
   "execution_count": 23,
   "id": "1d16164e-6a20-420f-b36a-f4a80b8856bf",
   "metadata": {
    "id": "1d16164e-6a20-420f-b36a-f4a80b8856bf"
   },
   "outputs": [],
   "source": [
    "from typing import Dict\n",
    "\n",
    "class Llama38BContentHandler(LLMContentHandler):\n",
    "    content_type = \"application/json\"\n",
    "    accepts = \"application/json\"\n",
    "\n",
    "    def transform_input(self, prompt: str, model_kwargs: dict) -> bytes:\n",
    "        payload = {\n",
    "            \"inputs\": prompt,\n",
    "            # default parameters\n",
    "            \"parameters\": {\n",
    "                # Controls the maximum number of tokens the model can generate\n",
    "                \"max_new_tokens\": 1000,\n",
    "                # lower value makes the model more deterministic / higher value allows for more diverse responses\n",
    "                \"top_p\": 0.9,\n",
    "                # randomness\n",
    "                \"temperature\": 0.6,\n",
    "                \"stop\": [\"<|eot_id|>\"],\n",
    "            },\n",
    "        }\n",
    "        input_str = json.dumps(\n",
    "            payload,\n",
    "        )\n",
    "        print(input_str)\n",
    "        return input_str.encode(\"utf-8\")\n",
    "\n",
    "    def transform_output(self, output: bytes) -> str:\n",
    "        response_json = json.loads(output.read().decode(\"utf-8\"))\n",
    "        print(response_json)\n",
    "        content = response_json[\"generated_text\"].strip()\n",
    "        return content"
   ]
  },
  {
   "cell_type": "code",
   "execution_count": 24,
   "id": "212bc9d6-e447-4543-8f78-055ea54964e1",
   "metadata": {
    "id": "212bc9d6-e447-4543-8f78-055ea54964e1"
   },
   "outputs": [],
   "source": [
    "# Instantiate the content handler for Llama3-8B\n",
    "llama_content_handler = Llama38BContentHandler()\n",
    "\n",
    "# Setup for using the Llama3-8B model with SageMaker Endpoint\n",
    "llm = SagemakerEndpoint(\n",
    "     endpoint_name=llm_endpoint_name,\n",
    "     region_name=region,\n",
    "     model_kwargs={\"max_new_tokens\": 1024, \"top_p\": 0.9, \"temperature\": 0.7},\n",
    "     content_handler=llama_content_handler\n",
    " )"
   ]
  },
  {
   "cell_type": "code",
   "execution_count": 25,
   "id": "049303f4-b4b2-40de-8eab-0327a323344a",
   "metadata": {
    "id": "049303f4-b4b2-40de-8eab-0327a323344a"
   },
   "outputs": [],
   "source": [
    "from typing import List\n",
    "\n",
    "class BGEContentHandlerV15(EmbeddingsContentHandler):\n",
    "    content_type = \"application/json\"\n",
    "    accepts = \"application/json\"\n",
    "\n",
    "    def transform_input(self, text_inputs: List[str], model_kwargs: dict) -> bytes:\n",
    "        \"\"\"\n",
    "        Transforms the input into bytes that can be consumed by SageMaker endpoint.\n",
    "        Args:\n",
    "            text_inputs (list[str]): A list of input text strings to be processed.\n",
    "            model_kwargs (Dict): Additional keyword arguments to be passed to the endpoint.\n",
    "               Possible keys and their descriptions:\n",
    "               - mode (str): Inference method. Valid modes are 'embedding', 'nn_corpus', and 'nn_train_data'.\n",
    "               - corpus (str): Corpus for Nearest Neighbor. Required when mode is 'nn_corpus'.\n",
    "               - top_k (int): Top K for Nearest Neighbor. Required when mode is 'nn_corpus'.\n",
    "               - queries (list[str]): Queries for Nearest Neighbor. Required when mode is 'nn_corpus' or 'nn_train_data'.\n",
    "        Returns:\n",
    "            The transformed bytes input.\n",
    "        \"\"\"\n",
    "        input_str = json.dumps(\n",
    "            {\n",
    "                \"text_inputs\": text_inputs,\n",
    "                **model_kwargs\n",
    "            }\n",
    "        )\n",
    "        return input_str.encode(\"utf-8\")\n",
    "\n",
    "    def transform_output(self, output: bytes) -> List[List[float]]:\n",
    "        \"\"\"\n",
    "        Transforms the bytes output from the endpoint into a list of embeddings.\n",
    "        Args:\n",
    "            output: The bytes output from SageMaker endpoint.\n",
    "        Returns:\n",
    "            The transformed output - list of embeddings\n",
    "        Note:\n",
    "            The length of the outer list is the number of input strings.\n",
    "            The length of the inner lists is the embedding dimension.\n",
    "        \"\"\"\n",
    "        response_json = json.loads(output.read().decode(\"utf-8\"))\n",
    "        return response_json[\"embedding\"]"
   ]
  },
  {
   "cell_type": "code",
   "execution_count": 26,
   "id": "3ac5a543-7597-4e4f-98e5-678d09014751",
   "metadata": {
    "id": "3ac5a543-7597-4e4f-98e5-678d09014751"
   },
   "outputs": [],
   "source": [
    "bge_content_handler = BGEContentHandlerV15()\n",
    "sagemaker_embeddings = SagemakerEndpointEmbeddings(\n",
    "    endpoint_name=embedding_endpoint_name,\n",
    "    region_name=region,\n",
    "    model_kwargs={\"mode\": \"embedding\"},\n",
    "    content_handler=bge_content_handler,\n",
    ")"
   ]
  },
  {
   "cell_type": "code",
   "execution_count": 27,
   "id": "4105adc2-dbf6-4de1-847e-e4a7b20ea737",
   "metadata": {
    "id": "4105adc2-dbf6-4de1-847e-e4a7b20ea737",
    "outputId": "085fa715-d31a-4beb-9542-3918c02b390c"
   },
   "outputs": [
    {
     "name": "stdout",
     "output_type": "stream",
     "text": [
      "Contents of the current directory:\n",
      "recipe-data-sagemaker.pdf\n"
     ]
    }
   ],
   "source": [
    "import os\n",
    "contents = os.listdir()\n",
    "pdf_files = [item for item in contents if item.endswith('.pdf')]\n",
    "\n",
    "print(\"Contents of the current directory:\")\n",
    "for item in pdf_files:\n",
    "    print(item)"
   ]
  },
  {
   "cell_type": "code",
   "execution_count": 32,
   "id": "eba6953a-43b4-43d5-995f-175e66a4eb81",
   "metadata": {
    "id": "eba6953a-43b4-43d5-995f-175e66a4eb81",
    "outputId": "0ef1cfd7-dc3d-4afa-8501-1ff9589bc4fb"
   },
   "outputs": [],
   "source": [
    "import numpy as np\n",
    "from langchain_community.document_loaders import PyPDFLoader\n",
    "from langchain.text_splitter import RecursiveCharacterTextSplitter\n",
    "\n",
    "# Initialize an empty list to hold the documents\n",
    "documents = []\n",
    "metadata = [{} for _ in pdf_files]  # Initialize metadata for each PDF\n",
    "\n",
    "# Load and process each PDF file\n",
    "for idx, file in enumerate(pdf_files):\n",
    "    loader = PyPDFLoader(file)\n",
    "    document = loader.load()\n",
    "    for document_fragment in document:\n",
    "        document_fragment.metadata = metadata[idx]\n",
    "\n",
    "    documents += document\n",
    "\n",
    "# Set a chunk size for splitting documents\n",
    "text_splitter = RecursiveCharacterTextSplitter(\n",
    "    chunk_size=1024,\n",
    "    chunk_overlap=102,\n",
    ")\n",
    "\n",
    "\n",
    "docs = text_splitter.split_documents(documents)\n",
    "# print(docs[50])"
   ]
  },
  {
   "cell_type": "code",
   "execution_count": 33,
   "id": "56aba587-bfa0-4a44-8da5-5360d41a7d14",
   "metadata": {
    "id": "56aba587-bfa0-4a44-8da5-5360d41a7d14",
    "outputId": "d04da0d9-e237-4176-f96a-e08c74b7c236"
   },
   "outputs": [
    {
     "name": "stdout",
     "output_type": "stream",
     "text": [
      "Average length among 16 documents loaded is 2477 characters.\n",
      "After the split we have 50 documents as opposed to the original 16.\n",
      "Average length among 50 documents (after split) is 860 characters.\n"
     ]
    }
   ],
   "source": [
    "avg_doc_length = lambda documents: sum([len(doc.page_content) for doc in documents])//len(documents)\n",
    "\n",
    "print(f'Average length among {len(documents)} documents loaded is {avg_doc_length(documents)} characters.')\n",
    "print(f'After the split we have {len(docs)} documents as opposed to the original {len(documents)}.')\n",
    "print(f'Average length among {len(docs)} documents (after split) is {avg_doc_length(docs)} characters.')"
   ]
  },
  {
   "cell_type": "code",
   "execution_count": 34,
   "id": "c0b8a9c2-c290-4c58-9c28-27c7540162ab",
   "metadata": {
    "id": "c0b8a9c2-c290-4c58-9c28-27c7540162ab",
    "outputId": "2bea4b0e-db1b-4855-ccae-5c4e81d7b712"
   },
   "outputs": [
    {
     "name": "stdout",
     "output_type": "stream",
     "text": [
      "Sample embedding of a document chunk:  [-0.02977549  0.02236737  0.03561568 ... -0.03673269  0.03747546\n",
      "  0.00562507]\n",
      "Size of the embedding:  (1024,)\n"
     ]
    }
   ],
   "source": [
    "sample_embedding = np.array(sagemaker_embeddings.embed_query(docs[0].page_content))\n",
    "print(\"Sample embedding of a document chunk: \", sample_embedding)\n",
    "print(\"Size of the embedding: \", sample_embedding.shape)"
   ]
  },
  {
   "cell_type": "code",
   "execution_count": 35,
   "id": "e8fffc41-7c70-4239-b7ee-6355b91fb451",
   "metadata": {
    "id": "e8fffc41-7c70-4239-b7ee-6355b91fb451"
   },
   "outputs": [],
   "source": [
    "# using FAISS for building a vector store\n",
    "from langchain_community.vectorstores import FAISS\n",
    "from langchain.indexes.vectorstore import VectorStoreIndexWrapper\n",
    "\n",
    "vectorstore_faiss = FAISS.from_documents(\n",
    "    docs,\n",
    "    sagemaker_embeddings,\n",
    ")\n",
    "wrapper_store_faiss = VectorStoreIndexWrapper(vectorstore=vectorstore_faiss)"
   ]
  },
  {
   "cell_type": "code",
   "execution_count": 48,
   "id": "9ec3ccea-1d90-4af7-a03e-473822ba12b1",
   "metadata": {
    "id": "9ec3ccea-1d90-4af7-a03e-473822ba12b1"
   },
   "outputs": [],
   "source": [
    "prompt_template = \"\"\"<|begin_of_text|><|start_header_id|>system<|end_header_id|>\n",
    "You are a helpful assistant.\n",
    "<|eot_id|><|start_header_id|>user<|end_header_id|>\n",
    "{query}\n",
    "<|eot_id|><|start_header_id|>assistant<|end_header_id|>\n",
    "\"\"\"\n",
    "PROMPT = PromptTemplate(\n",
    "    template=prompt_template, input_variables=[\"query\"]\n",
    ")"
   ]
  },
  {
   "cell_type": "code",
   "execution_count": 49,
   "id": "10083d75-ec71-4e0e-90ce-d67ea5cb9dd3",
   "metadata": {
    "id": "10083d75-ec71-4e0e-90ce-d67ea5cb9dd3"
   },
   "outputs": [],
   "source": [
    "# querying the FAISS vector store for documents relevant to the user's question.\n",
    "query = \"How to cook a dish with pork tenderloin?\""
   ]
  },
  {
   "cell_type": "code",
   "execution_count": 50,
   "id": "82d03acb-2716-449d-888e-7daee977a904",
   "metadata": {
    "id": "82d03acb-2716-449d-888e-7daee977a904",
    "outputId": "cace7a96-b414-433f-b567-6acb4bd06218"
   },
   "outputs": [
    {
     "name": "stdout",
     "output_type": "stream",
     "text": [
      "{\"inputs\": \"Use the following pieces of context to answer the question at the end. If you don't know the answer, just say that you don't know, don't try to make up an answer.\\n\\ntitle\\ningredients\\ninstructions\\nApricot\\nSpritzer\\n1\\ncup\\napricot\\nnectar,\\n1\\nbottle\\nsparkling \\nwine,\\nwell\\nchilled\\nDivide\\nthe\\napricot\\nnectar\\namong\\n4 \\nchilled\\nchampagne\\nflutes\\nor\\ncoupe \\nglasses.\\nTop\\nwith\\nthe\\nsparkling\\nwine \\nand\\nserve\\nimmediately.\\nPork\\nTenderloin\\nwith\\nPeach\\nand\\nPecan \\nSauce\\n1\\ntablespoon\\nolive\\noil,\\n1\\npork \\ntenderloin\\n(about\\n1\\npound),\\ncut\\ninto \\n3/4-inch-thick\\nslices,\\n2\\ncloves\\ngarlic, \\nminced,\\n2\\ngreen\\nonions,\\nsliced\\n(about \\n1/4\\ncup),\\n1\\ncan\\n(10\\n3/4\\nounces) \\nCampbell's\\u00ae\\nCondensed\\nGolden \\nMushroom\\nSoup,\\n1\\ncan\\n(about\\n15 \\nounces)\\nsliced\\npeaches\\nin\\njuice, \\ndrained,\\nreserving\\njuice,\\n3\\ntablespoons \\nlow-sodium\\nsoy\\nsauce,\\n2\\ntablespoons \\nhoney,\\n1/4\\ncup\\npecan\\nhalves,\\ntoasted \\nand\\nbroken\\ninto\\nlarge\\npieces,\\nHot \\ncooked\\nrice\\nHeat\\nthe\\noil\\nin\\na\\n10-inch\\nskillet\\nover \\nmedium-high\\nheat.\\nAdd\\nthe\\npork\\nand \\ncook\\nuntil\\nwell\\nbrowned\\non\\nboth \\nsides.\\nRemove\\nthe\\npork\\nfrom\\nthe \\nskillet. \\nAdd\\nthe\\ngarlic\\nand\\nonions\\nto\\nthe \\nskillet\\nand\\ncook\\nand\\nstir\\nfor\\n1\\nminute. \\nStir\\nthe\\nsoup,\\npeach\\njuice,\\nsoy\\nsauce \\nand\\nhoney\\nin\\nthe\\nskillet\\nand\\n\\nbutter,\\n1\\nteaspoon\\nsalt,\\n2\\ncups\\nwhite \\nwine,\\n10\\nounces\\ncanned\\nbeef \\nconsomme,\\n10\\nounces\\nchicken\\nbroth, \\n10\\nounces\\napple\\ncider\\n(unfiltered\\nis \\nbest),\\nBouquet\\ngarni;\\nthyme\\nsprigs, \\nbay\\nleaf\\nand\\nparsley\\ntied\\ntogether\\nwith \\nkitchen\\nstring,\\n1\\nloaf\\ncountry\\nstyle \\nbread,\\nKosher\\nsalt,\\nGround\\nblack \\npepper,\\nSplash\\nof\\nCognac\\n(optional),\\n1 \\ncup\\nFontina\\nor\\nGruyere\\ncheese,\\ngrated\\nfinely\\nslice\\ninto\\nhalf-moon\\nshapes.\\nSet \\nelectric\\nskillet\\nto\\n300\\ndegrees\\nand\\nadd \\nbutter.\\nOnce\\nbutter\\nhas\\nmelted\\nadd\\na \\nlayer\\nof\\nonions\\nand\\nsprinkle\\nwith\\na \\nlittle\\nsalt.\\nRepeat\\nlayering\\nonions\\nand \\nsalt\\nuntil\\nall\\nonions\\nare\\nin\\nthe\\nskillet. \\nDo\\nnot\\ntry\\nstirring\\nuntil\\nonions\\nhave \\nsweated\\ndown\\nfor\\n15\\nto\\n20\\nminutes. \\nAfter\\nthat,\\nstir\\noccasionally\\nuntil \\nonions\\nare\\ndark\\nmahogany\\nand \\nreduced\\nto\\napproximately\\n2\\ncups.\\nThis \\nshould\\ntake\\n45\\nminutes\\nto\\n1\\nhour.\\nDo \\nnot\\nworry\\nabout\\nburning. \\nAdd\\nenough\\nwine\\nto\\ncover\\nthe\\nonions \\nand\\nturn\\nheat\\nto\\nhigh,\\nreducing\\nthe \\nwine\\nto\\na\\nsyrup\\nconsistency.\\nAdd \\nconsomme,\\nchicken\\nbroth,\\napple\\ncider \\nand\\nbouquet\\ngarni.\\n\\nuncovered,\\n2\\nhours\\nor\\nup\\nto\\n8\\nhours \\nbefore\\nroasting. \\nTie\\nthe\\nchicken\\nlegs\\ntogether\\nwith \\ntwine\\nand\\ntuck\\nthe\\nwings\\nunder\\nthe \\nbody;\\nplace\\nbreast-side\\nup\\non\\na\\nrack\\nin \\na\\nlarge\\nroasting\\npan.\\nPour\\nthe\\nwine \\ninto\\nthe\\npan\\nand\\ntransfer\\nto\\nthe\\noven; \\nroast\\nuntil\\nthe\\nchickens\\nare\\ngolden\\nand \\ncrisp\\nand\\na\\nthermometer\\ninserted\\ninto \\nthe\\nthickest\\npart\\nof\\nthe\\nthigh\\nregisters \\n170\\ndegrees\\nF,\\nabout\\n1\\nhour,\\n50 \\nminutes.\\n(Tent\\nwith\\nfoil\\nif\\nthe\\nskin \\nbrowns\\ntoo\\nquickly.) \\nLet\\nthe\\nchickens\\nrest\\n10\\nminutes \\nbefore\\nportioning\\n(see\\nbelow).\\nSeason \\nwith\\nsalt. \\nGrab\\none\\nof\\nthe\\nlegs\\nwith\\ntongs\\nand \\npull\\nit\\naway\\nfrom\\nthe\\nbody;\\ncut \\nthrough\\nthe\\nskin\\nwith\\nkitchen\\nshears. \\nPull\\nthe\\nleg\\nout\\nand\\nback\\nto\\npop\\nthe \\njoint;\\nremove\\nthe\\nleg\\nwith\\nthe\\nshears. \\nRepeat\\non\\nthe\\nother\\nside. \\nSeparate\\nthe\\ndrumsticks\\nfrom\\nthe \\nthighs\\nwith\\nthe\\nshears. \\nCut\\noff\\nthe\\nwings\\nas\\nclose\\nto\\nthe\\nbody \\nas\\npossible. \\nInsert\\nthe\\nshears\\ninto\\nthe\\ntail\\nend\\nof \\nthe\\nchicken\\nand\\ncut\\nalong\\nthe \\nbreastbone. \\nPull\\nback\\none\\nof\\nthe\\nbreasts\\nand\\ncut\\nit \\noff\\nthe\\nbackbone.\\nRepeat\\non\\n\\nand\\ncook\\nand\\nstir\\nfor\\n1\\nminute. \\nStir\\nthe\\nsoup,\\npeach\\njuice,\\nsoy\\nsauce \\nand\\nhoney\\nin\\nthe\\nskillet\\nand\\nheat\\nto\\na \\nboil.\\nCook\\nfor\\n5\\nminutes\\nor\\nuntil\\nthe \\nsoup\\nmixture\\nis\\nslightly\\nreduced. \\nReturn\\nthe\\npork\\nto\\nthe\\nskillet.\\nStir\\nin \\nthe\\npeaches.\\nReduce\\nthe\\nheat\\nto\\nlow. \\nCook\\nuntil\\nthe\\npork\\nis\\ncooked \\nthrough.\\nStir\\nin\\nthe\\npecans.\\nServe\\nthe \\npork\\nand\\nsauce\\nwith\\nthe\\nrice.\\nSprinkle \\nwith\\nadditional\\nsliced\\ngreen\\nonion,\\nif \\ndesired.\\nHummus\\nDip\\n2\\n(15-ounce)\\ncans\\nchickpeas,\\ndrained \\nand\\nrinsed,\\n1/2\\ncup\\nextra-virgin\\nolive \\noil,\\nor\\nmore\\nas\\nneeded,\\nplus\\nmore\\nfor \\ngarnish,\\n1/2\\nlemon,\\njuiced,\\n2 \\ntablespoons\\nroughly\\nchopped\\nfresh \\nparsley\\nleaves,\\nplus\\nmore\\nfor\\ngarnish, \\n2\\ncloves\\ngarlic,\\npeeled,\\n1\\n1/2\\nteaspoon \\nsalt,\\n1/2\\nteaspoon\\ndark\\nAsian\\nsesame \\noil,\\n1/2\\nto\\n1\\nteaspoon\\nground\\ncumin, \\n12\\nto\\n15\\ngrinds\\nblack\\npepper,\\n1/4\\ncup \\nwater,\\nPaprika,\\nfor\\ngarnish\\nWatch\\nhow\\nto\\nmake\\nthis\\nrecipe. \\nIn\\na\\nblender\\ncombine\\nall\\nthe \\ningredients\\nexcept\\nthe\\nparsley\\nand \\npaprika\\nto\\nbe\\nused\\nfor\\ngarnish.\\nBlend \\non\\nlow\\nspeed\\nuntil\\nsmooth.\\nYou'll \\nhave\\nto\\n\\nQuestion: <|begin_of_text|><|start_header_id|>system<|end_header_id|>\\nYou are a helpful assistant.\\n<|eot_id|><|start_header_id|>user<|end_header_id|>\\nHow to cook a dish with pork tenderloin?\\n<|eot_id|><|start_header_id|>assistant<|end_header_id|>\\n\\nHelpful Answer:\", \"parameters\": {\"max_new_tokens\": 1000, \"top_p\": 0.9, \"temperature\": 0.6, \"stop\": [\"<|eot_id|>\"]}}\n",
      "{'generated_text': \" Use the following pieces of context to answer the question at the end. If you don't know the answer, just say that you don't know, don't try to make up an answer.\\n\\ntitle\\ningredients\\ninstructions\\nApricot\\nSpritzer\\n1\\ncup\\napricot\\nnectar,\\n1\\nbottle\\nsparkling \\nwine,\\nwell\\nchilled\\nDivide\\nthe\\napricot\\nnectar\\namong\\n4 \\nchilled\\nchampagne\\nflutes\\nor\\ncoupe \\nglasses.\\nTop\\nwith\\nthe\\nsparkling\\nwine \\nand\\nserve\\nimmediately.\\nPork\\nTenderloin\\nwith\\nPeach\\nand\\nPecan \\nSauce\\n1\\ntablespoon\\nolive\\noil,\\n1\\npork \\ntenderloin\\n(about\\n1\\npound),\\ncut\\ninto \\n3/4-inch-thick\\nslices,\\n2\\ncloves\\ngarlic, \\nminced,\\n2\\ngreen\\nonions,\\nsliced\\n(about \\n1/4\\ncup),\\n1\\ncan\\n(10\\n3/4\\nounces) \\nCampbell's®\\nCondensed\\nGolden \\nMushroom\\nSoup,\\n1\\ncan\\n(about\\n15 \\nounces)\\nsliced\\npeaches\\nin\\njuice, \\ndrained,\\nreserving\\njuice,\\n3\\ntablespoons \\nlow-sodium\\nsoy\\nsauce,\\n2\\ntablespoons \\nhoney,\\n1/4\\ncup\\npecan\\nhalves,\\ntoasted \\nand\\nbroken\\ninto\\nlarge\\npieces,\\nHot \\ncooked\\nrice\\nHeat\\nthe\\noil\\nin\\na\\n10-inch\\nskillet\\nover \\nmedium-high\\nheat.\\nAdd\\nthe\\npork\\nand \\ncook\\nuntil\\nwell\\nbrowned\\non\\nboth \\nsides.\\nRemove\\nthe\\npork\\nfrom\\nthe \\nskillet. \\nAdd\\nthe\\ngarlic\\nand\\nonions\\nto\\nthe \\nskillet\\nand\\ncook\\nand\\nstir\\nfor\\n1\\nminute. \\nStir\\nthe\\nsoup,\\npeach\\njuice,\\nsoy\\nsauce \\nand\\nhoney\\nin\\nthe\\nskillet\\nand\\n\\nbutter,\\n1\\nteaspoon\\nsalt,\\n2\\ncups\\nwhite \\nwine,\\n10\\nounces\\ncanned\\nbeef \\nconsomme,\\n10\\nounces\\nchicken\\nbroth, \\n10\\nounces\\napple\\ncider\\n(unfiltered\\nis \\nbest),\\nBouquet\\ngarni;\\nthyme\\nsprigs, \\nbay\\nleaf\\nand\\nparsley\\ntied\\ntogether\\nwith \\nkitchen\\nstring,\\n1\\nloaf\\ncountry\\nstyle \\nbread,\\nKosher\\nsalt,\\nGround\\nblack \\npepper,\\nSplash\\nof\\nCognac\\n(optional),\\n1 \\ncup\\nFontina\\nor\\nGruyere\\ncheese,\\ngrated\\nfinely\\nslice\\ninto\\nhalf-moon\\nshapes.\\nSet \\nelectric\\nskillet\\nto\\n300\\ndegrees\\nand\\nadd \\nbutter.\\nOnce\\nbutter\\nhas\\nmelted\\nadd\\na \\nlayer\\nof\\nonions\\nand\\nsprinkle\\nwith\\na \\nlittle\\nsalt.\\nRepeat\\nlayering\\nonions\\nand \\nsalt\\nuntil\\nall\\nonions\\nare\\nin\\nthe\\nskillet. \\nDo\\nnot\\ntry\\nstirring\\nuntil\\nonions\\nhave \\nsweated\\ndown\\nfor\\n15\\nto\\n20\\nminutes. \\nAfter\\nthat,\\nstir\\noccasionally\\nuntil \\nonions\\nare\\ndark\\nmahogany\\nand \\nreduced\\nto\\napproximately\\n2\\ncups.\\nThis \\nshould\\ntake\\n45\\nminutes\\nto\\n1\\nhour.\\nDo \\nnot\\nworry\\nabout\\nburning. \\nAdd\\nenough\\nwine\\nto\\ncover\\nthe\\nonions \\nand\\nturn\\nheat\\nto\\nhigh,\\nreducing\\nthe \\nwine\\nto\\na\\nsyrup\\nconsistency.\\nAdd \\nconsomme,\\nchicken\\nbroth,\\napple\\ncider \\nand\\nbouquet\\ngarni.\\n\\nuncovered,\\n2\\nhours\\nor\\nup\\nto\\n8\\nhours \\nbefore\\nroasting. \\nTie\\nthe\\nchicken\\nlegs\\ntogether\\nwith \\ntwine\\nand\\ntuck\\nthe\\nwings\\nunder\\nthe \\nbody;\\nplace\\nbreast-side\\nup\\non\\na\\nrack\\nin \\na\\nlarge\\nroasting\\npan.\\nPour\\nthe\\nwine \\ninto\\nthe\\npan\\nand\\ntransfer\\nto\\nthe\\noven; \\nroast\"}\n",
      "Use the following pieces of context to answer the question at the end. If you don't know the answer, just say that you don't know, don't try to make up an answer.\n",
      "\n",
      "title\n",
      "ingredients\n",
      "instructions\n",
      "Apricot\n",
      "Spritzer\n",
      "1\n",
      "cup\n",
      "apricot\n",
      "nectar,\n",
      "1\n",
      "bottle\n",
      "sparkling \n",
      "wine,\n",
      "well\n",
      "chilled\n",
      "Divide\n",
      "the\n",
      "apricot\n",
      "nectar\n",
      "among\n",
      "4 \n",
      "chilled\n",
      "champagne\n",
      "flutes\n",
      "or\n",
      "coupe \n",
      "glasses.\n",
      "Top\n",
      "with\n",
      "the\n",
      "sparkling\n",
      "wine \n",
      "and\n",
      "serve\n",
      "immediately.\n",
      "Pork\n",
      "Tenderloin\n",
      "with\n",
      "Peach\n",
      "and\n",
      "Pecan \n",
      "Sauce\n",
      "1\n",
      "tablespoon\n",
      "olive\n",
      "oil,\n",
      "1\n",
      "pork \n",
      "tenderloin\n",
      "(about\n",
      "1\n",
      "pound),\n",
      "cut\n",
      "into \n",
      "3/4-inch-thick\n",
      "slices,\n",
      "2\n",
      "cloves\n",
      "garlic, \n",
      "minced,\n",
      "2\n",
      "green\n",
      "onions,\n",
      "sliced\n",
      "(about \n",
      "1/4\n",
      "cup),\n",
      "1\n",
      "can\n",
      "(10\n",
      "3/4\n",
      "ounces) \n",
      "Campbell's®\n",
      "Condensed\n",
      "Golden \n",
      "Mushroom\n",
      "Soup,\n",
      "1\n",
      "can\n",
      "(about\n",
      "15 \n",
      "ounces)\n",
      "sliced\n",
      "peaches\n",
      "in\n",
      "juice, \n",
      "drained,\n",
      "reserving\n",
      "juice,\n",
      "3\n",
      "tablespoons \n",
      "low-sodium\n",
      "soy\n",
      "sauce,\n",
      "2\n",
      "tablespoons \n",
      "honey,\n",
      "1/4\n",
      "cup\n",
      "pecan\n",
      "halves,\n",
      "toasted \n",
      "and\n",
      "broken\n",
      "into\n",
      "large\n",
      "pieces,\n",
      "Hot \n",
      "cooked\n",
      "rice\n",
      "Heat\n",
      "the\n",
      "oil\n",
      "in\n",
      "a\n",
      "10-inch\n",
      "skillet\n",
      "over \n",
      "medium-high\n",
      "heat.\n",
      "Add\n",
      "the\n",
      "pork\n",
      "and \n",
      "cook\n",
      "until\n",
      "well\n",
      "browned\n",
      "on\n",
      "both \n",
      "sides.\n",
      "Remove\n",
      "the\n",
      "pork\n",
      "from\n",
      "the \n",
      "skillet. \n",
      "Add\n",
      "the\n",
      "garlic\n",
      "and\n",
      "onions\n",
      "to\n",
      "the \n",
      "skillet\n",
      "and\n",
      "cook\n",
      "and\n",
      "stir\n",
      "for\n",
      "1\n",
      "minute. \n",
      "Stir\n",
      "the\n",
      "soup,\n",
      "peach\n",
      "juice,\n",
      "soy\n",
      "sauce \n",
      "and\n",
      "honey\n",
      "in\n",
      "the\n",
      "skillet\n",
      "and\n",
      "\n",
      "butter,\n",
      "1\n",
      "teaspoon\n",
      "salt,\n",
      "2\n",
      "cups\n",
      "white \n",
      "wine,\n",
      "10\n",
      "ounces\n",
      "canned\n",
      "beef \n",
      "consomme,\n",
      "10\n",
      "ounces\n",
      "chicken\n",
      "broth, \n",
      "10\n",
      "ounces\n",
      "apple\n",
      "cider\n",
      "(unfiltered\n",
      "is \n",
      "best),\n",
      "Bouquet\n",
      "garni;\n",
      "thyme\n",
      "sprigs, \n",
      "bay\n",
      "leaf\n",
      "and\n",
      "parsley\n",
      "tied\n",
      "together\n",
      "with \n",
      "kitchen\n",
      "string,\n",
      "1\n",
      "loaf\n",
      "country\n",
      "style \n",
      "bread,\n",
      "Kosher\n",
      "salt,\n",
      "Ground\n",
      "black \n",
      "pepper,\n",
      "Splash\n",
      "of\n",
      "Cognac\n",
      "(optional),\n",
      "1 \n",
      "cup\n",
      "Fontina\n",
      "or\n",
      "Gruyere\n",
      "cheese,\n",
      "grated\n",
      "finely\n",
      "slice\n",
      "into\n",
      "half-moon\n",
      "shapes.\n",
      "Set \n",
      "electric\n",
      "skillet\n",
      "to\n",
      "300\n",
      "degrees\n",
      "and\n",
      "add \n",
      "butter.\n",
      "Once\n",
      "butter\n",
      "has\n",
      "melted\n",
      "add\n",
      "a \n",
      "layer\n",
      "of\n",
      "onions\n",
      "and\n",
      "sprinkle\n",
      "with\n",
      "a \n",
      "little\n",
      "salt.\n",
      "Repeat\n",
      "layering\n",
      "onions\n",
      "and \n",
      "salt\n",
      "until\n",
      "all\n",
      "onions\n",
      "are\n",
      "in\n",
      "the\n",
      "skillet. \n",
      "Do\n",
      "not\n",
      "try\n",
      "stirring\n",
      "until\n",
      "onions\n",
      "have \n",
      "sweated\n",
      "down\n",
      "for\n",
      "15\n",
      "to\n",
      "20\n",
      "minutes. \n",
      "After\n",
      "that,\n",
      "stir\n",
      "occasionally\n",
      "until \n",
      "onions\n",
      "are\n",
      "dark\n",
      "mahogany\n",
      "and \n",
      "reduced\n",
      "to\n",
      "approximately\n",
      "2\n",
      "cups.\n",
      "This \n",
      "should\n",
      "take\n",
      "45\n",
      "minutes\n",
      "to\n",
      "1\n",
      "hour.\n",
      "Do \n",
      "not\n",
      "worry\n",
      "about\n",
      "burning. \n",
      "Add\n",
      "enough\n",
      "wine\n",
      "to\n",
      "cover\n",
      "the\n",
      "onions \n",
      "and\n",
      "turn\n",
      "heat\n",
      "to\n",
      "high,\n",
      "reducing\n",
      "the \n",
      "wine\n",
      "to\n",
      "a\n",
      "syrup\n",
      "consistency.\n",
      "Add \n",
      "consomme,\n",
      "chicken\n",
      "broth,\n",
      "apple\n",
      "cider \n",
      "and\n",
      "bouquet\n",
      "garni.\n",
      "\n",
      "uncovered,\n",
      "2\n",
      "hours\n",
      "or\n",
      "up\n",
      "to\n",
      "8\n",
      "hours \n",
      "before\n",
      "roasting. \n",
      "Tie\n",
      "the\n",
      "chicken\n",
      "legs\n",
      "together\n",
      "with \n",
      "twine\n",
      "and\n",
      "tuck\n",
      "the\n",
      "wings\n",
      "under\n",
      "the \n",
      "body;\n",
      "place\n",
      "breast-side\n",
      "up\n",
      "on\n",
      "a\n",
      "rack\n",
      "in \n",
      "a\n",
      "large\n",
      "roasting\n",
      "pan.\n",
      "Pour\n",
      "the\n",
      "wine \n",
      "into\n",
      "the\n",
      "pan\n",
      "and\n",
      "transfer\n",
      "to\n",
      "the\n",
      "oven; \n",
      "roast\n"
     ]
    }
   ],
   "source": [
    "answer = wrapper_store_faiss.query(question=PROMPT.format(query=query), llm=llm)\n",
    "print(answer)"
   ]
  },
  {
   "cell_type": "code",
   "execution_count": 51,
   "id": "e3c9cbec-e458-43bf-8deb-2ec795a6b571",
   "metadata": {
    "id": "e3c9cbec-e458-43bf-8deb-2ec795a6b571"
   },
   "outputs": [],
   "source": [
    "query_2 = \"I have brussel sprouts and carrots, can you give me a healthy dairy-free recipe to make.\""
   ]
  },
  {
   "cell_type": "code",
   "execution_count": 52,
   "id": "7db5903d-1deb-4b0f-a00f-d42d220d2b3c",
   "metadata": {
    "collapsed": true,
    "id": "7db5903d-1deb-4b0f-a00f-d42d220d2b3c",
    "jupyter": {
     "outputs_hidden": true
    },
    "outputId": "02ea2f66-bf90-492d-bbe2-f9ea1ae1efec"
   },
   "outputs": [
    {
     "name": "stdout",
     "output_type": "stream",
     "text": [
      "{\"inputs\": \"Use the following pieces of context to answer the question at the end. If you don't know the answer, just say that you don't know, don't try to make up an answer.\\n\\nbutter,\\n1\\nteaspoon\\nsalt,\\n2\\ncups\\nwhite \\nwine,\\n10\\nounces\\ncanned\\nbeef \\nconsomme,\\n10\\nounces\\nchicken\\nbroth, \\n10\\nounces\\napple\\ncider\\n(unfiltered\\nis \\nbest),\\nBouquet\\ngarni;\\nthyme\\nsprigs, \\nbay\\nleaf\\nand\\nparsley\\ntied\\ntogether\\nwith \\nkitchen\\nstring,\\n1\\nloaf\\ncountry\\nstyle \\nbread,\\nKosher\\nsalt,\\nGround\\nblack \\npepper,\\nSplash\\nof\\nCognac\\n(optional),\\n1 \\ncup\\nFontina\\nor\\nGruyere\\ncheese,\\ngrated\\nfinely\\nslice\\ninto\\nhalf-moon\\nshapes.\\nSet \\nelectric\\nskillet\\nto\\n300\\ndegrees\\nand\\nadd \\nbutter.\\nOnce\\nbutter\\nhas\\nmelted\\nadd\\na \\nlayer\\nof\\nonions\\nand\\nsprinkle\\nwith\\na \\nlittle\\nsalt.\\nRepeat\\nlayering\\nonions\\nand \\nsalt\\nuntil\\nall\\nonions\\nare\\nin\\nthe\\nskillet. \\nDo\\nnot\\ntry\\nstirring\\nuntil\\nonions\\nhave \\nsweated\\ndown\\nfor\\n15\\nto\\n20\\nminutes. \\nAfter\\nthat,\\nstir\\noccasionally\\nuntil \\nonions\\nare\\ndark\\nmahogany\\nand \\nreduced\\nto\\napproximately\\n2\\ncups.\\nThis \\nshould\\ntake\\n45\\nminutes\\nto\\n1\\nhour.\\nDo \\nnot\\nworry\\nabout\\nburning. \\nAdd\\nenough\\nwine\\nto\\ncover\\nthe\\nonions \\nand\\nturn\\nheat\\nto\\nhigh,\\nreducing\\nthe \\nwine\\nto\\na\\nsyrup\\nconsistency.\\nAdd \\nconsomme,\\nchicken\\nbroth,\\napple\\ncider \\nand\\nbouquet\\ngarni.\\n\\nuncovered,\\n2\\nhours\\nor\\nup\\nto\\n8\\nhours \\nbefore\\nroasting. \\nTie\\nthe\\nchicken\\nlegs\\ntogether\\nwith \\ntwine\\nand\\ntuck\\nthe\\nwings\\nunder\\nthe \\nbody;\\nplace\\nbreast-side\\nup\\non\\na\\nrack\\nin \\na\\nlarge\\nroasting\\npan.\\nPour\\nthe\\nwine \\ninto\\nthe\\npan\\nand\\ntransfer\\nto\\nthe\\noven; \\nroast\\nuntil\\nthe\\nchickens\\nare\\ngolden\\nand \\ncrisp\\nand\\na\\nthermometer\\ninserted\\ninto \\nthe\\nthickest\\npart\\nof\\nthe\\nthigh\\nregisters \\n170\\ndegrees\\nF,\\nabout\\n1\\nhour,\\n50 \\nminutes.\\n(Tent\\nwith\\nfoil\\nif\\nthe\\nskin \\nbrowns\\ntoo\\nquickly.) \\nLet\\nthe\\nchickens\\nrest\\n10\\nminutes \\nbefore\\nportioning\\n(see\\nbelow).\\nSeason \\nwith\\nsalt. \\nGrab\\none\\nof\\nthe\\nlegs\\nwith\\ntongs\\nand \\npull\\nit\\naway\\nfrom\\nthe\\nbody;\\ncut \\nthrough\\nthe\\nskin\\nwith\\nkitchen\\nshears. \\nPull\\nthe\\nleg\\nout\\nand\\nback\\nto\\npop\\nthe \\njoint;\\nremove\\nthe\\nleg\\nwith\\nthe\\nshears. \\nRepeat\\non\\nthe\\nother\\nside. \\nSeparate\\nthe\\ndrumsticks\\nfrom\\nthe \\nthighs\\nwith\\nthe\\nshears. \\nCut\\noff\\nthe\\nwings\\nas\\nclose\\nto\\nthe\\nbody \\nas\\npossible. \\nInsert\\nthe\\nshears\\ninto\\nthe\\ntail\\nend\\nof \\nthe\\nchicken\\nand\\ncut\\nalong\\nthe \\nbreastbone. \\nPull\\nback\\none\\nof\\nthe\\nbreasts\\nand\\ncut\\nit \\noff\\nthe\\nbackbone.\\nRepeat\\non\\n\\nturnovers\\nbriefly.\\nSprinkle\\nwith \\nconfectioners'\\nsugar,\\nif\\ndesired,\\nand \\nserve\\nimmediately.\\nMama's\\nCollards\\n2\\nlarge\\nbunches\\ncollards,\\nstemmed, \\nwashed\\nvery\\nwell\\nand\\ntorn\\ninto\\npieces, \\n1\\nto\\n2\\ncups\\nwater,\\n2\\nto\\n3\\nchicken \\nthighs,\\n1/4\\ncup\\ncorn\\noil,\\nSalt\\nand \\npepper\\nto\\ntaste\\nBoil\\nchicken\\nabout\\n20\\nminutes.\\nAdd \\ncollards\\nand\\nseasoning.\\nLower\\nheat, \\ncook\\nabout\\n2\\nhours\\nor\\nuntil\\ngreens\\nare \\ntender.\\nAloo\\nPie\\nwith\\nApple-Mango\\nChutney\\n2\\nfirm\\nripe\\nmangoes,\\npeeled\\nand \\ndiced,\\n1\\nGolden\\nDelicious\\napple, \\npeeled\\nand\\ndiced,\\n1/4\\ncup\\npacked\\nlight \\nbrown\\nsugar,\\n1\\ntablespoon\\nfresh \\npeeled\\nand\\nthinly\\nsliced\\nginger,\\n1/2 \\nteaspoon\\nminced\\nhot\\nchile\\npepper, \\nsuch\\nas\\nserrano,\\n1/4\\ncup\\napple\\ncider \\nvinegar,\\nKosher\\nsalt\\nand\\nfreshly \\nground\\npepper,\\n1/4\\ncup\\nvegetable\\noil, \\n3\\nlarge\\nor\\n4\\nmedium\\nred\\nskin\\npotatoes \\n(about\\n1\\npound),\\npeeled\\nand\\ndiced,\\n1/2 \\nsweet\\nonion,\\nfinely\\nchopped,\\n1/4\\ncup \\nfinely\\nchopped\\ngreen\\nbell\\npepper,\\n1/4 \\ncup\\nfinely\\nchopped\\ncelery,\\n1\\nclove \\ngarlic,\\nminced,\\n1\\nteaspoon\\nground \\ncumin,\\nKosher\\nsalt\\nand\\nfreshly\\nground \\npepper,\\n\\nof\\nleaves. \\nHave\\na\\nflexible\\nsilicone\\nmuffin\\nmold \\n(or\\na\\nmetal\\nmuffin\\ntin\\nlined\\nwith \\nparchment\\npaper)\\non\\nthe\\nwork\\nsurface. \\nWhen\\nthe\\nsugar\\npetals\\nhave\\ncooled\\nbut \\nare\\nstill\\npliable,\\nset\\nthe\\npetals\\ninside \\nthe\\ncavity\\nof\\nthe\\nmold.\\nDip\\neach\\npetal \\nend\\ninto\\na\\nlittle\\nof\\nthe\\ncooked\\nsugar\\nso \\nyou\\ncan\\n\\\"glue\\\"\\nthe\\npetals\\ntogether. \\nThe\\ndepth\\nof\\nthe\\nmold\\ncavity\\nwill\\nhelp \\ngive\\nthe\\nflower\\na\\nthree-dimensional \\nlook.\\nRepeat\\nthis\\nprocess\\nwith\\nother \\nflower\\npetals\\nto\\nmake\\nmore\\nflowers. \\nWhen\\nyou\\nhave\\nthe\\ncenterpiece\\nbase \\nformed\\ninto\\nthe\\nshape\\nyou\\nwould\\nlike, \\nallow\\nit\\nto\\ncool\\ncompletely.\\nUse\\nmore \\ncooked\\nsugar\\n(which\\ncan\\nbe\\nreheated \\nin\\nthe\\nmicrowave\\nif\\nnecessary)\\nto \\n\\\"glue\\\"\\nthe\\nsugar\\nflowers\\nonto\\nthe\\nbase. \\nAdd\\nthe\\nleaves.\\nLemon-Pepper\\nRoast\\nChicken\\n1\\nstick\\nunsalted\\nbutter,\\nat\\nroom \\ntemperature,\\nGrated\\nzest\\nand\\njuice\\nof \\n1\\nlemon,\\n2\\ncloves\\ngarlic,\\n2\\nteaspoons \\nchopped\\nfresh\\nthyme,\\n2\\nteaspoons \\npaprika,\\nKosher\\nsalt\\nand\\nfreshly \\nground\\npepper,\\n2\\n4-to-5-pound \\nchickens,\\nrinsed\\nand\\npatted\\ndry,\\n1\\ncup \\ndry\\nwhite\\nwine\\nPreheat\\nthe\\n\\nQuestion: <|begin_of_text|><|start_header_id|>system<|end_header_id|>\\nYou are a helpful assistant.\\n<|eot_id|><|start_header_id|>user<|end_header_id|>\\nI have brussel sprouts and carrots, can you give me a healthy dairy-free recipe to make.\\n<|eot_id|><|start_header_id|>assistant<|end_header_id|>\\n\\nHelpful Answer:\", \"parameters\": {\"max_new_tokens\": 1000, \"top_p\": 0.9, \"temperature\": 0.6, \"stop\": [\"<|eot_id|>\"]}}\n"
     ]
    },
    {
     "ename": "KeyboardInterrupt",
     "evalue": "",
     "output_type": "error",
     "traceback": [
      "\u001b[0;31m---------------------------------------------------------------------------\u001b[0m",
      "\u001b[0;31mKeyboardInterrupt\u001b[0m                         Traceback (most recent call last)",
      "Cell \u001b[0;32mIn[52], line 1\u001b[0m\n\u001b[0;32m----> 1\u001b[0m answer \u001b[38;5;241m=\u001b[39m \u001b[43mwrapper_store_faiss\u001b[49m\u001b[38;5;241;43m.\u001b[39;49m\u001b[43mquery\u001b[49m\u001b[43m(\u001b[49m\u001b[43mquestion\u001b[49m\u001b[38;5;241;43m=\u001b[39;49m\u001b[43mPROMPT\u001b[49m\u001b[38;5;241;43m.\u001b[39;49m\u001b[43mformat\u001b[49m\u001b[43m(\u001b[49m\u001b[43mquery\u001b[49m\u001b[38;5;241;43m=\u001b[39;49m\u001b[43mquery_2\u001b[49m\u001b[43m)\u001b[49m\u001b[43m,\u001b[49m\u001b[43m \u001b[49m\u001b[43mllm\u001b[49m\u001b[38;5;241;43m=\u001b[39;49m\u001b[43mllm\u001b[49m\u001b[43m)\u001b[49m\n\u001b[1;32m      2\u001b[0m \u001b[38;5;28mprint\u001b[39m(answer)\n",
      "File \u001b[0;32m/opt/conda/lib/python3.11/site-packages/langchain/indexes/vectorstore.py:46\u001b[0m, in \u001b[0;36mVectorStoreIndexWrapper.query\u001b[0;34m(self, question, llm, retriever_kwargs, **kwargs)\u001b[0m\n\u001b[1;32m     42\u001b[0m retriever_kwargs \u001b[38;5;241m=\u001b[39m retriever_kwargs \u001b[38;5;129;01mor\u001b[39;00m {}\n\u001b[1;32m     43\u001b[0m chain \u001b[38;5;241m=\u001b[39m RetrievalQA\u001b[38;5;241m.\u001b[39mfrom_chain_type(\n\u001b[1;32m     44\u001b[0m     llm, retriever\u001b[38;5;241m=\u001b[39m\u001b[38;5;28mself\u001b[39m\u001b[38;5;241m.\u001b[39mvectorstore\u001b[38;5;241m.\u001b[39mas_retriever(\u001b[38;5;241m*\u001b[39m\u001b[38;5;241m*\u001b[39mretriever_kwargs), \u001b[38;5;241m*\u001b[39m\u001b[38;5;241m*\u001b[39mkwargs\n\u001b[1;32m     45\u001b[0m )\n\u001b[0;32m---> 46\u001b[0m \u001b[38;5;28;01mreturn\u001b[39;00m \u001b[43mchain\u001b[49m\u001b[38;5;241;43m.\u001b[39;49m\u001b[43minvoke\u001b[49m\u001b[43m(\u001b[49m\u001b[43m{\u001b[49m\u001b[43mchain\u001b[49m\u001b[38;5;241;43m.\u001b[39;49m\u001b[43minput_key\u001b[49m\u001b[43m:\u001b[49m\u001b[43m \u001b[49m\u001b[43mquestion\u001b[49m\u001b[43m}\u001b[49m\u001b[43m)\u001b[49m[chain\u001b[38;5;241m.\u001b[39moutput_key]\n",
      "File \u001b[0;32m/opt/conda/lib/python3.11/site-packages/langchain/chains/base.py:163\u001b[0m, in \u001b[0;36mChain.invoke\u001b[0;34m(self, input, config, **kwargs)\u001b[0m\n\u001b[1;32m    161\u001b[0m \u001b[38;5;28;01mexcept\u001b[39;00m \u001b[38;5;167;01mBaseException\u001b[39;00m \u001b[38;5;28;01mas\u001b[39;00m e:\n\u001b[1;32m    162\u001b[0m     run_manager\u001b[38;5;241m.\u001b[39mon_chain_error(e)\n\u001b[0;32m--> 163\u001b[0m     \u001b[38;5;28;01mraise\u001b[39;00m e\n\u001b[1;32m    164\u001b[0m run_manager\u001b[38;5;241m.\u001b[39mon_chain_end(outputs)\n\u001b[1;32m    166\u001b[0m \u001b[38;5;28;01mif\u001b[39;00m include_run_info:\n",
      "File \u001b[0;32m/opt/conda/lib/python3.11/site-packages/langchain/chains/base.py:153\u001b[0m, in \u001b[0;36mChain.invoke\u001b[0;34m(self, input, config, **kwargs)\u001b[0m\n\u001b[1;32m    150\u001b[0m \u001b[38;5;28;01mtry\u001b[39;00m:\n\u001b[1;32m    151\u001b[0m     \u001b[38;5;28mself\u001b[39m\u001b[38;5;241m.\u001b[39m_validate_inputs(inputs)\n\u001b[1;32m    152\u001b[0m     outputs \u001b[38;5;241m=\u001b[39m (\n\u001b[0;32m--> 153\u001b[0m         \u001b[38;5;28;43mself\u001b[39;49m\u001b[38;5;241;43m.\u001b[39;49m\u001b[43m_call\u001b[49m\u001b[43m(\u001b[49m\u001b[43minputs\u001b[49m\u001b[43m,\u001b[49m\u001b[43m \u001b[49m\u001b[43mrun_manager\u001b[49m\u001b[38;5;241;43m=\u001b[39;49m\u001b[43mrun_manager\u001b[49m\u001b[43m)\u001b[49m\n\u001b[1;32m    154\u001b[0m         \u001b[38;5;28;01mif\u001b[39;00m new_arg_supported\n\u001b[1;32m    155\u001b[0m         \u001b[38;5;28;01melse\u001b[39;00m \u001b[38;5;28mself\u001b[39m\u001b[38;5;241m.\u001b[39m_call(inputs)\n\u001b[1;32m    156\u001b[0m     )\n\u001b[1;32m    158\u001b[0m     final_outputs: Dict[\u001b[38;5;28mstr\u001b[39m, Any] \u001b[38;5;241m=\u001b[39m \u001b[38;5;28mself\u001b[39m\u001b[38;5;241m.\u001b[39mprep_outputs(\n\u001b[1;32m    159\u001b[0m         inputs, outputs, return_only_outputs\n\u001b[1;32m    160\u001b[0m     )\n\u001b[1;32m    161\u001b[0m \u001b[38;5;28;01mexcept\u001b[39;00m \u001b[38;5;167;01mBaseException\u001b[39;00m \u001b[38;5;28;01mas\u001b[39;00m e:\n",
      "File \u001b[0;32m/opt/conda/lib/python3.11/site-packages/langchain/chains/retrieval_qa/base.py:144\u001b[0m, in \u001b[0;36mBaseRetrievalQA._call\u001b[0;34m(self, inputs, run_manager)\u001b[0m\n\u001b[1;32m    142\u001b[0m \u001b[38;5;28;01melse\u001b[39;00m:\n\u001b[1;32m    143\u001b[0m     docs \u001b[38;5;241m=\u001b[39m \u001b[38;5;28mself\u001b[39m\u001b[38;5;241m.\u001b[39m_get_docs(question)  \u001b[38;5;66;03m# type: ignore[call-arg]\u001b[39;00m\n\u001b[0;32m--> 144\u001b[0m answer \u001b[38;5;241m=\u001b[39m \u001b[38;5;28;43mself\u001b[39;49m\u001b[38;5;241;43m.\u001b[39;49m\u001b[43mcombine_documents_chain\u001b[49m\u001b[38;5;241;43m.\u001b[39;49m\u001b[43mrun\u001b[49m\u001b[43m(\u001b[49m\n\u001b[1;32m    145\u001b[0m \u001b[43m    \u001b[49m\u001b[43minput_documents\u001b[49m\u001b[38;5;241;43m=\u001b[39;49m\u001b[43mdocs\u001b[49m\u001b[43m,\u001b[49m\u001b[43m \u001b[49m\u001b[43mquestion\u001b[49m\u001b[38;5;241;43m=\u001b[39;49m\u001b[43mquestion\u001b[49m\u001b[43m,\u001b[49m\u001b[43m \u001b[49m\u001b[43mcallbacks\u001b[49m\u001b[38;5;241;43m=\u001b[39;49m\u001b[43m_run_manager\u001b[49m\u001b[38;5;241;43m.\u001b[39;49m\u001b[43mget_child\u001b[49m\u001b[43m(\u001b[49m\u001b[43m)\u001b[49m\n\u001b[1;32m    146\u001b[0m \u001b[43m\u001b[49m\u001b[43m)\u001b[49m\n\u001b[1;32m    148\u001b[0m \u001b[38;5;28;01mif\u001b[39;00m \u001b[38;5;28mself\u001b[39m\u001b[38;5;241m.\u001b[39mreturn_source_documents:\n\u001b[1;32m    149\u001b[0m     \u001b[38;5;28;01mreturn\u001b[39;00m {\u001b[38;5;28mself\u001b[39m\u001b[38;5;241m.\u001b[39moutput_key: answer, \u001b[38;5;124m\"\u001b[39m\u001b[38;5;124msource_documents\u001b[39m\u001b[38;5;124m\"\u001b[39m: docs}\n",
      "File \u001b[0;32m/opt/conda/lib/python3.11/site-packages/langchain_core/_api/deprecation.py:148\u001b[0m, in \u001b[0;36mdeprecated.<locals>.deprecate.<locals>.warning_emitting_wrapper\u001b[0;34m(*args, **kwargs)\u001b[0m\n\u001b[1;32m    146\u001b[0m     warned \u001b[38;5;241m=\u001b[39m \u001b[38;5;28;01mTrue\u001b[39;00m\n\u001b[1;32m    147\u001b[0m     emit_warning()\n\u001b[0;32m--> 148\u001b[0m \u001b[38;5;28;01mreturn\u001b[39;00m \u001b[43mwrapped\u001b[49m\u001b[43m(\u001b[49m\u001b[38;5;241;43m*\u001b[39;49m\u001b[43margs\u001b[49m\u001b[43m,\u001b[49m\u001b[43m \u001b[49m\u001b[38;5;241;43m*\u001b[39;49m\u001b[38;5;241;43m*\u001b[39;49m\u001b[43mkwargs\u001b[49m\u001b[43m)\u001b[49m\n",
      "File \u001b[0;32m/opt/conda/lib/python3.11/site-packages/langchain/chains/base.py:574\u001b[0m, in \u001b[0;36mChain.run\u001b[0;34m(self, callbacks, tags, metadata, *args, **kwargs)\u001b[0m\n\u001b[1;32m    569\u001b[0m     \u001b[38;5;28;01mreturn\u001b[39;00m \u001b[38;5;28mself\u001b[39m(args[\u001b[38;5;241m0\u001b[39m], callbacks\u001b[38;5;241m=\u001b[39mcallbacks, tags\u001b[38;5;241m=\u001b[39mtags, metadata\u001b[38;5;241m=\u001b[39mmetadata)[\n\u001b[1;32m    570\u001b[0m         _output_key\n\u001b[1;32m    571\u001b[0m     ]\n\u001b[1;32m    573\u001b[0m \u001b[38;5;28;01mif\u001b[39;00m kwargs \u001b[38;5;129;01mand\u001b[39;00m \u001b[38;5;129;01mnot\u001b[39;00m args:\n\u001b[0;32m--> 574\u001b[0m     \u001b[38;5;28;01mreturn\u001b[39;00m \u001b[38;5;28;43mself\u001b[39;49m\u001b[43m(\u001b[49m\u001b[43mkwargs\u001b[49m\u001b[43m,\u001b[49m\u001b[43m \u001b[49m\u001b[43mcallbacks\u001b[49m\u001b[38;5;241;43m=\u001b[39;49m\u001b[43mcallbacks\u001b[49m\u001b[43m,\u001b[49m\u001b[43m \u001b[49m\u001b[43mtags\u001b[49m\u001b[38;5;241;43m=\u001b[39;49m\u001b[43mtags\u001b[49m\u001b[43m,\u001b[49m\u001b[43m \u001b[49m\u001b[43mmetadata\u001b[49m\u001b[38;5;241;43m=\u001b[39;49m\u001b[43mmetadata\u001b[49m\u001b[43m)\u001b[49m[\n\u001b[1;32m    575\u001b[0m         _output_key\n\u001b[1;32m    576\u001b[0m     ]\n\u001b[1;32m    578\u001b[0m \u001b[38;5;28;01mif\u001b[39;00m \u001b[38;5;129;01mnot\u001b[39;00m kwargs \u001b[38;5;129;01mand\u001b[39;00m \u001b[38;5;129;01mnot\u001b[39;00m args:\n\u001b[1;32m    579\u001b[0m     \u001b[38;5;28;01mraise\u001b[39;00m \u001b[38;5;167;01mValueError\u001b[39;00m(\n\u001b[1;32m    580\u001b[0m         \u001b[38;5;124m\"\u001b[39m\u001b[38;5;124m`run` supported with either positional arguments or keyword arguments,\u001b[39m\u001b[38;5;124m\"\u001b[39m\n\u001b[1;32m    581\u001b[0m         \u001b[38;5;124m\"\u001b[39m\u001b[38;5;124m but none were provided.\u001b[39m\u001b[38;5;124m\"\u001b[39m\n\u001b[1;32m    582\u001b[0m     )\n",
      "File \u001b[0;32m/opt/conda/lib/python3.11/site-packages/langchain_core/_api/deprecation.py:148\u001b[0m, in \u001b[0;36mdeprecated.<locals>.deprecate.<locals>.warning_emitting_wrapper\u001b[0;34m(*args, **kwargs)\u001b[0m\n\u001b[1;32m    146\u001b[0m     warned \u001b[38;5;241m=\u001b[39m \u001b[38;5;28;01mTrue\u001b[39;00m\n\u001b[1;32m    147\u001b[0m     emit_warning()\n\u001b[0;32m--> 148\u001b[0m \u001b[38;5;28;01mreturn\u001b[39;00m \u001b[43mwrapped\u001b[49m\u001b[43m(\u001b[49m\u001b[38;5;241;43m*\u001b[39;49m\u001b[43margs\u001b[49m\u001b[43m,\u001b[49m\u001b[43m \u001b[49m\u001b[38;5;241;43m*\u001b[39;49m\u001b[38;5;241;43m*\u001b[39;49m\u001b[43mkwargs\u001b[49m\u001b[43m)\u001b[49m\n",
      "File \u001b[0;32m/opt/conda/lib/python3.11/site-packages/langchain/chains/base.py:378\u001b[0m, in \u001b[0;36mChain.__call__\u001b[0;34m(self, inputs, return_only_outputs, callbacks, tags, metadata, run_name, include_run_info)\u001b[0m\n\u001b[1;32m    346\u001b[0m \u001b[38;5;250m\u001b[39m\u001b[38;5;124;03m\"\"\"Execute the chain.\u001b[39;00m\n\u001b[1;32m    347\u001b[0m \n\u001b[1;32m    348\u001b[0m \u001b[38;5;124;03mArgs:\u001b[39;00m\n\u001b[0;32m   (...)\u001b[0m\n\u001b[1;32m    369\u001b[0m \u001b[38;5;124;03m        `Chain.output_keys`.\u001b[39;00m\n\u001b[1;32m    370\u001b[0m \u001b[38;5;124;03m\"\"\"\u001b[39;00m\n\u001b[1;32m    371\u001b[0m config \u001b[38;5;241m=\u001b[39m {\n\u001b[1;32m    372\u001b[0m     \u001b[38;5;124m\"\u001b[39m\u001b[38;5;124mcallbacks\u001b[39m\u001b[38;5;124m\"\u001b[39m: callbacks,\n\u001b[1;32m    373\u001b[0m     \u001b[38;5;124m\"\u001b[39m\u001b[38;5;124mtags\u001b[39m\u001b[38;5;124m\"\u001b[39m: tags,\n\u001b[1;32m    374\u001b[0m     \u001b[38;5;124m\"\u001b[39m\u001b[38;5;124mmetadata\u001b[39m\u001b[38;5;124m\"\u001b[39m: metadata,\n\u001b[1;32m    375\u001b[0m     \u001b[38;5;124m\"\u001b[39m\u001b[38;5;124mrun_name\u001b[39m\u001b[38;5;124m\"\u001b[39m: run_name,\n\u001b[1;32m    376\u001b[0m }\n\u001b[0;32m--> 378\u001b[0m \u001b[38;5;28;01mreturn\u001b[39;00m \u001b[38;5;28;43mself\u001b[39;49m\u001b[38;5;241;43m.\u001b[39;49m\u001b[43minvoke\u001b[49m\u001b[43m(\u001b[49m\n\u001b[1;32m    379\u001b[0m \u001b[43m    \u001b[49m\u001b[43minputs\u001b[49m\u001b[43m,\u001b[49m\n\u001b[1;32m    380\u001b[0m \u001b[43m    \u001b[49m\u001b[43mcast\u001b[49m\u001b[43m(\u001b[49m\u001b[43mRunnableConfig\u001b[49m\u001b[43m,\u001b[49m\u001b[43m \u001b[49m\u001b[43m{\u001b[49m\u001b[43mk\u001b[49m\u001b[43m:\u001b[49m\u001b[43m \u001b[49m\u001b[43mv\u001b[49m\u001b[43m \u001b[49m\u001b[38;5;28;43;01mfor\u001b[39;49;00m\u001b[43m \u001b[49m\u001b[43mk\u001b[49m\u001b[43m,\u001b[49m\u001b[43m \u001b[49m\u001b[43mv\u001b[49m\u001b[43m \u001b[49m\u001b[38;5;129;43;01min\u001b[39;49;00m\u001b[43m \u001b[49m\u001b[43mconfig\u001b[49m\u001b[38;5;241;43m.\u001b[39;49m\u001b[43mitems\u001b[49m\u001b[43m(\u001b[49m\u001b[43m)\u001b[49m\u001b[43m \u001b[49m\u001b[38;5;28;43;01mif\u001b[39;49;00m\u001b[43m \u001b[49m\u001b[43mv\u001b[49m\u001b[43m \u001b[49m\u001b[38;5;129;43;01mis\u001b[39;49;00m\u001b[43m \u001b[49m\u001b[38;5;129;43;01mnot\u001b[39;49;00m\u001b[43m \u001b[49m\u001b[38;5;28;43;01mNone\u001b[39;49;00m\u001b[43m}\u001b[49m\u001b[43m)\u001b[49m\u001b[43m,\u001b[49m\n\u001b[1;32m    381\u001b[0m \u001b[43m    \u001b[49m\u001b[43mreturn_only_outputs\u001b[49m\u001b[38;5;241;43m=\u001b[39;49m\u001b[43mreturn_only_outputs\u001b[49m\u001b[43m,\u001b[49m\n\u001b[1;32m    382\u001b[0m \u001b[43m    \u001b[49m\u001b[43minclude_run_info\u001b[49m\u001b[38;5;241;43m=\u001b[39;49m\u001b[43minclude_run_info\u001b[49m\u001b[43m,\u001b[49m\n\u001b[1;32m    383\u001b[0m \u001b[43m\u001b[49m\u001b[43m)\u001b[49m\n",
      "File \u001b[0;32m/opt/conda/lib/python3.11/site-packages/langchain/chains/base.py:163\u001b[0m, in \u001b[0;36mChain.invoke\u001b[0;34m(self, input, config, **kwargs)\u001b[0m\n\u001b[1;32m    161\u001b[0m \u001b[38;5;28;01mexcept\u001b[39;00m \u001b[38;5;167;01mBaseException\u001b[39;00m \u001b[38;5;28;01mas\u001b[39;00m e:\n\u001b[1;32m    162\u001b[0m     run_manager\u001b[38;5;241m.\u001b[39mon_chain_error(e)\n\u001b[0;32m--> 163\u001b[0m     \u001b[38;5;28;01mraise\u001b[39;00m e\n\u001b[1;32m    164\u001b[0m run_manager\u001b[38;5;241m.\u001b[39mon_chain_end(outputs)\n\u001b[1;32m    166\u001b[0m \u001b[38;5;28;01mif\u001b[39;00m include_run_info:\n",
      "File \u001b[0;32m/opt/conda/lib/python3.11/site-packages/langchain/chains/base.py:153\u001b[0m, in \u001b[0;36mChain.invoke\u001b[0;34m(self, input, config, **kwargs)\u001b[0m\n\u001b[1;32m    150\u001b[0m \u001b[38;5;28;01mtry\u001b[39;00m:\n\u001b[1;32m    151\u001b[0m     \u001b[38;5;28mself\u001b[39m\u001b[38;5;241m.\u001b[39m_validate_inputs(inputs)\n\u001b[1;32m    152\u001b[0m     outputs \u001b[38;5;241m=\u001b[39m (\n\u001b[0;32m--> 153\u001b[0m         \u001b[38;5;28;43mself\u001b[39;49m\u001b[38;5;241;43m.\u001b[39;49m\u001b[43m_call\u001b[49m\u001b[43m(\u001b[49m\u001b[43minputs\u001b[49m\u001b[43m,\u001b[49m\u001b[43m \u001b[49m\u001b[43mrun_manager\u001b[49m\u001b[38;5;241;43m=\u001b[39;49m\u001b[43mrun_manager\u001b[49m\u001b[43m)\u001b[49m\n\u001b[1;32m    154\u001b[0m         \u001b[38;5;28;01mif\u001b[39;00m new_arg_supported\n\u001b[1;32m    155\u001b[0m         \u001b[38;5;28;01melse\u001b[39;00m \u001b[38;5;28mself\u001b[39m\u001b[38;5;241m.\u001b[39m_call(inputs)\n\u001b[1;32m    156\u001b[0m     )\n\u001b[1;32m    158\u001b[0m     final_outputs: Dict[\u001b[38;5;28mstr\u001b[39m, Any] \u001b[38;5;241m=\u001b[39m \u001b[38;5;28mself\u001b[39m\u001b[38;5;241m.\u001b[39mprep_outputs(\n\u001b[1;32m    159\u001b[0m         inputs, outputs, return_only_outputs\n\u001b[1;32m    160\u001b[0m     )\n\u001b[1;32m    161\u001b[0m \u001b[38;5;28;01mexcept\u001b[39;00m \u001b[38;5;167;01mBaseException\u001b[39;00m \u001b[38;5;28;01mas\u001b[39;00m e:\n",
      "File \u001b[0;32m/opt/conda/lib/python3.11/site-packages/langchain/chains/combine_documents/base.py:137\u001b[0m, in \u001b[0;36mBaseCombineDocumentsChain._call\u001b[0;34m(self, inputs, run_manager)\u001b[0m\n\u001b[1;32m    135\u001b[0m \u001b[38;5;66;03m# Other keys are assumed to be needed for LLM prediction\u001b[39;00m\n\u001b[1;32m    136\u001b[0m other_keys \u001b[38;5;241m=\u001b[39m {k: v \u001b[38;5;28;01mfor\u001b[39;00m k, v \u001b[38;5;129;01min\u001b[39;00m inputs\u001b[38;5;241m.\u001b[39mitems() \u001b[38;5;28;01mif\u001b[39;00m k \u001b[38;5;241m!=\u001b[39m \u001b[38;5;28mself\u001b[39m\u001b[38;5;241m.\u001b[39minput_key}\n\u001b[0;32m--> 137\u001b[0m output, extra_return_dict \u001b[38;5;241m=\u001b[39m \u001b[38;5;28;43mself\u001b[39;49m\u001b[38;5;241;43m.\u001b[39;49m\u001b[43mcombine_docs\u001b[49m\u001b[43m(\u001b[49m\n\u001b[1;32m    138\u001b[0m \u001b[43m    \u001b[49m\u001b[43mdocs\u001b[49m\u001b[43m,\u001b[49m\u001b[43m \u001b[49m\u001b[43mcallbacks\u001b[49m\u001b[38;5;241;43m=\u001b[39;49m\u001b[43m_run_manager\u001b[49m\u001b[38;5;241;43m.\u001b[39;49m\u001b[43mget_child\u001b[49m\u001b[43m(\u001b[49m\u001b[43m)\u001b[49m\u001b[43m,\u001b[49m\u001b[43m \u001b[49m\u001b[38;5;241;43m*\u001b[39;49m\u001b[38;5;241;43m*\u001b[39;49m\u001b[43mother_keys\u001b[49m\n\u001b[1;32m    139\u001b[0m \u001b[43m\u001b[49m\u001b[43m)\u001b[49m\n\u001b[1;32m    140\u001b[0m extra_return_dict[\u001b[38;5;28mself\u001b[39m\u001b[38;5;241m.\u001b[39moutput_key] \u001b[38;5;241m=\u001b[39m output\n\u001b[1;32m    141\u001b[0m \u001b[38;5;28;01mreturn\u001b[39;00m extra_return_dict\n",
      "File \u001b[0;32m/opt/conda/lib/python3.11/site-packages/langchain/chains/combine_documents/stuff.py:244\u001b[0m, in \u001b[0;36mStuffDocumentsChain.combine_docs\u001b[0;34m(self, docs, callbacks, **kwargs)\u001b[0m\n\u001b[1;32m    242\u001b[0m inputs \u001b[38;5;241m=\u001b[39m \u001b[38;5;28mself\u001b[39m\u001b[38;5;241m.\u001b[39m_get_inputs(docs, \u001b[38;5;241m*\u001b[39m\u001b[38;5;241m*\u001b[39mkwargs)\n\u001b[1;32m    243\u001b[0m \u001b[38;5;66;03m# Call predict on the LLM.\u001b[39;00m\n\u001b[0;32m--> 244\u001b[0m \u001b[38;5;28;01mreturn\u001b[39;00m \u001b[38;5;28;43mself\u001b[39;49m\u001b[38;5;241;43m.\u001b[39;49m\u001b[43mllm_chain\u001b[49m\u001b[38;5;241;43m.\u001b[39;49m\u001b[43mpredict\u001b[49m\u001b[43m(\u001b[49m\u001b[43mcallbacks\u001b[49m\u001b[38;5;241;43m=\u001b[39;49m\u001b[43mcallbacks\u001b[49m\u001b[43m,\u001b[49m\u001b[43m \u001b[49m\u001b[38;5;241;43m*\u001b[39;49m\u001b[38;5;241;43m*\u001b[39;49m\u001b[43minputs\u001b[49m\u001b[43m)\u001b[49m, {}\n",
      "File \u001b[0;32m/opt/conda/lib/python3.11/site-packages/langchain/chains/llm.py:293\u001b[0m, in \u001b[0;36mLLMChain.predict\u001b[0;34m(self, callbacks, **kwargs)\u001b[0m\n\u001b[1;32m    278\u001b[0m \u001b[38;5;28;01mdef\u001b[39;00m \u001b[38;5;21mpredict\u001b[39m(\u001b[38;5;28mself\u001b[39m, callbacks: Callbacks \u001b[38;5;241m=\u001b[39m \u001b[38;5;28;01mNone\u001b[39;00m, \u001b[38;5;241m*\u001b[39m\u001b[38;5;241m*\u001b[39mkwargs: Any) \u001b[38;5;241m-\u001b[39m\u001b[38;5;241m>\u001b[39m \u001b[38;5;28mstr\u001b[39m:\n\u001b[1;32m    279\u001b[0m \u001b[38;5;250m    \u001b[39m\u001b[38;5;124;03m\"\"\"Format prompt with kwargs and pass to LLM.\u001b[39;00m\n\u001b[1;32m    280\u001b[0m \n\u001b[1;32m    281\u001b[0m \u001b[38;5;124;03m    Args:\u001b[39;00m\n\u001b[0;32m   (...)\u001b[0m\n\u001b[1;32m    291\u001b[0m \u001b[38;5;124;03m            completion = llm.predict(adjective=\"funny\")\u001b[39;00m\n\u001b[1;32m    292\u001b[0m \u001b[38;5;124;03m    \"\"\"\u001b[39;00m\n\u001b[0;32m--> 293\u001b[0m     \u001b[38;5;28;01mreturn\u001b[39;00m \u001b[38;5;28;43mself\u001b[39;49m\u001b[43m(\u001b[49m\u001b[43mkwargs\u001b[49m\u001b[43m,\u001b[49m\u001b[43m \u001b[49m\u001b[43mcallbacks\u001b[49m\u001b[38;5;241;43m=\u001b[39;49m\u001b[43mcallbacks\u001b[49m\u001b[43m)\u001b[49m[\u001b[38;5;28mself\u001b[39m\u001b[38;5;241m.\u001b[39moutput_key]\n",
      "File \u001b[0;32m/opt/conda/lib/python3.11/site-packages/langchain_core/_api/deprecation.py:148\u001b[0m, in \u001b[0;36mdeprecated.<locals>.deprecate.<locals>.warning_emitting_wrapper\u001b[0;34m(*args, **kwargs)\u001b[0m\n\u001b[1;32m    146\u001b[0m     warned \u001b[38;5;241m=\u001b[39m \u001b[38;5;28;01mTrue\u001b[39;00m\n\u001b[1;32m    147\u001b[0m     emit_warning()\n\u001b[0;32m--> 148\u001b[0m \u001b[38;5;28;01mreturn\u001b[39;00m \u001b[43mwrapped\u001b[49m\u001b[43m(\u001b[49m\u001b[38;5;241;43m*\u001b[39;49m\u001b[43margs\u001b[49m\u001b[43m,\u001b[49m\u001b[43m \u001b[49m\u001b[38;5;241;43m*\u001b[39;49m\u001b[38;5;241;43m*\u001b[39;49m\u001b[43mkwargs\u001b[49m\u001b[43m)\u001b[49m\n",
      "File \u001b[0;32m/opt/conda/lib/python3.11/site-packages/langchain/chains/base.py:378\u001b[0m, in \u001b[0;36mChain.__call__\u001b[0;34m(self, inputs, return_only_outputs, callbacks, tags, metadata, run_name, include_run_info)\u001b[0m\n\u001b[1;32m    346\u001b[0m \u001b[38;5;250m\u001b[39m\u001b[38;5;124;03m\"\"\"Execute the chain.\u001b[39;00m\n\u001b[1;32m    347\u001b[0m \n\u001b[1;32m    348\u001b[0m \u001b[38;5;124;03mArgs:\u001b[39;00m\n\u001b[0;32m   (...)\u001b[0m\n\u001b[1;32m    369\u001b[0m \u001b[38;5;124;03m        `Chain.output_keys`.\u001b[39;00m\n\u001b[1;32m    370\u001b[0m \u001b[38;5;124;03m\"\"\"\u001b[39;00m\n\u001b[1;32m    371\u001b[0m config \u001b[38;5;241m=\u001b[39m {\n\u001b[1;32m    372\u001b[0m     \u001b[38;5;124m\"\u001b[39m\u001b[38;5;124mcallbacks\u001b[39m\u001b[38;5;124m\"\u001b[39m: callbacks,\n\u001b[1;32m    373\u001b[0m     \u001b[38;5;124m\"\u001b[39m\u001b[38;5;124mtags\u001b[39m\u001b[38;5;124m\"\u001b[39m: tags,\n\u001b[1;32m    374\u001b[0m     \u001b[38;5;124m\"\u001b[39m\u001b[38;5;124mmetadata\u001b[39m\u001b[38;5;124m\"\u001b[39m: metadata,\n\u001b[1;32m    375\u001b[0m     \u001b[38;5;124m\"\u001b[39m\u001b[38;5;124mrun_name\u001b[39m\u001b[38;5;124m\"\u001b[39m: run_name,\n\u001b[1;32m    376\u001b[0m }\n\u001b[0;32m--> 378\u001b[0m \u001b[38;5;28;01mreturn\u001b[39;00m \u001b[38;5;28;43mself\u001b[39;49m\u001b[38;5;241;43m.\u001b[39;49m\u001b[43minvoke\u001b[49m\u001b[43m(\u001b[49m\n\u001b[1;32m    379\u001b[0m \u001b[43m    \u001b[49m\u001b[43minputs\u001b[49m\u001b[43m,\u001b[49m\n\u001b[1;32m    380\u001b[0m \u001b[43m    \u001b[49m\u001b[43mcast\u001b[49m\u001b[43m(\u001b[49m\u001b[43mRunnableConfig\u001b[49m\u001b[43m,\u001b[49m\u001b[43m \u001b[49m\u001b[43m{\u001b[49m\u001b[43mk\u001b[49m\u001b[43m:\u001b[49m\u001b[43m \u001b[49m\u001b[43mv\u001b[49m\u001b[43m \u001b[49m\u001b[38;5;28;43;01mfor\u001b[39;49;00m\u001b[43m \u001b[49m\u001b[43mk\u001b[49m\u001b[43m,\u001b[49m\u001b[43m \u001b[49m\u001b[43mv\u001b[49m\u001b[43m \u001b[49m\u001b[38;5;129;43;01min\u001b[39;49;00m\u001b[43m \u001b[49m\u001b[43mconfig\u001b[49m\u001b[38;5;241;43m.\u001b[39;49m\u001b[43mitems\u001b[49m\u001b[43m(\u001b[49m\u001b[43m)\u001b[49m\u001b[43m \u001b[49m\u001b[38;5;28;43;01mif\u001b[39;49;00m\u001b[43m \u001b[49m\u001b[43mv\u001b[49m\u001b[43m \u001b[49m\u001b[38;5;129;43;01mis\u001b[39;49;00m\u001b[43m \u001b[49m\u001b[38;5;129;43;01mnot\u001b[39;49;00m\u001b[43m \u001b[49m\u001b[38;5;28;43;01mNone\u001b[39;49;00m\u001b[43m}\u001b[49m\u001b[43m)\u001b[49m\u001b[43m,\u001b[49m\n\u001b[1;32m    381\u001b[0m \u001b[43m    \u001b[49m\u001b[43mreturn_only_outputs\u001b[49m\u001b[38;5;241;43m=\u001b[39;49m\u001b[43mreturn_only_outputs\u001b[49m\u001b[43m,\u001b[49m\n\u001b[1;32m    382\u001b[0m \u001b[43m    \u001b[49m\u001b[43minclude_run_info\u001b[49m\u001b[38;5;241;43m=\u001b[39;49m\u001b[43minclude_run_info\u001b[49m\u001b[43m,\u001b[49m\n\u001b[1;32m    383\u001b[0m \u001b[43m\u001b[49m\u001b[43m)\u001b[49m\n",
      "File \u001b[0;32m/opt/conda/lib/python3.11/site-packages/langchain/chains/base.py:163\u001b[0m, in \u001b[0;36mChain.invoke\u001b[0;34m(self, input, config, **kwargs)\u001b[0m\n\u001b[1;32m    161\u001b[0m \u001b[38;5;28;01mexcept\u001b[39;00m \u001b[38;5;167;01mBaseException\u001b[39;00m \u001b[38;5;28;01mas\u001b[39;00m e:\n\u001b[1;32m    162\u001b[0m     run_manager\u001b[38;5;241m.\u001b[39mon_chain_error(e)\n\u001b[0;32m--> 163\u001b[0m     \u001b[38;5;28;01mraise\u001b[39;00m e\n\u001b[1;32m    164\u001b[0m run_manager\u001b[38;5;241m.\u001b[39mon_chain_end(outputs)\n\u001b[1;32m    166\u001b[0m \u001b[38;5;28;01mif\u001b[39;00m include_run_info:\n",
      "File \u001b[0;32m/opt/conda/lib/python3.11/site-packages/langchain/chains/base.py:153\u001b[0m, in \u001b[0;36mChain.invoke\u001b[0;34m(self, input, config, **kwargs)\u001b[0m\n\u001b[1;32m    150\u001b[0m \u001b[38;5;28;01mtry\u001b[39;00m:\n\u001b[1;32m    151\u001b[0m     \u001b[38;5;28mself\u001b[39m\u001b[38;5;241m.\u001b[39m_validate_inputs(inputs)\n\u001b[1;32m    152\u001b[0m     outputs \u001b[38;5;241m=\u001b[39m (\n\u001b[0;32m--> 153\u001b[0m         \u001b[38;5;28;43mself\u001b[39;49m\u001b[38;5;241;43m.\u001b[39;49m\u001b[43m_call\u001b[49m\u001b[43m(\u001b[49m\u001b[43minputs\u001b[49m\u001b[43m,\u001b[49m\u001b[43m \u001b[49m\u001b[43mrun_manager\u001b[49m\u001b[38;5;241;43m=\u001b[39;49m\u001b[43mrun_manager\u001b[49m\u001b[43m)\u001b[49m\n\u001b[1;32m    154\u001b[0m         \u001b[38;5;28;01mif\u001b[39;00m new_arg_supported\n\u001b[1;32m    155\u001b[0m         \u001b[38;5;28;01melse\u001b[39;00m \u001b[38;5;28mself\u001b[39m\u001b[38;5;241m.\u001b[39m_call(inputs)\n\u001b[1;32m    156\u001b[0m     )\n\u001b[1;32m    158\u001b[0m     final_outputs: Dict[\u001b[38;5;28mstr\u001b[39m, Any] \u001b[38;5;241m=\u001b[39m \u001b[38;5;28mself\u001b[39m\u001b[38;5;241m.\u001b[39mprep_outputs(\n\u001b[1;32m    159\u001b[0m         inputs, outputs, return_only_outputs\n\u001b[1;32m    160\u001b[0m     )\n\u001b[1;32m    161\u001b[0m \u001b[38;5;28;01mexcept\u001b[39;00m \u001b[38;5;167;01mBaseException\u001b[39;00m \u001b[38;5;28;01mas\u001b[39;00m e:\n",
      "File \u001b[0;32m/opt/conda/lib/python3.11/site-packages/langchain/chains/llm.py:103\u001b[0m, in \u001b[0;36mLLMChain._call\u001b[0;34m(self, inputs, run_manager)\u001b[0m\n\u001b[1;32m     98\u001b[0m \u001b[38;5;28;01mdef\u001b[39;00m \u001b[38;5;21m_call\u001b[39m(\n\u001b[1;32m     99\u001b[0m     \u001b[38;5;28mself\u001b[39m,\n\u001b[1;32m    100\u001b[0m     inputs: Dict[\u001b[38;5;28mstr\u001b[39m, Any],\n\u001b[1;32m    101\u001b[0m     run_manager: Optional[CallbackManagerForChainRun] \u001b[38;5;241m=\u001b[39m \u001b[38;5;28;01mNone\u001b[39;00m,\n\u001b[1;32m    102\u001b[0m ) \u001b[38;5;241m-\u001b[39m\u001b[38;5;241m>\u001b[39m Dict[\u001b[38;5;28mstr\u001b[39m, \u001b[38;5;28mstr\u001b[39m]:\n\u001b[0;32m--> 103\u001b[0m     response \u001b[38;5;241m=\u001b[39m \u001b[38;5;28;43mself\u001b[39;49m\u001b[38;5;241;43m.\u001b[39;49m\u001b[43mgenerate\u001b[49m\u001b[43m(\u001b[49m\u001b[43m[\u001b[49m\u001b[43minputs\u001b[49m\u001b[43m]\u001b[49m\u001b[43m,\u001b[49m\u001b[43m \u001b[49m\u001b[43mrun_manager\u001b[49m\u001b[38;5;241;43m=\u001b[39;49m\u001b[43mrun_manager\u001b[49m\u001b[43m)\u001b[49m\n\u001b[1;32m    104\u001b[0m     \u001b[38;5;28;01mreturn\u001b[39;00m \u001b[38;5;28mself\u001b[39m\u001b[38;5;241m.\u001b[39mcreate_outputs(response)[\u001b[38;5;241m0\u001b[39m]\n",
      "File \u001b[0;32m/opt/conda/lib/python3.11/site-packages/langchain/chains/llm.py:115\u001b[0m, in \u001b[0;36mLLMChain.generate\u001b[0;34m(self, input_list, run_manager)\u001b[0m\n\u001b[1;32m    113\u001b[0m callbacks \u001b[38;5;241m=\u001b[39m run_manager\u001b[38;5;241m.\u001b[39mget_child() \u001b[38;5;28;01mif\u001b[39;00m run_manager \u001b[38;5;28;01melse\u001b[39;00m \u001b[38;5;28;01mNone\u001b[39;00m\n\u001b[1;32m    114\u001b[0m \u001b[38;5;28;01mif\u001b[39;00m \u001b[38;5;28misinstance\u001b[39m(\u001b[38;5;28mself\u001b[39m\u001b[38;5;241m.\u001b[39mllm, BaseLanguageModel):\n\u001b[0;32m--> 115\u001b[0m     \u001b[38;5;28;01mreturn\u001b[39;00m \u001b[38;5;28;43mself\u001b[39;49m\u001b[38;5;241;43m.\u001b[39;49m\u001b[43mllm\u001b[49m\u001b[38;5;241;43m.\u001b[39;49m\u001b[43mgenerate_prompt\u001b[49m\u001b[43m(\u001b[49m\n\u001b[1;32m    116\u001b[0m \u001b[43m        \u001b[49m\u001b[43mprompts\u001b[49m\u001b[43m,\u001b[49m\n\u001b[1;32m    117\u001b[0m \u001b[43m        \u001b[49m\u001b[43mstop\u001b[49m\u001b[43m,\u001b[49m\n\u001b[1;32m    118\u001b[0m \u001b[43m        \u001b[49m\u001b[43mcallbacks\u001b[49m\u001b[38;5;241;43m=\u001b[39;49m\u001b[43mcallbacks\u001b[49m\u001b[43m,\u001b[49m\n\u001b[1;32m    119\u001b[0m \u001b[43m        \u001b[49m\u001b[38;5;241;43m*\u001b[39;49m\u001b[38;5;241;43m*\u001b[39;49m\u001b[38;5;28;43mself\u001b[39;49m\u001b[38;5;241;43m.\u001b[39;49m\u001b[43mllm_kwargs\u001b[49m\u001b[43m,\u001b[49m\n\u001b[1;32m    120\u001b[0m \u001b[43m    \u001b[49m\u001b[43m)\u001b[49m\n\u001b[1;32m    121\u001b[0m \u001b[38;5;28;01melse\u001b[39;00m:\n\u001b[1;32m    122\u001b[0m     results \u001b[38;5;241m=\u001b[39m \u001b[38;5;28mself\u001b[39m\u001b[38;5;241m.\u001b[39mllm\u001b[38;5;241m.\u001b[39mbind(stop\u001b[38;5;241m=\u001b[39mstop, \u001b[38;5;241m*\u001b[39m\u001b[38;5;241m*\u001b[39m\u001b[38;5;28mself\u001b[39m\u001b[38;5;241m.\u001b[39mllm_kwargs)\u001b[38;5;241m.\u001b[39mbatch(\n\u001b[1;32m    123\u001b[0m         cast(List, prompts), {\u001b[38;5;124m\"\u001b[39m\u001b[38;5;124mcallbacks\u001b[39m\u001b[38;5;124m\"\u001b[39m: callbacks}\n\u001b[1;32m    124\u001b[0m     )\n",
      "File \u001b[0;32m/opt/conda/lib/python3.11/site-packages/langchain_core/language_models/llms.py:633\u001b[0m, in \u001b[0;36mBaseLLM.generate_prompt\u001b[0;34m(self, prompts, stop, callbacks, **kwargs)\u001b[0m\n\u001b[1;32m    625\u001b[0m \u001b[38;5;28;01mdef\u001b[39;00m \u001b[38;5;21mgenerate_prompt\u001b[39m(\n\u001b[1;32m    626\u001b[0m     \u001b[38;5;28mself\u001b[39m,\n\u001b[1;32m    627\u001b[0m     prompts: List[PromptValue],\n\u001b[0;32m   (...)\u001b[0m\n\u001b[1;32m    630\u001b[0m     \u001b[38;5;241m*\u001b[39m\u001b[38;5;241m*\u001b[39mkwargs: Any,\n\u001b[1;32m    631\u001b[0m ) \u001b[38;5;241m-\u001b[39m\u001b[38;5;241m>\u001b[39m LLMResult:\n\u001b[1;32m    632\u001b[0m     prompt_strings \u001b[38;5;241m=\u001b[39m [p\u001b[38;5;241m.\u001b[39mto_string() \u001b[38;5;28;01mfor\u001b[39;00m p \u001b[38;5;129;01min\u001b[39;00m prompts]\n\u001b[0;32m--> 633\u001b[0m     \u001b[38;5;28;01mreturn\u001b[39;00m \u001b[38;5;28;43mself\u001b[39;49m\u001b[38;5;241;43m.\u001b[39;49m\u001b[43mgenerate\u001b[49m\u001b[43m(\u001b[49m\u001b[43mprompt_strings\u001b[49m\u001b[43m,\u001b[49m\u001b[43m \u001b[49m\u001b[43mstop\u001b[49m\u001b[38;5;241;43m=\u001b[39;49m\u001b[43mstop\u001b[49m\u001b[43m,\u001b[49m\u001b[43m \u001b[49m\u001b[43mcallbacks\u001b[49m\u001b[38;5;241;43m=\u001b[39;49m\u001b[43mcallbacks\u001b[49m\u001b[43m,\u001b[49m\u001b[43m \u001b[49m\u001b[38;5;241;43m*\u001b[39;49m\u001b[38;5;241;43m*\u001b[39;49m\u001b[43mkwargs\u001b[49m\u001b[43m)\u001b[49m\n",
      "File \u001b[0;32m/opt/conda/lib/python3.11/site-packages/langchain_core/language_models/llms.py:803\u001b[0m, in \u001b[0;36mBaseLLM.generate\u001b[0;34m(self, prompts, stop, callbacks, tags, metadata, run_name, run_id, **kwargs)\u001b[0m\n\u001b[1;32m    788\u001b[0m \u001b[38;5;28;01mif\u001b[39;00m (\u001b[38;5;28mself\u001b[39m\u001b[38;5;241m.\u001b[39mcache \u001b[38;5;129;01mis\u001b[39;00m \u001b[38;5;28;01mNone\u001b[39;00m \u001b[38;5;129;01mand\u001b[39;00m get_llm_cache() \u001b[38;5;129;01mis\u001b[39;00m \u001b[38;5;28;01mNone\u001b[39;00m) \u001b[38;5;129;01mor\u001b[39;00m \u001b[38;5;28mself\u001b[39m\u001b[38;5;241m.\u001b[39mcache \u001b[38;5;129;01mis\u001b[39;00m \u001b[38;5;28;01mFalse\u001b[39;00m:\n\u001b[1;32m    789\u001b[0m     run_managers \u001b[38;5;241m=\u001b[39m [\n\u001b[1;32m    790\u001b[0m         callback_manager\u001b[38;5;241m.\u001b[39mon_llm_start(\n\u001b[1;32m    791\u001b[0m             dumpd(\u001b[38;5;28mself\u001b[39m),\n\u001b[0;32m   (...)\u001b[0m\n\u001b[1;32m    801\u001b[0m         )\n\u001b[1;32m    802\u001b[0m     ]\n\u001b[0;32m--> 803\u001b[0m     output \u001b[38;5;241m=\u001b[39m \u001b[38;5;28;43mself\u001b[39;49m\u001b[38;5;241;43m.\u001b[39;49m\u001b[43m_generate_helper\u001b[49m\u001b[43m(\u001b[49m\n\u001b[1;32m    804\u001b[0m \u001b[43m        \u001b[49m\u001b[43mprompts\u001b[49m\u001b[43m,\u001b[49m\u001b[43m \u001b[49m\u001b[43mstop\u001b[49m\u001b[43m,\u001b[49m\u001b[43m \u001b[49m\u001b[43mrun_managers\u001b[49m\u001b[43m,\u001b[49m\u001b[43m \u001b[49m\u001b[38;5;28;43mbool\u001b[39;49m\u001b[43m(\u001b[49m\u001b[43mnew_arg_supported\u001b[49m\u001b[43m)\u001b[49m\u001b[43m,\u001b[49m\u001b[43m \u001b[49m\u001b[38;5;241;43m*\u001b[39;49m\u001b[38;5;241;43m*\u001b[39;49m\u001b[43mkwargs\u001b[49m\n\u001b[1;32m    805\u001b[0m \u001b[43m    \u001b[49m\u001b[43m)\u001b[49m\n\u001b[1;32m    806\u001b[0m     \u001b[38;5;28;01mreturn\u001b[39;00m output\n\u001b[1;32m    807\u001b[0m \u001b[38;5;28;01mif\u001b[39;00m \u001b[38;5;28mlen\u001b[39m(missing_prompts) \u001b[38;5;241m>\u001b[39m \u001b[38;5;241m0\u001b[39m:\n",
      "File \u001b[0;32m/opt/conda/lib/python3.11/site-packages/langchain_core/language_models/llms.py:670\u001b[0m, in \u001b[0;36mBaseLLM._generate_helper\u001b[0;34m(self, prompts, stop, run_managers, new_arg_supported, **kwargs)\u001b[0m\n\u001b[1;32m    668\u001b[0m     \u001b[38;5;28;01mfor\u001b[39;00m run_manager \u001b[38;5;129;01min\u001b[39;00m run_managers:\n\u001b[1;32m    669\u001b[0m         run_manager\u001b[38;5;241m.\u001b[39mon_llm_error(e, response\u001b[38;5;241m=\u001b[39mLLMResult(generations\u001b[38;5;241m=\u001b[39m[]))\n\u001b[0;32m--> 670\u001b[0m     \u001b[38;5;28;01mraise\u001b[39;00m e\n\u001b[1;32m    671\u001b[0m flattened_outputs \u001b[38;5;241m=\u001b[39m output\u001b[38;5;241m.\u001b[39mflatten()\n\u001b[1;32m    672\u001b[0m \u001b[38;5;28;01mfor\u001b[39;00m manager, flattened_output \u001b[38;5;129;01min\u001b[39;00m \u001b[38;5;28mzip\u001b[39m(run_managers, flattened_outputs):\n",
      "File \u001b[0;32m/opt/conda/lib/python3.11/site-packages/langchain_core/language_models/llms.py:657\u001b[0m, in \u001b[0;36mBaseLLM._generate_helper\u001b[0;34m(self, prompts, stop, run_managers, new_arg_supported, **kwargs)\u001b[0m\n\u001b[1;32m    647\u001b[0m \u001b[38;5;28;01mdef\u001b[39;00m \u001b[38;5;21m_generate_helper\u001b[39m(\n\u001b[1;32m    648\u001b[0m     \u001b[38;5;28mself\u001b[39m,\n\u001b[1;32m    649\u001b[0m     prompts: List[\u001b[38;5;28mstr\u001b[39m],\n\u001b[0;32m   (...)\u001b[0m\n\u001b[1;32m    653\u001b[0m     \u001b[38;5;241m*\u001b[39m\u001b[38;5;241m*\u001b[39mkwargs: Any,\n\u001b[1;32m    654\u001b[0m ) \u001b[38;5;241m-\u001b[39m\u001b[38;5;241m>\u001b[39m LLMResult:\n\u001b[1;32m    655\u001b[0m     \u001b[38;5;28;01mtry\u001b[39;00m:\n\u001b[1;32m    656\u001b[0m         output \u001b[38;5;241m=\u001b[39m (\n\u001b[0;32m--> 657\u001b[0m             \u001b[38;5;28;43mself\u001b[39;49m\u001b[38;5;241;43m.\u001b[39;49m\u001b[43m_generate\u001b[49m\u001b[43m(\u001b[49m\n\u001b[1;32m    658\u001b[0m \u001b[43m                \u001b[49m\u001b[43mprompts\u001b[49m\u001b[43m,\u001b[49m\n\u001b[1;32m    659\u001b[0m \u001b[43m                \u001b[49m\u001b[43mstop\u001b[49m\u001b[38;5;241;43m=\u001b[39;49m\u001b[43mstop\u001b[49m\u001b[43m,\u001b[49m\n\u001b[1;32m    660\u001b[0m \u001b[43m                \u001b[49m\u001b[38;5;66;43;03m# TODO: support multiple run managers\u001b[39;49;00m\n\u001b[1;32m    661\u001b[0m \u001b[43m                \u001b[49m\u001b[43mrun_manager\u001b[49m\u001b[38;5;241;43m=\u001b[39;49m\u001b[43mrun_managers\u001b[49m\u001b[43m[\u001b[49m\u001b[38;5;241;43m0\u001b[39;49m\u001b[43m]\u001b[49m\u001b[43m \u001b[49m\u001b[38;5;28;43;01mif\u001b[39;49;00m\u001b[43m \u001b[49m\u001b[43mrun_managers\u001b[49m\u001b[43m \u001b[49m\u001b[38;5;28;43;01melse\u001b[39;49;00m\u001b[43m \u001b[49m\u001b[38;5;28;43;01mNone\u001b[39;49;00m\u001b[43m,\u001b[49m\n\u001b[1;32m    662\u001b[0m \u001b[43m                \u001b[49m\u001b[38;5;241;43m*\u001b[39;49m\u001b[38;5;241;43m*\u001b[39;49m\u001b[43mkwargs\u001b[49m\u001b[43m,\u001b[49m\n\u001b[1;32m    663\u001b[0m \u001b[43m            \u001b[49m\u001b[43m)\u001b[49m\n\u001b[1;32m    664\u001b[0m             \u001b[38;5;28;01mif\u001b[39;00m new_arg_supported\n\u001b[1;32m    665\u001b[0m             \u001b[38;5;28;01melse\u001b[39;00m \u001b[38;5;28mself\u001b[39m\u001b[38;5;241m.\u001b[39m_generate(prompts, stop\u001b[38;5;241m=\u001b[39mstop)\n\u001b[1;32m    666\u001b[0m         )\n\u001b[1;32m    667\u001b[0m     \u001b[38;5;28;01mexcept\u001b[39;00m \u001b[38;5;167;01mBaseException\u001b[39;00m \u001b[38;5;28;01mas\u001b[39;00m e:\n\u001b[1;32m    668\u001b[0m         \u001b[38;5;28;01mfor\u001b[39;00m run_manager \u001b[38;5;129;01min\u001b[39;00m run_managers:\n",
      "File \u001b[0;32m/opt/conda/lib/python3.11/site-packages/langchain_core/language_models/llms.py:1317\u001b[0m, in \u001b[0;36mLLM._generate\u001b[0;34m(self, prompts, stop, run_manager, **kwargs)\u001b[0m\n\u001b[1;32m   1314\u001b[0m new_arg_supported \u001b[38;5;241m=\u001b[39m inspect\u001b[38;5;241m.\u001b[39msignature(\u001b[38;5;28mself\u001b[39m\u001b[38;5;241m.\u001b[39m_call)\u001b[38;5;241m.\u001b[39mparameters\u001b[38;5;241m.\u001b[39mget(\u001b[38;5;124m\"\u001b[39m\u001b[38;5;124mrun_manager\u001b[39m\u001b[38;5;124m\"\u001b[39m)\n\u001b[1;32m   1315\u001b[0m \u001b[38;5;28;01mfor\u001b[39;00m prompt \u001b[38;5;129;01min\u001b[39;00m prompts:\n\u001b[1;32m   1316\u001b[0m     text \u001b[38;5;241m=\u001b[39m (\n\u001b[0;32m-> 1317\u001b[0m         \u001b[38;5;28;43mself\u001b[39;49m\u001b[38;5;241;43m.\u001b[39;49m\u001b[43m_call\u001b[49m\u001b[43m(\u001b[49m\u001b[43mprompt\u001b[49m\u001b[43m,\u001b[49m\u001b[43m \u001b[49m\u001b[43mstop\u001b[49m\u001b[38;5;241;43m=\u001b[39;49m\u001b[43mstop\u001b[49m\u001b[43m,\u001b[49m\u001b[43m \u001b[49m\u001b[43mrun_manager\u001b[49m\u001b[38;5;241;43m=\u001b[39;49m\u001b[43mrun_manager\u001b[49m\u001b[43m,\u001b[49m\u001b[43m \u001b[49m\u001b[38;5;241;43m*\u001b[39;49m\u001b[38;5;241;43m*\u001b[39;49m\u001b[43mkwargs\u001b[49m\u001b[43m)\u001b[49m\n\u001b[1;32m   1318\u001b[0m         \u001b[38;5;28;01mif\u001b[39;00m new_arg_supported\n\u001b[1;32m   1319\u001b[0m         \u001b[38;5;28;01melse\u001b[39;00m \u001b[38;5;28mself\u001b[39m\u001b[38;5;241m.\u001b[39m_call(prompt, stop\u001b[38;5;241m=\u001b[39mstop, \u001b[38;5;241m*\u001b[39m\u001b[38;5;241m*\u001b[39mkwargs)\n\u001b[1;32m   1320\u001b[0m     )\n\u001b[1;32m   1321\u001b[0m     generations\u001b[38;5;241m.\u001b[39mappend([Generation(text\u001b[38;5;241m=\u001b[39mtext)])\n\u001b[1;32m   1322\u001b[0m \u001b[38;5;28;01mreturn\u001b[39;00m LLMResult(generations\u001b[38;5;241m=\u001b[39mgenerations)\n",
      "File \u001b[0;32m/opt/conda/lib/python3.11/site-packages/langchain_community/llms/sagemaker_endpoint.py:354\u001b[0m, in \u001b[0;36mSagemakerEndpoint._call\u001b[0;34m(self, prompt, stop, run_manager, **kwargs)\u001b[0m\n\u001b[1;32m    352\u001b[0m \u001b[38;5;28;01melse\u001b[39;00m:\n\u001b[1;32m    353\u001b[0m     \u001b[38;5;28;01mtry\u001b[39;00m:\n\u001b[0;32m--> 354\u001b[0m         response \u001b[38;5;241m=\u001b[39m \u001b[38;5;28;43mself\u001b[39;49m\u001b[38;5;241;43m.\u001b[39;49m\u001b[43mclient\u001b[49m\u001b[38;5;241;43m.\u001b[39;49m\u001b[43minvoke_endpoint\u001b[49m\u001b[43m(\u001b[49m\n\u001b[1;32m    355\u001b[0m \u001b[43m            \u001b[49m\u001b[43mEndpointName\u001b[49m\u001b[38;5;241;43m=\u001b[39;49m\u001b[38;5;28;43mself\u001b[39;49m\u001b[38;5;241;43m.\u001b[39;49m\u001b[43mendpoint_name\u001b[49m\u001b[43m,\u001b[49m\n\u001b[1;32m    356\u001b[0m \u001b[43m            \u001b[49m\u001b[43mBody\u001b[49m\u001b[38;5;241;43m=\u001b[39;49m\u001b[43mbody\u001b[49m\u001b[43m,\u001b[49m\n\u001b[1;32m    357\u001b[0m \u001b[43m            \u001b[49m\u001b[43mContentType\u001b[49m\u001b[38;5;241;43m=\u001b[39;49m\u001b[43mcontent_type\u001b[49m\u001b[43m,\u001b[49m\n\u001b[1;32m    358\u001b[0m \u001b[43m            \u001b[49m\u001b[43mAccept\u001b[49m\u001b[38;5;241;43m=\u001b[39;49m\u001b[43maccepts\u001b[49m\u001b[43m,\u001b[49m\n\u001b[1;32m    359\u001b[0m \u001b[43m            \u001b[49m\u001b[38;5;241;43m*\u001b[39;49m\u001b[38;5;241;43m*\u001b[39;49m\u001b[43m_endpoint_kwargs\u001b[49m\u001b[43m,\u001b[49m\n\u001b[1;32m    360\u001b[0m \u001b[43m        \u001b[49m\u001b[43m)\u001b[49m\n\u001b[1;32m    361\u001b[0m     \u001b[38;5;28;01mexcept\u001b[39;00m \u001b[38;5;167;01mException\u001b[39;00m \u001b[38;5;28;01mas\u001b[39;00m e:\n\u001b[1;32m    362\u001b[0m         \u001b[38;5;28;01mraise\u001b[39;00m \u001b[38;5;167;01mValueError\u001b[39;00m(\u001b[38;5;124mf\u001b[39m\u001b[38;5;124m\"\u001b[39m\u001b[38;5;124mError raised by inference endpoint: \u001b[39m\u001b[38;5;132;01m{\u001b[39;00me\u001b[38;5;132;01m}\u001b[39;00m\u001b[38;5;124m\"\u001b[39m)\n",
      "File \u001b[0;32m/opt/conda/lib/python3.11/site-packages/botocore/client.py:565\u001b[0m, in \u001b[0;36mClientCreator._create_api_method.<locals>._api_call\u001b[0;34m(self, *args, **kwargs)\u001b[0m\n\u001b[1;32m    561\u001b[0m     \u001b[38;5;28;01mraise\u001b[39;00m \u001b[38;5;167;01mTypeError\u001b[39;00m(\n\u001b[1;32m    562\u001b[0m         \u001b[38;5;124mf\u001b[39m\u001b[38;5;124m\"\u001b[39m\u001b[38;5;132;01m{\u001b[39;00mpy_operation_name\u001b[38;5;132;01m}\u001b[39;00m\u001b[38;5;124m() only accepts keyword arguments.\u001b[39m\u001b[38;5;124m\"\u001b[39m\n\u001b[1;32m    563\u001b[0m     )\n\u001b[1;32m    564\u001b[0m \u001b[38;5;66;03m# The \"self\" in this scope is referring to the BaseClient.\u001b[39;00m\n\u001b[0;32m--> 565\u001b[0m \u001b[38;5;28;01mreturn\u001b[39;00m \u001b[38;5;28;43mself\u001b[39;49m\u001b[38;5;241;43m.\u001b[39;49m\u001b[43m_make_api_call\u001b[49m\u001b[43m(\u001b[49m\u001b[43moperation_name\u001b[49m\u001b[43m,\u001b[49m\u001b[43m \u001b[49m\u001b[43mkwargs\u001b[49m\u001b[43m)\u001b[49m\n",
      "File \u001b[0;32m/opt/conda/lib/python3.11/site-packages/botocore/client.py:1001\u001b[0m, in \u001b[0;36mBaseClient._make_api_call\u001b[0;34m(self, operation_name, api_params)\u001b[0m\n\u001b[1;32m    997\u001b[0m     maybe_compress_request(\n\u001b[1;32m    998\u001b[0m         \u001b[38;5;28mself\u001b[39m\u001b[38;5;241m.\u001b[39mmeta\u001b[38;5;241m.\u001b[39mconfig, request_dict, operation_model\n\u001b[1;32m    999\u001b[0m     )\n\u001b[1;32m   1000\u001b[0m     apply_request_checksum(request_dict)\n\u001b[0;32m-> 1001\u001b[0m     http, parsed_response \u001b[38;5;241m=\u001b[39m \u001b[38;5;28;43mself\u001b[39;49m\u001b[38;5;241;43m.\u001b[39;49m\u001b[43m_make_request\u001b[49m\u001b[43m(\u001b[49m\n\u001b[1;32m   1002\u001b[0m \u001b[43m        \u001b[49m\u001b[43moperation_model\u001b[49m\u001b[43m,\u001b[49m\u001b[43m \u001b[49m\u001b[43mrequest_dict\u001b[49m\u001b[43m,\u001b[49m\u001b[43m \u001b[49m\u001b[43mrequest_context\u001b[49m\n\u001b[1;32m   1003\u001b[0m \u001b[43m    \u001b[49m\u001b[43m)\u001b[49m\n\u001b[1;32m   1005\u001b[0m \u001b[38;5;28mself\u001b[39m\u001b[38;5;241m.\u001b[39mmeta\u001b[38;5;241m.\u001b[39mevents\u001b[38;5;241m.\u001b[39memit(\n\u001b[1;32m   1006\u001b[0m     \u001b[38;5;124m'\u001b[39m\u001b[38;5;124mafter-call.\u001b[39m\u001b[38;5;132;01m{service_id}\u001b[39;00m\u001b[38;5;124m.\u001b[39m\u001b[38;5;132;01m{operation_name}\u001b[39;00m\u001b[38;5;124m'\u001b[39m\u001b[38;5;241m.\u001b[39mformat(\n\u001b[1;32m   1007\u001b[0m         service_id\u001b[38;5;241m=\u001b[39mservice_id, operation_name\u001b[38;5;241m=\u001b[39moperation_name\n\u001b[0;32m   (...)\u001b[0m\n\u001b[1;32m   1012\u001b[0m     context\u001b[38;5;241m=\u001b[39mrequest_context,\n\u001b[1;32m   1013\u001b[0m )\n\u001b[1;32m   1015\u001b[0m \u001b[38;5;28;01mif\u001b[39;00m http\u001b[38;5;241m.\u001b[39mstatus_code \u001b[38;5;241m>\u001b[39m\u001b[38;5;241m=\u001b[39m \u001b[38;5;241m300\u001b[39m:\n",
      "File \u001b[0;32m/opt/conda/lib/python3.11/site-packages/botocore/client.py:1027\u001b[0m, in \u001b[0;36mBaseClient._make_request\u001b[0;34m(self, operation_model, request_dict, request_context)\u001b[0m\n\u001b[1;32m   1025\u001b[0m \u001b[38;5;28;01mdef\u001b[39;00m \u001b[38;5;21m_make_request\u001b[39m(\u001b[38;5;28mself\u001b[39m, operation_model, request_dict, request_context):\n\u001b[1;32m   1026\u001b[0m     \u001b[38;5;28;01mtry\u001b[39;00m:\n\u001b[0;32m-> 1027\u001b[0m         \u001b[38;5;28;01mreturn\u001b[39;00m \u001b[38;5;28;43mself\u001b[39;49m\u001b[38;5;241;43m.\u001b[39;49m\u001b[43m_endpoint\u001b[49m\u001b[38;5;241;43m.\u001b[39;49m\u001b[43mmake_request\u001b[49m\u001b[43m(\u001b[49m\u001b[43moperation_model\u001b[49m\u001b[43m,\u001b[49m\u001b[43m \u001b[49m\u001b[43mrequest_dict\u001b[49m\u001b[43m)\u001b[49m\n\u001b[1;32m   1028\u001b[0m     \u001b[38;5;28;01mexcept\u001b[39;00m \u001b[38;5;167;01mException\u001b[39;00m \u001b[38;5;28;01mas\u001b[39;00m e:\n\u001b[1;32m   1029\u001b[0m         \u001b[38;5;28mself\u001b[39m\u001b[38;5;241m.\u001b[39mmeta\u001b[38;5;241m.\u001b[39mevents\u001b[38;5;241m.\u001b[39memit(\n\u001b[1;32m   1030\u001b[0m             \u001b[38;5;124m'\u001b[39m\u001b[38;5;124mafter-call-error.\u001b[39m\u001b[38;5;132;01m{service_id}\u001b[39;00m\u001b[38;5;124m.\u001b[39m\u001b[38;5;132;01m{operation_name}\u001b[39;00m\u001b[38;5;124m'\u001b[39m\u001b[38;5;241m.\u001b[39mformat(\n\u001b[1;32m   1031\u001b[0m                 service_id\u001b[38;5;241m=\u001b[39m\u001b[38;5;28mself\u001b[39m\u001b[38;5;241m.\u001b[39m_service_model\u001b[38;5;241m.\u001b[39mservice_id\u001b[38;5;241m.\u001b[39mhyphenize(),\n\u001b[0;32m   (...)\u001b[0m\n\u001b[1;32m   1035\u001b[0m             context\u001b[38;5;241m=\u001b[39mrequest_context,\n\u001b[1;32m   1036\u001b[0m         )\n",
      "File \u001b[0;32m/opt/conda/lib/python3.11/site-packages/botocore/endpoint.py:119\u001b[0m, in \u001b[0;36mEndpoint.make_request\u001b[0;34m(self, operation_model, request_dict)\u001b[0m\n\u001b[1;32m    113\u001b[0m \u001b[38;5;28;01mdef\u001b[39;00m \u001b[38;5;21mmake_request\u001b[39m(\u001b[38;5;28mself\u001b[39m, operation_model, request_dict):\n\u001b[1;32m    114\u001b[0m     logger\u001b[38;5;241m.\u001b[39mdebug(\n\u001b[1;32m    115\u001b[0m         \u001b[38;5;124m\"\u001b[39m\u001b[38;5;124mMaking request for \u001b[39m\u001b[38;5;132;01m%s\u001b[39;00m\u001b[38;5;124m with params: \u001b[39m\u001b[38;5;132;01m%s\u001b[39;00m\u001b[38;5;124m\"\u001b[39m,\n\u001b[1;32m    116\u001b[0m         operation_model,\n\u001b[1;32m    117\u001b[0m         request_dict,\n\u001b[1;32m    118\u001b[0m     )\n\u001b[0;32m--> 119\u001b[0m     \u001b[38;5;28;01mreturn\u001b[39;00m \u001b[38;5;28;43mself\u001b[39;49m\u001b[38;5;241;43m.\u001b[39;49m\u001b[43m_send_request\u001b[49m\u001b[43m(\u001b[49m\u001b[43mrequest_dict\u001b[49m\u001b[43m,\u001b[49m\u001b[43m \u001b[49m\u001b[43moperation_model\u001b[49m\u001b[43m)\u001b[49m\n",
      "File \u001b[0;32m/opt/conda/lib/python3.11/site-packages/botocore/endpoint.py:199\u001b[0m, in \u001b[0;36mEndpoint._send_request\u001b[0;34m(self, request_dict, operation_model)\u001b[0m\n\u001b[1;32m    197\u001b[0m \u001b[38;5;28mself\u001b[39m\u001b[38;5;241m.\u001b[39m_update_retries_context(context, attempts)\n\u001b[1;32m    198\u001b[0m request \u001b[38;5;241m=\u001b[39m \u001b[38;5;28mself\u001b[39m\u001b[38;5;241m.\u001b[39mcreate_request(request_dict, operation_model)\n\u001b[0;32m--> 199\u001b[0m success_response, exception \u001b[38;5;241m=\u001b[39m \u001b[38;5;28;43mself\u001b[39;49m\u001b[38;5;241;43m.\u001b[39;49m\u001b[43m_get_response\u001b[49m\u001b[43m(\u001b[49m\n\u001b[1;32m    200\u001b[0m \u001b[43m    \u001b[49m\u001b[43mrequest\u001b[49m\u001b[43m,\u001b[49m\u001b[43m \u001b[49m\u001b[43moperation_model\u001b[49m\u001b[43m,\u001b[49m\u001b[43m \u001b[49m\u001b[43mcontext\u001b[49m\n\u001b[1;32m    201\u001b[0m \u001b[43m\u001b[49m\u001b[43m)\u001b[49m\n\u001b[1;32m    202\u001b[0m \u001b[38;5;28;01mwhile\u001b[39;00m \u001b[38;5;28mself\u001b[39m\u001b[38;5;241m.\u001b[39m_needs_retry(\n\u001b[1;32m    203\u001b[0m     attempts,\n\u001b[1;32m    204\u001b[0m     operation_model,\n\u001b[0;32m   (...)\u001b[0m\n\u001b[1;32m    207\u001b[0m     exception,\n\u001b[1;32m    208\u001b[0m ):\n\u001b[1;32m    209\u001b[0m     attempts \u001b[38;5;241m+\u001b[39m\u001b[38;5;241m=\u001b[39m \u001b[38;5;241m1\u001b[39m\n",
      "File \u001b[0;32m/opt/conda/lib/python3.11/site-packages/botocore/endpoint.py:241\u001b[0m, in \u001b[0;36mEndpoint._get_response\u001b[0;34m(self, request, operation_model, context)\u001b[0m\n\u001b[1;32m    235\u001b[0m \u001b[38;5;28;01mdef\u001b[39;00m \u001b[38;5;21m_get_response\u001b[39m(\u001b[38;5;28mself\u001b[39m, request, operation_model, context):\n\u001b[1;32m    236\u001b[0m     \u001b[38;5;66;03m# This will return a tuple of (success_response, exception)\u001b[39;00m\n\u001b[1;32m    237\u001b[0m     \u001b[38;5;66;03m# and success_response is itself a tuple of\u001b[39;00m\n\u001b[1;32m    238\u001b[0m     \u001b[38;5;66;03m# (http_response, parsed_dict).\u001b[39;00m\n\u001b[1;32m    239\u001b[0m     \u001b[38;5;66;03m# If an exception occurs then the success_response is None.\u001b[39;00m\n\u001b[1;32m    240\u001b[0m     \u001b[38;5;66;03m# If no exception occurs then exception is None.\u001b[39;00m\n\u001b[0;32m--> 241\u001b[0m     success_response, exception \u001b[38;5;241m=\u001b[39m \u001b[38;5;28;43mself\u001b[39;49m\u001b[38;5;241;43m.\u001b[39;49m\u001b[43m_do_get_response\u001b[49m\u001b[43m(\u001b[49m\n\u001b[1;32m    242\u001b[0m \u001b[43m        \u001b[49m\u001b[43mrequest\u001b[49m\u001b[43m,\u001b[49m\u001b[43m \u001b[49m\u001b[43moperation_model\u001b[49m\u001b[43m,\u001b[49m\u001b[43m \u001b[49m\u001b[43mcontext\u001b[49m\n\u001b[1;32m    243\u001b[0m \u001b[43m    \u001b[49m\u001b[43m)\u001b[49m\n\u001b[1;32m    244\u001b[0m     kwargs_to_emit \u001b[38;5;241m=\u001b[39m {\n\u001b[1;32m    245\u001b[0m         \u001b[38;5;124m'\u001b[39m\u001b[38;5;124mresponse_dict\u001b[39m\u001b[38;5;124m'\u001b[39m: \u001b[38;5;28;01mNone\u001b[39;00m,\n\u001b[1;32m    246\u001b[0m         \u001b[38;5;124m'\u001b[39m\u001b[38;5;124mparsed_response\u001b[39m\u001b[38;5;124m'\u001b[39m: \u001b[38;5;28;01mNone\u001b[39;00m,\n\u001b[1;32m    247\u001b[0m         \u001b[38;5;124m'\u001b[39m\u001b[38;5;124mcontext\u001b[39m\u001b[38;5;124m'\u001b[39m: context,\n\u001b[1;32m    248\u001b[0m         \u001b[38;5;124m'\u001b[39m\u001b[38;5;124mexception\u001b[39m\u001b[38;5;124m'\u001b[39m: exception,\n\u001b[1;32m    249\u001b[0m     }\n\u001b[1;32m    250\u001b[0m     \u001b[38;5;28;01mif\u001b[39;00m success_response \u001b[38;5;129;01mis\u001b[39;00m \u001b[38;5;129;01mnot\u001b[39;00m \u001b[38;5;28;01mNone\u001b[39;00m:\n",
      "File \u001b[0;32m/opt/conda/lib/python3.11/site-packages/botocore/endpoint.py:281\u001b[0m, in \u001b[0;36mEndpoint._do_get_response\u001b[0;34m(self, request, operation_model, context)\u001b[0m\n\u001b[1;32m    279\u001b[0m     http_response \u001b[38;5;241m=\u001b[39m first_non_none_response(responses)\n\u001b[1;32m    280\u001b[0m     \u001b[38;5;28;01mif\u001b[39;00m http_response \u001b[38;5;129;01mis\u001b[39;00m \u001b[38;5;28;01mNone\u001b[39;00m:\n\u001b[0;32m--> 281\u001b[0m         http_response \u001b[38;5;241m=\u001b[39m \u001b[38;5;28;43mself\u001b[39;49m\u001b[38;5;241;43m.\u001b[39;49m\u001b[43m_send\u001b[49m\u001b[43m(\u001b[49m\u001b[43mrequest\u001b[49m\u001b[43m)\u001b[49m\n\u001b[1;32m    282\u001b[0m \u001b[38;5;28;01mexcept\u001b[39;00m HTTPClientError \u001b[38;5;28;01mas\u001b[39;00m e:\n\u001b[1;32m    283\u001b[0m     \u001b[38;5;28;01mreturn\u001b[39;00m (\u001b[38;5;28;01mNone\u001b[39;00m, e)\n",
      "File \u001b[0;32m/opt/conda/lib/python3.11/site-packages/botocore/endpoint.py:377\u001b[0m, in \u001b[0;36mEndpoint._send\u001b[0;34m(self, request)\u001b[0m\n\u001b[1;32m    376\u001b[0m \u001b[38;5;28;01mdef\u001b[39;00m \u001b[38;5;21m_send\u001b[39m(\u001b[38;5;28mself\u001b[39m, request):\n\u001b[0;32m--> 377\u001b[0m     \u001b[38;5;28;01mreturn\u001b[39;00m \u001b[38;5;28;43mself\u001b[39;49m\u001b[38;5;241;43m.\u001b[39;49m\u001b[43mhttp_session\u001b[49m\u001b[38;5;241;43m.\u001b[39;49m\u001b[43msend\u001b[49m\u001b[43m(\u001b[49m\u001b[43mrequest\u001b[49m\u001b[43m)\u001b[49m\n",
      "File \u001b[0;32m/opt/conda/lib/python3.11/site-packages/botocore/httpsession.py:464\u001b[0m, in \u001b[0;36mURLLib3Session.send\u001b[0;34m(self, request)\u001b[0m\n\u001b[1;32m    461\u001b[0m     conn\u001b[38;5;241m.\u001b[39mproxy_headers[\u001b[38;5;124m'\u001b[39m\u001b[38;5;124mhost\u001b[39m\u001b[38;5;124m'\u001b[39m] \u001b[38;5;241m=\u001b[39m host\n\u001b[1;32m    463\u001b[0m request_target \u001b[38;5;241m=\u001b[39m \u001b[38;5;28mself\u001b[39m\u001b[38;5;241m.\u001b[39m_get_request_target(request\u001b[38;5;241m.\u001b[39murl, proxy_url)\n\u001b[0;32m--> 464\u001b[0m urllib_response \u001b[38;5;241m=\u001b[39m \u001b[43mconn\u001b[49m\u001b[38;5;241;43m.\u001b[39;49m\u001b[43murlopen\u001b[49m\u001b[43m(\u001b[49m\n\u001b[1;32m    465\u001b[0m \u001b[43m    \u001b[49m\u001b[43mmethod\u001b[49m\u001b[38;5;241;43m=\u001b[39;49m\u001b[43mrequest\u001b[49m\u001b[38;5;241;43m.\u001b[39;49m\u001b[43mmethod\u001b[49m\u001b[43m,\u001b[49m\n\u001b[1;32m    466\u001b[0m \u001b[43m    \u001b[49m\u001b[43murl\u001b[49m\u001b[38;5;241;43m=\u001b[39;49m\u001b[43mrequest_target\u001b[49m\u001b[43m,\u001b[49m\n\u001b[1;32m    467\u001b[0m \u001b[43m    \u001b[49m\u001b[43mbody\u001b[49m\u001b[38;5;241;43m=\u001b[39;49m\u001b[43mrequest\u001b[49m\u001b[38;5;241;43m.\u001b[39;49m\u001b[43mbody\u001b[49m\u001b[43m,\u001b[49m\n\u001b[1;32m    468\u001b[0m \u001b[43m    \u001b[49m\u001b[43mheaders\u001b[49m\u001b[38;5;241;43m=\u001b[39;49m\u001b[43mrequest\u001b[49m\u001b[38;5;241;43m.\u001b[39;49m\u001b[43mheaders\u001b[49m\u001b[43m,\u001b[49m\n\u001b[1;32m    469\u001b[0m \u001b[43m    \u001b[49m\u001b[43mretries\u001b[49m\u001b[38;5;241;43m=\u001b[39;49m\u001b[43mRetry\u001b[49m\u001b[43m(\u001b[49m\u001b[38;5;28;43;01mFalse\u001b[39;49;00m\u001b[43m)\u001b[49m\u001b[43m,\u001b[49m\n\u001b[1;32m    470\u001b[0m \u001b[43m    \u001b[49m\u001b[43massert_same_host\u001b[49m\u001b[38;5;241;43m=\u001b[39;49m\u001b[38;5;28;43;01mFalse\u001b[39;49;00m\u001b[43m,\u001b[49m\n\u001b[1;32m    471\u001b[0m \u001b[43m    \u001b[49m\u001b[43mpreload_content\u001b[49m\u001b[38;5;241;43m=\u001b[39;49m\u001b[38;5;28;43;01mFalse\u001b[39;49;00m\u001b[43m,\u001b[49m\n\u001b[1;32m    472\u001b[0m \u001b[43m    \u001b[49m\u001b[43mdecode_content\u001b[49m\u001b[38;5;241;43m=\u001b[39;49m\u001b[38;5;28;43;01mFalse\u001b[39;49;00m\u001b[43m,\u001b[49m\n\u001b[1;32m    473\u001b[0m \u001b[43m    \u001b[49m\u001b[43mchunked\u001b[49m\u001b[38;5;241;43m=\u001b[39;49m\u001b[38;5;28;43mself\u001b[39;49m\u001b[38;5;241;43m.\u001b[39;49m\u001b[43m_chunked\u001b[49m\u001b[43m(\u001b[49m\u001b[43mrequest\u001b[49m\u001b[38;5;241;43m.\u001b[39;49m\u001b[43mheaders\u001b[49m\u001b[43m)\u001b[49m\u001b[43m,\u001b[49m\n\u001b[1;32m    474\u001b[0m \u001b[43m\u001b[49m\u001b[43m)\u001b[49m\n\u001b[1;32m    476\u001b[0m http_response \u001b[38;5;241m=\u001b[39m botocore\u001b[38;5;241m.\u001b[39mawsrequest\u001b[38;5;241m.\u001b[39mAWSResponse(\n\u001b[1;32m    477\u001b[0m     request\u001b[38;5;241m.\u001b[39murl,\n\u001b[1;32m    478\u001b[0m     urllib_response\u001b[38;5;241m.\u001b[39mstatus,\n\u001b[1;32m    479\u001b[0m     urllib_response\u001b[38;5;241m.\u001b[39mheaders,\n\u001b[1;32m    480\u001b[0m     urllib_response,\n\u001b[1;32m    481\u001b[0m )\n\u001b[1;32m    483\u001b[0m \u001b[38;5;28;01mif\u001b[39;00m \u001b[38;5;129;01mnot\u001b[39;00m request\u001b[38;5;241m.\u001b[39mstream_output:\n\u001b[1;32m    484\u001b[0m     \u001b[38;5;66;03m# Cause the raw stream to be exhausted immediately. We do it\u001b[39;00m\n\u001b[1;32m    485\u001b[0m     \u001b[38;5;66;03m# this way instead of using preload_content because\u001b[39;00m\n\u001b[1;32m    486\u001b[0m     \u001b[38;5;66;03m# preload_content will never buffer chunked responses\u001b[39;00m\n",
      "File \u001b[0;32m/opt/conda/lib/python3.11/site-packages/urllib3/connectionpool.py:715\u001b[0m, in \u001b[0;36mHTTPConnectionPool.urlopen\u001b[0;34m(self, method, url, body, headers, retries, redirect, assert_same_host, timeout, pool_timeout, release_conn, chunked, body_pos, **response_kw)\u001b[0m\n\u001b[1;32m    712\u001b[0m     \u001b[38;5;28mself\u001b[39m\u001b[38;5;241m.\u001b[39m_prepare_proxy(conn)\n\u001b[1;32m    714\u001b[0m \u001b[38;5;66;03m# Make the request on the httplib connection object.\u001b[39;00m\n\u001b[0;32m--> 715\u001b[0m httplib_response \u001b[38;5;241m=\u001b[39m \u001b[38;5;28;43mself\u001b[39;49m\u001b[38;5;241;43m.\u001b[39;49m\u001b[43m_make_request\u001b[49m\u001b[43m(\u001b[49m\n\u001b[1;32m    716\u001b[0m \u001b[43m    \u001b[49m\u001b[43mconn\u001b[49m\u001b[43m,\u001b[49m\n\u001b[1;32m    717\u001b[0m \u001b[43m    \u001b[49m\u001b[43mmethod\u001b[49m\u001b[43m,\u001b[49m\n\u001b[1;32m    718\u001b[0m \u001b[43m    \u001b[49m\u001b[43murl\u001b[49m\u001b[43m,\u001b[49m\n\u001b[1;32m    719\u001b[0m \u001b[43m    \u001b[49m\u001b[43mtimeout\u001b[49m\u001b[38;5;241;43m=\u001b[39;49m\u001b[43mtimeout_obj\u001b[49m\u001b[43m,\u001b[49m\n\u001b[1;32m    720\u001b[0m \u001b[43m    \u001b[49m\u001b[43mbody\u001b[49m\u001b[38;5;241;43m=\u001b[39;49m\u001b[43mbody\u001b[49m\u001b[43m,\u001b[49m\n\u001b[1;32m    721\u001b[0m \u001b[43m    \u001b[49m\u001b[43mheaders\u001b[49m\u001b[38;5;241;43m=\u001b[39;49m\u001b[43mheaders\u001b[49m\u001b[43m,\u001b[49m\n\u001b[1;32m    722\u001b[0m \u001b[43m    \u001b[49m\u001b[43mchunked\u001b[49m\u001b[38;5;241;43m=\u001b[39;49m\u001b[43mchunked\u001b[49m\u001b[43m,\u001b[49m\n\u001b[1;32m    723\u001b[0m \u001b[43m\u001b[49m\u001b[43m)\u001b[49m\n\u001b[1;32m    725\u001b[0m \u001b[38;5;66;03m# If we're going to release the connection in ``finally:``, then\u001b[39;00m\n\u001b[1;32m    726\u001b[0m \u001b[38;5;66;03m# the response doesn't need to know about the connection. Otherwise\u001b[39;00m\n\u001b[1;32m    727\u001b[0m \u001b[38;5;66;03m# it will also try to release it and we'll have a double-release\u001b[39;00m\n\u001b[1;32m    728\u001b[0m \u001b[38;5;66;03m# mess.\u001b[39;00m\n\u001b[1;32m    729\u001b[0m response_conn \u001b[38;5;241m=\u001b[39m conn \u001b[38;5;28;01mif\u001b[39;00m \u001b[38;5;129;01mnot\u001b[39;00m release_conn \u001b[38;5;28;01melse\u001b[39;00m \u001b[38;5;28;01mNone\u001b[39;00m\n",
      "File \u001b[0;32m/opt/conda/lib/python3.11/site-packages/urllib3/connectionpool.py:467\u001b[0m, in \u001b[0;36mHTTPConnectionPool._make_request\u001b[0;34m(self, conn, method, url, timeout, chunked, **httplib_request_kw)\u001b[0m\n\u001b[1;32m    462\u001b[0m             httplib_response \u001b[38;5;241m=\u001b[39m conn\u001b[38;5;241m.\u001b[39mgetresponse()\n\u001b[1;32m    463\u001b[0m         \u001b[38;5;28;01mexcept\u001b[39;00m \u001b[38;5;167;01mBaseException\u001b[39;00m \u001b[38;5;28;01mas\u001b[39;00m e:\n\u001b[1;32m    464\u001b[0m             \u001b[38;5;66;03m# Remove the TypeError from the exception chain in\u001b[39;00m\n\u001b[1;32m    465\u001b[0m             \u001b[38;5;66;03m# Python 3 (including for exceptions like SystemExit).\u001b[39;00m\n\u001b[1;32m    466\u001b[0m             \u001b[38;5;66;03m# Otherwise it looks like a bug in the code.\u001b[39;00m\n\u001b[0;32m--> 467\u001b[0m             \u001b[43msix\u001b[49m\u001b[38;5;241;43m.\u001b[39;49m\u001b[43mraise_from\u001b[49m\u001b[43m(\u001b[49m\u001b[43me\u001b[49m\u001b[43m,\u001b[49m\u001b[43m \u001b[49m\u001b[38;5;28;43;01mNone\u001b[39;49;00m\u001b[43m)\u001b[49m\n\u001b[1;32m    468\u001b[0m \u001b[38;5;28;01mexcept\u001b[39;00m (SocketTimeout, BaseSSLError, SocketError) \u001b[38;5;28;01mas\u001b[39;00m e:\n\u001b[1;32m    469\u001b[0m     \u001b[38;5;28mself\u001b[39m\u001b[38;5;241m.\u001b[39m_raise_timeout(err\u001b[38;5;241m=\u001b[39me, url\u001b[38;5;241m=\u001b[39murl, timeout_value\u001b[38;5;241m=\u001b[39mread_timeout)\n",
      "File \u001b[0;32m<string>:3\u001b[0m, in \u001b[0;36mraise_from\u001b[0;34m(value, from_value)\u001b[0m\n",
      "File \u001b[0;32m/opt/conda/lib/python3.11/site-packages/urllib3/connectionpool.py:462\u001b[0m, in \u001b[0;36mHTTPConnectionPool._make_request\u001b[0;34m(self, conn, method, url, timeout, chunked, **httplib_request_kw)\u001b[0m\n\u001b[1;32m    459\u001b[0m \u001b[38;5;28;01mexcept\u001b[39;00m \u001b[38;5;167;01mTypeError\u001b[39;00m:\n\u001b[1;32m    460\u001b[0m     \u001b[38;5;66;03m# Python 3\u001b[39;00m\n\u001b[1;32m    461\u001b[0m     \u001b[38;5;28;01mtry\u001b[39;00m:\n\u001b[0;32m--> 462\u001b[0m         httplib_response \u001b[38;5;241m=\u001b[39m \u001b[43mconn\u001b[49m\u001b[38;5;241;43m.\u001b[39;49m\u001b[43mgetresponse\u001b[49m\u001b[43m(\u001b[49m\u001b[43m)\u001b[49m\n\u001b[1;32m    463\u001b[0m     \u001b[38;5;28;01mexcept\u001b[39;00m \u001b[38;5;167;01mBaseException\u001b[39;00m \u001b[38;5;28;01mas\u001b[39;00m e:\n\u001b[1;32m    464\u001b[0m         \u001b[38;5;66;03m# Remove the TypeError from the exception chain in\u001b[39;00m\n\u001b[1;32m    465\u001b[0m         \u001b[38;5;66;03m# Python 3 (including for exceptions like SystemExit).\u001b[39;00m\n\u001b[1;32m    466\u001b[0m         \u001b[38;5;66;03m# Otherwise it looks like a bug in the code.\u001b[39;00m\n\u001b[1;32m    467\u001b[0m         six\u001b[38;5;241m.\u001b[39mraise_from(e, \u001b[38;5;28;01mNone\u001b[39;00m)\n",
      "File \u001b[0;32m/opt/conda/lib/python3.11/http/client.py:1395\u001b[0m, in \u001b[0;36mHTTPConnection.getresponse\u001b[0;34m(self)\u001b[0m\n\u001b[1;32m   1393\u001b[0m \u001b[38;5;28;01mtry\u001b[39;00m:\n\u001b[1;32m   1394\u001b[0m     \u001b[38;5;28;01mtry\u001b[39;00m:\n\u001b[0;32m-> 1395\u001b[0m         \u001b[43mresponse\u001b[49m\u001b[38;5;241;43m.\u001b[39;49m\u001b[43mbegin\u001b[49m\u001b[43m(\u001b[49m\u001b[43m)\u001b[49m\n\u001b[1;32m   1396\u001b[0m     \u001b[38;5;28;01mexcept\u001b[39;00m \u001b[38;5;167;01mConnectionError\u001b[39;00m:\n\u001b[1;32m   1397\u001b[0m         \u001b[38;5;28mself\u001b[39m\u001b[38;5;241m.\u001b[39mclose()\n",
      "File \u001b[0;32m/opt/conda/lib/python3.11/http/client.py:325\u001b[0m, in \u001b[0;36mHTTPResponse.begin\u001b[0;34m(self)\u001b[0m\n\u001b[1;32m    323\u001b[0m \u001b[38;5;66;03m# read until we get a non-100 response\u001b[39;00m\n\u001b[1;32m    324\u001b[0m \u001b[38;5;28;01mwhile\u001b[39;00m \u001b[38;5;28;01mTrue\u001b[39;00m:\n\u001b[0;32m--> 325\u001b[0m     version, status, reason \u001b[38;5;241m=\u001b[39m \u001b[38;5;28;43mself\u001b[39;49m\u001b[38;5;241;43m.\u001b[39;49m\u001b[43m_read_status\u001b[49m\u001b[43m(\u001b[49m\u001b[43m)\u001b[49m\n\u001b[1;32m    326\u001b[0m     \u001b[38;5;28;01mif\u001b[39;00m status \u001b[38;5;241m!=\u001b[39m CONTINUE:\n\u001b[1;32m    327\u001b[0m         \u001b[38;5;28;01mbreak\u001b[39;00m\n",
      "File \u001b[0;32m/opt/conda/lib/python3.11/http/client.py:286\u001b[0m, in \u001b[0;36mHTTPResponse._read_status\u001b[0;34m(self)\u001b[0m\n\u001b[1;32m    285\u001b[0m \u001b[38;5;28;01mdef\u001b[39;00m \u001b[38;5;21m_read_status\u001b[39m(\u001b[38;5;28mself\u001b[39m):\n\u001b[0;32m--> 286\u001b[0m     line \u001b[38;5;241m=\u001b[39m \u001b[38;5;28mstr\u001b[39m(\u001b[38;5;28mself\u001b[39m\u001b[38;5;241m.\u001b[39mfp\u001b[38;5;241m.\u001b[39mreadline(_MAXLINE \u001b[38;5;241m+\u001b[39m \u001b[38;5;241m1\u001b[39m), \u001b[38;5;124m\"\u001b[39m\u001b[38;5;124miso-8859-1\u001b[39m\u001b[38;5;124m\"\u001b[39m)\n\u001b[1;32m    287\u001b[0m     \u001b[38;5;28;01mif\u001b[39;00m \u001b[38;5;28mlen\u001b[39m(line) \u001b[38;5;241m>\u001b[39m _MAXLINE:\n\u001b[1;32m    288\u001b[0m         \u001b[38;5;28;01mraise\u001b[39;00m LineTooLong(\u001b[38;5;124m\"\u001b[39m\u001b[38;5;124mstatus line\u001b[39m\u001b[38;5;124m\"\u001b[39m)\n",
      "File \u001b[0;32m/opt/conda/lib/python3.11/socket.py:706\u001b[0m, in \u001b[0;36mSocketIO.readinto\u001b[0;34m(self, b)\u001b[0m\n\u001b[1;32m    704\u001b[0m \u001b[38;5;28;01mwhile\u001b[39;00m \u001b[38;5;28;01mTrue\u001b[39;00m:\n\u001b[1;32m    705\u001b[0m     \u001b[38;5;28;01mtry\u001b[39;00m:\n\u001b[0;32m--> 706\u001b[0m         \u001b[38;5;28;01mreturn\u001b[39;00m \u001b[38;5;28;43mself\u001b[39;49m\u001b[38;5;241;43m.\u001b[39;49m\u001b[43m_sock\u001b[49m\u001b[38;5;241;43m.\u001b[39;49m\u001b[43mrecv_into\u001b[49m\u001b[43m(\u001b[49m\u001b[43mb\u001b[49m\u001b[43m)\u001b[49m\n\u001b[1;32m    707\u001b[0m     \u001b[38;5;28;01mexcept\u001b[39;00m timeout:\n\u001b[1;32m    708\u001b[0m         \u001b[38;5;28mself\u001b[39m\u001b[38;5;241m.\u001b[39m_timeout_occurred \u001b[38;5;241m=\u001b[39m \u001b[38;5;28;01mTrue\u001b[39;00m\n",
      "File \u001b[0;32m/opt/conda/lib/python3.11/ssl.py:1314\u001b[0m, in \u001b[0;36mSSLSocket.recv_into\u001b[0;34m(self, buffer, nbytes, flags)\u001b[0m\n\u001b[1;32m   1310\u001b[0m     \u001b[38;5;28;01mif\u001b[39;00m flags \u001b[38;5;241m!=\u001b[39m \u001b[38;5;241m0\u001b[39m:\n\u001b[1;32m   1311\u001b[0m         \u001b[38;5;28;01mraise\u001b[39;00m \u001b[38;5;167;01mValueError\u001b[39;00m(\n\u001b[1;32m   1312\u001b[0m           \u001b[38;5;124m\"\u001b[39m\u001b[38;5;124mnon-zero flags not allowed in calls to recv_into() on \u001b[39m\u001b[38;5;132;01m%s\u001b[39;00m\u001b[38;5;124m\"\u001b[39m \u001b[38;5;241m%\u001b[39m\n\u001b[1;32m   1313\u001b[0m           \u001b[38;5;28mself\u001b[39m\u001b[38;5;241m.\u001b[39m\u001b[38;5;18m__class__\u001b[39m)\n\u001b[0;32m-> 1314\u001b[0m     \u001b[38;5;28;01mreturn\u001b[39;00m \u001b[38;5;28;43mself\u001b[39;49m\u001b[38;5;241;43m.\u001b[39;49m\u001b[43mread\u001b[49m\u001b[43m(\u001b[49m\u001b[43mnbytes\u001b[49m\u001b[43m,\u001b[49m\u001b[43m \u001b[49m\u001b[43mbuffer\u001b[49m\u001b[43m)\u001b[49m\n\u001b[1;32m   1315\u001b[0m \u001b[38;5;28;01melse\u001b[39;00m:\n\u001b[1;32m   1316\u001b[0m     \u001b[38;5;28;01mreturn\u001b[39;00m \u001b[38;5;28msuper\u001b[39m()\u001b[38;5;241m.\u001b[39mrecv_into(buffer, nbytes, flags)\n",
      "File \u001b[0;32m/opt/conda/lib/python3.11/ssl.py:1166\u001b[0m, in \u001b[0;36mSSLSocket.read\u001b[0;34m(self, len, buffer)\u001b[0m\n\u001b[1;32m   1164\u001b[0m \u001b[38;5;28;01mtry\u001b[39;00m:\n\u001b[1;32m   1165\u001b[0m     \u001b[38;5;28;01mif\u001b[39;00m buffer \u001b[38;5;129;01mis\u001b[39;00m \u001b[38;5;129;01mnot\u001b[39;00m \u001b[38;5;28;01mNone\u001b[39;00m:\n\u001b[0;32m-> 1166\u001b[0m         \u001b[38;5;28;01mreturn\u001b[39;00m \u001b[38;5;28;43mself\u001b[39;49m\u001b[38;5;241;43m.\u001b[39;49m\u001b[43m_sslobj\u001b[49m\u001b[38;5;241;43m.\u001b[39;49m\u001b[43mread\u001b[49m\u001b[43m(\u001b[49m\u001b[38;5;28;43mlen\u001b[39;49m\u001b[43m,\u001b[49m\u001b[43m \u001b[49m\u001b[43mbuffer\u001b[49m\u001b[43m)\u001b[49m\n\u001b[1;32m   1167\u001b[0m     \u001b[38;5;28;01melse\u001b[39;00m:\n\u001b[1;32m   1168\u001b[0m         \u001b[38;5;28;01mreturn\u001b[39;00m \u001b[38;5;28mself\u001b[39m\u001b[38;5;241m.\u001b[39m_sslobj\u001b[38;5;241m.\u001b[39mread(\u001b[38;5;28mlen\u001b[39m)\n",
      "\u001b[0;31mKeyboardInterrupt\u001b[0m: "
     ]
    }
   ],
   "source": [
    "answer = wrapper_store_faiss.query(question=PROMPT.format(query=query_2), llm=llm)\n",
    "print(answer)"
   ]
  },
  {
   "cell_type": "code",
   "execution_count": 70,
   "id": "4e8b84b7-c69f-4390-80fe-ac86532c72b1",
   "metadata": {
    "id": "4e8b84b7-c69f-4390-80fe-ac86532c72b1"
   },
   "outputs": [],
   "source": [
    "from langchain.chains import RetrievalQA\n",
    "\n",
    "prompt_template = \"\"\"<|begin_of_text|><|start_header_id|>system<|end_header_id|>\n",
    "You are a helpful assistant that generates recipes in a well-structured format.\n",
    "Please generate a recipe.\n",
    "Ensure that ingredients are listed only once and avoid repeating any entries.\n",
    "The recipe should include the following sections:\n",
    "1. **Title** of the recipe\n",
    "2. **Ingredients List** with measurements (avoid repeats)\n",
    "3. **Instructions** in numbered steps for preparation\n",
    "\n",
    "Return the result in the following format:\n",
    "\n",
    "**Title:**\n",
    "Recipe title here\n",
    "\n",
    "**Ingredients:**\n",
    "- Ingredient 1\n",
    "- Ingredient 2\n",
    "- Ingredient 3\n",
    "\n",
    "**Instructions:**\n",
    "1. Step 1\n",
    "2. Step 2\n",
    "3. Step 3\n",
    "\n",
    "Make sure the formatting follows the above structure exactly.\n",
    "\n",
    "<|eot_id|><|start_header_id|>user<|end_header_id|>\n",
    "Use the following pieces of context to provide a concise answer to the question at the end. If you don't know the answer, just say that you don't know, don't try to make up an answer.\n",
    "#### Context ####\n",
    "{context}\n",
    "#### End of Context ####\n",
    "\n",
    "Question: {question}\n",
    "<|eot_id|><|start_header_id|>assistant<|end_header_id|>\n",
    "\"\"\"\n",
    "\n",
    "PROMPT = PromptTemplate(\n",
    "    template=prompt_template, input_variables=[\"context\", \"question\"]\n",
    ")\n",
    "\n",
    "qa = RetrievalQA.from_chain_type(\n",
    "    llm=llm,\n",
    "    chain_type=\"stuff\",\n",
    "    retriever=vectorstore_faiss.as_retriever(\n",
    "        # how many relevant documents should be retrieved\n",
    "        search_type=\"similarity\", search_kwargs={\"k\": 3}\n",
    "    ),\n",
    "    return_source_documents=True,\n",
    "    chain_type_kwargs={\"prompt\": PROMPT}\n",
    ")"
   ]
  },
  {
   "cell_type": "code",
   "execution_count": 55,
   "id": "85babcaf-639f-4aaf-9277-d30c5d419679",
   "metadata": {
    "id": "85babcaf-639f-4aaf-9277-d30c5d419679",
    "outputId": "175e5823-44af-4a2c-fcbe-35fea33cb482"
   },
   "outputs": [
    {
     "name": "stdout",
     "output_type": "stream",
     "text": [
      "{\"inputs\": \"<|begin_of_text|><|start_header_id|>system<|end_header_id|>\\nYou are a helpful assistant that generates recipes in a well-structured format.\\nPlease generate a recipe.\\nEnsure that ingredients are listed only once and avoid repeating any entries.\\nThe recipe should include the following sections:\\n1. **Title** of the recipe\\n2. **Ingredients List** with measurements (avoid repeats)\\n3. **Instructions** in numbered steps for preparation\\n\\nReturn the result in the following format:\\n\\n**Title:**\\nRecipe title here\\n\\n**Ingredients:**\\n- Ingredient 1\\n- Ingredient 2\\n- Ingredient 3\\n\\n**Instructions:**\\n1. Step 1\\n2. Step 2\\n3. Step 3\\n\\nMake sure the formatting follows the above structure exactly.\\n\\n<|eot_id|><|start_header_id|>user<|end_header_id|>\\nUse the following pieces of context to provide a concise answer to the question at the end. If you don't know the answer, just say that you don't know, don't try to make up an answer.\\n#### Context ####\\nbutter,\\n1\\nteaspoon\\nsalt,\\n2\\ncups\\nwhite \\nwine,\\n10\\nounces\\ncanned\\nbeef \\nconsomme,\\n10\\nounces\\nchicken\\nbroth, \\n10\\nounces\\napple\\ncider\\n(unfiltered\\nis \\nbest),\\nBouquet\\ngarni;\\nthyme\\nsprigs, \\nbay\\nleaf\\nand\\nparsley\\ntied\\ntogether\\nwith \\nkitchen\\nstring,\\n1\\nloaf\\ncountry\\nstyle \\nbread,\\nKosher\\nsalt,\\nGround\\nblack \\npepper,\\nSplash\\nof\\nCognac\\n(optional),\\n1 \\ncup\\nFontina\\nor\\nGruyere\\ncheese,\\ngrated\\nfinely\\nslice\\ninto\\nhalf-moon\\nshapes.\\nSet \\nelectric\\nskillet\\nto\\n300\\ndegrees\\nand\\nadd \\nbutter.\\nOnce\\nbutter\\nhas\\nmelted\\nadd\\na \\nlayer\\nof\\nonions\\nand\\nsprinkle\\nwith\\na \\nlittle\\nsalt.\\nRepeat\\nlayering\\nonions\\nand \\nsalt\\nuntil\\nall\\nonions\\nare\\nin\\nthe\\nskillet. \\nDo\\nnot\\ntry\\nstirring\\nuntil\\nonions\\nhave \\nsweated\\ndown\\nfor\\n15\\nto\\n20\\nminutes. \\nAfter\\nthat,\\nstir\\noccasionally\\nuntil \\nonions\\nare\\ndark\\nmahogany\\nand \\nreduced\\nto\\napproximately\\n2\\ncups.\\nThis \\nshould\\ntake\\n45\\nminutes\\nto\\n1\\nhour.\\nDo \\nnot\\nworry\\nabout\\nburning. \\nAdd\\nenough\\nwine\\nto\\ncover\\nthe\\nonions \\nand\\nturn\\nheat\\nto\\nhigh,\\nreducing\\nthe \\nwine\\nto\\na\\nsyrup\\nconsistency.\\nAdd \\nconsomme,\\nchicken\\nbroth,\\napple\\ncider \\nand\\nbouquet\\ngarni.\\n\\nthe\\nparsley\\nand \\npaprika\\nto\\nbe\\nused\\nfor\\ngarnish.\\nBlend \\non\\nlow\\nspeed\\nuntil\\nsmooth.\\nYou'll \\nhave\\nto\\nstop\\nthe\\nblender\\noften\\nto\\npush \\ndown\\nthe\\ningredients.\\nIf\\nthe\\nmixture\\nis \\ntoo\\ndry\\nand\\nyou're\\nhaving\\ntrouble \\nblending\\nit,\\nadd\\na\\nfew\\nmore \\ntablespoons\\nof\\nolive\\noil\\nto\\nhelp\\nthings \\nalong. \\nScrape\\nthe\\nhummus\\nonto\\na\\nplate. \\nSprinkle\\nthe\\npaprika\\nover\\nthe\\ntop, \\ndrizzle\\nlightly\\nwith\\nolive\\noil,\\nscatter \\nsome\\nparsley\\non\\ntop,\\nand\\nserve.\\nYou \\ncan\\nmake\\nthe\\nhummus\\nup\\nto\\na\\ncouple \\nof\\nhours\\nbefore\\nyou\\nserve\\nit.\\nCover\\nthe \\ntop\\nwith\\nplastic\\nwrap\\nand\\nleave\\nit\\nat \\nroom\\ntemperature. \\nPer\\nTablespoon:\\nCalories:\\n57;\\nTotal \\nFat:\\n4\\ngrams;\\nSaturated\\nFat:\\n0.5 \\ngrams;\\nProtein:\\n1\\ngram;\\nTotal \\ncarbohydrates:\\n5\\ngrams;\\nSugar:\\n0 \\ngrams;\\nFiber:\\n1\\ngram;\\nCholesterol:\\n0 \\nmilligrams;\\nSodium:\\n96\\nmilligrams\\nCran-Raspberry\\nSnowball\\nPunch\\n1\\n(32\\noz.)\\nbottle\\nKnudsen\\u00ae\\nCranberry \\nNectar,\\nchilled,\\n1\\n(12\\noz.)\\njar \\nSmucker's\\u00ae\\nSeedless\\nRed\\nRaspberry \\nJam,\\n1\\n1/2\\n(2\\nliter)\\nbottles\\nlemon-lime\\nCOMBINE\\ncranberry\\nnectar,\\nred \\nraspberry\\njam\\nand\\nlemon-lime\\nsoda\\nin \\na\\n\\n1\\ntablespoon\\nof\\nthe\\nbutter \\nand\\nflour\\nand\\ncook\\ntogether\\n1\\nminute. \\nWhisk\\nin\\nwine\\nand\\ndeglaze\\npan. \\nWhisk\\nin\\nbroth\\nand\\nthicken\\nsauce\\n1 \\nminute.\\nAdd\\nremaining\\ntablespoon \\nbutter\\nand\\nremove\\nskillet\\nfrom\\nheat. \\nQuarter\\ntomatoes\\nlengthwise. \\nTo\\nserve,\\nset\\nthe\\nspinach\\ncakes\\nand \\nsteaks\\nbeside\\neach\\nother\\non\\n2/3\\nof \\nserving\\nplates\\nand\\npour\\nsauce\\nevenly \\nover\\nsteaks.\\nScatter\\na\\nquartered \\ntomato\\nnext\\nto\\nspinach\\ncakes\\non\\neach \\nplate.\\nDrizzle\\ntomatoes\\nwith\\noil, \\nseason\\nwith\\nsalt\\nand\\npepper\\nand\\ntop \\nwith\\nchopped\\nchives.\\nServe\\nplates \\nimmediately.\\nCajun\\nChicken\\nPasta\\n1\\npound\\nfettuccine,\\nAbout\\n3\\nteaspoons \\nCajun\\nspice\\nmix,\\n3\\nwhole\\nboneless, \\nskinless\\nchicken\\nbreasts,\\ncut\\ninto \\ncubes,\\n2\\ntablespoons\\nbutter,\\n2 \\ntablespoons\\nolive\\noil,\\n3\\ncloves\\ngarlic, \\nminced,\\n1\\nwhole\\ngreen\\nbell\\npepper, \\nseeded\\nand\\nsliced,\\n1\\nwhole\\nred\\nbell \\npepper,\\nseeded\\nand\\nsliced,\\n1/2\\nlarge \\nred\\nonion,\\nsliced,\\nSalt,\\n4\\nwhole\\nRoma \\ntomatoes,\\ndiced,\\n2\\ncups\\nlow-sodium \\nchicken\\nbroth,\\n1/2\\ncup\\nwhite\\nwine,\\n1 \\ncup\\nheavy\\ncream,\\nCayenne\\npepper,\\nfor \\nsprinkling,\\n#### End of Context ####\\n\\nQuestion: I have a dairy allergy. Can you provide a recipe that's dairy-free?\\n<|eot_id|><|start_header_id|>assistant<|end_header_id|>\\n\", \"parameters\": {\"max_new_tokens\": 1000, \"top_p\": 0.9, \"temperature\": 0.6, \"stop\": [\"<|eot_id|>\"]}}\n",
      "{'generated_text': \"I can help you with that!\\n\\nAfter reviewing the context, I noticed that the recipe you're looking for is not explicitly mentioned. However, I can suggest a recipe that's dairy-free and might interest you.\\n\\nHere's a recipe for a delicious and dairy-free dish:\\n\\n**Title:** Braised Beef Short Ribs with Red Wine and Mushrooms\\n\\n**Ingredients:**\\n\\n* 2 pounds beef short ribs\\n* 2 tablespoons olive oil\\n* 1 onion, sliced\\n* 3 cloves garlic, minced\\n* 2 cups mixed mushrooms (such as cremini, shiitake, and button)\\n* 1 cup red wine\\n* 2 cups beef broth\\n* 1 tablespoon tomato paste\\n* 1 teaspoon dried thyme\\n* Salt and pepper, to taste\\n* Fresh parsley, chopped (optional)\\n\\n**Instructions:**\\n\\n1. Preheat the oven to 300°F (150°C).\\n2. Season the short ribs with salt and pepper.\\n3. Heat the olive oil in a large Dutch oven over medium-high heat. Sear the short ribs until browned on all sides, about 5 minutes per side. Remove the ribs from the pot and set them aside.\\n4. Add the sliced onion to the pot and cook until caramelized, stirring occasionally. This should take about 20-25 minutes.\\n5. Add the minced garlic and cook for 1 minute, until fragrant.\\n6. Add the mixed mushrooms and cook until they release their moisture and start to brown, about 5 minutes.\\n7. Add the red wine, beef broth, tomato paste, and thyme to the pot. Stir to combine, scraping up any browned bits from the bottom of the pot.\\n8. Return the short ribs to the pot, cover, and transfer to the preheated oven. Braise for 2 1/2 to 3 hours, or until the meat is tender and falls off the bone.\\n9. Remove the pot from the oven and let it cool slightly. Serve the short ribs with the rich, flavorful sauce spooned over the top. Garnish with chopped parsley, if desired.\\n\\nThis recipe is dairy-free and should be safe for those with dairy allergies. However, please double-check the ingredients and cooking methods to ensure your safety.\"}\n",
      "I\n",
      "\n",
      "[Document(page_content='butter,\\n1\\nteaspoon\\nsalt,\\n2\\ncups\\nwhite \\nwine,\\n10\\nounces\\ncanned\\nbeef \\nconsomme,\\n10\\nounces\\nchicken\\nbroth, \\n10\\nounces\\napple\\ncider\\n(unfiltered\\nis \\nbest),\\nBouquet\\ngarni;\\nthyme\\nsprigs, \\nbay\\nleaf\\nand\\nparsley\\ntied\\ntogether\\nwith \\nkitchen\\nstring,\\n1\\nloaf\\ncountry\\nstyle \\nbread,\\nKosher\\nsalt,\\nGround\\nblack \\npepper,\\nSplash\\nof\\nCognac\\n(optional),\\n1 \\ncup\\nFontina\\nor\\nGruyere\\ncheese,\\ngrated\\nfinely\\nslice\\ninto\\nhalf-moon\\nshapes.\\nSet \\nelectric\\nskillet\\nto\\n300\\ndegrees\\nand\\nadd \\nbutter.\\nOnce\\nbutter\\nhas\\nmelted\\nadd\\na \\nlayer\\nof\\nonions\\nand\\nsprinkle\\nwith\\na \\nlittle\\nsalt.\\nRepeat\\nlayering\\nonions\\nand \\nsalt\\nuntil\\nall\\nonions\\nare\\nin\\nthe\\nskillet. \\nDo\\nnot\\ntry\\nstirring\\nuntil\\nonions\\nhave \\nsweated\\ndown\\nfor\\n15\\nto\\n20\\nminutes. \\nAfter\\nthat,\\nstir\\noccasionally\\nuntil \\nonions\\nare\\ndark\\nmahogany\\nand \\nreduced\\nto\\napproximately\\n2\\ncups.\\nThis \\nshould\\ntake\\n45\\nminutes\\nto\\n1\\nhour.\\nDo \\nnot\\nworry\\nabout\\nburning. \\nAdd\\nenough\\nwine\\nto\\ncover\\nthe\\nonions \\nand\\nturn\\nheat\\nto\\nhigh,\\nreducing\\nthe \\nwine\\nto\\na\\nsyrup\\nconsistency.\\nAdd \\nconsomme,\\nchicken\\nbroth,\\napple\\ncider \\nand\\nbouquet\\ngarni.'), Document(page_content=\"the\\nparsley\\nand \\npaprika\\nto\\nbe\\nused\\nfor\\ngarnish.\\nBlend \\non\\nlow\\nspeed\\nuntil\\nsmooth.\\nYou'll \\nhave\\nto\\nstop\\nthe\\nblender\\noften\\nto\\npush \\ndown\\nthe\\ningredients.\\nIf\\nthe\\nmixture\\nis \\ntoo\\ndry\\nand\\nyou're\\nhaving\\ntrouble \\nblending\\nit,\\nadd\\na\\nfew\\nmore \\ntablespoons\\nof\\nolive\\noil\\nto\\nhelp\\nthings \\nalong. \\nScrape\\nthe\\nhummus\\nonto\\na\\nplate. \\nSprinkle\\nthe\\npaprika\\nover\\nthe\\ntop, \\ndrizzle\\nlightly\\nwith\\nolive\\noil,\\nscatter \\nsome\\nparsley\\non\\ntop,\\nand\\nserve.\\nYou \\ncan\\nmake\\nthe\\nhummus\\nup\\nto\\na\\ncouple \\nof\\nhours\\nbefore\\nyou\\nserve\\nit.\\nCover\\nthe \\ntop\\nwith\\nplastic\\nwrap\\nand\\nleave\\nit\\nat \\nroom\\ntemperature. \\nPer\\nTablespoon:\\nCalories:\\n57;\\nTotal \\nFat:\\n4\\ngrams;\\nSaturated\\nFat:\\n0.5 \\ngrams;\\nProtein:\\n1\\ngram;\\nTotal \\ncarbohydrates:\\n5\\ngrams;\\nSugar:\\n0 \\ngrams;\\nFiber:\\n1\\ngram;\\nCholesterol:\\n0 \\nmilligrams;\\nSodium:\\n96\\nmilligrams\\nCran-Raspberry\\nSnowball\\nPunch\\n1\\n(32\\noz.)\\nbottle\\nKnudsen®\\nCranberry \\nNectar,\\nchilled,\\n1\\n(12\\noz.)\\njar \\nSmucker's®\\nSeedless\\nRed\\nRaspberry \\nJam,\\n1\\n1/2\\n(2\\nliter)\\nbottles\\nlemon-lime\\nCOMBINE\\ncranberry\\nnectar,\\nred \\nraspberry\\njam\\nand\\nlemon-lime\\nsoda\\nin \\na\"), Document(page_content='1\\ntablespoon\\nof\\nthe\\nbutter \\nand\\nflour\\nand\\ncook\\ntogether\\n1\\nminute. \\nWhisk\\nin\\nwine\\nand\\ndeglaze\\npan. \\nWhisk\\nin\\nbroth\\nand\\nthicken\\nsauce\\n1 \\nminute.\\nAdd\\nremaining\\ntablespoon \\nbutter\\nand\\nremove\\nskillet\\nfrom\\nheat. \\nQuarter\\ntomatoes\\nlengthwise. \\nTo\\nserve,\\nset\\nthe\\nspinach\\ncakes\\nand \\nsteaks\\nbeside\\neach\\nother\\non\\n2/3\\nof \\nserving\\nplates\\nand\\npour\\nsauce\\nevenly \\nover\\nsteaks.\\nScatter\\na\\nquartered \\ntomato\\nnext\\nto\\nspinach\\ncakes\\non\\neach \\nplate.\\nDrizzle\\ntomatoes\\nwith\\noil, \\nseason\\nwith\\nsalt\\nand\\npepper\\nand\\ntop \\nwith\\nchopped\\nchives.\\nServe\\nplates \\nimmediately.\\nCajun\\nChicken\\nPasta\\n1\\npound\\nfettuccine,\\nAbout\\n3\\nteaspoons \\nCajun\\nspice\\nmix,\\n3\\nwhole\\nboneless, \\nskinless\\nchicken\\nbreasts,\\ncut\\ninto \\ncubes,\\n2\\ntablespoons\\nbutter,\\n2 \\ntablespoons\\nolive\\noil,\\n3\\ncloves\\ngarlic, \\nminced,\\n1\\nwhole\\ngreen\\nbell\\npepper, \\nseeded\\nand\\nsliced,\\n1\\nwhole\\nred\\nbell \\npepper,\\nseeded\\nand\\nsliced,\\n1/2\\nlarge \\nred\\nonion,\\nsliced,\\nSalt,\\n4\\nwhole\\nRoma \\ntomatoes,\\ndiced,\\n2\\ncups\\nlow-sodium \\nchicken\\nbroth,\\n1/2\\ncup\\nwhite\\nwine,\\n1 \\ncup\\nheavy\\ncream,\\nCayenne\\npepper,\\nfor \\nsprinkling,')]\n"
     ]
    }
   ],
   "source": [
    "query = \"I have a dairy allergy. Can you provide a recipe that's dairy-free?\"\n",
    "result = qa.invoke({\"query\": query})\n",
    "print(result['result'][0])\n",
    "\n",
    "# Print the source documents\n",
    "print(f\"\\n{result['source_documents']}\")"
   ]
  },
  {
   "cell_type": "code",
   "execution_count": 56,
   "id": "a0317e6b-6e29-4787-a0be-ae4897ee8297",
   "metadata": {
    "id": "a0317e6b-6e29-4787-a0be-ae4897ee8297",
    "outputId": "fb483040-d264-4874-db8c-80f892fe8dbc"
   },
   "outputs": [
    {
     "name": "stdout",
     "output_type": "stream",
     "text": [
      "{\"inputs\": \"<|begin_of_text|><|start_header_id|>system<|end_header_id|>\\nYou are a helpful assistant that generates recipes in a well-structured format.\\nPlease generate a recipe.\\nEnsure that ingredients are listed only once and avoid repeating any entries.\\nThe recipe should include the following sections:\\n1. **Title** of the recipe\\n2. **Ingredients List** with measurements (avoid repeats)\\n3. **Instructions** in numbered steps for preparation\\n\\nReturn the result in the following format:\\n\\n**Title:**\\nRecipe title here\\n\\n**Ingredients:**\\n- Ingredient 1\\n- Ingredient 2\\n- Ingredient 3\\n\\n**Instructions:**\\n1. Step 1\\n2. Step 2\\n3. Step 3\\n\\nMake sure the formatting follows the above structure exactly.\\n\\n<|eot_id|><|start_header_id|>user<|end_header_id|>\\nUse the following pieces of context to provide a concise answer to the question at the end. If you don't know the answer, just say that you don't know, don't try to make up an answer.\\n#### Context ####\\nPhotograph\\nby\\nLevi\\nBrown\\nBlueberry-Poppy\\nSeed\\nLoaves\\n1\\n1/3\\ncups\\nvegetable\\noil,\\nplus\\nmore\\nfor \\nbrushing,\\n3\\ncups\\nall-purpose\\nflour,\\n1 \\n1/2\\nteaspoons\\nbaking\\npowder,\\n2\\n1/2 \\ncups\\nsugar,\\nPinch\\nof\\nsalt,\\n1\\n1/2\\ncups \\nwhole\\nmilk,\\n3\\nlarge\\neggs,\\n1\\n1/2 \\ntablespoons\\npoppy\\nseeds,\\n1\\n1/2 \\nteaspoons\\nalmond\\nextract,\\n1\\n1/2 \\nteaspoons\\nvanilla\\nextract,\\n1\\ncup \\nblueberries\\nPreheat\\nthe\\noven\\nto\\n350\\ndegrees\\nF. \\nBrush\\n4\\nmini\\nloaf\\npans\\n(about\\n5\\nby\\n3 \\ninches\\neach)\\nwith\\nvegetable\\noil. \\nWhisk\\nthe\\nflour,\\nbaking\\npowder,\\nsugar \\nand\\nsalt\\nin\\na\\nlarge\\nbowl.\\nBeat\\nthe\\nmilk, \\n1\\n1/3\\ncups\\nvegetable\\noil,\\nthe\\neggs, \\npoppy\\nseeds,\\nand\\nalmond\\nand\\nvanilla \\nextracts\\nin\\na\\nstand\\nmixer\\nfitted\\nwith \\nthe\\npaddle\\nattachment\\non\\nmedium \\nspeed\\nuntil\\ncombined.\\nGradually\\nbeat \\nin\\nthe\\nflour\\nmixture\\nuntil\\nwell \\ncombined.\\nFold\\nthe\\nblueberries\\ninto \\nthe\\nbatter\\nwith\\na\\nrubber\\nspatula. \\nDivide\\nthe\\nbatter\\namong\\nthe\\nprepared \\npans\\nand\\nbake\\nuntil\\ngolden\\non\\ntop\\nand \\na\\ntoothpick\\ninserted\\ninto\\nthe\\ncenter \\ncomes\\nout\\nclean,\\n1\\nhour\\nto\\n1\\nhour,\\n10 \\nminutes.\\nTransfer\\nthe\\npans\\nto\\na\\nrack\\n\\nspoonful\\nof\\nmixture\\nin\\nthe\\ncenter, \\ntaking\\ncare\\nnot\\nto\\noverfill.\\nWet\\none \\nedge\\nwith\\nwater,\\nfold\\nover\\nand\\nseal\\nby \\npinching\\nthe\\nedges\\nwith\\nfingers\\nor \\nfloured\\nfork.\\nGently\\nadd\\neach\\npie\\ninto \\nthe\\nhot\\noil\\nand\\nfry\\non\\nboth\\nsides\\nuntil \\ngolden\\nbrown,\\n3\\nto\\n5\\nminutes.\\nDrain \\non\\nbrown\\npaper\\nor\\npaper\\ntowels. \\nServe\\nthe\\npies\\nwith\\nthe\\napple-mango \\nchutney.\\nChristmas\\nApple\\nPie\\n2\\npounds\\npate\\nsucre,\\nrecipe\\nfollows,\\n5 \\npounds\\n(about\\n10\\nlarge)\\npippin\\nor \\nGranny\\nSmith\\napples,\\n6\\ntablespoons \\n(3\\nounces)\\nunsalted\\nbutter,\\n1\\ncup \\nsugar,\\n1/4\\ncup\\nplus\\n1\\ntablespoon \\nCalvados,\\n1\\ntablespoon\\nbrandy,\\n2 \\ntablespoons\\nheavy\\ncream,\\n2\\nounces \\n(about\\n1/4\\ncup)\\nchopped\\ndried\\nprunes, \\n1\\n1/2\\nounces\\n(about\\n1/4\\ncup)\\nchopped \\ndried\\napricots,\\n1\\nounce\\n(about\\n1/4 \\ncup)\\nchopped\\ndried\\nfigs,\\n1\\ntablespoon \\nlemon\\njuice,\\n2\\nteaspoons\\nground \\ncinnamon,\\n1\\nteaspoon\\nlemon\\nzest,\\n1 \\nteaspoon\\norange\\nzest,\\n1/2\\nteaspoon \\nfreshly\\ngrated\\nnutmeg,\\n1\\negg\\nwhite, \\nvery\\nlightly\\nwhisked,\\n1\\n1/2 \\ntablespoons\\ncrystallized\\nsugar,\\n2\\n1/3 \\ncups\\ncake\\nor\\npastry\\nflour,\\n1/3\\ncup \\nsugar,\\n1/2\\n\\nteaspoon\\ncelery\\nseeds,\\ncrushed\\nthen\\nfinish\\nwith\\nthe\\ntop\\npiece\\nof\\nbread. \\nPlace\\non\\na\\nsandwich\\npress\\nuntil \\ngolden\\nbrown\\nand\\ncrisp,\\n8\\nto\\n10 \\nminutes. \\nIn\\na\\nlarge\\nmixing\\nbowl,\\nadd\\nthe\\ngarlic \\npowder,\\nblack\\npepper\\nand\\nsalt\\nand\\nmix \\nuntil\\ncombined.\\nYield:\\n6\\ncups \\nAdd\\nthe\\ncabbage,\\njalapenos,\\ncarrots, \\nonions\\nand\\nbell\\npeppers\\nto\\na\\nlarge \\nbowl\\nand\\ntoss\\nuntil\\nevenly\\ndistributed. \\nIn\\na\\nlarge\\nsaucepot\\nset\\nover\\nmedium \\nheat,\\nadd\\nthe\\nsugar,\\nvinegar,\\noil,\\nhot \\nsauce\\nand\\ncelery\\nsalt,\\nand\\nbring\\nto\\na \\nsimmer.\\nStir\\nuntil\\nwell\\nblended\\nand \\nthe\\nsugar\\ndissolves.\\nRemove\\nfrom\\nthe \\nheat\\nand\\nstir\\nin\\nthe\\nmustard.\\nPour\\nthe \\nwarm\\ndressing\\nmixture\\nover\\nthe \\ncabbage\\nsalad\\nand\\ntoss.\\nAdd\\nthe \\ncelery\\nseeds\\nand\\nmix\\nwell.\\nFrozen\\nLemon-Berry\\nMargaritas\\nPuree\\n2\\npints\\nlemon\\nsorbet,\\n2\\ncups \\nthawed\\nfrozen\\nmixed\\nberries\\nand\\n1/2 \\ncup\\ntequila\\nanejo\\nin\\na\\nblender\\nuntil \\nsmooth,\\nabout\\n1\\nminute.\\nDivide \\namong\\n6\\nglasses;\\ngarnish\\nwith\\nlime\\nor \\nlemon\\nwedges. \\nPhotograph\\nby\\nLevi\\nBrown\\nBlueberry-Poppy\\nSeed\\nLoaves\\n1\\n1/3\\ncups\\nvegetable\\noil,\\nplus\\nmore\\nfor\\n#### End of Context ####\\n\\nQuestion: I have some blueberries at home. Can you provide me a recipe?\\n<|eot_id|><|start_header_id|>assistant<|end_header_id|>\\n\", \"parameters\": {\"max_new_tokens\": 1000, \"top_p\": 0.9, \"temperature\": 0.6, \"stop\": [\"<|eot_id|>\"]}}\n",
      "{'generated_text': '**Blueberry-Poppy Seed Loaves**\\n\\n**Ingredients:**\\n- 1 1/3 cups vegetable oil\\n- 3 cups all-purpose flour\\n- 1 1/2 teaspoons baking powder\\n- 2 1/2 cups sugar\\n- Pinch of salt\\n- 1 1/2 cups whole milk\\n- 3 large eggs\\n- 1 1/2 tablespoons poppy seeds\\n- 1 1/2 teaspoons almond extract\\n- 1 1/2 teaspoons vanilla extract\\n- 1 cup blueberries\\n\\n**Instructions:**\\n1. Preheat the oven to 350°F. Brush 4 mini loaf pans (about 5 by 3 inches each) with vegetable oil.\\n2. Whisk the flour, baking powder, sugar, and salt in a large bowl.\\n3. Beat the milk, 1/3 cups vegetable oil, the eggs, poppy seeds, almond extract, and vanilla extract in a stand mixer fitted with the paddle attachment on medium speed until combined.\\n4. Gradually beat in the flour mixture until well combined.\\n5. Fold the blueberries into the batter with a rubber spatula.\\n6. Divide the batter among the prepared pans and bake until golden on top and a toothpick inserted into the center comes out clean, 1 hour to 1 hour 10 minutes.\\n7. Transfer the pans to a rack and let cool.'}\n"
     ]
    }
   ],
   "source": [
    "query = \"I have some blueberries at home. Can you provide me a recipe?\"\n",
    "result = qa.invoke({\"query\": query})\n",
    "\n",
    "# Print the source documents\n",
    "# print(result['source_documents'])"
   ]
  },
  {
   "cell_type": "code",
   "execution_count": 57,
   "id": "c48dc2ca-d9d7-4d96-bdb7-ae05bc7f6165",
   "metadata": {},
   "outputs": [
    {
     "name": "stdout",
     "output_type": "stream",
     "text": [
      "[Document(page_content='Photograph\\nby\\nLevi\\nBrown\\nBlueberry-Poppy\\nSeed\\nLoaves\\n1\\n1/3\\ncups\\nvegetable\\noil,\\nplus\\nmore\\nfor \\nbrushing,\\n3\\ncups\\nall-purpose\\nflour,\\n1 \\n1/2\\nteaspoons\\nbaking\\npowder,\\n2\\n1/2 \\ncups\\nsugar,\\nPinch\\nof\\nsalt,\\n1\\n1/2\\ncups \\nwhole\\nmilk,\\n3\\nlarge\\neggs,\\n1\\n1/2 \\ntablespoons\\npoppy\\nseeds,\\n1\\n1/2 \\nteaspoons\\nalmond\\nextract,\\n1\\n1/2 \\nteaspoons\\nvanilla\\nextract,\\n1\\ncup \\nblueberries\\nPreheat\\nthe\\noven\\nto\\n350\\ndegrees\\nF. \\nBrush\\n4\\nmini\\nloaf\\npans\\n(about\\n5\\nby\\n3 \\ninches\\neach)\\nwith\\nvegetable\\noil. \\nWhisk\\nthe\\nflour,\\nbaking\\npowder,\\nsugar \\nand\\nsalt\\nin\\na\\nlarge\\nbowl.\\nBeat\\nthe\\nmilk, \\n1\\n1/3\\ncups\\nvegetable\\noil,\\nthe\\neggs, \\npoppy\\nseeds,\\nand\\nalmond\\nand\\nvanilla \\nextracts\\nin\\na\\nstand\\nmixer\\nfitted\\nwith \\nthe\\npaddle\\nattachment\\non\\nmedium \\nspeed\\nuntil\\ncombined.\\nGradually\\nbeat \\nin\\nthe\\nflour\\nmixture\\nuntil\\nwell \\ncombined.\\nFold\\nthe\\nblueberries\\ninto \\nthe\\nbatter\\nwith\\na\\nrubber\\nspatula. \\nDivide\\nthe\\nbatter\\namong\\nthe\\nprepared \\npans\\nand\\nbake\\nuntil\\ngolden\\non\\ntop\\nand \\na\\ntoothpick\\ninserted\\ninto\\nthe\\ncenter \\ncomes\\nout\\nclean,\\n1\\nhour\\nto\\n1\\nhour,\\n10 \\nminutes.\\nTransfer\\nthe\\npans\\nto\\na\\nrack'), Document(page_content='spoonful\\nof\\nmixture\\nin\\nthe\\ncenter, \\ntaking\\ncare\\nnot\\nto\\noverfill.\\nWet\\none \\nedge\\nwith\\nwater,\\nfold\\nover\\nand\\nseal\\nby \\npinching\\nthe\\nedges\\nwith\\nfingers\\nor \\nfloured\\nfork.\\nGently\\nadd\\neach\\npie\\ninto \\nthe\\nhot\\noil\\nand\\nfry\\non\\nboth\\nsides\\nuntil \\ngolden\\nbrown,\\n3\\nto\\n5\\nminutes.\\nDrain \\non\\nbrown\\npaper\\nor\\npaper\\ntowels. \\nServe\\nthe\\npies\\nwith\\nthe\\napple-mango \\nchutney.\\nChristmas\\nApple\\nPie\\n2\\npounds\\npate\\nsucre,\\nrecipe\\nfollows,\\n5 \\npounds\\n(about\\n10\\nlarge)\\npippin\\nor \\nGranny\\nSmith\\napples,\\n6\\ntablespoons \\n(3\\nounces)\\nunsalted\\nbutter,\\n1\\ncup \\nsugar,\\n1/4\\ncup\\nplus\\n1\\ntablespoon \\nCalvados,\\n1\\ntablespoon\\nbrandy,\\n2 \\ntablespoons\\nheavy\\ncream,\\n2\\nounces \\n(about\\n1/4\\ncup)\\nchopped\\ndried\\nprunes, \\n1\\n1/2\\nounces\\n(about\\n1/4\\ncup)\\nchopped \\ndried\\napricots,\\n1\\nounce\\n(about\\n1/4 \\ncup)\\nchopped\\ndried\\nfigs,\\n1\\ntablespoon \\nlemon\\njuice,\\n2\\nteaspoons\\nground \\ncinnamon,\\n1\\nteaspoon\\nlemon\\nzest,\\n1 \\nteaspoon\\norange\\nzest,\\n1/2\\nteaspoon \\nfreshly\\ngrated\\nnutmeg,\\n1\\negg\\nwhite, \\nvery\\nlightly\\nwhisked,\\n1\\n1/2 \\ntablespoons\\ncrystallized\\nsugar,\\n2\\n1/3 \\ncups\\ncake\\nor\\npastry\\nflour,\\n1/3\\ncup \\nsugar,\\n1/2'), Document(page_content='teaspoon\\ncelery\\nseeds,\\ncrushed\\nthen\\nfinish\\nwith\\nthe\\ntop\\npiece\\nof\\nbread. \\nPlace\\non\\na\\nsandwich\\npress\\nuntil \\ngolden\\nbrown\\nand\\ncrisp,\\n8\\nto\\n10 \\nminutes. \\nIn\\na\\nlarge\\nmixing\\nbowl,\\nadd\\nthe\\ngarlic \\npowder,\\nblack\\npepper\\nand\\nsalt\\nand\\nmix \\nuntil\\ncombined.\\nYield:\\n6\\ncups \\nAdd\\nthe\\ncabbage,\\njalapenos,\\ncarrots, \\nonions\\nand\\nbell\\npeppers\\nto\\na\\nlarge \\nbowl\\nand\\ntoss\\nuntil\\nevenly\\ndistributed. \\nIn\\na\\nlarge\\nsaucepot\\nset\\nover\\nmedium \\nheat,\\nadd\\nthe\\nsugar,\\nvinegar,\\noil,\\nhot \\nsauce\\nand\\ncelery\\nsalt,\\nand\\nbring\\nto\\na \\nsimmer.\\nStir\\nuntil\\nwell\\nblended\\nand \\nthe\\nsugar\\ndissolves.\\nRemove\\nfrom\\nthe \\nheat\\nand\\nstir\\nin\\nthe\\nmustard.\\nPour\\nthe \\nwarm\\ndressing\\nmixture\\nover\\nthe \\ncabbage\\nsalad\\nand\\ntoss.\\nAdd\\nthe \\ncelery\\nseeds\\nand\\nmix\\nwell.\\nFrozen\\nLemon-Berry\\nMargaritas\\nPuree\\n2\\npints\\nlemon\\nsorbet,\\n2\\ncups \\nthawed\\nfrozen\\nmixed\\nberries\\nand\\n1/2 \\ncup\\ntequila\\nanejo\\nin\\na\\nblender\\nuntil \\nsmooth,\\nabout\\n1\\nminute.\\nDivide \\namong\\n6\\nglasses;\\ngarnish\\nwith\\nlime\\nor \\nlemon\\nwedges. \\nPhotograph\\nby\\nLevi\\nBrown\\nBlueberry-Poppy\\nSeed\\nLoaves\\n1\\n1/3\\ncups\\nvegetable\\noil,\\nplus\\nmore\\nfor')]\n"
     ]
    }
   ],
   "source": [
    "print(result['source_documents'])"
   ]
  },
  {
   "cell_type": "code",
   "execution_count": 58,
   "id": "cd5329f0-8553-417f-ad65-4a4afd032476",
   "metadata": {},
   "outputs": [
    {
     "name": "stdout",
     "output_type": "stream",
     "text": [
      "**Blueberry-Poppy Seed Loaves**\n",
      "\n",
      "**Ingredients:**\n",
      "- 1 1/3 cups vegetable oil\n",
      "- 3 cups all-purpose flour\n",
      "- 1 1/2 teaspoons baking powder\n",
      "- 2 1/2 cups sugar\n",
      "- Pinch of salt\n",
      "- 1 1/2 cups whole milk\n",
      "- 3 large eggs\n",
      "- 1 1/2 tablespoons poppy seeds\n",
      "- 1 1/2 teaspoons almond extract\n",
      "- 1 1/2 teaspoons vanilla extract\n",
      "- 1 cup blueberries\n",
      "\n",
      "**Instructions:**\n",
      "1. Preheat the oven to 350°F. Brush 4 mini loaf pans (about 5 by 3 inches each) with vegetable oil.\n",
      "2. Whisk the flour, baking powder, sugar, and salt in a large bowl.\n",
      "3. Beat the milk, 1/3 cups vegetable oil, the eggs, poppy seeds, almond extract, and vanilla extract in a stand mixer fitted with the paddle attachment on medium speed until combined.\n",
      "4. Gradually beat in the flour mixture until well combined.\n",
      "5. Fold the blueberries into the batter with a rubber spatula.\n",
      "6. Divide the batter among the prepared pans and bake until golden on top and a toothpick inserted into the center comes out clean, 1 hour to 1 hour 10 minutes.\n",
      "7. Transfer the pans to a rack and let cool.\n"
     ]
    }
   ],
   "source": [
    "print(result['result'])"
   ]
  },
  {
   "cell_type": "code",
   "execution_count": 71,
   "id": "6f9d7bed-50e5-45fe-809f-b2ecede2404b",
   "metadata": {},
   "outputs": [],
   "source": [
    "## Agnes' code, modified\n",
    "def generate_random_recipes():\n",
    "    \"\"\"\n",
    "    Generate random recipes using different queries with allergy considerations\n",
    "    \"\"\"\n",
    "\n",
    "    # Query templates with allergy considerations\n",
    "    query_templates = [\n",
    "        \"I am allergic to nuts and treenuts. Can you give me a Thai curry recipe that's safe for my allergy?\",\n",
    "        \"Looking for an Italian chicken parmesan recipe - I have a Gluten allergy.\",\n",
    "        \"Can you suggest a brownie for dessert without any milk or eggs?\",\n",
    "        \"I need a vegan lentil taco recipe that doesn't contain any soy or its derivatives.\",\n",
    "        \"Japanese dumpling recipe with no fish or crustacean allergens?\"\n",
    "    ]\n",
    "\n",
    "    generated_recipes = []\n",
    "    print(\"Generating recipes with allergy considerations...\")\n",
    "\n",
    "    for query in query_templates:\n",
    "\n",
    "        # Generate recipe\n",
    "        result = qa.invoke({\"query\": query})\n",
    "        generated_recipes.append(result['result'])\n",
    "        print(f\"Generated recipe: {query}\")\n",
    "\n",
    "    return generated_recipes\n"
   ]
  },
  {
   "cell_type": "code",
   "execution_count": 72,
   "id": "f04d158d-fa95-484b-a159-c3977f56f87d",
   "metadata": {},
   "outputs": [
    {
     "name": "stdout",
     "output_type": "stream",
     "text": [
      "Generating recipes with allergy considerations...\n",
      "{\"inputs\": \"<|begin_of_text|><|start_header_id|>system<|end_header_id|>\\nYou are a helpful assistant that generates recipes in a well-structured format.\\nPlease generate a recipe.\\nEnsure that ingredients are listed only once and avoid repeating any entries.\\nThe recipe should include the following sections:\\n1. **Title** of the recipe\\n2. **Ingredients List** with measurements (avoid repeats)\\n3. **Instructions** in numbered steps for preparation\\n\\nReturn the result in the following format:\\n\\n**Title:**\\nRecipe title here\\n\\n**Ingredients:**\\n- Ingredient 1\\n- Ingredient 2\\n- Ingredient 3\\n\\n**Instructions:**\\n1. Step 1\\n2. Step 2\\n3. Step 3\\n\\nMake sure the formatting follows the above structure exactly.\\n\\n<|eot_id|><|start_header_id|>user<|end_header_id|>\\nUse the following pieces of context to provide a concise answer to the question at the end. If you don't know the answer, just say that you don't know, don't try to make up an answer.\\n#### Context ####\\nturnovers\\nbriefly.\\nSprinkle\\nwith \\nconfectioners'\\nsugar,\\nif\\ndesired,\\nand \\nserve\\nimmediately.\\nMama's\\nCollards\\n2\\nlarge\\nbunches\\ncollards,\\nstemmed, \\nwashed\\nvery\\nwell\\nand\\ntorn\\ninto\\npieces, \\n1\\nto\\n2\\ncups\\nwater,\\n2\\nto\\n3\\nchicken \\nthighs,\\n1/4\\ncup\\ncorn\\noil,\\nSalt\\nand \\npepper\\nto\\ntaste\\nBoil\\nchicken\\nabout\\n20\\nminutes.\\nAdd \\ncollards\\nand\\nseasoning.\\nLower\\nheat, \\ncook\\nabout\\n2\\nhours\\nor\\nuntil\\ngreens\\nare \\ntender.\\nAloo\\nPie\\nwith\\nApple-Mango\\nChutney\\n2\\nfirm\\nripe\\nmangoes,\\npeeled\\nand \\ndiced,\\n1\\nGolden\\nDelicious\\napple, \\npeeled\\nand\\ndiced,\\n1/4\\ncup\\npacked\\nlight \\nbrown\\nsugar,\\n1\\ntablespoon\\nfresh \\npeeled\\nand\\nthinly\\nsliced\\nginger,\\n1/2 \\nteaspoon\\nminced\\nhot\\nchile\\npepper, \\nsuch\\nas\\nserrano,\\n1/4\\ncup\\napple\\ncider \\nvinegar,\\nKosher\\nsalt\\nand\\nfreshly \\nground\\npepper,\\n1/4\\ncup\\nvegetable\\noil, \\n3\\nlarge\\nor\\n4\\nmedium\\nred\\nskin\\npotatoes \\n(about\\n1\\npound),\\npeeled\\nand\\ndiced,\\n1/2 \\nsweet\\nonion,\\nfinely\\nchopped,\\n1/4\\ncup \\nfinely\\nchopped\\ngreen\\nbell\\npepper,\\n1/4 \\ncup\\nfinely\\nchopped\\ncelery,\\n1\\nclove \\ngarlic,\\nminced,\\n1\\nteaspoon\\nground \\ncumin,\\nKosher\\nsalt\\nand\\nfreshly\\nground \\npepper,\\n\\ncelery,\\n1\\nclove \\ngarlic,\\nminced,\\n1\\nteaspoon\\nground \\ncumin,\\nKosher\\nsalt\\nand\\nfreshly\\nground \\npepper,\\n1\\n1/2\\ncups\\nvegetable\\nbroth, \\n1/2\\npound\\npeeled\\nand\\ndeveined\\njumbo \\nshrimp\\n(11\\nto\\n15\\ncount),\\nchopped,\\n2 \\ncups\\nall-purpose\\nflour,\\n2\\nteaspoons \\nbaking\\npowder,\\n1\\nteaspoon\\nMadras \\ncurry\\npowder,\\nKosher\\nsalt,\\n3/4\\ncups \\nwater,\\n4\\ncups\\nof\\ncanola\\noil,\\nfor\\nfrying\\nFor\\nthe\\nchutney:\\nPlace\\nthe\\nmangoes, \\napple,\\nbrown\\nsugar,\\nginger,\\nand\\nhot \\npepper\\nin\\na\\nfood\\nprocessor\\nand\\npulse \\nuntil\\nthe\\nmixture\\nis\\nchunky\\nand\\nwell \\ncombined.\\nTransfer\\nto\\na\\nmedium \\nsaucepot\\nand\\nbring\\nto\\na\\nsimmer\\nover \\nmedium-high\\nheat.\\nAdd\\nthe\\nvinegar, \\nseason\\nto\\ntaste\\nwith\\nsalt\\nand\\npepper, \\nand\\ncontinue\\nto\\nsimmer\\nuntil\\nthe\\nfruit \\nis\\ntender\\nand\\nthe\\nvinegar\\nhas \\nmellowed\\nslightly,\\nstirring \\noccasionally\\nto\\nprevent\\nsticking. \\nRemove\\nfrom\\nthe\\nheat\\nand\\nset\\naside. \\nServe\\nwarm\\nor\\nat\\nroom\\ntemperature. \\nFor\\nthe\\npie\\nfilling:\\nIn\\na\\nlarge\\nskillet, \\nheat\\nthe\\nvegetable\\noil\\nover \\nmedium-high\\nheat.\\nAdd\\nthe\\npotato, \\nonion,\\npepper,\\ncelery,\\nand\\ngarlic\\nand \\ncook\\nuntil\\nsoftened,\\nabout\\n\\nthe\\nmachine,\\nand\\non\\na\\nlightly\\nfloured \\nsurface,\\npress\\ndown\\ninto\\na\\ncircle. \\nWrap\\nin\\nplastic\\nwrap\\nand\\nrefrigerate \\nfor\\nat\\nleast\\n1\\nhour. \\nYield:\\nMakes\\n1\\n1/2\\npounds\\nor\\n2 \\n(9-inch)\\ntart\\nshells\\nSweet\\nPotato\\nHash\\n1/4\\ncup\\nvegetable\\noil,\\n1\\nred\\nonion, \\nthinly\\nsliced\\n(about\\n2\\ncups),\\n1\\nred\\nbell \\npepper,\\ndiced\\n(about\\n2\\ncups),\\n2 \\npounds\\nsweet\\npotatoes,\\nquartered\\nand \\ncut\\ninto\\n1/4-inch\\nslices,\\n1\\nteaspoon \\nground\\ncumin,\\n2\\nteaspoons\\nsalt,\\n1/2 \\nteaspoon\\nred\\npepper\\nflakes,\\n1/2\\ncup \\ngreen\\nonions,\\nchopped\\nPour\\nthe\\noil\\ninto\\na\\nlarge\\nskillet\\nand \\nplace\\nover\\nhigh\\nheat.\\nAdd\\nthe\\nonion \\nand\\nbell\\npepper\\nand\\nsaute,\\nstirring,\\n2 \\nto\\n3\\nminutes.\\nAdd\\nthe\\npotatoes, \\ncumin,\\nsalt\\nand\\nred\\npepper\\nflakes, \\nlower\\nthe\\nheat\\nto\\nmedium-high\\nand \\ncook,\\nstirring\\noccasionally,\\nfor\\n25\\nto \\n30\\nminutes,\\nor\\nuntil\\nthe\\npotatoes\\nare \\nfork\\ntender\\nand\\nsome\\nare\\nbrowned. \\nThe\\npotatoes\\nwill\\nbegin\\nto\\nstick\\nas \\nthey\\ncook.\\nJust\\ncontinue\\nto\\nturn\\nwith\\na \\nspatula.\\nStir\\nin\\nhalf\\nof\\nthe\\ngreen \\nonions,\\ntop\\nwith\\nthe\\nremainder,\\nand \\nserve\\nimmediately.\\nPeanut\\nButter\\nExplosion\\n1\\n#### End of Context ####\\n\\nQuestion: I am allergic to nuts and treenuts. Can you give me a Thai curry recipe that's safe for my allergy?\\n<|eot_id|><|start_header_id|>assistant<|end_header_id|>\\n\", \"parameters\": {\"max_new_tokens\": 1000, \"top_p\": 0.9, \"temperature\": 0.6, \"stop\": [\"<|eot_id|>\"]}}\n",
      "{'generated_text': \"I'm happy to help! However, I must inform you that the context provided does not contain a Thai curry recipe. It appears to be a collection of various recipes, including Aloo Pie with Apple-Mango Chutney, Sweet Potato Hash, and Peanut Butter Explosion.\\n\\nSince you're allergic to nuts and tree nuts, I would recommend avoiding the Peanut Butter Explosion recipe altogether. As for the other recipes, I would need more information about Thai curry to provide a suitable recipe for you.\\n\\nIf you're interested, I can try to help you find a Thai curry recipe that's nut-free and tree nut-free. Please let me know, and I'll do my best to assist you!\"}\n",
      "Generated recipe: I am allergic to nuts and treenuts. Can you give me a Thai curry recipe that's safe for my allergy?\n",
      "{\"inputs\": \"<|begin_of_text|><|start_header_id|>system<|end_header_id|>\\nYou are a helpful assistant that generates recipes in a well-structured format.\\nPlease generate a recipe.\\nEnsure that ingredients are listed only once and avoid repeating any entries.\\nThe recipe should include the following sections:\\n1. **Title** of the recipe\\n2. **Ingredients List** with measurements (avoid repeats)\\n3. **Instructions** in numbered steps for preparation\\n\\nReturn the result in the following format:\\n\\n**Title:**\\nRecipe title here\\n\\n**Ingredients:**\\n- Ingredient 1\\n- Ingredient 2\\n- Ingredient 3\\n\\n**Instructions:**\\n1. Step 1\\n2. Step 2\\n3. Step 3\\n\\nMake sure the formatting follows the above structure exactly.\\n\\n<|eot_id|><|start_header_id|>user<|end_header_id|>\\nUse the following pieces of context to provide a concise answer to the question at the end. If you don't know the answer, just say that you don't know, don't try to make up an answer.\\n#### Context ####\\n1\\ntablespoon\\nof\\nthe\\nbutter \\nand\\nflour\\nand\\ncook\\ntogether\\n1\\nminute. \\nWhisk\\nin\\nwine\\nand\\ndeglaze\\npan. \\nWhisk\\nin\\nbroth\\nand\\nthicken\\nsauce\\n1 \\nminute.\\nAdd\\nremaining\\ntablespoon \\nbutter\\nand\\nremove\\nskillet\\nfrom\\nheat. \\nQuarter\\ntomatoes\\nlengthwise. \\nTo\\nserve,\\nset\\nthe\\nspinach\\ncakes\\nand \\nsteaks\\nbeside\\neach\\nother\\non\\n2/3\\nof \\nserving\\nplates\\nand\\npour\\nsauce\\nevenly \\nover\\nsteaks.\\nScatter\\na\\nquartered \\ntomato\\nnext\\nto\\nspinach\\ncakes\\non\\neach \\nplate.\\nDrizzle\\ntomatoes\\nwith\\noil, \\nseason\\nwith\\nsalt\\nand\\npepper\\nand\\ntop \\nwith\\nchopped\\nchives.\\nServe\\nplates \\nimmediately.\\nCajun\\nChicken\\nPasta\\n1\\npound\\nfettuccine,\\nAbout\\n3\\nteaspoons \\nCajun\\nspice\\nmix,\\n3\\nwhole\\nboneless, \\nskinless\\nchicken\\nbreasts,\\ncut\\ninto \\ncubes,\\n2\\ntablespoons\\nbutter,\\n2 \\ntablespoons\\nolive\\noil,\\n3\\ncloves\\ngarlic, \\nminced,\\n1\\nwhole\\ngreen\\nbell\\npepper, \\nseeded\\nand\\nsliced,\\n1\\nwhole\\nred\\nbell \\npepper,\\nseeded\\nand\\nsliced,\\n1/2\\nlarge \\nred\\nonion,\\nsliced,\\nSalt,\\n4\\nwhole\\nRoma \\ntomatoes,\\ndiced,\\n2\\ncups\\nlow-sodium \\nchicken\\nbroth,\\n1/2\\ncup\\nwhite\\nwine,\\n1 \\ncup\\nheavy\\ncream,\\nCayenne\\npepper,\\nfor \\nsprinkling,\\n\\nthe \\nwine\\nto\\na\\nsyrup\\nconsistency.\\nAdd \\nconsomme,\\nchicken\\nbroth,\\napple\\ncider \\nand\\nbouquet\\ngarni.\\nReduce\\nheat\\nand \\nsimmer\\n15\\nto\\n20\\nminutes. \\nPlace\\noven\\nrack\\nin\\ntop\\n1/3\\nof\\noven\\nand \\nheat\\nbroiler. \\nCut\\ncountry\\nbread\\nin\\nrounds\\nlarge \\nenough\\nto\\nfit\\nmouth\\nof\\noven\\nsafe\\nsoup \\ncrocks.\\nPlace\\nthe\\nslices\\non\\na\\nbaking \\nsheet\\nand\\nplace\\nunder\\nbroiler\\nfor\\n1 \\nminute. \\nSeason\\nsoup\\nmixture\\nwith\\nsalt,\\npepper \\nand\\ncognac.\\nRemove\\nbouquet\\ngarni \\nand\\nladle\\nsoup\\ninto\\ncrocks\\nleaving\\none \\ninch\\nto\\nthe\\nlip.\\nPlace\\nbread\\nround, \\ntoasted\\nside\\ndown,\\non\\ntop\\nof\\nsoup\\nand \\ntop\\nwith\\ngrated\\ncheese.\\nBroil\\nuntil \\ncheese\\nis\\nbubbly\\nand\\ngolden,\\n1\\nto\\n2 \\nminutes.\\nCurly's\\nBBQ\\nChicken\\nPizza\\n1\\nready\\nmade\\npizza\\ncrust,\\n6\\noz. \\nCurly's\\nSauceless\\nPulled\\nChicken\\n(or \\nCurly's\\nSauceless\\nPulled\\nPork\\nif \\npreferred),\\n1/2\\ncup\\nBBQ\\nsauce,\\n4\\noz. \\nMozzarella,\\n2\\noz.\\nchopped\\ntomato,\\n1 \\noz.\\nchopped\\nonion,\\n1\\noz.\\nsliced \\nmushrooms,\\n1\\noz.\\nsliced\\ngreen \\npeppers\\nToss\\nCurly's\\nSauceless\\nPulled\\nChicken \\nin\\nBBQ\\nsauce.\\nSpread\\nBBQ\\nover \\npizza\\ncrust. \\nTop\\nwith\\nremaining\\ningredients.\\nBake\\n\\nlow-sodium \\nchicken\\nbroth,\\n1/2\\ncup\\nwhite\\nwine,\\n1 \\ncup\\nheavy\\ncream,\\nCayenne\\npepper,\\nfor \\nsprinkling,\\nFreshly\\nground\\nblack\\nWatch\\nhow\\nto\\nmake\\nthis\\nrecipe. \\nCook\\nthe\\npasta\\naccording\\nto\\npackage \\ndirections.\\nDrain\\nwhen\\nthe\\npasta\\nis \\nstill\\nal\\ndente;\\ndo\\nnot\\novercook! \\nSprinkle\\n1\\n1/2\\nteaspoons\\nCajun\\nspice \\n(or\\nmore)\\nover\\nthe\\nchicken\\ncubes. \\nToss\\naround\\nto\\ncoat.\\nHeat\\n1 \\ntablespoon\\nbutter\\nand\\n1\\ntablespoon\\noil \\nin\\na\\nheavy\\nskillet\\nover\\nhigh\\nheat.\\nAdd \\nhalf\\nthe\\nchicken\\nin\\na\\nsingle\\nlayer;\\ndo \\nnot\\nstir.\\nAllow\\nthe\\nchicken\\nto\\nbrown \\non\\none\\nside,\\nabout\\n1\\nminute.\\nFlip\\nto \\nthe\\nother\\nside\\nand\\ncook\\nan\\nadditional\\n#### End of Context ####\\n\\nQuestion: Looking for an Italian chicken parmesan recipe - I have a Gluten allergy.\\n<|eot_id|><|start_header_id|>assistant<|end_header_id|>\\n\", \"parameters\": {\"max_new_tokens\": 1000, \"top_p\": 0.9, \"temperature\": 0.6, \"stop\": [\"<|eot_id|>\"]}}\n",
      "{'generated_text': \"I'd be happy to help you with that!\\n\\n**Title:** Gluten-Free Italian Chicken Parmesan Recipe\\n\\n**Ingredients:**\\n\\n* 1 pound boneless, skinless chicken breasts\\n* 1 cup gluten-free breadcrumbs\\n* 1/2 cup grated Parmesan cheese\\n* 1 egg\\n* 1 tablespoon olive oil\\n* 1 clove garlic, minced\\n* 1 cup marinara sauce (make sure it's gluten-free)\\n* 1 cup shredded mozzarella cheese\\n* Fresh basil leaves, chopped (optional)\\n\\n**Instructions:**\\n\\n1. Preheat the oven to 400°F (200°C).\\n2. In a shallow dish, mix together the gluten-free breadcrumbs and Parmesan cheese.\\n3. In a separate dish, beat the egg.\\n4. Dip each chicken breast in the egg and then coat in the breadcrumb mixture, pressing gently to adhere.\\n5. Heat the olive oil in a large skillet over medium-high heat. Add the chicken and cook for 3-4 minutes on each side, or until cooked through.\\n6. Transfer the chicken to a baking dish and spoon some marinara sauce over each breast.\\n7. Sprinkle the shredded mozzarella cheese over the top of each breast.\\n8. Bake in the preheated oven for 15-20 minutes, or until the cheese is melted and bubbly.\\n9. Garnish with chopped fresh basil leaves, if desired.\\n10. Serve hot and enjoy!\\n\\nNote: Make sure to check the ingredient labels to ensure that the gluten-free breadcrumbs and marinara sauce are gluten-free.\"}\n",
      "Generated recipe: Looking for an Italian chicken parmesan recipe - I have a Gluten allergy.\n",
      "{\"inputs\": \"<|begin_of_text|><|start_header_id|>system<|end_header_id|>\\nYou are a helpful assistant that generates recipes in a well-structured format.\\nPlease generate a recipe.\\nEnsure that ingredients are listed only once and avoid repeating any entries.\\nThe recipe should include the following sections:\\n1. **Title** of the recipe\\n2. **Ingredients List** with measurements (avoid repeats)\\n3. **Instructions** in numbered steps for preparation\\n\\nReturn the result in the following format:\\n\\n**Title:**\\nRecipe title here\\n\\n**Ingredients:**\\n- Ingredient 1\\n- Ingredient 2\\n- Ingredient 3\\n\\n**Instructions:**\\n1. Step 1\\n2. Step 2\\n3. Step 3\\n\\nMake sure the formatting follows the above structure exactly.\\n\\n<|eot_id|><|start_header_id|>user<|end_header_id|>\\nUse the following pieces of context to provide a concise answer to the question at the end. If you don't know the answer, just say that you don't know, don't try to make up an answer.\\n#### Context ####\\nhalf\\nof\\nthe\\ngreen \\nonions,\\ntop\\nwith\\nthe\\nremainder,\\nand \\nserve\\nimmediately.\\nPeanut\\nButter\\nExplosion\\n1\\n(10-inch)\\nbrownie\\nround,\\nCream \\nCheese\\nPeanut\\nButter\\nMousse,\\nrecipe \\nfollows,\\n2\\nlayers\\nchocolate\\ncake, \\nMelted\\nfudge,\\nBrownie\\nchunks, \\nPeanut\\nbutter\\nchips,\\n6\\n(8\\nounce)\\nbars \\ncream\\ncheese,\\nsoftened,\\n1\\n(12\\nounce) \\npackage\\npeanut\\nbutter\\ncups,\\ncrushed, \\n1\\n(8\\nounce)\\njar\\ncreamy\\npeanut\\nbutter\\nAssembly:\\nBegin\\nwith\\na\\nlayer\\nof \\nbrownie,\\nalternate\\nlayers\\nof\\ncream \\ncheese\\npeanut\\nbutter\\nmousse\\nand \\nchocolate\\ncake,\\nending\\nwith\\ncake. \\nPour\\nmelted\\nfudge\\nover\\nthe\\ncake;\\ntop \\nwith\\nchunks\\nof\\nbrownie\\npieces.\\nPour \\nmore\\nmelted\\nfudge\\nover\\nthe\\nbrownie \\npieces.\\nFinish\\nwith\\na\\nsplash\\nof\\npeanut \\nbutter\\nchips\\non\\ntop. \\nThoroughly\\ncombine\\ningredients.\\nSmoked\\nSalmon\\nTartine\\n4\\nslices\\nwhite\\nbread,\\ncrusts\\nremoved, \\n2\\ntablespoons/20\\ng\\nbutter,\\n2\\nounces/75 \\ng\\nsmoked\\nsalmon,\\nthinly\\nsliced, \\nLemon,\\nthinly\\nsliced,\\nfor\\ngarnish\\nCut\\nthe\\nslices\\nof\\nbread\\ninto\\ntriangular \\nshapes,\\nor\\nuse\\na\\nChristmas\\nornament \\nmold\\nand\\ncut\\nout\\nthe\\nshape.\\nAdd \\nbutter\\nto\\nthe\\n\\nheat\\nand\\ncook,\\nstirring\\noccasionally, \\nuntil\\nthe\\nsugar\\ndissolves\\nand\\nthe \\ncream\\ncomes\\nto\\na\\nbare\\nsimmer. \\nMeanwhile,\\nwhisk\\ntogether\\nthe\\negg \\nyolks,\\n2\\ntablespoons\\nof\\nthe\\nremaining \\ngranulated\\nsugar\\nand\\n2\\ntablespoons\\nof \\nthe\\nremaining\\nlight\\nbrown\\nsugar\\nin\\na \\nmedium\\nbowl. \\nSlowly\\nwhisk\\nthe\\nhot\\ncream\\ninto\\nthe \\negg\\nyolk\\nmixture.\\nStrain\\nthe\\ncustard \\ninto\\na\\npitcher\\nor\\nlarge\\nmeasuring\\ncup. \\nDivide\\nthe\\ncustard\\nevenly\\namong\\nthe \\nramekins.\\nPlace\\nthe\\nbaking\\nsheet\\nin \\nthe\\noven,\\nthen\\ncarefully\\nadd\\nenough \\nhot\\nwater\\nto\\ncome\\nhalfway\\nup\\nthe \\nsides\\nof\\nthe\\nramekins.\\nBake\\nuntil\\nthe \\ncustards\\nare\\njust\\nset\\nat\\nthe\\nsides\\nand \\nstill\\nwobbly\\nin\\nthe\\ncenter,\\nabout\\n30 \\nminutes.\\nRemove\\nthe\\nramekins\\nfrom \\nthe\\nwater\\nand\\nlet\\ncool\\ncompletely\\non\\na \\nwire\\nrack,\\nabout\\n30\\nminutes.\\nLeave \\nthe\\noven\\non. \\nFor\\nthe\\ngarnish:\\nWhile\\nthe\\ncustards \\ncool,\\nspread\\nthe\\npecans\\non\\na\\nbaking \\nsheet\\nand\\nbake\\nuntil\\nthey\\nare\\nbrown \\nand\\ntoasty-smelling,\\nabout\\n10 \\nminutes.\\nWhip\\nthe\\ncream\\nin\\na\\nmedium \\nbowl\\nuntil\\nsoft\\npeaks\\nform. \\nTo\\nassemble:\\nSprinkle\\nthe\\nremaining \\n3/4\\ncup\\n\\nand\\ncut\\nalong\\nthe \\nbreastbone. \\nPull\\nback\\none\\nof\\nthe\\nbreasts\\nand\\ncut\\nit \\noff\\nthe\\nbackbone.\\nRepeat\\non\\nthe\\nother \\nside. \\nPhotograph\\nby\\nDavid\\nMalosh\\nChocolate\\nTurnovers\\n1\\n(17\\n1/4-ounce)\\npackage\\npuff\\npastry \\nsheets,\\n4\\n1/2\\nounces\\nsemi-\\nor \\nbittersweet\\nchocolate,\\nbroken\\ninto \\n1/4-ounce\\npieces,\\n1\\negg,\\nbeaten, \\nConfectioners'\\nsugar,\\nfor\\ndusting \\n(optional)\\nAdjust\\noven\\nracks\\nto\\nthe\\nupper\\nand \\nlower\\nmiddle\\npositions\\nand\\nheat\\nthe \\noven\\nto\\n425\\ndegrees. \\nWorking\\nwith\\none\\nsheet\\nat\\na\\ntime\\non\\na \\nlightly\\nfloured\\nwork\\nsurface,\\ntrim\\nthe \\npuff\\npastry\\nsheets\\nto\\n9-\\nby\\n9-inch \\nsquares,\\nthen\\ncut\\neach\\nsheet\\ninto\\nnine \\n3-inch\\nsquares. \\nWorking\\nwith\\none\\nsquare\\nof\\ndough\\nat \\na\\ntime,\\nplace\\na\\nportion\\nof\\nchocolate \\nonto\\nthe\\nlower\\ncorner,\\nbrush\\ntwo \\nedges\\nof\\nthe\\ndough\\nwith\\nbeaten\\negg, \\nand\\nfold\\nthe\\ndough\\nin\\nhalf\\ndiagonally \\nto\\nform\\na\\nturnover.\\nPlace\\neach \\nturnover\\non\\na\\nparchment-lined\\ncookie \\nsheet,\\nspacing\\nthem\\nabout\\n2\\ninches \\napart\\n(about\\n9\\nper\\nsheet).\\nBrush\\nthe \\ndough\\ntops\\nwith\\negg\\nwash. \\nBake\\nuntil\\ngolden\\nbrown,\\nswitching \\nand\\nrotating\\n#### End of Context ####\\n\\nQuestion: Can you suggest a brownie for dessert without any milk or eggs?\\n<|eot_id|><|start_header_id|>assistant<|end_header_id|>\\n\", \"parameters\": {\"max_new_tokens\": 1000, \"top_p\": 0.9, \"temperature\": 0.6, \"stop\": [\"<|eot_id|>\"]}}\n",
      "{'generated_text': 'Based on the provided context, I found a recipe that does not include milk or eggs: Peanut Butter Explosion Brownie. Here is the recipe:\\n\\n**Peanut Butter Explosion Brownie**\\n\\n**Ingredients:**\\n- 1 (10-inch) brownie round\\n- 2 layers of chocolate cake\\n- Melted fudge\\n- Brownie chunks\\n- Peanut butter chips\\n- 6 (8 ounce) bars cream cheese, softened\\n- 1 (12 ounce) package peanut butter cups, crushed\\n- 1 (8 ounce) jar creamy peanut butter\\n\\n**Instructions:**\\n1. Begin with a layer of brownie, alternate layers of cream cheese peanut butter mousse and chocolate cake, ending with cake.\\n2. Pour melted fudge over the cake; top with chunks of brownie pieces.\\n3. Pour more melted fudge over the brownie pieces.\\n4. Finish with a splash of peanut butter chips on top.\\n\\nPlease note that this recipe does not include milk or eggs.'}\n",
      "Generated recipe: Can you suggest a brownie for dessert without any milk or eggs?\n",
      "{\"inputs\": \"<|begin_of_text|><|start_header_id|>system<|end_header_id|>\\nYou are a helpful assistant that generates recipes in a well-structured format.\\nPlease generate a recipe.\\nEnsure that ingredients are listed only once and avoid repeating any entries.\\nThe recipe should include the following sections:\\n1. **Title** of the recipe\\n2. **Ingredients List** with measurements (avoid repeats)\\n3. **Instructions** in numbered steps for preparation\\n\\nReturn the result in the following format:\\n\\n**Title:**\\nRecipe title here\\n\\n**Ingredients:**\\n- Ingredient 1\\n- Ingredient 2\\n- Ingredient 3\\n\\n**Instructions:**\\n1. Step 1\\n2. Step 2\\n3. Step 3\\n\\nMake sure the formatting follows the above structure exactly.\\n\\n<|eot_id|><|start_header_id|>user<|end_header_id|>\\nUse the following pieces of context to provide a concise answer to the question at the end. If you don't know the answer, just say that you don't know, don't try to make up an answer.\\n#### Context ####\\nthe\\nparsley\\nand \\npaprika\\nto\\nbe\\nused\\nfor\\ngarnish.\\nBlend \\non\\nlow\\nspeed\\nuntil\\nsmooth.\\nYou'll \\nhave\\nto\\nstop\\nthe\\nblender\\noften\\nto\\npush \\ndown\\nthe\\ningredients.\\nIf\\nthe\\nmixture\\nis \\ntoo\\ndry\\nand\\nyou're\\nhaving\\ntrouble \\nblending\\nit,\\nadd\\na\\nfew\\nmore \\ntablespoons\\nof\\nolive\\noil\\nto\\nhelp\\nthings \\nalong. \\nScrape\\nthe\\nhummus\\nonto\\na\\nplate. \\nSprinkle\\nthe\\npaprika\\nover\\nthe\\ntop, \\ndrizzle\\nlightly\\nwith\\nolive\\noil,\\nscatter \\nsome\\nparsley\\non\\ntop,\\nand\\nserve.\\nYou \\ncan\\nmake\\nthe\\nhummus\\nup\\nto\\na\\ncouple \\nof\\nhours\\nbefore\\nyou\\nserve\\nit.\\nCover\\nthe \\ntop\\nwith\\nplastic\\nwrap\\nand\\nleave\\nit\\nat \\nroom\\ntemperature. \\nPer\\nTablespoon:\\nCalories:\\n57;\\nTotal \\nFat:\\n4\\ngrams;\\nSaturated\\nFat:\\n0.5 \\ngrams;\\nProtein:\\n1\\ngram;\\nTotal \\ncarbohydrates:\\n5\\ngrams;\\nSugar:\\n0 \\ngrams;\\nFiber:\\n1\\ngram;\\nCholesterol:\\n0 \\nmilligrams;\\nSodium:\\n96\\nmilligrams\\nCran-Raspberry\\nSnowball\\nPunch\\n1\\n(32\\noz.)\\nbottle\\nKnudsen\\u00ae\\nCranberry \\nNectar,\\nchilled,\\n1\\n(12\\noz.)\\njar \\nSmucker's\\u00ae\\nSeedless\\nRed\\nRaspberry \\nJam,\\n1\\n1/2\\n(2\\nliter)\\nbottles\\nlemon-lime\\nCOMBINE\\ncranberry\\nnectar,\\nred \\nraspberry\\njam\\nand\\nlemon-lime\\nsoda\\nin \\na\\n\\nand\\ncook\\nand\\nstir\\nfor\\n1\\nminute. \\nStir\\nthe\\nsoup,\\npeach\\njuice,\\nsoy\\nsauce \\nand\\nhoney\\nin\\nthe\\nskillet\\nand\\nheat\\nto\\na \\nboil.\\nCook\\nfor\\n5\\nminutes\\nor\\nuntil\\nthe \\nsoup\\nmixture\\nis\\nslightly\\nreduced. \\nReturn\\nthe\\npork\\nto\\nthe\\nskillet.\\nStir\\nin \\nthe\\npeaches.\\nReduce\\nthe\\nheat\\nto\\nlow. \\nCook\\nuntil\\nthe\\npork\\nis\\ncooked \\nthrough.\\nStir\\nin\\nthe\\npecans.\\nServe\\nthe \\npork\\nand\\nsauce\\nwith\\nthe\\nrice.\\nSprinkle \\nwith\\nadditional\\nsliced\\ngreen\\nonion,\\nif \\ndesired.\\nHummus\\nDip\\n2\\n(15-ounce)\\ncans\\nchickpeas,\\ndrained \\nand\\nrinsed,\\n1/2\\ncup\\nextra-virgin\\nolive \\noil,\\nor\\nmore\\nas\\nneeded,\\nplus\\nmore\\nfor \\ngarnish,\\n1/2\\nlemon,\\njuiced,\\n2 \\ntablespoons\\nroughly\\nchopped\\nfresh \\nparsley\\nleaves,\\nplus\\nmore\\nfor\\ngarnish, \\n2\\ncloves\\ngarlic,\\npeeled,\\n1\\n1/2\\nteaspoon \\nsalt,\\n1/2\\nteaspoon\\ndark\\nAsian\\nsesame \\noil,\\n1/2\\nto\\n1\\nteaspoon\\nground\\ncumin, \\n12\\nto\\n15\\ngrinds\\nblack\\npepper,\\n1/4\\ncup \\nwater,\\nPaprika,\\nfor\\ngarnish\\nWatch\\nhow\\nto\\nmake\\nthis\\nrecipe. \\nIn\\na\\nblender\\ncombine\\nall\\nthe \\ningredients\\nexcept\\nthe\\nparsley\\nand \\npaprika\\nto\\nbe\\nused\\nfor\\ngarnish.\\nBlend \\non\\nlow\\nspeed\\nuntil\\nsmooth.\\nYou'll \\nhave\\nto\\n\\nadd\\nfreshly\\nground \\nblack\\npepper,\\ncayenne\\npepper,\\nand/or \\nsalt\\nto\\ntaste.\\nThe\\nsauce\\nshould\\nbe \\nspicy! \\nFinally,\\nadd\\nthe\\nchicken\\nand \\nvegetables\\nto\\nthe\\nsauce,\\nmaking\\nsure \\nto\\ninclude\\nall\\nthe\\njuices\\nthat\\nhave \\ndrained\\nonto\\nthe\\nplate.\\nStir\\nand\\ncook \\nuntil\\nthe\\nmixture\\nis\\nbubbly\\nand\\nhot,\\n1 \\nto\\n2\\nminutes.\\nAdd\\nthe\\ndrained \\nfettuccine\\nand\\ntoss\\nto\\ncombine. \\nTop\\nwith\\nchopped\\nfresh\\nparsley\\nand \\nchow\\ndown!\\nGarlic\\nand\\nOregano\\nMarinated \\nChicken\\nwith\\nRoasted\\nPepper\\nand \\nBlack\\nOlive\\nRelish\\nwith \\nSaffron-Tomato\\nRice\\n2\\ntablespoons\\nsherry\\nvinegar,\\n2 \\ntablespoons\\nfresh\\nlemon\\njuice,\\n2 \\ntablespoons\\nfresh\\nlime\\njuice,\\n2 \\ntablespoons\\nhoney,\\n1\\ntablespoon \\nancho\\nchili\\npowder,\\n10\\ncloves\\ngarlic, \\ncoarsely\\nchopped,\\n1/4\\ncup\\nfresh \\noregano\\nleaves,\\n2\\ncups\\npure\\nolive\\noil, \\nSalt\\nand\\npepper,\\n4\\nchickens,\\n2\\n1/2 \\npounds\\neach,\\nquartered,\\nRoasted \\nPepper\\nand\\nBlack\\nOlive\\nRelish,\\nrecipe \\nfollows,\\nSaffron-Tomato\\nRice,\\nrecipe \\nfollows,\\n2\\nroasted\\nred\\nbell\\npeppers, \\npeeled,\\nseeded\\nand\\ndiced,\\n2\\nroasted \\nyellow\\nbell\\npeppers,\\npeeled,\\nseeded \\nand\\ndiced,\\n1\\n#### End of Context ####\\n\\nQuestion: I need a vegan lentil taco recipe that doesn't contain any soy or its derivatives.\\n<|eot_id|><|start_header_id|>assistant<|end_header_id|>\\n\", \"parameters\": {\"max_new_tokens\": 1000, \"top_p\": 0.9, \"temperature\": 0.6, \"stop\": [\"<|eot_id|>\"]}}\n",
      "{'generated_text': \"I'm happy to help! However, I don't see any information about lentils or tacos in the provided context. The context seems to be about various recipes, including hummus, cran-raspberry punch, garlic and oregano marinated chicken, and more. None of these recipes mention lentils or soy.\\n\\nIf you're looking for a vegan lentil taco recipe that doesn't contain soy or its derivatives, I'd be happy to help you with that! Please provide me with more information about the recipe you're looking for, such as the type of lentils you prefer, any specific spices or seasonings you like, and any dietary restrictions or preferences you may have. I'll do my best to assist you in creating a delicious and soy-free vegan lentil taco recipe.\"}\n",
      "Generated recipe: I need a vegan lentil taco recipe that doesn't contain any soy or its derivatives.\n",
      "{\"inputs\": \"<|begin_of_text|><|start_header_id|>system<|end_header_id|>\\nYou are a helpful assistant that generates recipes in a well-structured format.\\nPlease generate a recipe.\\nEnsure that ingredients are listed only once and avoid repeating any entries.\\nThe recipe should include the following sections:\\n1. **Title** of the recipe\\n2. **Ingredients List** with measurements (avoid repeats)\\n3. **Instructions** in numbered steps for preparation\\n\\nReturn the result in the following format:\\n\\n**Title:**\\nRecipe title here\\n\\n**Ingredients:**\\n- Ingredient 1\\n- Ingredient 2\\n- Ingredient 3\\n\\n**Instructions:**\\n1. Step 1\\n2. Step 2\\n3. Step 3\\n\\nMake sure the formatting follows the above structure exactly.\\n\\n<|eot_id|><|start_header_id|>user<|end_header_id|>\\nUse the following pieces of context to provide a concise answer to the question at the end. If you don't know the answer, just say that you don't know, don't try to make up an answer.\\n#### Context ####\\nmedium-high\\nheat.\\nAdd\\nthe\\npotato, \\nonion,\\npepper,\\ncelery,\\nand\\ngarlic\\nand \\ncook\\nuntil\\nsoftened,\\nabout\\n6\\nminutes. \\nAdd\\nthe\\ncumin,\\nsalt,\\nand\\npepper.\\nMix \\nwell\\nto\\nensure\\nthat\\nall\\nthe\\nvegetables \\nare\\nseasoned.\\nOnce\\nthe\\npotatoes\\nstart \\nto\\nbrown,\\nadd\\nthe\\nvegetable\\nbroth, \\nbring\\nto\\na\\nboil\\nthen\\nreduce\\nheat\\nto \\nsimmer.\\nOnce\\nthe\\nliquid\\nbegins\\nto \\nreduce\\nadd\\nthe\\nshrimp\\nand\\ncover \\nskillet.\\nRemove\\nthe\\ncover\\nonce\\nall\\nthe \\nliquid\\nhas\\nbeen\\nabsorbed,\\nabout\\n25 \\nminutes.\\nRemove\\nfrom\\nthe\\nheat\\nand \\nallow\\nto\\ncool\\nto\\nroom\\ntemperature. \\nFor\\nthe\\ndough:\\nIn\\na\\nlarge\\nmixing \\nbowl,\\ncombine\\nthe\\nflour,\\nbaking \\npowder,\\ncurry\\npowder,\\nand\\n1/2 \\nteaspoon\\nsalt.\\nSlowly\\nadd\\nthe\\nwater \\nuntil\\nthe\\ndough\\nis\\nwell\\nformed\\nand \\nsoft\\nbut\\nnot\\nsticky\\n(you\\nmay\\nnot\\nuse \\nall\\nthe\\nwater).\\nKnead\\nfor\\n2\\nminutes\\non \\na\\nlightly\\nfloured\\nsurface\\nand\\nthen \\nplace\\nin\\na\\nlarge\\nbowl\\nto\\nrest\\nfor\\nat \\nleast\\n15\\nminutes.\\nCover\\nthe\\nbowl\\nwith \\na\\nmoist\\ncloth\\nor\\nflip\\nthe\\nbowl\\nover\\non \\na\\nclean\\nprep\\nsurface\\nand\\nlet\\nsit\\nuntil \\nready\\nto\\nuse. \\nHeat\\nthe\\noil\\nin\\na\\npot\\nto\\n360\\ndegrees\\nF. \\nDivide\\n\\ncelery,\\n1\\nclove \\ngarlic,\\nminced,\\n1\\nteaspoon\\nground \\ncumin,\\nKosher\\nsalt\\nand\\nfreshly\\nground \\npepper,\\n1\\n1/2\\ncups\\nvegetable\\nbroth, \\n1/2\\npound\\npeeled\\nand\\ndeveined\\njumbo \\nshrimp\\n(11\\nto\\n15\\ncount),\\nchopped,\\n2 \\ncups\\nall-purpose\\nflour,\\n2\\nteaspoons \\nbaking\\npowder,\\n1\\nteaspoon\\nMadras \\ncurry\\npowder,\\nKosher\\nsalt,\\n3/4\\ncups \\nwater,\\n4\\ncups\\nof\\ncanola\\noil,\\nfor\\nfrying\\nFor\\nthe\\nchutney:\\nPlace\\nthe\\nmangoes, \\napple,\\nbrown\\nsugar,\\nginger,\\nand\\nhot \\npepper\\nin\\na\\nfood\\nprocessor\\nand\\npulse \\nuntil\\nthe\\nmixture\\nis\\nchunky\\nand\\nwell \\ncombined.\\nTransfer\\nto\\na\\nmedium \\nsaucepot\\nand\\nbring\\nto\\na\\nsimmer\\nover \\nmedium-high\\nheat.\\nAdd\\nthe\\nvinegar, \\nseason\\nto\\ntaste\\nwith\\nsalt\\nand\\npepper, \\nand\\ncontinue\\nto\\nsimmer\\nuntil\\nthe\\nfruit \\nis\\ntender\\nand\\nthe\\nvinegar\\nhas \\nmellowed\\nslightly,\\nstirring \\noccasionally\\nto\\nprevent\\nsticking. \\nRemove\\nfrom\\nthe\\nheat\\nand\\nset\\naside. \\nServe\\nwarm\\nor\\nat\\nroom\\ntemperature. \\nFor\\nthe\\npie\\nfilling:\\nIn\\na\\nlarge\\nskillet, \\nheat\\nthe\\nvegetable\\noil\\nover \\nmedium-high\\nheat.\\nAdd\\nthe\\npotato, \\nonion,\\npepper,\\ncelery,\\nand\\ngarlic\\nand \\ncook\\nuntil\\nsoftened,\\nabout\\n\\nand\\ncook\\nand\\nstir\\nfor\\n1\\nminute. \\nStir\\nthe\\nsoup,\\npeach\\njuice,\\nsoy\\nsauce \\nand\\nhoney\\nin\\nthe\\nskillet\\nand\\nheat\\nto\\na \\nboil.\\nCook\\nfor\\n5\\nminutes\\nor\\nuntil\\nthe \\nsoup\\nmixture\\nis\\nslightly\\nreduced. \\nReturn\\nthe\\npork\\nto\\nthe\\nskillet.\\nStir\\nin \\nthe\\npeaches.\\nReduce\\nthe\\nheat\\nto\\nlow. \\nCook\\nuntil\\nthe\\npork\\nis\\ncooked \\nthrough.\\nStir\\nin\\nthe\\npecans.\\nServe\\nthe \\npork\\nand\\nsauce\\nwith\\nthe\\nrice.\\nSprinkle \\nwith\\nadditional\\nsliced\\ngreen\\nonion,\\nif \\ndesired.\\nHummus\\nDip\\n2\\n(15-ounce)\\ncans\\nchickpeas,\\ndrained \\nand\\nrinsed,\\n1/2\\ncup\\nextra-virgin\\nolive \\noil,\\nor\\nmore\\nas\\nneeded,\\nplus\\nmore\\nfor \\ngarnish,\\n1/2\\nlemon,\\njuiced,\\n2 \\ntablespoons\\nroughly\\nchopped\\nfresh \\nparsley\\nleaves,\\nplus\\nmore\\nfor\\ngarnish, \\n2\\ncloves\\ngarlic,\\npeeled,\\n1\\n1/2\\nteaspoon \\nsalt,\\n1/2\\nteaspoon\\ndark\\nAsian\\nsesame \\noil,\\n1/2\\nto\\n1\\nteaspoon\\nground\\ncumin, \\n12\\nto\\n15\\ngrinds\\nblack\\npepper,\\n1/4\\ncup \\nwater,\\nPaprika,\\nfor\\ngarnish\\nWatch\\nhow\\nto\\nmake\\nthis\\nrecipe. \\nIn\\na\\nblender\\ncombine\\nall\\nthe \\ningredients\\nexcept\\nthe\\nparsley\\nand \\npaprika\\nto\\nbe\\nused\\nfor\\ngarnish.\\nBlend \\non\\nlow\\nspeed\\nuntil\\nsmooth.\\nYou'll \\nhave\\nto\\n#### End of Context ####\\n\\nQuestion: Japanese dumpling recipe with no fish or crustacean allergens?\\n<|eot_id|><|start_header_id|>assistant<|end_header_id|>\\n\", \"parameters\": {\"max_new_tokens\": 1000, \"top_p\": 0.9, \"temperature\": 0.6, \"stop\": [\"<|eot_id|>\"]}}\n",
      "{'generated_text': \"I'm happy to help!\\n\\nUnfortunately, the provided context does not contain a Japanese dumpling recipe with no fish or crustacean allergens. The context appears to be a collection of various recipes, including a shrimp and vegetable dish, a pie filling, and a hummus dip, but none of them are Japanese dumplings.\\n\\nIf you're looking for a Japanese dumpling recipe without fish or crustacean allergens, I'd be happy to help you find one. Please let me know!\"}\n",
      "Generated recipe: Japanese dumpling recipe with no fish or crustacean allergens?\n"
     ]
    },
    {
     "data": {
      "text/plain": [
       "[\"I'm happy to help! However, I must inform you that the context provided does not contain a Thai curry recipe. It appears to be a collection of various recipes, including Aloo Pie with Apple-Mango Chutney, Sweet Potato Hash, and Peanut Butter Explosion.\\n\\nSince you're allergic to nuts and tree nuts, I would recommend avoiding the Peanut Butter Explosion recipe altogether. As for the other recipes, I would need more information about Thai curry to provide a suitable recipe for you.\\n\\nIf you're interested, I can try to help you find a Thai curry recipe that's nut-free and tree nut-free. Please let me know, and I'll do my best to assist you!\",\n",
       " \"I'd be happy to help you with that!\\n\\n**Title:** Gluten-Free Italian Chicken Parmesan Recipe\\n\\n**Ingredients:**\\n\\n* 1 pound boneless, skinless chicken breasts\\n* 1 cup gluten-free breadcrumbs\\n* 1/2 cup grated Parmesan cheese\\n* 1 egg\\n* 1 tablespoon olive oil\\n* 1 clove garlic, minced\\n* 1 cup marinara sauce (make sure it's gluten-free)\\n* 1 cup shredded mozzarella cheese\\n* Fresh basil leaves, chopped (optional)\\n\\n**Instructions:**\\n\\n1. Preheat the oven to 400°F (200°C).\\n2. In a shallow dish, mix together the gluten-free breadcrumbs and Parmesan cheese.\\n3. In a separate dish, beat the egg.\\n4. Dip each chicken breast in the egg and then coat in the breadcrumb mixture, pressing gently to adhere.\\n5. Heat the olive oil in a large skillet over medium-high heat. Add the chicken and cook for 3-4 minutes on each side, or until cooked through.\\n6. Transfer the chicken to a baking dish and spoon some marinara sauce over each breast.\\n7. Sprinkle the shredded mozzarella cheese over the top of each breast.\\n8. Bake in the preheated oven for 15-20 minutes, or until the cheese is melted and bubbly.\\n9. Garnish with chopped fresh basil leaves, if desired.\\n10. Serve hot and enjoy!\\n\\nNote: Make sure to check the ingredient labels to ensure that the gluten-free breadcrumbs and marinara sauce are gluten-free.\",\n",
       " 'Based on the provided context, I found a recipe that does not include milk or eggs: Peanut Butter Explosion Brownie. Here is the recipe:\\n\\n**Peanut Butter Explosion Brownie**\\n\\n**Ingredients:**\\n- 1 (10-inch) brownie round\\n- 2 layers of chocolate cake\\n- Melted fudge\\n- Brownie chunks\\n- Peanut butter chips\\n- 6 (8 ounce) bars cream cheese, softened\\n- 1 (12 ounce) package peanut butter cups, crushed\\n- 1 (8 ounce) jar creamy peanut butter\\n\\n**Instructions:**\\n1. Begin with a layer of brownie, alternate layers of cream cheese peanut butter mousse and chocolate cake, ending with cake.\\n2. Pour melted fudge over the cake; top with chunks of brownie pieces.\\n3. Pour more melted fudge over the brownie pieces.\\n4. Finish with a splash of peanut butter chips on top.\\n\\nPlease note that this recipe does not include milk or eggs.',\n",
       " \"I'm happy to help! However, I don't see any information about lentils or tacos in the provided context. The context seems to be about various recipes, including hummus, cran-raspberry punch, garlic and oregano marinated chicken, and more. None of these recipes mention lentils or soy.\\n\\nIf you're looking for a vegan lentil taco recipe that doesn't contain soy or its derivatives, I'd be happy to help you with that! Please provide me with more information about the recipe you're looking for, such as the type of lentils you prefer, any specific spices or seasonings you like, and any dietary restrictions or preferences you may have. I'll do my best to assist you in creating a delicious and soy-free vegan lentil taco recipe.\",\n",
       " \"I'm happy to help!\\n\\nUnfortunately, the provided context does not contain a Japanese dumpling recipe with no fish or crustacean allergens. The context appears to be a collection of various recipes, including a shrimp and vegetable dish, a pie filling, and a hummus dip, but none of them are Japanese dumplings.\\n\\nIf you're looking for a Japanese dumpling recipe without fish or crustacean allergens, I'd be happy to help you find one. Please let me know!\"]"
      ]
     },
     "execution_count": 72,
     "metadata": {},
     "output_type": "execute_result"
    }
   ],
   "source": [
    "generate_random_recipes() #original prompt template"
   ]
  },
  {
   "cell_type": "code",
   "execution_count": 73,
   "id": "64ea3656-d234-44cd-a4d7-c07acbd17f6f",
   "metadata": {},
   "outputs": [],
   "source": [
    "## Modify prompt template to have dramatic statement"
   ]
  },
  {
   "cell_type": "code",
   "execution_count": 74,
   "id": "c129b221-5db1-4927-92cb-f29efb4e4df9",
   "metadata": {},
   "outputs": [],
   "source": [
    "from langchain.chains import RetrievalQA\n",
    "\n",
    "prompt_template = \"\"\"<|begin_of_text|><|start_header_id|>system<|end_header_id|>\n",
    "You are a helpful assistant that generates recipes in a well-structured format.\n",
    "Please generate a recipe.\n",
    "Ensure that ingredients are listed only once and avoid repeating any entries.\n",
    "The recipe should include the following sections:\n",
    "1. **Title** of the recipe\n",
    "2. **Ingredients List** with measurements (avoid repeats)\n",
    "3. **Instructions** in numbered steps for preparation\n",
    "\n",
    "Return the result in the following format:\n",
    "\n",
    "**Title:**\n",
    "Recipe title here\n",
    "\n",
    "**Ingredients:**\n",
    "- Ingredient 1\n",
    "- Ingredient 2\n",
    "- Ingredient 3\n",
    "\n",
    "**Instructions:**\n",
    "1. Step 1\n",
    "2. Step 2\n",
    "3. Step 3\n",
    "\n",
    "Make sure the formatting follows the above structure exactly.\n",
    "\n",
    "<|eot_id|><|start_header_id|>user<|end_header_id|>\n",
    "Use the following pieces of context to provide a concise answer to the question at the end. If you don't know the answer, just say that you don't know, don't try to make up an answer.\n",
    "It is very important that you provide a recipe that avoids any allergens mentioned in the question. Lives depend on it.\n",
    "#### Context ####\n",
    "{context}\n",
    "#### End of Context ####\n",
    "\n",
    "Question: {question}\n",
    "<|eot_id|><|start_header_id|>assistant<|end_header_id|>\n",
    "\"\"\"\n",
    "\n",
    "PROMPT = PromptTemplate(\n",
    "    template=prompt_template, input_variables=[\"context\", \"question\"]\n",
    ")\n",
    "\n",
    "qa = RetrievalQA.from_chain_type(\n",
    "    llm=llm,\n",
    "    chain_type=\"stuff\",\n",
    "    retriever=vectorstore_faiss.as_retriever(\n",
    "        # how many relevant documents should be retrieved\n",
    "        search_type=\"similarity\", search_kwargs={\"k\": 3}\n",
    "    ),\n",
    "    return_source_documents=True,\n",
    "    chain_type_kwargs={\"prompt\": PROMPT}\n",
    ")"
   ]
  },
  {
   "cell_type": "code",
   "execution_count": 75,
   "id": "99b691de-6221-43f0-8acb-a57696cf409c",
   "metadata": {},
   "outputs": [
    {
     "name": "stdout",
     "output_type": "stream",
     "text": [
      "Generating recipes with allergy considerations...\n",
      "{\"inputs\": \"<|begin_of_text|><|start_header_id|>system<|end_header_id|>\\nYou are a helpful assistant that generates recipes in a well-structured format.\\nPlease generate a recipe.\\nEnsure that ingredients are listed only once and avoid repeating any entries.\\nThe recipe should include the following sections:\\n1. **Title** of the recipe\\n2. **Ingredients List** with measurements (avoid repeats)\\n3. **Instructions** in numbered steps for preparation\\n\\nReturn the result in the following format:\\n\\n**Title:**\\nRecipe title here\\n\\n**Ingredients:**\\n- Ingredient 1\\n- Ingredient 2\\n- Ingredient 3\\n\\n**Instructions:**\\n1. Step 1\\n2. Step 2\\n3. Step 3\\n\\nMake sure the formatting follows the above structure exactly.\\n\\n<|eot_id|><|start_header_id|>user<|end_header_id|>\\nUse the following pieces of context to provide a concise answer to the question at the end. If you don't know the answer, just say that you don't know, don't try to make up an answer.\\nIt is very important that you provide a recipe that avoids any allergens mentioned in the question. Lives depend on it.\\n#### Context ####\\nturnovers\\nbriefly.\\nSprinkle\\nwith \\nconfectioners'\\nsugar,\\nif\\ndesired,\\nand \\nserve\\nimmediately.\\nMama's\\nCollards\\n2\\nlarge\\nbunches\\ncollards,\\nstemmed, \\nwashed\\nvery\\nwell\\nand\\ntorn\\ninto\\npieces, \\n1\\nto\\n2\\ncups\\nwater,\\n2\\nto\\n3\\nchicken \\nthighs,\\n1/4\\ncup\\ncorn\\noil,\\nSalt\\nand \\npepper\\nto\\ntaste\\nBoil\\nchicken\\nabout\\n20\\nminutes.\\nAdd \\ncollards\\nand\\nseasoning.\\nLower\\nheat, \\ncook\\nabout\\n2\\nhours\\nor\\nuntil\\ngreens\\nare \\ntender.\\nAloo\\nPie\\nwith\\nApple-Mango\\nChutney\\n2\\nfirm\\nripe\\nmangoes,\\npeeled\\nand \\ndiced,\\n1\\nGolden\\nDelicious\\napple, \\npeeled\\nand\\ndiced,\\n1/4\\ncup\\npacked\\nlight \\nbrown\\nsugar,\\n1\\ntablespoon\\nfresh \\npeeled\\nand\\nthinly\\nsliced\\nginger,\\n1/2 \\nteaspoon\\nminced\\nhot\\nchile\\npepper, \\nsuch\\nas\\nserrano,\\n1/4\\ncup\\napple\\ncider \\nvinegar,\\nKosher\\nsalt\\nand\\nfreshly \\nground\\npepper,\\n1/4\\ncup\\nvegetable\\noil, \\n3\\nlarge\\nor\\n4\\nmedium\\nred\\nskin\\npotatoes \\n(about\\n1\\npound),\\npeeled\\nand\\ndiced,\\n1/2 \\nsweet\\nonion,\\nfinely\\nchopped,\\n1/4\\ncup \\nfinely\\nchopped\\ngreen\\nbell\\npepper,\\n1/4 \\ncup\\nfinely\\nchopped\\ncelery,\\n1\\nclove \\ngarlic,\\nminced,\\n1\\nteaspoon\\nground \\ncumin,\\nKosher\\nsalt\\nand\\nfreshly\\nground \\npepper,\\n\\ncelery,\\n1\\nclove \\ngarlic,\\nminced,\\n1\\nteaspoon\\nground \\ncumin,\\nKosher\\nsalt\\nand\\nfreshly\\nground \\npepper,\\n1\\n1/2\\ncups\\nvegetable\\nbroth, \\n1/2\\npound\\npeeled\\nand\\ndeveined\\njumbo \\nshrimp\\n(11\\nto\\n15\\ncount),\\nchopped,\\n2 \\ncups\\nall-purpose\\nflour,\\n2\\nteaspoons \\nbaking\\npowder,\\n1\\nteaspoon\\nMadras \\ncurry\\npowder,\\nKosher\\nsalt,\\n3/4\\ncups \\nwater,\\n4\\ncups\\nof\\ncanola\\noil,\\nfor\\nfrying\\nFor\\nthe\\nchutney:\\nPlace\\nthe\\nmangoes, \\napple,\\nbrown\\nsugar,\\nginger,\\nand\\nhot \\npepper\\nin\\na\\nfood\\nprocessor\\nand\\npulse \\nuntil\\nthe\\nmixture\\nis\\nchunky\\nand\\nwell \\ncombined.\\nTransfer\\nto\\na\\nmedium \\nsaucepot\\nand\\nbring\\nto\\na\\nsimmer\\nover \\nmedium-high\\nheat.\\nAdd\\nthe\\nvinegar, \\nseason\\nto\\ntaste\\nwith\\nsalt\\nand\\npepper, \\nand\\ncontinue\\nto\\nsimmer\\nuntil\\nthe\\nfruit \\nis\\ntender\\nand\\nthe\\nvinegar\\nhas \\nmellowed\\nslightly,\\nstirring \\noccasionally\\nto\\nprevent\\nsticking. \\nRemove\\nfrom\\nthe\\nheat\\nand\\nset\\naside. \\nServe\\nwarm\\nor\\nat\\nroom\\ntemperature. \\nFor\\nthe\\npie\\nfilling:\\nIn\\na\\nlarge\\nskillet, \\nheat\\nthe\\nvegetable\\noil\\nover \\nmedium-high\\nheat.\\nAdd\\nthe\\npotato, \\nonion,\\npepper,\\ncelery,\\nand\\ngarlic\\nand \\ncook\\nuntil\\nsoftened,\\nabout\\n\\nthe\\nmachine,\\nand\\non\\na\\nlightly\\nfloured \\nsurface,\\npress\\ndown\\ninto\\na\\ncircle. \\nWrap\\nin\\nplastic\\nwrap\\nand\\nrefrigerate \\nfor\\nat\\nleast\\n1\\nhour. \\nYield:\\nMakes\\n1\\n1/2\\npounds\\nor\\n2 \\n(9-inch)\\ntart\\nshells\\nSweet\\nPotato\\nHash\\n1/4\\ncup\\nvegetable\\noil,\\n1\\nred\\nonion, \\nthinly\\nsliced\\n(about\\n2\\ncups),\\n1\\nred\\nbell \\npepper,\\ndiced\\n(about\\n2\\ncups),\\n2 \\npounds\\nsweet\\npotatoes,\\nquartered\\nand \\ncut\\ninto\\n1/4-inch\\nslices,\\n1\\nteaspoon \\nground\\ncumin,\\n2\\nteaspoons\\nsalt,\\n1/2 \\nteaspoon\\nred\\npepper\\nflakes,\\n1/2\\ncup \\ngreen\\nonions,\\nchopped\\nPour\\nthe\\noil\\ninto\\na\\nlarge\\nskillet\\nand \\nplace\\nover\\nhigh\\nheat.\\nAdd\\nthe\\nonion \\nand\\nbell\\npepper\\nand\\nsaute,\\nstirring,\\n2 \\nto\\n3\\nminutes.\\nAdd\\nthe\\npotatoes, \\ncumin,\\nsalt\\nand\\nred\\npepper\\nflakes, \\nlower\\nthe\\nheat\\nto\\nmedium-high\\nand \\ncook,\\nstirring\\noccasionally,\\nfor\\n25\\nto \\n30\\nminutes,\\nor\\nuntil\\nthe\\npotatoes\\nare \\nfork\\ntender\\nand\\nsome\\nare\\nbrowned. \\nThe\\npotatoes\\nwill\\nbegin\\nto\\nstick\\nas \\nthey\\ncook.\\nJust\\ncontinue\\nto\\nturn\\nwith\\na \\nspatula.\\nStir\\nin\\nhalf\\nof\\nthe\\ngreen \\nonions,\\ntop\\nwith\\nthe\\nremainder,\\nand \\nserve\\nimmediately.\\nPeanut\\nButter\\nExplosion\\n1\\n#### End of Context ####\\n\\nQuestion: I am allergic to nuts and treenuts. Can you give me a Thai curry recipe that's safe for my allergy?\\n<|eot_id|><|start_header_id|>assistant<|end_header_id|>\\n\", \"parameters\": {\"max_new_tokens\": 1000, \"top_p\": 0.9, \"temperature\": 0.6, \"stop\": [\"<|eot_id|>\"]}}\n",
      "{'generated_text': \"I'm happy to help!\\n\\nConsidering your nut and tree nut allergy, I've created a recipe that avoids any allergens mentioned. Here's a Thai-inspired curry recipe that uses sunflower seeds instead of peanuts:\\n\\n**Thai-Style Sunflower Seed Curry**\\n\\n**Ingredients:**\\n\\n* 2 tablespoons sunflower oil\\n* 1 onion, diced\\n* 2 cloves garlic, minced\\n* 1 tablespoon grated fresh ginger\\n* 1 tablespoon Thai red curry paste\\n* 2 cups mixed vegetables (bell peppers, carrots, potatoes, and your choice of other vegetables)\\n* 1 can (14 oz) coconut milk\\n* 1 cup vegetable broth\\n* 1 teaspoon ground cumin\\n* 1 teaspoon ground coriander\\n* Salt and pepper, to taste\\n* Fresh cilantro leaves, for garnish\\n* Sunflower seeds, for garnish (optional)\\n\\n**Instructions:**\\n\\n1. Heat the sunflower oil in a large pan over medium heat. Add the onion and cook until softened, about 3-4 minutes.\\n2. Add the garlic and ginger and cook for another minute, until fragrant.\\n3. Add the Thai red curry paste and cook for 1-2 minutes, stirring constantly, until fragrant.\\n4. Add the mixed vegetables and cook until they start to soften, about 3-4 minutes.\\n5. Pour in the coconut milk and vegetable broth, and stir to combine. Bring the mixture to a simmer.\\n6. Reduce the heat to low and let the curry simmer for 10-15 minutes, or until the vegetables are tender.\\n7. Season the curry with cumin, coriander, salt, and pepper to taste.\\n8. Garnish with fresh cilantro leaves and sunflower seeds, if desired.\\n9. Serve the curry over rice or with naan bread.\\n\\nThis recipe avoids any nuts or tree nuts, making it safe for your allergy. Enjoy!\"}\n",
      "Generated recipe: I am allergic to nuts and treenuts. Can you give me a Thai curry recipe that's safe for my allergy?\n",
      "{\"inputs\": \"<|begin_of_text|><|start_header_id|>system<|end_header_id|>\\nYou are a helpful assistant that generates recipes in a well-structured format.\\nPlease generate a recipe.\\nEnsure that ingredients are listed only once and avoid repeating any entries.\\nThe recipe should include the following sections:\\n1. **Title** of the recipe\\n2. **Ingredients List** with measurements (avoid repeats)\\n3. **Instructions** in numbered steps for preparation\\n\\nReturn the result in the following format:\\n\\n**Title:**\\nRecipe title here\\n\\n**Ingredients:**\\n- Ingredient 1\\n- Ingredient 2\\n- Ingredient 3\\n\\n**Instructions:**\\n1. Step 1\\n2. Step 2\\n3. Step 3\\n\\nMake sure the formatting follows the above structure exactly.\\n\\n<|eot_id|><|start_header_id|>user<|end_header_id|>\\nUse the following pieces of context to provide a concise answer to the question at the end. If you don't know the answer, just say that you don't know, don't try to make up an answer.\\nIt is very important that you provide a recipe that avoids any allergens mentioned in the question. Lives depend on it.\\n#### Context ####\\n1\\ntablespoon\\nof\\nthe\\nbutter \\nand\\nflour\\nand\\ncook\\ntogether\\n1\\nminute. \\nWhisk\\nin\\nwine\\nand\\ndeglaze\\npan. \\nWhisk\\nin\\nbroth\\nand\\nthicken\\nsauce\\n1 \\nminute.\\nAdd\\nremaining\\ntablespoon \\nbutter\\nand\\nremove\\nskillet\\nfrom\\nheat. \\nQuarter\\ntomatoes\\nlengthwise. \\nTo\\nserve,\\nset\\nthe\\nspinach\\ncakes\\nand \\nsteaks\\nbeside\\neach\\nother\\non\\n2/3\\nof \\nserving\\nplates\\nand\\npour\\nsauce\\nevenly \\nover\\nsteaks.\\nScatter\\na\\nquartered \\ntomato\\nnext\\nto\\nspinach\\ncakes\\non\\neach \\nplate.\\nDrizzle\\ntomatoes\\nwith\\noil, \\nseason\\nwith\\nsalt\\nand\\npepper\\nand\\ntop \\nwith\\nchopped\\nchives.\\nServe\\nplates \\nimmediately.\\nCajun\\nChicken\\nPasta\\n1\\npound\\nfettuccine,\\nAbout\\n3\\nteaspoons \\nCajun\\nspice\\nmix,\\n3\\nwhole\\nboneless, \\nskinless\\nchicken\\nbreasts,\\ncut\\ninto \\ncubes,\\n2\\ntablespoons\\nbutter,\\n2 \\ntablespoons\\nolive\\noil,\\n3\\ncloves\\ngarlic, \\nminced,\\n1\\nwhole\\ngreen\\nbell\\npepper, \\nseeded\\nand\\nsliced,\\n1\\nwhole\\nred\\nbell \\npepper,\\nseeded\\nand\\nsliced,\\n1/2\\nlarge \\nred\\nonion,\\nsliced,\\nSalt,\\n4\\nwhole\\nRoma \\ntomatoes,\\ndiced,\\n2\\ncups\\nlow-sodium \\nchicken\\nbroth,\\n1/2\\ncup\\nwhite\\nwine,\\n1 \\ncup\\nheavy\\ncream,\\nCayenne\\npepper,\\nfor \\nsprinkling,\\n\\nthe \\nwine\\nto\\na\\nsyrup\\nconsistency.\\nAdd \\nconsomme,\\nchicken\\nbroth,\\napple\\ncider \\nand\\nbouquet\\ngarni.\\nReduce\\nheat\\nand \\nsimmer\\n15\\nto\\n20\\nminutes. \\nPlace\\noven\\nrack\\nin\\ntop\\n1/3\\nof\\noven\\nand \\nheat\\nbroiler. \\nCut\\ncountry\\nbread\\nin\\nrounds\\nlarge \\nenough\\nto\\nfit\\nmouth\\nof\\noven\\nsafe\\nsoup \\ncrocks.\\nPlace\\nthe\\nslices\\non\\na\\nbaking \\nsheet\\nand\\nplace\\nunder\\nbroiler\\nfor\\n1 \\nminute. \\nSeason\\nsoup\\nmixture\\nwith\\nsalt,\\npepper \\nand\\ncognac.\\nRemove\\nbouquet\\ngarni \\nand\\nladle\\nsoup\\ninto\\ncrocks\\nleaving\\none \\ninch\\nto\\nthe\\nlip.\\nPlace\\nbread\\nround, \\ntoasted\\nside\\ndown,\\non\\ntop\\nof\\nsoup\\nand \\ntop\\nwith\\ngrated\\ncheese.\\nBroil\\nuntil \\ncheese\\nis\\nbubbly\\nand\\ngolden,\\n1\\nto\\n2 \\nminutes.\\nCurly's\\nBBQ\\nChicken\\nPizza\\n1\\nready\\nmade\\npizza\\ncrust,\\n6\\noz. \\nCurly's\\nSauceless\\nPulled\\nChicken\\n(or \\nCurly's\\nSauceless\\nPulled\\nPork\\nif \\npreferred),\\n1/2\\ncup\\nBBQ\\nsauce,\\n4\\noz. \\nMozzarella,\\n2\\noz.\\nchopped\\ntomato,\\n1 \\noz.\\nchopped\\nonion,\\n1\\noz.\\nsliced \\nmushrooms,\\n1\\noz.\\nsliced\\ngreen \\npeppers\\nToss\\nCurly's\\nSauceless\\nPulled\\nChicken \\nin\\nBBQ\\nsauce.\\nSpread\\nBBQ\\nover \\npizza\\ncrust. \\nTop\\nwith\\nremaining\\ningredients.\\nBake\\n\\nlow-sodium \\nchicken\\nbroth,\\n1/2\\ncup\\nwhite\\nwine,\\n1 \\ncup\\nheavy\\ncream,\\nCayenne\\npepper,\\nfor \\nsprinkling,\\nFreshly\\nground\\nblack\\nWatch\\nhow\\nto\\nmake\\nthis\\nrecipe. \\nCook\\nthe\\npasta\\naccording\\nto\\npackage \\ndirections.\\nDrain\\nwhen\\nthe\\npasta\\nis \\nstill\\nal\\ndente;\\ndo\\nnot\\novercook! \\nSprinkle\\n1\\n1/2\\nteaspoons\\nCajun\\nspice \\n(or\\nmore)\\nover\\nthe\\nchicken\\ncubes. \\nToss\\naround\\nto\\ncoat.\\nHeat\\n1 \\ntablespoon\\nbutter\\nand\\n1\\ntablespoon\\noil \\nin\\na\\nheavy\\nskillet\\nover\\nhigh\\nheat.\\nAdd \\nhalf\\nthe\\nchicken\\nin\\na\\nsingle\\nlayer;\\ndo \\nnot\\nstir.\\nAllow\\nthe\\nchicken\\nto\\nbrown \\non\\none\\nside,\\nabout\\n1\\nminute.\\nFlip\\nto \\nthe\\nother\\nside\\nand\\ncook\\nan\\nadditional\\n#### End of Context ####\\n\\nQuestion: Looking for an Italian chicken parmesan recipe - I have a Gluten allergy.\\n<|eot_id|><|start_header_id|>assistant<|end_header_id|>\\n\", \"parameters\": {\"max_new_tokens\": 1000, \"top_p\": 0.9, \"temperature\": 0.6, \"stop\": [\"<|eot_id|>\"]}}\n",
      "{'generated_text': \"I'm happy to help! Since you have a gluten allergy, I'll make sure to provide a recipe that avoids gluten-containing ingredients. Here's a recipe for Italian Chicken Parmesan that's gluten-free:\\n\\n**Title:** Gluten-Free Italian Chicken Parmesan\\n\\n**Ingredients:**\\n\\n* 4 boneless, skinless chicken breasts\\n* 1 cup gluten-free breadcrumbs (made from rice, corn, or potato)\\n* 1/2 cup grated Parmesan cheese (make sure it's gluten-free)\\n* 1 egg\\n* 1 cup marinara sauce (make sure it's gluten-free)\\n* 1 cup shredded mozzarella cheese\\n* 2 tablespoons olive oil\\n* Salt and pepper to taste\\n* Fresh basil leaves for garnish\\n\\n**Instructions:**\\n\\n1. Preheat the oven to 400°F (200°C).\\n2. In a shallow dish, mix together the gluten-free breadcrumbs and Parmesan cheese.\\n3. In a separate dish, beat the egg.\\n4. Dip each chicken breast in the egg and then coat in the breadcrumb mixture, pressing gently to adhere.\\n5. Heat the olive oil in a large skillet over medium-high heat. Add the breaded chicken breasts and cook for 3-4 minutes on each side, or until golden brown and cooked through.\\n6. Transfer the chicken to a baking dish and spoon marinara sauce over each breast.\\n7. Sprinkle the shredded mozzarella cheese over the top of each breast.\\n8. Bake in the preheated oven for 15-20 minutes, or until the cheese is melted and bubbly.\\n9. Garnish with fresh basil leaves and serve hot.\\n\\nThis recipe avoids gluten-containing ingredients like wheat, barley, and rye, making it safe for those with gluten allergies. Enjoy!\"}\n",
      "Generated recipe: Looking for an Italian chicken parmesan recipe - I have a Gluten allergy.\n",
      "{\"inputs\": \"<|begin_of_text|><|start_header_id|>system<|end_header_id|>\\nYou are a helpful assistant that generates recipes in a well-structured format.\\nPlease generate a recipe.\\nEnsure that ingredients are listed only once and avoid repeating any entries.\\nThe recipe should include the following sections:\\n1. **Title** of the recipe\\n2. **Ingredients List** with measurements (avoid repeats)\\n3. **Instructions** in numbered steps for preparation\\n\\nReturn the result in the following format:\\n\\n**Title:**\\nRecipe title here\\n\\n**Ingredients:**\\n- Ingredient 1\\n- Ingredient 2\\n- Ingredient 3\\n\\n**Instructions:**\\n1. Step 1\\n2. Step 2\\n3. Step 3\\n\\nMake sure the formatting follows the above structure exactly.\\n\\n<|eot_id|><|start_header_id|>user<|end_header_id|>\\nUse the following pieces of context to provide a concise answer to the question at the end. If you don't know the answer, just say that you don't know, don't try to make up an answer.\\nIt is very important that you provide a recipe that avoids any allergens mentioned in the question. Lives depend on it.\\n#### Context ####\\nhalf\\nof\\nthe\\ngreen \\nonions,\\ntop\\nwith\\nthe\\nremainder,\\nand \\nserve\\nimmediately.\\nPeanut\\nButter\\nExplosion\\n1\\n(10-inch)\\nbrownie\\nround,\\nCream \\nCheese\\nPeanut\\nButter\\nMousse,\\nrecipe \\nfollows,\\n2\\nlayers\\nchocolate\\ncake, \\nMelted\\nfudge,\\nBrownie\\nchunks, \\nPeanut\\nbutter\\nchips,\\n6\\n(8\\nounce)\\nbars \\ncream\\ncheese,\\nsoftened,\\n1\\n(12\\nounce) \\npackage\\npeanut\\nbutter\\ncups,\\ncrushed, \\n1\\n(8\\nounce)\\njar\\ncreamy\\npeanut\\nbutter\\nAssembly:\\nBegin\\nwith\\na\\nlayer\\nof \\nbrownie,\\nalternate\\nlayers\\nof\\ncream \\ncheese\\npeanut\\nbutter\\nmousse\\nand \\nchocolate\\ncake,\\nending\\nwith\\ncake. \\nPour\\nmelted\\nfudge\\nover\\nthe\\ncake;\\ntop \\nwith\\nchunks\\nof\\nbrownie\\npieces.\\nPour \\nmore\\nmelted\\nfudge\\nover\\nthe\\nbrownie \\npieces.\\nFinish\\nwith\\na\\nsplash\\nof\\npeanut \\nbutter\\nchips\\non\\ntop. \\nThoroughly\\ncombine\\ningredients.\\nSmoked\\nSalmon\\nTartine\\n4\\nslices\\nwhite\\nbread,\\ncrusts\\nremoved, \\n2\\ntablespoons/20\\ng\\nbutter,\\n2\\nounces/75 \\ng\\nsmoked\\nsalmon,\\nthinly\\nsliced, \\nLemon,\\nthinly\\nsliced,\\nfor\\ngarnish\\nCut\\nthe\\nslices\\nof\\nbread\\ninto\\ntriangular \\nshapes,\\nor\\nuse\\na\\nChristmas\\nornament \\nmold\\nand\\ncut\\nout\\nthe\\nshape.\\nAdd \\nbutter\\nto\\nthe\\n\\nheat\\nand\\ncook,\\nstirring\\noccasionally, \\nuntil\\nthe\\nsugar\\ndissolves\\nand\\nthe \\ncream\\ncomes\\nto\\na\\nbare\\nsimmer. \\nMeanwhile,\\nwhisk\\ntogether\\nthe\\negg \\nyolks,\\n2\\ntablespoons\\nof\\nthe\\nremaining \\ngranulated\\nsugar\\nand\\n2\\ntablespoons\\nof \\nthe\\nremaining\\nlight\\nbrown\\nsugar\\nin\\na \\nmedium\\nbowl. \\nSlowly\\nwhisk\\nthe\\nhot\\ncream\\ninto\\nthe \\negg\\nyolk\\nmixture.\\nStrain\\nthe\\ncustard \\ninto\\na\\npitcher\\nor\\nlarge\\nmeasuring\\ncup. \\nDivide\\nthe\\ncustard\\nevenly\\namong\\nthe \\nramekins.\\nPlace\\nthe\\nbaking\\nsheet\\nin \\nthe\\noven,\\nthen\\ncarefully\\nadd\\nenough \\nhot\\nwater\\nto\\ncome\\nhalfway\\nup\\nthe \\nsides\\nof\\nthe\\nramekins.\\nBake\\nuntil\\nthe \\ncustards\\nare\\njust\\nset\\nat\\nthe\\nsides\\nand \\nstill\\nwobbly\\nin\\nthe\\ncenter,\\nabout\\n30 \\nminutes.\\nRemove\\nthe\\nramekins\\nfrom \\nthe\\nwater\\nand\\nlet\\ncool\\ncompletely\\non\\na \\nwire\\nrack,\\nabout\\n30\\nminutes.\\nLeave \\nthe\\noven\\non. \\nFor\\nthe\\ngarnish:\\nWhile\\nthe\\ncustards \\ncool,\\nspread\\nthe\\npecans\\non\\na\\nbaking \\nsheet\\nand\\nbake\\nuntil\\nthey\\nare\\nbrown \\nand\\ntoasty-smelling,\\nabout\\n10 \\nminutes.\\nWhip\\nthe\\ncream\\nin\\na\\nmedium \\nbowl\\nuntil\\nsoft\\npeaks\\nform. \\nTo\\nassemble:\\nSprinkle\\nthe\\nremaining \\n3/4\\ncup\\n\\nand\\ncut\\nalong\\nthe \\nbreastbone. \\nPull\\nback\\none\\nof\\nthe\\nbreasts\\nand\\ncut\\nit \\noff\\nthe\\nbackbone.\\nRepeat\\non\\nthe\\nother \\nside. \\nPhotograph\\nby\\nDavid\\nMalosh\\nChocolate\\nTurnovers\\n1\\n(17\\n1/4-ounce)\\npackage\\npuff\\npastry \\nsheets,\\n4\\n1/2\\nounces\\nsemi-\\nor \\nbittersweet\\nchocolate,\\nbroken\\ninto \\n1/4-ounce\\npieces,\\n1\\negg,\\nbeaten, \\nConfectioners'\\nsugar,\\nfor\\ndusting \\n(optional)\\nAdjust\\noven\\nracks\\nto\\nthe\\nupper\\nand \\nlower\\nmiddle\\npositions\\nand\\nheat\\nthe \\noven\\nto\\n425\\ndegrees. \\nWorking\\nwith\\none\\nsheet\\nat\\na\\ntime\\non\\na \\nlightly\\nfloured\\nwork\\nsurface,\\ntrim\\nthe \\npuff\\npastry\\nsheets\\nto\\n9-\\nby\\n9-inch \\nsquares,\\nthen\\ncut\\neach\\nsheet\\ninto\\nnine \\n3-inch\\nsquares. \\nWorking\\nwith\\none\\nsquare\\nof\\ndough\\nat \\na\\ntime,\\nplace\\na\\nportion\\nof\\nchocolate \\nonto\\nthe\\nlower\\ncorner,\\nbrush\\ntwo \\nedges\\nof\\nthe\\ndough\\nwith\\nbeaten\\negg, \\nand\\nfold\\nthe\\ndough\\nin\\nhalf\\ndiagonally \\nto\\nform\\na\\nturnover.\\nPlace\\neach \\nturnover\\non\\na\\nparchment-lined\\ncookie \\nsheet,\\nspacing\\nthem\\nabout\\n2\\ninches \\napart\\n(about\\n9\\nper\\nsheet).\\nBrush\\nthe \\ndough\\ntops\\nwith\\negg\\nwash. \\nBake\\nuntil\\ngolden\\nbrown,\\nswitching \\nand\\nrotating\\n#### End of Context ####\\n\\nQuestion: Can you suggest a brownie for dessert without any milk or eggs?\\n<|eot_id|><|start_header_id|>assistant<|end_header_id|>\\n\", \"parameters\": {\"max_new_tokens\": 1000, \"top_p\": 0.9, \"temperature\": 0.6, \"stop\": [\"<|eot_id|>\"]}}\n",
      "{'generated_text': \"I'm happy to help!\\n\\nAfter reviewing the context, I noticed that the original recipe contains peanut butter, cream cheese, and eggs, which are not suitable for a milk-free and egg-free brownie. However, I can suggest a recipe that avoids these allergens.\\n\\nHere's a recipe for a delicious and egg-free brownie that uses alternative ingredients:\\n\\n**Title:** Fudgy Brownie\\n\\n**Ingredients:**\\n\\n* 1 cup (200g) unsweetened cocoa powder\\n* 1/2 cup (100g) granulated sugar\\n* 1/4 cup (60g) all-purpose flour\\n* 1/2 cup (120g) unsalted butter, melted\\n* 1 teaspoon vanilla extract\\n* 1/4 teaspoon salt\\n* 1 cup (120g) chopped walnuts (optional)\\n\\n**Instructions:**\\n\\n1. Preheat the oven to 350°F (180°C). Grease an 8-inch (20cm) square baking pan with non-stick cooking spray.\\n2. In a medium bowl, whisk together the cocoa powder, sugar, flour, and salt.\\n3. In a separate bowl, whisk together the melted butter, vanilla extract, and chopped walnuts (if using).\\n4. Add the wet ingredients to the dry ingredients and stir until well combined.\\n5. Pour the batter into the prepared baking pan and smooth the top.\\n6. Bake for 25-30 minutes or until a toothpick inserted into the center comes out with a few moist crumbs.\\n7. Let the brownie cool completely in the pan before cutting into squares and serving.\\n\\nPlease note that this recipe uses unsweetened cocoa powder, which may have a slightly different flavor profile compared to the original recipe. You can adjust the amount of sugar to your taste. Additionally, if you're looking for a peanut butter-free option, you can omit the peanut butter chips from the original recipe.\"}\n",
      "Generated recipe: Can you suggest a brownie for dessert without any milk or eggs?\n",
      "{\"inputs\": \"<|begin_of_text|><|start_header_id|>system<|end_header_id|>\\nYou are a helpful assistant that generates recipes in a well-structured format.\\nPlease generate a recipe.\\nEnsure that ingredients are listed only once and avoid repeating any entries.\\nThe recipe should include the following sections:\\n1. **Title** of the recipe\\n2. **Ingredients List** with measurements (avoid repeats)\\n3. **Instructions** in numbered steps for preparation\\n\\nReturn the result in the following format:\\n\\n**Title:**\\nRecipe title here\\n\\n**Ingredients:**\\n- Ingredient 1\\n- Ingredient 2\\n- Ingredient 3\\n\\n**Instructions:**\\n1. Step 1\\n2. Step 2\\n3. Step 3\\n\\nMake sure the formatting follows the above structure exactly.\\n\\n<|eot_id|><|start_header_id|>user<|end_header_id|>\\nUse the following pieces of context to provide a concise answer to the question at the end. If you don't know the answer, just say that you don't know, don't try to make up an answer.\\nIt is very important that you provide a recipe that avoids any allergens mentioned in the question. Lives depend on it.\\n#### Context ####\\nthe\\nparsley\\nand \\npaprika\\nto\\nbe\\nused\\nfor\\ngarnish.\\nBlend \\non\\nlow\\nspeed\\nuntil\\nsmooth.\\nYou'll \\nhave\\nto\\nstop\\nthe\\nblender\\noften\\nto\\npush \\ndown\\nthe\\ningredients.\\nIf\\nthe\\nmixture\\nis \\ntoo\\ndry\\nand\\nyou're\\nhaving\\ntrouble \\nblending\\nit,\\nadd\\na\\nfew\\nmore \\ntablespoons\\nof\\nolive\\noil\\nto\\nhelp\\nthings \\nalong. \\nScrape\\nthe\\nhummus\\nonto\\na\\nplate. \\nSprinkle\\nthe\\npaprika\\nover\\nthe\\ntop, \\ndrizzle\\nlightly\\nwith\\nolive\\noil,\\nscatter \\nsome\\nparsley\\non\\ntop,\\nand\\nserve.\\nYou \\ncan\\nmake\\nthe\\nhummus\\nup\\nto\\na\\ncouple \\nof\\nhours\\nbefore\\nyou\\nserve\\nit.\\nCover\\nthe \\ntop\\nwith\\nplastic\\nwrap\\nand\\nleave\\nit\\nat \\nroom\\ntemperature. \\nPer\\nTablespoon:\\nCalories:\\n57;\\nTotal \\nFat:\\n4\\ngrams;\\nSaturated\\nFat:\\n0.5 \\ngrams;\\nProtein:\\n1\\ngram;\\nTotal \\ncarbohydrates:\\n5\\ngrams;\\nSugar:\\n0 \\ngrams;\\nFiber:\\n1\\ngram;\\nCholesterol:\\n0 \\nmilligrams;\\nSodium:\\n96\\nmilligrams\\nCran-Raspberry\\nSnowball\\nPunch\\n1\\n(32\\noz.)\\nbottle\\nKnudsen\\u00ae\\nCranberry \\nNectar,\\nchilled,\\n1\\n(12\\noz.)\\njar \\nSmucker's\\u00ae\\nSeedless\\nRed\\nRaspberry \\nJam,\\n1\\n1/2\\n(2\\nliter)\\nbottles\\nlemon-lime\\nCOMBINE\\ncranberry\\nnectar,\\nred \\nraspberry\\njam\\nand\\nlemon-lime\\nsoda\\nin \\na\\n\\nand\\ncook\\nand\\nstir\\nfor\\n1\\nminute. \\nStir\\nthe\\nsoup,\\npeach\\njuice,\\nsoy\\nsauce \\nand\\nhoney\\nin\\nthe\\nskillet\\nand\\nheat\\nto\\na \\nboil.\\nCook\\nfor\\n5\\nminutes\\nor\\nuntil\\nthe \\nsoup\\nmixture\\nis\\nslightly\\nreduced. \\nReturn\\nthe\\npork\\nto\\nthe\\nskillet.\\nStir\\nin \\nthe\\npeaches.\\nReduce\\nthe\\nheat\\nto\\nlow. \\nCook\\nuntil\\nthe\\npork\\nis\\ncooked \\nthrough.\\nStir\\nin\\nthe\\npecans.\\nServe\\nthe \\npork\\nand\\nsauce\\nwith\\nthe\\nrice.\\nSprinkle \\nwith\\nadditional\\nsliced\\ngreen\\nonion,\\nif \\ndesired.\\nHummus\\nDip\\n2\\n(15-ounce)\\ncans\\nchickpeas,\\ndrained \\nand\\nrinsed,\\n1/2\\ncup\\nextra-virgin\\nolive \\noil,\\nor\\nmore\\nas\\nneeded,\\nplus\\nmore\\nfor \\ngarnish,\\n1/2\\nlemon,\\njuiced,\\n2 \\ntablespoons\\nroughly\\nchopped\\nfresh \\nparsley\\nleaves,\\nplus\\nmore\\nfor\\ngarnish, \\n2\\ncloves\\ngarlic,\\npeeled,\\n1\\n1/2\\nteaspoon \\nsalt,\\n1/2\\nteaspoon\\ndark\\nAsian\\nsesame \\noil,\\n1/2\\nto\\n1\\nteaspoon\\nground\\ncumin, \\n12\\nto\\n15\\ngrinds\\nblack\\npepper,\\n1/4\\ncup \\nwater,\\nPaprika,\\nfor\\ngarnish\\nWatch\\nhow\\nto\\nmake\\nthis\\nrecipe. \\nIn\\na\\nblender\\ncombine\\nall\\nthe \\ningredients\\nexcept\\nthe\\nparsley\\nand \\npaprika\\nto\\nbe\\nused\\nfor\\ngarnish.\\nBlend \\non\\nlow\\nspeed\\nuntil\\nsmooth.\\nYou'll \\nhave\\nto\\n\\nadd\\nfreshly\\nground \\nblack\\npepper,\\ncayenne\\npepper,\\nand/or \\nsalt\\nto\\ntaste.\\nThe\\nsauce\\nshould\\nbe \\nspicy! \\nFinally,\\nadd\\nthe\\nchicken\\nand \\nvegetables\\nto\\nthe\\nsauce,\\nmaking\\nsure \\nto\\ninclude\\nall\\nthe\\njuices\\nthat\\nhave \\ndrained\\nonto\\nthe\\nplate.\\nStir\\nand\\ncook \\nuntil\\nthe\\nmixture\\nis\\nbubbly\\nand\\nhot,\\n1 \\nto\\n2\\nminutes.\\nAdd\\nthe\\ndrained \\nfettuccine\\nand\\ntoss\\nto\\ncombine. \\nTop\\nwith\\nchopped\\nfresh\\nparsley\\nand \\nchow\\ndown!\\nGarlic\\nand\\nOregano\\nMarinated \\nChicken\\nwith\\nRoasted\\nPepper\\nand \\nBlack\\nOlive\\nRelish\\nwith \\nSaffron-Tomato\\nRice\\n2\\ntablespoons\\nsherry\\nvinegar,\\n2 \\ntablespoons\\nfresh\\nlemon\\njuice,\\n2 \\ntablespoons\\nfresh\\nlime\\njuice,\\n2 \\ntablespoons\\nhoney,\\n1\\ntablespoon \\nancho\\nchili\\npowder,\\n10\\ncloves\\ngarlic, \\ncoarsely\\nchopped,\\n1/4\\ncup\\nfresh \\noregano\\nleaves,\\n2\\ncups\\npure\\nolive\\noil, \\nSalt\\nand\\npepper,\\n4\\nchickens,\\n2\\n1/2 \\npounds\\neach,\\nquartered,\\nRoasted \\nPepper\\nand\\nBlack\\nOlive\\nRelish,\\nrecipe \\nfollows,\\nSaffron-Tomato\\nRice,\\nrecipe \\nfollows,\\n2\\nroasted\\nred\\nbell\\npeppers, \\npeeled,\\nseeded\\nand\\ndiced,\\n2\\nroasted \\nyellow\\nbell\\npeppers,\\npeeled,\\nseeded \\nand\\ndiced,\\n1\\n#### End of Context ####\\n\\nQuestion: I need a vegan lentil taco recipe that doesn't contain any soy or its derivatives.\\n<|eot_id|><|start_header_id|>assistant<|end_header_id|>\\n\", \"parameters\": {\"max_new_tokens\": 1000, \"top_p\": 0.9, \"temperature\": 0.6, \"stop\": [\"<|eot_id|>\"]}}\n",
      "{'generated_text': \"I'm happy to help you with that!\\n\\nHere's a vegan lentil taco recipe that doesn't contain soy or its derivatives:\\n\\n**Title:** Vegan Lentil Tacos\\n\\n**Ingredients:**\\n\\n* 1 cup brown or green lentils, rinsed and drained\\n* 2 cups water\\n* 1 onion, diced\\n* 2 cloves garlic, minced\\n* 1 red bell pepper, diced\\n* 1 can (14.5 oz) diced tomatoes\\n* 1 teaspoon cumin\\n* 1 teaspoon chili powder\\n* 1/2 teaspoon paprika\\n* Salt and pepper, to taste\\n* 2 tablespoons olive oil\\n* 4 corn tortillas\\n* Chopped fresh cilantro, for garnish\\n* Lime wedges, for serving\\n\\n**Instructions:**\\n\\n1. In a medium saucepan, combine the lentils and water. Bring to a boil, then reduce the heat to a simmer and cook until the lentils are tender, about 20-25 minutes.\\n2. In a large skillet, heat the olive oil over medium-high heat. Add the onion, garlic, and red bell pepper. Cook until the vegetables are tender, about 5-7 minutes.\\n3. Add the cooked lentils, diced tomatoes, cumin, chili powder, and paprika to the skillet. Season with salt and pepper to taste. Cook for an additional 2-3 minutes.\\n4. Warm the corn tortillas by wrapping them in a damp paper towel and microwaving for 20-30 seconds.\\n5. Assemble the tacos by spooning the lentil mixture onto a tortilla and topping with chopped cilantro and a squeeze of lime juice. Serve immediately.\\n\\nThis recipe is free from soy and its derivatives, and it's also vegan-friendly. I hope you enjoy it!\"}\n",
      "Generated recipe: I need a vegan lentil taco recipe that doesn't contain any soy or its derivatives.\n",
      "{\"inputs\": \"<|begin_of_text|><|start_header_id|>system<|end_header_id|>\\nYou are a helpful assistant that generates recipes in a well-structured format.\\nPlease generate a recipe.\\nEnsure that ingredients are listed only once and avoid repeating any entries.\\nThe recipe should include the following sections:\\n1. **Title** of the recipe\\n2. **Ingredients List** with measurements (avoid repeats)\\n3. **Instructions** in numbered steps for preparation\\n\\nReturn the result in the following format:\\n\\n**Title:**\\nRecipe title here\\n\\n**Ingredients:**\\n- Ingredient 1\\n- Ingredient 2\\n- Ingredient 3\\n\\n**Instructions:**\\n1. Step 1\\n2. Step 2\\n3. Step 3\\n\\nMake sure the formatting follows the above structure exactly.\\n\\n<|eot_id|><|start_header_id|>user<|end_header_id|>\\nUse the following pieces of context to provide a concise answer to the question at the end. If you don't know the answer, just say that you don't know, don't try to make up an answer.\\nIt is very important that you provide a recipe that avoids any allergens mentioned in the question. Lives depend on it.\\n#### Context ####\\nmedium-high\\nheat.\\nAdd\\nthe\\npotato, \\nonion,\\npepper,\\ncelery,\\nand\\ngarlic\\nand \\ncook\\nuntil\\nsoftened,\\nabout\\n6\\nminutes. \\nAdd\\nthe\\ncumin,\\nsalt,\\nand\\npepper.\\nMix \\nwell\\nto\\nensure\\nthat\\nall\\nthe\\nvegetables \\nare\\nseasoned.\\nOnce\\nthe\\npotatoes\\nstart \\nto\\nbrown,\\nadd\\nthe\\nvegetable\\nbroth, \\nbring\\nto\\na\\nboil\\nthen\\nreduce\\nheat\\nto \\nsimmer.\\nOnce\\nthe\\nliquid\\nbegins\\nto \\nreduce\\nadd\\nthe\\nshrimp\\nand\\ncover \\nskillet.\\nRemove\\nthe\\ncover\\nonce\\nall\\nthe \\nliquid\\nhas\\nbeen\\nabsorbed,\\nabout\\n25 \\nminutes.\\nRemove\\nfrom\\nthe\\nheat\\nand \\nallow\\nto\\ncool\\nto\\nroom\\ntemperature. \\nFor\\nthe\\ndough:\\nIn\\na\\nlarge\\nmixing \\nbowl,\\ncombine\\nthe\\nflour,\\nbaking \\npowder,\\ncurry\\npowder,\\nand\\n1/2 \\nteaspoon\\nsalt.\\nSlowly\\nadd\\nthe\\nwater \\nuntil\\nthe\\ndough\\nis\\nwell\\nformed\\nand \\nsoft\\nbut\\nnot\\nsticky\\n(you\\nmay\\nnot\\nuse \\nall\\nthe\\nwater).\\nKnead\\nfor\\n2\\nminutes\\non \\na\\nlightly\\nfloured\\nsurface\\nand\\nthen \\nplace\\nin\\na\\nlarge\\nbowl\\nto\\nrest\\nfor\\nat \\nleast\\n15\\nminutes.\\nCover\\nthe\\nbowl\\nwith \\na\\nmoist\\ncloth\\nor\\nflip\\nthe\\nbowl\\nover\\non \\na\\nclean\\nprep\\nsurface\\nand\\nlet\\nsit\\nuntil \\nready\\nto\\nuse. \\nHeat\\nthe\\noil\\nin\\na\\npot\\nto\\n360\\ndegrees\\nF. \\nDivide\\n\\ncelery,\\n1\\nclove \\ngarlic,\\nminced,\\n1\\nteaspoon\\nground \\ncumin,\\nKosher\\nsalt\\nand\\nfreshly\\nground \\npepper,\\n1\\n1/2\\ncups\\nvegetable\\nbroth, \\n1/2\\npound\\npeeled\\nand\\ndeveined\\njumbo \\nshrimp\\n(11\\nto\\n15\\ncount),\\nchopped,\\n2 \\ncups\\nall-purpose\\nflour,\\n2\\nteaspoons \\nbaking\\npowder,\\n1\\nteaspoon\\nMadras \\ncurry\\npowder,\\nKosher\\nsalt,\\n3/4\\ncups \\nwater,\\n4\\ncups\\nof\\ncanola\\noil,\\nfor\\nfrying\\nFor\\nthe\\nchutney:\\nPlace\\nthe\\nmangoes, \\napple,\\nbrown\\nsugar,\\nginger,\\nand\\nhot \\npepper\\nin\\na\\nfood\\nprocessor\\nand\\npulse \\nuntil\\nthe\\nmixture\\nis\\nchunky\\nand\\nwell \\ncombined.\\nTransfer\\nto\\na\\nmedium \\nsaucepot\\nand\\nbring\\nto\\na\\nsimmer\\nover \\nmedium-high\\nheat.\\nAdd\\nthe\\nvinegar, \\nseason\\nto\\ntaste\\nwith\\nsalt\\nand\\npepper, \\nand\\ncontinue\\nto\\nsimmer\\nuntil\\nthe\\nfruit \\nis\\ntender\\nand\\nthe\\nvinegar\\nhas \\nmellowed\\nslightly,\\nstirring \\noccasionally\\nto\\nprevent\\nsticking. \\nRemove\\nfrom\\nthe\\nheat\\nand\\nset\\naside. \\nServe\\nwarm\\nor\\nat\\nroom\\ntemperature. \\nFor\\nthe\\npie\\nfilling:\\nIn\\na\\nlarge\\nskillet, \\nheat\\nthe\\nvegetable\\noil\\nover \\nmedium-high\\nheat.\\nAdd\\nthe\\npotato, \\nonion,\\npepper,\\ncelery,\\nand\\ngarlic\\nand \\ncook\\nuntil\\nsoftened,\\nabout\\n\\nand\\ncook\\nand\\nstir\\nfor\\n1\\nminute. \\nStir\\nthe\\nsoup,\\npeach\\njuice,\\nsoy\\nsauce \\nand\\nhoney\\nin\\nthe\\nskillet\\nand\\nheat\\nto\\na \\nboil.\\nCook\\nfor\\n5\\nminutes\\nor\\nuntil\\nthe \\nsoup\\nmixture\\nis\\nslightly\\nreduced. \\nReturn\\nthe\\npork\\nto\\nthe\\nskillet.\\nStir\\nin \\nthe\\npeaches.\\nReduce\\nthe\\nheat\\nto\\nlow. \\nCook\\nuntil\\nthe\\npork\\nis\\ncooked \\nthrough.\\nStir\\nin\\nthe\\npecans.\\nServe\\nthe \\npork\\nand\\nsauce\\nwith\\nthe\\nrice.\\nSprinkle \\nwith\\nadditional\\nsliced\\ngreen\\nonion,\\nif \\ndesired.\\nHummus\\nDip\\n2\\n(15-ounce)\\ncans\\nchickpeas,\\ndrained \\nand\\nrinsed,\\n1/2\\ncup\\nextra-virgin\\nolive \\noil,\\nor\\nmore\\nas\\nneeded,\\nplus\\nmore\\nfor \\ngarnish,\\n1/2\\nlemon,\\njuiced,\\n2 \\ntablespoons\\nroughly\\nchopped\\nfresh \\nparsley\\nleaves,\\nplus\\nmore\\nfor\\ngarnish, \\n2\\ncloves\\ngarlic,\\npeeled,\\n1\\n1/2\\nteaspoon \\nsalt,\\n1/2\\nteaspoon\\ndark\\nAsian\\nsesame \\noil,\\n1/2\\nto\\n1\\nteaspoon\\nground\\ncumin, \\n12\\nto\\n15\\ngrinds\\nblack\\npepper,\\n1/4\\ncup \\nwater,\\nPaprika,\\nfor\\ngarnish\\nWatch\\nhow\\nto\\nmake\\nthis\\nrecipe. \\nIn\\na\\nblender\\ncombine\\nall\\nthe \\ningredients\\nexcept\\nthe\\nparsley\\nand \\npaprika\\nto\\nbe\\nused\\nfor\\ngarnish.\\nBlend \\non\\nlow\\nspeed\\nuntil\\nsmooth.\\nYou'll \\nhave\\nto\\n#### End of Context ####\\n\\nQuestion: Japanese dumpling recipe with no fish or crustacean allergens?\\n<|eot_id|><|start_header_id|>assistant<|end_header_id|>\\n\", \"parameters\": {\"max_new_tokens\": 1000, \"top_p\": 0.9, \"temperature\": 0.6, \"stop\": [\"<|eot_id|>\"]}}\n",
      "{'generated_text': \"I'm happy to help!\\n\\nAfter reviewing the context, I've identified the ingredients and instructions to create a Japanese-inspired dumpling recipe that avoids fish and crustacean allergens. Here's the recipe:\\n\\n**Title:** Japanese-Style Vegetable Dumplings (No Fish or Crustacean Allergens)\\n\\n**Ingredients:**\\n\\n- 2 cups all-purpose flour\\n- 2 teaspoons baking powder\\n- 1 teaspoon Madras curry powder\\n- Kosher salt\\n- 3/4 cups water\\n- Vegetable oil for frying\\n- For the filling:\\n  - 1 medium onion, finely chopped\\n  - 2 cloves garlic, minced\\n  - 1 medium potato, peeled and grated\\n  - 1 medium carrot, peeled and grated\\n  - 1/2 cup chopped fresh cilantro\\n  - 1/2 teaspoon ground cumin\\n  - Salt and pepper to taste\\n\\n**Instructions:**\\n\\n1. In a large mixing bowl, combine the flour, baking powder, curry powder, and salt. Gradually add the water and mix until a dough forms. Knead the dough for 2 minutes on a lightly floured surface and let it rest for at least 15 minutes.\\n2. Divide the dough into small balls, about the size of a small egg.\\n3. In a pan, heat some vegetable oil over medium-high heat. Add the onion, garlic, potato, and carrot, and cook until the vegetables are softened, about 6 minutes.\\n4. Add the cilantro, cumin, salt, and pepper to the pan and stir well.\\n5. Place a spoonful of the filling in the center of each dough ball. Fold the dough over the filling, forming a half-moon shape, and press the edges together to seal the dumpling.\\n6. Fry the dumplings in hot oil until they are golden brown, about 2-3 minutes on each side. Drain on paper towels.\\n7. Serve the dumplings warm with your favorite dipping sauce.\\n\\nPlease note that this recipe does not include any fish or crustacean products, making it suitable for individuals with these allergies. However, if you have any other food allergies or concerns, please consult with a healthcare professional or registered dietitian for personalized guidance.\"}\n",
      "Generated recipe: Japanese dumpling recipe with no fish or crustacean allergens?\n"
     ]
    },
    {
     "data": {
      "text/plain": [
       "[\"I'm happy to help!\\n\\nConsidering your nut and tree nut allergy, I've created a recipe that avoids any allergens mentioned. Here's a Thai-inspired curry recipe that uses sunflower seeds instead of peanuts:\\n\\n**Thai-Style Sunflower Seed Curry**\\n\\n**Ingredients:**\\n\\n* 2 tablespoons sunflower oil\\n* 1 onion, diced\\n* 2 cloves garlic, minced\\n* 1 tablespoon grated fresh ginger\\n* 1 tablespoon Thai red curry paste\\n* 2 cups mixed vegetables (bell peppers, carrots, potatoes, and your choice of other vegetables)\\n* 1 can (14 oz) coconut milk\\n* 1 cup vegetable broth\\n* 1 teaspoon ground cumin\\n* 1 teaspoon ground coriander\\n* Salt and pepper, to taste\\n* Fresh cilantro leaves, for garnish\\n* Sunflower seeds, for garnish (optional)\\n\\n**Instructions:**\\n\\n1. Heat the sunflower oil in a large pan over medium heat. Add the onion and cook until softened, about 3-4 minutes.\\n2. Add the garlic and ginger and cook for another minute, until fragrant.\\n3. Add the Thai red curry paste and cook for 1-2 minutes, stirring constantly, until fragrant.\\n4. Add the mixed vegetables and cook until they start to soften, about 3-4 minutes.\\n5. Pour in the coconut milk and vegetable broth, and stir to combine. Bring the mixture to a simmer.\\n6. Reduce the heat to low and let the curry simmer for 10-15 minutes, or until the vegetables are tender.\\n7. Season the curry with cumin, coriander, salt, and pepper to taste.\\n8. Garnish with fresh cilantro leaves and sunflower seeds, if desired.\\n9. Serve the curry over rice or with naan bread.\\n\\nThis recipe avoids any nuts or tree nuts, making it safe for your allergy. Enjoy!\",\n",
       " \"I'm happy to help! Since you have a gluten allergy, I'll make sure to provide a recipe that avoids gluten-containing ingredients. Here's a recipe for Italian Chicken Parmesan that's gluten-free:\\n\\n**Title:** Gluten-Free Italian Chicken Parmesan\\n\\n**Ingredients:**\\n\\n* 4 boneless, skinless chicken breasts\\n* 1 cup gluten-free breadcrumbs (made from rice, corn, or potato)\\n* 1/2 cup grated Parmesan cheese (make sure it's gluten-free)\\n* 1 egg\\n* 1 cup marinara sauce (make sure it's gluten-free)\\n* 1 cup shredded mozzarella cheese\\n* 2 tablespoons olive oil\\n* Salt and pepper to taste\\n* Fresh basil leaves for garnish\\n\\n**Instructions:**\\n\\n1. Preheat the oven to 400°F (200°C).\\n2. In a shallow dish, mix together the gluten-free breadcrumbs and Parmesan cheese.\\n3. In a separate dish, beat the egg.\\n4. Dip each chicken breast in the egg and then coat in the breadcrumb mixture, pressing gently to adhere.\\n5. Heat the olive oil in a large skillet over medium-high heat. Add the breaded chicken breasts and cook for 3-4 minutes on each side, or until golden brown and cooked through.\\n6. Transfer the chicken to a baking dish and spoon marinara sauce over each breast.\\n7. Sprinkle the shredded mozzarella cheese over the top of each breast.\\n8. Bake in the preheated oven for 15-20 minutes, or until the cheese is melted and bubbly.\\n9. Garnish with fresh basil leaves and serve hot.\\n\\nThis recipe avoids gluten-containing ingredients like wheat, barley, and rye, making it safe for those with gluten allergies. Enjoy!\",\n",
       " \"I'm happy to help!\\n\\nAfter reviewing the context, I noticed that the original recipe contains peanut butter, cream cheese, and eggs, which are not suitable for a milk-free and egg-free brownie. However, I can suggest a recipe that avoids these allergens.\\n\\nHere's a recipe for a delicious and egg-free brownie that uses alternative ingredients:\\n\\n**Title:** Fudgy Brownie\\n\\n**Ingredients:**\\n\\n* 1 cup (200g) unsweetened cocoa powder\\n* 1/2 cup (100g) granulated sugar\\n* 1/4 cup (60g) all-purpose flour\\n* 1/2 cup (120g) unsalted butter, melted\\n* 1 teaspoon vanilla extract\\n* 1/4 teaspoon salt\\n* 1 cup (120g) chopped walnuts (optional)\\n\\n**Instructions:**\\n\\n1. Preheat the oven to 350°F (180°C). Grease an 8-inch (20cm) square baking pan with non-stick cooking spray.\\n2. In a medium bowl, whisk together the cocoa powder, sugar, flour, and salt.\\n3. In a separate bowl, whisk together the melted butter, vanilla extract, and chopped walnuts (if using).\\n4. Add the wet ingredients to the dry ingredients and stir until well combined.\\n5. Pour the batter into the prepared baking pan and smooth the top.\\n6. Bake for 25-30 minutes or until a toothpick inserted into the center comes out with a few moist crumbs.\\n7. Let the brownie cool completely in the pan before cutting into squares and serving.\\n\\nPlease note that this recipe uses unsweetened cocoa powder, which may have a slightly different flavor profile compared to the original recipe. You can adjust the amount of sugar to your taste. Additionally, if you're looking for a peanut butter-free option, you can omit the peanut butter chips from the original recipe.\",\n",
       " \"I'm happy to help you with that!\\n\\nHere's a vegan lentil taco recipe that doesn't contain soy or its derivatives:\\n\\n**Title:** Vegan Lentil Tacos\\n\\n**Ingredients:**\\n\\n* 1 cup brown or green lentils, rinsed and drained\\n* 2 cups water\\n* 1 onion, diced\\n* 2 cloves garlic, minced\\n* 1 red bell pepper, diced\\n* 1 can (14.5 oz) diced tomatoes\\n* 1 teaspoon cumin\\n* 1 teaspoon chili powder\\n* 1/2 teaspoon paprika\\n* Salt and pepper, to taste\\n* 2 tablespoons olive oil\\n* 4 corn tortillas\\n* Chopped fresh cilantro, for garnish\\n* Lime wedges, for serving\\n\\n**Instructions:**\\n\\n1. In a medium saucepan, combine the lentils and water. Bring to a boil, then reduce the heat to a simmer and cook until the lentils are tender, about 20-25 minutes.\\n2. In a large skillet, heat the olive oil over medium-high heat. Add the onion, garlic, and red bell pepper. Cook until the vegetables are tender, about 5-7 minutes.\\n3. Add the cooked lentils, diced tomatoes, cumin, chili powder, and paprika to the skillet. Season with salt and pepper to taste. Cook for an additional 2-3 minutes.\\n4. Warm the corn tortillas by wrapping them in a damp paper towel and microwaving for 20-30 seconds.\\n5. Assemble the tacos by spooning the lentil mixture onto a tortilla and topping with chopped cilantro and a squeeze of lime juice. Serve immediately.\\n\\nThis recipe is free from soy and its derivatives, and it's also vegan-friendly. I hope you enjoy it!\",\n",
       " \"I'm happy to help!\\n\\nAfter reviewing the context, I've identified the ingredients and instructions to create a Japanese-inspired dumpling recipe that avoids fish and crustacean allergens. Here's the recipe:\\n\\n**Title:** Japanese-Style Vegetable Dumplings (No Fish or Crustacean Allergens)\\n\\n**Ingredients:**\\n\\n- 2 cups all-purpose flour\\n- 2 teaspoons baking powder\\n- 1 teaspoon Madras curry powder\\n- Kosher salt\\n- 3/4 cups water\\n- Vegetable oil for frying\\n- For the filling:\\n  - 1 medium onion, finely chopped\\n  - 2 cloves garlic, minced\\n  - 1 medium potato, peeled and grated\\n  - 1 medium carrot, peeled and grated\\n  - 1/2 cup chopped fresh cilantro\\n  - 1/2 teaspoon ground cumin\\n  - Salt and pepper to taste\\n\\n**Instructions:**\\n\\n1. In a large mixing bowl, combine the flour, baking powder, curry powder, and salt. Gradually add the water and mix until a dough forms. Knead the dough for 2 minutes on a lightly floured surface and let it rest for at least 15 minutes.\\n2. Divide the dough into small balls, about the size of a small egg.\\n3. In a pan, heat some vegetable oil over medium-high heat. Add the onion, garlic, potato, and carrot, and cook until the vegetables are softened, about 6 minutes.\\n4. Add the cilantro, cumin, salt, and pepper to the pan and stir well.\\n5. Place a spoonful of the filling in the center of each dough ball. Fold the dough over the filling, forming a half-moon shape, and press the edges together to seal the dumpling.\\n6. Fry the dumplings in hot oil until they are golden brown, about 2-3 minutes on each side. Drain on paper towels.\\n7. Serve the dumplings warm with your favorite dipping sauce.\\n\\nPlease note that this recipe does not include any fish or crustacean products, making it suitable for individuals with these allergies. However, if you have any other food allergies or concerns, please consult with a healthcare professional or registered dietitian for personalized guidance.\"]"
      ]
     },
     "execution_count": 75,
     "metadata": {},
     "output_type": "execute_result"
    }
   ],
   "source": [
    "generate_random_recipes() #dramatic prompt template"
   ]
  },
  {
   "cell_type": "code",
   "execution_count": 76,
   "id": "3c3bbffb-2fb2-4398-9478-c46f9f02cb27",
   "metadata": {},
   "outputs": [],
   "source": [
    "## more description in the prompt about role + drama"
   ]
  },
  {
   "cell_type": "code",
   "execution_count": 77,
   "id": "1e088fb8-b398-4156-9a81-691f036ccad1",
   "metadata": {},
   "outputs": [],
   "source": [
    "from langchain.chains import RetrievalQA\n",
    "\n",
    "prompt_template = \"\"\"<|begin_of_text|><|start_header_id|>system<|end_header_id|>\n",
    "You are a chatbot that generates recipes in a well-structured format for a customer who may have dietary restrictions.\n",
    "Please generate a recipe with careful consideration of any allergens.\n",
    "Ensure that ingredients are listed only once and avoid repeating any entries.\n",
    "The recipe should include the following sections:\n",
    "1. **Title** of the recipe\n",
    "2. **Ingredients List** with measurements (avoid repeats)\n",
    "3. **Instructions** in numbered steps for preparation\n",
    "\n",
    "Return the result in the following format:\n",
    "\n",
    "**Title:**\n",
    "Recipe title here\n",
    "\n",
    "**Ingredients:**\n",
    "- Ingredient 1\n",
    "- Ingredient 2\n",
    "- Ingredient 3\n",
    "\n",
    "**Instructions:**\n",
    "1. Step 1\n",
    "2. Step 2\n",
    "3. Step 3\n",
    "\n",
    "Make sure the formatting follows the above structure exactly.\n",
    "\n",
    "<|eot_id|><|start_header_id|>user<|end_header_id|>\n",
    "Use the following pieces of context to provide a concise answer to the question at the end. If you don't know the answer, just say that you don't know, don't try to make up an answer.\n",
    "It is very important that you provide a recipe that avoids any allergens mentioned in the question. Lives depend on it.\n",
    "#### Context ####\n",
    "{context}\n",
    "#### End of Context ####\n",
    "\n",
    "Question: {question}\n",
    "<|eot_id|><|start_header_id|>assistant<|end_header_id|>\n",
    "\"\"\"\n",
    "\n",
    "PROMPT = PromptTemplate(\n",
    "    template=prompt_template, input_variables=[\"context\", \"question\"]\n",
    ")\n",
    "\n",
    "qa = RetrievalQA.from_chain_type(\n",
    "    llm=llm,\n",
    "    chain_type=\"stuff\",\n",
    "    retriever=vectorstore_faiss.as_retriever(\n",
    "        # how many relevant documents should be retrieved\n",
    "        search_type=\"similarity\", search_kwargs={\"k\": 3}\n",
    "    ),\n",
    "    return_source_documents=True,\n",
    "    chain_type_kwargs={\"prompt\": PROMPT}\n",
    ")"
   ]
  },
  {
   "cell_type": "code",
   "execution_count": 78,
   "id": "db63fe72-26c0-4ab9-a9f5-1242f365ed6f",
   "metadata": {},
   "outputs": [
    {
     "name": "stdout",
     "output_type": "stream",
     "text": [
      "Generating recipes with allergy considerations...\n",
      "{\"inputs\": \"<|begin_of_text|><|start_header_id|>system<|end_header_id|>\\nYou are a chatbot that generates recipes in a well-structured format for a customer who may have dietary restrictions.\\nPlease generate a recipe with careful consideration of any allergens.\\nEnsure that ingredients are listed only once and avoid repeating any entries.\\nThe recipe should include the following sections:\\n1. **Title** of the recipe\\n2. **Ingredients List** with measurements (avoid repeats)\\n3. **Instructions** in numbered steps for preparation\\n\\nReturn the result in the following format:\\n\\n**Title:**\\nRecipe title here\\n\\n**Ingredients:**\\n- Ingredient 1\\n- Ingredient 2\\n- Ingredient 3\\n\\n**Instructions:**\\n1. Step 1\\n2. Step 2\\n3. Step 3\\n\\nMake sure the formatting follows the above structure exactly.\\n\\n<|eot_id|><|start_header_id|>user<|end_header_id|>\\nUse the following pieces of context to provide a concise answer to the question at the end. If you don't know the answer, just say that you don't know, don't try to make up an answer.\\nIt is very important that you provide a recipe that avoids any allergens mentioned in the question. Lives depend on it.\\n#### Context ####\\nturnovers\\nbriefly.\\nSprinkle\\nwith \\nconfectioners'\\nsugar,\\nif\\ndesired,\\nand \\nserve\\nimmediately.\\nMama's\\nCollards\\n2\\nlarge\\nbunches\\ncollards,\\nstemmed, \\nwashed\\nvery\\nwell\\nand\\ntorn\\ninto\\npieces, \\n1\\nto\\n2\\ncups\\nwater,\\n2\\nto\\n3\\nchicken \\nthighs,\\n1/4\\ncup\\ncorn\\noil,\\nSalt\\nand \\npepper\\nto\\ntaste\\nBoil\\nchicken\\nabout\\n20\\nminutes.\\nAdd \\ncollards\\nand\\nseasoning.\\nLower\\nheat, \\ncook\\nabout\\n2\\nhours\\nor\\nuntil\\ngreens\\nare \\ntender.\\nAloo\\nPie\\nwith\\nApple-Mango\\nChutney\\n2\\nfirm\\nripe\\nmangoes,\\npeeled\\nand \\ndiced,\\n1\\nGolden\\nDelicious\\napple, \\npeeled\\nand\\ndiced,\\n1/4\\ncup\\npacked\\nlight \\nbrown\\nsugar,\\n1\\ntablespoon\\nfresh \\npeeled\\nand\\nthinly\\nsliced\\nginger,\\n1/2 \\nteaspoon\\nminced\\nhot\\nchile\\npepper, \\nsuch\\nas\\nserrano,\\n1/4\\ncup\\napple\\ncider \\nvinegar,\\nKosher\\nsalt\\nand\\nfreshly \\nground\\npepper,\\n1/4\\ncup\\nvegetable\\noil, \\n3\\nlarge\\nor\\n4\\nmedium\\nred\\nskin\\npotatoes \\n(about\\n1\\npound),\\npeeled\\nand\\ndiced,\\n1/2 \\nsweet\\nonion,\\nfinely\\nchopped,\\n1/4\\ncup \\nfinely\\nchopped\\ngreen\\nbell\\npepper,\\n1/4 \\ncup\\nfinely\\nchopped\\ncelery,\\n1\\nclove \\ngarlic,\\nminced,\\n1\\nteaspoon\\nground \\ncumin,\\nKosher\\nsalt\\nand\\nfreshly\\nground \\npepper,\\n\\ncelery,\\n1\\nclove \\ngarlic,\\nminced,\\n1\\nteaspoon\\nground \\ncumin,\\nKosher\\nsalt\\nand\\nfreshly\\nground \\npepper,\\n1\\n1/2\\ncups\\nvegetable\\nbroth, \\n1/2\\npound\\npeeled\\nand\\ndeveined\\njumbo \\nshrimp\\n(11\\nto\\n15\\ncount),\\nchopped,\\n2 \\ncups\\nall-purpose\\nflour,\\n2\\nteaspoons \\nbaking\\npowder,\\n1\\nteaspoon\\nMadras \\ncurry\\npowder,\\nKosher\\nsalt,\\n3/4\\ncups \\nwater,\\n4\\ncups\\nof\\ncanola\\noil,\\nfor\\nfrying\\nFor\\nthe\\nchutney:\\nPlace\\nthe\\nmangoes, \\napple,\\nbrown\\nsugar,\\nginger,\\nand\\nhot \\npepper\\nin\\na\\nfood\\nprocessor\\nand\\npulse \\nuntil\\nthe\\nmixture\\nis\\nchunky\\nand\\nwell \\ncombined.\\nTransfer\\nto\\na\\nmedium \\nsaucepot\\nand\\nbring\\nto\\na\\nsimmer\\nover \\nmedium-high\\nheat.\\nAdd\\nthe\\nvinegar, \\nseason\\nto\\ntaste\\nwith\\nsalt\\nand\\npepper, \\nand\\ncontinue\\nto\\nsimmer\\nuntil\\nthe\\nfruit \\nis\\ntender\\nand\\nthe\\nvinegar\\nhas \\nmellowed\\nslightly,\\nstirring \\noccasionally\\nto\\nprevent\\nsticking. \\nRemove\\nfrom\\nthe\\nheat\\nand\\nset\\naside. \\nServe\\nwarm\\nor\\nat\\nroom\\ntemperature. \\nFor\\nthe\\npie\\nfilling:\\nIn\\na\\nlarge\\nskillet, \\nheat\\nthe\\nvegetable\\noil\\nover \\nmedium-high\\nheat.\\nAdd\\nthe\\npotato, \\nonion,\\npepper,\\ncelery,\\nand\\ngarlic\\nand \\ncook\\nuntil\\nsoftened,\\nabout\\n\\nthe\\nmachine,\\nand\\non\\na\\nlightly\\nfloured \\nsurface,\\npress\\ndown\\ninto\\na\\ncircle. \\nWrap\\nin\\nplastic\\nwrap\\nand\\nrefrigerate \\nfor\\nat\\nleast\\n1\\nhour. \\nYield:\\nMakes\\n1\\n1/2\\npounds\\nor\\n2 \\n(9-inch)\\ntart\\nshells\\nSweet\\nPotato\\nHash\\n1/4\\ncup\\nvegetable\\noil,\\n1\\nred\\nonion, \\nthinly\\nsliced\\n(about\\n2\\ncups),\\n1\\nred\\nbell \\npepper,\\ndiced\\n(about\\n2\\ncups),\\n2 \\npounds\\nsweet\\npotatoes,\\nquartered\\nand \\ncut\\ninto\\n1/4-inch\\nslices,\\n1\\nteaspoon \\nground\\ncumin,\\n2\\nteaspoons\\nsalt,\\n1/2 \\nteaspoon\\nred\\npepper\\nflakes,\\n1/2\\ncup \\ngreen\\nonions,\\nchopped\\nPour\\nthe\\noil\\ninto\\na\\nlarge\\nskillet\\nand \\nplace\\nover\\nhigh\\nheat.\\nAdd\\nthe\\nonion \\nand\\nbell\\npepper\\nand\\nsaute,\\nstirring,\\n2 \\nto\\n3\\nminutes.\\nAdd\\nthe\\npotatoes, \\ncumin,\\nsalt\\nand\\nred\\npepper\\nflakes, \\nlower\\nthe\\nheat\\nto\\nmedium-high\\nand \\ncook,\\nstirring\\noccasionally,\\nfor\\n25\\nto \\n30\\nminutes,\\nor\\nuntil\\nthe\\npotatoes\\nare \\nfork\\ntender\\nand\\nsome\\nare\\nbrowned. \\nThe\\npotatoes\\nwill\\nbegin\\nto\\nstick\\nas \\nthey\\ncook.\\nJust\\ncontinue\\nto\\nturn\\nwith\\na \\nspatula.\\nStir\\nin\\nhalf\\nof\\nthe\\ngreen \\nonions,\\ntop\\nwith\\nthe\\nremainder,\\nand \\nserve\\nimmediately.\\nPeanut\\nButter\\nExplosion\\n1\\n#### End of Context ####\\n\\nQuestion: I am allergic to nuts and treenuts. Can you give me a Thai curry recipe that's safe for my allergy?\\n<|eot_id|><|start_header_id|>assistant<|end_header_id|>\\n\", \"parameters\": {\"max_new_tokens\": 1000, \"top_p\": 0.9, \"temperature\": 0.6, \"stop\": [\"<|eot_id|>\"]}}\n",
      "{'generated_text': \"I'm happy to help!\\n\\nConsidering your nut and tree nut allergy, I've created a recipe that avoids any allergens. Here's a Thai-inspired curry recipe that uses sunflower seeds instead of peanuts:\\n\\n**Thai-Style Sunflower Seed Curry**\\n\\n**Ingredients:**\\n\\n* 2 tablespoons sunflower oil\\n* 1 onion, diced\\n* 2 cloves garlic, minced\\n* 1 tablespoon grated fresh ginger\\n* 1 tablespoon Thai red curry paste\\n* 2 cups mixed vegetables (bell peppers, carrots, potatoes, and your choice of other vegetables)\\n* 1 can (14 oz) coconut milk\\n* 1 cup vegetable broth\\n* 1 teaspoon ground cumin\\n* 1 teaspoon ground coriander\\n* Salt and pepper, to taste\\n* Fresh cilantro leaves, for garnish\\n* Sunflower seeds, for garnish (optional)\\n\\n**Instructions:**\\n\\n1. Heat the sunflower oil in a large saucepan over medium heat. Add the onion and cook until softened, about 3-4 minutes.\\n2. Add the garlic and ginger and cook for an additional minute, until fragrant.\\n3. Add the Thai red curry paste and cook for 1-2 minutes, stirring constantly, until fragrant.\\n4. Add the mixed vegetables, coconut milk, vegetable broth, cumin, coriander, salt, and pepper. Stir well to combine.\\n5. Bring the mixture to a simmer and cook for 15-20 minutes, or until the vegetables are tender.\\n6. Taste and adjust the seasoning as needed.\\n7. Garnish with fresh cilantro leaves and sunflower seeds, if desired.\\n8. Serve hot over rice or noodles.\\n\\nThis recipe avoids any nuts or tree nuts, making it safe for your allergy. Enjoy!\"}\n",
      "Generated recipe: I am allergic to nuts and treenuts. Can you give me a Thai curry recipe that's safe for my allergy?\n",
      "{\"inputs\": \"<|begin_of_text|><|start_header_id|>system<|end_header_id|>\\nYou are a chatbot that generates recipes in a well-structured format for a customer who may have dietary restrictions.\\nPlease generate a recipe with careful consideration of any allergens.\\nEnsure that ingredients are listed only once and avoid repeating any entries.\\nThe recipe should include the following sections:\\n1. **Title** of the recipe\\n2. **Ingredients List** with measurements (avoid repeats)\\n3. **Instructions** in numbered steps for preparation\\n\\nReturn the result in the following format:\\n\\n**Title:**\\nRecipe title here\\n\\n**Ingredients:**\\n- Ingredient 1\\n- Ingredient 2\\n- Ingredient 3\\n\\n**Instructions:**\\n1. Step 1\\n2. Step 2\\n3. Step 3\\n\\nMake sure the formatting follows the above structure exactly.\\n\\n<|eot_id|><|start_header_id|>user<|end_header_id|>\\nUse the following pieces of context to provide a concise answer to the question at the end. If you don't know the answer, just say that you don't know, don't try to make up an answer.\\nIt is very important that you provide a recipe that avoids any allergens mentioned in the question. Lives depend on it.\\n#### Context ####\\n1\\ntablespoon\\nof\\nthe\\nbutter \\nand\\nflour\\nand\\ncook\\ntogether\\n1\\nminute. \\nWhisk\\nin\\nwine\\nand\\ndeglaze\\npan. \\nWhisk\\nin\\nbroth\\nand\\nthicken\\nsauce\\n1 \\nminute.\\nAdd\\nremaining\\ntablespoon \\nbutter\\nand\\nremove\\nskillet\\nfrom\\nheat. \\nQuarter\\ntomatoes\\nlengthwise. \\nTo\\nserve,\\nset\\nthe\\nspinach\\ncakes\\nand \\nsteaks\\nbeside\\neach\\nother\\non\\n2/3\\nof \\nserving\\nplates\\nand\\npour\\nsauce\\nevenly \\nover\\nsteaks.\\nScatter\\na\\nquartered \\ntomato\\nnext\\nto\\nspinach\\ncakes\\non\\neach \\nplate.\\nDrizzle\\ntomatoes\\nwith\\noil, \\nseason\\nwith\\nsalt\\nand\\npepper\\nand\\ntop \\nwith\\nchopped\\nchives.\\nServe\\nplates \\nimmediately.\\nCajun\\nChicken\\nPasta\\n1\\npound\\nfettuccine,\\nAbout\\n3\\nteaspoons \\nCajun\\nspice\\nmix,\\n3\\nwhole\\nboneless, \\nskinless\\nchicken\\nbreasts,\\ncut\\ninto \\ncubes,\\n2\\ntablespoons\\nbutter,\\n2 \\ntablespoons\\nolive\\noil,\\n3\\ncloves\\ngarlic, \\nminced,\\n1\\nwhole\\ngreen\\nbell\\npepper, \\nseeded\\nand\\nsliced,\\n1\\nwhole\\nred\\nbell \\npepper,\\nseeded\\nand\\nsliced,\\n1/2\\nlarge \\nred\\nonion,\\nsliced,\\nSalt,\\n4\\nwhole\\nRoma \\ntomatoes,\\ndiced,\\n2\\ncups\\nlow-sodium \\nchicken\\nbroth,\\n1/2\\ncup\\nwhite\\nwine,\\n1 \\ncup\\nheavy\\ncream,\\nCayenne\\npepper,\\nfor \\nsprinkling,\\n\\nthe \\nwine\\nto\\na\\nsyrup\\nconsistency.\\nAdd \\nconsomme,\\nchicken\\nbroth,\\napple\\ncider \\nand\\nbouquet\\ngarni.\\nReduce\\nheat\\nand \\nsimmer\\n15\\nto\\n20\\nminutes. \\nPlace\\noven\\nrack\\nin\\ntop\\n1/3\\nof\\noven\\nand \\nheat\\nbroiler. \\nCut\\ncountry\\nbread\\nin\\nrounds\\nlarge \\nenough\\nto\\nfit\\nmouth\\nof\\noven\\nsafe\\nsoup \\ncrocks.\\nPlace\\nthe\\nslices\\non\\na\\nbaking \\nsheet\\nand\\nplace\\nunder\\nbroiler\\nfor\\n1 \\nminute. \\nSeason\\nsoup\\nmixture\\nwith\\nsalt,\\npepper \\nand\\ncognac.\\nRemove\\nbouquet\\ngarni \\nand\\nladle\\nsoup\\ninto\\ncrocks\\nleaving\\none \\ninch\\nto\\nthe\\nlip.\\nPlace\\nbread\\nround, \\ntoasted\\nside\\ndown,\\non\\ntop\\nof\\nsoup\\nand \\ntop\\nwith\\ngrated\\ncheese.\\nBroil\\nuntil \\ncheese\\nis\\nbubbly\\nand\\ngolden,\\n1\\nto\\n2 \\nminutes.\\nCurly's\\nBBQ\\nChicken\\nPizza\\n1\\nready\\nmade\\npizza\\ncrust,\\n6\\noz. \\nCurly's\\nSauceless\\nPulled\\nChicken\\n(or \\nCurly's\\nSauceless\\nPulled\\nPork\\nif \\npreferred),\\n1/2\\ncup\\nBBQ\\nsauce,\\n4\\noz. \\nMozzarella,\\n2\\noz.\\nchopped\\ntomato,\\n1 \\noz.\\nchopped\\nonion,\\n1\\noz.\\nsliced \\nmushrooms,\\n1\\noz.\\nsliced\\ngreen \\npeppers\\nToss\\nCurly's\\nSauceless\\nPulled\\nChicken \\nin\\nBBQ\\nsauce.\\nSpread\\nBBQ\\nover \\npizza\\ncrust. \\nTop\\nwith\\nremaining\\ningredients.\\nBake\\n\\nlow-sodium \\nchicken\\nbroth,\\n1/2\\ncup\\nwhite\\nwine,\\n1 \\ncup\\nheavy\\ncream,\\nCayenne\\npepper,\\nfor \\nsprinkling,\\nFreshly\\nground\\nblack\\nWatch\\nhow\\nto\\nmake\\nthis\\nrecipe. \\nCook\\nthe\\npasta\\naccording\\nto\\npackage \\ndirections.\\nDrain\\nwhen\\nthe\\npasta\\nis \\nstill\\nal\\ndente;\\ndo\\nnot\\novercook! \\nSprinkle\\n1\\n1/2\\nteaspoons\\nCajun\\nspice \\n(or\\nmore)\\nover\\nthe\\nchicken\\ncubes. \\nToss\\naround\\nto\\ncoat.\\nHeat\\n1 \\ntablespoon\\nbutter\\nand\\n1\\ntablespoon\\noil \\nin\\na\\nheavy\\nskillet\\nover\\nhigh\\nheat.\\nAdd \\nhalf\\nthe\\nchicken\\nin\\na\\nsingle\\nlayer;\\ndo \\nnot\\nstir.\\nAllow\\nthe\\nchicken\\nto\\nbrown \\non\\none\\nside,\\nabout\\n1\\nminute.\\nFlip\\nto \\nthe\\nother\\nside\\nand\\ncook\\nan\\nadditional\\n#### End of Context ####\\n\\nQuestion: Looking for an Italian chicken parmesan recipe - I have a Gluten allergy.\\n<|eot_id|><|start_header_id|>assistant<|end_header_id|>\\n\", \"parameters\": {\"max_new_tokens\": 1000, \"top_p\": 0.9, \"temperature\": 0.6, \"stop\": [\"<|eot_id|>\"]}}\n",
      "{'generated_text': \"I'm happy to help! Since you have a gluten allergy, I'll make sure to provide a recipe that avoids gluten-containing ingredients. Here's a recipe for Italian Chicken Parmesan that's gluten-free:\\n\\n**Title:** Gluten-Free Italian Chicken Parmesan\\n\\n**Ingredients:**\\n\\n* 4 boneless, skinless chicken breasts\\n* 1 cup gluten-free breadcrumbs (made from rice, corn, or potato)\\n* 1/2 cup grated Parmesan cheese (make sure it's gluten-free)\\n* 1 egg\\n* 1 cup marinara sauce (make sure it's gluten-free)\\n* 1 cup shredded mozzarella cheese\\n* 2 tablespoons olive oil\\n* Salt and pepper to taste\\n* Fresh basil leaves for garnish\\n\\n**Instructions:**\\n\\n1. Preheat the oven to 400°F (200°C).\\n2. In a shallow dish, mix together the gluten-free breadcrumbs and Parmesan cheese.\\n3. In a separate dish, beat the egg.\\n4. Dip each chicken breast in the egg and then coat in the breadcrumb mixture, pressing gently to adhere.\\n5. Heat the olive oil in a large skillet over medium-high heat. Add the breaded chicken breasts and cook for 3-4 minutes on each side, or until golden brown and cooked through.\\n6. Transfer the chicken to a baking dish and spoon marinara sauce over each breast.\\n7. Sprinkle the shredded mozzarella cheese over the top of each breast.\\n8. Bake in the preheated oven for 15-20 minutes, or until the cheese is melted and bubbly.\\n9. Garnish with fresh basil leaves and serve hot.\\n\\nThis recipe avoids gluten-containing ingredients like wheat, barley, and rye, making it safe for those with gluten allergies. Enjoy!\"}\n",
      "Generated recipe: Looking for an Italian chicken parmesan recipe - I have a Gluten allergy.\n",
      "{\"inputs\": \"<|begin_of_text|><|start_header_id|>system<|end_header_id|>\\nYou are a chatbot that generates recipes in a well-structured format for a customer who may have dietary restrictions.\\nPlease generate a recipe with careful consideration of any allergens.\\nEnsure that ingredients are listed only once and avoid repeating any entries.\\nThe recipe should include the following sections:\\n1. **Title** of the recipe\\n2. **Ingredients List** with measurements (avoid repeats)\\n3. **Instructions** in numbered steps for preparation\\n\\nReturn the result in the following format:\\n\\n**Title:**\\nRecipe title here\\n\\n**Ingredients:**\\n- Ingredient 1\\n- Ingredient 2\\n- Ingredient 3\\n\\n**Instructions:**\\n1. Step 1\\n2. Step 2\\n3. Step 3\\n\\nMake sure the formatting follows the above structure exactly.\\n\\n<|eot_id|><|start_header_id|>user<|end_header_id|>\\nUse the following pieces of context to provide a concise answer to the question at the end. If you don't know the answer, just say that you don't know, don't try to make up an answer.\\nIt is very important that you provide a recipe that avoids any allergens mentioned in the question. Lives depend on it.\\n#### Context ####\\nhalf\\nof\\nthe\\ngreen \\nonions,\\ntop\\nwith\\nthe\\nremainder,\\nand \\nserve\\nimmediately.\\nPeanut\\nButter\\nExplosion\\n1\\n(10-inch)\\nbrownie\\nround,\\nCream \\nCheese\\nPeanut\\nButter\\nMousse,\\nrecipe \\nfollows,\\n2\\nlayers\\nchocolate\\ncake, \\nMelted\\nfudge,\\nBrownie\\nchunks, \\nPeanut\\nbutter\\nchips,\\n6\\n(8\\nounce)\\nbars \\ncream\\ncheese,\\nsoftened,\\n1\\n(12\\nounce) \\npackage\\npeanut\\nbutter\\ncups,\\ncrushed, \\n1\\n(8\\nounce)\\njar\\ncreamy\\npeanut\\nbutter\\nAssembly:\\nBegin\\nwith\\na\\nlayer\\nof \\nbrownie,\\nalternate\\nlayers\\nof\\ncream \\ncheese\\npeanut\\nbutter\\nmousse\\nand \\nchocolate\\ncake,\\nending\\nwith\\ncake. \\nPour\\nmelted\\nfudge\\nover\\nthe\\ncake;\\ntop \\nwith\\nchunks\\nof\\nbrownie\\npieces.\\nPour \\nmore\\nmelted\\nfudge\\nover\\nthe\\nbrownie \\npieces.\\nFinish\\nwith\\na\\nsplash\\nof\\npeanut \\nbutter\\nchips\\non\\ntop. \\nThoroughly\\ncombine\\ningredients.\\nSmoked\\nSalmon\\nTartine\\n4\\nslices\\nwhite\\nbread,\\ncrusts\\nremoved, \\n2\\ntablespoons/20\\ng\\nbutter,\\n2\\nounces/75 \\ng\\nsmoked\\nsalmon,\\nthinly\\nsliced, \\nLemon,\\nthinly\\nsliced,\\nfor\\ngarnish\\nCut\\nthe\\nslices\\nof\\nbread\\ninto\\ntriangular \\nshapes,\\nor\\nuse\\na\\nChristmas\\nornament \\nmold\\nand\\ncut\\nout\\nthe\\nshape.\\nAdd \\nbutter\\nto\\nthe\\n\\nheat\\nand\\ncook,\\nstirring\\noccasionally, \\nuntil\\nthe\\nsugar\\ndissolves\\nand\\nthe \\ncream\\ncomes\\nto\\na\\nbare\\nsimmer. \\nMeanwhile,\\nwhisk\\ntogether\\nthe\\negg \\nyolks,\\n2\\ntablespoons\\nof\\nthe\\nremaining \\ngranulated\\nsugar\\nand\\n2\\ntablespoons\\nof \\nthe\\nremaining\\nlight\\nbrown\\nsugar\\nin\\na \\nmedium\\nbowl. \\nSlowly\\nwhisk\\nthe\\nhot\\ncream\\ninto\\nthe \\negg\\nyolk\\nmixture.\\nStrain\\nthe\\ncustard \\ninto\\na\\npitcher\\nor\\nlarge\\nmeasuring\\ncup. \\nDivide\\nthe\\ncustard\\nevenly\\namong\\nthe \\nramekins.\\nPlace\\nthe\\nbaking\\nsheet\\nin \\nthe\\noven,\\nthen\\ncarefully\\nadd\\nenough \\nhot\\nwater\\nto\\ncome\\nhalfway\\nup\\nthe \\nsides\\nof\\nthe\\nramekins.\\nBake\\nuntil\\nthe \\ncustards\\nare\\njust\\nset\\nat\\nthe\\nsides\\nand \\nstill\\nwobbly\\nin\\nthe\\ncenter,\\nabout\\n30 \\nminutes.\\nRemove\\nthe\\nramekins\\nfrom \\nthe\\nwater\\nand\\nlet\\ncool\\ncompletely\\non\\na \\nwire\\nrack,\\nabout\\n30\\nminutes.\\nLeave \\nthe\\noven\\non. \\nFor\\nthe\\ngarnish:\\nWhile\\nthe\\ncustards \\ncool,\\nspread\\nthe\\npecans\\non\\na\\nbaking \\nsheet\\nand\\nbake\\nuntil\\nthey\\nare\\nbrown \\nand\\ntoasty-smelling,\\nabout\\n10 \\nminutes.\\nWhip\\nthe\\ncream\\nin\\na\\nmedium \\nbowl\\nuntil\\nsoft\\npeaks\\nform. \\nTo\\nassemble:\\nSprinkle\\nthe\\nremaining \\n3/4\\ncup\\n\\nand\\ncut\\nalong\\nthe \\nbreastbone. \\nPull\\nback\\none\\nof\\nthe\\nbreasts\\nand\\ncut\\nit \\noff\\nthe\\nbackbone.\\nRepeat\\non\\nthe\\nother \\nside. \\nPhotograph\\nby\\nDavid\\nMalosh\\nChocolate\\nTurnovers\\n1\\n(17\\n1/4-ounce)\\npackage\\npuff\\npastry \\nsheets,\\n4\\n1/2\\nounces\\nsemi-\\nor \\nbittersweet\\nchocolate,\\nbroken\\ninto \\n1/4-ounce\\npieces,\\n1\\negg,\\nbeaten, \\nConfectioners'\\nsugar,\\nfor\\ndusting \\n(optional)\\nAdjust\\noven\\nracks\\nto\\nthe\\nupper\\nand \\nlower\\nmiddle\\npositions\\nand\\nheat\\nthe \\noven\\nto\\n425\\ndegrees. \\nWorking\\nwith\\none\\nsheet\\nat\\na\\ntime\\non\\na \\nlightly\\nfloured\\nwork\\nsurface,\\ntrim\\nthe \\npuff\\npastry\\nsheets\\nto\\n9-\\nby\\n9-inch \\nsquares,\\nthen\\ncut\\neach\\nsheet\\ninto\\nnine \\n3-inch\\nsquares. \\nWorking\\nwith\\none\\nsquare\\nof\\ndough\\nat \\na\\ntime,\\nplace\\na\\nportion\\nof\\nchocolate \\nonto\\nthe\\nlower\\ncorner,\\nbrush\\ntwo \\nedges\\nof\\nthe\\ndough\\nwith\\nbeaten\\negg, \\nand\\nfold\\nthe\\ndough\\nin\\nhalf\\ndiagonally \\nto\\nform\\na\\nturnover.\\nPlace\\neach \\nturnover\\non\\na\\nparchment-lined\\ncookie \\nsheet,\\nspacing\\nthem\\nabout\\n2\\ninches \\napart\\n(about\\n9\\nper\\nsheet).\\nBrush\\nthe \\ndough\\ntops\\nwith\\negg\\nwash. \\nBake\\nuntil\\ngolden\\nbrown,\\nswitching \\nand\\nrotating\\n#### End of Context ####\\n\\nQuestion: Can you suggest a brownie for dessert without any milk or eggs?\\n<|eot_id|><|start_header_id|>assistant<|end_header_id|>\\n\", \"parameters\": {\"max_new_tokens\": 1000, \"top_p\": 0.9, \"temperature\": 0.6, \"stop\": [\"<|eot_id|>\"]}}\n",
      "{'generated_text': \"I'd be happy to help!\\n\\nAfter reviewing the context, I noticed that the original recipe contains peanut butter, which is a common allergen. However, I can suggest a brownie recipe that avoids milk and eggs. Here's a recipe that uses alternative ingredients:\\n\\n**Title:** Fudgy Brownie without Milk or Eggs\\n\\n**Ingredients:**\\n\\n- 1 cup (200g) unsweetened cocoa powder\\n- 1/2 cup (100g) granulated sugar\\n- 1/4 cup (50g) all-purpose flour\\n- 1/2 teaspoon salt\\n- 1/4 teaspoon baking powder\\n- 1/4 cup (60g) canola oil\\n- 2 teaspoons vanilla extract\\n- 1 cup (120g) chopped walnuts (optional)\\n\\n**Instructions:**\\n\\n1. Preheat the oven to 350°F (180°C). Grease an 8-inch (20cm) square baking pan with non-stick cooking spray.\\n2. In a medium bowl, whisk together the cocoa powder, sugar, flour, salt, and baking powder.\\n3. In a separate bowl, whisk together the oil, vanilla extract, and chopped walnuts (if using).\\n4. Add the wet ingredients to the dry ingredients and stir until well combined.\\n5. Pour the batter into the prepared pan and smooth the top.\\n6. Bake for 25-30 minutes or until a toothpick inserted into the center comes out with a few moist crumbs.\\n7. Let the brownie cool completely in the pan before cutting into squares and serving.\\n\\nPlease note that this recipe uses canola oil instead of eggs and does not contain milk. However, if you have any other dietary restrictions or allergies, please let me know and I'll do my best to accommodate your needs.\"}\n",
      "Generated recipe: Can you suggest a brownie for dessert without any milk or eggs?\n",
      "{\"inputs\": \"<|begin_of_text|><|start_header_id|>system<|end_header_id|>\\nYou are a chatbot that generates recipes in a well-structured format for a customer who may have dietary restrictions.\\nPlease generate a recipe with careful consideration of any allergens.\\nEnsure that ingredients are listed only once and avoid repeating any entries.\\nThe recipe should include the following sections:\\n1. **Title** of the recipe\\n2. **Ingredients List** with measurements (avoid repeats)\\n3. **Instructions** in numbered steps for preparation\\n\\nReturn the result in the following format:\\n\\n**Title:**\\nRecipe title here\\n\\n**Ingredients:**\\n- Ingredient 1\\n- Ingredient 2\\n- Ingredient 3\\n\\n**Instructions:**\\n1. Step 1\\n2. Step 2\\n3. Step 3\\n\\nMake sure the formatting follows the above structure exactly.\\n\\n<|eot_id|><|start_header_id|>user<|end_header_id|>\\nUse the following pieces of context to provide a concise answer to the question at the end. If you don't know the answer, just say that you don't know, don't try to make up an answer.\\nIt is very important that you provide a recipe that avoids any allergens mentioned in the question. Lives depend on it.\\n#### Context ####\\nthe\\nparsley\\nand \\npaprika\\nto\\nbe\\nused\\nfor\\ngarnish.\\nBlend \\non\\nlow\\nspeed\\nuntil\\nsmooth.\\nYou'll \\nhave\\nto\\nstop\\nthe\\nblender\\noften\\nto\\npush \\ndown\\nthe\\ningredients.\\nIf\\nthe\\nmixture\\nis \\ntoo\\ndry\\nand\\nyou're\\nhaving\\ntrouble \\nblending\\nit,\\nadd\\na\\nfew\\nmore \\ntablespoons\\nof\\nolive\\noil\\nto\\nhelp\\nthings \\nalong. \\nScrape\\nthe\\nhummus\\nonto\\na\\nplate. \\nSprinkle\\nthe\\npaprika\\nover\\nthe\\ntop, \\ndrizzle\\nlightly\\nwith\\nolive\\noil,\\nscatter \\nsome\\nparsley\\non\\ntop,\\nand\\nserve.\\nYou \\ncan\\nmake\\nthe\\nhummus\\nup\\nto\\na\\ncouple \\nof\\nhours\\nbefore\\nyou\\nserve\\nit.\\nCover\\nthe \\ntop\\nwith\\nplastic\\nwrap\\nand\\nleave\\nit\\nat \\nroom\\ntemperature. \\nPer\\nTablespoon:\\nCalories:\\n57;\\nTotal \\nFat:\\n4\\ngrams;\\nSaturated\\nFat:\\n0.5 \\ngrams;\\nProtein:\\n1\\ngram;\\nTotal \\ncarbohydrates:\\n5\\ngrams;\\nSugar:\\n0 \\ngrams;\\nFiber:\\n1\\ngram;\\nCholesterol:\\n0 \\nmilligrams;\\nSodium:\\n96\\nmilligrams\\nCran-Raspberry\\nSnowball\\nPunch\\n1\\n(32\\noz.)\\nbottle\\nKnudsen\\u00ae\\nCranberry \\nNectar,\\nchilled,\\n1\\n(12\\noz.)\\njar \\nSmucker's\\u00ae\\nSeedless\\nRed\\nRaspberry \\nJam,\\n1\\n1/2\\n(2\\nliter)\\nbottles\\nlemon-lime\\nCOMBINE\\ncranberry\\nnectar,\\nred \\nraspberry\\njam\\nand\\nlemon-lime\\nsoda\\nin \\na\\n\\nand\\ncook\\nand\\nstir\\nfor\\n1\\nminute. \\nStir\\nthe\\nsoup,\\npeach\\njuice,\\nsoy\\nsauce \\nand\\nhoney\\nin\\nthe\\nskillet\\nand\\nheat\\nto\\na \\nboil.\\nCook\\nfor\\n5\\nminutes\\nor\\nuntil\\nthe \\nsoup\\nmixture\\nis\\nslightly\\nreduced. \\nReturn\\nthe\\npork\\nto\\nthe\\nskillet.\\nStir\\nin \\nthe\\npeaches.\\nReduce\\nthe\\nheat\\nto\\nlow. \\nCook\\nuntil\\nthe\\npork\\nis\\ncooked \\nthrough.\\nStir\\nin\\nthe\\npecans.\\nServe\\nthe \\npork\\nand\\nsauce\\nwith\\nthe\\nrice.\\nSprinkle \\nwith\\nadditional\\nsliced\\ngreen\\nonion,\\nif \\ndesired.\\nHummus\\nDip\\n2\\n(15-ounce)\\ncans\\nchickpeas,\\ndrained \\nand\\nrinsed,\\n1/2\\ncup\\nextra-virgin\\nolive \\noil,\\nor\\nmore\\nas\\nneeded,\\nplus\\nmore\\nfor \\ngarnish,\\n1/2\\nlemon,\\njuiced,\\n2 \\ntablespoons\\nroughly\\nchopped\\nfresh \\nparsley\\nleaves,\\nplus\\nmore\\nfor\\ngarnish, \\n2\\ncloves\\ngarlic,\\npeeled,\\n1\\n1/2\\nteaspoon \\nsalt,\\n1/2\\nteaspoon\\ndark\\nAsian\\nsesame \\noil,\\n1/2\\nto\\n1\\nteaspoon\\nground\\ncumin, \\n12\\nto\\n15\\ngrinds\\nblack\\npepper,\\n1/4\\ncup \\nwater,\\nPaprika,\\nfor\\ngarnish\\nWatch\\nhow\\nto\\nmake\\nthis\\nrecipe. \\nIn\\na\\nblender\\ncombine\\nall\\nthe \\ningredients\\nexcept\\nthe\\nparsley\\nand \\npaprika\\nto\\nbe\\nused\\nfor\\ngarnish.\\nBlend \\non\\nlow\\nspeed\\nuntil\\nsmooth.\\nYou'll \\nhave\\nto\\n\\nadd\\nfreshly\\nground \\nblack\\npepper,\\ncayenne\\npepper,\\nand/or \\nsalt\\nto\\ntaste.\\nThe\\nsauce\\nshould\\nbe \\nspicy! \\nFinally,\\nadd\\nthe\\nchicken\\nand \\nvegetables\\nto\\nthe\\nsauce,\\nmaking\\nsure \\nto\\ninclude\\nall\\nthe\\njuices\\nthat\\nhave \\ndrained\\nonto\\nthe\\nplate.\\nStir\\nand\\ncook \\nuntil\\nthe\\nmixture\\nis\\nbubbly\\nand\\nhot,\\n1 \\nto\\n2\\nminutes.\\nAdd\\nthe\\ndrained \\nfettuccine\\nand\\ntoss\\nto\\ncombine. \\nTop\\nwith\\nchopped\\nfresh\\nparsley\\nand \\nchow\\ndown!\\nGarlic\\nand\\nOregano\\nMarinated \\nChicken\\nwith\\nRoasted\\nPepper\\nand \\nBlack\\nOlive\\nRelish\\nwith \\nSaffron-Tomato\\nRice\\n2\\ntablespoons\\nsherry\\nvinegar,\\n2 \\ntablespoons\\nfresh\\nlemon\\njuice,\\n2 \\ntablespoons\\nfresh\\nlime\\njuice,\\n2 \\ntablespoons\\nhoney,\\n1\\ntablespoon \\nancho\\nchili\\npowder,\\n10\\ncloves\\ngarlic, \\ncoarsely\\nchopped,\\n1/4\\ncup\\nfresh \\noregano\\nleaves,\\n2\\ncups\\npure\\nolive\\noil, \\nSalt\\nand\\npepper,\\n4\\nchickens,\\n2\\n1/2 \\npounds\\neach,\\nquartered,\\nRoasted \\nPepper\\nand\\nBlack\\nOlive\\nRelish,\\nrecipe \\nfollows,\\nSaffron-Tomato\\nRice,\\nrecipe \\nfollows,\\n2\\nroasted\\nred\\nbell\\npeppers, \\npeeled,\\nseeded\\nand\\ndiced,\\n2\\nroasted \\nyellow\\nbell\\npeppers,\\npeeled,\\nseeded \\nand\\ndiced,\\n1\\n#### End of Context ####\\n\\nQuestion: I need a vegan lentil taco recipe that doesn't contain any soy or its derivatives.\\n<|eot_id|><|start_header_id|>assistant<|end_header_id|>\\n\", \"parameters\": {\"max_new_tokens\": 1000, \"top_p\": 0.9, \"temperature\": 0.6, \"stop\": [\"<|eot_id|>\"]}}\n",
      "{'generated_text': \"I'm happy to help you with that!\\n\\nHere's a vegan lentil taco recipe that avoids soy and its derivatives:\\n\\n**Title:** Vegan Lentil Tacos\\n\\n**Ingredients:**\\n\\n- 1 cup brown or green lentils, rinsed and drained\\n- 2 cups water\\n- 1 onion, diced\\n- 2 cloves garlic, minced\\n- 1 red bell pepper, diced\\n- 1 can (14.5 oz) diced tomatoes\\n- 1 teaspoon cumin\\n- 1 teaspoon smoked paprika\\n- 1/2 teaspoon salt\\n- 1/4 teaspoon black pepper\\n- 2 tablespoons olive oil\\n- 4 corn tortillas\\n- Chopped fresh cilantro, for garnish\\n- Lime wedges, for serving\\n\\n**Instructions:**\\n\\n1. In a medium saucepan, combine the lentils and water. Bring to a boil, then reduce the heat to a simmer and cook until the lentils are tender, about 20-25 minutes.\\n2. In a large skillet, heat the olive oil over medium-high heat. Add the onion, garlic, and red bell pepper. Cook, stirring occasionally, until the vegetables are tender, about 5-7 minutes.\\n3. Add the cooked lentils, diced tomatoes, cumin, smoked paprika, salt, and black pepper to the skillet. Stir to combine.\\n4. Warm the corn tortillas by wrapping them in a damp paper towel and microwaving for 20-30 seconds.\\n5. Assemble the tacos by spooning the lentil mixture onto a tortilla and topping with chopped cilantro and a squeeze of lime juice. Serve immediately.\\n\\nThis recipe is free from soy and its derivatives, and it's also vegan-friendly. I hope you enjoy it!\"}\n",
      "Generated recipe: I need a vegan lentil taco recipe that doesn't contain any soy or its derivatives.\n",
      "{\"inputs\": \"<|begin_of_text|><|start_header_id|>system<|end_header_id|>\\nYou are a chatbot that generates recipes in a well-structured format for a customer who may have dietary restrictions.\\nPlease generate a recipe with careful consideration of any allergens.\\nEnsure that ingredients are listed only once and avoid repeating any entries.\\nThe recipe should include the following sections:\\n1. **Title** of the recipe\\n2. **Ingredients List** with measurements (avoid repeats)\\n3. **Instructions** in numbered steps for preparation\\n\\nReturn the result in the following format:\\n\\n**Title:**\\nRecipe title here\\n\\n**Ingredients:**\\n- Ingredient 1\\n- Ingredient 2\\n- Ingredient 3\\n\\n**Instructions:**\\n1. Step 1\\n2. Step 2\\n3. Step 3\\n\\nMake sure the formatting follows the above structure exactly.\\n\\n<|eot_id|><|start_header_id|>user<|end_header_id|>\\nUse the following pieces of context to provide a concise answer to the question at the end. If you don't know the answer, just say that you don't know, don't try to make up an answer.\\nIt is very important that you provide a recipe that avoids any allergens mentioned in the question. Lives depend on it.\\n#### Context ####\\nmedium-high\\nheat.\\nAdd\\nthe\\npotato, \\nonion,\\npepper,\\ncelery,\\nand\\ngarlic\\nand \\ncook\\nuntil\\nsoftened,\\nabout\\n6\\nminutes. \\nAdd\\nthe\\ncumin,\\nsalt,\\nand\\npepper.\\nMix \\nwell\\nto\\nensure\\nthat\\nall\\nthe\\nvegetables \\nare\\nseasoned.\\nOnce\\nthe\\npotatoes\\nstart \\nto\\nbrown,\\nadd\\nthe\\nvegetable\\nbroth, \\nbring\\nto\\na\\nboil\\nthen\\nreduce\\nheat\\nto \\nsimmer.\\nOnce\\nthe\\nliquid\\nbegins\\nto \\nreduce\\nadd\\nthe\\nshrimp\\nand\\ncover \\nskillet.\\nRemove\\nthe\\ncover\\nonce\\nall\\nthe \\nliquid\\nhas\\nbeen\\nabsorbed,\\nabout\\n25 \\nminutes.\\nRemove\\nfrom\\nthe\\nheat\\nand \\nallow\\nto\\ncool\\nto\\nroom\\ntemperature. \\nFor\\nthe\\ndough:\\nIn\\na\\nlarge\\nmixing \\nbowl,\\ncombine\\nthe\\nflour,\\nbaking \\npowder,\\ncurry\\npowder,\\nand\\n1/2 \\nteaspoon\\nsalt.\\nSlowly\\nadd\\nthe\\nwater \\nuntil\\nthe\\ndough\\nis\\nwell\\nformed\\nand \\nsoft\\nbut\\nnot\\nsticky\\n(you\\nmay\\nnot\\nuse \\nall\\nthe\\nwater).\\nKnead\\nfor\\n2\\nminutes\\non \\na\\nlightly\\nfloured\\nsurface\\nand\\nthen \\nplace\\nin\\na\\nlarge\\nbowl\\nto\\nrest\\nfor\\nat \\nleast\\n15\\nminutes.\\nCover\\nthe\\nbowl\\nwith \\na\\nmoist\\ncloth\\nor\\nflip\\nthe\\nbowl\\nover\\non \\na\\nclean\\nprep\\nsurface\\nand\\nlet\\nsit\\nuntil \\nready\\nto\\nuse. \\nHeat\\nthe\\noil\\nin\\na\\npot\\nto\\n360\\ndegrees\\nF. \\nDivide\\n\\ncelery,\\n1\\nclove \\ngarlic,\\nminced,\\n1\\nteaspoon\\nground \\ncumin,\\nKosher\\nsalt\\nand\\nfreshly\\nground \\npepper,\\n1\\n1/2\\ncups\\nvegetable\\nbroth, \\n1/2\\npound\\npeeled\\nand\\ndeveined\\njumbo \\nshrimp\\n(11\\nto\\n15\\ncount),\\nchopped,\\n2 \\ncups\\nall-purpose\\nflour,\\n2\\nteaspoons \\nbaking\\npowder,\\n1\\nteaspoon\\nMadras \\ncurry\\npowder,\\nKosher\\nsalt,\\n3/4\\ncups \\nwater,\\n4\\ncups\\nof\\ncanola\\noil,\\nfor\\nfrying\\nFor\\nthe\\nchutney:\\nPlace\\nthe\\nmangoes, \\napple,\\nbrown\\nsugar,\\nginger,\\nand\\nhot \\npepper\\nin\\na\\nfood\\nprocessor\\nand\\npulse \\nuntil\\nthe\\nmixture\\nis\\nchunky\\nand\\nwell \\ncombined.\\nTransfer\\nto\\na\\nmedium \\nsaucepot\\nand\\nbring\\nto\\na\\nsimmer\\nover \\nmedium-high\\nheat.\\nAdd\\nthe\\nvinegar, \\nseason\\nto\\ntaste\\nwith\\nsalt\\nand\\npepper, \\nand\\ncontinue\\nto\\nsimmer\\nuntil\\nthe\\nfruit \\nis\\ntender\\nand\\nthe\\nvinegar\\nhas \\nmellowed\\nslightly,\\nstirring \\noccasionally\\nto\\nprevent\\nsticking. \\nRemove\\nfrom\\nthe\\nheat\\nand\\nset\\naside. \\nServe\\nwarm\\nor\\nat\\nroom\\ntemperature. \\nFor\\nthe\\npie\\nfilling:\\nIn\\na\\nlarge\\nskillet, \\nheat\\nthe\\nvegetable\\noil\\nover \\nmedium-high\\nheat.\\nAdd\\nthe\\npotato, \\nonion,\\npepper,\\ncelery,\\nand\\ngarlic\\nand \\ncook\\nuntil\\nsoftened,\\nabout\\n\\nand\\ncook\\nand\\nstir\\nfor\\n1\\nminute. \\nStir\\nthe\\nsoup,\\npeach\\njuice,\\nsoy\\nsauce \\nand\\nhoney\\nin\\nthe\\nskillet\\nand\\nheat\\nto\\na \\nboil.\\nCook\\nfor\\n5\\nminutes\\nor\\nuntil\\nthe \\nsoup\\nmixture\\nis\\nslightly\\nreduced. \\nReturn\\nthe\\npork\\nto\\nthe\\nskillet.\\nStir\\nin \\nthe\\npeaches.\\nReduce\\nthe\\nheat\\nto\\nlow. \\nCook\\nuntil\\nthe\\npork\\nis\\ncooked \\nthrough.\\nStir\\nin\\nthe\\npecans.\\nServe\\nthe \\npork\\nand\\nsauce\\nwith\\nthe\\nrice.\\nSprinkle \\nwith\\nadditional\\nsliced\\ngreen\\nonion,\\nif \\ndesired.\\nHummus\\nDip\\n2\\n(15-ounce)\\ncans\\nchickpeas,\\ndrained \\nand\\nrinsed,\\n1/2\\ncup\\nextra-virgin\\nolive \\noil,\\nor\\nmore\\nas\\nneeded,\\nplus\\nmore\\nfor \\ngarnish,\\n1/2\\nlemon,\\njuiced,\\n2 \\ntablespoons\\nroughly\\nchopped\\nfresh \\nparsley\\nleaves,\\nplus\\nmore\\nfor\\ngarnish, \\n2\\ncloves\\ngarlic,\\npeeled,\\n1\\n1/2\\nteaspoon \\nsalt,\\n1/2\\nteaspoon\\ndark\\nAsian\\nsesame \\noil,\\n1/2\\nto\\n1\\nteaspoon\\nground\\ncumin, \\n12\\nto\\n15\\ngrinds\\nblack\\npepper,\\n1/4\\ncup \\nwater,\\nPaprika,\\nfor\\ngarnish\\nWatch\\nhow\\nto\\nmake\\nthis\\nrecipe. \\nIn\\na\\nblender\\ncombine\\nall\\nthe \\ningredients\\nexcept\\nthe\\nparsley\\nand \\npaprika\\nto\\nbe\\nused\\nfor\\ngarnish.\\nBlend \\non\\nlow\\nspeed\\nuntil\\nsmooth.\\nYou'll \\nhave\\nto\\n#### End of Context ####\\n\\nQuestion: Japanese dumpling recipe with no fish or crustacean allergens?\\n<|eot_id|><|start_header_id|>assistant<|end_header_id|>\\n\", \"parameters\": {\"max_new_tokens\": 1000, \"top_p\": 0.9, \"temperature\": 0.6, \"stop\": [\"<|eot_id|>\"]}}\n",
      "{'generated_text': '**Title:** Japanese-Style Vegetable Dumplings with Mango Chutney\\n\\n**Ingredients:**\\n\\n* 2 cups all-purpose flour\\n* 2 teaspoons baking powder\\n* 1 teaspoon Madras curry powder\\n* Kosher salt\\n* 3/4 cups water\\n* 1/2 cup canola oil\\n* 1/2 cup mangoes, diced\\n* 1/2 cup apple, diced\\n* 2 tablespoons brown sugar\\n* 1 tablespoon grated ginger\\n* 1/2 teaspoon hot pepper\\n* 1/4 cup vinegar\\n* 2 cloves garlic, minced\\n* 1/2 teaspoon ground cumin\\n* 1/2 teaspoon freshly ground black pepper\\n* 1/4 cup water\\n* Paprika, for garnish\\n* Fresh parsley leaves, for garnish\\n\\n**Instructions:**\\n\\n1. In a large mixing bowl, combine the flour, baking powder, curry powder, and salt.\\n2. Slowly add the water until the dough is well formed and soft but not sticky.\\n3. Knead the dough for 2 minutes on a lightly floured surface and then place it in a large bowl to rest for at least 15 minutes.\\n4. Cover the bowl with a moist cloth or flip the bowl over on a clean prep surface and let it sit until ready to use.\\n5. Heat the oil in a pot to 360°F.\\n6. Divide the dough into small balls and flatten each ball into a disk shape.\\n7. Place a spoonful of the mango chutney in the center of each disk and fold the dough over to form a half-moon shape, pressing the edges together to seal the dumpling.\\n8. Fry the dumplings in the hot oil until golden brown, about 2-3 minutes per side.\\n9. Remove the dumplings from the oil and place them on a paper towel-lined plate to drain excess oil.\\n10. Serve the dumplings warm or at room temperature with the mango chutney.\\n\\nNote: This recipe does not include any fish or crustacean allergens. However, please ensure that the canola oil used is free from cross-contamination with fish or crustacean products.'}\n",
      "Generated recipe: Japanese dumpling recipe with no fish or crustacean allergens?\n"
     ]
    },
    {
     "data": {
      "text/plain": [
       "[\"I'm happy to help!\\n\\nConsidering your nut and tree nut allergy, I've created a recipe that avoids any allergens. Here's a Thai-inspired curry recipe that uses sunflower seeds instead of peanuts:\\n\\n**Thai-Style Sunflower Seed Curry**\\n\\n**Ingredients:**\\n\\n* 2 tablespoons sunflower oil\\n* 1 onion, diced\\n* 2 cloves garlic, minced\\n* 1 tablespoon grated fresh ginger\\n* 1 tablespoon Thai red curry paste\\n* 2 cups mixed vegetables (bell peppers, carrots, potatoes, and your choice of other vegetables)\\n* 1 can (14 oz) coconut milk\\n* 1 cup vegetable broth\\n* 1 teaspoon ground cumin\\n* 1 teaspoon ground coriander\\n* Salt and pepper, to taste\\n* Fresh cilantro leaves, for garnish\\n* Sunflower seeds, for garnish (optional)\\n\\n**Instructions:**\\n\\n1. Heat the sunflower oil in a large saucepan over medium heat. Add the onion and cook until softened, about 3-4 minutes.\\n2. Add the garlic and ginger and cook for an additional minute, until fragrant.\\n3. Add the Thai red curry paste and cook for 1-2 minutes, stirring constantly, until fragrant.\\n4. Add the mixed vegetables, coconut milk, vegetable broth, cumin, coriander, salt, and pepper. Stir well to combine.\\n5. Bring the mixture to a simmer and cook for 15-20 minutes, or until the vegetables are tender.\\n6. Taste and adjust the seasoning as needed.\\n7. Garnish with fresh cilantro leaves and sunflower seeds, if desired.\\n8. Serve hot over rice or noodles.\\n\\nThis recipe avoids any nuts or tree nuts, making it safe for your allergy. Enjoy!\",\n",
       " \"I'm happy to help! Since you have a gluten allergy, I'll make sure to provide a recipe that avoids gluten-containing ingredients. Here's a recipe for Italian Chicken Parmesan that's gluten-free:\\n\\n**Title:** Gluten-Free Italian Chicken Parmesan\\n\\n**Ingredients:**\\n\\n* 4 boneless, skinless chicken breasts\\n* 1 cup gluten-free breadcrumbs (made from rice, corn, or potato)\\n* 1/2 cup grated Parmesan cheese (make sure it's gluten-free)\\n* 1 egg\\n* 1 cup marinara sauce (make sure it's gluten-free)\\n* 1 cup shredded mozzarella cheese\\n* 2 tablespoons olive oil\\n* Salt and pepper to taste\\n* Fresh basil leaves for garnish\\n\\n**Instructions:**\\n\\n1. Preheat the oven to 400°F (200°C).\\n2. In a shallow dish, mix together the gluten-free breadcrumbs and Parmesan cheese.\\n3. In a separate dish, beat the egg.\\n4. Dip each chicken breast in the egg and then coat in the breadcrumb mixture, pressing gently to adhere.\\n5. Heat the olive oil in a large skillet over medium-high heat. Add the breaded chicken breasts and cook for 3-4 minutes on each side, or until golden brown and cooked through.\\n6. Transfer the chicken to a baking dish and spoon marinara sauce over each breast.\\n7. Sprinkle the shredded mozzarella cheese over the top of each breast.\\n8. Bake in the preheated oven for 15-20 minutes, or until the cheese is melted and bubbly.\\n9. Garnish with fresh basil leaves and serve hot.\\n\\nThis recipe avoids gluten-containing ingredients like wheat, barley, and rye, making it safe for those with gluten allergies. Enjoy!\",\n",
       " \"I'd be happy to help!\\n\\nAfter reviewing the context, I noticed that the original recipe contains peanut butter, which is a common allergen. However, I can suggest a brownie recipe that avoids milk and eggs. Here's a recipe that uses alternative ingredients:\\n\\n**Title:** Fudgy Brownie without Milk or Eggs\\n\\n**Ingredients:**\\n\\n- 1 cup (200g) unsweetened cocoa powder\\n- 1/2 cup (100g) granulated sugar\\n- 1/4 cup (50g) all-purpose flour\\n- 1/2 teaspoon salt\\n- 1/4 teaspoon baking powder\\n- 1/4 cup (60g) canola oil\\n- 2 teaspoons vanilla extract\\n- 1 cup (120g) chopped walnuts (optional)\\n\\n**Instructions:**\\n\\n1. Preheat the oven to 350°F (180°C). Grease an 8-inch (20cm) square baking pan with non-stick cooking spray.\\n2. In a medium bowl, whisk together the cocoa powder, sugar, flour, salt, and baking powder.\\n3. In a separate bowl, whisk together the oil, vanilla extract, and chopped walnuts (if using).\\n4. Add the wet ingredients to the dry ingredients and stir until well combined.\\n5. Pour the batter into the prepared pan and smooth the top.\\n6. Bake for 25-30 minutes or until a toothpick inserted into the center comes out with a few moist crumbs.\\n7. Let the brownie cool completely in the pan before cutting into squares and serving.\\n\\nPlease note that this recipe uses canola oil instead of eggs and does not contain milk. However, if you have any other dietary restrictions or allergies, please let me know and I'll do my best to accommodate your needs.\",\n",
       " \"I'm happy to help you with that!\\n\\nHere's a vegan lentil taco recipe that avoids soy and its derivatives:\\n\\n**Title:** Vegan Lentil Tacos\\n\\n**Ingredients:**\\n\\n- 1 cup brown or green lentils, rinsed and drained\\n- 2 cups water\\n- 1 onion, diced\\n- 2 cloves garlic, minced\\n- 1 red bell pepper, diced\\n- 1 can (14.5 oz) diced tomatoes\\n- 1 teaspoon cumin\\n- 1 teaspoon smoked paprika\\n- 1/2 teaspoon salt\\n- 1/4 teaspoon black pepper\\n- 2 tablespoons olive oil\\n- 4 corn tortillas\\n- Chopped fresh cilantro, for garnish\\n- Lime wedges, for serving\\n\\n**Instructions:**\\n\\n1. In a medium saucepan, combine the lentils and water. Bring to a boil, then reduce the heat to a simmer and cook until the lentils are tender, about 20-25 minutes.\\n2. In a large skillet, heat the olive oil over medium-high heat. Add the onion, garlic, and red bell pepper. Cook, stirring occasionally, until the vegetables are tender, about 5-7 minutes.\\n3. Add the cooked lentils, diced tomatoes, cumin, smoked paprika, salt, and black pepper to the skillet. Stir to combine.\\n4. Warm the corn tortillas by wrapping them in a damp paper towel and microwaving for 20-30 seconds.\\n5. Assemble the tacos by spooning the lentil mixture onto a tortilla and topping with chopped cilantro and a squeeze of lime juice. Serve immediately.\\n\\nThis recipe is free from soy and its derivatives, and it's also vegan-friendly. I hope you enjoy it!\",\n",
       " '**Title:** Japanese-Style Vegetable Dumplings with Mango Chutney\\n\\n**Ingredients:**\\n\\n* 2 cups all-purpose flour\\n* 2 teaspoons baking powder\\n* 1 teaspoon Madras curry powder\\n* Kosher salt\\n* 3/4 cups water\\n* 1/2 cup canola oil\\n* 1/2 cup mangoes, diced\\n* 1/2 cup apple, diced\\n* 2 tablespoons brown sugar\\n* 1 tablespoon grated ginger\\n* 1/2 teaspoon hot pepper\\n* 1/4 cup vinegar\\n* 2 cloves garlic, minced\\n* 1/2 teaspoon ground cumin\\n* 1/2 teaspoon freshly ground black pepper\\n* 1/4 cup water\\n* Paprika, for garnish\\n* Fresh parsley leaves, for garnish\\n\\n**Instructions:**\\n\\n1. In a large mixing bowl, combine the flour, baking powder, curry powder, and salt.\\n2. Slowly add the water until the dough is well formed and soft but not sticky.\\n3. Knead the dough for 2 minutes on a lightly floured surface and then place it in a large bowl to rest for at least 15 minutes.\\n4. Cover the bowl with a moist cloth or flip the bowl over on a clean prep surface and let it sit until ready to use.\\n5. Heat the oil in a pot to 360°F.\\n6. Divide the dough into small balls and flatten each ball into a disk shape.\\n7. Place a spoonful of the mango chutney in the center of each disk and fold the dough over to form a half-moon shape, pressing the edges together to seal the dumpling.\\n8. Fry the dumplings in the hot oil until golden brown, about 2-3 minutes per side.\\n9. Remove the dumplings from the oil and place them on a paper towel-lined plate to drain excess oil.\\n10. Serve the dumplings warm or at room temperature with the mango chutney.\\n\\nNote: This recipe does not include any fish or crustacean allergens. However, please ensure that the canola oil used is free from cross-contamination with fish or crustacean products.']"
      ]
     },
     "execution_count": 78,
     "metadata": {},
     "output_type": "execute_result"
    }
   ],
   "source": [
    "generate_random_recipes() #dramatic prompt template with roles "
   ]
  },
  {
   "cell_type": "markdown",
   "id": "6f0ce3b1-2056-423e-986e-4834df1bf508",
   "metadata": {},
   "source": [
    "### Ragas Evaluation"
   ]
  },
  {
   "cell_type": "code",
   "execution_count": null,
   "id": "b6fafe54-d72d-44ba-895b-40db965cee79",
   "metadata": {},
   "outputs": [],
   "source": [
    "pip install pydantic==2.8"
   ]
  },
  {
   "cell_type": "code",
   "execution_count": 1,
   "id": "2ffec9f1-4494-498a-82e5-7c4e20cf36a3",
   "metadata": {},
   "outputs": [
    {
     "name": "stdout",
     "output_type": "stream",
     "text": [
      "Requirement already satisfied: ragas in /opt/conda/lib/python3.11/site-packages (0.2.1)\n",
      "Requirement already satisfied: numpy in /opt/conda/lib/python3.11/site-packages (from ragas) (1.26.4)\n",
      "Requirement already satisfied: datasets in /opt/conda/lib/python3.11/site-packages (from ragas) (2.21.0)\n",
      "Requirement already satisfied: tiktoken in /opt/conda/lib/python3.11/site-packages (from ragas) (0.8.0)\n",
      "Requirement already satisfied: langchain in /opt/conda/lib/python3.11/site-packages (from ragas) (0.1.14)\n",
      "Requirement already satisfied: langchain-core in /opt/conda/lib/python3.11/site-packages (from ragas) (0.1.52)\n",
      "Requirement already satisfied: langchain-community in /opt/conda/lib/python3.11/site-packages (from ragas) (0.0.38)\n",
      "Requirement already satisfied: langchain-openai in /opt/conda/lib/python3.11/site-packages (from ragas) (0.1.7)\n",
      "Requirement already satisfied: nest-asyncio in /opt/conda/lib/python3.11/site-packages (from ragas) (1.6.0)\n",
      "Requirement already satisfied: appdirs in /opt/conda/lib/python3.11/site-packages (from ragas) (1.4.4)\n",
      "Requirement already satisfied: pydantic>=2 in /opt/conda/lib/python3.11/site-packages (from ragas) (2.8.0)\n",
      "Requirement already satisfied: openai>1 in /opt/conda/lib/python3.11/site-packages (from ragas) (1.52.0)\n",
      "Requirement already satisfied: pysbd>=0.3.4 in /opt/conda/lib/python3.11/site-packages (from ragas) (0.3.4)\n",
      "Requirement already satisfied: anyio<5,>=3.5.0 in /opt/conda/lib/python3.11/site-packages (from openai>1->ragas) (4.4.0)\n",
      "Requirement already satisfied: distro<2,>=1.7.0 in /opt/conda/lib/python3.11/site-packages (from openai>1->ragas) (1.9.0)\n",
      "Requirement already satisfied: httpx<1,>=0.23.0 in /opt/conda/lib/python3.11/site-packages (from openai>1->ragas) (0.27.0)\n",
      "Requirement already satisfied: jiter<1,>=0.4.0 in /opt/conda/lib/python3.11/site-packages (from openai>1->ragas) (0.6.1)\n",
      "Requirement already satisfied: sniffio in /opt/conda/lib/python3.11/site-packages (from openai>1->ragas) (1.3.1)\n",
      "Requirement already satisfied: tqdm>4 in /opt/conda/lib/python3.11/site-packages (from openai>1->ragas) (4.66.5)\n",
      "Requirement already satisfied: typing-extensions<5,>=4.11 in /opt/conda/lib/python3.11/site-packages (from openai>1->ragas) (4.12.2)\n",
      "Requirement already satisfied: annotated-types>=0.4.0 in /opt/conda/lib/python3.11/site-packages (from pydantic>=2->ragas) (0.7.0)\n",
      "Requirement already satisfied: pydantic-core==2.20.0 in /opt/conda/lib/python3.11/site-packages (from pydantic>=2->ragas) (2.20.0)\n",
      "Requirement already satisfied: filelock in /opt/conda/lib/python3.11/site-packages (from datasets->ragas) (3.15.4)\n",
      "Requirement already satisfied: pyarrow>=15.0.0 in /opt/conda/lib/python3.11/site-packages (from datasets->ragas) (15.0.2)\n",
      "Requirement already satisfied: dill<0.3.9,>=0.3.0 in /opt/conda/lib/python3.11/site-packages (from datasets->ragas) (0.3.8)\n",
      "Requirement already satisfied: pandas in /opt/conda/lib/python3.11/site-packages (from datasets->ragas) (2.2.2)\n",
      "Requirement already satisfied: requests>=2.32.2 in /opt/conda/lib/python3.11/site-packages (from datasets->ragas) (2.32.3)\n",
      "Requirement already satisfied: xxhash in /opt/conda/lib/python3.11/site-packages (from datasets->ragas) (3.5.0)\n",
      "Requirement already satisfied: multiprocess in /opt/conda/lib/python3.11/site-packages (from datasets->ragas) (0.70.16)\n",
      "Requirement already satisfied: fsspec<=2024.6.1,>=2023.1.0 in /opt/conda/lib/python3.11/site-packages (from fsspec[http]<=2024.6.1,>=2023.1.0->datasets->ragas) (2023.6.0)\n",
      "Requirement already satisfied: aiohttp in /opt/conda/lib/python3.11/site-packages (from datasets->ragas) (3.9.5)\n",
      "Requirement already satisfied: huggingface-hub>=0.21.2 in /opt/conda/lib/python3.11/site-packages (from datasets->ragas) (0.24.5)\n",
      "Requirement already satisfied: packaging in /opt/conda/lib/python3.11/site-packages (from datasets->ragas) (23.2)\n",
      "Requirement already satisfied: pyyaml>=5.1 in /opt/conda/lib/python3.11/site-packages (from datasets->ragas) (6.0.2)\n",
      "Requirement already satisfied: SQLAlchemy<3,>=1.4 in /opt/conda/lib/python3.11/site-packages (from langchain->ragas) (2.0.32)\n",
      "Requirement already satisfied: dataclasses-json<0.7,>=0.5.7 in /opt/conda/lib/python3.11/site-packages (from langchain->ragas) (0.6.7)\n",
      "Requirement already satisfied: jsonpatch<2.0,>=1.33 in /opt/conda/lib/python3.11/site-packages (from langchain->ragas) (1.33)\n",
      "Requirement already satisfied: langchain-text-splitters<0.1,>=0.0.1 in /opt/conda/lib/python3.11/site-packages (from langchain->ragas) (0.0.2)\n",
      "Requirement already satisfied: langsmith<0.2.0,>=0.1.17 in /opt/conda/lib/python3.11/site-packages (from langchain->ragas) (0.1.99)\n",
      "Requirement already satisfied: tenacity<9.0.0,>=8.1.0 in /opt/conda/lib/python3.11/site-packages (from langchain->ragas) (8.5.0)\n",
      "Requirement already satisfied: regex>=2022.1.18 in /opt/conda/lib/python3.11/site-packages (from tiktoken->ragas) (2024.7.24)\n",
      "Requirement already satisfied: aiosignal>=1.1.2 in /opt/conda/lib/python3.11/site-packages (from aiohttp->datasets->ragas) (1.3.1)\n",
      "Requirement already satisfied: attrs>=17.3.0 in /opt/conda/lib/python3.11/site-packages (from aiohttp->datasets->ragas) (23.2.0)\n",
      "Requirement already satisfied: frozenlist>=1.1.1 in /opt/conda/lib/python3.11/site-packages (from aiohttp->datasets->ragas) (1.4.1)\n",
      "Requirement already satisfied: multidict<7.0,>=4.5 in /opt/conda/lib/python3.11/site-packages (from aiohttp->datasets->ragas) (6.0.5)\n",
      "Requirement already satisfied: yarl<2.0,>=1.0 in /opt/conda/lib/python3.11/site-packages (from aiohttp->datasets->ragas) (1.9.4)\n",
      "Requirement already satisfied: idna>=2.8 in /opt/conda/lib/python3.11/site-packages (from anyio<5,>=3.5.0->openai>1->ragas) (3.7)\n",
      "Requirement already satisfied: marshmallow<4.0.0,>=3.18.0 in /opt/conda/lib/python3.11/site-packages (from dataclasses-json<0.7,>=0.5.7->langchain->ragas) (3.21.3)\n",
      "Requirement already satisfied: typing-inspect<1,>=0.4.0 in /opt/conda/lib/python3.11/site-packages (from dataclasses-json<0.7,>=0.5.7->langchain->ragas) (0.9.0)\n",
      "Requirement already satisfied: certifi in /opt/conda/lib/python3.11/site-packages (from httpx<1,>=0.23.0->openai>1->ragas) (2024.7.4)\n",
      "Requirement already satisfied: httpcore==1.* in /opt/conda/lib/python3.11/site-packages (from httpx<1,>=0.23.0->openai>1->ragas) (1.0.5)\n",
      "Requirement already satisfied: h11<0.15,>=0.13 in /opt/conda/lib/python3.11/site-packages (from httpcore==1.*->httpx<1,>=0.23.0->openai>1->ragas) (0.14.0)\n",
      "Requirement already satisfied: jsonpointer>=1.9 in /opt/conda/lib/python3.11/site-packages (from jsonpatch<2.0,>=1.33->langchain->ragas) (3.0.0)\n",
      "Requirement already satisfied: orjson<4.0.0,>=3.9.14 in /opt/conda/lib/python3.11/site-packages (from langsmith<0.2.0,>=0.1.17->langchain->ragas) (3.10.7)\n",
      "Requirement already satisfied: charset-normalizer<4,>=2 in /opt/conda/lib/python3.11/site-packages (from requests>=2.32.2->datasets->ragas) (3.3.2)\n",
      "Requirement already satisfied: urllib3<3,>=1.21.1 in /opt/conda/lib/python3.11/site-packages (from requests>=2.32.2->datasets->ragas) (1.26.19)\n",
      "Requirement already satisfied: greenlet!=0.4.17 in /opt/conda/lib/python3.11/site-packages (from SQLAlchemy<3,>=1.4->langchain->ragas) (3.0.3)\n",
      "Requirement already satisfied: python-dateutil>=2.8.2 in /opt/conda/lib/python3.11/site-packages (from pandas->datasets->ragas) (2.9.0)\n",
      "Requirement already satisfied: pytz>=2020.1 in /opt/conda/lib/python3.11/site-packages (from pandas->datasets->ragas) (2023.3)\n",
      "Requirement already satisfied: tzdata>=2022.7 in /opt/conda/lib/python3.11/site-packages (from pandas->datasets->ragas) (2024.1)\n",
      "Requirement already satisfied: six>=1.5 in /opt/conda/lib/python3.11/site-packages (from python-dateutil>=2.8.2->pandas->datasets->ragas) (1.16.0)\n",
      "Requirement already satisfied: mypy-extensions>=0.3.0 in /opt/conda/lib/python3.11/site-packages (from typing-inspect<1,>=0.4.0->dataclasses-json<0.7,>=0.5.7->langchain->ragas) (1.0.0)\n",
      "Note: you may need to restart the kernel to use updated packages.\n"
     ]
    }
   ],
   "source": [
    "pip install ragas"
   ]
  },
  {
   "cell_type": "code",
   "execution_count": 43,
   "id": "6d08363a-09b5-438c-870f-0f71945aa551",
   "metadata": {},
   "outputs": [],
   "source": [
    "import ragas\n",
    "from datasets import Dataset\n",
    "# os.environ[\"OPENAI_API_KEY\"] = userdata.get('OPENAI_API_KEY')\n",
    "from ragas.metrics import (\n",
    "    faithfulness,\n",
    "    answer_relevancy,\n",
    "    context_precision\n",
    ")"
   ]
  },
  {
   "cell_type": "code",
   "execution_count": 57,
   "id": "3d272c0a-1a59-4bd9-9513-0b5617af48e8",
   "metadata": {},
   "outputs": [
    {
     "data": {
      "text/plain": [
       "Dataset({\n",
       "    features: ['question', 'answer'],\n",
       "    num_rows: 1\n",
       "})"
      ]
     },
     "execution_count": 57,
     "metadata": {},
     "output_type": "execute_result"
    }
   ],
   "source": [
    "questions = [query] #Ragas only takes lists\n",
    "# contexts = result['source_documents']\n",
    "answer = [result['result']]\n",
    "\n",
    "import ast\n",
    "# contexts = [ast.literal_eval(item) for item in contexts] # to make it a list of lists for Ragas\n",
    "\n",
    "data = {\n",
    "    \"question\": questions,\n",
    "    \"answer\": answer,\n",
    "    # \"contexts\": contexts,\n",
    "}\n",
    "\n",
    "dataset = Dataset.from_dict(data)\n",
    "dataset"
   ]
  },
  {
   "cell_type": "code",
   "execution_count": 84,
   "id": "c519db60-8631-489e-af26-29c2e1178fc8",
   "metadata": {},
   "outputs": [],
   "source": [
    "#Still figuring out the steps to store an environment variable that isn't in plaintext\n",
    "# import os"
   ]
  },
  {
   "cell_type": "code",
   "execution_count": 89,
   "id": "d27e1c44-2945-4bdd-9d4a-72dd88193e36",
   "metadata": {},
   "outputs": [],
   "source": [
    "# api_key = os.environ.get('OPENAI_API_KEY')"
   ]
  },
  {
   "cell_type": "code",
   "execution_count": 95,
   "id": "dfc4af93-0bf5-4a41-a711-1458d0697ab5",
   "metadata": {
    "scrolled": true
   },
   "outputs": [
    {
     "name": "stdout",
     "output_type": "stream",
     "text": [
      "env: OPENAI_API_KEY=#Insert open AI API key here\n"
     ]
    }
   ],
   "source": [
    "%env OPENAI_API_KEY=#Insert open AI API key here"
   ]
  },
  {
   "cell_type": "code",
   "execution_count": 94,
   "id": "eef7c234-19b3-4dda-a5ec-bdd59288d846",
   "metadata": {},
   "outputs": [
    {
     "data": {
      "application/vnd.jupyter.widget-view+json": {
       "model_id": "2aa17a6df34b464c944d803100dd69ef",
       "version_major": 2,
       "version_minor": 0
      },
      "text/plain": [
       "Evaluating:   0%|          | 0/1 [00:00<?, ?it/s]"
      ]
     },
     "metadata": {},
     "output_type": "display_data"
    },
    {
     "data": {
      "text/plain": [
       "{'answer_relevancy': 0.8959}"
      ]
     },
     "execution_count": 94,
     "metadata": {},
     "output_type": "execute_result"
    }
   ],
   "source": [
    "score = ragas.evaluate(dataset,metrics=[answer_relevancy], raise_exceptions = False)\n",
    "score"
   ]
  },
  {
   "cell_type": "code",
   "execution_count": null,
   "id": "31f20808-4dc8-4d2f-b6e4-9b7dcbcd9438",
   "metadata": {},
   "outputs": [],
   "source": [
    "# TODO: Other Ragas metrics as well"
   ]
  }
 ],
 "metadata": {
  "colab": {
   "provenance": []
  },
  "kernelspec": {
   "display_name": "Python 3 (ipykernel)",
   "language": "python",
   "name": "python3"
  },
  "language_info": {
   "codemirror_mode": {
    "name": "ipython",
    "version": 3
   },
   "file_extension": ".py",
   "mimetype": "text/x-python",
   "name": "python",
   "nbconvert_exporter": "python",
   "pygments_lexer": "ipython3",
   "version": "3.11.9"
  }
 },
 "nbformat": 4,
 "nbformat_minor": 5
}
