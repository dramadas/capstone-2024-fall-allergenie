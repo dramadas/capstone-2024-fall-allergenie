{
 "cells": [
  {
   "cell_type": "markdown",
   "id": "J9y86_KPlUm6",
   "metadata": {
    "id": "J9y86_KPlUm6"
   },
   "source": [
    "**Resource:** https://github.com/aws-samples/Meta-Llama-on-AWS/blob/main/RAG-recipes/llama3-rag-langchain-smjs.ipynb"
   ]
  },
  {
   "cell_type": "markdown",
   "id": "lLuKPKGulaE7",
   "metadata": {
    "id": "lLuKPKGulaE7"
   },
   "source": [
    "* Embedding Model Used: *HuggingFace BGE Large EN Embedding model*\n",
    "* LLM Used: *HuggingFace Llama 3 8b Instruct LLM model*"
   ]
  },
  {
   "cell_type": "code",
   "execution_count": 6,
   "id": "7669e00e-f81b-4054-b7c7-dbf208dd3c7a",
   "metadata": {
    "id": "7669e00e-f81b-4054-b7c7-dbf208dd3c7a",
    "outputId": "59d7c039-b20b-4433-c1f5-543dcb6a6ea0"
   },
   "outputs": [
    {
     "name": "stdout",
     "output_type": "stream",
     "text": [
      "Overwriting requirements.txt\n"
     ]
    }
   ],
   "source": [
    "%%writefile requirements.txt\n",
    "langchain==0.1.14\n",
    "pypdf==4.1.0\n",
    "faiss-cpu==1.8.0\n",
    "boto3==1.34.58\n",
    "sqlalchemy==2.0.29"
   ]
  },
  {
   "cell_type": "code",
   "execution_count": 7,
   "id": "ce21f73c-4334-4d0c-9cbd-f9502a44fb96",
   "metadata": {
    "id": "ce21f73c-4334-4d0c-9cbd-f9502a44fb96",
    "outputId": "7b92100a-28dc-418d-c1be-309e9b4b487d"
   },
   "outputs": [
    {
     "name": "stdout",
     "output_type": "stream",
     "text": [
      "2.0.29\n"
     ]
    }
   ],
   "source": [
    "import sqlalchemy\n",
    "print(sqlalchemy.__version__)"
   ]
  },
  {
   "cell_type": "code",
   "execution_count": 8,
   "id": "755e8bfb-b5d7-4f27-9561-ecd91f3397bf",
   "metadata": {
    "id": "755e8bfb-b5d7-4f27-9561-ecd91f3397bf",
    "outputId": "bfbbac69-0c30-4f48-c029-e840b9c9933a"
   },
   "outputs": [
    {
     "name": "stdout",
     "output_type": "stream",
     "text": [
      "Requirement already satisfied: nvidia-ml-py3==7.352.0 in /opt/conda/lib/python3.11/site-packages (7.352.0)\n",
      "Note: you may need to restart the kernel to use updated packages.\n"
     ]
    }
   ],
   "source": [
    "pip install nvidia-ml-py3==7.352.0"
   ]
  },
  {
   "cell_type": "code",
   "execution_count": 9,
   "id": "2fede8f3-4749-47fa-8905-89487c720eb1",
   "metadata": {
    "id": "2fede8f3-4749-47fa-8905-89487c720eb1",
    "outputId": "9e7879a8-277f-46be-9dce-53b03de83d6f"
   },
   "outputs": [
    {
     "name": "stdout",
     "output_type": "stream",
     "text": [
      "Requirement already satisfied: sqlparse==0.5.0 in /opt/conda/lib/python3.11/site-packages (0.5.0)\n",
      "Note: you may need to restart the kernel to use updated packages.\n"
     ]
    }
   ],
   "source": [
    "pip install sqlparse==0.5.0"
   ]
  },
  {
   "cell_type": "code",
   "execution_count": 10,
   "id": "381349fb-f83e-4d62-b00b-0404204fb4ff",
   "metadata": {
    "id": "381349fb-f83e-4d62-b00b-0404204fb4ff",
    "outputId": "e8b912b4-4c64-40cc-e374-9e072b9ba61d"
   },
   "outputs": [
    {
     "name": "stdout",
     "output_type": "stream",
     "text": [
      "Requirement already satisfied: scikit-learn==1.3.0 in /opt/conda/lib/python3.11/site-packages (1.3.0)\n",
      "Requirement already satisfied: numpy>=1.17.3 in /opt/conda/lib/python3.11/site-packages (from scikit-learn==1.3.0) (1.26.4)\n",
      "Requirement already satisfied: scipy>=1.5.0 in /opt/conda/lib/python3.11/site-packages (from scikit-learn==1.3.0) (1.12.0)\n",
      "Requirement already satisfied: joblib>=1.1.1 in /opt/conda/lib/python3.11/site-packages (from scikit-learn==1.3.0) (1.4.2)\n",
      "Requirement already satisfied: threadpoolctl>=2.0.0 in /opt/conda/lib/python3.11/site-packages (from scikit-learn==1.3.0) (3.5.0)\n",
      "Note: you may need to restart the kernel to use updated packages.\n"
     ]
    }
   ],
   "source": [
    "pip install scikit-learn==1.3.0"
   ]
  },
  {
   "cell_type": "code",
   "execution_count": 11,
   "id": "28ecaeec-934a-44e5-909c-fa3606b3f97e",
   "metadata": {
    "id": "28ecaeec-934a-44e5-909c-fa3606b3f97e",
    "outputId": "cc86bc94-9377-453d-b212-e5c6ba186497"
   },
   "outputs": [
    {
     "name": "stdout",
     "output_type": "stream",
     "text": [
      "Requirement already satisfied: omegaconf==2.2.3 in /opt/conda/lib/python3.11/site-packages (2.2.3)\n",
      "Requirement already satisfied: antlr4-python3-runtime==4.9.* in /opt/conda/lib/python3.11/site-packages (from omegaconf==2.2.3) (4.9.3)\n",
      "Requirement already satisfied: PyYAML>=5.1.0 in /opt/conda/lib/python3.11/site-packages (from omegaconf==2.2.3) (6.0.2)\n",
      "Note: you may need to restart the kernel to use updated packages.\n"
     ]
    }
   ],
   "source": [
    "pip install omegaconf==2.2.3"
   ]
  },
  {
   "cell_type": "code",
   "execution_count": 12,
   "id": "58c5f5d9-6e4c-4652-896f-0620fe868df9",
   "metadata": {
    "id": "58c5f5d9-6e4c-4652-896f-0620fe868df9",
    "outputId": "b22f02ab-ba73-49ad-c3d8-2ffeb37067a4"
   },
   "outputs": [
    {
     "name": "stdout",
     "output_type": "stream",
     "text": [
      "Requirement already satisfied: gluonts==0.15.1 in /opt/conda/lib/python3.11/site-packages (0.15.1)\n",
      "Requirement already satisfied: numpy~=1.16 in /opt/conda/lib/python3.11/site-packages (from gluonts==0.15.1) (1.26.4)\n",
      "Requirement already satisfied: pandas<3,>=1.0 in /opt/conda/lib/python3.11/site-packages (from gluonts==0.15.1) (2.2.2)\n",
      "Requirement already satisfied: pydantic<3,>=1.7 in /opt/conda/lib/python3.11/site-packages (from gluonts==0.15.1) (2.8.0)\n",
      "Requirement already satisfied: tqdm~=4.23 in /opt/conda/lib/python3.11/site-packages (from gluonts==0.15.1) (4.66.5)\n",
      "Requirement already satisfied: toolz~=0.10 in /opt/conda/lib/python3.11/site-packages (from gluonts==0.15.1) (0.12.1)\n",
      "Requirement already satisfied: typing-extensions~=4.0 in /opt/conda/lib/python3.11/site-packages (from gluonts==0.15.1) (4.12.2)\n",
      "Requirement already satisfied: python-dateutil>=2.8.2 in /opt/conda/lib/python3.11/site-packages (from pandas<3,>=1.0->gluonts==0.15.1) (2.9.0)\n",
      "Requirement already satisfied: pytz>=2020.1 in /opt/conda/lib/python3.11/site-packages (from pandas<3,>=1.0->gluonts==0.15.1) (2023.3)\n",
      "Requirement already satisfied: tzdata>=2022.7 in /opt/conda/lib/python3.11/site-packages (from pandas<3,>=1.0->gluonts==0.15.1) (2024.1)\n",
      "Requirement already satisfied: annotated-types>=0.4.0 in /opt/conda/lib/python3.11/site-packages (from pydantic<3,>=1.7->gluonts==0.15.1) (0.7.0)\n",
      "Requirement already satisfied: pydantic-core==2.20.0 in /opt/conda/lib/python3.11/site-packages (from pydantic<3,>=1.7->gluonts==0.15.1) (2.20.0)\n",
      "Requirement already satisfied: six>=1.5 in /opt/conda/lib/python3.11/site-packages (from python-dateutil>=2.8.2->pandas<3,>=1.0->gluonts==0.15.1) (1.16.0)\n",
      "Note: you may need to restart the kernel to use updated packages.\n"
     ]
    }
   ],
   "source": [
    "pip install gluonts==0.15.1"
   ]
  },
  {
   "cell_type": "code",
   "execution_count": 13,
   "id": "5101aaa5-ca70-4840-b647-133cf2bd3274",
   "metadata": {
    "id": "5101aaa5-ca70-4840-b647-133cf2bd3274",
    "outputId": "e22cf26a-e7cd-4b57-e6a7-d6ee4f8e9d91"
   },
   "outputs": [
    {
     "name": "stdout",
     "output_type": "stream",
     "text": [
      "Requirement already satisfied: langchain==0.1.14 in /opt/conda/lib/python3.11/site-packages (0.1.14)\n",
      "Requirement already satisfied: PyYAML>=5.3 in /opt/conda/lib/python3.11/site-packages (from langchain==0.1.14) (6.0.2)\n",
      "Requirement already satisfied: SQLAlchemy<3,>=1.4 in /opt/conda/lib/python3.11/site-packages (from langchain==0.1.14) (2.0.32)\n",
      "Requirement already satisfied: aiohttp<4.0.0,>=3.8.3 in /opt/conda/lib/python3.11/site-packages (from langchain==0.1.14) (3.9.5)\n",
      "Requirement already satisfied: dataclasses-json<0.7,>=0.5.7 in /opt/conda/lib/python3.11/site-packages (from langchain==0.1.14) (0.6.7)\n",
      "Requirement already satisfied: jsonpatch<2.0,>=1.33 in /opt/conda/lib/python3.11/site-packages (from langchain==0.1.14) (1.33)\n",
      "Requirement already satisfied: langchain-community<0.1,>=0.0.30 in /opt/conda/lib/python3.11/site-packages (from langchain==0.1.14) (0.0.38)\n",
      "Requirement already satisfied: langchain-core<0.2.0,>=0.1.37 in /opt/conda/lib/python3.11/site-packages (from langchain==0.1.14) (0.1.52)\n",
      "Requirement already satisfied: langchain-text-splitters<0.1,>=0.0.1 in /opt/conda/lib/python3.11/site-packages (from langchain==0.1.14) (0.0.2)\n",
      "Requirement already satisfied: langsmith<0.2.0,>=0.1.17 in /opt/conda/lib/python3.11/site-packages (from langchain==0.1.14) (0.1.99)\n",
      "Requirement already satisfied: numpy<2,>=1 in /opt/conda/lib/python3.11/site-packages (from langchain==0.1.14) (1.26.4)\n",
      "Requirement already satisfied: pydantic<3,>=1 in /opt/conda/lib/python3.11/site-packages (from langchain==0.1.14) (2.8.0)\n",
      "Requirement already satisfied: requests<3,>=2 in /opt/conda/lib/python3.11/site-packages (from langchain==0.1.14) (2.32.3)\n",
      "Requirement already satisfied: tenacity<9.0.0,>=8.1.0 in /opt/conda/lib/python3.11/site-packages (from langchain==0.1.14) (8.5.0)\n",
      "Requirement already satisfied: aiosignal>=1.1.2 in /opt/conda/lib/python3.11/site-packages (from aiohttp<4.0.0,>=3.8.3->langchain==0.1.14) (1.3.1)\n",
      "Requirement already satisfied: attrs>=17.3.0 in /opt/conda/lib/python3.11/site-packages (from aiohttp<4.0.0,>=3.8.3->langchain==0.1.14) (23.2.0)\n",
      "Requirement already satisfied: frozenlist>=1.1.1 in /opt/conda/lib/python3.11/site-packages (from aiohttp<4.0.0,>=3.8.3->langchain==0.1.14) (1.4.1)\n",
      "Requirement already satisfied: multidict<7.0,>=4.5 in /opt/conda/lib/python3.11/site-packages (from aiohttp<4.0.0,>=3.8.3->langchain==0.1.14) (6.0.5)\n",
      "Requirement already satisfied: yarl<2.0,>=1.0 in /opt/conda/lib/python3.11/site-packages (from aiohttp<4.0.0,>=3.8.3->langchain==0.1.14) (1.9.4)\n",
      "Requirement already satisfied: marshmallow<4.0.0,>=3.18.0 in /opt/conda/lib/python3.11/site-packages (from dataclasses-json<0.7,>=0.5.7->langchain==0.1.14) (3.21.3)\n",
      "Requirement already satisfied: typing-inspect<1,>=0.4.0 in /opt/conda/lib/python3.11/site-packages (from dataclasses-json<0.7,>=0.5.7->langchain==0.1.14) (0.9.0)\n",
      "Requirement already satisfied: jsonpointer>=1.9 in /opt/conda/lib/python3.11/site-packages (from jsonpatch<2.0,>=1.33->langchain==0.1.14) (3.0.0)\n",
      "Requirement already satisfied: packaging<24.0,>=23.2 in /opt/conda/lib/python3.11/site-packages (from langchain-core<0.2.0,>=0.1.37->langchain==0.1.14) (23.2)\n",
      "Requirement already satisfied: orjson<4.0.0,>=3.9.14 in /opt/conda/lib/python3.11/site-packages (from langsmith<0.2.0,>=0.1.17->langchain==0.1.14) (3.10.7)\n",
      "Requirement already satisfied: annotated-types>=0.4.0 in /opt/conda/lib/python3.11/site-packages (from pydantic<3,>=1->langchain==0.1.14) (0.7.0)\n",
      "Requirement already satisfied: pydantic-core==2.20.0 in /opt/conda/lib/python3.11/site-packages (from pydantic<3,>=1->langchain==0.1.14) (2.20.0)\n",
      "Requirement already satisfied: typing-extensions>=4.6.1 in /opt/conda/lib/python3.11/site-packages (from pydantic<3,>=1->langchain==0.1.14) (4.12.2)\n",
      "Requirement already satisfied: charset-normalizer<4,>=2 in /opt/conda/lib/python3.11/site-packages (from requests<3,>=2->langchain==0.1.14) (3.3.2)\n",
      "Requirement already satisfied: idna<4,>=2.5 in /opt/conda/lib/python3.11/site-packages (from requests<3,>=2->langchain==0.1.14) (3.7)\n",
      "Requirement already satisfied: urllib3<3,>=1.21.1 in /opt/conda/lib/python3.11/site-packages (from requests<3,>=2->langchain==0.1.14) (1.26.19)\n",
      "Requirement already satisfied: certifi>=2017.4.17 in /opt/conda/lib/python3.11/site-packages (from requests<3,>=2->langchain==0.1.14) (2024.7.4)\n",
      "Requirement already satisfied: greenlet!=0.4.17 in /opt/conda/lib/python3.11/site-packages (from SQLAlchemy<3,>=1.4->langchain==0.1.14) (3.0.3)\n",
      "Requirement already satisfied: mypy-extensions>=0.3.0 in /opt/conda/lib/python3.11/site-packages (from typing-inspect<1,>=0.4.0->dataclasses-json<0.7,>=0.5.7->langchain==0.1.14) (1.0.0)\n",
      "Note: you may need to restart the kernel to use updated packages.\n"
     ]
    }
   ],
   "source": [
    "pip install langchain==0.1.14"
   ]
  },
  {
   "cell_type": "code",
   "execution_count": 14,
   "id": "83c3eb82-3e37-4f43-bb7e-88d5bec7f434",
   "metadata": {
    "id": "83c3eb82-3e37-4f43-bb7e-88d5bec7f434",
    "outputId": "72386820-87ec-4499-fb8c-6741bfa83559"
   },
   "outputs": [
    {
     "name": "stdout",
     "output_type": "stream",
     "text": [
      "Requirement already satisfied: boto3==1.34.58 in /opt/conda/lib/python3.11/site-packages (1.34.58)\n",
      "Requirement already satisfied: botocore<1.35.0,>=1.34.58 in /opt/conda/lib/python3.11/site-packages (from boto3==1.34.58) (1.34.131)\n",
      "Requirement already satisfied: jmespath<2.0.0,>=0.7.1 in /opt/conda/lib/python3.11/site-packages (from boto3==1.34.58) (1.0.1)\n",
      "Requirement already satisfied: s3transfer<0.11.0,>=0.10.0 in /opt/conda/lib/python3.11/site-packages (from boto3==1.34.58) (0.10.2)\n",
      "Requirement already satisfied: python-dateutil<3.0.0,>=2.1 in /opt/conda/lib/python3.11/site-packages (from botocore<1.35.0,>=1.34.58->boto3==1.34.58) (2.9.0)\n",
      "Requirement already satisfied: urllib3!=2.2.0,<3,>=1.25.4 in /opt/conda/lib/python3.11/site-packages (from botocore<1.35.0,>=1.34.58->boto3==1.34.58) (1.26.19)\n",
      "Requirement already satisfied: six>=1.5 in /opt/conda/lib/python3.11/site-packages (from python-dateutil<3.0.0,>=2.1->botocore<1.35.0,>=1.34.58->boto3==1.34.58) (1.16.0)\n",
      "Note: you may need to restart the kernel to use updated packages.\n"
     ]
    }
   ],
   "source": [
    "pip install boto3==1.34.58"
   ]
  },
  {
   "cell_type": "code",
   "execution_count": 15,
   "id": "f2db44b7-8505-42eb-86bb-3abac2b1b1db",
   "metadata": {
    "id": "f2db44b7-8505-42eb-86bb-3abac2b1b1db",
    "outputId": "a652d5bf-9732-4125-ccae-0de6164e0d0a"
   },
   "outputs": [
    {
     "name": "stdout",
     "output_type": "stream",
     "text": [
      "Requirement already satisfied: langchain==0.1.14 in /opt/conda/lib/python3.11/site-packages (from -r requirements.txt (line 1)) (0.1.14)\n",
      "Requirement already satisfied: pypdf==4.1.0 in /opt/conda/lib/python3.11/site-packages (from -r requirements.txt (line 2)) (4.1.0)\n",
      "Requirement already satisfied: faiss-cpu==1.8.0 in /opt/conda/lib/python3.11/site-packages (from -r requirements.txt (line 3)) (1.8.0)\n",
      "Requirement already satisfied: boto3==1.34.58 in /opt/conda/lib/python3.11/site-packages (from -r requirements.txt (line 4)) (1.34.58)\n",
      "Collecting sqlalchemy==2.0.29 (from -r requirements.txt (line 5))\n",
      "  Using cached SQLAlchemy-2.0.29-cp311-cp311-manylinux_2_17_x86_64.manylinux2014_x86_64.whl.metadata (9.6 kB)\n",
      "Requirement already satisfied: PyYAML>=5.3 in /opt/conda/lib/python3.11/site-packages (from langchain==0.1.14->-r requirements.txt (line 1)) (6.0.2)\n",
      "Requirement already satisfied: aiohttp<4.0.0,>=3.8.3 in /opt/conda/lib/python3.11/site-packages (from langchain==0.1.14->-r requirements.txt (line 1)) (3.9.5)\n",
      "Requirement already satisfied: dataclasses-json<0.7,>=0.5.7 in /opt/conda/lib/python3.11/site-packages (from langchain==0.1.14->-r requirements.txt (line 1)) (0.6.7)\n",
      "Requirement already satisfied: jsonpatch<2.0,>=1.33 in /opt/conda/lib/python3.11/site-packages (from langchain==0.1.14->-r requirements.txt (line 1)) (1.33)\n",
      "Requirement already satisfied: langchain-community<0.1,>=0.0.30 in /opt/conda/lib/python3.11/site-packages (from langchain==0.1.14->-r requirements.txt (line 1)) (0.0.38)\n",
      "Requirement already satisfied: langchain-core<0.2.0,>=0.1.37 in /opt/conda/lib/python3.11/site-packages (from langchain==0.1.14->-r requirements.txt (line 1)) (0.1.52)\n",
      "Requirement already satisfied: langchain-text-splitters<0.1,>=0.0.1 in /opt/conda/lib/python3.11/site-packages (from langchain==0.1.14->-r requirements.txt (line 1)) (0.0.2)\n",
      "Requirement already satisfied: langsmith<0.2.0,>=0.1.17 in /opt/conda/lib/python3.11/site-packages (from langchain==0.1.14->-r requirements.txt (line 1)) (0.1.99)\n",
      "Requirement already satisfied: numpy<2,>=1 in /opt/conda/lib/python3.11/site-packages (from langchain==0.1.14->-r requirements.txt (line 1)) (1.26.4)\n",
      "Requirement already satisfied: pydantic<3,>=1 in /opt/conda/lib/python3.11/site-packages (from langchain==0.1.14->-r requirements.txt (line 1)) (2.8.0)\n",
      "Requirement already satisfied: requests<3,>=2 in /opt/conda/lib/python3.11/site-packages (from langchain==0.1.14->-r requirements.txt (line 1)) (2.32.3)\n",
      "Requirement already satisfied: tenacity<9.0.0,>=8.1.0 in /opt/conda/lib/python3.11/site-packages (from langchain==0.1.14->-r requirements.txt (line 1)) (8.5.0)\n",
      "Requirement already satisfied: botocore<1.35.0,>=1.34.58 in /opt/conda/lib/python3.11/site-packages (from boto3==1.34.58->-r requirements.txt (line 4)) (1.34.131)\n",
      "Requirement already satisfied: jmespath<2.0.0,>=0.7.1 in /opt/conda/lib/python3.11/site-packages (from boto3==1.34.58->-r requirements.txt (line 4)) (1.0.1)\n",
      "Requirement already satisfied: s3transfer<0.11.0,>=0.10.0 in /opt/conda/lib/python3.11/site-packages (from boto3==1.34.58->-r requirements.txt (line 4)) (0.10.2)\n",
      "Requirement already satisfied: typing-extensions>=4.6.0 in /opt/conda/lib/python3.11/site-packages (from sqlalchemy==2.0.29->-r requirements.txt (line 5)) (4.12.2)\n",
      "Requirement already satisfied: greenlet!=0.4.17 in /opt/conda/lib/python3.11/site-packages (from sqlalchemy==2.0.29->-r requirements.txt (line 5)) (3.0.3)\n",
      "Requirement already satisfied: aiosignal>=1.1.2 in /opt/conda/lib/python3.11/site-packages (from aiohttp<4.0.0,>=3.8.3->langchain==0.1.14->-r requirements.txt (line 1)) (1.3.1)\n",
      "Requirement already satisfied: attrs>=17.3.0 in /opt/conda/lib/python3.11/site-packages (from aiohttp<4.0.0,>=3.8.3->langchain==0.1.14->-r requirements.txt (line 1)) (23.2.0)\n",
      "Requirement already satisfied: frozenlist>=1.1.1 in /opt/conda/lib/python3.11/site-packages (from aiohttp<4.0.0,>=3.8.3->langchain==0.1.14->-r requirements.txt (line 1)) (1.4.1)\n",
      "Requirement already satisfied: multidict<7.0,>=4.5 in /opt/conda/lib/python3.11/site-packages (from aiohttp<4.0.0,>=3.8.3->langchain==0.1.14->-r requirements.txt (line 1)) (6.0.5)\n",
      "Requirement already satisfied: yarl<2.0,>=1.0 in /opt/conda/lib/python3.11/site-packages (from aiohttp<4.0.0,>=3.8.3->langchain==0.1.14->-r requirements.txt (line 1)) (1.9.4)\n",
      "Requirement already satisfied: python-dateutil<3.0.0,>=2.1 in /opt/conda/lib/python3.11/site-packages (from botocore<1.35.0,>=1.34.58->boto3==1.34.58->-r requirements.txt (line 4)) (2.9.0)\n",
      "Requirement already satisfied: urllib3!=2.2.0,<3,>=1.25.4 in /opt/conda/lib/python3.11/site-packages (from botocore<1.35.0,>=1.34.58->boto3==1.34.58->-r requirements.txt (line 4)) (1.26.19)\n",
      "Requirement already satisfied: marshmallow<4.0.0,>=3.18.0 in /opt/conda/lib/python3.11/site-packages (from dataclasses-json<0.7,>=0.5.7->langchain==0.1.14->-r requirements.txt (line 1)) (3.21.3)\n",
      "Requirement already satisfied: typing-inspect<1,>=0.4.0 in /opt/conda/lib/python3.11/site-packages (from dataclasses-json<0.7,>=0.5.7->langchain==0.1.14->-r requirements.txt (line 1)) (0.9.0)\n",
      "Requirement already satisfied: jsonpointer>=1.9 in /opt/conda/lib/python3.11/site-packages (from jsonpatch<2.0,>=1.33->langchain==0.1.14->-r requirements.txt (line 1)) (3.0.0)\n",
      "Requirement already satisfied: packaging<24.0,>=23.2 in /opt/conda/lib/python3.11/site-packages (from langchain-core<0.2.0,>=0.1.37->langchain==0.1.14->-r requirements.txt (line 1)) (23.2)\n",
      "Requirement already satisfied: orjson<4.0.0,>=3.9.14 in /opt/conda/lib/python3.11/site-packages (from langsmith<0.2.0,>=0.1.17->langchain==0.1.14->-r requirements.txt (line 1)) (3.10.7)\n",
      "Requirement already satisfied: annotated-types>=0.4.0 in /opt/conda/lib/python3.11/site-packages (from pydantic<3,>=1->langchain==0.1.14->-r requirements.txt (line 1)) (0.7.0)\n",
      "Requirement already satisfied: pydantic-core==2.20.0 in /opt/conda/lib/python3.11/site-packages (from pydantic<3,>=1->langchain==0.1.14->-r requirements.txt (line 1)) (2.20.0)\n",
      "Requirement already satisfied: charset-normalizer<4,>=2 in /opt/conda/lib/python3.11/site-packages (from requests<3,>=2->langchain==0.1.14->-r requirements.txt (line 1)) (3.3.2)\n",
      "Requirement already satisfied: idna<4,>=2.5 in /opt/conda/lib/python3.11/site-packages (from requests<3,>=2->langchain==0.1.14->-r requirements.txt (line 1)) (3.7)\n",
      "Requirement already satisfied: certifi>=2017.4.17 in /opt/conda/lib/python3.11/site-packages (from requests<3,>=2->langchain==0.1.14->-r requirements.txt (line 1)) (2024.7.4)\n",
      "Requirement already satisfied: six>=1.5 in /opt/conda/lib/python3.11/site-packages (from python-dateutil<3.0.0,>=2.1->botocore<1.35.0,>=1.34.58->boto3==1.34.58->-r requirements.txt (line 4)) (1.16.0)\n",
      "Requirement already satisfied: mypy-extensions>=0.3.0 in /opt/conda/lib/python3.11/site-packages (from typing-inspect<1,>=0.4.0->dataclasses-json<0.7,>=0.5.7->langchain==0.1.14->-r requirements.txt (line 1)) (1.0.0)\n",
      "Using cached SQLAlchemy-2.0.29-cp311-cp311-manylinux_2_17_x86_64.manylinux2014_x86_64.whl (3.2 MB)\n",
      "Installing collected packages: sqlalchemy\n",
      "  Attempting uninstall: sqlalchemy\n",
      "    Found existing installation: SQLAlchemy 2.0.32\n",
      "    Uninstalling SQLAlchemy-2.0.32:\n",
      "      Successfully uninstalled SQLAlchemy-2.0.32\n",
      "Successfully installed sqlalchemy-2.0.29\n"
     ]
    }
   ],
   "source": [
    "!pip install -U -r requirements.txt"
   ]
  },
  {
   "cell_type": "code",
   "execution_count": 16,
   "id": "16247b8a-3f04-443e-b7dc-5a8a2e704e1c",
   "metadata": {
    "id": "16247b8a-3f04-443e-b7dc-5a8a2e704e1c",
    "outputId": "d251dd20-bd45-4caf-8cbc-7d233ae7bd28"
   },
   "outputs": [
    {
     "name": "stdout",
     "output_type": "stream",
     "text": [
      "0.1.14\n"
     ]
    }
   ],
   "source": [
    "import langchain\n",
    "print(langchain.__version__)"
   ]
  },
  {
   "cell_type": "code",
   "execution_count": 17,
   "id": "f416f576-9ac1-4a01-8dbf-bd6ed15c4565",
   "metadata": {
    "id": "f416f576-9ac1-4a01-8dbf-bd6ed15c4565",
    "outputId": "a768f761-5962-47e1-9da6-bffb4a305156"
   },
   "outputs": [
    {
     "name": "stdout",
     "output_type": "stream",
     "text": [
      "sagemaker.config INFO - Not applying SDK defaults from location: /etc/xdg/sagemaker/config.yaml\n",
      "sagemaker.config INFO - Not applying SDK defaults from location: /home/sagemaker-user/.config/sagemaker/config.yaml\n"
     ]
    }
   ],
   "source": [
    "try:\n",
    "    import sagemaker\n",
    "except ImportError:\n",
    "    !pip install sagemaker"
   ]
  },
  {
   "cell_type": "code",
   "execution_count": 18,
   "id": "8e421940-275f-4e09-ae23-7c384265ff36",
   "metadata": {
    "id": "8e421940-275f-4e09-ae23-7c384265ff36"
   },
   "outputs": [],
   "source": [
    "# Import the JumpStartModel class from the SageMaker JumpStart library\n",
    "from sagemaker.jumpstart.model import JumpStartModel"
   ]
  },
  {
   "cell_type": "code",
   "execution_count": 19,
   "id": "2bed3f89-4c20-452e-b13d-37aa6baa6b7a",
   "metadata": {
    "id": "2bed3f89-4c20-452e-b13d-37aa6baa6b7a"
   },
   "outputs": [],
   "source": [
    "# Specify the model ID for the HuggingFace Llama 3 8b Instruct LLM model\n",
    "model_id = \"meta-textgeneration-llama-3-8b-instruct\"\n",
    "accept_eula = True\n",
    "model = JumpStartModel(model_id=model_id, model_version=\"2.7.0\", instance_type= \"ml.g5.2xlarge\")"
   ]
  },
  {
   "cell_type": "code",
   "execution_count": 15,
   "id": "55a2761b-6f4e-4b43-950f-b5484f56a59f",
   "metadata": {
    "id": "55a2761b-6f4e-4b43-950f-b5484f56a59f",
    "outputId": "70e69864-9974-484b-8799-745970b88ead",
    "scrolled": true
   },
   "outputs": [
    {
     "name": "stdout",
     "output_type": "stream",
     "text": [
      "----------------!"
     ]
    }
   ],
   "source": [
    "predictor = model.deploy(accept_eula=accept_eula, instance_type=\"ml.g5.2xlarge\")"
   ]
  },
  {
   "cell_type": "code",
   "execution_count": 20,
   "id": "ee556c54-018e-4229-8ce5-df3f50a39932",
   "metadata": {
    "id": "ee556c54-018e-4229-8ce5-df3f50a39932"
   },
   "outputs": [],
   "source": [
    "# Specify the model ID for the HuggingFace BGE Large EN Embedding model\n",
    "model_id = \"huggingface-sentencesimilarity-bge-large-en-v1-5\"\n",
    "text_embedding_model = JumpStartModel(model_id=model_id,model_version=\"1.1.1\")"
   ]
  },
  {
   "cell_type": "code",
   "execution_count": 17,
   "id": "915c0d77-6a33-4fd5-9172-3a51a82e02fb",
   "metadata": {
    "id": "915c0d77-6a33-4fd5-9172-3a51a82e02fb",
    "outputId": "9622b492-167f-4ba5-8cfb-35fefc016b6c"
   },
   "outputs": [
    {
     "name": "stdout",
     "output_type": "stream",
     "text": [
      "---------!"
     ]
    }
   ],
   "source": [
    "embedding_predictor = text_embedding_model.deploy(instance_type=\"ml.g5.2xlarge\")"
   ]
  },
  {
   "cell_type": "code",
   "execution_count": 21,
   "id": "1e88bc85-bd59-4dd5-b901-7b5bddd89563",
   "metadata": {
    "id": "1e88bc85-bd59-4dd5-b901-7b5bddd89563"
   },
   "outputs": [],
   "source": [
    "import json\n",
    "import sagemaker\n",
    "\n",
    "from langchain_core.prompts import PromptTemplate\n",
    "from langchain_community.llms import SagemakerEndpoint\n",
    "from langchain_community.embeddings import SagemakerEndpointEmbeddings\n",
    "from langchain_community.llms.sagemaker_endpoint import LLMContentHandler\n",
    "from langchain_community.embeddings.sagemaker_endpoint import EmbeddingsContentHandler"
   ]
  },
  {
   "cell_type": "code",
   "execution_count": 22,
   "id": "341ccad9-043e-428f-b1b3-5c2bbfb49626",
   "metadata": {
    "id": "341ccad9-043e-428f-b1b3-5c2bbfb49626"
   },
   "outputs": [],
   "source": [
    "sess = sagemaker.session.Session()\n",
    "region = sess._region_name"
   ]
  },
  {
   "cell_type": "code",
   "execution_count": 23,
   "id": "ce1fcce5-c95f-40c4-894a-9ff8ebcd3c65",
   "metadata": {
    "id": "ce1fcce5-c95f-40c4-894a-9ff8ebcd3c65"
   },
   "outputs": [],
   "source": [
    "llm_endpoint_name = \"meta-textgeneration-llama-3-8b-instruct-2024-10-20-23-30-32-262\"\n",
    "embedding_endpoint_name = \"hf-sentencesimilarity-bge-large-en-v1-5-2024-10-20-23-39-05-487\""
   ]
  },
  {
   "cell_type": "code",
   "execution_count": 24,
   "id": "856dcb89-e51e-4f56-8656-44c42e85e05a",
   "metadata": {
    "id": "856dcb89-e51e-4f56-8656-44c42e85e05a"
   },
   "outputs": [],
   "source": [
    "# testing out my endpoint\n",
    "import boto3\n",
    "runtime_client = boto3.client('sagemaker-runtime', region_name=region)\n",
    "\n",
    "input_prompt = {\n",
    "    \"inputs\": \"Where is the capital of China?\"\n",
    "}\n",
    "\n",
    "response = runtime_client.invoke_endpoint(\n",
    "    EndpointName=llm_endpoint_name,\n",
    "    ContentType='application/json',\n",
    "    Body=json.dumps(input_prompt)\n",
    ")"
   ]
  },
  {
   "cell_type": "code",
   "execution_count": 25,
   "id": "21340eea-6cc9-47e5-a489-8f1192d648d6",
   "metadata": {
    "id": "21340eea-6cc9-47e5-a489-8f1192d648d6",
    "outputId": "c11d8522-eab9-4673-e096-af6e6dd2010b"
   },
   "outputs": [
    {
     "name": "stdout",
     "output_type": "stream",
     "text": [
      "LLM Response: {'generated_text': ' The capital of China is Beijing. Beijing is located in the northern part of the country and is the second most populous city in China, with a population'}\n"
     ]
    }
   ],
   "source": [
    "# read and print the output\n",
    "output = json.loads(response['Body'].read().decode())\n",
    "print(\"LLM Response:\", output)"
   ]
  },
  {
   "cell_type": "code",
   "execution_count": 26,
   "id": "1d16164e-6a20-420f-b36a-f4a80b8856bf",
   "metadata": {
    "id": "1d16164e-6a20-420f-b36a-f4a80b8856bf"
   },
   "outputs": [],
   "source": [
    "from typing import Dict\n",
    "\n",
    "class Llama38BContentHandler(LLMContentHandler):\n",
    "    content_type = \"application/json\"\n",
    "    accepts = \"application/json\"\n",
    "\n",
    "    def transform_input(self, prompt: str, model_kwargs: dict) -> bytes:\n",
    "        payload = {\n",
    "            \"inputs\": prompt,\n",
    "            # default parameters\n",
    "            \"parameters\": {\n",
    "                # Controls the maximum number of tokens the model can generate\n",
    "                \"max_new_tokens\": 1000,\n",
    "                # lower value makes the model more deterministic / higher value allows for more diverse responses\n",
    "                \"top_p\": 0.9,\n",
    "                # randomness\n",
    "                \"temperature\": 0.6,\n",
    "                \"stop\": [\"<|eot_id|>\"],\n",
    "            },\n",
    "        }\n",
    "        input_str = json.dumps(\n",
    "            payload,\n",
    "        )\n",
    "        print(input_str)\n",
    "        return input_str.encode(\"utf-8\")\n",
    "\n",
    "    def transform_output(self, output: bytes) -> str:\n",
    "        response_json = json.loads(output.read().decode(\"utf-8\"))\n",
    "        print(response_json)\n",
    "        content = response_json[\"generated_text\"].strip()\n",
    "        return content"
   ]
  },
  {
   "cell_type": "code",
   "execution_count": 27,
   "id": "212bc9d6-e447-4543-8f78-055ea54964e1",
   "metadata": {
    "id": "212bc9d6-e447-4543-8f78-055ea54964e1"
   },
   "outputs": [],
   "source": [
    "# Instantiate the content handler for Llama3-8B\n",
    "llama_content_handler = Llama38BContentHandler()\n",
    "\n",
    "# Setup for using the Llama3-8B model with SageMaker Endpoint\n",
    "llm = SagemakerEndpoint(\n",
    "     endpoint_name=llm_endpoint_name,\n",
    "     region_name=region,\n",
    "     model_kwargs={\"max_new_tokens\": 1024, \"top_p\": 0.9, \"temperature\": 0.7},\n",
    "     content_handler=llama_content_handler\n",
    " )"
   ]
  },
  {
   "cell_type": "code",
   "execution_count": 28,
   "id": "049303f4-b4b2-40de-8eab-0327a323344a",
   "metadata": {
    "id": "049303f4-b4b2-40de-8eab-0327a323344a"
   },
   "outputs": [],
   "source": [
    "from typing import List\n",
    "\n",
    "class BGEContentHandlerV15(EmbeddingsContentHandler):\n",
    "    content_type = \"application/json\"\n",
    "    accepts = \"application/json\"\n",
    "\n",
    "    def transform_input(self, text_inputs: List[str], model_kwargs: dict) -> bytes:\n",
    "        \"\"\"\n",
    "        Transforms the input into bytes that can be consumed by SageMaker endpoint.\n",
    "        Args:\n",
    "            text_inputs (list[str]): A list of input text strings to be processed.\n",
    "            model_kwargs (Dict): Additional keyword arguments to be passed to the endpoint.\n",
    "               Possible keys and their descriptions:\n",
    "               - mode (str): Inference method. Valid modes are 'embedding', 'nn_corpus', and 'nn_train_data'.\n",
    "               - corpus (str): Corpus for Nearest Neighbor. Required when mode is 'nn_corpus'.\n",
    "               - top_k (int): Top K for Nearest Neighbor. Required when mode is 'nn_corpus'.\n",
    "               - queries (list[str]): Queries for Nearest Neighbor. Required when mode is 'nn_corpus' or 'nn_train_data'.\n",
    "        Returns:\n",
    "            The transformed bytes input.\n",
    "        \"\"\"\n",
    "        input_str = json.dumps(\n",
    "            {\n",
    "                \"text_inputs\": text_inputs,\n",
    "                **model_kwargs\n",
    "            }\n",
    "        )\n",
    "        return input_str.encode(\"utf-8\")\n",
    "\n",
    "    def transform_output(self, output: bytes) -> List[List[float]]:\n",
    "        \"\"\"\n",
    "        Transforms the bytes output from the endpoint into a list of embeddings.\n",
    "        Args:\n",
    "            output: The bytes output from SageMaker endpoint.\n",
    "        Returns:\n",
    "            The transformed output - list of embeddings\n",
    "        Note:\n",
    "            The length of the outer list is the number of input strings.\n",
    "            The length of the inner lists is the embedding dimension.\n",
    "        \"\"\"\n",
    "        response_json = json.loads(output.read().decode(\"utf-8\"))\n",
    "        return response_json[\"embedding\"]"
   ]
  },
  {
   "cell_type": "code",
   "execution_count": 29,
   "id": "3ac5a543-7597-4e4f-98e5-678d09014751",
   "metadata": {
    "id": "3ac5a543-7597-4e4f-98e5-678d09014751"
   },
   "outputs": [],
   "source": [
    "bge_content_handler = BGEContentHandlerV15()\n",
    "sagemaker_embeddings = SagemakerEndpointEmbeddings(\n",
    "    endpoint_name=embedding_endpoint_name,\n",
    "    region_name=region,\n",
    "    model_kwargs={\"mode\": \"embedding\"},\n",
    "    content_handler=bge_content_handler,\n",
    ")"
   ]
  },
  {
   "cell_type": "code",
   "execution_count": 30,
   "id": "4105adc2-dbf6-4de1-847e-e4a7b20ea737",
   "metadata": {
    "id": "4105adc2-dbf6-4de1-847e-e4a7b20ea737",
    "outputId": "085fa715-d31a-4beb-9542-3918c02b390c"
   },
   "outputs": [
    {
     "name": "stdout",
     "output_type": "stream",
     "text": [
      "Contents of the current directory:\n",
      "recipe-data-sagemaker.pdf\n"
     ]
    }
   ],
   "source": [
    "import os\n",
    "contents = os.listdir()\n",
    "pdf_files = [item for item in contents if item.endswith('.pdf')]\n",
    "\n",
    "print(\"Contents of the current directory:\")\n",
    "for item in pdf_files:\n",
    "    print(item)"
   ]
  },
  {
   "cell_type": "code",
   "execution_count": 31,
   "id": "eba6953a-43b4-43d5-995f-175e66a4eb81",
   "metadata": {
    "id": "eba6953a-43b4-43d5-995f-175e66a4eb81",
    "outputId": "0ef1cfd7-dc3d-4afa-8501-1ff9589bc4fb"
   },
   "outputs": [
    {
     "name": "stderr",
     "output_type": "stream",
     "text": [
      "/opt/conda/lib/python3.11/site-packages/pypdf/_crypt_providers/_cryptography.py:32: CryptographyDeprecationWarning: ARC4 has been moved to cryptography.hazmat.decrepit.ciphers.algorithms.ARC4 and will be removed from this module in 48.0.0.\n",
      "  from cryptography.hazmat.primitives.ciphers.algorithms import AES, ARC4\n"
     ]
    },
    {
     "name": "stdout",
     "output_type": "stream",
     "text": [
      "page_content='salad. \\nVariation:\\ninstead\\nof\\nthe\\ncheese\\nand \\nherbs,\\nstuff\\neach\\nchicken\\nbreast\\nwith \\nabout\\n2\\nto\\n4\\ntablespoons\\nof\\nanother \\nmixture\\nwhich\\nmight\\ninclude\\none\\nor \\nseveral\\ningredients\\nsuch\\nas\\nslivered \\nroasted\\npeppers,\\npitted\\ngood\\nblack \\nolives,\\nsun-dried\\ntomatoes,\\ncapers, \\nanchovies,\\nhot\\nchilis,\\nor\\nother\\ncheeses \\nsuch\\nas\\nMozzarella\\nor\\nFontina.'\n"
     ]
    }
   ],
   "source": [
    "import numpy as np\n",
    "from langchain_community.document_loaders import PyPDFLoader\n",
    "from langchain.text_splitter import RecursiveCharacterTextSplitter\n",
    "\n",
    "# Initialize an empty list to hold the documents\n",
    "documents = []\n",
    "metadata = [{} for _ in pdf_files]  # Initialize metadata for each PDF\n",
    "\n",
    "# Load and process each PDF file\n",
    "for idx, file in enumerate(pdf_files):\n",
    "    loader = PyPDFLoader(file)\n",
    "    document = loader.load()\n",
    "    for document_fragment in document:\n",
    "        document_fragment.metadata = metadata[idx]\n",
    "\n",
    "    documents += document\n",
    "\n",
    "# Set a chunk size for splitting documents\n",
    "text_splitter = RecursiveCharacterTextSplitter(\n",
    "    chunk_size=1000,\n",
    "    chunk_overlap=100,\n",
    ")\n",
    "\n",
    "\n",
    "docs = text_splitter.split_documents(documents)\n",
    "print(docs[50])"
   ]
  },
  {
   "cell_type": "code",
   "execution_count": 32,
   "id": "56aba587-bfa0-4a44-8da5-5360d41a7d14",
   "metadata": {
    "id": "56aba587-bfa0-4a44-8da5-5360d41a7d14",
    "outputId": "d04da0d9-e237-4176-f96a-e08c74b7c236"
   },
   "outputs": [
    {
     "name": "stdout",
     "output_type": "stream",
     "text": [
      "Average length among 16 documents loaded is 2477 characters.\n",
      "After the split we have 51 documents as opposed to the original 16.\n",
      "Average length among 51 documents (after split) is 843 characters.\n"
     ]
    }
   ],
   "source": [
    "avg_doc_length = lambda documents: sum([len(doc.page_content) for doc in documents])//len(documents)\n",
    "\n",
    "print(f'Average length among {len(documents)} documents loaded is {avg_doc_length(documents)} characters.')\n",
    "print(f'After the split we have {len(docs)} documents as opposed to the original {len(documents)}.')\n",
    "print(f'Average length among {len(docs)} documents (after split) is {avg_doc_length(docs)} characters.')"
   ]
  },
  {
   "cell_type": "code",
   "execution_count": 33,
   "id": "c0b8a9c2-c290-4c58-9c28-27c7540162ab",
   "metadata": {
    "id": "c0b8a9c2-c290-4c58-9c28-27c7540162ab",
    "outputId": "2bea4b0e-db1b-4855-ccae-5c4e81d7b712"
   },
   "outputs": [
    {
     "name": "stdout",
     "output_type": "stream",
     "text": [
      "Sample embedding of a document chunk:  [-0.02978267  0.02248217  0.0348905  ... -0.0368495   0.0366135\n",
      "  0.00579986]\n",
      "Size of the embedding:  (1024,)\n"
     ]
    }
   ],
   "source": [
    "sample_embedding = np.array(sagemaker_embeddings.embed_query(docs[0].page_content))\n",
    "print(\"Sample embedding of a document chunk: \", sample_embedding)\n",
    "print(\"Size of the embedding: \", sample_embedding.shape)"
   ]
  },
  {
   "cell_type": "code",
   "execution_count": 34,
   "id": "e8fffc41-7c70-4239-b7ee-6355b91fb451",
   "metadata": {
    "id": "e8fffc41-7c70-4239-b7ee-6355b91fb451"
   },
   "outputs": [],
   "source": [
    "# using FAISS for building a vector store\n",
    "from langchain_community.vectorstores import FAISS\n",
    "from langchain.indexes.vectorstore import VectorStoreIndexWrapper\n",
    "\n",
    "vectorstore_faiss = FAISS.from_documents(\n",
    "    docs,\n",
    "    sagemaker_embeddings,\n",
    ")\n",
    "wrapper_store_faiss = VectorStoreIndexWrapper(vectorstore=vectorstore_faiss)"
   ]
  },
  {
   "cell_type": "code",
   "execution_count": 35,
   "id": "9ec3ccea-1d90-4af7-a03e-473822ba12b1",
   "metadata": {
    "id": "9ec3ccea-1d90-4af7-a03e-473822ba12b1"
   },
   "outputs": [],
   "source": [
    "prompt_template = \"\"\"<|begin_of_text|><|start_header_id|>system<|end_header_id|>\n",
    "You are a helpful assistant.\n",
    "<|eot_id|><|start_header_id|>user<|end_header_id|>\n",
    "{query}\n",
    "<|eot_id|><|start_header_id|>assistant<|end_header_id|>\n",
    "\"\"\"\n",
    "PROMPT = PromptTemplate(\n",
    "    template=prompt_template, input_variables=[\"query\"]\n",
    ")"
   ]
  },
  {
   "cell_type": "code",
   "execution_count": 36,
   "id": "10083d75-ec71-4e0e-90ce-d67ea5cb9dd3",
   "metadata": {
    "id": "10083d75-ec71-4e0e-90ce-d67ea5cb9dd3"
   },
   "outputs": [],
   "source": [
    "# querying the FAISS vector store for documents relevant to the user's question.\n",
    "query = \"How to cook a dish with pork tenderloin?\""
   ]
  },
  {
   "cell_type": "code",
   "execution_count": 37,
   "id": "82d03acb-2716-449d-888e-7daee977a904",
   "metadata": {
    "id": "82d03acb-2716-449d-888e-7daee977a904",
    "outputId": "cace7a96-b414-433f-b567-6acb4bd06218"
   },
   "outputs": [
    {
     "name": "stdout",
     "output_type": "stream",
     "text": [
      "{\"inputs\": \"Use the following pieces of context to answer the question at the end. If you don't know the answer, just say that you don't know, don't try to make up an answer.\\n\\ntitle\\ningredients\\ninstructions\\nApricot\\nSpritzer\\n1\\ncup\\napricot\\nnectar,\\n1\\nbottle\\nsparkling \\nwine,\\nwell\\nchilled\\nDivide\\nthe\\napricot\\nnectar\\namong\\n4 \\nchilled\\nchampagne\\nflutes\\nor\\ncoupe \\nglasses.\\nTop\\nwith\\nthe\\nsparkling\\nwine \\nand\\nserve\\nimmediately.\\nPork\\nTenderloin\\nwith\\nPeach\\nand\\nPecan \\nSauce\\n1\\ntablespoon\\nolive\\noil,\\n1\\npork \\ntenderloin\\n(about\\n1\\npound),\\ncut\\ninto \\n3/4-inch-thick\\nslices,\\n2\\ncloves\\ngarlic, \\nminced,\\n2\\ngreen\\nonions,\\nsliced\\n(about \\n1/4\\ncup),\\n1\\ncan\\n(10\\n3/4\\nounces) \\nCampbell's\\u00ae\\nCondensed\\nGolden \\nMushroom\\nSoup,\\n1\\ncan\\n(about\\n15 \\nounces)\\nsliced\\npeaches\\nin\\njuice, \\ndrained,\\nreserving\\njuice,\\n3\\ntablespoons \\nlow-sodium\\nsoy\\nsauce,\\n2\\ntablespoons \\nhoney,\\n1/4\\ncup\\npecan\\nhalves,\\ntoasted \\nand\\nbroken\\ninto\\nlarge\\npieces,\\nHot \\ncooked\\nrice\\nHeat\\nthe\\noil\\nin\\na\\n10-inch\\nskillet\\nover \\nmedium-high\\nheat.\\nAdd\\nthe\\npork\\nand \\ncook\\nuntil\\nwell\\nbrowned\\non\\nboth \\nsides.\\nRemove\\nthe\\npork\\nfrom\\nthe \\nskillet. \\nAdd\\nthe\\ngarlic\\nand\\nonions\\nto\\nthe \\nskillet\\nand\\ncook\\nand\\nstir\\nfor\\n1\\nminute. \\nStir\\nthe\\nsoup,\\npeach\\njuice,\\nsoy\\nsauce \\nand\\n\\nbutter,\\n1\\nteaspoon\\nsalt,\\n2\\ncups\\nwhite \\nwine,\\n10\\nounces\\ncanned\\nbeef \\nconsomme,\\n10\\nounces\\nchicken\\nbroth, \\n10\\nounces\\napple\\ncider\\n(unfiltered\\nis \\nbest),\\nBouquet\\ngarni;\\nthyme\\nsprigs, \\nbay\\nleaf\\nand\\nparsley\\ntied\\ntogether\\nwith \\nkitchen\\nstring,\\n1\\nloaf\\ncountry\\nstyle \\nbread,\\nKosher\\nsalt,\\nGround\\nblack \\npepper,\\nSplash\\nof\\nCognac\\n(optional),\\n1 \\ncup\\nFontina\\nor\\nGruyere\\ncheese,\\ngrated\\nfinely\\nslice\\ninto\\nhalf-moon\\nshapes.\\nSet \\nelectric\\nskillet\\nto\\n300\\ndegrees\\nand\\nadd \\nbutter.\\nOnce\\nbutter\\nhas\\nmelted\\nadd\\na \\nlayer\\nof\\nonions\\nand\\nsprinkle\\nwith\\na \\nlittle\\nsalt.\\nRepeat\\nlayering\\nonions\\nand \\nsalt\\nuntil\\nall\\nonions\\nare\\nin\\nthe\\nskillet. \\nDo\\nnot\\ntry\\nstirring\\nuntil\\nonions\\nhave \\nsweated\\ndown\\nfor\\n15\\nto\\n20\\nminutes. \\nAfter\\nthat,\\nstir\\noccasionally\\nuntil \\nonions\\nare\\ndark\\nmahogany\\nand \\nreduced\\nto\\napproximately\\n2\\ncups.\\nThis \\nshould\\ntake\\n45\\nminutes\\nto\\n1\\nhour.\\nDo \\nnot\\nworry\\nabout\\nburning. \\nAdd\\nenough\\nwine\\nto\\ncover\\nthe\\nonions \\nand\\nturn\\nheat\\nto\\nhigh,\\nreducing\\nthe \\nwine\\nto\\na\\nsyrup\\nconsistency.\\nAdd \\nconsomme,\\nchicken\\nbroth,\\napple\\n\\nonions\\nto\\nthe \\nskillet\\nand\\ncook\\nand\\nstir\\nfor\\n1\\nminute. \\nStir\\nthe\\nsoup,\\npeach\\njuice,\\nsoy\\nsauce \\nand\\nhoney\\nin\\nthe\\nskillet\\nand\\nheat\\nto\\na \\nboil.\\nCook\\nfor\\n5\\nminutes\\nor\\nuntil\\nthe \\nsoup\\nmixture\\nis\\nslightly\\nreduced. \\nReturn\\nthe\\npork\\nto\\nthe\\nskillet.\\nStir\\nin \\nthe\\npeaches.\\nReduce\\nthe\\nheat\\nto\\nlow. \\nCook\\nuntil\\nthe\\npork\\nis\\ncooked \\nthrough.\\nStir\\nin\\nthe\\npecans.\\nServe\\nthe \\npork\\nand\\nsauce\\nwith\\nthe\\nrice.\\nSprinkle \\nwith\\nadditional\\nsliced\\ngreen\\nonion,\\nif \\ndesired.\\nHummus\\nDip\\n2\\n(15-ounce)\\ncans\\nchickpeas,\\ndrained \\nand\\nrinsed,\\n1/2\\ncup\\nextra-virgin\\nolive \\noil,\\nor\\nmore\\nas\\nneeded,\\nplus\\nmore\\nfor \\ngarnish,\\n1/2\\nlemon,\\njuiced,\\n2 \\ntablespoons\\nroughly\\nchopped\\nfresh \\nparsley\\nleaves,\\nplus\\nmore\\nfor\\ngarnish, \\n2\\ncloves\\ngarlic,\\npeeled,\\n1\\n1/2\\nteaspoon \\nsalt,\\n1/2\\nteaspoon\\ndark\\nAsian\\nsesame \\noil,\\n1/2\\nto\\n1\\nteaspoon\\nground\\ncumin, \\n12\\nto\\n15\\ngrinds\\nblack\\npepper,\\n1/4\\ncup \\nwater,\\nPaprika,\\nfor\\ngarnish\\nWatch\\nhow\\nto\\nmake\\nthis\\nrecipe. \\nIn\\na\\nblender\\ncombine\\nall\\nthe \\ningredients\\nexcept\\nthe\\nparsley\\nand \\npaprika\\nto\\nbe\\nused\\nfor\\ngarnish.\\n\\nand\\nlet\\nit \\nrest.\\nAdd\\n1\\ntablespoon\\nof\\nthe\\nbutter \\nand\\nflour\\nand\\ncook\\ntogether\\n1\\nminute. \\nWhisk\\nin\\nwine\\nand\\ndeglaze\\npan. \\nWhisk\\nin\\nbroth\\nand\\nthicken\\nsauce\\n1 \\nminute.\\nAdd\\nremaining\\ntablespoon \\nbutter\\nand\\nremove\\nskillet\\nfrom\\nheat. \\nQuarter\\ntomatoes\\nlengthwise. \\nTo\\nserve,\\nset\\nthe\\nspinach\\ncakes\\nand \\nsteaks\\nbeside\\neach\\nother\\non\\n2/3\\nof \\nserving\\nplates\\nand\\npour\\nsauce\\nevenly \\nover\\nsteaks.\\nScatter\\na\\nquartered \\ntomato\\nnext\\nto\\nspinach\\ncakes\\non\\neach \\nplate.\\nDrizzle\\ntomatoes\\nwith\\noil, \\nseason\\nwith\\nsalt\\nand\\npepper\\nand\\ntop \\nwith\\nchopped\\nchives.\\nServe\\nplates \\nimmediately.\\nCajun\\nChicken\\nPasta\\n1\\npound\\nfettuccine,\\nAbout\\n3\\nteaspoons \\nCajun\\nspice\\nmix,\\n3\\nwhole\\nboneless, \\nskinless\\nchicken\\nbreasts,\\ncut\\ninto \\ncubes,\\n2\\ntablespoons\\nbutter,\\n2 \\ntablespoons\\nolive\\noil,\\n3\\ncloves\\ngarlic, \\nminced,\\n1\\nwhole\\ngreen\\nbell\\npepper, \\nseeded\\nand\\nsliced,\\n1\\nwhole\\nred\\nbell \\npepper,\\nseeded\\nand\\nsliced,\\n1/2\\nlarge \\nred\\nonion,\\nsliced,\\nSalt,\\n4\\nwhole\\nRoma \\ntomatoes,\\ndiced,\\n2\\ncups\\nlow-sodium \\nchicken\\nbroth,\\n1/2\\ncup\\nwhite\\nwine,\\n1 \\ncup\\nheavy\\n\\nQuestion: <|begin_of_text|><|start_header_id|>system<|end_header_id|>\\nYou are a helpful assistant.\\n<|eot_id|><|start_header_id|>user<|end_header_id|>\\nHow to cook a dish with pork tenderloin?\\n<|eot_id|><|start_header_id|>assistant<|end_header_id|>\\n\\nHelpful Answer:\", \"parameters\": {\"max_new_tokens\": 1000, \"top_p\": 0.9, \"temperature\": 0.6, \"stop\": [\"<|eot_id|>\"]}}\n",
      "{'generated_text': \" \\n\\nThe provided text contains recipes for Pork Tenderloin with Peach and Pecan Sauce, Hummus Dip, and Cajun Chicken Pasta. To cook a dish with pork tenderloin, you can follow the instructions for the Pork Tenderloin with Peach and Pecan Sauce recipe. Here's a summary of the steps:\\n\\n1. Heat the oil in a 10-inch skillet over medium-high heat. Add the pork and cook until well-browned on both sides. Remove the pork from the skillet.\\n2. Add the garlic and onions to the skillet and cook and stir for 1 minute.\\n3. Stir the soup, peach juice, soy sauce, and honey in the skillet and heat to a boil. Cook for 5 minutes or until the soup mixture is slightly reduced.\\n4. Return the pork to the skillet. Stir in the peaches. Reduce the heat to low. Cook until the pork is cooked through.\\n5. Stir in the pecans. Serve the pork and sauce with the rice. Sprinkle with additional sliced green onion, if desired.\\n\\nPlease note that this is just a summary, and you should refer to the original recipe for detailed instructions and ingredient measurements.\"}\n",
      "The provided text contains recipes for Pork Tenderloin with Peach and Pecan Sauce, Hummus Dip, and Cajun Chicken Pasta. To cook a dish with pork tenderloin, you can follow the instructions for the Pork Tenderloin with Peach and Pecan Sauce recipe. Here's a summary of the steps:\n",
      "\n",
      "1. Heat the oil in a 10-inch skillet over medium-high heat. Add the pork and cook until well-browned on both sides. Remove the pork from the skillet.\n",
      "2. Add the garlic and onions to the skillet and cook and stir for 1 minute.\n",
      "3. Stir the soup, peach juice, soy sauce, and honey in the skillet and heat to a boil. Cook for 5 minutes or until the soup mixture is slightly reduced.\n",
      "4. Return the pork to the skillet. Stir in the peaches. Reduce the heat to low. Cook until the pork is cooked through.\n",
      "5. Stir in the pecans. Serve the pork and sauce with the rice. Sprinkle with additional sliced green onion, if desired.\n",
      "\n",
      "Please note that this is just a summary, and you should refer to the original recipe for detailed instructions and ingredient measurements.\n"
     ]
    }
   ],
   "source": [
    "answer = wrapper_store_faiss.query(question=PROMPT.format(query=query), llm=llm)\n",
    "print(answer)"
   ]
  },
  {
   "cell_type": "code",
   "execution_count": 38,
   "id": "e3c9cbec-e458-43bf-8deb-2ec795a6b571",
   "metadata": {
    "id": "e3c9cbec-e458-43bf-8deb-2ec795a6b571"
   },
   "outputs": [],
   "source": [
    "query_2 = \"I have brussel sprouts and carrots, can you give me a healthy dairy-free recipe to make.\""
   ]
  },
  {
   "cell_type": "code",
   "execution_count": 39,
   "id": "7db5903d-1deb-4b0f-a00f-d42d220d2b3c",
   "metadata": {
    "id": "7db5903d-1deb-4b0f-a00f-d42d220d2b3c",
    "outputId": "02ea2f66-bf90-492d-bbe2-f9ea1ae1efec"
   },
   "outputs": [
    {
     "name": "stdout",
     "output_type": "stream",
     "text": [
      "{\"inputs\": \"Use the following pieces of context to answer the question at the end. If you don't know the answer, just say that you don't know, don't try to make up an answer.\\n\\nbutter,\\n1\\nteaspoon\\nsalt,\\n2\\ncups\\nwhite \\nwine,\\n10\\nounces\\ncanned\\nbeef \\nconsomme,\\n10\\nounces\\nchicken\\nbroth, \\n10\\nounces\\napple\\ncider\\n(unfiltered\\nis \\nbest),\\nBouquet\\ngarni;\\nthyme\\nsprigs, \\nbay\\nleaf\\nand\\nparsley\\ntied\\ntogether\\nwith \\nkitchen\\nstring,\\n1\\nloaf\\ncountry\\nstyle \\nbread,\\nKosher\\nsalt,\\nGround\\nblack \\npepper,\\nSplash\\nof\\nCognac\\n(optional),\\n1 \\ncup\\nFontina\\nor\\nGruyere\\ncheese,\\ngrated\\nfinely\\nslice\\ninto\\nhalf-moon\\nshapes.\\nSet \\nelectric\\nskillet\\nto\\n300\\ndegrees\\nand\\nadd \\nbutter.\\nOnce\\nbutter\\nhas\\nmelted\\nadd\\na \\nlayer\\nof\\nonions\\nand\\nsprinkle\\nwith\\na \\nlittle\\nsalt.\\nRepeat\\nlayering\\nonions\\nand \\nsalt\\nuntil\\nall\\nonions\\nare\\nin\\nthe\\nskillet. \\nDo\\nnot\\ntry\\nstirring\\nuntil\\nonions\\nhave \\nsweated\\ndown\\nfor\\n15\\nto\\n20\\nminutes. \\nAfter\\nthat,\\nstir\\noccasionally\\nuntil \\nonions\\nare\\ndark\\nmahogany\\nand \\nreduced\\nto\\napproximately\\n2\\ncups.\\nThis \\nshould\\ntake\\n45\\nminutes\\nto\\n1\\nhour.\\nDo \\nnot\\nworry\\nabout\\nburning. \\nAdd\\nenough\\nwine\\nto\\ncover\\nthe\\nonions \\nand\\nturn\\nheat\\nto\\nhigh,\\nreducing\\nthe \\nwine\\nto\\na\\nsyrup\\nconsistency.\\nAdd \\nconsomme,\\nchicken\\nbroth,\\napple\\n\\nturn\\nheat\\nto\\nhigh,\\nreducing\\nthe \\nwine\\nto\\na\\nsyrup\\nconsistency.\\nAdd \\nconsomme,\\nchicken\\nbroth,\\napple\\ncider \\nand\\nbouquet\\ngarni.\\nReduce\\nheat\\nand \\nsimmer\\n15\\nto\\n20\\nminutes. \\nPlace\\noven\\nrack\\nin\\ntop\\n1/3\\nof\\noven\\nand \\nheat\\nbroiler. \\nCut\\ncountry\\nbread\\nin\\nrounds\\nlarge \\nenough\\nto\\nfit\\nmouth\\nof\\noven\\nsafe\\nsoup \\ncrocks.\\nPlace\\nthe\\nslices\\non\\na\\nbaking \\nsheet\\nand\\nplace\\nunder\\nbroiler\\nfor\\n1 \\nminute. \\nSeason\\nsoup\\nmixture\\nwith\\nsalt,\\npepper \\nand\\ncognac.\\nRemove\\nbouquet\\ngarni \\nand\\nladle\\nsoup\\ninto\\ncrocks\\nleaving\\none \\ninch\\nto\\nthe\\nlip.\\nPlace\\nbread\\nround, \\ntoasted\\nside\\ndown,\\non\\ntop\\nof\\nsoup\\nand \\ntop\\nwith\\ngrated\\ncheese.\\nBroil\\nuntil \\ncheese\\nis\\nbubbly\\nand\\ngolden,\\n1\\nto\\n2 \\nminutes.\\nCurly's\\nBBQ\\nChicken\\nPizza\\n1\\nready\\nmade\\npizza\\ncrust,\\n6\\noz. \\nCurly's\\nSauceless\\nPulled\\nChicken\\n(or \\nCurly's\\nSauceless\\nPulled\\nPork\\nif \\npreferred),\\n1/2\\ncup\\nBBQ\\nsauce,\\n4\\noz. \\nMozzarella,\\n2\\noz.\\nchopped\\ntomato,\\n1 \\noz.\\nchopped\\nonion,\\n1\\noz.\\nsliced \\nmushrooms,\\n1\\noz.\\nsliced\\ngreen \\npeppers\\nToss\\nCurly's\\nSauceless\\nPulled\\nChicken \\nin\\nBBQ\\nsauce.\\nSpread\\nBBQ\\nover\\n\\nturnovers\\nbriefly.\\nSprinkle\\nwith \\nconfectioners'\\nsugar,\\nif\\ndesired,\\nand \\nserve\\nimmediately.\\nMama's\\nCollards\\n2\\nlarge\\nbunches\\ncollards,\\nstemmed, \\nwashed\\nvery\\nwell\\nand\\ntorn\\ninto\\npieces, \\n1\\nto\\n2\\ncups\\nwater,\\n2\\nto\\n3\\nchicken \\nthighs,\\n1/4\\ncup\\ncorn\\noil,\\nSalt\\nand \\npepper\\nto\\ntaste\\nBoil\\nchicken\\nabout\\n20\\nminutes.\\nAdd \\ncollards\\nand\\nseasoning.\\nLower\\nheat, \\ncook\\nabout\\n2\\nhours\\nor\\nuntil\\ngreens\\nare \\ntender.\\nAloo\\nPie\\nwith\\nApple-Mango\\nChutney\\n2\\nfirm\\nripe\\nmangoes,\\npeeled\\nand \\ndiced,\\n1\\nGolden\\nDelicious\\napple, \\npeeled\\nand\\ndiced,\\n1/4\\ncup\\npacked\\nlight \\nbrown\\nsugar,\\n1\\ntablespoon\\nfresh \\npeeled\\nand\\nthinly\\nsliced\\nginger,\\n1/2 \\nteaspoon\\nminced\\nhot\\nchile\\npepper, \\nsuch\\nas\\nserrano,\\n1/4\\ncup\\napple\\ncider \\nvinegar,\\nKosher\\nsalt\\nand\\nfreshly \\nground\\npepper,\\n1/4\\ncup\\nvegetable\\noil, \\n3\\nlarge\\nor\\n4\\nmedium\\nred\\nskin\\npotatoes \\n(about\\n1\\npound),\\npeeled\\nand\\ndiced,\\n1/2 \\nsweet\\nonion,\\nfinely\\nchopped,\\n1/4\\ncup \\nfinely\\nchopped\\ngreen\\nbell\\npepper,\\n1/4 \\ncup\\nfinely\\nchopped\\ncelery,\\n1\\nclove \\ngarlic,\\nminced,\\n1\\nteaspoon\\nground \\ncumin,\\nKosher\\nsalt\\nand\\n\\nend\\nof \\nthe\\nchicken\\nand\\ncut\\nalong\\nthe \\nbreastbone. \\nPull\\nback\\none\\nof\\nthe\\nbreasts\\nand\\ncut\\nit \\noff\\nthe\\nbackbone.\\nRepeat\\non\\nthe\\nother \\nside. \\nPhotograph\\nby\\nDavid\\nMalosh\\nChocolate\\nTurnovers\\n1\\n(17\\n1/4-ounce)\\npackage\\npuff\\npastry \\nsheets,\\n4\\n1/2\\nounces\\nsemi-\\nor \\nbittersweet\\nchocolate,\\nbroken\\ninto \\n1/4-ounce\\npieces,\\n1\\negg,\\nbeaten, \\nConfectioners'\\nsugar,\\nfor\\ndusting \\n(optional)\\nAdjust\\noven\\nracks\\nto\\nthe\\nupper\\nand \\nlower\\nmiddle\\npositions\\nand\\nheat\\nthe \\noven\\nto\\n425\\ndegrees. \\nWorking\\nwith\\none\\nsheet\\nat\\na\\ntime\\non\\na \\nlightly\\nfloured\\nwork\\nsurface,\\ntrim\\nthe \\npuff\\npastry\\nsheets\\nto\\n9-\\nby\\n9-inch \\nsquares,\\nthen\\ncut\\neach\\nsheet\\ninto\\nnine \\n3-inch\\nsquares. \\nWorking\\nwith\\none\\nsquare\\nof\\ndough\\nat \\na\\ntime,\\nplace\\na\\nportion\\nof\\nchocolate \\nonto\\nthe\\nlower\\ncorner,\\nbrush\\ntwo \\nedges\\nof\\nthe\\ndough\\nwith\\nbeaten\\negg, \\nand\\nfold\\nthe\\ndough\\nin\\nhalf\\ndiagonally \\nto\\nform\\na\\nturnover.\\nPlace\\neach \\nturnover\\non\\na\\nparchment-lined\\ncookie \\nsheet,\\nspacing\\nthem\\nabout\\n2\\ninches \\napart\\n(about\\n9\\nper\\nsheet).\\nBrush\\nthe \\ndough\\ntops\\nwith\\negg\\nwash. \\nBake\\n\\nQuestion: <|begin_of_text|><|start_header_id|>system<|end_header_id|>\\nYou are a helpful assistant.\\n<|eot_id|><|start_header_id|>user<|end_header_id|>\\nI have brussel sprouts and carrots, can you give me a healthy dairy-free recipe to make.\\n<|eot_id|><|start_header_id|>assistant<|end_header_id|>\\n\\nHelpful Answer:\", \"parameters\": {\"max_new_tokens\": 1000, \"top_p\": 0.9, \"temperature\": 0.6, \"stop\": [\"<|eot_id|>\"]}}\n",
      "{'generated_text': \" I'd be happy to help you with a healthy dairy-free recipe using Brussels sprouts and carrots! Unfortunately, I don't see those ingredients mentioned in the provided text. However, I can suggest a recipe that combines the ingredients mentioned in the text, such as onions, garlic, and potatoes. Here's a recipe for Aloo Pie with Apple-Mango Chutney that you might enjoy:\\n\\nIngredients:\\n\\n* 2 firm ripe mangoes, peeled and diced\\n* 1 Golden Delicious apple, peeled and diced\\n* 1/4 cup packed light brown sugar\\n* 1 tablespoon fresh peeled and thinly sliced ginger\\n* 1/2 teaspoon minced hot chile pepper (such as serrano)\\n* 1/4 cup apple cider vinegar\\n* Kosher salt and freshly ground pepper\\n* 1/4 cup vegetable oil\\n* 3 large or 4 medium red skin potatoes (about 1 pound), peeled and diced\\n* 1/2 sweet onion, finely chopped\\n* 1/4 cup finely chopped green bell pepper\\n* 1/4 cup finely chopped celery\\n* 1 clove garlic, minced\\n* 1 teaspoon ground cumin\\n* Kosher salt and freshly ground pepper\\n\\nInstructions:\\n\\n1. Preheat the oven to 375°F (190°C).\\n2. In a large skillet, heat the oil over medium heat. Add the potatoes, onion, bell pepper, and celery. Cook, stirring occasionally, until the vegetables are tender, about 20-25 minutes.\\n3. Add the garlic, cumin, salt, and pepper to the skillet and cook for 1 minute.\\n4. In a separate pan, combine the mango, apple, brown sugar, ginger, and chile pepper. Cook over medium heat, stirring occasionally, until the mixture is tender and the flavors have melded together, about 10-15 minutes.\\n5. Stir in the apple cider vinegar and cook for an additional 2-3 minutes.\\n6. In a 9-inch pie dish, arrange the cooked potato mixture in an even layer. Top with the mango-apple chutney and bake for 25-30 minutes, or until the filling is hot and bubbly.\\n\\nThis recipe is dairy-free and combines the flavors of sweet and savory ingredients. You can serve it as a main dish or as a side dish. I hope you enjoy it!\"}\n",
      "I'd be happy to help you with a healthy dairy-free recipe using Brussels sprouts and carrots! Unfortunately, I don't see those ingredients mentioned in the provided text. However, I can suggest a recipe that combines the ingredients mentioned in the text, such as onions, garlic, and potatoes. Here's a recipe for Aloo Pie with Apple-Mango Chutney that you might enjoy:\n",
      "\n",
      "Ingredients:\n",
      "\n",
      "* 2 firm ripe mangoes, peeled and diced\n",
      "* 1 Golden Delicious apple, peeled and diced\n",
      "* 1/4 cup packed light brown sugar\n",
      "* 1 tablespoon fresh peeled and thinly sliced ginger\n",
      "* 1/2 teaspoon minced hot chile pepper (such as serrano)\n",
      "* 1/4 cup apple cider vinegar\n",
      "* Kosher salt and freshly ground pepper\n",
      "* 1/4 cup vegetable oil\n",
      "* 3 large or 4 medium red skin potatoes (about 1 pound), peeled and diced\n",
      "* 1/2 sweet onion, finely chopped\n",
      "* 1/4 cup finely chopped green bell pepper\n",
      "* 1/4 cup finely chopped celery\n",
      "* 1 clove garlic, minced\n",
      "* 1 teaspoon ground cumin\n",
      "* Kosher salt and freshly ground pepper\n",
      "\n",
      "Instructions:\n",
      "\n",
      "1. Preheat the oven to 375°F (190°C).\n",
      "2. In a large skillet, heat the oil over medium heat. Add the potatoes, onion, bell pepper, and celery. Cook, stirring occasionally, until the vegetables are tender, about 20-25 minutes.\n",
      "3. Add the garlic, cumin, salt, and pepper to the skillet and cook for 1 minute.\n",
      "4. In a separate pan, combine the mango, apple, brown sugar, ginger, and chile pepper. Cook over medium heat, stirring occasionally, until the mixture is tender and the flavors have melded together, about 10-15 minutes.\n",
      "5. Stir in the apple cider vinegar and cook for an additional 2-3 minutes.\n",
      "6. In a 9-inch pie dish, arrange the cooked potato mixture in an even layer. Top with the mango-apple chutney and bake for 25-30 minutes, or until the filling is hot and bubbly.\n",
      "\n",
      "This recipe is dairy-free and combines the flavors of sweet and savory ingredients. You can serve it as a main dish or as a side dish. I hope you enjoy it!\n"
     ]
    }
   ],
   "source": [
    "answer = wrapper_store_faiss.query(question=PROMPT.format(query=query_2), llm=llm)\n",
    "print(answer)"
   ]
  },
  {
   "cell_type": "code",
   "execution_count": 40,
   "id": "4e8b84b7-c69f-4390-80fe-ac86532c72b1",
   "metadata": {
    "id": "4e8b84b7-c69f-4390-80fe-ac86532c72b1"
   },
   "outputs": [],
   "source": [
    "from langchain.chains import RetrievalQA\n",
    "\n",
    "prompt_template = \"\"\"\n",
    "<|begin_of_text|><|start_header_id|>system<|end_header_id|>\n",
    "\n",
    "This is a conversation between an AI assistant and a Human.\n",
    "\n",
    "<|eot_id|><|start_header_id|>user<|end_header_id|>\n",
    "\n",
    "Use the following pieces of context to provide a concise answer to the question at the end. If you don't know the answer, just say that you don't know, don't try to make up an answer.\n",
    "#### Context ####\n",
    "{context}\n",
    "#### End of Context ####\n",
    "\n",
    "Question: {question}\n",
    "<|eot_id|><|start_header_id|>assistant<|end_header_id|>\n",
    "\"\"\"\n",
    "PROMPT = PromptTemplate(\n",
    "    template=prompt_template, input_variables=[\"context\", \"question\"]\n",
    ")\n",
    "\n",
    "qa = RetrievalQA.from_chain_type(\n",
    "    llm=llm,\n",
    "    chain_type=\"stuff\",\n",
    "    retriever=vectorstore_faiss.as_retriever(\n",
    "        # how many relevant documents should be retrieved\n",
    "        search_type=\"similarity\", search_kwargs={\"k\": 3}\n",
    "    ),\n",
    "    return_source_documents=True,\n",
    "    chain_type_kwargs={\"prompt\": PROMPT}\n",
    ")"
   ]
  },
  {
   "cell_type": "code",
   "execution_count": 41,
   "id": "85babcaf-639f-4aaf-9277-d30c5d419679",
   "metadata": {
    "id": "85babcaf-639f-4aaf-9277-d30c5d419679",
    "outputId": "175e5823-44af-4a2c-fcbe-35fea33cb482"
   },
   "outputs": [
    {
     "name": "stdout",
     "output_type": "stream",
     "text": [
      "{\"inputs\": \"\\n<|begin_of_text|><|start_header_id|>system<|end_header_id|>\\n\\nThis is a conversation between an AI assistant and a Human.\\n\\n<|eot_id|><|start_header_id|>user<|end_header_id|>\\n\\nUse the following pieces of context to provide a concise answer to the question at the end. If you don't know the answer, just say that you don't know, don't try to make up an answer.\\n#### Context ####\\nbutter,\\n1\\nteaspoon\\nsalt,\\n2\\ncups\\nwhite \\nwine,\\n10\\nounces\\ncanned\\nbeef \\nconsomme,\\n10\\nounces\\nchicken\\nbroth, \\n10\\nounces\\napple\\ncider\\n(unfiltered\\nis \\nbest),\\nBouquet\\ngarni;\\nthyme\\nsprigs, \\nbay\\nleaf\\nand\\nparsley\\ntied\\ntogether\\nwith \\nkitchen\\nstring,\\n1\\nloaf\\ncountry\\nstyle \\nbread,\\nKosher\\nsalt,\\nGround\\nblack \\npepper,\\nSplash\\nof\\nCognac\\n(optional),\\n1 \\ncup\\nFontina\\nor\\nGruyere\\ncheese,\\ngrated\\nfinely\\nslice\\ninto\\nhalf-moon\\nshapes.\\nSet \\nelectric\\nskillet\\nto\\n300\\ndegrees\\nand\\nadd \\nbutter.\\nOnce\\nbutter\\nhas\\nmelted\\nadd\\na \\nlayer\\nof\\nonions\\nand\\nsprinkle\\nwith\\na \\nlittle\\nsalt.\\nRepeat\\nlayering\\nonions\\nand \\nsalt\\nuntil\\nall\\nonions\\nare\\nin\\nthe\\nskillet. \\nDo\\nnot\\ntry\\nstirring\\nuntil\\nonions\\nhave \\nsweated\\ndown\\nfor\\n15\\nto\\n20\\nminutes. \\nAfter\\nthat,\\nstir\\noccasionally\\nuntil \\nonions\\nare\\ndark\\nmahogany\\nand \\nreduced\\nto\\napproximately\\n2\\ncups.\\nThis \\nshould\\ntake\\n45\\nminutes\\nto\\n1\\nhour.\\nDo \\nnot\\nworry\\nabout\\nburning. \\nAdd\\nenough\\nwine\\nto\\ncover\\nthe\\nonions \\nand\\nturn\\nheat\\nto\\nhigh,\\nreducing\\nthe \\nwine\\nto\\na\\nsyrup\\nconsistency.\\nAdd \\nconsomme,\\nchicken\\nbroth,\\napple\\n\\nIn\\na\\nblender\\ncombine\\nall\\nthe \\ningredients\\nexcept\\nthe\\nparsley\\nand \\npaprika\\nto\\nbe\\nused\\nfor\\ngarnish.\\nBlend \\non\\nlow\\nspeed\\nuntil\\nsmooth.\\nYou'll \\nhave\\nto\\nstop\\nthe\\nblender\\noften\\nto\\npush \\ndown\\nthe\\ningredients.\\nIf\\nthe\\nmixture\\nis \\ntoo\\ndry\\nand\\nyou're\\nhaving\\ntrouble \\nblending\\nit,\\nadd\\na\\nfew\\nmore \\ntablespoons\\nof\\nolive\\noil\\nto\\nhelp\\nthings \\nalong. \\nScrape\\nthe\\nhummus\\nonto\\na\\nplate. \\nSprinkle\\nthe\\npaprika\\nover\\nthe\\ntop, \\ndrizzle\\nlightly\\nwith\\nolive\\noil,\\nscatter \\nsome\\nparsley\\non\\ntop,\\nand\\nserve.\\nYou \\ncan\\nmake\\nthe\\nhummus\\nup\\nto\\na\\ncouple \\nof\\nhours\\nbefore\\nyou\\nserve\\nit.\\nCover\\nthe \\ntop\\nwith\\nplastic\\nwrap\\nand\\nleave\\nit\\nat \\nroom\\ntemperature. \\nPer\\nTablespoon:\\nCalories:\\n57;\\nTotal \\nFat:\\n4\\ngrams;\\nSaturated\\nFat:\\n0.5 \\ngrams;\\nProtein:\\n1\\ngram;\\nTotal \\ncarbohydrates:\\n5\\ngrams;\\nSugar:\\n0 \\ngrams;\\nFiber:\\n1\\ngram;\\nCholesterol:\\n0 \\nmilligrams;\\nSodium:\\n96\\nmilligrams\\nCran-Raspberry\\nSnowball\\nPunch\\n1\\n(32\\noz.)\\nbottle\\nKnudsen\\u00ae\\nCranberry \\nNectar,\\nchilled,\\n1\\n(12\\noz.)\\njar \\nSmucker's\\u00ae\\nSeedless\\nRed\\nRaspberry \\nJam,\\n1\\n1/2\\n(2\\nliter)\\nbottles\\nlemon-lime\\n\\nheat\\nand\\ncook,\\nstirring\\noccasionally, \\nuntil\\nthe\\nsugar\\ndissolves\\nand\\nthe \\ncream\\ncomes\\nto\\na\\nbare\\nsimmer. \\nMeanwhile,\\nwhisk\\ntogether\\nthe\\negg \\nyolks,\\n2\\ntablespoons\\nof\\nthe\\nremaining \\ngranulated\\nsugar\\nand\\n2\\ntablespoons\\nof \\nthe\\nremaining\\nlight\\nbrown\\nsugar\\nin\\na \\nmedium\\nbowl. \\nSlowly\\nwhisk\\nthe\\nhot\\ncream\\ninto\\nthe \\negg\\nyolk\\nmixture.\\nStrain\\nthe\\ncustard \\ninto\\na\\npitcher\\nor\\nlarge\\nmeasuring\\ncup. \\nDivide\\nthe\\ncustard\\nevenly\\namong\\nthe \\nramekins.\\nPlace\\nthe\\nbaking\\nsheet\\nin \\nthe\\noven,\\nthen\\ncarefully\\nadd\\nenough \\nhot\\nwater\\nto\\ncome\\nhalfway\\nup\\nthe \\nsides\\nof\\nthe\\nramekins.\\nBake\\nuntil\\nthe \\ncustards\\nare\\njust\\nset\\nat\\nthe\\nsides\\nand \\nstill\\nwobbly\\nin\\nthe\\ncenter,\\nabout\\n30 \\nminutes.\\nRemove\\nthe\\nramekins\\nfrom \\nthe\\nwater\\nand\\nlet\\ncool\\ncompletely\\non\\na \\nwire\\nrack,\\nabout\\n30\\nminutes.\\nLeave \\nthe\\noven\\non. \\nFor\\nthe\\ngarnish:\\nWhile\\nthe\\ncustards \\ncool,\\nspread\\nthe\\npecans\\non\\na\\nbaking \\nsheet\\nand\\nbake\\nuntil\\nthey\\nare\\nbrown \\nand\\ntoasty-smelling,\\nabout\\n10 \\nminutes.\\nWhip\\nthe\\ncream\\nin\\na\\nmedium \\nbowl\\nuntil\\nsoft\\npeaks\\nform. \\nTo\\nassemble:\\n#### End of Context ####\\n\\nQuestion: I have a dairy allergy. Can you provide a recipe that's dairy-free?\\n<|eot_id|><|start_header_id|>assistant<|end_header_id|>\\n\", \"parameters\": {\"max_new_tokens\": 1000, \"top_p\": 0.9, \"temperature\": 0.6, \"stop\": [\"<|eot_id|>\"]}}\n",
      "{'generated_text': \"I apologize, but the provided context does not contain a recipe that is dairy-free. The recipes mentioned are for Hummus and Cran-Raspberry Snowball Punch, and both contain dairy products such as butter, cheese, and cream. I'm not aware of any dairy-free alternatives mentioned in the context. If you would like, I can try to help you find a dairy-free recipe or suggest modifications to the existing recipes to make them dairy-free.\"}\n",
      "I\n",
      "\n",
      "[Document(page_content='butter,\\n1\\nteaspoon\\nsalt,\\n2\\ncups\\nwhite \\nwine,\\n10\\nounces\\ncanned\\nbeef \\nconsomme,\\n10\\nounces\\nchicken\\nbroth, \\n10\\nounces\\napple\\ncider\\n(unfiltered\\nis \\nbest),\\nBouquet\\ngarni;\\nthyme\\nsprigs, \\nbay\\nleaf\\nand\\nparsley\\ntied\\ntogether\\nwith \\nkitchen\\nstring,\\n1\\nloaf\\ncountry\\nstyle \\nbread,\\nKosher\\nsalt,\\nGround\\nblack \\npepper,\\nSplash\\nof\\nCognac\\n(optional),\\n1 \\ncup\\nFontina\\nor\\nGruyere\\ncheese,\\ngrated\\nfinely\\nslice\\ninto\\nhalf-moon\\nshapes.\\nSet \\nelectric\\nskillet\\nto\\n300\\ndegrees\\nand\\nadd \\nbutter.\\nOnce\\nbutter\\nhas\\nmelted\\nadd\\na \\nlayer\\nof\\nonions\\nand\\nsprinkle\\nwith\\na \\nlittle\\nsalt.\\nRepeat\\nlayering\\nonions\\nand \\nsalt\\nuntil\\nall\\nonions\\nare\\nin\\nthe\\nskillet. \\nDo\\nnot\\ntry\\nstirring\\nuntil\\nonions\\nhave \\nsweated\\ndown\\nfor\\n15\\nto\\n20\\nminutes. \\nAfter\\nthat,\\nstir\\noccasionally\\nuntil \\nonions\\nare\\ndark\\nmahogany\\nand \\nreduced\\nto\\napproximately\\n2\\ncups.\\nThis \\nshould\\ntake\\n45\\nminutes\\nto\\n1\\nhour.\\nDo \\nnot\\nworry\\nabout\\nburning. \\nAdd\\nenough\\nwine\\nto\\ncover\\nthe\\nonions \\nand\\nturn\\nheat\\nto\\nhigh,\\nreducing\\nthe \\nwine\\nto\\na\\nsyrup\\nconsistency.\\nAdd \\nconsomme,\\nchicken\\nbroth,\\napple'), Document(page_content=\"In\\na\\nblender\\ncombine\\nall\\nthe \\ningredients\\nexcept\\nthe\\nparsley\\nand \\npaprika\\nto\\nbe\\nused\\nfor\\ngarnish.\\nBlend \\non\\nlow\\nspeed\\nuntil\\nsmooth.\\nYou'll \\nhave\\nto\\nstop\\nthe\\nblender\\noften\\nto\\npush \\ndown\\nthe\\ningredients.\\nIf\\nthe\\nmixture\\nis \\ntoo\\ndry\\nand\\nyou're\\nhaving\\ntrouble \\nblending\\nit,\\nadd\\na\\nfew\\nmore \\ntablespoons\\nof\\nolive\\noil\\nto\\nhelp\\nthings \\nalong. \\nScrape\\nthe\\nhummus\\nonto\\na\\nplate. \\nSprinkle\\nthe\\npaprika\\nover\\nthe\\ntop, \\ndrizzle\\nlightly\\nwith\\nolive\\noil,\\nscatter \\nsome\\nparsley\\non\\ntop,\\nand\\nserve.\\nYou \\ncan\\nmake\\nthe\\nhummus\\nup\\nto\\na\\ncouple \\nof\\nhours\\nbefore\\nyou\\nserve\\nit.\\nCover\\nthe \\ntop\\nwith\\nplastic\\nwrap\\nand\\nleave\\nit\\nat \\nroom\\ntemperature. \\nPer\\nTablespoon:\\nCalories:\\n57;\\nTotal \\nFat:\\n4\\ngrams;\\nSaturated\\nFat:\\n0.5 \\ngrams;\\nProtein:\\n1\\ngram;\\nTotal \\ncarbohydrates:\\n5\\ngrams;\\nSugar:\\n0 \\ngrams;\\nFiber:\\n1\\ngram;\\nCholesterol:\\n0 \\nmilligrams;\\nSodium:\\n96\\nmilligrams\\nCran-Raspberry\\nSnowball\\nPunch\\n1\\n(32\\noz.)\\nbottle\\nKnudsen®\\nCranberry \\nNectar,\\nchilled,\\n1\\n(12\\noz.)\\njar \\nSmucker's®\\nSeedless\\nRed\\nRaspberry \\nJam,\\n1\\n1/2\\n(2\\nliter)\\nbottles\\nlemon-lime\"), Document(page_content='heat\\nand\\ncook,\\nstirring\\noccasionally, \\nuntil\\nthe\\nsugar\\ndissolves\\nand\\nthe \\ncream\\ncomes\\nto\\na\\nbare\\nsimmer. \\nMeanwhile,\\nwhisk\\ntogether\\nthe\\negg \\nyolks,\\n2\\ntablespoons\\nof\\nthe\\nremaining \\ngranulated\\nsugar\\nand\\n2\\ntablespoons\\nof \\nthe\\nremaining\\nlight\\nbrown\\nsugar\\nin\\na \\nmedium\\nbowl. \\nSlowly\\nwhisk\\nthe\\nhot\\ncream\\ninto\\nthe \\negg\\nyolk\\nmixture.\\nStrain\\nthe\\ncustard \\ninto\\na\\npitcher\\nor\\nlarge\\nmeasuring\\ncup. \\nDivide\\nthe\\ncustard\\nevenly\\namong\\nthe \\nramekins.\\nPlace\\nthe\\nbaking\\nsheet\\nin \\nthe\\noven,\\nthen\\ncarefully\\nadd\\nenough \\nhot\\nwater\\nto\\ncome\\nhalfway\\nup\\nthe \\nsides\\nof\\nthe\\nramekins.\\nBake\\nuntil\\nthe \\ncustards\\nare\\njust\\nset\\nat\\nthe\\nsides\\nand \\nstill\\nwobbly\\nin\\nthe\\ncenter,\\nabout\\n30 \\nminutes.\\nRemove\\nthe\\nramekins\\nfrom \\nthe\\nwater\\nand\\nlet\\ncool\\ncompletely\\non\\na \\nwire\\nrack,\\nabout\\n30\\nminutes.\\nLeave \\nthe\\noven\\non. \\nFor\\nthe\\ngarnish:\\nWhile\\nthe\\ncustards \\ncool,\\nspread\\nthe\\npecans\\non\\na\\nbaking \\nsheet\\nand\\nbake\\nuntil\\nthey\\nare\\nbrown \\nand\\ntoasty-smelling,\\nabout\\n10 \\nminutes.\\nWhip\\nthe\\ncream\\nin\\na\\nmedium \\nbowl\\nuntil\\nsoft\\npeaks\\nform. \\nTo\\nassemble:')]\n"
     ]
    }
   ],
   "source": [
    "query = \"I have a dairy allergy. Can you provide a recipe that's dairy-free?\"\n",
    "result = qa.invoke({\"query\": query})\n",
    "print(result['result'][0])\n",
    "\n",
    "# Print the source documents\n",
    "print(f\"\\n{result['source_documents']}\")"
   ]
  },
  {
   "cell_type": "code",
   "execution_count": 42,
   "id": "a0317e6b-6e29-4787-a0be-ae4897ee8297",
   "metadata": {
    "id": "a0317e6b-6e29-4787-a0be-ae4897ee8297",
    "outputId": "fb483040-d264-4874-db8c-80f892fe8dbc"
   },
   "outputs": [
    {
     "name": "stdout",
     "output_type": "stream",
     "text": [
      "{\"inputs\": \"\\n<|begin_of_text|><|start_header_id|>system<|end_header_id|>\\n\\nThis is a conversation between an AI assistant and a Human.\\n\\n<|eot_id|><|start_header_id|>user<|end_header_id|>\\n\\nUse the following pieces of context to provide a concise answer to the question at the end. If you don't know the answer, just say that you don't know, don't try to make up an answer.\\n#### Context ####\\nlime\\nor \\nlemon\\nwedges. \\nPhotograph\\nby\\nLevi\\nBrown\\nBlueberry-Poppy\\nSeed\\nLoaves\\n1\\n1/3\\ncups\\nvegetable\\noil,\\nplus\\nmore\\nfor \\nbrushing,\\n3\\ncups\\nall-purpose\\nflour,\\n1 \\n1/2\\nteaspoons\\nbaking\\npowder,\\n2\\n1/2 \\ncups\\nsugar,\\nPinch\\nof\\nsalt,\\n1\\n1/2\\ncups \\nwhole\\nmilk,\\n3\\nlarge\\neggs,\\n1\\n1/2 \\ntablespoons\\npoppy\\nseeds,\\n1\\n1/2 \\nteaspoons\\nalmond\\nextract,\\n1\\n1/2 \\nteaspoons\\nvanilla\\nextract,\\n1\\ncup \\nblueberries\\nPreheat\\nthe\\noven\\nto\\n350\\ndegrees\\nF. \\nBrush\\n4\\nmini\\nloaf\\npans\\n(about\\n5\\nby\\n3 \\ninches\\neach)\\nwith\\nvegetable\\noil. \\nWhisk\\nthe\\nflour,\\nbaking\\npowder,\\nsugar \\nand\\nsalt\\nin\\na\\nlarge\\nbowl.\\nBeat\\nthe\\nmilk, \\n1\\n1/3\\ncups\\nvegetable\\noil,\\nthe\\neggs, \\npoppy\\nseeds,\\nand\\nalmond\\nand\\nvanilla \\nextracts\\nin\\na\\nstand\\nmixer\\nfitted\\nwith \\nthe\\npaddle\\nattachment\\non\\nmedium \\nspeed\\nuntil\\ncombined.\\nGradually\\nbeat \\nin\\nthe\\nflour\\nmixture\\nuntil\\nwell \\ncombined.\\nFold\\nthe\\nblueberries\\ninto \\nthe\\nbatter\\nwith\\na\\nrubber\\nspatula. \\nDivide\\nthe\\nbatter\\namong\\nthe\\nprepared \\npans\\nand\\nbake\\nuntil\\ngolden\\non\\ntop\\nand \\na\\ntoothpick\\ninserted\\ninto\\nthe\\ncenter \\ncomes\\nout\\nclean,\\n1\\nhour\\nto\\n1\\n\\nspoonful\\nof\\nmixture\\nin\\nthe\\ncenter, \\ntaking\\ncare\\nnot\\nto\\noverfill.\\nWet\\none \\nedge\\nwith\\nwater,\\nfold\\nover\\nand\\nseal\\nby \\npinching\\nthe\\nedges\\nwith\\nfingers\\nor \\nfloured\\nfork.\\nGently\\nadd\\neach\\npie\\ninto \\nthe\\nhot\\noil\\nand\\nfry\\non\\nboth\\nsides\\nuntil \\ngolden\\nbrown,\\n3\\nto\\n5\\nminutes.\\nDrain \\non\\nbrown\\npaper\\nor\\npaper\\ntowels. \\nServe\\nthe\\npies\\nwith\\nthe\\napple-mango \\nchutney.\\nChristmas\\nApple\\nPie\\n2\\npounds\\npate\\nsucre,\\nrecipe\\nfollows,\\n5 \\npounds\\n(about\\n10\\nlarge)\\npippin\\nor \\nGranny\\nSmith\\napples,\\n6\\ntablespoons \\n(3\\nounces)\\nunsalted\\nbutter,\\n1\\ncup \\nsugar,\\n1/4\\ncup\\nplus\\n1\\ntablespoon \\nCalvados,\\n1\\ntablespoon\\nbrandy,\\n2 \\ntablespoons\\nheavy\\ncream,\\n2\\nounces \\n(about\\n1/4\\ncup)\\nchopped\\ndried\\nprunes, \\n1\\n1/2\\nounces\\n(about\\n1/4\\ncup)\\nchopped \\ndried\\napricots,\\n1\\nounce\\n(about\\n1/4 \\ncup)\\nchopped\\ndried\\nfigs,\\n1\\ntablespoon \\nlemon\\njuice,\\n2\\nteaspoons\\nground \\ncinnamon,\\n1\\nteaspoon\\nlemon\\nzest,\\n1 \\nteaspoon\\norange\\nzest,\\n1/2\\nteaspoon \\nfreshly\\ngrated\\nnutmeg,\\n1\\negg\\nwhite, \\nvery\\nlightly\\nwhisked,\\n1\\n1/2 \\ntablespoons\\ncrystallized\\nsugar,\\n2\\n1/3 \\ncups\\ncake\\nor\\npastry\\n\\nteaspoon\\ncelery\\nseeds,\\ncrushed\\nthen\\nfinish\\nwith\\nthe\\ntop\\npiece\\nof\\nbread. \\nPlace\\non\\na\\nsandwich\\npress\\nuntil \\ngolden\\nbrown\\nand\\ncrisp,\\n8\\nto\\n10 \\nminutes. \\nIn\\na\\nlarge\\nmixing\\nbowl,\\nadd\\nthe\\ngarlic \\npowder,\\nblack\\npepper\\nand\\nsalt\\nand\\nmix \\nuntil\\ncombined.\\nYield:\\n6\\ncups \\nAdd\\nthe\\ncabbage,\\njalapenos,\\ncarrots, \\nonions\\nand\\nbell\\npeppers\\nto\\na\\nlarge \\nbowl\\nand\\ntoss\\nuntil\\nevenly\\ndistributed. \\nIn\\na\\nlarge\\nsaucepot\\nset\\nover\\nmedium \\nheat,\\nadd\\nthe\\nsugar,\\nvinegar,\\noil,\\nhot \\nsauce\\nand\\ncelery\\nsalt,\\nand\\nbring\\nto\\na \\nsimmer.\\nStir\\nuntil\\nwell\\nblended\\nand \\nthe\\nsugar\\ndissolves.\\nRemove\\nfrom\\nthe \\nheat\\nand\\nstir\\nin\\nthe\\nmustard.\\nPour\\nthe \\nwarm\\ndressing\\nmixture\\nover\\nthe \\ncabbage\\nsalad\\nand\\ntoss.\\nAdd\\nthe \\ncelery\\nseeds\\nand\\nmix\\nwell.\\nFrozen\\nLemon-Berry\\nMargaritas\\nPuree\\n2\\npints\\nlemon\\nsorbet,\\n2\\ncups \\nthawed\\nfrozen\\nmixed\\nberries\\nand\\n1/2 \\ncup\\ntequila\\nanejo\\nin\\na\\nblender\\nuntil \\nsmooth,\\nabout\\n1\\nminute.\\nDivide \\namong\\n6\\nglasses;\\ngarnish\\nwith\\nlime\\nor \\nlemon\\nwedges. \\nPhotograph\\nby\\nLevi\\nBrown\\nBlueberry-Poppy\\nSeed\\nLoaves\\n1\\n1/3\\ncups\\nvegetable\\n#### End of Context ####\\n\\nQuestion: I have some blueberries at home. Can you provide me a recipe?\\n<|eot_id|><|start_header_id|>assistant<|end_header_id|>\\n\", \"parameters\": {\"max_new_tokens\": 1000, \"top_p\": 0.9, \"temperature\": 0.6, \"stop\": [\"<|eot_id|>\"]}}\n",
      "{'generated_text': \"Yes, I can help you with that! Based on the context you provided, I found a recipe for Blueberry-Poppy Seed Loaves. Here it is:\\n\\nIngredients:\\n\\n* 1 1/3 cups vegetable oil, plus more for brushing\\n* 3 cups all-purpose flour\\n* 1 1/2 teaspoons baking powder\\n* 2 1/2 cups sugar\\n* Pinch of salt\\n* 1 1/2 cups whole milk\\n* 3 large eggs\\n* 1 1/2 tablespoons poppy seeds\\n* 1 1/2 teaspoons almond extract\\n* 1 1/2 teaspoons vanilla extract\\n* 1 cup blueberries\\n\\nInstructions:\\n\\n1. Preheat the oven to 350°F. Brush 4 mini loaf pans with vegetable oil.\\n2. Whisk together flour, baking powder, sugar, and salt in a large bowl.\\n3. Beat the milk, oil, eggs, poppy seeds, almond extract, and vanilla extract in a stand mixer until combined.\\n4. Gradually beat in the flour mixture until well combined.\\n5. Fold in the blueberries.\\n6. Divide the batter among the prepared pans and bake until golden on top and a toothpick inserted into the center comes out clean, about 1 hour to 1 hour 15 minutes.\\n\\nI hope you enjoy this recipe! Let me know if you have any questions or if you'd like any variations or substitutions.\"}\n"
     ]
    }
   ],
   "source": [
    "query = \"I have some blueberries at home. Can you provide me a recipe?\"\n",
    "result = qa.invoke({\"query\": query})\n",
    "\n",
    "# Print the source documents\n",
    "# print(result['source_documents'])"
   ]
  },
  {
   "cell_type": "code",
   "execution_count": 46,
   "id": "c48dc2ca-d9d7-4d96-bdb7-ae05bc7f6165",
   "metadata": {},
   "outputs": [
    {
     "name": "stdout",
     "output_type": "stream",
     "text": [
      "[Document(page_content='lime\\nor \\nlemon\\nwedges. \\nPhotograph\\nby\\nLevi\\nBrown\\nBlueberry-Poppy\\nSeed\\nLoaves\\n1\\n1/3\\ncups\\nvegetable\\noil,\\nplus\\nmore\\nfor \\nbrushing,\\n3\\ncups\\nall-purpose\\nflour,\\n1 \\n1/2\\nteaspoons\\nbaking\\npowder,\\n2\\n1/2 \\ncups\\nsugar,\\nPinch\\nof\\nsalt,\\n1\\n1/2\\ncups \\nwhole\\nmilk,\\n3\\nlarge\\neggs,\\n1\\n1/2 \\ntablespoons\\npoppy\\nseeds,\\n1\\n1/2 \\nteaspoons\\nalmond\\nextract,\\n1\\n1/2 \\nteaspoons\\nvanilla\\nextract,\\n1\\ncup \\nblueberries\\nPreheat\\nthe\\noven\\nto\\n350\\ndegrees\\nF. \\nBrush\\n4\\nmini\\nloaf\\npans\\n(about\\n5\\nby\\n3 \\ninches\\neach)\\nwith\\nvegetable\\noil. \\nWhisk\\nthe\\nflour,\\nbaking\\npowder,\\nsugar \\nand\\nsalt\\nin\\na\\nlarge\\nbowl.\\nBeat\\nthe\\nmilk, \\n1\\n1/3\\ncups\\nvegetable\\noil,\\nthe\\neggs, \\npoppy\\nseeds,\\nand\\nalmond\\nand\\nvanilla \\nextracts\\nin\\na\\nstand\\nmixer\\nfitted\\nwith \\nthe\\npaddle\\nattachment\\non\\nmedium \\nspeed\\nuntil\\ncombined.\\nGradually\\nbeat \\nin\\nthe\\nflour\\nmixture\\nuntil\\nwell \\ncombined.\\nFold\\nthe\\nblueberries\\ninto \\nthe\\nbatter\\nwith\\na\\nrubber\\nspatula. \\nDivide\\nthe\\nbatter\\namong\\nthe\\nprepared \\npans\\nand\\nbake\\nuntil\\ngolden\\non\\ntop\\nand \\na\\ntoothpick\\ninserted\\ninto\\nthe\\ncenter \\ncomes\\nout\\nclean,\\n1\\nhour\\nto\\n1'), Document(page_content='spoonful\\nof\\nmixture\\nin\\nthe\\ncenter, \\ntaking\\ncare\\nnot\\nto\\noverfill.\\nWet\\none \\nedge\\nwith\\nwater,\\nfold\\nover\\nand\\nseal\\nby \\npinching\\nthe\\nedges\\nwith\\nfingers\\nor \\nfloured\\nfork.\\nGently\\nadd\\neach\\npie\\ninto \\nthe\\nhot\\noil\\nand\\nfry\\non\\nboth\\nsides\\nuntil \\ngolden\\nbrown,\\n3\\nto\\n5\\nminutes.\\nDrain \\non\\nbrown\\npaper\\nor\\npaper\\ntowels. \\nServe\\nthe\\npies\\nwith\\nthe\\napple-mango \\nchutney.\\nChristmas\\nApple\\nPie\\n2\\npounds\\npate\\nsucre,\\nrecipe\\nfollows,\\n5 \\npounds\\n(about\\n10\\nlarge)\\npippin\\nor \\nGranny\\nSmith\\napples,\\n6\\ntablespoons \\n(3\\nounces)\\nunsalted\\nbutter,\\n1\\ncup \\nsugar,\\n1/4\\ncup\\nplus\\n1\\ntablespoon \\nCalvados,\\n1\\ntablespoon\\nbrandy,\\n2 \\ntablespoons\\nheavy\\ncream,\\n2\\nounces \\n(about\\n1/4\\ncup)\\nchopped\\ndried\\nprunes, \\n1\\n1/2\\nounces\\n(about\\n1/4\\ncup)\\nchopped \\ndried\\napricots,\\n1\\nounce\\n(about\\n1/4 \\ncup)\\nchopped\\ndried\\nfigs,\\n1\\ntablespoon \\nlemon\\njuice,\\n2\\nteaspoons\\nground \\ncinnamon,\\n1\\nteaspoon\\nlemon\\nzest,\\n1 \\nteaspoon\\norange\\nzest,\\n1/2\\nteaspoon \\nfreshly\\ngrated\\nnutmeg,\\n1\\negg\\nwhite, \\nvery\\nlightly\\nwhisked,\\n1\\n1/2 \\ntablespoons\\ncrystallized\\nsugar,\\n2\\n1/3 \\ncups\\ncake\\nor\\npastry'), Document(page_content='teaspoon\\ncelery\\nseeds,\\ncrushed\\nthen\\nfinish\\nwith\\nthe\\ntop\\npiece\\nof\\nbread. \\nPlace\\non\\na\\nsandwich\\npress\\nuntil \\ngolden\\nbrown\\nand\\ncrisp,\\n8\\nto\\n10 \\nminutes. \\nIn\\na\\nlarge\\nmixing\\nbowl,\\nadd\\nthe\\ngarlic \\npowder,\\nblack\\npepper\\nand\\nsalt\\nand\\nmix \\nuntil\\ncombined.\\nYield:\\n6\\ncups \\nAdd\\nthe\\ncabbage,\\njalapenos,\\ncarrots, \\nonions\\nand\\nbell\\npeppers\\nto\\na\\nlarge \\nbowl\\nand\\ntoss\\nuntil\\nevenly\\ndistributed. \\nIn\\na\\nlarge\\nsaucepot\\nset\\nover\\nmedium \\nheat,\\nadd\\nthe\\nsugar,\\nvinegar,\\noil,\\nhot \\nsauce\\nand\\ncelery\\nsalt,\\nand\\nbring\\nto\\na \\nsimmer.\\nStir\\nuntil\\nwell\\nblended\\nand \\nthe\\nsugar\\ndissolves.\\nRemove\\nfrom\\nthe \\nheat\\nand\\nstir\\nin\\nthe\\nmustard.\\nPour\\nthe \\nwarm\\ndressing\\nmixture\\nover\\nthe \\ncabbage\\nsalad\\nand\\ntoss.\\nAdd\\nthe \\ncelery\\nseeds\\nand\\nmix\\nwell.\\nFrozen\\nLemon-Berry\\nMargaritas\\nPuree\\n2\\npints\\nlemon\\nsorbet,\\n2\\ncups \\nthawed\\nfrozen\\nmixed\\nberries\\nand\\n1/2 \\ncup\\ntequila\\nanejo\\nin\\na\\nblender\\nuntil \\nsmooth,\\nabout\\n1\\nminute.\\nDivide \\namong\\n6\\nglasses;\\ngarnish\\nwith\\nlime\\nor \\nlemon\\nwedges. \\nPhotograph\\nby\\nLevi\\nBrown\\nBlueberry-Poppy\\nSeed\\nLoaves\\n1\\n1/3\\ncups\\nvegetable')]\n"
     ]
    }
   ],
   "source": [
    "print(result['source_documents'])"
   ]
  },
  {
   "cell_type": "code",
   "execution_count": 54,
   "id": "cd5329f0-8553-417f-ad65-4a4afd032476",
   "metadata": {},
   "outputs": [
    {
     "name": "stdout",
     "output_type": "stream",
     "text": [
      "Yes, I can help you with that! Based on the context you provided, I found a recipe for Blueberry-Poppy Seed Loaves. Here it is:\n",
      "\n",
      "Ingredients:\n",
      "\n",
      "* 1 1/3 cups vegetable oil, plus more for brushing\n",
      "* 3 cups all-purpose flour\n",
      "* 1 1/2 teaspoons baking powder\n",
      "* 2 1/2 cups sugar\n",
      "* Pinch of salt\n",
      "* 1 1/2 cups whole milk\n",
      "* 3 large eggs\n",
      "* 1 1/2 tablespoons poppy seeds\n",
      "* 1 1/2 teaspoons almond extract\n",
      "* 1 1/2 teaspoons vanilla extract\n",
      "* 1 cup blueberries\n",
      "\n",
      "Instructions:\n",
      "\n",
      "1. Preheat the oven to 350°F. Brush 4 mini loaf pans with vegetable oil.\n",
      "2. Whisk together flour, baking powder, sugar, and salt in a large bowl.\n",
      "3. Beat the milk, oil, eggs, poppy seeds, almond extract, and vanilla extract in a stand mixer until combined.\n",
      "4. Gradually beat in the flour mixture until well combined.\n",
      "5. Fold in the blueberries.\n",
      "6. Divide the batter among the prepared pans and bake until golden on top and a toothpick inserted into the center comes out clean, about 1 hour to 1 hour 15 minutes.\n",
      "\n",
      "I hope you enjoy this recipe! Let me know if you have any questions or if you'd like any variations or substitutions.\n"
     ]
    }
   ],
   "source": [
    "print(result['result'])"
   ]
  },
  {
   "cell_type": "markdown",
   "id": "6f0ce3b1-2056-423e-986e-4834df1bf508",
   "metadata": {},
   "source": [
    "### Ragas Evaluation"
   ]
  },
  {
   "cell_type": "code",
   "execution_count": null,
   "id": "b6fafe54-d72d-44ba-895b-40db965cee79",
   "metadata": {},
   "outputs": [],
   "source": [
    "pip install pydantic==2.8"
   ]
  },
  {
   "cell_type": "code",
   "execution_count": 1,
   "id": "2ffec9f1-4494-498a-82e5-7c4e20cf36a3",
   "metadata": {},
   "outputs": [
    {
     "name": "stdout",
     "output_type": "stream",
     "text": [
      "Requirement already satisfied: ragas in /opt/conda/lib/python3.11/site-packages (0.2.1)\n",
      "Requirement already satisfied: numpy in /opt/conda/lib/python3.11/site-packages (from ragas) (1.26.4)\n",
      "Requirement already satisfied: datasets in /opt/conda/lib/python3.11/site-packages (from ragas) (2.21.0)\n",
      "Requirement already satisfied: tiktoken in /opt/conda/lib/python3.11/site-packages (from ragas) (0.8.0)\n",
      "Requirement already satisfied: langchain in /opt/conda/lib/python3.11/site-packages (from ragas) (0.1.14)\n",
      "Requirement already satisfied: langchain-core in /opt/conda/lib/python3.11/site-packages (from ragas) (0.1.52)\n",
      "Requirement already satisfied: langchain-community in /opt/conda/lib/python3.11/site-packages (from ragas) (0.0.38)\n",
      "Requirement already satisfied: langchain-openai in /opt/conda/lib/python3.11/site-packages (from ragas) (0.1.7)\n",
      "Requirement already satisfied: nest-asyncio in /opt/conda/lib/python3.11/site-packages (from ragas) (1.6.0)\n",
      "Requirement already satisfied: appdirs in /opt/conda/lib/python3.11/site-packages (from ragas) (1.4.4)\n",
      "Requirement already satisfied: pydantic>=2 in /opt/conda/lib/python3.11/site-packages (from ragas) (2.8.0)\n",
      "Requirement already satisfied: openai>1 in /opt/conda/lib/python3.11/site-packages (from ragas) (1.52.0)\n",
      "Requirement already satisfied: pysbd>=0.3.4 in /opt/conda/lib/python3.11/site-packages (from ragas) (0.3.4)\n",
      "Requirement already satisfied: anyio<5,>=3.5.0 in /opt/conda/lib/python3.11/site-packages (from openai>1->ragas) (4.4.0)\n",
      "Requirement already satisfied: distro<2,>=1.7.0 in /opt/conda/lib/python3.11/site-packages (from openai>1->ragas) (1.9.0)\n",
      "Requirement already satisfied: httpx<1,>=0.23.0 in /opt/conda/lib/python3.11/site-packages (from openai>1->ragas) (0.27.0)\n",
      "Requirement already satisfied: jiter<1,>=0.4.0 in /opt/conda/lib/python3.11/site-packages (from openai>1->ragas) (0.6.1)\n",
      "Requirement already satisfied: sniffio in /opt/conda/lib/python3.11/site-packages (from openai>1->ragas) (1.3.1)\n",
      "Requirement already satisfied: tqdm>4 in /opt/conda/lib/python3.11/site-packages (from openai>1->ragas) (4.66.5)\n",
      "Requirement already satisfied: typing-extensions<5,>=4.11 in /opt/conda/lib/python3.11/site-packages (from openai>1->ragas) (4.12.2)\n",
      "Requirement already satisfied: annotated-types>=0.4.0 in /opt/conda/lib/python3.11/site-packages (from pydantic>=2->ragas) (0.7.0)\n",
      "Requirement already satisfied: pydantic-core==2.20.0 in /opt/conda/lib/python3.11/site-packages (from pydantic>=2->ragas) (2.20.0)\n",
      "Requirement already satisfied: filelock in /opt/conda/lib/python3.11/site-packages (from datasets->ragas) (3.15.4)\n",
      "Requirement already satisfied: pyarrow>=15.0.0 in /opt/conda/lib/python3.11/site-packages (from datasets->ragas) (15.0.2)\n",
      "Requirement already satisfied: dill<0.3.9,>=0.3.0 in /opt/conda/lib/python3.11/site-packages (from datasets->ragas) (0.3.8)\n",
      "Requirement already satisfied: pandas in /opt/conda/lib/python3.11/site-packages (from datasets->ragas) (2.2.2)\n",
      "Requirement already satisfied: requests>=2.32.2 in /opt/conda/lib/python3.11/site-packages (from datasets->ragas) (2.32.3)\n",
      "Requirement already satisfied: xxhash in /opt/conda/lib/python3.11/site-packages (from datasets->ragas) (3.5.0)\n",
      "Requirement already satisfied: multiprocess in /opt/conda/lib/python3.11/site-packages (from datasets->ragas) (0.70.16)\n",
      "Requirement already satisfied: fsspec<=2024.6.1,>=2023.1.0 in /opt/conda/lib/python3.11/site-packages (from fsspec[http]<=2024.6.1,>=2023.1.0->datasets->ragas) (2023.6.0)\n",
      "Requirement already satisfied: aiohttp in /opt/conda/lib/python3.11/site-packages (from datasets->ragas) (3.9.5)\n",
      "Requirement already satisfied: huggingface-hub>=0.21.2 in /opt/conda/lib/python3.11/site-packages (from datasets->ragas) (0.24.5)\n",
      "Requirement already satisfied: packaging in /opt/conda/lib/python3.11/site-packages (from datasets->ragas) (23.2)\n",
      "Requirement already satisfied: pyyaml>=5.1 in /opt/conda/lib/python3.11/site-packages (from datasets->ragas) (6.0.2)\n",
      "Requirement already satisfied: SQLAlchemy<3,>=1.4 in /opt/conda/lib/python3.11/site-packages (from langchain->ragas) (2.0.32)\n",
      "Requirement already satisfied: dataclasses-json<0.7,>=0.5.7 in /opt/conda/lib/python3.11/site-packages (from langchain->ragas) (0.6.7)\n",
      "Requirement already satisfied: jsonpatch<2.0,>=1.33 in /opt/conda/lib/python3.11/site-packages (from langchain->ragas) (1.33)\n",
      "Requirement already satisfied: langchain-text-splitters<0.1,>=0.0.1 in /opt/conda/lib/python3.11/site-packages (from langchain->ragas) (0.0.2)\n",
      "Requirement already satisfied: langsmith<0.2.0,>=0.1.17 in /opt/conda/lib/python3.11/site-packages (from langchain->ragas) (0.1.99)\n",
      "Requirement already satisfied: tenacity<9.0.0,>=8.1.0 in /opt/conda/lib/python3.11/site-packages (from langchain->ragas) (8.5.0)\n",
      "Requirement already satisfied: regex>=2022.1.18 in /opt/conda/lib/python3.11/site-packages (from tiktoken->ragas) (2024.7.24)\n",
      "Requirement already satisfied: aiosignal>=1.1.2 in /opt/conda/lib/python3.11/site-packages (from aiohttp->datasets->ragas) (1.3.1)\n",
      "Requirement already satisfied: attrs>=17.3.0 in /opt/conda/lib/python3.11/site-packages (from aiohttp->datasets->ragas) (23.2.0)\n",
      "Requirement already satisfied: frozenlist>=1.1.1 in /opt/conda/lib/python3.11/site-packages (from aiohttp->datasets->ragas) (1.4.1)\n",
      "Requirement already satisfied: multidict<7.0,>=4.5 in /opt/conda/lib/python3.11/site-packages (from aiohttp->datasets->ragas) (6.0.5)\n",
      "Requirement already satisfied: yarl<2.0,>=1.0 in /opt/conda/lib/python3.11/site-packages (from aiohttp->datasets->ragas) (1.9.4)\n",
      "Requirement already satisfied: idna>=2.8 in /opt/conda/lib/python3.11/site-packages (from anyio<5,>=3.5.0->openai>1->ragas) (3.7)\n",
      "Requirement already satisfied: marshmallow<4.0.0,>=3.18.0 in /opt/conda/lib/python3.11/site-packages (from dataclasses-json<0.7,>=0.5.7->langchain->ragas) (3.21.3)\n",
      "Requirement already satisfied: typing-inspect<1,>=0.4.0 in /opt/conda/lib/python3.11/site-packages (from dataclasses-json<0.7,>=0.5.7->langchain->ragas) (0.9.0)\n",
      "Requirement already satisfied: certifi in /opt/conda/lib/python3.11/site-packages (from httpx<1,>=0.23.0->openai>1->ragas) (2024.7.4)\n",
      "Requirement already satisfied: httpcore==1.* in /opt/conda/lib/python3.11/site-packages (from httpx<1,>=0.23.0->openai>1->ragas) (1.0.5)\n",
      "Requirement already satisfied: h11<0.15,>=0.13 in /opt/conda/lib/python3.11/site-packages (from httpcore==1.*->httpx<1,>=0.23.0->openai>1->ragas) (0.14.0)\n",
      "Requirement already satisfied: jsonpointer>=1.9 in /opt/conda/lib/python3.11/site-packages (from jsonpatch<2.0,>=1.33->langchain->ragas) (3.0.0)\n",
      "Requirement already satisfied: orjson<4.0.0,>=3.9.14 in /opt/conda/lib/python3.11/site-packages (from langsmith<0.2.0,>=0.1.17->langchain->ragas) (3.10.7)\n",
      "Requirement already satisfied: charset-normalizer<4,>=2 in /opt/conda/lib/python3.11/site-packages (from requests>=2.32.2->datasets->ragas) (3.3.2)\n",
      "Requirement already satisfied: urllib3<3,>=1.21.1 in /opt/conda/lib/python3.11/site-packages (from requests>=2.32.2->datasets->ragas) (1.26.19)\n",
      "Requirement already satisfied: greenlet!=0.4.17 in /opt/conda/lib/python3.11/site-packages (from SQLAlchemy<3,>=1.4->langchain->ragas) (3.0.3)\n",
      "Requirement already satisfied: python-dateutil>=2.8.2 in /opt/conda/lib/python3.11/site-packages (from pandas->datasets->ragas) (2.9.0)\n",
      "Requirement already satisfied: pytz>=2020.1 in /opt/conda/lib/python3.11/site-packages (from pandas->datasets->ragas) (2023.3)\n",
      "Requirement already satisfied: tzdata>=2022.7 in /opt/conda/lib/python3.11/site-packages (from pandas->datasets->ragas) (2024.1)\n",
      "Requirement already satisfied: six>=1.5 in /opt/conda/lib/python3.11/site-packages (from python-dateutil>=2.8.2->pandas->datasets->ragas) (1.16.0)\n",
      "Requirement already satisfied: mypy-extensions>=0.3.0 in /opt/conda/lib/python3.11/site-packages (from typing-inspect<1,>=0.4.0->dataclasses-json<0.7,>=0.5.7->langchain->ragas) (1.0.0)\n",
      "Note: you may need to restart the kernel to use updated packages.\n"
     ]
    }
   ],
   "source": [
    "pip install ragas"
   ]
  },
  {
   "cell_type": "code",
   "execution_count": 43,
   "id": "6d08363a-09b5-438c-870f-0f71945aa551",
   "metadata": {},
   "outputs": [],
   "source": [
    "import ragas\n",
    "from datasets import Dataset\n",
    "# os.environ[\"OPENAI_API_KEY\"] = userdata.get('OPENAI_API_KEY')\n",
    "from ragas.metrics import (\n",
    "    faithfulness,\n",
    "    answer_relevancy,\n",
    "    context_precision\n",
    ")"
   ]
  },
  {
   "cell_type": "code",
   "execution_count": 57,
   "id": "3d272c0a-1a59-4bd9-9513-0b5617af48e8",
   "metadata": {},
   "outputs": [
    {
     "data": {
      "text/plain": [
       "Dataset({\n",
       "    features: ['question', 'answer'],\n",
       "    num_rows: 1\n",
       "})"
      ]
     },
     "execution_count": 57,
     "metadata": {},
     "output_type": "execute_result"
    }
   ],
   "source": [
    "questions = [query] #Ragas only takes lists\n",
    "# contexts = result['source_documents']\n",
    "answer = [result['result']]\n",
    "\n",
    "import ast\n",
    "# contexts = [ast.literal_eval(item) for item in contexts] # to make it a list of lists for Ragas\n",
    "\n",
    "data = {\n",
    "    \"question\": questions,\n",
    "    \"answer\": answer,\n",
    "    # \"contexts\": contexts,\n",
    "}\n",
    "\n",
    "dataset = Dataset.from_dict(data)\n",
    "dataset"
   ]
  },
  {
   "cell_type": "code",
   "execution_count": 84,
   "id": "c519db60-8631-489e-af26-29c2e1178fc8",
   "metadata": {},
   "outputs": [],
   "source": [
    "#Still figuring out the steps to store an environment variable that isn't in plaintext\n",
    "# import os"
   ]
  },
  {
   "cell_type": "code",
   "execution_count": 89,
   "id": "d27e1c44-2945-4bdd-9d4a-72dd88193e36",
   "metadata": {},
   "outputs": [],
   "source": [
    "# api_key = os.environ.get('OPENAI_API_KEY')"
   ]
  },
  {
   "cell_type": "code",
   "execution_count": 95,
   "id": "dfc4af93-0bf5-4a41-a711-1458d0697ab5",
   "metadata": {
    "scrolled": true
   },
   "outputs": [
    {
     "name": "stdout",
     "output_type": "stream",
     "text": [
      "env: OPENAI_API_KEY=#Insert open AI API key here\n"
     ]
    }
   ],
   "source": [
    "%env OPENAI_API_KEY=#Insert open AI API key here"
   ]
  },
  {
   "cell_type": "code",
   "execution_count": 94,
   "id": "eef7c234-19b3-4dda-a5ec-bdd59288d846",
   "metadata": {},
   "outputs": [
    {
     "data": {
      "application/vnd.jupyter.widget-view+json": {
       "model_id": "2aa17a6df34b464c944d803100dd69ef",
       "version_major": 2,
       "version_minor": 0
      },
      "text/plain": [
       "Evaluating:   0%|          | 0/1 [00:00<?, ?it/s]"
      ]
     },
     "metadata": {},
     "output_type": "display_data"
    },
    {
     "data": {
      "text/plain": [
       "{'answer_relevancy': 0.8959}"
      ]
     },
     "execution_count": 94,
     "metadata": {},
     "output_type": "execute_result"
    }
   ],
   "source": [
    "score = ragas.evaluate(dataset,metrics=[answer_relevancy], raise_exceptions = False)\n",
    "score"
   ]
  },
  {
   "cell_type": "code",
   "execution_count": null,
   "id": "31f20808-4dc8-4d2f-b6e4-9b7dcbcd9438",
   "metadata": {},
   "outputs": [],
   "source": [
    "# TODO: Other Ragas metrics as well"
   ]
  }
 ],
 "metadata": {
  "colab": {
   "provenance": []
  },
  "kernelspec": {
   "display_name": "Python 3 (ipykernel)",
   "language": "python",
   "name": "python3"
  },
  "language_info": {
   "codemirror_mode": {
    "name": "ipython",
    "version": 3
   },
   "file_extension": ".py",
   "mimetype": "text/x-python",
   "name": "python",
   "nbconvert_exporter": "python",
   "pygments_lexer": "ipython3",
   "version": "3.11.9"
  }
 },
 "nbformat": 4,
 "nbformat_minor": 5
}
