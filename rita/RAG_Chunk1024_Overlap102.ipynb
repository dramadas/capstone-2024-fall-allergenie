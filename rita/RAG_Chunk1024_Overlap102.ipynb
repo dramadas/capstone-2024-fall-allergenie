{
 "cells": [
  {
   "cell_type": "markdown",
   "id": "J9y86_KPlUm6",
   "metadata": {
    "id": "J9y86_KPlUm6"
   },
   "source": [
    "**Resource:** https://github.com/aws-samples/Meta-Llama-on-AWS/blob/main/RAG-recipes/llama3-rag-langchain-smjs.ipynb"
   ]
  },
  {
   "cell_type": "markdown",
   "id": "lLuKPKGulaE7",
   "metadata": {
    "id": "lLuKPKGulaE7"
   },
   "source": [
    "* Embedding Model Used: *HuggingFace BGE Large EN Embedding model*\n",
    "* LLM Used: *HuggingFace Llama 3 8b Instruct LLM model*"
   ]
  },
  {
   "cell_type": "code",
   "execution_count": 1,
   "id": "7669e00e-f81b-4054-b7c7-dbf208dd3c7a",
   "metadata": {
    "id": "7669e00e-f81b-4054-b7c7-dbf208dd3c7a",
    "outputId": "59d7c039-b20b-4433-c1f5-543dcb6a6ea0"
   },
   "outputs": [
    {
     "name": "stdout",
     "output_type": "stream",
     "text": [
      "Overwriting requirements.txt\n"
     ]
    }
   ],
   "source": [
    "%%writefile requirements.txt\n",
    "langchain==0.1.14\n",
    "pypdf==4.1.0\n",
    "faiss-cpu==1.8.0\n",
    "boto3==1.34.58\n",
    "sqlalchemy==2.0.29"
   ]
  },
  {
   "cell_type": "code",
   "execution_count": 2,
   "id": "ce21f73c-4334-4d0c-9cbd-f9502a44fb96",
   "metadata": {
    "id": "ce21f73c-4334-4d0c-9cbd-f9502a44fb96",
    "outputId": "7b92100a-28dc-418d-c1be-309e9b4b487d"
   },
   "outputs": [
    {
     "name": "stdout",
     "output_type": "stream",
     "text": [
      "2.0.30\n"
     ]
    }
   ],
   "source": [
    "import sqlalchemy\n",
    "print(sqlalchemy.__version__)"
   ]
  },
  {
   "cell_type": "code",
   "execution_count": 3,
   "id": "755e8bfb-b5d7-4f27-9561-ecd91f3397bf",
   "metadata": {
    "id": "755e8bfb-b5d7-4f27-9561-ecd91f3397bf",
    "outputId": "bfbbac69-0c30-4f48-c029-e840b9c9933a"
   },
   "outputs": [
    {
     "name": "stdout",
     "output_type": "stream",
     "text": [
      "Collecting nvidia-ml-py3==7.352.0\n",
      "  Using cached nvidia_ml_py3-7.352.0-py3-none-any.whl\n",
      "Installing collected packages: nvidia-ml-py3\n",
      "\u001b[31mERROR: pip's dependency resolver does not currently take into account all the packages that are installed. This behaviour is the source of the following dependency conflicts.\n",
      "autogluon-multimodal 1.1.1 requires omegaconf<2.3.0,>=2.1.1, but you have omegaconf 2.3.0 which is incompatible.\n",
      "autogluon-multimodal 1.1.1 requires scikit-learn<1.4.1,>=1.3.0, but you have scikit-learn 1.4.2 which is incompatible.\u001b[0m\u001b[31m\n",
      "\u001b[0mSuccessfully installed nvidia-ml-py3-7.352.0\n",
      "Note: you may need to restart the kernel to use updated packages.\n"
     ]
    }
   ],
   "source": [
    "pip install nvidia-ml-py3==7.352.0"
   ]
  },
  {
   "cell_type": "code",
   "execution_count": 4,
   "id": "2fede8f3-4749-47fa-8905-89487c720eb1",
   "metadata": {
    "id": "2fede8f3-4749-47fa-8905-89487c720eb1",
    "outputId": "9e7879a8-277f-46be-9dce-53b03de83d6f"
   },
   "outputs": [
    {
     "name": "stdout",
     "output_type": "stream",
     "text": [
      "Collecting sqlparse==0.5.0\n",
      "  Using cached sqlparse-0.5.0-py3-none-any.whl.metadata (3.9 kB)\n",
      "Using cached sqlparse-0.5.0-py3-none-any.whl (43 kB)\n",
      "Installing collected packages: sqlparse\n",
      "  Attempting uninstall: sqlparse\n",
      "    Found existing installation: sqlparse 0.5.1\n",
      "    Uninstalling sqlparse-0.5.1:\n",
      "      Successfully uninstalled sqlparse-0.5.1\n",
      "Successfully installed sqlparse-0.5.0\n",
      "Note: you may need to restart the kernel to use updated packages.\n"
     ]
    }
   ],
   "source": [
    "pip install sqlparse==0.5.0"
   ]
  },
  {
   "cell_type": "code",
   "execution_count": 5,
   "id": "381349fb-f83e-4d62-b00b-0404204fb4ff",
   "metadata": {
    "id": "381349fb-f83e-4d62-b00b-0404204fb4ff",
    "outputId": "e8b912b4-4c64-40cc-e374-9e072b9ba61d"
   },
   "outputs": [
    {
     "name": "stdout",
     "output_type": "stream",
     "text": [
      "Collecting scikit-learn==1.3.0\n",
      "  Using cached scikit_learn-1.3.0-cp311-cp311-manylinux_2_17_x86_64.manylinux2014_x86_64.whl.metadata (11 kB)\n",
      "Requirement already satisfied: numpy>=1.17.3 in /opt/conda/lib/python3.11/site-packages (from scikit-learn==1.3.0) (1.26.4)\n",
      "Requirement already satisfied: scipy>=1.5.0 in /opt/conda/lib/python3.11/site-packages (from scikit-learn==1.3.0) (1.12.0)\n",
      "Requirement already satisfied: joblib>=1.1.1 in /opt/conda/lib/python3.11/site-packages (from scikit-learn==1.3.0) (1.4.2)\n",
      "Requirement already satisfied: threadpoolctl>=2.0.0 in /opt/conda/lib/python3.11/site-packages (from scikit-learn==1.3.0) (3.5.0)\n",
      "Using cached scikit_learn-1.3.0-cp311-cp311-manylinux_2_17_x86_64.manylinux2014_x86_64.whl (10.9 MB)\n",
      "Installing collected packages: scikit-learn\n",
      "  Attempting uninstall: scikit-learn\n",
      "    Found existing installation: scikit-learn 1.4.2\n",
      "    Uninstalling scikit-learn-1.4.2:\n",
      "      Successfully uninstalled scikit-learn-1.4.2\n",
      "\u001b[31mERROR: pip's dependency resolver does not currently take into account all the packages that are installed. This behaviour is the source of the following dependency conflicts.\n",
      "autogluon-multimodal 1.1.1 requires omegaconf<2.3.0,>=2.1.1, but you have omegaconf 2.3.0 which is incompatible.\n",
      "autogluon-timeseries 1.1.1 requires gluonts==0.15.1, but you have gluonts 0.14.3 which is incompatible.\u001b[0m\u001b[31m\n",
      "\u001b[0mSuccessfully installed scikit-learn-1.3.0\n",
      "Note: you may need to restart the kernel to use updated packages.\n"
     ]
    }
   ],
   "source": [
    "pip install scikit-learn==1.3.0"
   ]
  },
  {
   "cell_type": "code",
   "execution_count": 6,
   "id": "28ecaeec-934a-44e5-909c-fa3606b3f97e",
   "metadata": {
    "id": "28ecaeec-934a-44e5-909c-fa3606b3f97e",
    "outputId": "cc86bc94-9377-453d-b212-e5c6ba186497"
   },
   "outputs": [
    {
     "name": "stdout",
     "output_type": "stream",
     "text": [
      "Collecting omegaconf==2.2.3\n",
      "  Using cached omegaconf-2.2.3-py3-none-any.whl.metadata (3.9 kB)\n",
      "Requirement already satisfied: antlr4-python3-runtime==4.9.* in /opt/conda/lib/python3.11/site-packages (from omegaconf==2.2.3) (4.9.3)\n",
      "Requirement already satisfied: PyYAML>=5.1.0 in /opt/conda/lib/python3.11/site-packages (from omegaconf==2.2.3) (6.0.2)\n",
      "Using cached omegaconf-2.2.3-py3-none-any.whl (79 kB)\n",
      "Installing collected packages: omegaconf\n",
      "  Attempting uninstall: omegaconf\n",
      "    Found existing installation: omegaconf 2.3.0\n",
      "    Uninstalling omegaconf-2.3.0:\n",
      "      Successfully uninstalled omegaconf-2.3.0\n",
      "Successfully installed omegaconf-2.2.3\n",
      "Note: you may need to restart the kernel to use updated packages.\n"
     ]
    }
   ],
   "source": [
    "pip install omegaconf==2.2.3"
   ]
  },
  {
   "cell_type": "code",
   "execution_count": 7,
   "id": "58c5f5d9-6e4c-4652-896f-0620fe868df9",
   "metadata": {
    "id": "58c5f5d9-6e4c-4652-896f-0620fe868df9",
    "outputId": "b22f02ab-ba73-49ad-c3d8-2ffeb37067a4"
   },
   "outputs": [
    {
     "name": "stdout",
     "output_type": "stream",
     "text": [
      "Collecting gluonts==0.15.1\n",
      "  Using cached gluonts-0.15.1-py3-none-any.whl.metadata (9.9 kB)\n",
      "Requirement already satisfied: numpy~=1.16 in /opt/conda/lib/python3.11/site-packages (from gluonts==0.15.1) (1.26.4)\n",
      "Requirement already satisfied: pandas<3,>=1.0 in /opt/conda/lib/python3.11/site-packages (from gluonts==0.15.1) (2.2.2)\n",
      "Requirement already satisfied: pydantic<3,>=1.7 in /opt/conda/lib/python3.11/site-packages (from gluonts==0.15.1) (1.10.17)\n",
      "Requirement already satisfied: tqdm~=4.23 in /opt/conda/lib/python3.11/site-packages (from gluonts==0.15.1) (4.66.5)\n",
      "Requirement already satisfied: toolz~=0.10 in /opt/conda/lib/python3.11/site-packages (from gluonts==0.15.1) (0.12.1)\n",
      "Requirement already satisfied: typing-extensions~=4.0 in /opt/conda/lib/python3.11/site-packages (from gluonts==0.15.1) (4.12.2)\n",
      "Requirement already satisfied: python-dateutil>=2.8.2 in /opt/conda/lib/python3.11/site-packages (from pandas<3,>=1.0->gluonts==0.15.1) (2.9.0)\n",
      "Requirement already satisfied: pytz>=2020.1 in /opt/conda/lib/python3.11/site-packages (from pandas<3,>=1.0->gluonts==0.15.1) (2023.3)\n",
      "Requirement already satisfied: tzdata>=2022.7 in /opt/conda/lib/python3.11/site-packages (from pandas<3,>=1.0->gluonts==0.15.1) (2024.1)\n",
      "Requirement already satisfied: six>=1.5 in /opt/conda/lib/python3.11/site-packages (from python-dateutil>=2.8.2->pandas<3,>=1.0->gluonts==0.15.1) (1.16.0)\n",
      "Using cached gluonts-0.15.1-py3-none-any.whl (1.5 MB)\n",
      "Installing collected packages: gluonts\n",
      "  Attempting uninstall: gluonts\n",
      "    Found existing installation: gluonts 0.14.3\n",
      "    Uninstalling gluonts-0.14.3:\n",
      "      Successfully uninstalled gluonts-0.14.3\n",
      "Successfully installed gluonts-0.15.1\n",
      "Note: you may need to restart the kernel to use updated packages.\n"
     ]
    }
   ],
   "source": [
    "pip install gluonts==0.15.1"
   ]
  },
  {
   "cell_type": "code",
   "execution_count": 8,
   "id": "5101aaa5-ca70-4840-b647-133cf2bd3274",
   "metadata": {
    "id": "5101aaa5-ca70-4840-b647-133cf2bd3274",
    "outputId": "e22cf26a-e7cd-4b57-e6a7-d6ee4f8e9d91"
   },
   "outputs": [
    {
     "name": "stdout",
     "output_type": "stream",
     "text": [
      "Collecting langchain==0.1.14\n",
      "  Using cached langchain-0.1.14-py3-none-any.whl.metadata (13 kB)\n",
      "Requirement already satisfied: PyYAML>=5.3 in /opt/conda/lib/python3.11/site-packages (from langchain==0.1.14) (6.0.2)\n",
      "Requirement already satisfied: SQLAlchemy<3,>=1.4 in /opt/conda/lib/python3.11/site-packages (from langchain==0.1.14) (2.0.30)\n",
      "Requirement already satisfied: aiohttp<4.0.0,>=3.8.3 in /opt/conda/lib/python3.11/site-packages (from langchain==0.1.14) (3.9.5)\n",
      "Requirement already satisfied: dataclasses-json<0.7,>=0.5.7 in /opt/conda/lib/python3.11/site-packages (from langchain==0.1.14) (0.6.7)\n",
      "Requirement already satisfied: jsonpatch<2.0,>=1.33 in /opt/conda/lib/python3.11/site-packages (from langchain==0.1.14) (1.33)\n",
      "Collecting langchain-community<0.1,>=0.0.30 (from langchain==0.1.14)\n",
      "  Using cached langchain_community-0.0.38-py3-none-any.whl.metadata (8.7 kB)\n",
      "Collecting langchain-core<0.2.0,>=0.1.37 (from langchain==0.1.14)\n",
      "  Using cached langchain_core-0.1.52-py3-none-any.whl.metadata (5.9 kB)\n",
      "Collecting langchain-text-splitters<0.1,>=0.0.1 (from langchain==0.1.14)\n",
      "  Using cached langchain_text_splitters-0.0.2-py3-none-any.whl.metadata (2.2 kB)\n",
      "Requirement already satisfied: langsmith<0.2.0,>=0.1.17 in /opt/conda/lib/python3.11/site-packages (from langchain==0.1.14) (0.1.99)\n",
      "Requirement already satisfied: numpy<2,>=1 in /opt/conda/lib/python3.11/site-packages (from langchain==0.1.14) (1.26.4)\n",
      "Requirement already satisfied: pydantic<3,>=1 in /opt/conda/lib/python3.11/site-packages (from langchain==0.1.14) (1.10.17)\n",
      "Requirement already satisfied: requests<3,>=2 in /opt/conda/lib/python3.11/site-packages (from langchain==0.1.14) (2.32.3)\n",
      "Requirement already satisfied: tenacity<9.0.0,>=8.1.0 in /opt/conda/lib/python3.11/site-packages (from langchain==0.1.14) (8.5.0)\n",
      "Requirement already satisfied: aiosignal>=1.1.2 in /opt/conda/lib/python3.11/site-packages (from aiohttp<4.0.0,>=3.8.3->langchain==0.1.14) (1.3.1)\n",
      "Requirement already satisfied: attrs>=17.3.0 in /opt/conda/lib/python3.11/site-packages (from aiohttp<4.0.0,>=3.8.3->langchain==0.1.14) (23.2.0)\n",
      "Requirement already satisfied: frozenlist>=1.1.1 in /opt/conda/lib/python3.11/site-packages (from aiohttp<4.0.0,>=3.8.3->langchain==0.1.14) (1.4.1)\n",
      "Requirement already satisfied: multidict<7.0,>=4.5 in /opt/conda/lib/python3.11/site-packages (from aiohttp<4.0.0,>=3.8.3->langchain==0.1.14) (6.0.5)\n",
      "Requirement already satisfied: yarl<2.0,>=1.0 in /opt/conda/lib/python3.11/site-packages (from aiohttp<4.0.0,>=3.8.3->langchain==0.1.14) (1.9.4)\n",
      "Requirement already satisfied: marshmallow<4.0.0,>=3.18.0 in /opt/conda/lib/python3.11/site-packages (from dataclasses-json<0.7,>=0.5.7->langchain==0.1.14) (3.21.3)\n",
      "Requirement already satisfied: typing-inspect<1,>=0.4.0 in /opt/conda/lib/python3.11/site-packages (from dataclasses-json<0.7,>=0.5.7->langchain==0.1.14) (0.9.0)\n",
      "Requirement already satisfied: jsonpointer>=1.9 in /opt/conda/lib/python3.11/site-packages (from jsonpatch<2.0,>=1.33->langchain==0.1.14) (3.0.0)\n",
      "Collecting packaging<24.0,>=23.2 (from langchain-core<0.2.0,>=0.1.37->langchain==0.1.14)\n",
      "  Using cached packaging-23.2-py3-none-any.whl.metadata (3.2 kB)\n",
      "Requirement already satisfied: orjson<4.0.0,>=3.9.14 in /opt/conda/lib/python3.11/site-packages (from langsmith<0.2.0,>=0.1.17->langchain==0.1.14) (3.10.7)\n",
      "Requirement already satisfied: typing-extensions>=4.2.0 in /opt/conda/lib/python3.11/site-packages (from pydantic<3,>=1->langchain==0.1.14) (4.12.2)\n",
      "Requirement already satisfied: charset-normalizer<4,>=2 in /opt/conda/lib/python3.11/site-packages (from requests<3,>=2->langchain==0.1.14) (3.3.2)\n",
      "Requirement already satisfied: idna<4,>=2.5 in /opt/conda/lib/python3.11/site-packages (from requests<3,>=2->langchain==0.1.14) (3.7)\n",
      "Requirement already satisfied: urllib3<3,>=1.21.1 in /opt/conda/lib/python3.11/site-packages (from requests<3,>=2->langchain==0.1.14) (1.26.19)\n",
      "Requirement already satisfied: certifi>=2017.4.17 in /opt/conda/lib/python3.11/site-packages (from requests<3,>=2->langchain==0.1.14) (2024.7.4)\n",
      "Requirement already satisfied: greenlet!=0.4.17 in /opt/conda/lib/python3.11/site-packages (from SQLAlchemy<3,>=1.4->langchain==0.1.14) (3.0.3)\n",
      "Requirement already satisfied: mypy-extensions>=0.3.0 in /opt/conda/lib/python3.11/site-packages (from typing-inspect<1,>=0.4.0->dataclasses-json<0.7,>=0.5.7->langchain==0.1.14) (1.0.0)\n",
      "Using cached langchain-0.1.14-py3-none-any.whl (812 kB)\n",
      "Using cached langchain_community-0.0.38-py3-none-any.whl (2.0 MB)\n",
      "Using cached langchain_core-0.1.52-py3-none-any.whl (302 kB)\n",
      "Using cached langchain_text_splitters-0.0.2-py3-none-any.whl (23 kB)\n",
      "Using cached packaging-23.2-py3-none-any.whl (53 kB)\n",
      "Installing collected packages: packaging, langchain-core, langchain-text-splitters, langchain-community, langchain\n",
      "  Attempting uninstall: packaging\n",
      "    Found existing installation: packaging 24.1\n",
      "    Uninstalling packaging-24.1:\n",
      "      Successfully uninstalled packaging-24.1\n",
      "  Attempting uninstall: langchain-core\n",
      "    Found existing installation: langchain-core 0.2.33\n",
      "    Uninstalling langchain-core-0.2.33:\n",
      "      Successfully uninstalled langchain-core-0.2.33\n",
      "  Attempting uninstall: langchain-text-splitters\n",
      "    Found existing installation: langchain-text-splitters 0.2.2\n",
      "    Uninstalling langchain-text-splitters-0.2.2:\n",
      "      Successfully uninstalled langchain-text-splitters-0.2.2\n",
      "  Attempting uninstall: langchain-community\n",
      "    Found existing installation: langchain-community 0.2.12\n",
      "    Uninstalling langchain-community-0.2.12:\n",
      "      Successfully uninstalled langchain-community-0.2.12\n",
      "  Attempting uninstall: langchain\n",
      "    Found existing installation: langchain 0.2.5\n",
      "    Uninstalling langchain-0.2.5:\n",
      "      Successfully uninstalled langchain-0.2.5\n",
      "\u001b[31mERROR: pip's dependency resolver does not currently take into account all the packages that are installed. This behaviour is the source of the following dependency conflicts.\n",
      "jupyter-ai 2.20.0 requires faiss-cpu<=1.8.0, which is not installed.\n",
      "jupyter-ai-magics 2.20.0 requires langchain-community<0.3.0,>=0.1.0, but you have langchain-community 0.0.38 which is incompatible.\n",
      "langchain-aws 0.1.16 requires langchain-core<0.3,>=0.2.29, but you have langchain-core 0.1.52 which is incompatible.\n",
      "sagemaker 2.227.0 requires boto3<2.0,>=1.34.142, but you have boto3 1.34.131 which is incompatible.\n",
      "sparkmagic 0.21.0 requires pandas<2.0.0,>=0.17.1, but you have pandas 2.2.2 which is incompatible.\u001b[0m\u001b[31m\n",
      "\u001b[0mSuccessfully installed langchain-0.1.14 langchain-community-0.0.38 langchain-core-0.1.52 langchain-text-splitters-0.0.2 packaging-23.2\n",
      "Note: you may need to restart the kernel to use updated packages.\n"
     ]
    }
   ],
   "source": [
    "pip install langchain==0.1.14"
   ]
  },
  {
   "cell_type": "code",
   "execution_count": 9,
   "id": "83c3eb82-3e37-4f43-bb7e-88d5bec7f434",
   "metadata": {
    "id": "83c3eb82-3e37-4f43-bb7e-88d5bec7f434",
    "outputId": "72386820-87ec-4499-fb8c-6741bfa83559"
   },
   "outputs": [
    {
     "name": "stdout",
     "output_type": "stream",
     "text": [
      "Collecting boto3==1.34.58\n",
      "  Using cached boto3-1.34.58-py3-none-any.whl.metadata (6.6 kB)\n",
      "Requirement already satisfied: botocore<1.35.0,>=1.34.58 in /opt/conda/lib/python3.11/site-packages (from boto3==1.34.58) (1.34.131)\n",
      "Requirement already satisfied: jmespath<2.0.0,>=0.7.1 in /opt/conda/lib/python3.11/site-packages (from boto3==1.34.58) (1.0.1)\n",
      "Requirement already satisfied: s3transfer<0.11.0,>=0.10.0 in /opt/conda/lib/python3.11/site-packages (from boto3==1.34.58) (0.10.2)\n",
      "Requirement already satisfied: python-dateutil<3.0.0,>=2.1 in /opt/conda/lib/python3.11/site-packages (from botocore<1.35.0,>=1.34.58->boto3==1.34.58) (2.9.0)\n",
      "Requirement already satisfied: urllib3!=2.2.0,<3,>=1.25.4 in /opt/conda/lib/python3.11/site-packages (from botocore<1.35.0,>=1.34.58->boto3==1.34.58) (1.26.19)\n",
      "Requirement already satisfied: six>=1.5 in /opt/conda/lib/python3.11/site-packages (from python-dateutil<3.0.0,>=2.1->botocore<1.35.0,>=1.34.58->boto3==1.34.58) (1.16.0)\n",
      "Using cached boto3-1.34.58-py3-none-any.whl (139 kB)\n",
      "Installing collected packages: boto3\n",
      "  Attempting uninstall: boto3\n",
      "    Found existing installation: boto3 1.34.131\n",
      "    Uninstalling boto3-1.34.131:\n",
      "      Successfully uninstalled boto3-1.34.131\n",
      "\u001b[31mERROR: pip's dependency resolver does not currently take into account all the packages that are installed. This behaviour is the source of the following dependency conflicts.\n",
      "langchain-aws 0.1.16 requires boto3<1.35.0,>=1.34.131, but you have boto3 1.34.58 which is incompatible.\n",
      "langchain-aws 0.1.16 requires langchain-core<0.3,>=0.2.29, but you have langchain-core 0.1.52 which is incompatible.\n",
      "sagemaker 2.227.0 requires boto3<2.0,>=1.34.142, but you have boto3 1.34.58 which is incompatible.\u001b[0m\u001b[31m\n",
      "\u001b[0mSuccessfully installed boto3-1.34.58\n",
      "Note: you may need to restart the kernel to use updated packages.\n"
     ]
    }
   ],
   "source": [
    "pip install boto3==1.34.58"
   ]
  },
  {
   "cell_type": "code",
   "execution_count": 10,
   "id": "f2db44b7-8505-42eb-86bb-3abac2b1b1db",
   "metadata": {
    "id": "f2db44b7-8505-42eb-86bb-3abac2b1b1db",
    "outputId": "a652d5bf-9732-4125-ccae-0de6164e0d0a"
   },
   "outputs": [
    {
     "name": "stdout",
     "output_type": "stream",
     "text": [
      "Requirement already satisfied: langchain==0.1.14 in /opt/conda/lib/python3.11/site-packages (from -r requirements.txt (line 1)) (0.1.14)\n",
      "Collecting pypdf==4.1.0 (from -r requirements.txt (line 2))\n",
      "  Using cached pypdf-4.1.0-py3-none-any.whl.metadata (7.4 kB)\n",
      "Collecting faiss-cpu==1.8.0 (from -r requirements.txt (line 3))\n",
      "  Using cached faiss_cpu-1.8.0-cp311-cp311-manylinux_2_17_x86_64.manylinux2014_x86_64.whl.metadata (3.6 kB)\n",
      "Requirement already satisfied: boto3==1.34.58 in /opt/conda/lib/python3.11/site-packages (from -r requirements.txt (line 4)) (1.34.58)\n",
      "Collecting sqlalchemy==2.0.29 (from -r requirements.txt (line 5))\n",
      "  Using cached SQLAlchemy-2.0.29-cp311-cp311-manylinux_2_17_x86_64.manylinux2014_x86_64.whl.metadata (9.6 kB)\n",
      "Requirement already satisfied: PyYAML>=5.3 in /opt/conda/lib/python3.11/site-packages (from langchain==0.1.14->-r requirements.txt (line 1)) (6.0.2)\n",
      "Requirement already satisfied: aiohttp<4.0.0,>=3.8.3 in /opt/conda/lib/python3.11/site-packages (from langchain==0.1.14->-r requirements.txt (line 1)) (3.9.5)\n",
      "Requirement already satisfied: dataclasses-json<0.7,>=0.5.7 in /opt/conda/lib/python3.11/site-packages (from langchain==0.1.14->-r requirements.txt (line 1)) (0.6.7)\n",
      "Requirement already satisfied: jsonpatch<2.0,>=1.33 in /opt/conda/lib/python3.11/site-packages (from langchain==0.1.14->-r requirements.txt (line 1)) (1.33)\n",
      "Requirement already satisfied: langchain-community<0.1,>=0.0.30 in /opt/conda/lib/python3.11/site-packages (from langchain==0.1.14->-r requirements.txt (line 1)) (0.0.38)\n",
      "Requirement already satisfied: langchain-core<0.2.0,>=0.1.37 in /opt/conda/lib/python3.11/site-packages (from langchain==0.1.14->-r requirements.txt (line 1)) (0.1.52)\n",
      "Requirement already satisfied: langchain-text-splitters<0.1,>=0.0.1 in /opt/conda/lib/python3.11/site-packages (from langchain==0.1.14->-r requirements.txt (line 1)) (0.0.2)\n",
      "Requirement already satisfied: langsmith<0.2.0,>=0.1.17 in /opt/conda/lib/python3.11/site-packages (from langchain==0.1.14->-r requirements.txt (line 1)) (0.1.99)\n",
      "Requirement already satisfied: numpy<2,>=1 in /opt/conda/lib/python3.11/site-packages (from langchain==0.1.14->-r requirements.txt (line 1)) (1.26.4)\n",
      "Requirement already satisfied: pydantic<3,>=1 in /opt/conda/lib/python3.11/site-packages (from langchain==0.1.14->-r requirements.txt (line 1)) (1.10.17)\n",
      "Requirement already satisfied: requests<3,>=2 in /opt/conda/lib/python3.11/site-packages (from langchain==0.1.14->-r requirements.txt (line 1)) (2.32.3)\n",
      "Requirement already satisfied: tenacity<9.0.0,>=8.1.0 in /opt/conda/lib/python3.11/site-packages (from langchain==0.1.14->-r requirements.txt (line 1)) (8.5.0)\n",
      "Requirement already satisfied: botocore<1.35.0,>=1.34.58 in /opt/conda/lib/python3.11/site-packages (from boto3==1.34.58->-r requirements.txt (line 4)) (1.34.131)\n",
      "Requirement already satisfied: jmespath<2.0.0,>=0.7.1 in /opt/conda/lib/python3.11/site-packages (from boto3==1.34.58->-r requirements.txt (line 4)) (1.0.1)\n",
      "Requirement already satisfied: s3transfer<0.11.0,>=0.10.0 in /opt/conda/lib/python3.11/site-packages (from boto3==1.34.58->-r requirements.txt (line 4)) (0.10.2)\n",
      "Requirement already satisfied: typing-extensions>=4.6.0 in /opt/conda/lib/python3.11/site-packages (from sqlalchemy==2.0.29->-r requirements.txt (line 5)) (4.12.2)\n",
      "Requirement already satisfied: greenlet!=0.4.17 in /opt/conda/lib/python3.11/site-packages (from sqlalchemy==2.0.29->-r requirements.txt (line 5)) (3.0.3)\n",
      "Requirement already satisfied: aiosignal>=1.1.2 in /opt/conda/lib/python3.11/site-packages (from aiohttp<4.0.0,>=3.8.3->langchain==0.1.14->-r requirements.txt (line 1)) (1.3.1)\n",
      "Requirement already satisfied: attrs>=17.3.0 in /opt/conda/lib/python3.11/site-packages (from aiohttp<4.0.0,>=3.8.3->langchain==0.1.14->-r requirements.txt (line 1)) (23.2.0)\n",
      "Requirement already satisfied: frozenlist>=1.1.1 in /opt/conda/lib/python3.11/site-packages (from aiohttp<4.0.0,>=3.8.3->langchain==0.1.14->-r requirements.txt (line 1)) (1.4.1)\n",
      "Requirement already satisfied: multidict<7.0,>=4.5 in /opt/conda/lib/python3.11/site-packages (from aiohttp<4.0.0,>=3.8.3->langchain==0.1.14->-r requirements.txt (line 1)) (6.0.5)\n",
      "Requirement already satisfied: yarl<2.0,>=1.0 in /opt/conda/lib/python3.11/site-packages (from aiohttp<4.0.0,>=3.8.3->langchain==0.1.14->-r requirements.txt (line 1)) (1.9.4)\n",
      "Requirement already satisfied: python-dateutil<3.0.0,>=2.1 in /opt/conda/lib/python3.11/site-packages (from botocore<1.35.0,>=1.34.58->boto3==1.34.58->-r requirements.txt (line 4)) (2.9.0)\n",
      "Requirement already satisfied: urllib3!=2.2.0,<3,>=1.25.4 in /opt/conda/lib/python3.11/site-packages (from botocore<1.35.0,>=1.34.58->boto3==1.34.58->-r requirements.txt (line 4)) (1.26.19)\n",
      "Requirement already satisfied: marshmallow<4.0.0,>=3.18.0 in /opt/conda/lib/python3.11/site-packages (from dataclasses-json<0.7,>=0.5.7->langchain==0.1.14->-r requirements.txt (line 1)) (3.21.3)\n",
      "Requirement already satisfied: typing-inspect<1,>=0.4.0 in /opt/conda/lib/python3.11/site-packages (from dataclasses-json<0.7,>=0.5.7->langchain==0.1.14->-r requirements.txt (line 1)) (0.9.0)\n",
      "Requirement already satisfied: jsonpointer>=1.9 in /opt/conda/lib/python3.11/site-packages (from jsonpatch<2.0,>=1.33->langchain==0.1.14->-r requirements.txt (line 1)) (3.0.0)\n",
      "Requirement already satisfied: packaging<24.0,>=23.2 in /opt/conda/lib/python3.11/site-packages (from langchain-core<0.2.0,>=0.1.37->langchain==0.1.14->-r requirements.txt (line 1)) (23.2)\n",
      "Requirement already satisfied: orjson<4.0.0,>=3.9.14 in /opt/conda/lib/python3.11/site-packages (from langsmith<0.2.0,>=0.1.17->langchain==0.1.14->-r requirements.txt (line 1)) (3.10.7)\n",
      "Requirement already satisfied: charset-normalizer<4,>=2 in /opt/conda/lib/python3.11/site-packages (from requests<3,>=2->langchain==0.1.14->-r requirements.txt (line 1)) (3.3.2)\n",
      "Requirement already satisfied: idna<4,>=2.5 in /opt/conda/lib/python3.11/site-packages (from requests<3,>=2->langchain==0.1.14->-r requirements.txt (line 1)) (3.7)\n",
      "Requirement already satisfied: certifi>=2017.4.17 in /opt/conda/lib/python3.11/site-packages (from requests<3,>=2->langchain==0.1.14->-r requirements.txt (line 1)) (2024.7.4)\n",
      "Requirement already satisfied: six>=1.5 in /opt/conda/lib/python3.11/site-packages (from python-dateutil<3.0.0,>=2.1->botocore<1.35.0,>=1.34.58->boto3==1.34.58->-r requirements.txt (line 4)) (1.16.0)\n",
      "Requirement already satisfied: mypy-extensions>=0.3.0 in /opt/conda/lib/python3.11/site-packages (from typing-inspect<1,>=0.4.0->dataclasses-json<0.7,>=0.5.7->langchain==0.1.14->-r requirements.txt (line 1)) (1.0.0)\n",
      "Using cached pypdf-4.1.0-py3-none-any.whl (286 kB)\n",
      "Using cached faiss_cpu-1.8.0-cp311-cp311-manylinux_2_17_x86_64.manylinux2014_x86_64.whl (27.0 MB)\n",
      "Using cached SQLAlchemy-2.0.29-cp311-cp311-manylinux_2_17_x86_64.manylinux2014_x86_64.whl (3.2 MB)\n",
      "Installing collected packages: sqlalchemy, pypdf, faiss-cpu\n",
      "  Attempting uninstall: sqlalchemy\n",
      "    Found existing installation: SQLAlchemy 2.0.30\n",
      "    Uninstalling SQLAlchemy-2.0.30:\n",
      "      Successfully uninstalled SQLAlchemy-2.0.30\n",
      "Successfully installed faiss-cpu-1.8.0 pypdf-4.1.0 sqlalchemy-2.0.32\n"
     ]
    }
   ],
   "source": [
    "!pip install -U -r requirements.txt"
   ]
  },
  {
   "cell_type": "code",
   "execution_count": 11,
   "id": "16247b8a-3f04-443e-b7dc-5a8a2e704e1c",
   "metadata": {
    "id": "16247b8a-3f04-443e-b7dc-5a8a2e704e1c",
    "outputId": "d251dd20-bd45-4caf-8cbc-7d233ae7bd28"
   },
   "outputs": [
    {
     "name": "stdout",
     "output_type": "stream",
     "text": [
      "0.1.14\n"
     ]
    }
   ],
   "source": [
    "import langchain\n",
    "print(langchain.__version__)"
   ]
  },
  {
   "cell_type": "code",
   "execution_count": 12,
   "id": "f416f576-9ac1-4a01-8dbf-bd6ed15c4565",
   "metadata": {
    "id": "f416f576-9ac1-4a01-8dbf-bd6ed15c4565",
    "outputId": "a768f761-5962-47e1-9da6-bffb4a305156"
   },
   "outputs": [
    {
     "name": "stdout",
     "output_type": "stream",
     "text": [
      "sagemaker.config INFO - Not applying SDK defaults from location: /etc/xdg/sagemaker/config.yaml\n",
      "sagemaker.config INFO - Not applying SDK defaults from location: /home/sagemaker-user/.config/sagemaker/config.yaml\n"
     ]
    }
   ],
   "source": [
    "try:\n",
    "    import sagemaker\n",
    "except ImportError:\n",
    "    !pip install sagemaker"
   ]
  },
  {
   "cell_type": "code",
   "execution_count": 13,
   "id": "8e421940-275f-4e09-ae23-7c384265ff36",
   "metadata": {
    "id": "8e421940-275f-4e09-ae23-7c384265ff36"
   },
   "outputs": [],
   "source": [
    "# Import the JumpStartModel class from the SageMaker JumpStart library\n",
    "from sagemaker.jumpstart.model import JumpStartModel"
   ]
  },
  {
   "cell_type": "code",
   "execution_count": 14,
   "id": "2bed3f89-4c20-452e-b13d-37aa6baa6b7a",
   "metadata": {
    "id": "2bed3f89-4c20-452e-b13d-37aa6baa6b7a"
   },
   "outputs": [],
   "source": [
    "# Specify the model ID for the HuggingFace Llama 3 8b Instruct LLM model\n",
    "model_id = \"meta-textgeneration-llama-3-8b-instruct\"\n",
    "accept_eula = True\n",
    "model = JumpStartModel(model_id=model_id, model_version=\"2.7.0\", instance_type= \"ml.g5.2xlarge\")"
   ]
  },
  {
   "cell_type": "code",
   "execution_count": 15,
   "id": "55a2761b-6f4e-4b43-950f-b5484f56a59f",
   "metadata": {
    "id": "55a2761b-6f4e-4b43-950f-b5484f56a59f",
    "outputId": "70e69864-9974-484b-8799-745970b88ead",
    "scrolled": true
   },
   "outputs": [
    {
     "name": "stdout",
     "output_type": "stream",
     "text": [
      "-----------------!"
     ]
    }
   ],
   "source": [
    "predictor = model.deploy(accept_eula=accept_eula, instance_type=\"ml.g5.2xlarge\")"
   ]
  },
  {
   "cell_type": "code",
   "execution_count": 16,
   "id": "ee556c54-018e-4229-8ce5-df3f50a39932",
   "metadata": {
    "id": "ee556c54-018e-4229-8ce5-df3f50a39932"
   },
   "outputs": [],
   "source": [
    "# Specify the model ID for the HuggingFace BGE Large EN Embedding model\n",
    "model_id = \"huggingface-sentencesimilarity-bge-large-en-v1-5\"\n",
    "text_embedding_model = JumpStartModel(model_id=model_id,model_version=\"1.1.1\")"
   ]
  },
  {
   "cell_type": "code",
   "execution_count": 17,
   "id": "915c0d77-6a33-4fd5-9172-3a51a82e02fb",
   "metadata": {
    "id": "915c0d77-6a33-4fd5-9172-3a51a82e02fb",
    "outputId": "9622b492-167f-4ba5-8cfb-35fefc016b6c"
   },
   "outputs": [
    {
     "name": "stdout",
     "output_type": "stream",
     "text": [
      "-----------!"
     ]
    }
   ],
   "source": [
    "embedding_predictor = text_embedding_model.deploy(instance_type=\"ml.g5.2xlarge\")"
   ]
  },
  {
   "cell_type": "code",
   "execution_count": 18,
   "id": "1e88bc85-bd59-4dd5-b901-7b5bddd89563",
   "metadata": {
    "id": "1e88bc85-bd59-4dd5-b901-7b5bddd89563"
   },
   "outputs": [],
   "source": [
    "import json\n",
    "import sagemaker\n",
    "\n",
    "from langchain_core.prompts import PromptTemplate\n",
    "from langchain_community.llms import SagemakerEndpoint\n",
    "from langchain_community.embeddings import SagemakerEndpointEmbeddings\n",
    "from langchain_community.llms.sagemaker_endpoint import LLMContentHandler\n",
    "from langchain_community.embeddings.sagemaker_endpoint import EmbeddingsContentHandler"
   ]
  },
  {
   "cell_type": "code",
   "execution_count": 19,
   "id": "341ccad9-043e-428f-b1b3-5c2bbfb49626",
   "metadata": {
    "id": "341ccad9-043e-428f-b1b3-5c2bbfb49626"
   },
   "outputs": [],
   "source": [
    "sess = sagemaker.session.Session()\n",
    "region = sess._region_name"
   ]
  },
  {
   "cell_type": "code",
   "execution_count": 21,
   "id": "ce1fcce5-c95f-40c4-894a-9ff8ebcd3c65",
   "metadata": {
    "id": "ce1fcce5-c95f-40c4-894a-9ff8ebcd3c65"
   },
   "outputs": [],
   "source": [
    "llm_endpoint_name = \"meta-textgeneration-llama-3-8b-instruct-2024-10-21-03-19-59-720\"\n",
    "embedding_endpoint_name = \"hf-sentencesimilarity-bge-large-en-v1-5-2024-10-21-03-29-02-993\""
   ]
  },
  {
   "cell_type": "code",
   "execution_count": 22,
   "id": "856dcb89-e51e-4f56-8656-44c42e85e05a",
   "metadata": {
    "id": "856dcb89-e51e-4f56-8656-44c42e85e05a"
   },
   "outputs": [],
   "source": [
    "# testing out my endpoint\n",
    "import boto3\n",
    "runtime_client = boto3.client('sagemaker-runtime', region_name=region)\n",
    "\n",
    "input_prompt = {\n",
    "    \"inputs\": \"Where is the capital of China?\"\n",
    "}\n",
    "\n",
    "response = runtime_client.invoke_endpoint(\n",
    "    EndpointName=llm_endpoint_name,\n",
    "    ContentType='application/json',\n",
    "    Body=json.dumps(input_prompt)\n",
    ")"
   ]
  },
  {
   "cell_type": "code",
   "execution_count": 23,
   "id": "21340eea-6cc9-47e5-a489-8f1192d648d6",
   "metadata": {
    "id": "21340eea-6cc9-47e5-a489-8f1192d648d6",
    "outputId": "c11d8522-eab9-4673-e096-af6e6dd2010b"
   },
   "outputs": [
    {
     "name": "stdout",
     "output_type": "stream",
     "text": [
      "LLM Response: {'generated_text': ' The capital of China is Beijing. Beijing is located in the northern part of the country and is the second most populous city in China, with a population'}\n"
     ]
    }
   ],
   "source": [
    "# read and print the output\n",
    "output = json.loads(response['Body'].read().decode())\n",
    "print(\"LLM Response:\", output)"
   ]
  },
  {
   "cell_type": "code",
   "execution_count": 20,
   "id": "1d16164e-6a20-420f-b36a-f4a80b8856bf",
   "metadata": {
    "id": "1d16164e-6a20-420f-b36a-f4a80b8856bf"
   },
   "outputs": [],
   "source": [
    "from typing import Dict\n",
    "\n",
    "class Llama38BContentHandler(LLMContentHandler):\n",
    "    content_type = \"application/json\"\n",
    "    accepts = \"application/json\"\n",
    "\n",
    "    def transform_input(self, prompt: str, model_kwargs: dict) -> bytes:\n",
    "        payload = {\n",
    "            \"inputs\": prompt,\n",
    "            # default parameters\n",
    "            \"parameters\": {\n",
    "                # Controls the maximum number of tokens the model can generate\n",
    "                \"max_new_tokens\": 1000,\n",
    "                # lower value makes the model more deterministic / higher value allows for more diverse responses\n",
    "                \"top_p\": 0.9,\n",
    "                # randomness\n",
    "                \"temperature\": 0.6,\n",
    "                \"stop\": [\"<|eot_id|>\"],\n",
    "            },\n",
    "        }\n",
    "        input_str = json.dumps(\n",
    "            payload,\n",
    "        )\n",
    "        print(input_str)\n",
    "        return input_str.encode(\"utf-8\")\n",
    "\n",
    "    def transform_output(self, output: bytes) -> str:\n",
    "        response_json = json.loads(output.read().decode(\"utf-8\"))\n",
    "        print(response_json)\n",
    "        content = response_json[\"generated_text\"].strip()\n",
    "        return content"
   ]
  },
  {
   "cell_type": "code",
   "execution_count": 24,
   "id": "212bc9d6-e447-4543-8f78-055ea54964e1",
   "metadata": {
    "id": "212bc9d6-e447-4543-8f78-055ea54964e1"
   },
   "outputs": [],
   "source": [
    "# Instantiate the content handler for Llama3-8B\n",
    "llama_content_handler = Llama38BContentHandler()\n",
    "\n",
    "# Setup for using the Llama3-8B model with SageMaker Endpoint\n",
    "llm = SagemakerEndpoint(\n",
    "     endpoint_name=llm_endpoint_name,\n",
    "     region_name=region,\n",
    "     model_kwargs={\"max_new_tokens\": 2000, \"top_p\": 0.9, \"temperature\": 0.7},\n",
    "     content_handler=llama_content_handler\n",
    " )"
   ]
  },
  {
   "cell_type": "code",
   "execution_count": 25,
   "id": "049303f4-b4b2-40de-8eab-0327a323344a",
   "metadata": {
    "id": "049303f4-b4b2-40de-8eab-0327a323344a"
   },
   "outputs": [],
   "source": [
    "from typing import List\n",
    "\n",
    "class BGEContentHandlerV15(EmbeddingsContentHandler):\n",
    "    content_type = \"application/json\"\n",
    "    accepts = \"application/json\"\n",
    "\n",
    "    def transform_input(self, text_inputs: List[str], model_kwargs: dict) -> bytes:\n",
    "        \"\"\"\n",
    "        Transforms the input into bytes that can be consumed by SageMaker endpoint.\n",
    "        Args:\n",
    "            text_inputs (list[str]): A list of input text strings to be processed.\n",
    "            model_kwargs (Dict): Additional keyword arguments to be passed to the endpoint.\n",
    "               Possible keys and their descriptions:\n",
    "               - mode (str): Inference method. Valid modes are 'embedding', 'nn_corpus', and 'nn_train_data'.\n",
    "               - corpus (str): Corpus for Nearest Neighbor. Required when mode is 'nn_corpus'.\n",
    "               - top_k (int): Top K for Nearest Neighbor. Required when mode is 'nn_corpus'.\n",
    "               - queries (list[str]): Queries for Nearest Neighbor. Required when mode is 'nn_corpus' or 'nn_train_data'.\n",
    "        Returns:\n",
    "            The transformed bytes input.\n",
    "        \"\"\"\n",
    "        input_str = json.dumps(\n",
    "            {\n",
    "                \"text_inputs\": text_inputs,\n",
    "                **model_kwargs\n",
    "            }\n",
    "        )\n",
    "        return input_str.encode(\"utf-8\")\n",
    "\n",
    "    def transform_output(self, output: bytes) -> List[List[float]]:\n",
    "        \"\"\"\n",
    "        Transforms the bytes output from the endpoint into a list of embeddings.\n",
    "        Args:\n",
    "            output: The bytes output from SageMaker endpoint.\n",
    "        Returns:\n",
    "            The transformed output - list of embeddings\n",
    "        Note:\n",
    "            The length of the outer list is the number of input strings.\n",
    "            The length of the inner lists is the embedding dimension.\n",
    "        \"\"\"\n",
    "        response_json = json.loads(output.read().decode(\"utf-8\"))\n",
    "        return response_json[\"embedding\"]"
   ]
  },
  {
   "cell_type": "code",
   "execution_count": 26,
   "id": "3ac5a543-7597-4e4f-98e5-678d09014751",
   "metadata": {
    "id": "3ac5a543-7597-4e4f-98e5-678d09014751"
   },
   "outputs": [],
   "source": [
    "bge_content_handler = BGEContentHandlerV15()\n",
    "sagemaker_embeddings = SagemakerEndpointEmbeddings(\n",
    "    endpoint_name=embedding_endpoint_name,\n",
    "    region_name=region,\n",
    "    model_kwargs={\"mode\": \"embedding\"},\n",
    "    content_handler=bge_content_handler,\n",
    ")"
   ]
  },
  {
   "cell_type": "code",
   "execution_count": 27,
   "id": "4105adc2-dbf6-4de1-847e-e4a7b20ea737",
   "metadata": {
    "id": "4105adc2-dbf6-4de1-847e-e4a7b20ea737",
    "outputId": "085fa715-d31a-4beb-9542-3918c02b390c"
   },
   "outputs": [
    {
     "name": "stdout",
     "output_type": "stream",
     "text": [
      "Contents of the current directory:\n",
      "recipe-data-sagemaker.pdf\n",
      "recipe-data-sagemaker2.pdf\n"
     ]
    }
   ],
   "source": [
    "import os\n",
    "os.chdir('user-default-efs')\n",
    "contents = os.listdir()\n",
    "pdf_files = [item for item in contents if item.endswith('.pdf')]\n",
    "\n",
    "print(\"Contents of the current directory:\")\n",
    "for item in pdf_files:\n",
    "    print(item)"
   ]
  },
  {
   "cell_type": "code",
   "execution_count": 121,
   "id": "eba6953a-43b4-43d5-995f-175e66a4eb81",
   "metadata": {
    "id": "eba6953a-43b4-43d5-995f-175e66a4eb81",
    "outputId": "0ef1cfd7-dc3d-4afa-8501-1ff9589bc4fb"
   },
   "outputs": [
    {
     "name": "stdout",
     "output_type": "stream",
     "text": [
      "page_content='title\\ningredients\\ninstructions\\nBlackberry\\nLemonade\\nMuddle\\n2\\ncups\\nblackberries\\nwith\\n2 \\ncups\\nsimple\\nsyrup\\n(recipe\\nfollows)\\nin \\na\\npitcher.\\nStir\\nin\\n2\\ncups\\neach\\nfresh \\nlemon\\njuice\\nand\\nwater;\\nadd\\nice\\nand \\nlemon\\nslices. \\nSimple\\nSyrup:\\nTo\\nmake\\n2\\ncups\\nsimple \\nsyrup,\\nbring\\n1\\n1/2cups\\neach\\nsugar\\nand \\nwater\\nto\\na\\nboil,\\nstirring\\nuntil \\ndissolved.\\nLet\\ncool. \\nPhotograph\\nby\\nJonathan\\nKantor\\nUltra\\nCreamy\\nBlack\\nand\\nWhite \\nCheesecake\\nNonstick\\ncooking\\nspray,\\n1\\n1/2\\ncups \\nplus\\n2\\ntablespoons\\nsugar,\\n25\\nchocolate \\nwafer\\ncookies\\nfrom\\none\\n9-ounce \\npackage,\\n4\\ntablespoons\\nunsalted \\nbutter,\\nmelted,\\nThree\\n8-ounce \\npackages\\ncream\\ncheese,\\nat\\nroom \\ntemperature,\\n4\\nlarge\\neggs,\\n1/2\\ncup \\nsour\\ncream,\\n1/4\\ncup\\nall-purpose\\nflour, \\n2\\nteaspoons\\nvanilla\\nextract,\\n3\\nounces \\nchopped\\nsemisweet\\nchocolate,\\nmelted \\nand\\ncooled\\nslightly,\\n1/2\\nteaspoon\\npure \\nalmond\\nextract,\\nWhite\\nand\\nsemisweet \\nchocolate\\ncurls,\\nfor\\ngarnish\\n1.\\nArrange\\nthe\\noven\\nracks\\nin\\nthe \\ncenter\\nand\\nlower\\nthird\\nof\\nthe\\noven. \\nPlace\\na\\nbaking\\ndish\\nor\\nroasting\\npan\\non \\nthe\\nbottom\\nrack\\nand\\nfill\\nhalfway'\n"
     ]
    }
   ],
   "source": [
    "import numpy as np\n",
    "from langchain_community.document_loaders import PyPDFLoader\n",
    "from langchain.text_splitter import RecursiveCharacterTextSplitter\n",
    "\n",
    "# Initialize an empty list to hold the documents\n",
    "documents = []\n",
    "metadata = [{} for _ in pdf_files]  # Initialize metadata for each PDF\n",
    "\n",
    "# Load and process each PDF file\n",
    "for idx, file in enumerate(pdf_files):\n",
    "    loader = PyPDFLoader(file)\n",
    "    document = loader.load()\n",
    "    for document_fragment in document:\n",
    "        document_fragment.metadata = metadata[idx]\n",
    "\n",
    "    documents += document\n",
    "\n",
    "# Set a chunk size for splitting documents\n",
    "text_splitter = RecursiveCharacterTextSplitter(\n",
    "    chunk_size=1024,\n",
    "    chunk_overlap=102,\n",
    ")\n",
    "\n",
    "\n",
    "docs = text_splitter.split_documents(documents)\n",
    "print(docs[50])"
   ]
  },
  {
   "cell_type": "code",
   "execution_count": 122,
   "id": "56aba587-bfa0-4a44-8da5-5360d41a7d14",
   "metadata": {
    "id": "56aba587-bfa0-4a44-8da5-5360d41a7d14",
    "outputId": "d04da0d9-e237-4176-f96a-e08c74b7c236"
   },
   "outputs": [
    {
     "name": "stdout",
     "output_type": "stream",
     "text": [
      "Average length among 30 documents loaded is 2495 characters.\n",
      "After the split we have 93 documents as opposed to the original 30.\n",
      "Average length among 93 documents (after split) is 871 characters.\n"
     ]
    }
   ],
   "source": [
    "avg_doc_length = lambda documents: sum([len(doc.page_content) for doc in documents])//len(documents)\n",
    "\n",
    "print(f'Average length among {len(documents)} documents loaded is {avg_doc_length(documents)} characters.')\n",
    "print(f'After the split we have {len(docs)} documents as opposed to the original {len(documents)}.')\n",
    "print(f'Average length among {len(docs)} documents (after split) is {avg_doc_length(docs)} characters.')"
   ]
  },
  {
   "cell_type": "code",
   "execution_count": 123,
   "id": "c0b8a9c2-c290-4c58-9c28-27c7540162ab",
   "metadata": {
    "id": "c0b8a9c2-c290-4c58-9c28-27c7540162ab",
    "outputId": "2bea4b0e-db1b-4855-ccae-5c4e81d7b712"
   },
   "outputs": [
    {
     "name": "stdout",
     "output_type": "stream",
     "text": [
      "Sample embedding of a document chunk:  [-0.02977549  0.02236737  0.03561568 ... -0.03673269  0.03747546\n",
      "  0.00562507]\n",
      "Size of the embedding:  (1024,)\n"
     ]
    }
   ],
   "source": [
    "sample_embedding = np.array(sagemaker_embeddings.embed_query(docs[0].page_content))\n",
    "print(\"Sample embedding of a document chunk: \", sample_embedding)\n",
    "print(\"Size of the embedding: \", sample_embedding.shape)"
   ]
  },
  {
   "cell_type": "code",
   "execution_count": 124,
   "id": "e8fffc41-7c70-4239-b7ee-6355b91fb451",
   "metadata": {
    "id": "e8fffc41-7c70-4239-b7ee-6355b91fb451"
   },
   "outputs": [],
   "source": [
    "# using FAISS for building a vector store\n",
    "from langchain_community.vectorstores import FAISS\n",
    "from langchain.indexes.vectorstore import VectorStoreIndexWrapper\n",
    "\n",
    "vectorstore_faiss = FAISS.from_documents(\n",
    "    docs,\n",
    "    sagemaker_embeddings,\n",
    ")\n",
    "wrapper_store_faiss = VectorStoreIndexWrapper(vectorstore=vectorstore_faiss)"
   ]
  },
  {
   "cell_type": "code",
   "execution_count": 125,
   "id": "9ec3ccea-1d90-4af7-a03e-473822ba12b1",
   "metadata": {
    "id": "9ec3ccea-1d90-4af7-a03e-473822ba12b1"
   },
   "outputs": [],
   "source": [
    "prompt_template = \"\"\"<|begin_of_text|><|start_header_id|>system<|end_header_id|>\n",
    "You are a helpful assistant that generates recipes.\n",
    "Please generate a recipe.\n",
    "Ensure that ingredients are listed only once and avoid repeating any entries.\n",
    "The recipe should include:\n",
    "1. Title of the recipe\n",
    "2. Ingredients list with measurements (avoid repeats)\n",
    "3. Steps for preparation\n",
    "<|eot_id|><|start_header_id|>user<|end_header_id|>\n",
    "{query}\n",
    "<|eot_id|><|start_header_id|>assistant<|end_header_id|>\n",
    "\"\"\"\n",
    "PROMPT = PromptTemplate(\n",
    "    template=prompt_template, input_variables=[\"query\"]\n",
    ")"
   ]
  },
  {
   "cell_type": "code",
   "execution_count": 126,
   "id": "10083d75-ec71-4e0e-90ce-d67ea5cb9dd3",
   "metadata": {
    "id": "10083d75-ec71-4e0e-90ce-d67ea5cb9dd3"
   },
   "outputs": [],
   "source": [
    "# querying the FAISS vector store for documents relevant to the user's question.\n",
    "query = \"I am allergic to nuts. Can you give me a Thai egg noodle recipe free of nuts?\""
   ]
  },
  {
   "cell_type": "code",
   "execution_count": 127,
   "id": "82d03acb-2716-449d-888e-7daee977a904",
   "metadata": {
    "id": "82d03acb-2716-449d-888e-7daee977a904",
    "outputId": "cace7a96-b414-433f-b567-6acb4bd06218"
   },
   "outputs": [
    {
     "name": "stdout",
     "output_type": "stream",
     "text": [
      "{\"inputs\": \"Use the following pieces of context to answer the question at the end. If you don't know the answer, just say that you don't know, don't try to make up an answer.\\n\\ncups\\ncake\\nflour\\n(not\\nself-rising), \\nsifted,\\n1\\ntablespoon\\nbaking\\npowder, \\n1/4\\nteaspoon\\nsalt,\\n1\\n1/2\\ncups\\nsugar, \\n1/2\\ncup\\nmilk,\\n1/2\\ncup\\nwater,\\n1 \\nteaspoon\\npure\\nvanilla\\nextract,\\n1/4 \\nteaspoon\\npure\\nalmond\\nextract,\\n3\\nlarge \\negg\\nwhites,\\nLady\\nBaltimore\\nFrosting, \\nrecipe\\nfollows,\\n6\\ndried\\nfigs,\\nfinely \\nchopped,\\n1/2\\ncup\\nraisins,\\nchopped,\\n1/2 \\ncup\\npecans\\nor\\nwalnuts,\\nchopped\\n1/2\\nteaspoon\\nlight\\ncorn\\nsyrup \\n2/3\\ncup\\nwater \\n2\\nlarge\\negg\\nwhites \\n1\\nteaspoon\\npure\\nvanilla\\nextract \\nPinch\\ncoarse\\nsalt \\nIn\\na\\nsmall\\nsaucepan,\\ncombine\\nthe \\nsugar,\\ncorn\\nsyrup,\\nand\\nwater.\\nBring\\nto \\na\\nboil\\nover\\nhigh\\nheat,\\nstirring\\nto \\ndissolve\\nthe\\nsugar.\\nWhen\\nthe\\nsugar \\nhas\\ndissolved,\\ncontinue\\nto\\ncook \\nwithout\\nstirring,\\nuntil\\nit\\nreaches\\n248 \\ndegrees\\nF\\non\\na\\ncandy\\nthermometer. \\nBeat\\nthe\\negg\\nwhites,\\nvanilla,\\nand\\nthe \\nsalt\\nin\\nthe\\nbowl\\nof\\nan\\nelectric\\nmixer \\nfitted\\nwith\\nthe\\nwhisk\\nattachment\\nuntil \\nstiff\\npeaks\\nform.\\nWhen\\nthe\\nsugar \\nmixture\\nhas\\nreached\\n248\\ndegrees\\nF, \\npour\\nit\\ninto\\nthe\\nbeaten\\negg\\nwhites, \\nwhile\\nbeating\\nconstantly\\non\\nhigh \\nspeed,\\nuntil\\nthe\\nmixture\\nis\\n\\nreaches\\n320\\ndegrees\\nF.\\nUse\\na\\npastry \\nbrush\\nto\\nkeep\\nthe\\ninside\\nof\\nthe \\nsaucepan\\nclean\\nas\\nthe\\nsugar\\ncooks\\nor \\nthe\\nsugar\\nmay\\nrecrystallize.\\nTo\\ndo \\nthis,\\ndip\\na\\nclean\\nbrush\\nin\\ncold\\nwater \\nand\\nbrush\\nthe\\ninside\\nof\\nthe\\npan\\nclean. \\nDivide\\nthe\\ncooked\\nsugar\\nbetween\\n2 \\nheatproof\\nlarge\\nmeasuring\\ncups.\\nIf \\nyou\\nwant\\nto\\ncolor\\nthe\\nsugar\\nwith\\nfood \\ncolors,\\nthis\\nis\\nthe\\ntime\\nto\\ndo\\nso.\\nAdd\\na \\nfew\\ndrops\\nof\\nred\\ncolor\\nto\\none \\ncontainer\\nand\\ngreen\\ncolor\\nto\\nthe\\nother. \\nMix\\neach\\nwith\\na\\nwooden\\nskewer. \\nUse\\nan\\noffset\\nspatula\\ndipped\\nin\\nthe\\nred \\nsugar\\nto\\nspread\\nsome\\nsugar\\nonto\\na \\nsilpat\\nbaking\\nmat.\\nMake\\n3-\\ninch\\nlong \\nsmudges\\nthat\\ntaper\\noff\\nat\\none\\nend, \\nthese\\nwill\\nbe\\nthe\\npetals.\\nYou\\nwill\\nneed \\n5\\npetals\\nto\\nmake\\n1\\nflower,\\nso\\nif\\nyou \\nwant\\nmore\\nthan\\none\\nflower\\nyou\\nwill \\nneed\\nto\\nmake\\nthe\\nappropriate\\nnumber \\nof\\npetals.\\nRepeat\\nthe\\nprocess\\nwith\\nthe \\ngreen\\nsugar.\\nThis\\ntime,\\nuse\\nthe\\noffset \\nspatula\\nto\\nfan\\nthe\\nedges\\nof\\nthe\\npetals \\nto\\nresemble\\nthe\\ntexture\\nof\\nleaves. \\nHave\\na\\nflexible\\nsilicone\\nmuffin\\nmold \\n(or\\na\\nmetal\\nmuffin\\ntin\\nlined\\nwith \\nparchment\\n\\nheat\\nand\\ncook,\\nstirring\\noccasionally, \\nuntil\\nthe\\nsugar\\ndissolves\\nand\\nthe \\ncream\\ncomes\\nto\\na\\nbare\\nsimmer. \\nMeanwhile,\\nwhisk\\ntogether\\nthe\\negg \\nyolks,\\n2\\ntablespoons\\nof\\nthe\\nremaining \\ngranulated\\nsugar\\nand\\n2\\ntablespoons\\nof \\nthe\\nremaining\\nlight\\nbrown\\nsugar\\nin\\na \\nmedium\\nbowl. \\nSlowly\\nwhisk\\nthe\\nhot\\ncream\\ninto\\nthe \\negg\\nyolk\\nmixture.\\nStrain\\nthe\\ncustard \\ninto\\na\\npitcher\\nor\\nlarge\\nmeasuring\\ncup. \\nDivide\\nthe\\ncustard\\nevenly\\namong\\nthe \\nramekins.\\nPlace\\nthe\\nbaking\\nsheet\\nin \\nthe\\noven,\\nthen\\ncarefully\\nadd\\nenough \\nhot\\nwater\\nto\\ncome\\nhalfway\\nup\\nthe \\nsides\\nof\\nthe\\nramekins.\\nBake\\nuntil\\nthe \\ncustards\\nare\\njust\\nset\\nat\\nthe\\nsides\\nand \\nstill\\nwobbly\\nin\\nthe\\ncenter,\\nabout\\n30 \\nminutes.\\nRemove\\nthe\\nramekins\\nfrom \\nthe\\nwater\\nand\\nlet\\ncool\\ncompletely\\non\\na \\nwire\\nrack,\\nabout\\n30\\nminutes.\\nLeave \\nthe\\noven\\non. \\nFor\\nthe\\ngarnish:\\nWhile\\nthe\\ncustards \\ncool,\\nspread\\nthe\\npecans\\non\\na\\nbaking \\nsheet\\nand\\nbake\\nuntil\\nthey\\nare\\nbrown \\nand\\ntoasty-smelling,\\nabout\\n10 \\nminutes.\\nWhip\\nthe\\ncream\\nin\\na\\nmedium \\nbowl\\nuntil\\nsoft\\npeaks\\nform. \\nTo\\nassemble:\\nSprinkle\\nthe\\nremaining \\n3/4\\ncup\\n\\nMix\\nthe\\ningredients\\nin\\na\\nbowl.\\nTurn \\nout\\nonto\\na\\nboard\\nand\\nchop\\nuntil\\na \\npaste\\nis\\nformed. \\nHave\\ningredients\\nmeasured\\nand \\nnearby\\nbefore\\nbeginning.\\nHeat\\nthe\\noil \\nin\\na\\nsmall\\nskillet\\nover\\nhigh\\nheat.\\nAdd \\nthe\\nmustard\\nseeds.\\n(They\\nwill\\nbegin \\npopping\\nimmediately\\nso\\nhave\\na\\ncover \\nclose\\nat\\nhand\\nfor\\nescaping\\nseeds.) \\nCook\\nuntil\\npopping\\nstops. \\nLower\\nthe\\nheat,\\nadd\\nthe\\ncumin\\nseeds, \\nand\\ncook\\nuntil\\nthey\\nturn\\ngolden,\\nabout \\n1\\nminute.\\nStir\\nin\\nthe\\ngarlic\\nfor\\n10 \\nseconds,\\nthen\\nthe\\nginger\\nfor\\n10 \\nseconds\\nmore,\\nand\\nremove\\nfrom\\nthe \\nheat.\\nStir\\nin\\nthe\\nturmeric,\\npaprika, \\npepper\\nflakes,\\nand\\nsalt.\\nMix\\nthe\\nspices \\nand\\nyogurt\\ntogether\\nin\\na\\nbowl.\\nChill \\nbefore\\nserving.\\nRice\\nCake\\nSoup\\nwith\\nWontons\\n(Duk \\nKook)\\n3\\ncups\\nsliced,\\nfrozen\\nrice\\ncakes,\\n1/4 \\ncabbage\\n(about\\n1/2\\npound),\\n1/2\\npound \\nmung\\nbean\\nsprouts,\\n1\\ncup\\nfirm\\ntofu, \\nchopped,\\n3\\nscallions,\\ngreen\\ntops \\nremoved,\\n2\\ncloves\\ngarlic,\\nminced,\\n1/4 \\npound\\nground\\nlean\\nsirloin,\\n1/3\\npound \\nground\\npork\\ntenderloin,\\n1/2\\nDefrost\\nthe\\nrice\\ncakes\\nslowly\\nin\\nthe \\nrefrigerator;\\nthen\\nsoak\\nin\\nwater\\nfor\\n\\nQuestion: <|begin_of_text|><|start_header_id|>system<|end_header_id|>\\nYou are a helpful assistant that generates recipes.\\nPlease generate a recipe.\\nEnsure that ingredients are listed only once and avoid repeating any entries.\\nThe recipe should include:\\n1. Title of the recipe\\n2. Ingredients list with measurements (avoid repeats)\\n3. Steps for preparation\\n<|eot_id|><|start_header_id|>user<|end_header_id|>\\nI am allergic to nuts. Can you give me a Thai egg noodle recipe free of nuts?\\n<|eot_id|><|start_header_id|>assistant<|end_header_id|>\\n\\nHelpful Answer:\", \"parameters\": {\"max_new_tokens\": 1000, \"top_p\": 0.9, \"temperature\": 0.6, \"stop\": [\"<|eot_id|>\"]}}\n",
      "{'generated_text': \" I'd be happy to provide you with a Thai egg noodle recipe that's free from nuts. Here's a delicious and nut-free recipe for you to enjoy:\\n\\n**Thai Egg Noodle Recipe (Pad See-Ew)**\\n\\n**Ingredients:**\\n\\n* 1 cup Thai egg noodles\\n* 2 tablespoons vegetable oil\\n* 1 onion, thinly sliced\\n* 2 cloves garlic, minced\\n* 1 cup mixed vegetables (bean sprouts, cabbage, carrots)\\n* 1 cup cooked chicken or pork, sliced\\n* 2 tablespoons soy sauce\\n* 2 tablespoons oyster sauce (make sure it's nut-free)\\n* 1 tablespoon sugar\\n* 1 teaspoon ground black pepper\\n* Salt, to taste\\n* 2 tablespoons chopped scallions, for garnish\\n\\n**Steps:**\\n\\n1. Cook the Thai egg noodles according to the package instructions. Drain and set aside.\\n2. Heat the oil in a wok or large skillet over medium-high heat. Add the onion and garlic and stir-fry until the onion is translucent.\\n3. Add the mixed vegetables and cooked chicken or pork. Stir-fry for 2-3 minutes.\\n4. Add the soy sauce, oyster sauce, sugar, and black pepper. Stir-fry for another minute.\\n5. Add the cooked noodles to the wok or skillet and stir-fry until everything is well combined.\\n6. Season with salt to taste.\\n7. Garnish with chopped scallions and serve hot.\\n\\n**Note:** Make sure to check the ingredient labels of the oyster sauce and soy sauce to ensure they are free from nuts. Some brands may contain nuts, so it's essential to verify.\\n\\nI hope you enjoy this nut-free Thai egg noodle recipe!\"}\n",
      "I'd be happy to provide you with a Thai egg noodle recipe that's free from nuts. Here's a delicious and nut-free recipe for you to enjoy:\n",
      "\n",
      "**Thai Egg Noodle Recipe (Pad See-Ew)**\n",
      "\n",
      "**Ingredients:**\n",
      "\n",
      "* 1 cup Thai egg noodles\n",
      "* 2 tablespoons vegetable oil\n",
      "* 1 onion, thinly sliced\n",
      "* 2 cloves garlic, minced\n",
      "* 1 cup mixed vegetables (bean sprouts, cabbage, carrots)\n",
      "* 1 cup cooked chicken or pork, sliced\n",
      "* 2 tablespoons soy sauce\n",
      "* 2 tablespoons oyster sauce (make sure it's nut-free)\n",
      "* 1 tablespoon sugar\n",
      "* 1 teaspoon ground black pepper\n",
      "* Salt, to taste\n",
      "* 2 tablespoons chopped scallions, for garnish\n",
      "\n",
      "**Steps:**\n",
      "\n",
      "1. Cook the Thai egg noodles according to the package instructions. Drain and set aside.\n",
      "2. Heat the oil in a wok or large skillet over medium-high heat. Add the onion and garlic and stir-fry until the onion is translucent.\n",
      "3. Add the mixed vegetables and cooked chicken or pork. Stir-fry for 2-3 minutes.\n",
      "4. Add the soy sauce, oyster sauce, sugar, and black pepper. Stir-fry for another minute.\n",
      "5. Add the cooked noodles to the wok or skillet and stir-fry until everything is well combined.\n",
      "6. Season with salt to taste.\n",
      "7. Garnish with chopped scallions and serve hot.\n",
      "\n",
      "**Note:** Make sure to check the ingredient labels of the oyster sauce and soy sauce to ensure they are free from nuts. Some brands may contain nuts, so it's essential to verify.\n",
      "\n",
      "I hope you enjoy this nut-free Thai egg noodle recipe!\n"
     ]
    }
   ],
   "source": [
    "answer = wrapper_store_faiss.query(question=PROMPT.format(query=query), llm=llm)\n",
    "print(answer)"
   ]
  },
  {
   "cell_type": "code",
   "execution_count": 128,
   "id": "e3c9cbec-e458-43bf-8deb-2ec795a6b571",
   "metadata": {
    "id": "e3c9cbec-e458-43bf-8deb-2ec795a6b571"
   },
   "outputs": [],
   "source": [
    "query_2 = \"I am allergic to gluten. Can you give me a recipe for an Italian dish without gluten?\""
   ]
  },
  {
   "cell_type": "code",
   "execution_count": 129,
   "id": "7db5903d-1deb-4b0f-a00f-d42d220d2b3c",
   "metadata": {
    "id": "7db5903d-1deb-4b0f-a00f-d42d220d2b3c",
    "outputId": "02ea2f66-bf90-492d-bbe2-f9ea1ae1efec"
   },
   "outputs": [
    {
     "name": "stdout",
     "output_type": "stream",
     "text": [
      "{\"inputs\": \"Use the following pieces of context to answer the question at the end. If you don't know the answer, just say that you don't know, don't try to make up an answer.\\n\\nbunches\\nbroccoli\\nrabe,\\ncut\\ncrosswise \\ninto\\n1-inch\\nsquares,\\n2\\nteaspoons \\nbalsamic\\nvinegar,\\n1\\ncup\\nextra-virgin \\nolive\\noil,\\nolive\\noil,\\ngrapeseed\\noil,\\nor \\nother\\nvegetable\\noil,\\n2\\ntablespoons \\nfinely\\ngrated\\nlemon\\nzest\\nleaves\\nbegin\\nto\\nwilt,\\nadd\\nmore\\nto\\nfit\\nin \\nthe\\npan,\\nturning\\nconstantly\\nwith\\ntongs; \\ncook\\nuntil\\nthe\\ngreens\\nare\\nwilted\\nand \\nbright\\ngreen,\\nabout\\n5\\nminutes.\\nAdd\\nthe \\nvinegar\\nand\\ncook,\\nstirring,\\nfor\\n1 \\nminute. \\nReturn\\nthe\\npasta\\nto\\nthe\\ncooking\\npot, \\nadd\\nthe\\nvegetable\\nmixture,\\nand\\ntoss\\nto \\ncombine\\nwell.\\nServe\\nhot. \\nPlace\\nthe\\noil\\nand\\nthe\\nzest\\nin\\na\\nglass\\njar. \\nLet\\nstand\\nat\\nroom\\ntemperature\\nfor\\nat \\nleast\\n2\\nweeks,\\nshaking\\noccasionally. \\nPour\\nthe\\noil\\nthrough\\na\\nstrainer\\nand \\ndiscard\\nthe\\nzest.\\nTransfer\\nto\\na\\njar\\nand \\nstore,\\ntightly\\ncovered,\\nat\\nin \\nrefrigerator.\\nAsian-Spiced\\nBaby\\nBack\\nRibs\\n1\\norange,\\nKosher\\nsalt,\\n3/4\\ncup\\npacked \\nlight\\nbrown\\nsugar,\\n1\\npiece\\nstar\\nanise,\\n1 \\nteaspoon\\npickling\\nspice,\\n2\\nslices \\nginger,\\nplus\\n1\\nteaspoon\\ngrated\\npeeled \\nginger,\\n3\\n1-pound\\nracks\\nbaby\\nback \\npork\\nribs,\\n2\\nteaspoons\\nvegetable\\noil,\\n1\\n\\nbutter,\\n1\\nteaspoon\\nsalt,\\n2\\ncups\\nwhite \\nwine,\\n10\\nounces\\ncanned\\nbeef \\nconsomme,\\n10\\nounces\\nchicken\\nbroth, \\n10\\nounces\\napple\\ncider\\n(unfiltered\\nis \\nbest),\\nBouquet\\ngarni;\\nthyme\\nsprigs, \\nbay\\nleaf\\nand\\nparsley\\ntied\\ntogether\\nwith \\nkitchen\\nstring,\\n1\\nloaf\\ncountry\\nstyle \\nbread,\\nKosher\\nsalt,\\nGround\\nblack \\npepper,\\nSplash\\nof\\nCognac\\n(optional),\\n1 \\ncup\\nFontina\\nor\\nGruyere\\ncheese,\\ngrated\\nfinely\\nslice\\ninto\\nhalf-moon\\nshapes.\\nSet \\nelectric\\nskillet\\nto\\n300\\ndegrees\\nand\\nadd \\nbutter.\\nOnce\\nbutter\\nhas\\nmelted\\nadd\\na \\nlayer\\nof\\nonions\\nand\\nsprinkle\\nwith\\na \\nlittle\\nsalt.\\nRepeat\\nlayering\\nonions\\nand \\nsalt\\nuntil\\nall\\nonions\\nare\\nin\\nthe\\nskillet. \\nDo\\nnot\\ntry\\nstirring\\nuntil\\nonions\\nhave \\nsweated\\ndown\\nfor\\n15\\nto\\n20\\nminutes. \\nAfter\\nthat,\\nstir\\noccasionally\\nuntil \\nonions\\nare\\ndark\\nmahogany\\nand \\nreduced\\nto\\napproximately\\n2\\ncups.\\nThis \\nshould\\ntake\\n45\\nminutes\\nto\\n1\\nhour.\\nDo \\nnot\\nworry\\nabout\\nburning. \\nAdd\\nenough\\nwine\\nto\\ncover\\nthe\\nonions \\nand\\nturn\\nheat\\nto\\nhigh,\\nreducing\\nthe \\nwine\\nto\\na\\nsyrup\\nconsistency.\\nAdd \\nconsomme,\\nchicken\\nbroth,\\napple\\ncider \\nand\\nbouquet\\ngarni.\\n\\nreaches\\n320\\ndegrees\\nF.\\nUse\\na\\npastry \\nbrush\\nto\\nkeep\\nthe\\ninside\\nof\\nthe \\nsaucepan\\nclean\\nas\\nthe\\nsugar\\ncooks\\nor \\nthe\\nsugar\\nmay\\nrecrystallize.\\nTo\\ndo \\nthis,\\ndip\\na\\nclean\\nbrush\\nin\\ncold\\nwater \\nand\\nbrush\\nthe\\ninside\\nof\\nthe\\npan\\nclean. \\nDivide\\nthe\\ncooked\\nsugar\\nbetween\\n2 \\nheatproof\\nlarge\\nmeasuring\\ncups.\\nIf \\nyou\\nwant\\nto\\ncolor\\nthe\\nsugar\\nwith\\nfood \\ncolors,\\nthis\\nis\\nthe\\ntime\\nto\\ndo\\nso.\\nAdd\\na \\nfew\\ndrops\\nof\\nred\\ncolor\\nto\\none \\ncontainer\\nand\\ngreen\\ncolor\\nto\\nthe\\nother. \\nMix\\neach\\nwith\\na\\nwooden\\nskewer. \\nUse\\nan\\noffset\\nspatula\\ndipped\\nin\\nthe\\nred \\nsugar\\nto\\nspread\\nsome\\nsugar\\nonto\\na \\nsilpat\\nbaking\\nmat.\\nMake\\n3-\\ninch\\nlong \\nsmudges\\nthat\\ntaper\\noff\\nat\\none\\nend, \\nthese\\nwill\\nbe\\nthe\\npetals.\\nYou\\nwill\\nneed \\n5\\npetals\\nto\\nmake\\n1\\nflower,\\nso\\nif\\nyou \\nwant\\nmore\\nthan\\none\\nflower\\nyou\\nwill \\nneed\\nto\\nmake\\nthe\\nappropriate\\nnumber \\nof\\npetals.\\nRepeat\\nthe\\nprocess\\nwith\\nthe \\ngreen\\nsugar.\\nThis\\ntime,\\nuse\\nthe\\noffset \\nspatula\\nto\\nfan\\nthe\\nedges\\nof\\nthe\\npetals \\nto\\nresemble\\nthe\\ntexture\\nof\\nleaves. \\nHave\\na\\nflexible\\nsilicone\\nmuffin\\nmold \\n(or\\na\\nmetal\\nmuffin\\ntin\\nlined\\nwith \\nparchment\\n\\nmix\\nwell. \\nMeanwhile,\\nin\\na\\nsmall\\nsaucepan,\\nbring \\nthe\\nmilk\\nto\\na\\nbare\\nsimmer\\nover \\nmedium\\nheat.\\nIn\\na\\nmedium\\nbowl, \\nwhisk\\nthe\\negg\\nbriefly\\nto\\nbreak\\nit\\nup. \\nTemper\\nthe\\negg\\nby\\ndrizzling\\n1/2\\ncup \\nof\\nthe\\nwarm\\nmilk\\nin\\nwhile\\nwhisking \\nuntil\\nincorporated.\\n(This\\nwill\\nprevent \\nthe\\negg\\nfrom\\nscrambling.)\\nMix\\nthe \\ntempered\\negg\\nand\\nthe\\nremaining\\nwarm \\nmilk\\ninto\\nthe\\nmacaroni\\nand\\nstir\\nwell \\nuntil\\neverything\\nis\\nevenly\\ncoated. \\nPour\\nthe\\ncontents\\nof\\nthe\\nbowl\\ninto\\nthe \\nprepared\\nbaking\\npan,\\nspreading\\nthe \\nmacaroni\\nand\\nsauce\\nevenly. \\nIn\\na\\nmedium\\nbowl,\\ntoss\\ntogether\\nthe \\npancetta,\\nParmesan,\\npanko\\nand \\nparsley,\\nand\\nsprinkle\\nover\\nthe\\ntop\\nof \\nthe\\nmacaroni.\\n(This\\nwill\\ncreate\\na \\nyummy\\ncrust.) \\nBake\\nuntil\\ngolden\\nbrown\\nand\\nbubbling \\non\\ntop,\\nand\\nthe\\npancetta\\nis\\ncrispy,\\n25 \\nto\\n30\\nminutes.\\nServe\\nwarm.\\nBaby\\nGreens\\nwith\\nMustard \\nVinaigrette\\n1\\nrounded\\nteaspoon\\ngrainy\\nmustard,\\n1 \\ntablespoon\\nred\\nwine\\nvinegar,\\n3 \\ntablespoons\\nextra-virgin\\nolive\\noil,\\n6\\nto \\n8\\nounces\\nmixed\\nbaby\\ngreens,\\n1\\nsack, \\nSalt\\nand\\npepper\\nCombine\\nmustard\\nand\\nvinegar\\nin\\nthe \\nbottom\\n\\nQuestion: <|begin_of_text|><|start_header_id|>system<|end_header_id|>\\nYou are a helpful assistant that generates recipes.\\nPlease generate a recipe.\\nEnsure that ingredients are listed only once and avoid repeating any entries.\\nThe recipe should include:\\n1. Title of the recipe\\n2. Ingredients list with measurements (avoid repeats)\\n3. Steps for preparation\\n<|eot_id|><|start_header_id|>user<|end_header_id|>\\nI am allergic to gluten. Can you give me a recipe for an Italian dish without gluten?\\n<|eot_id|><|start_header_id|>assistant<|end_header_id|>\\n\\nHelpful Answer:\", \"parameters\": {\"max_new_tokens\": 1000, \"top_p\": 0.9, \"temperature\": 0.6, \"stop\": [\"<|eot_id|>\"]}}\n",
      "{'generated_text': ' Here are three Italian recipes without gluten:\\n\\n**Recipe 1: Pasta with Baby Greens and Mustard Vinaigrette**\\n\\nbunches\\nbroccoli\\nrabe,\\ncut\\ncrosswise \\ninto\\n1-inch\\nsquares,\\n2\\nteaspoons \\nbalsamic\\nvinegar,\\n1\\ncup\\nextra-virgin \\nolive\\noil,\\nolive\\noil,\\ngrapeseed\\noil,\\nor \\nother\\nvegetable\\noil,\\n2\\ntablespoons \\nfinely\\ngrated\\nlemon\\nzest\\nleaves\\nbegin\\nto\\nwilt,\\nadd\\nmore\\nto\\nfit\\nin \\nthe\\npan,\\nturning\\nconstantly\\nwith\\ntongs; \\ncook\\nuntil\\nthe\\ngreens\\nare\\nwilted\\nand \\nbright\\ngreen,\\nabout\\n5\\nminutes.\\nAdd\\nthe \\nvinegar\\nand\\ncook,\\nstirring,\\nfor\\n1 \\nminute. \\nReturn\\nthe\\npasta\\nto\\nthe\\ncooking\\npot, \\nadd\\nthe\\nvegetable\\nmixture,\\nand\\ntoss\\nto \\ncombine\\nwell.\\nServe\\nhot. \\nPlace\\nthe\\noil\\nand\\nthe\\nzest\\nin\\na\\nglass\\njar. \\nLet\\nstand\\nat\\nroom\\ntemperature\\nfor\\nat \\nleast\\n2\\nweeks,\\nshaking\\noccasionally. \\nPour\\nthe\\noil\\nthrough\\na\\nstrainer\\nand \\ndiscard\\nthe\\nzest.\\nTransfer\\nto\\na\\njar\\nand \\nstore,\\ntightly\\ncovered,\\nat\\nin \\nrefrigerator.\\n\\n**Recipe 2: Asian-Spiced Baby Back Ribs**\\n\\n1\\norange,\\nKosher\\nsalt,\\n3/4\\ncup\\npacked \\nlight\\nbrown\\nsugar,\\n1\\npiece\\nstar\\nanise,\\n1 \\nteaspoon\\npickling\\nspice,\\n2\\nslices \\nginger,\\nplus\\n1\\nteaspoon\\ngrated\\npeeled \\nginger,\\n3\\n1-pound\\nracks\\nbaby\\nback \\npork\\nribs,\\n2\\nteaspoons\\nvegetable\\noil,\\n1\\nbutter,\\n1\\nteaspoon\\nsalt,\\n2\\ncups\\nwhite \\nwine,\\n10\\nounces\\ncanned\\nbeef \\nconsomme,\\n10\\nounces\\nchicken\\nbroth, \\n10\\nounces\\napple\\ncider\\n(unfiltered\\nis \\nbest),\\nBouquet\\ngarni;\\nthyme\\nsprigs, \\nbay\\nleaf\\nand\\nparsley\\ntied\\ntogether\\nwith \\nkitchen\\nstring,\\n1\\nloaf\\ncountry\\nstyle \\nbread,\\nKosher\\nsalt,\\nGround\\nblack \\npepper,\\nSplash\\nof\\nCognac\\n(optional),\\n1 \\ncup\\nFontina\\nor\\nGruyere\\ncheese,\\ngrated\\nfinely\\nslice\\ninto\\nhalf-moon\\nshapes.\\n\\n**Recipe 3: Macaroni and Cheese with Pancetta Crust**\\n\\n1\\ncup\\nmacaroni,\\n1\\ncup\\nmilk,\\n1/2\\ncup\\nunsalted\\nbutter,\\n1/2\\ncup\\nall-purpose\\nflour,\\n1/2\\ncup\\ngrated\\nParmesan\\ncheese,\\n1/4\\ncup\\ngrated\\nPecorino\\nRomano\\ncheese,\\n1/4\\ncup\\npancetta,\\n1/4\\ncup\\npanko\\nbreadcrumbs,\\n1/4\\ncup\\nchopped\\nfresh\\nparsley,\\nSalt\\nand\\npepper\\nmix\\nwell. \\nMeanwhile,\\nin\\na\\nsmall\\nsaucepan,\\nbring \\nthe\\nmilk\\nto\\na\\nbare\\nsimmer\\nover \\nmedium\\nheat.\\nIn\\na\\nmedium\\nbowl, \\nwhisk\\nthe\\negg\\nbriefly\\nto\\nbreak\\nit\\nup. \\nTemper\\nthe\\negg\\nby\\ndrizzling\\n1/2\\ncup \\nof\\nthe\\nwarm\\nmilk\\nin\\nwhile\\nwhisking \\nuntil\\nincorporated.\\n(This\\nwill\\nprevent \\nthe\\negg\\nfrom\\nscrambling.)\\nMix\\nthe \\ntempered\\negg\\nand\\nthe\\nremaining\\nwarm \\nmilk\\ninto\\nthe\\nmacaroni\\nand\\nstir\\nwell \\nuntil\\neverything\\nis\\nevenly\\ncoated. \\nPour\\nthe\\ncontents\\nof\\nthe\\nbowl\\ninto\\nthe \\nprepared\\nbaking\\npan,\\nspreading\\nthe \\nmacaroni\\nand\\nsauce\\nevenly. \\nIn\\na\\nmedium\\nbowl,\\ntoss\\ntogether\\nthe \\npancetta,\\nParmesan,\\npanko\\nand \\nparsley,\\nand\\nspr'}\n",
      "Here are three Italian recipes without gluten:\n",
      "\n",
      "**Recipe 1: Pasta with Baby Greens and Mustard Vinaigrette**\n",
      "\n",
      "bunches\n",
      "broccoli\n",
      "rabe,\n",
      "cut\n",
      "crosswise \n",
      "into\n",
      "1-inch\n",
      "squares,\n",
      "2\n",
      "teaspoons \n",
      "balsamic\n",
      "vinegar,\n",
      "1\n",
      "cup\n",
      "extra-virgin \n",
      "olive\n",
      "oil,\n",
      "olive\n",
      "oil,\n",
      "grapeseed\n",
      "oil,\n",
      "or \n",
      "other\n",
      "vegetable\n",
      "oil,\n",
      "2\n",
      "tablespoons \n",
      "finely\n",
      "grated\n",
      "lemon\n",
      "zest\n",
      "leaves\n",
      "begin\n",
      "to\n",
      "wilt,\n",
      "add\n",
      "more\n",
      "to\n",
      "fit\n",
      "in \n",
      "the\n",
      "pan,\n",
      "turning\n",
      "constantly\n",
      "with\n",
      "tongs; \n",
      "cook\n",
      "until\n",
      "the\n",
      "greens\n",
      "are\n",
      "wilted\n",
      "and \n",
      "bright\n",
      "green,\n",
      "about\n",
      "5\n",
      "minutes.\n",
      "Add\n",
      "the \n",
      "vinegar\n",
      "and\n",
      "cook,\n",
      "stirring,\n",
      "for\n",
      "1 \n",
      "minute. \n",
      "Return\n",
      "the\n",
      "pasta\n",
      "to\n",
      "the\n",
      "cooking\n",
      "pot, \n",
      "add\n",
      "the\n",
      "vegetable\n",
      "mixture,\n",
      "and\n",
      "toss\n",
      "to \n",
      "combine\n",
      "well.\n",
      "Serve\n",
      "hot. \n",
      "Place\n",
      "the\n",
      "oil\n",
      "and\n",
      "the\n",
      "zest\n",
      "in\n",
      "a\n",
      "glass\n",
      "jar. \n",
      "Let\n",
      "stand\n",
      "at\n",
      "room\n",
      "temperature\n",
      "for\n",
      "at \n",
      "least\n",
      "2\n",
      "weeks,\n",
      "shaking\n",
      "occasionally. \n",
      "Pour\n",
      "the\n",
      "oil\n",
      "through\n",
      "a\n",
      "strainer\n",
      "and \n",
      "discard\n",
      "the\n",
      "zest.\n",
      "Transfer\n",
      "to\n",
      "a\n",
      "jar\n",
      "and \n",
      "store,\n",
      "tightly\n",
      "covered,\n",
      "at\n",
      "in \n",
      "refrigerator.\n",
      "\n",
      "**Recipe 2: Asian-Spiced Baby Back Ribs**\n",
      "\n",
      "1\n",
      "orange,\n",
      "Kosher\n",
      "salt,\n",
      "3/4\n",
      "cup\n",
      "packed \n",
      "light\n",
      "brown\n",
      "sugar,\n",
      "1\n",
      "piece\n",
      "star\n",
      "anise,\n",
      "1 \n",
      "teaspoon\n",
      "pickling\n",
      "spice,\n",
      "2\n",
      "slices \n",
      "ginger,\n",
      "plus\n",
      "1\n",
      "teaspoon\n",
      "grated\n",
      "peeled \n",
      "ginger,\n",
      "3\n",
      "1-pound\n",
      "racks\n",
      "baby\n",
      "back \n",
      "pork\n",
      "ribs,\n",
      "2\n",
      "teaspoons\n",
      "vegetable\n",
      "oil,\n",
      "1\n",
      "butter,\n",
      "1\n",
      "teaspoon\n",
      "salt,\n",
      "2\n",
      "cups\n",
      "white \n",
      "wine,\n",
      "10\n",
      "ounces\n",
      "canned\n",
      "beef \n",
      "consomme,\n",
      "10\n",
      "ounces\n",
      "chicken\n",
      "broth, \n",
      "10\n",
      "ounces\n",
      "apple\n",
      "cider\n",
      "(unfiltered\n",
      "is \n",
      "best),\n",
      "Bouquet\n",
      "garni;\n",
      "thyme\n",
      "sprigs, \n",
      "bay\n",
      "leaf\n",
      "and\n",
      "parsley\n",
      "tied\n",
      "together\n",
      "with \n",
      "kitchen\n",
      "string,\n",
      "1\n",
      "loaf\n",
      "country\n",
      "style \n",
      "bread,\n",
      "Kosher\n",
      "salt,\n",
      "Ground\n",
      "black \n",
      "pepper,\n",
      "Splash\n",
      "of\n",
      "Cognac\n",
      "(optional),\n",
      "1 \n",
      "cup\n",
      "Fontina\n",
      "or\n",
      "Gruyere\n",
      "cheese,\n",
      "grated\n",
      "finely\n",
      "slice\n",
      "into\n",
      "half-moon\n",
      "shapes.\n",
      "\n",
      "**Recipe 3: Macaroni and Cheese with Pancetta Crust**\n",
      "\n",
      "1\n",
      "cup\n",
      "macaroni,\n",
      "1\n",
      "cup\n",
      "milk,\n",
      "1/2\n",
      "cup\n",
      "unsalted\n",
      "butter,\n",
      "1/2\n",
      "cup\n",
      "all-purpose\n",
      "flour,\n",
      "1/2\n",
      "cup\n",
      "grated\n",
      "Parmesan\n",
      "cheese,\n",
      "1/4\n",
      "cup\n",
      "grated\n",
      "Pecorino\n",
      "Romano\n",
      "cheese,\n",
      "1/4\n",
      "cup\n",
      "pancetta,\n",
      "1/4\n",
      "cup\n",
      "panko\n",
      "breadcrumbs,\n",
      "1/4\n",
      "cup\n",
      "chopped\n",
      "fresh\n",
      "parsley,\n",
      "Salt\n",
      "and\n",
      "pepper\n",
      "mix\n",
      "well. \n",
      "Meanwhile,\n",
      "in\n",
      "a\n",
      "small\n",
      "saucepan,\n",
      "bring \n",
      "the\n",
      "milk\n",
      "to\n",
      "a\n",
      "bare\n",
      "simmer\n",
      "over \n",
      "medium\n",
      "heat.\n",
      "In\n",
      "a\n",
      "medium\n",
      "bowl, \n",
      "whisk\n",
      "the\n",
      "egg\n",
      "briefly\n",
      "to\n",
      "break\n",
      "it\n",
      "up. \n",
      "Temper\n",
      "the\n",
      "egg\n",
      "by\n",
      "drizzling\n",
      "1/2\n",
      "cup \n",
      "of\n",
      "the\n",
      "warm\n",
      "milk\n",
      "in\n",
      "while\n",
      "whisking \n",
      "until\n",
      "incorporated.\n",
      "(This\n",
      "will\n",
      "prevent \n",
      "the\n",
      "egg\n",
      "from\n",
      "scrambling.)\n",
      "Mix\n",
      "the \n",
      "tempered\n",
      "egg\n",
      "and\n",
      "the\n",
      "remaining\n",
      "warm \n",
      "milk\n",
      "into\n",
      "the\n",
      "macaroni\n",
      "and\n",
      "stir\n",
      "well \n",
      "until\n",
      "everything\n",
      "is\n",
      "evenly\n",
      "coated. \n",
      "Pour\n",
      "the\n",
      "contents\n",
      "of\n",
      "the\n",
      "bowl\n",
      "into\n",
      "the \n",
      "prepared\n",
      "baking\n",
      "pan,\n",
      "spreading\n",
      "the \n",
      "macaroni\n",
      "and\n",
      "sauce\n",
      "evenly. \n",
      "In\n",
      "a\n",
      "medium\n",
      "bowl,\n",
      "toss\n",
      "together\n",
      "the \n",
      "pancetta,\n",
      "Parmesan,\n",
      "panko\n",
      "and \n",
      "parsley,\n",
      "and\n",
      "spr\n"
     ]
    }
   ],
   "source": [
    "answer = wrapper_store_faiss.query(question=PROMPT.format(query=query_2), llm=llm)\n",
    "print(answer)"
   ]
  },
  {
   "cell_type": "code",
   "execution_count": 130,
   "id": "4e8b84b7-c69f-4390-80fe-ac86532c72b1",
   "metadata": {
    "id": "4e8b84b7-c69f-4390-80fe-ac86532c72b1"
   },
   "outputs": [],
   "source": [
    "from langchain.chains import RetrievalQA\n",
    "\n",
    "prompt_template = \"\"\"<|begin_of_text|><|start_header_id|>system<|end_header_id|>\n",
    "You are a helpful assistant that generates recipes in a well-structured format.\n",
    "Please generate a recipe.\n",
    "Ensure that ingredients are listed only once and avoid repeating any entries.\n",
    "The recipe should include the following sections:\n",
    "1. **Title** of the recipe\n",
    "2. **Ingredients List** with measurements (avoid repeats)\n",
    "3. **Instructions** in numbered steps for preparation\n",
    "\n",
    "Return the result in the following format:\n",
    "\n",
    "**Title:**\n",
    "Recipe title here\n",
    "\n",
    "**Ingredients:**\n",
    "- Ingredient 1\n",
    "- Ingredient 2\n",
    "- Ingredient 3\n",
    "\n",
    "**Instructions:**\n",
    "1. Step 1\n",
    "2. Step 2\n",
    "3. Step 3\n",
    "\n",
    "Make sure the formatting follows the above structure exactly.\n",
    "\n",
    "<|eot_id|><|start_header_id|>user<|end_header_id|>\n",
    "Use the following pieces of context to provide a concise answer to the question at the end. If you don't know the answer, just say that you don't know, don't try to make up an answer.\n",
    "#### Context ####\n",
    "{context}\n",
    "#### End of Context ####\n",
    "\n",
    "Question: {question}\n",
    "<|eot_id|><|start_header_id|>assistant<|end_header_id|>\n",
    "\"\"\"\n",
    "\n",
    "PROMPT = PromptTemplate(\n",
    "    template=prompt_template, input_variables=[\"context\", \"question\"]\n",
    ")\n",
    "\n",
    "qa = RetrievalQA.from_chain_type(\n",
    "    llm=llm,\n",
    "    chain_type=\"stuff\",\n",
    "    retriever=vectorstore_faiss.as_retriever(\n",
    "        # how many relevant documents should be retrieved\n",
    "        search_type=\"similarity\", search_kwargs={\"k\": 3}\n",
    "    ),\n",
    "    return_source_documents=True,\n",
    "    chain_type_kwargs={\"prompt\": PROMPT}\n",
    ")"
   ]
  },
  {
   "cell_type": "code",
   "execution_count": 131,
   "id": "85babcaf-639f-4aaf-9277-d30c5d419679",
   "metadata": {
    "id": "85babcaf-639f-4aaf-9277-d30c5d419679",
    "outputId": "175e5823-44af-4a2c-fcbe-35fea33cb482"
   },
   "outputs": [
    {
     "name": "stdout",
     "output_type": "stream",
     "text": [
      "{\"inputs\": \"<|begin_of_text|><|start_header_id|>system<|end_header_id|>\\nYou are a helpful assistant that generates recipes in a well-structured format.\\nPlease generate a recipe.\\nEnsure that ingredients are listed only once and avoid repeating any entries.\\nThe recipe should include the following sections:\\n1. **Title** of the recipe\\n2. **Ingredients List** with measurements (avoid repeats)\\n3. **Instructions** in numbered steps for preparation\\n\\nReturn the result in the following format:\\n\\n**Title:**\\nRecipe title here\\n\\n**Ingredients:**\\n- Ingredient 1\\n- Ingredient 2\\n- Ingredient 3\\n\\n**Instructions:**\\n1. Step 1\\n2. Step 2\\n3. Step 3\\n\\nMake sure the formatting follows the above structure exactly.\\n\\n<|eot_id|><|start_header_id|>user<|end_header_id|>\\nUse the following pieces of context to provide a concise answer to the question at the end. If you don't know the answer, just say that you don't know, don't try to make up an answer.\\n#### Context ####\\nPlace\\nthe\\nsecond\\ncake\\nlayer\\non\\ntop. \\nSpread\\nfrosting\\nover\\nthe\\nsides\\nand\\ntop \\nof\\nthe\\ncake.\\nSkinny\\nDarrell\\nWraps\\n3\\npounds\\ncheese\\ncurd,\\n2\\ntablespoons \\nsalt,\\nBoiling\\nwater,\\n1\\ncup\\nkosher\\nsalt, \\n1/4\\ncup\\ngarlic\\npowder,\\n1/4\\ncup\\nground \\nblack\\npepper,\\n2\\nmedium\\nwhite \\npotatoes,\\npeeled,\\nwashed\\nand\\ndried \\n(about\\n1\\n1/2\\npounds),\\n2\\ntablespoons \\nextra-virgin\\nolive\\noil,\\n1/4\\nteaspoon\\nsea \\nsalt,\\n1/4\\nteaspoon\\nground\\nblack \\npepper,\\nNonstick\\ncooking\\nspray,\\n2 \\ncups\\npanko\\nbreadcrumbs,\\n1\\ncup \\nlow-fat\\nbuttermilk,\\n1\\ntablespoon\\nhot \\nsauce,\\n1\\n1/4\\npounds\\nskinless,\\nboneless \\nchicken\\nbreast,\\ncut\\ninto\\n3-inch\\nstrips, \\n1\\ncup\\njarred\\nmarinara\\nsauce,\\nFour \\n8-inch\\nwhole\\nwheat\\ntortillas,\\n16\\nfresh \\nbasil\\nleaves\\nFor\\nthe\\nmozzarella:\\nBreak\\napart\\nthe \\ncheese\\ncurd\\ninto\\nsmall\\npieces\\nand\\nput \\nthem\\ninto\\na\\nlarge\\nbowl.\\nCover\\nthe \\ncurds\\nwith\\nhot\\nwater\\nfrom\\nthe\\ntap\\nto \\ntake\\nchill\\nout\\nof\\nthe\\ncurd.\\nDrain\\nthe \\nwater.\\nAdd\\nthe\\nsalt\\nand\\nmix\\nwith \\nhands.\\nAdd\\nboiling\\nwater\\nto\\ncover\\nthe \\ncurds\\nand\\nbegin\\nto\\nwork\\nit\\ninto\\na\\nsilky \\ntexture\\nuntil\\nall\\nthe\\nclumps\\nare\\nout. \\nWhen\\n\\nmix\\nwell. \\nMeanwhile,\\nin\\na\\nsmall\\nsaucepan,\\nbring \\nthe\\nmilk\\nto\\na\\nbare\\nsimmer\\nover \\nmedium\\nheat.\\nIn\\na\\nmedium\\nbowl, \\nwhisk\\nthe\\negg\\nbriefly\\nto\\nbreak\\nit\\nup. \\nTemper\\nthe\\negg\\nby\\ndrizzling\\n1/2\\ncup \\nof\\nthe\\nwarm\\nmilk\\nin\\nwhile\\nwhisking \\nuntil\\nincorporated.\\n(This\\nwill\\nprevent \\nthe\\negg\\nfrom\\nscrambling.)\\nMix\\nthe \\ntempered\\negg\\nand\\nthe\\nremaining\\nwarm \\nmilk\\ninto\\nthe\\nmacaroni\\nand\\nstir\\nwell \\nuntil\\neverything\\nis\\nevenly\\ncoated. \\nPour\\nthe\\ncontents\\nof\\nthe\\nbowl\\ninto\\nthe \\nprepared\\nbaking\\npan,\\nspreading\\nthe \\nmacaroni\\nand\\nsauce\\nevenly. \\nIn\\na\\nmedium\\nbowl,\\ntoss\\ntogether\\nthe \\npancetta,\\nParmesan,\\npanko\\nand \\nparsley,\\nand\\nsprinkle\\nover\\nthe\\ntop\\nof \\nthe\\nmacaroni.\\n(This\\nwill\\ncreate\\na \\nyummy\\ncrust.) \\nBake\\nuntil\\ngolden\\nbrown\\nand\\nbubbling \\non\\ntop,\\nand\\nthe\\npancetta\\nis\\ncrispy,\\n25 \\nto\\n30\\nminutes.\\nServe\\nwarm.\\nBaby\\nGreens\\nwith\\nMustard \\nVinaigrette\\n1\\nrounded\\nteaspoon\\ngrainy\\nmustard,\\n1 \\ntablespoon\\nred\\nwine\\nvinegar,\\n3 \\ntablespoons\\nextra-virgin\\nolive\\noil,\\n6\\nto \\n8\\nounces\\nmixed\\nbaby\\ngreens,\\n1\\nsack, \\nSalt\\nand\\npepper\\nCombine\\nmustard\\nand\\nvinegar\\nin\\nthe \\nbottom\\n\\nthe\\nsteaks\\nand\\nserve\\neach\\nwith \\nmushrooms\\non\\nthe\\nside.\\nMac\\nand\\nCheese\\n4\\ntablespoons\\n(1/2\\nstick)\\nunsalted \\nbutter,\\ncubed,\\nat\\nroom\\ntemperature, \\nplus\\nmore\\nfor\\nthe\\npan,\\n3\\ncups \\nshredded\\naged\\nor\\nextra-sharp\\nCheddar, \\n1\\ntablespoon\\nsugar,\\n1\\nteaspoon\\nground \\nmustard,\\nKosher\\nsalt,\\n1\\npound\\nelbow \\nmacaroni,\\n2\\n1/2\\ncups\\nwhole\\nmilk,\\n1 \\nlarge\\negg,\\n4\\nounces\\npancetta,\\nfinely \\ndiced\\n(about\\n1\\ncup),\\n1\\ncup\\ngrated \\nParmesan,\\n1/2\\ncup\\npanko \\nbreadcrumbs,\\n1\\ntablespoon\\nminced \\nfresh\\nflat-leaf\\nparsley\\nPreheat\\nthe\\noven\\nto\\n425\\ndegrees\\nF. \\nButter\\na\\n9-by-13-inch\\nbaking\\npan. \\nIn\\na\\nlarge\\nbowl,\\ncombine\\nthe\\nCheddar, \\nbutter\\ncubes,\\nsugar,\\nground\\nmustard \\nand\\n1/2\\nteaspoon\\nsalt. \\nBring\\na\\nlarge\\npot\\nof\\nsalted\\nwater\\nto\\na \\nboil\\nover\\nhigh\\nheat.\\nAdd\\nthe\\nmacaroni \\nand\\ncook\\nuntil\\nal\\ndente,\\na\\nminute\\nor\\nso \\nless\\nthan\\nthe\\nrecommended\\ncooking \\ntime\\non\\nthe\\npackage.\\nDrain\\nwell. \\nWhile\\nstill\\nhot,\\ndump\\nthe\\nmacaroni \\ninto\\nthe\\nCheddar-butter\\nmixture\\nand \\ntoss\\nto\\nmix\\nwell. \\nMeanwhile,\\nin\\na\\nsmall\\nsaucepan,\\nbring \\nthe\\nmilk\\nto\\na\\nbare\\nsimmer\\nover \\nmedium\\nheat.\\nIn\\na\\n#### End of Context ####\\n\\nQuestion: I have a dairy allergy. Can you provide a recipe that's dairy-free?\\n<|eot_id|><|start_header_id|>assistant<|end_header_id|>\\n\", \"parameters\": {\"max_new_tokens\": 1000, \"top_p\": 0.9, \"temperature\": 0.6, \"stop\": [\"<|eot_id|>\"]}}\n",
      "{'generated_text': \"I'd be happy to help!\\n\\nAfter reviewing the context, I noticed that the recipe mentions dairy products such as cheese, butter, and milk. To create a dairy-free version, I'll suggest some substitutions and modifications.\\n\\nHere's a revised recipe that replaces dairy products with dairy-free alternatives:\\n\\n**Title:** Dairy-Free Mac and Cheese\\n\\n**Ingredients:**\\n\\n* 1 pound elbow macaroni\\n* 2 1/2 cups non-dairy milk (such as almond, soy, or coconut milk)\\n* 1/2 cup vegan butter or margarine (such as Earth Balance)\\n* 3 cups dairy-free shredded cheese (such as Daiya or Follow Your Heart)\\n* 1 tablespoon sugar\\n* 1 teaspoon ground mustard\\n* Kosher salt\\n* 4 ounces vegan pancetta or tempeh, finely diced\\n* 1/2 cup panko breadcrumbs\\n* 1 tablespoon minced fresh flat-leaf parsley\\n* Nonstick cooking spray\\n\\n**Instructions:**\\n\\n1. Preheat the oven to 425°F (220°C).\\n2. Butter a 9-by-13-inch baking pan with non-dairy butter or margarine.\\n3. In a large bowl, combine the dairy-free shredded cheese, vegan butter or margarine, sugar, ground mustard, and 1/2 teaspoon salt.\\n4. Bring a large pot of salted water to a boil over high heat. Add the macaroni and cook until al dente, about 1-2 minutes less than the recommended cooking time on the package. Drain well.\\n5. While the macaroni is still hot, dump it into the cheese mixture and toss to mix well.\\n6. In a small saucepan, bring the non-dairy milk to a bare simmer over medium heat.\\n7. In a medium bowl, whisk together the egg replacement (such as flaxseed or chia seeds mixed with water) and the warm milk until smooth.\\n8. Add the egg replacement mixture to the macaroni and cheese mixture, and stir until well combined.\\n9. Transfer the macaroni mixture to the prepared baking pan and top with the vegan pancetta or tempeh, panko breadcrumbs, and parsley.\\n10. Drizzle with non-dairy butter or margarine and bake for 25-30 minutes, or until the top is golden brown and the macaroni is heated through.\\n\\nPlease note that this revised recipe may not have the exact same taste and texture as the original recipe, but it should still be a delicious and satisfying dairy-free alternative.\"}\n",
      "I\n",
      "\n",
      "[Document(page_content='Place\\nthe\\nsecond\\ncake\\nlayer\\non\\ntop. \\nSpread\\nfrosting\\nover\\nthe\\nsides\\nand\\ntop \\nof\\nthe\\ncake.\\nSkinny\\nDarrell\\nWraps\\n3\\npounds\\ncheese\\ncurd,\\n2\\ntablespoons \\nsalt,\\nBoiling\\nwater,\\n1\\ncup\\nkosher\\nsalt, \\n1/4\\ncup\\ngarlic\\npowder,\\n1/4\\ncup\\nground \\nblack\\npepper,\\n2\\nmedium\\nwhite \\npotatoes,\\npeeled,\\nwashed\\nand\\ndried \\n(about\\n1\\n1/2\\npounds),\\n2\\ntablespoons \\nextra-virgin\\nolive\\noil,\\n1/4\\nteaspoon\\nsea \\nsalt,\\n1/4\\nteaspoon\\nground\\nblack \\npepper,\\nNonstick\\ncooking\\nspray,\\n2 \\ncups\\npanko\\nbreadcrumbs,\\n1\\ncup \\nlow-fat\\nbuttermilk,\\n1\\ntablespoon\\nhot \\nsauce,\\n1\\n1/4\\npounds\\nskinless,\\nboneless \\nchicken\\nbreast,\\ncut\\ninto\\n3-inch\\nstrips, \\n1\\ncup\\njarred\\nmarinara\\nsauce,\\nFour \\n8-inch\\nwhole\\nwheat\\ntortillas,\\n16\\nfresh \\nbasil\\nleaves\\nFor\\nthe\\nmozzarella:\\nBreak\\napart\\nthe \\ncheese\\ncurd\\ninto\\nsmall\\npieces\\nand\\nput \\nthem\\ninto\\na\\nlarge\\nbowl.\\nCover\\nthe \\ncurds\\nwith\\nhot\\nwater\\nfrom\\nthe\\ntap\\nto \\ntake\\nchill\\nout\\nof\\nthe\\ncurd.\\nDrain\\nthe \\nwater.\\nAdd\\nthe\\nsalt\\nand\\nmix\\nwith \\nhands.\\nAdd\\nboiling\\nwater\\nto\\ncover\\nthe \\ncurds\\nand\\nbegin\\nto\\nwork\\nit\\ninto\\na\\nsilky \\ntexture\\nuntil\\nall\\nthe\\nclumps\\nare\\nout. \\nWhen'), Document(page_content='mix\\nwell. \\nMeanwhile,\\nin\\na\\nsmall\\nsaucepan,\\nbring \\nthe\\nmilk\\nto\\na\\nbare\\nsimmer\\nover \\nmedium\\nheat.\\nIn\\na\\nmedium\\nbowl, \\nwhisk\\nthe\\negg\\nbriefly\\nto\\nbreak\\nit\\nup. \\nTemper\\nthe\\negg\\nby\\ndrizzling\\n1/2\\ncup \\nof\\nthe\\nwarm\\nmilk\\nin\\nwhile\\nwhisking \\nuntil\\nincorporated.\\n(This\\nwill\\nprevent \\nthe\\negg\\nfrom\\nscrambling.)\\nMix\\nthe \\ntempered\\negg\\nand\\nthe\\nremaining\\nwarm \\nmilk\\ninto\\nthe\\nmacaroni\\nand\\nstir\\nwell \\nuntil\\neverything\\nis\\nevenly\\ncoated. \\nPour\\nthe\\ncontents\\nof\\nthe\\nbowl\\ninto\\nthe \\nprepared\\nbaking\\npan,\\nspreading\\nthe \\nmacaroni\\nand\\nsauce\\nevenly. \\nIn\\na\\nmedium\\nbowl,\\ntoss\\ntogether\\nthe \\npancetta,\\nParmesan,\\npanko\\nand \\nparsley,\\nand\\nsprinkle\\nover\\nthe\\ntop\\nof \\nthe\\nmacaroni.\\n(This\\nwill\\ncreate\\na \\nyummy\\ncrust.) \\nBake\\nuntil\\ngolden\\nbrown\\nand\\nbubbling \\non\\ntop,\\nand\\nthe\\npancetta\\nis\\ncrispy,\\n25 \\nto\\n30\\nminutes.\\nServe\\nwarm.\\nBaby\\nGreens\\nwith\\nMustard \\nVinaigrette\\n1\\nrounded\\nteaspoon\\ngrainy\\nmustard,\\n1 \\ntablespoon\\nred\\nwine\\nvinegar,\\n3 \\ntablespoons\\nextra-virgin\\nolive\\noil,\\n6\\nto \\n8\\nounces\\nmixed\\nbaby\\ngreens,\\n1\\nsack, \\nSalt\\nand\\npepper\\nCombine\\nmustard\\nand\\nvinegar\\nin\\nthe \\nbottom'), Document(page_content='the\\nsteaks\\nand\\nserve\\neach\\nwith \\nmushrooms\\non\\nthe\\nside.\\nMac\\nand\\nCheese\\n4\\ntablespoons\\n(1/2\\nstick)\\nunsalted \\nbutter,\\ncubed,\\nat\\nroom\\ntemperature, \\nplus\\nmore\\nfor\\nthe\\npan,\\n3\\ncups \\nshredded\\naged\\nor\\nextra-sharp\\nCheddar, \\n1\\ntablespoon\\nsugar,\\n1\\nteaspoon\\nground \\nmustard,\\nKosher\\nsalt,\\n1\\npound\\nelbow \\nmacaroni,\\n2\\n1/2\\ncups\\nwhole\\nmilk,\\n1 \\nlarge\\negg,\\n4\\nounces\\npancetta,\\nfinely \\ndiced\\n(about\\n1\\ncup),\\n1\\ncup\\ngrated \\nParmesan,\\n1/2\\ncup\\npanko \\nbreadcrumbs,\\n1\\ntablespoon\\nminced \\nfresh\\nflat-leaf\\nparsley\\nPreheat\\nthe\\noven\\nto\\n425\\ndegrees\\nF. \\nButter\\na\\n9-by-13-inch\\nbaking\\npan. \\nIn\\na\\nlarge\\nbowl,\\ncombine\\nthe\\nCheddar, \\nbutter\\ncubes,\\nsugar,\\nground\\nmustard \\nand\\n1/2\\nteaspoon\\nsalt. \\nBring\\na\\nlarge\\npot\\nof\\nsalted\\nwater\\nto\\na \\nboil\\nover\\nhigh\\nheat.\\nAdd\\nthe\\nmacaroni \\nand\\ncook\\nuntil\\nal\\ndente,\\na\\nminute\\nor\\nso \\nless\\nthan\\nthe\\nrecommended\\ncooking \\ntime\\non\\nthe\\npackage.\\nDrain\\nwell. \\nWhile\\nstill\\nhot,\\ndump\\nthe\\nmacaroni \\ninto\\nthe\\nCheddar-butter\\nmixture\\nand \\ntoss\\nto\\nmix\\nwell. \\nMeanwhile,\\nin\\na\\nsmall\\nsaucepan,\\nbring \\nthe\\nmilk\\nto\\na\\nbare\\nsimmer\\nover \\nmedium\\nheat.\\nIn\\na')]\n"
     ]
    }
   ],
   "source": [
    "query = \"I have a dairy allergy. Can you provide a recipe that's dairy-free?\"\n",
    "result = qa.invoke({\"query\": query})\n",
    "print(result['result'][0])\n",
    "\n",
    "# Print the source documents\n",
    "print(f\"\\n{result['source_documents']}\")"
   ]
  },
  {
   "cell_type": "code",
   "execution_count": 132,
   "id": "2a1efc81-a8a2-4bf1-9f94-e2c448ad0aaf",
   "metadata": {
    "id": "85babcaf-639f-4aaf-9277-d30c5d419679",
    "outputId": "175e5823-44af-4a2c-fcbe-35fea33cb482"
   },
   "outputs": [
    {
     "name": "stdout",
     "output_type": "stream",
     "text": [
      "I'd be happy to help!\n",
      "\n",
      "After reviewing the context, I noticed that the recipe mentions dairy products such as cheese, butter, and milk. To create a dairy-free version, I'll suggest some substitutions and modifications.\n",
      "\n",
      "Here's a revised recipe that replaces dairy products with dairy-free alternatives:\n",
      "\n",
      "**Title:** Dairy-Free Mac and Cheese\n",
      "\n",
      "**Ingredients:**\n",
      "\n",
      "* 1 pound elbow macaroni\n",
      "* 2 1/2 cups non-dairy milk (such as almond, soy, or coconut milk)\n",
      "* 1/2 cup vegan butter or margarine (such as Earth Balance)\n",
      "* 3 cups dairy-free shredded cheese (such as Daiya or Follow Your Heart)\n",
      "* 1 tablespoon sugar\n",
      "* 1 teaspoon ground mustard\n",
      "* Kosher salt\n",
      "* 4 ounces vegan pancetta or tempeh, finely diced\n",
      "* 1/2 cup panko breadcrumbs\n",
      "* 1 tablespoon minced fresh flat-leaf parsley\n",
      "* Nonstick cooking spray\n",
      "\n",
      "**Instructions:**\n",
      "\n",
      "1. Preheat the oven to 425°F (220°C).\n",
      "2. Butter a 9-by-13-inch baking pan with non-dairy butter or margarine.\n",
      "3. In a large bowl, combine the dairy-free shredded cheese, vegan butter or margarine, sugar, ground mustard, and 1/2 teaspoon salt.\n",
      "4. Bring a large pot of salted water to a boil over high heat. Add the macaroni and cook until al dente, about 1-2 minutes less than the recommended cooking time on the package. Drain well.\n",
      "5. While the macaroni is still hot, dump it into the cheese mixture and toss to mix well.\n",
      "6. In a small saucepan, bring the non-dairy milk to a bare simmer over medium heat.\n",
      "7. In a medium bowl, whisk together the egg replacement (such as flaxseed or chia seeds mixed with water) and the warm milk until smooth.\n",
      "8. Add the egg replacement mixture to the macaroni and cheese mixture, and stir until well combined.\n",
      "9. Transfer the macaroni mixture to the prepared baking pan and top with the vegan pancetta or tempeh, panko breadcrumbs, and parsley.\n",
      "10. Drizzle with non-dairy butter or margarine and bake for 25-30 minutes, or until the top is golden brown and the macaroni is heated through.\n",
      "\n",
      "Please note that this revised recipe may not have the exact same taste and texture as the original recipe, but it should still be a delicious and satisfying dairy-free alternative.\n"
     ]
    }
   ],
   "source": [
    "print(result['result'])"
   ]
  },
  {
   "cell_type": "code",
   "execution_count": 133,
   "id": "a0317e6b-6e29-4787-a0be-ae4897ee8297",
   "metadata": {
    "id": "a0317e6b-6e29-4787-a0be-ae4897ee8297",
    "outputId": "fb483040-d264-4874-db8c-80f892fe8dbc"
   },
   "outputs": [
    {
     "name": "stdout",
     "output_type": "stream",
     "text": [
      "{\"inputs\": \"<|begin_of_text|><|start_header_id|>system<|end_header_id|>\\nYou are a helpful assistant that generates recipes in a well-structured format.\\nPlease generate a recipe.\\nEnsure that ingredients are listed only once and avoid repeating any entries.\\nThe recipe should include the following sections:\\n1. **Title** of the recipe\\n2. **Ingredients List** with measurements (avoid repeats)\\n3. **Instructions** in numbered steps for preparation\\n\\nReturn the result in the following format:\\n\\n**Title:**\\nRecipe title here\\n\\n**Ingredients:**\\n- Ingredient 1\\n- Ingredient 2\\n- Ingredient 3\\n\\n**Instructions:**\\n1. Step 1\\n2. Step 2\\n3. Step 3\\n\\nMake sure the formatting follows the above structure exactly.\\n\\n<|eot_id|><|start_header_id|>user<|end_header_id|>\\nUse the following pieces of context to provide a concise answer to the question at the end. If you don't know the answer, just say that you don't know, don't try to make up an answer.\\n#### Context ####\\nPhotograph\\nby\\nLevi\\nBrown\\nBlueberry-Poppy\\nSeed\\nLoaves\\n1\\n1/3\\ncups\\nvegetable\\noil,\\nplus\\nmore\\nfor \\nbrushing,\\n3\\ncups\\nall-purpose\\nflour,\\n1 \\n1/2\\nteaspoons\\nbaking\\npowder,\\n2\\n1/2 \\ncups\\nsugar,\\nPinch\\nof\\nsalt,\\n1\\n1/2\\ncups \\nwhole\\nmilk,\\n3\\nlarge\\neggs,\\n1\\n1/2 \\ntablespoons\\npoppy\\nseeds,\\n1\\n1/2 \\nteaspoons\\nalmond\\nextract,\\n1\\n1/2 \\nteaspoons\\nvanilla\\nextract,\\n1\\ncup \\nblueberries\\nPreheat\\nthe\\noven\\nto\\n350\\ndegrees\\nF. \\nBrush\\n4\\nmini\\nloaf\\npans\\n(about\\n5\\nby\\n3 \\ninches\\neach)\\nwith\\nvegetable\\noil. \\nWhisk\\nthe\\nflour,\\nbaking\\npowder,\\nsugar \\nand\\nsalt\\nin\\na\\nlarge\\nbowl.\\nBeat\\nthe\\nmilk, \\n1\\n1/3\\ncups\\nvegetable\\noil,\\nthe\\neggs, \\npoppy\\nseeds,\\nand\\nalmond\\nand\\nvanilla \\nextracts\\nin\\na\\nstand\\nmixer\\nfitted\\nwith \\nthe\\npaddle\\nattachment\\non\\nmedium \\nspeed\\nuntil\\ncombined.\\nGradually\\nbeat \\nin\\nthe\\nflour\\nmixture\\nuntil\\nwell \\ncombined.\\nFold\\nthe\\nblueberries\\ninto \\nthe\\nbatter\\nwith\\na\\nrubber\\nspatula. \\nDivide\\nthe\\nbatter\\namong\\nthe\\nprepared \\npans\\nand\\nbake\\nuntil\\ngolden\\non\\ntop\\nand \\na\\ntoothpick\\ninserted\\ninto\\nthe\\ncenter \\ncomes\\nout\\nclean,\\n1\\nhour\\nto\\n1\\nhour,\\n10 \\nminutes.\\nTransfer\\nthe\\npans\\nto\\na\\nrack\\n\\ntitle\\ningredients\\ninstructions\\nBlackberry\\nLemonade\\nMuddle\\n2\\ncups\\nblackberries\\nwith\\n2 \\ncups\\nsimple\\nsyrup\\n(recipe\\nfollows)\\nin \\na\\npitcher.\\nStir\\nin\\n2\\ncups\\neach\\nfresh \\nlemon\\njuice\\nand\\nwater;\\nadd\\nice\\nand \\nlemon\\nslices. \\nSimple\\nSyrup:\\nTo\\nmake\\n2\\ncups\\nsimple \\nsyrup,\\nbring\\n1\\n1/2cups\\neach\\nsugar\\nand \\nwater\\nto\\na\\nboil,\\nstirring\\nuntil \\ndissolved.\\nLet\\ncool. \\nPhotograph\\nby\\nJonathan\\nKantor\\nUltra\\nCreamy\\nBlack\\nand\\nWhite \\nCheesecake\\nNonstick\\ncooking\\nspray,\\n1\\n1/2\\ncups \\nplus\\n2\\ntablespoons\\nsugar,\\n25\\nchocolate \\nwafer\\ncookies\\nfrom\\none\\n9-ounce \\npackage,\\n4\\ntablespoons\\nunsalted \\nbutter,\\nmelted,\\nThree\\n8-ounce \\npackages\\ncream\\ncheese,\\nat\\nroom \\ntemperature,\\n4\\nlarge\\neggs,\\n1/2\\ncup \\nsour\\ncream,\\n1/4\\ncup\\nall-purpose\\nflour, \\n2\\nteaspoons\\nvanilla\\nextract,\\n3\\nounces \\nchopped\\nsemisweet\\nchocolate,\\nmelted \\nand\\ncooled\\nslightly,\\n1/2\\nteaspoon\\npure \\nalmond\\nextract,\\nWhite\\nand\\nsemisweet \\nchocolate\\ncurls,\\nfor\\ngarnish\\n1.\\nArrange\\nthe\\noven\\nracks\\nin\\nthe \\ncenter\\nand\\nlower\\nthird\\nof\\nthe\\noven. \\nPlace\\na\\nbaking\\ndish\\nor\\nroasting\\npan\\non \\nthe\\nbottom\\nrack\\nand\\nfill\\nhalfway\\n\\nwith\\na\\nhandful\\nof\\npotato\\nchips\\non\\nthe \\nside.\\nBlackberry\\nLemonade\\nMuddle\\n2\\ncups\\nblackberries\\nwith\\n2 \\ncups\\nsimple\\nsyrup\\n(recipe\\nfollows)\\nin \\na\\npitcher.\\nStir\\nin\\n2\\ncups\\neach\\nfresh \\nlemon\\njuice\\nand\\nwater;\\nadd\\nice\\nand \\nlemon\\nslices. \\nSimple\\nSyrup:\\nTo\\nmake\\n2\\ncups\\nsimple \\nsyrup,\\nbring\\n1\\n1/2cups\\neach\\nsugar\\nand \\nwater\\nto\\na\\nboil,\\nstirring\\nuntil \\ndissolved.\\nLet\\ncool. \\nPhotograph\\nby\\nJonathan\\nKantor\\n#### End of Context ####\\n\\nQuestion: I have some blueberries at home. Can you provide me a recipe?\\n<|eot_id|><|start_header_id|>assistant<|end_header_id|>\\n\", \"parameters\": {\"max_new_tokens\": 1000, \"top_p\": 0.9, \"temperature\": 0.6, \"stop\": [\"<|eot_id|>\"]}}\n",
      "{'generated_text': '**Blueberry-Poppy Seed Loaves**\\n\\n**Ingredients:**\\n- 1 1/3 cups vegetable oil\\n- 3 cups all-purpose flour\\n- 1 1/2 teaspoons baking powder\\n- 2 1/2 cups sugar\\n- Pinch of salt\\n- 1 1/2 cups whole milk\\n- 3 large eggs\\n- 1 1/2 tablespoons poppy seeds\\n- 1 1/2 teaspoons almond extract\\n- 1 1/2 teaspoons vanilla extract\\n- 1 cup blueberries\\n\\n**Instructions:**\\n1. Preheat the oven to 350°F. Brush 4 mini loaf pans (about 5 by 3 inches each) with vegetable oil.\\n2. Whisk the flour, baking powder, sugar, and salt in a large bowl.\\n3. Beat the milk, 1/3 cups vegetable oil, the eggs, poppy seeds, almond extract, and vanilla extract in a stand mixer fitted with the paddle attachment on medium speed until combined.\\n4. Gradually beat in the flour mixture until well combined.\\n5. Fold the blueberries into the batter with a rubber spatula.\\n6. Divide the batter among the prepared pans and bake until golden on top and a toothpick inserted into the center comes out clean, 1 hour to 1 hour 10 minutes.\\n7. Transfer the pans to a rack to cool.'}\n",
      "*\n",
      "[Document(page_content='Photograph\\nby\\nLevi\\nBrown\\nBlueberry-Poppy\\nSeed\\nLoaves\\n1\\n1/3\\ncups\\nvegetable\\noil,\\nplus\\nmore\\nfor \\nbrushing,\\n3\\ncups\\nall-purpose\\nflour,\\n1 \\n1/2\\nteaspoons\\nbaking\\npowder,\\n2\\n1/2 \\ncups\\nsugar,\\nPinch\\nof\\nsalt,\\n1\\n1/2\\ncups \\nwhole\\nmilk,\\n3\\nlarge\\neggs,\\n1\\n1/2 \\ntablespoons\\npoppy\\nseeds,\\n1\\n1/2 \\nteaspoons\\nalmond\\nextract,\\n1\\n1/2 \\nteaspoons\\nvanilla\\nextract,\\n1\\ncup \\nblueberries\\nPreheat\\nthe\\noven\\nto\\n350\\ndegrees\\nF. \\nBrush\\n4\\nmini\\nloaf\\npans\\n(about\\n5\\nby\\n3 \\ninches\\neach)\\nwith\\nvegetable\\noil. \\nWhisk\\nthe\\nflour,\\nbaking\\npowder,\\nsugar \\nand\\nsalt\\nin\\na\\nlarge\\nbowl.\\nBeat\\nthe\\nmilk, \\n1\\n1/3\\ncups\\nvegetable\\noil,\\nthe\\neggs, \\npoppy\\nseeds,\\nand\\nalmond\\nand\\nvanilla \\nextracts\\nin\\na\\nstand\\nmixer\\nfitted\\nwith \\nthe\\npaddle\\nattachment\\non\\nmedium \\nspeed\\nuntil\\ncombined.\\nGradually\\nbeat \\nin\\nthe\\nflour\\nmixture\\nuntil\\nwell \\ncombined.\\nFold\\nthe\\nblueberries\\ninto \\nthe\\nbatter\\nwith\\na\\nrubber\\nspatula. \\nDivide\\nthe\\nbatter\\namong\\nthe\\nprepared \\npans\\nand\\nbake\\nuntil\\ngolden\\non\\ntop\\nand \\na\\ntoothpick\\ninserted\\ninto\\nthe\\ncenter \\ncomes\\nout\\nclean,\\n1\\nhour\\nto\\n1\\nhour,\\n10 \\nminutes.\\nTransfer\\nthe\\npans\\nto\\na\\nrack'), Document(page_content='title\\ningredients\\ninstructions\\nBlackberry\\nLemonade\\nMuddle\\n2\\ncups\\nblackberries\\nwith\\n2 \\ncups\\nsimple\\nsyrup\\n(recipe\\nfollows)\\nin \\na\\npitcher.\\nStir\\nin\\n2\\ncups\\neach\\nfresh \\nlemon\\njuice\\nand\\nwater;\\nadd\\nice\\nand \\nlemon\\nslices. \\nSimple\\nSyrup:\\nTo\\nmake\\n2\\ncups\\nsimple \\nsyrup,\\nbring\\n1\\n1/2cups\\neach\\nsugar\\nand \\nwater\\nto\\na\\nboil,\\nstirring\\nuntil \\ndissolved.\\nLet\\ncool. \\nPhotograph\\nby\\nJonathan\\nKantor\\nUltra\\nCreamy\\nBlack\\nand\\nWhite \\nCheesecake\\nNonstick\\ncooking\\nspray,\\n1\\n1/2\\ncups \\nplus\\n2\\ntablespoons\\nsugar,\\n25\\nchocolate \\nwafer\\ncookies\\nfrom\\none\\n9-ounce \\npackage,\\n4\\ntablespoons\\nunsalted \\nbutter,\\nmelted,\\nThree\\n8-ounce \\npackages\\ncream\\ncheese,\\nat\\nroom \\ntemperature,\\n4\\nlarge\\neggs,\\n1/2\\ncup \\nsour\\ncream,\\n1/4\\ncup\\nall-purpose\\nflour, \\n2\\nteaspoons\\nvanilla\\nextract,\\n3\\nounces \\nchopped\\nsemisweet\\nchocolate,\\nmelted \\nand\\ncooled\\nslightly,\\n1/2\\nteaspoon\\npure \\nalmond\\nextract,\\nWhite\\nand\\nsemisweet \\nchocolate\\ncurls,\\nfor\\ngarnish\\n1.\\nArrange\\nthe\\noven\\nracks\\nin\\nthe \\ncenter\\nand\\nlower\\nthird\\nof\\nthe\\noven. \\nPlace\\na\\nbaking\\ndish\\nor\\nroasting\\npan\\non \\nthe\\nbottom\\nrack\\nand\\nfill\\nhalfway'), Document(page_content='with\\na\\nhandful\\nof\\npotato\\nchips\\non\\nthe \\nside.\\nBlackberry\\nLemonade\\nMuddle\\n2\\ncups\\nblackberries\\nwith\\n2 \\ncups\\nsimple\\nsyrup\\n(recipe\\nfollows)\\nin \\na\\npitcher.\\nStir\\nin\\n2\\ncups\\neach\\nfresh \\nlemon\\njuice\\nand\\nwater;\\nadd\\nice\\nand \\nlemon\\nslices. \\nSimple\\nSyrup:\\nTo\\nmake\\n2\\ncups\\nsimple \\nsyrup,\\nbring\\n1\\n1/2cups\\neach\\nsugar\\nand \\nwater\\nto\\na\\nboil,\\nstirring\\nuntil \\ndissolved.\\nLet\\ncool. \\nPhotograph\\nby\\nJonathan\\nKantor')]\n"
     ]
    }
   ],
   "source": [
    "query = \"I have some blueberries at home. Can you provide me a recipe?\"\n",
    "result = qa.invoke({\"query\": query})\n",
    "print(result['result'][0])\n",
    "\n",
    "# Print the source documents\n",
    "print(result['source_documents'])"
   ]
  },
  {
   "cell_type": "code",
   "execution_count": 134,
   "id": "e1206879-f0f6-49d0-804b-11d20fc55570",
   "metadata": {},
   "outputs": [
    {
     "name": "stdout",
     "output_type": "stream",
     "text": [
      "**Blueberry-Poppy Seed Loaves**\n",
      "\n",
      "**Ingredients:**\n",
      "- 1 1/3 cups vegetable oil\n",
      "- 3 cups all-purpose flour\n",
      "- 1 1/2 teaspoons baking powder\n",
      "- 2 1/2 cups sugar\n",
      "- Pinch of salt\n",
      "- 1 1/2 cups whole milk\n",
      "- 3 large eggs\n",
      "- 1 1/2 tablespoons poppy seeds\n",
      "- 1 1/2 teaspoons almond extract\n",
      "- 1 1/2 teaspoons vanilla extract\n",
      "- 1 cup blueberries\n",
      "\n",
      "**Instructions:**\n",
      "1. Preheat the oven to 350°F. Brush 4 mini loaf pans (about 5 by 3 inches each) with vegetable oil.\n",
      "2. Whisk the flour, baking powder, sugar, and salt in a large bowl.\n",
      "3. Beat the milk, 1/3 cups vegetable oil, the eggs, poppy seeds, almond extract, and vanilla extract in a stand mixer fitted with the paddle attachment on medium speed until combined.\n",
      "4. Gradually beat in the flour mixture until well combined.\n",
      "5. Fold the blueberries into the batter with a rubber spatula.\n",
      "6. Divide the batter among the prepared pans and bake until golden on top and a toothpick inserted into the center comes out clean, 1 hour to 1 hour 10 minutes.\n",
      "7. Transfer the pans to a rack to cool.\n"
     ]
    }
   ],
   "source": [
    "print(result['result'])"
   ]
  },
  {
   "cell_type": "code",
   "execution_count": 137,
   "id": "50955098-7ff8-467d-98a8-7c6e3ef75a68",
   "metadata": {},
   "outputs": [
    {
     "name": "stdout",
     "output_type": "stream",
     "text": [
      "{\"inputs\": \"<|begin_of_text|><|start_header_id|>system<|end_header_id|>\\nYou are a helpful assistant that generates recipes in a well-structured format.\\nPlease generate a recipe.\\nEnsure that ingredients are listed only once and avoid repeating any entries.\\nThe recipe should include the following sections:\\n1. **Title** of the recipe\\n2. **Ingredients List** with measurements (avoid repeats)\\n3. **Instructions** in numbered steps for preparation\\n\\nReturn the result in the following format:\\n\\n**Title:**\\nRecipe title here\\n\\n**Ingredients:**\\n- Ingredient 1\\n- Ingredient 2\\n- Ingredient 3\\n\\n**Instructions:**\\n1. Step 1\\n2. Step 2\\n3. Step 3\\n\\nMake sure the formatting follows the above structure exactly.\\n\\n<|eot_id|><|start_header_id|>user<|end_header_id|>\\nUse the following pieces of context to provide a concise answer to the question at the end. If you don't know the answer, just say that you don't know, don't try to make up an answer.\\n#### Context ####\\ncrushed\\nhot\\nred\\npepper \\nflakes,\\n2\\npounds\\nbaby\\nbok\\nchoy\\nor\\n2\\nCook\\nthe\\npasta\\nin\\na\\nlarge\\npot\\nof \\nboiling\\nsalted\\nwater\\naccording\\nto \\npackage\\ndirections,\\nor\\nuntil\\nal\\ndente. \\nDrain\\nthe\\npasta\\nin\\na\\ncolander. \\nHeat\\nthe\\nlemon\\noil\\nin\\na\\nlarge\\nskillet \\nover\\nmedium-high\\nheat.\\nAdd\\nthe \\nonion,\\nand\\ncook,\\nstirring,\\nfor\\n2 \\nminutes.\\nAdd\\nthe\\nraisins,\\nginger,\\nzest, \\ngarlic,\\nsalt,\\nand\\npepper\\nflakes\\nand \\ncook,\\nstirring,\\nfor\\n2\\nminutes. \\nGradually\\nadd\\nthe\\ngreens,\\nand\\nas\\nthe\\n\\nMix\\nthe\\ningredients\\nin\\na\\nbowl.\\nTurn \\nout\\nonto\\na\\nboard\\nand\\nchop\\nuntil\\na \\npaste\\nis\\nformed. \\nHave\\ningredients\\nmeasured\\nand \\nnearby\\nbefore\\nbeginning.\\nHeat\\nthe\\noil \\nin\\na\\nsmall\\nskillet\\nover\\nhigh\\nheat.\\nAdd \\nthe\\nmustard\\nseeds.\\n(They\\nwill\\nbegin \\npopping\\nimmediately\\nso\\nhave\\na\\ncover \\nclose\\nat\\nhand\\nfor\\nescaping\\nseeds.) \\nCook\\nuntil\\npopping\\nstops. \\nLower\\nthe\\nheat,\\nadd\\nthe\\ncumin\\nseeds, \\nand\\ncook\\nuntil\\nthey\\nturn\\ngolden,\\nabout \\n1\\nminute.\\nStir\\nin\\nthe\\ngarlic\\nfor\\n10 \\nseconds,\\nthen\\nthe\\nginger\\nfor\\n10 \\nseconds\\nmore,\\nand\\nremove\\nfrom\\nthe \\nheat.\\nStir\\nin\\nthe\\nturmeric,\\npaprika, \\npepper\\nflakes,\\nand\\nsalt.\\nMix\\nthe\\nspices \\nand\\nyogurt\\ntogether\\nin\\na\\nbowl.\\nChill \\nbefore\\nserving.\\nRice\\nCake\\nSoup\\nwith\\nWontons\\n(Duk \\nKook)\\n3\\ncups\\nsliced,\\nfrozen\\nrice\\ncakes,\\n1/4 \\ncabbage\\n(about\\n1/2\\npound),\\n1/2\\npound \\nmung\\nbean\\nsprouts,\\n1\\ncup\\nfirm\\ntofu, \\nchopped,\\n3\\nscallions,\\ngreen\\ntops \\nremoved,\\n2\\ncloves\\ngarlic,\\nminced,\\n1/4 \\npound\\nground\\nlean\\nsirloin,\\n1/3\\npound \\nground\\npork\\ntenderloin,\\n1/2\\nDefrost\\nthe\\nrice\\ncakes\\nslowly\\nin\\nthe \\nrefrigerator;\\nthen\\nsoak\\nin\\nwater\\nfor\\n\\na\\nclose\\nwatch\\non\\nthem,\\nmaking \\nsure\\nto\\nturn\\nthem\\nso\\nthey\\nget\\ngolden \\nbrown\\non\\nall\\nsides.\\nRemove\\nwith\\na \\nslotted\\nspoon\\nand\\nplace\\non\\na\\nsheet\\nof \\npaper\\ntowels.\\nRepeat\\nwith\\nthe \\nremaining\\nmeatballs. \\nPut\\nthe\\nmeatballs\\non\\na\\nbaking\\nsheet \\nand\\nplace\\nin\\nthe\\noven\\nfor\\n20\\nminutes. \\nRemove\\nand\\nserve\\nimmediately.\\nSpicy\\nPotato\\nFritters\\n(Bujia)\\n2\\ntablespoons\\nblack\\nmustard\\nseeds,\\n1 \\ntablespoon\\ncumin\\nseeds,\\n2 \\ntablespoons\\nclarified\\nbutter\\n(ghee),\\n2 \\ntablespoons\\ncrushed,\\ndried\\nneem \\n(curry)\\nleaves,\\n1\\nonion,\\ndiced,\\n2 \\nteaspoons\\nminced\\ngarlic,\\n1/2\\nteaspoon \\nturmeric,\\n1/2\\nbunch\\ncilantro,\\nleaves \\nroughly\\nchopped,\\n1\\nserrano\\nchile, \\nseeded,\\nstemmed,\\nand\\nvery\\nfinely\\nFor\\nthe\\nbatter:\\nCombine\\ndry \\ningredients\\nin\\na\\nbowl,\\nadd\\nthe\\nwater, \\nand\\nmix\\nwith\\na\\nspoon\\nuntil\\nsmooth \\nand\\ncreamy.\\nSet\\naside. \\nFor\\nthe\\npotato\\nfritters:\\nRoast\\nthe \\nmustard\\nseeds\\nin\\na\\ndry\\npan\\nuntil\\nthey \\nturn\\ngray,\\nbecome\\naromatic,\\nand\\nbegin \\nto\\npop.\\n(This\\nwill\\nhappen\\nquickly.) \\nLower\\nthe\\nheat,\\nadd\\nthe\\ncumin\\nseeds,\\n#### End of Context ####\\n\\nQuestion: I am allergic to nuts. Can you give me a Thai noodle recipe free of nuts?\\n<|eot_id|><|start_header_id|>assistant<|end_header_id|>\\n\", \"parameters\": {\"max_new_tokens\": 1000, \"top_p\": 0.9, \"temperature\": 0.6, \"stop\": [\"<|eot_id|>\"]}}\n",
      "{'generated_text': \"I'd be happy to help!\\n\\nAfter reviewing the provided context, I noticed that there are no nut-based ingredients mentioned in the recipes. Therefore, I can provide you with a Thai noodle recipe that is free of nuts.\\n\\nHere's a recipe for Spicy Red Pepper Noodle Stir-Fry:\\n\\n**Title:** Spicy Red Pepper Noodle Stir-Fry\\n\\n**Ingredients:**\\n\\n* 2 pounds baby bok choy or 2 cups cooked noodles\\n* 2 tablespoons lemon oil\\n* 1 onion, diced\\n* 2 cloves garlic, minced\\n* 1/2 teaspoon crushed red pepper flakes\\n* Salt, to taste\\n* 1/4 cup raisins\\n* 1-inch piece of fresh ginger, grated\\n* 2 cups mixed greens (such as Thai basil, cilantro, and/or mint)\\n\\n**Instructions:**\\n\\n1. Cook the noodles according to package directions. Drain and set aside.\\n2. Heat the lemon oil in a large skillet over medium-high heat. Add the onion and cook, stirring, for 2 minutes.\\n3. Add the garlic, crushed red pepper flakes, and salt. Cook, stirring, for 1 minute.\\n4. Add the raisins, ginger, and mixed greens. Cook, stirring, for 2 minutes.\\n5. Add the cooked noodles to the skillet and stir-fry everything together for about 2 minutes, until the noodles are well coated with the sauce.\\n6. Serve hot and enjoy!\\n\\nPlease note that this recipe is free of nuts, but if you have any other food allergies or concerns, please let me know and I'll do my best to accommodate your needs.\"}\n",
      "I\n",
      "[Document(page_content='crushed\\nhot\\nred\\npepper \\nflakes,\\n2\\npounds\\nbaby\\nbok\\nchoy\\nor\\n2\\nCook\\nthe\\npasta\\nin\\na\\nlarge\\npot\\nof \\nboiling\\nsalted\\nwater\\naccording\\nto \\npackage\\ndirections,\\nor\\nuntil\\nal\\ndente. \\nDrain\\nthe\\npasta\\nin\\na\\ncolander. \\nHeat\\nthe\\nlemon\\noil\\nin\\na\\nlarge\\nskillet \\nover\\nmedium-high\\nheat.\\nAdd\\nthe \\nonion,\\nand\\ncook,\\nstirring,\\nfor\\n2 \\nminutes.\\nAdd\\nthe\\nraisins,\\nginger,\\nzest, \\ngarlic,\\nsalt,\\nand\\npepper\\nflakes\\nand \\ncook,\\nstirring,\\nfor\\n2\\nminutes. \\nGradually\\nadd\\nthe\\ngreens,\\nand\\nas\\nthe'), Document(page_content='Mix\\nthe\\ningredients\\nin\\na\\nbowl.\\nTurn \\nout\\nonto\\na\\nboard\\nand\\nchop\\nuntil\\na \\npaste\\nis\\nformed. \\nHave\\ningredients\\nmeasured\\nand \\nnearby\\nbefore\\nbeginning.\\nHeat\\nthe\\noil \\nin\\na\\nsmall\\nskillet\\nover\\nhigh\\nheat.\\nAdd \\nthe\\nmustard\\nseeds.\\n(They\\nwill\\nbegin \\npopping\\nimmediately\\nso\\nhave\\na\\ncover \\nclose\\nat\\nhand\\nfor\\nescaping\\nseeds.) \\nCook\\nuntil\\npopping\\nstops. \\nLower\\nthe\\nheat,\\nadd\\nthe\\ncumin\\nseeds, \\nand\\ncook\\nuntil\\nthey\\nturn\\ngolden,\\nabout \\n1\\nminute.\\nStir\\nin\\nthe\\ngarlic\\nfor\\n10 \\nseconds,\\nthen\\nthe\\nginger\\nfor\\n10 \\nseconds\\nmore,\\nand\\nremove\\nfrom\\nthe \\nheat.\\nStir\\nin\\nthe\\nturmeric,\\npaprika, \\npepper\\nflakes,\\nand\\nsalt.\\nMix\\nthe\\nspices \\nand\\nyogurt\\ntogether\\nin\\na\\nbowl.\\nChill \\nbefore\\nserving.\\nRice\\nCake\\nSoup\\nwith\\nWontons\\n(Duk \\nKook)\\n3\\ncups\\nsliced,\\nfrozen\\nrice\\ncakes,\\n1/4 \\ncabbage\\n(about\\n1/2\\npound),\\n1/2\\npound \\nmung\\nbean\\nsprouts,\\n1\\ncup\\nfirm\\ntofu, \\nchopped,\\n3\\nscallions,\\ngreen\\ntops \\nremoved,\\n2\\ncloves\\ngarlic,\\nminced,\\n1/4 \\npound\\nground\\nlean\\nsirloin,\\n1/3\\npound \\nground\\npork\\ntenderloin,\\n1/2\\nDefrost\\nthe\\nrice\\ncakes\\nslowly\\nin\\nthe \\nrefrigerator;\\nthen\\nsoak\\nin\\nwater\\nfor'), Document(page_content='a\\nclose\\nwatch\\non\\nthem,\\nmaking \\nsure\\nto\\nturn\\nthem\\nso\\nthey\\nget\\ngolden \\nbrown\\non\\nall\\nsides.\\nRemove\\nwith\\na \\nslotted\\nspoon\\nand\\nplace\\non\\na\\nsheet\\nof \\npaper\\ntowels.\\nRepeat\\nwith\\nthe \\nremaining\\nmeatballs. \\nPut\\nthe\\nmeatballs\\non\\na\\nbaking\\nsheet \\nand\\nplace\\nin\\nthe\\noven\\nfor\\n20\\nminutes. \\nRemove\\nand\\nserve\\nimmediately.\\nSpicy\\nPotato\\nFritters\\n(Bujia)\\n2\\ntablespoons\\nblack\\nmustard\\nseeds,\\n1 \\ntablespoon\\ncumin\\nseeds,\\n2 \\ntablespoons\\nclarified\\nbutter\\n(ghee),\\n2 \\ntablespoons\\ncrushed,\\ndried\\nneem \\n(curry)\\nleaves,\\n1\\nonion,\\ndiced,\\n2 \\nteaspoons\\nminced\\ngarlic,\\n1/2\\nteaspoon \\nturmeric,\\n1/2\\nbunch\\ncilantro,\\nleaves \\nroughly\\nchopped,\\n1\\nserrano\\nchile, \\nseeded,\\nstemmed,\\nand\\nvery\\nfinely\\nFor\\nthe\\nbatter:\\nCombine\\ndry \\ningredients\\nin\\na\\nbowl,\\nadd\\nthe\\nwater, \\nand\\nmix\\nwith\\na\\nspoon\\nuntil\\nsmooth \\nand\\ncreamy.\\nSet\\naside. \\nFor\\nthe\\npotato\\nfritters:\\nRoast\\nthe \\nmustard\\nseeds\\nin\\na\\ndry\\npan\\nuntil\\nthey \\nturn\\ngray,\\nbecome\\naromatic,\\nand\\nbegin \\nto\\npop.\\n(This\\nwill\\nhappen\\nquickly.) \\nLower\\nthe\\nheat,\\nadd\\nthe\\ncumin\\nseeds,')]\n"
     ]
    }
   ],
   "source": [
    "query = \"I am allergic to nuts. Can you give me a Thai noodle recipe free of nuts?\"\n",
    "result = qa.invoke({\"query\": query})\n",
    "print(result['result'][0])\n",
    "\n",
    "# Print the source documents\n",
    "print(result['source_documents'])"
   ]
  },
  {
   "cell_type": "code",
   "execution_count": 138,
   "id": "7c7dd9e1-b8c3-4f7a-a18c-9db252cf00b1",
   "metadata": {},
   "outputs": [
    {
     "name": "stdout",
     "output_type": "stream",
     "text": [
      "I'd be happy to help!\n",
      "\n",
      "After reviewing the provided context, I noticed that there are no nut-based ingredients mentioned in the recipes. Therefore, I can provide you with a Thai noodle recipe that is free of nuts.\n",
      "\n",
      "Here's a recipe for Spicy Red Pepper Noodle Stir-Fry:\n",
      "\n",
      "**Title:** Spicy Red Pepper Noodle Stir-Fry\n",
      "\n",
      "**Ingredients:**\n",
      "\n",
      "* 2 pounds baby bok choy or 2 cups cooked noodles\n",
      "* 2 tablespoons lemon oil\n",
      "* 1 onion, diced\n",
      "* 2 cloves garlic, minced\n",
      "* 1/2 teaspoon crushed red pepper flakes\n",
      "* Salt, to taste\n",
      "* 1/4 cup raisins\n",
      "* 1-inch piece of fresh ginger, grated\n",
      "* 2 cups mixed greens (such as Thai basil, cilantro, and/or mint)\n",
      "\n",
      "**Instructions:**\n",
      "\n",
      "1. Cook the noodles according to package directions. Drain and set aside.\n",
      "2. Heat the lemon oil in a large skillet over medium-high heat. Add the onion and cook, stirring, for 2 minutes.\n",
      "3. Add the garlic, crushed red pepper flakes, and salt. Cook, stirring, for 1 minute.\n",
      "4. Add the raisins, ginger, and mixed greens. Cook, stirring, for 2 minutes.\n",
      "5. Add the cooked noodles to the skillet and stir-fry everything together for about 2 minutes, until the noodles are well coated with the sauce.\n",
      "6. Serve hot and enjoy!\n",
      "\n",
      "Please note that this recipe is free of nuts, but if you have any other food allergies or concerns, please let me know and I'll do my best to accommodate your needs.\n"
     ]
    }
   ],
   "source": [
    "print(result['result'])"
   ]
  },
  {
   "cell_type": "code",
   "execution_count": 139,
   "id": "43aeff39-92f0-4b0e-b671-f151abe8b466",
   "metadata": {},
   "outputs": [
    {
     "name": "stdout",
     "output_type": "stream",
     "text": [
      "{\"inputs\": \"<|begin_of_text|><|start_header_id|>system<|end_header_id|>\\nYou are a helpful assistant that generates recipes in a well-structured format.\\nPlease generate a recipe.\\nEnsure that ingredients are listed only once and avoid repeating any entries.\\nThe recipe should include the following sections:\\n1. **Title** of the recipe\\n2. **Ingredients List** with measurements (avoid repeats)\\n3. **Instructions** in numbered steps for preparation\\n\\nReturn the result in the following format:\\n\\n**Title:**\\nRecipe title here\\n\\n**Ingredients:**\\n- Ingredient 1\\n- Ingredient 2\\n- Ingredient 3\\n\\n**Instructions:**\\n1. Step 1\\n2. Step 2\\n3. Step 3\\n\\nMake sure the formatting follows the above structure exactly.\\n\\n<|eot_id|><|start_header_id|>user<|end_header_id|>\\nUse the following pieces of context to provide a concise answer to the question at the end. If you don't know the answer, just say that you don't know, don't try to make up an answer.\\n#### Context ####\\nbutter,\\n1\\nteaspoon\\nsalt,\\n2\\ncups\\nwhite \\nwine,\\n10\\nounces\\ncanned\\nbeef \\nconsomme,\\n10\\nounces\\nchicken\\nbroth, \\n10\\nounces\\napple\\ncider\\n(unfiltered\\nis \\nbest),\\nBouquet\\ngarni;\\nthyme\\nsprigs, \\nbay\\nleaf\\nand\\nparsley\\ntied\\ntogether\\nwith \\nkitchen\\nstring,\\n1\\nloaf\\ncountry\\nstyle \\nbread,\\nKosher\\nsalt,\\nGround\\nblack \\npepper,\\nSplash\\nof\\nCognac\\n(optional),\\n1 \\ncup\\nFontina\\nor\\nGruyere\\ncheese,\\ngrated\\nfinely\\nslice\\ninto\\nhalf-moon\\nshapes.\\nSet \\nelectric\\nskillet\\nto\\n300\\ndegrees\\nand\\nadd \\nbutter.\\nOnce\\nbutter\\nhas\\nmelted\\nadd\\na \\nlayer\\nof\\nonions\\nand\\nsprinkle\\nwith\\na \\nlittle\\nsalt.\\nRepeat\\nlayering\\nonions\\nand \\nsalt\\nuntil\\nall\\nonions\\nare\\nin\\nthe\\nskillet. \\nDo\\nnot\\ntry\\nstirring\\nuntil\\nonions\\nhave \\nsweated\\ndown\\nfor\\n15\\nto\\n20\\nminutes. \\nAfter\\nthat,\\nstir\\noccasionally\\nuntil \\nonions\\nare\\ndark\\nmahogany\\nand \\nreduced\\nto\\napproximately\\n2\\ncups.\\nThis \\nshould\\ntake\\n45\\nminutes\\nto\\n1\\nhour.\\nDo \\nnot\\nworry\\nabout\\nburning. \\nAdd\\nenough\\nwine\\nto\\ncover\\nthe\\nonions \\nand\\nturn\\nheat\\nto\\nhigh,\\nreducing\\nthe \\nwine\\nto\\na\\nsyrup\\nconsistency.\\nAdd \\nconsomme,\\nchicken\\nbroth,\\napple\\ncider \\nand\\nbouquet\\ngarni.\\n\\nbunches\\nbroccoli\\nrabe,\\ncut\\ncrosswise \\ninto\\n1-inch\\nsquares,\\n2\\nteaspoons \\nbalsamic\\nvinegar,\\n1\\ncup\\nextra-virgin \\nolive\\noil,\\nolive\\noil,\\ngrapeseed\\noil,\\nor \\nother\\nvegetable\\noil,\\n2\\ntablespoons \\nfinely\\ngrated\\nlemon\\nzest\\nleaves\\nbegin\\nto\\nwilt,\\nadd\\nmore\\nto\\nfit\\nin \\nthe\\npan,\\nturning\\nconstantly\\nwith\\ntongs; \\ncook\\nuntil\\nthe\\ngreens\\nare\\nwilted\\nand \\nbright\\ngreen,\\nabout\\n5\\nminutes.\\nAdd\\nthe \\nvinegar\\nand\\ncook,\\nstirring,\\nfor\\n1 \\nminute. \\nReturn\\nthe\\npasta\\nto\\nthe\\ncooking\\npot, \\nadd\\nthe\\nvegetable\\nmixture,\\nand\\ntoss\\nto \\ncombine\\nwell.\\nServe\\nhot. \\nPlace\\nthe\\noil\\nand\\nthe\\nzest\\nin\\na\\nglass\\njar. \\nLet\\nstand\\nat\\nroom\\ntemperature\\nfor\\nat \\nleast\\n2\\nweeks,\\nshaking\\noccasionally. \\nPour\\nthe\\noil\\nthrough\\na\\nstrainer\\nand \\ndiscard\\nthe\\nzest.\\nTransfer\\nto\\na\\njar\\nand \\nstore,\\ntightly\\ncovered,\\nat\\nin \\nrefrigerator.\\nAsian-Spiced\\nBaby\\nBack\\nRibs\\n1\\norange,\\nKosher\\nsalt,\\n3/4\\ncup\\npacked \\nlight\\nbrown\\nsugar,\\n1\\npiece\\nstar\\nanise,\\n1 \\nteaspoon\\npickling\\nspice,\\n2\\nslices \\nginger,\\nplus\\n1\\nteaspoon\\ngrated\\npeeled \\nginger,\\n3\\n1-pound\\nracks\\nbaby\\nback \\npork\\nribs,\\n2\\nteaspoons\\nvegetable\\noil,\\n1\\n\\ncrumbs,\\n3\\nhandfuls,\\n1/3\\ncup\\ngrated \\nParmigiano-Reggiano,\\n2\\nhandfuls,\\n1 \\negg,\\nbeaten,\\n1/4\\nteaspoon\\nfreshly \\ngrated\\nnutmeg,\\neyeball\\nit,\\nCoarse\\nsalt \\nand\\nfreshly\\nground\\npepper,\\n2\\npackages \\nfrozen\\nchopped\\nspinach,\\n10\\nounces \\neach,\\n3\\ntablespoons\\nextra-virgin\\nolive \\noil,\\n1\\nfor\\nonion,\\n2\\ntablespoons\\nto\\nfry \\ncakes,\\n1\\nsmall\\nonion,\\nchopped,\\n1/2 \\ncup\\nItalian\\nbread\\ncrumbs,\\n3\\nhandfuls, \\n1/3\\ncup\\ngrated\\nParmigiano-Reggiano, \\n2\\nhandfuls,\\n1\\negg,\\nbeaten,\\n1/4 \\nteaspoon\\nfreshly\\ngrated\\nnutmeg, \\neyeball\\nit,\\nCoarse\\nsalt\\nand\\nfreshly \\nground\\npepper,\\n4\\nthin\\nslices\\nbacon, \\nlook\\nfor\\npackaged\\nbacon\\nmarked \\n\\\"Center\\nCut\\\"\\nin\\npackaged\\nmeats\\ncase, \\n4\\nbeef\\ntenderloin\\nsteaks,\\n1\\n1/2\\ninches \\nthick,\\nCoarse\\nsalt\\nand\\ncracked\\nblack \\npepper,\\nseason\\nto\\nyour\\ntastes,\\n2 \\ntablespoons\\nbutter,\\ndivided,\\n1 \\ntablespoon\\nall-purpose\\nflour,\\n1/2\\ncup \\ndry\\nred\\nwine,\\n1/2\\ncup\\nbeef\\nstock, \\navailable\\non\\nsoup\\naisle,\\n4\\nthin\\nslices \\nbacon,\\nlook\\nfor\\npackaged\\nbacon \\nmarked\\n\\\"Center\\nCut\\\"\\nin\\npackaged \\nmeats\\ncase,\\n4\\nbeef\\ntenderloin\\nsteaks,\\n1 \\n1/2\\ninches\\nthick,\\nCoarse\\nsalt\\nand\\n#### End of Context ####\\n\\nQuestion: I am allergic to gluten. Can you give me a recipe for an Italian dish without gluten?\\n<|eot_id|><|start_header_id|>assistant<|end_header_id|>\\n\", \"parameters\": {\"max_new_tokens\": 1000, \"top_p\": 0.9, \"temperature\": 0.6, \"stop\": [\"<|eot_id|>\"]}}\n",
      "{'generated_text': \"Based on the provided context, I can suggest a recipe for a gluten-free Italian dish. Here's a recipe for Braised Onion and Broccoli Rabe with Fontina Cheese:\\n\\n**Title:** Braised Onion and Broccoli Rabe with Fontina Cheese\\n\\n**Ingredients:**\\n\\n- 1 teaspoon butter\\n- 2 cups white wine\\n- 10 ounces canned beef consomme\\n- 10 ounces chicken broth\\n- 10 ounces apple cider\\n- Bouquet garni (thyme sprigs, bay leaf, and parsley tied together with kitchen string)\\n- 1 loaf country-style bread\\n- Kosher salt\\n- Ground black pepper\\n- 1 cup Fontina or Gruyere cheese, grated\\n- 1 bunch broccoli rabe, cut crosswise into 1-inch squares\\n- 2 teaspoons balsamic vinegar\\n- 1 cup extra-virgin olive oil\\n- 2 tablespoons finely grated lemon zest\\n\\n**Instructions:**\\n\\n1. Set an electric skillet to 300 degrees and add the butter. Once melted, add a layer of onions and sprinkle with a little salt. Repeat layering onions and salt until all onions are in the skillet. Do not stir until onions have sweated down for 15 to 20 minutes.\\n2. After that, stir occasionally until onions are dark mahogany and reduced to approximately 2 cups. This should take 45 minutes to 1 hour. Do not worry about burning.\\n3. Add enough wine to cover the onions and turn heat to high, reducing the wine to a syrup consistency.\\n4. Add consomme, chicken broth, apple cider, and bouquet garni.\\n5. In a separate pan, heat olive oil over medium-high heat. Add broccoli rabe and cook, turning constantly with tongs, until wilted and bright green, about 5 minutes. Add vinegar and cook, stirring, for 1 minute.\\n6. Return the pasta to the cooking pot, add the vegetable mixture, and toss to combine well.\\n7. Serve hot.\\n\\nThis recipe does not contain gluten, making it suitable for those with gluten allergies or intolerance. Enjoy!\"}\n",
      "B\n",
      "[Document(page_content='butter,\\n1\\nteaspoon\\nsalt,\\n2\\ncups\\nwhite \\nwine,\\n10\\nounces\\ncanned\\nbeef \\nconsomme,\\n10\\nounces\\nchicken\\nbroth, \\n10\\nounces\\napple\\ncider\\n(unfiltered\\nis \\nbest),\\nBouquet\\ngarni;\\nthyme\\nsprigs, \\nbay\\nleaf\\nand\\nparsley\\ntied\\ntogether\\nwith \\nkitchen\\nstring,\\n1\\nloaf\\ncountry\\nstyle \\nbread,\\nKosher\\nsalt,\\nGround\\nblack \\npepper,\\nSplash\\nof\\nCognac\\n(optional),\\n1 \\ncup\\nFontina\\nor\\nGruyere\\ncheese,\\ngrated\\nfinely\\nslice\\ninto\\nhalf-moon\\nshapes.\\nSet \\nelectric\\nskillet\\nto\\n300\\ndegrees\\nand\\nadd \\nbutter.\\nOnce\\nbutter\\nhas\\nmelted\\nadd\\na \\nlayer\\nof\\nonions\\nand\\nsprinkle\\nwith\\na \\nlittle\\nsalt.\\nRepeat\\nlayering\\nonions\\nand \\nsalt\\nuntil\\nall\\nonions\\nare\\nin\\nthe\\nskillet. \\nDo\\nnot\\ntry\\nstirring\\nuntil\\nonions\\nhave \\nsweated\\ndown\\nfor\\n15\\nto\\n20\\nminutes. \\nAfter\\nthat,\\nstir\\noccasionally\\nuntil \\nonions\\nare\\ndark\\nmahogany\\nand \\nreduced\\nto\\napproximately\\n2\\ncups.\\nThis \\nshould\\ntake\\n45\\nminutes\\nto\\n1\\nhour.\\nDo \\nnot\\nworry\\nabout\\nburning. \\nAdd\\nenough\\nwine\\nto\\ncover\\nthe\\nonions \\nand\\nturn\\nheat\\nto\\nhigh,\\nreducing\\nthe \\nwine\\nto\\na\\nsyrup\\nconsistency.\\nAdd \\nconsomme,\\nchicken\\nbroth,\\napple\\ncider \\nand\\nbouquet\\ngarni.'), Document(page_content='bunches\\nbroccoli\\nrabe,\\ncut\\ncrosswise \\ninto\\n1-inch\\nsquares,\\n2\\nteaspoons \\nbalsamic\\nvinegar,\\n1\\ncup\\nextra-virgin \\nolive\\noil,\\nolive\\noil,\\ngrapeseed\\noil,\\nor \\nother\\nvegetable\\noil,\\n2\\ntablespoons \\nfinely\\ngrated\\nlemon\\nzest\\nleaves\\nbegin\\nto\\nwilt,\\nadd\\nmore\\nto\\nfit\\nin \\nthe\\npan,\\nturning\\nconstantly\\nwith\\ntongs; \\ncook\\nuntil\\nthe\\ngreens\\nare\\nwilted\\nand \\nbright\\ngreen,\\nabout\\n5\\nminutes.\\nAdd\\nthe \\nvinegar\\nand\\ncook,\\nstirring,\\nfor\\n1 \\nminute. \\nReturn\\nthe\\npasta\\nto\\nthe\\ncooking\\npot, \\nadd\\nthe\\nvegetable\\nmixture,\\nand\\ntoss\\nto \\ncombine\\nwell.\\nServe\\nhot. \\nPlace\\nthe\\noil\\nand\\nthe\\nzest\\nin\\na\\nglass\\njar. \\nLet\\nstand\\nat\\nroom\\ntemperature\\nfor\\nat \\nleast\\n2\\nweeks,\\nshaking\\noccasionally. \\nPour\\nthe\\noil\\nthrough\\na\\nstrainer\\nand \\ndiscard\\nthe\\nzest.\\nTransfer\\nto\\na\\njar\\nand \\nstore,\\ntightly\\ncovered,\\nat\\nin \\nrefrigerator.\\nAsian-Spiced\\nBaby\\nBack\\nRibs\\n1\\norange,\\nKosher\\nsalt,\\n3/4\\ncup\\npacked \\nlight\\nbrown\\nsugar,\\n1\\npiece\\nstar\\nanise,\\n1 \\nteaspoon\\npickling\\nspice,\\n2\\nslices \\nginger,\\nplus\\n1\\nteaspoon\\ngrated\\npeeled \\nginger,\\n3\\n1-pound\\nracks\\nbaby\\nback \\npork\\nribs,\\n2\\nteaspoons\\nvegetable\\noil,\\n1'), Document(page_content='crumbs,\\n3\\nhandfuls,\\n1/3\\ncup\\ngrated \\nParmigiano-Reggiano,\\n2\\nhandfuls,\\n1 \\negg,\\nbeaten,\\n1/4\\nteaspoon\\nfreshly \\ngrated\\nnutmeg,\\neyeball\\nit,\\nCoarse\\nsalt \\nand\\nfreshly\\nground\\npepper,\\n2\\npackages \\nfrozen\\nchopped\\nspinach,\\n10\\nounces \\neach,\\n3\\ntablespoons\\nextra-virgin\\nolive \\noil,\\n1\\nfor\\nonion,\\n2\\ntablespoons\\nto\\nfry \\ncakes,\\n1\\nsmall\\nonion,\\nchopped,\\n1/2 \\ncup\\nItalian\\nbread\\ncrumbs,\\n3\\nhandfuls, \\n1/3\\ncup\\ngrated\\nParmigiano-Reggiano, \\n2\\nhandfuls,\\n1\\negg,\\nbeaten,\\n1/4 \\nteaspoon\\nfreshly\\ngrated\\nnutmeg, \\neyeball\\nit,\\nCoarse\\nsalt\\nand\\nfreshly \\nground\\npepper,\\n4\\nthin\\nslices\\nbacon, \\nlook\\nfor\\npackaged\\nbacon\\nmarked \\n\"Center\\nCut\"\\nin\\npackaged\\nmeats\\ncase, \\n4\\nbeef\\ntenderloin\\nsteaks,\\n1\\n1/2\\ninches \\nthick,\\nCoarse\\nsalt\\nand\\ncracked\\nblack \\npepper,\\nseason\\nto\\nyour\\ntastes,\\n2 \\ntablespoons\\nbutter,\\ndivided,\\n1 \\ntablespoon\\nall-purpose\\nflour,\\n1/2\\ncup \\ndry\\nred\\nwine,\\n1/2\\ncup\\nbeef\\nstock, \\navailable\\non\\nsoup\\naisle,\\n4\\nthin\\nslices \\nbacon,\\nlook\\nfor\\npackaged\\nbacon \\nmarked\\n\"Center\\nCut\"\\nin\\npackaged \\nmeats\\ncase,\\n4\\nbeef\\ntenderloin\\nsteaks,\\n1 \\n1/2\\ninches\\nthick,\\nCoarse\\nsalt\\nand')]\n"
     ]
    }
   ],
   "source": [
    "query = \"I am allergic to gluten. Can you give me a recipe for an Italian dish without gluten?\"\n",
    "result = qa.invoke({\"query\": query})\n",
    "print(result['result'][0])\n",
    "\n",
    "# Print the source documents\n",
    "print(result['source_documents'])\n"
   ]
  },
  {
   "cell_type": "code",
   "execution_count": 140,
   "id": "4b753aad-fd4a-41af-9245-c81ae21a3dd3",
   "metadata": {},
   "outputs": [
    {
     "name": "stdout",
     "output_type": "stream",
     "text": [
      "Based on the provided context, I can suggest a recipe for a gluten-free Italian dish. Here's a recipe for Braised Onion and Broccoli Rabe with Fontina Cheese:\n",
      "\n",
      "**Title:** Braised Onion and Broccoli Rabe with Fontina Cheese\n",
      "\n",
      "**Ingredients:**\n",
      "\n",
      "- 1 teaspoon butter\n",
      "- 2 cups white wine\n",
      "- 10 ounces canned beef consomme\n",
      "- 10 ounces chicken broth\n",
      "- 10 ounces apple cider\n",
      "- Bouquet garni (thyme sprigs, bay leaf, and parsley tied together with kitchen string)\n",
      "- 1 loaf country-style bread\n",
      "- Kosher salt\n",
      "- Ground black pepper\n",
      "- 1 cup Fontina or Gruyere cheese, grated\n",
      "- 1 bunch broccoli rabe, cut crosswise into 1-inch squares\n",
      "- 2 teaspoons balsamic vinegar\n",
      "- 1 cup extra-virgin olive oil\n",
      "- 2 tablespoons finely grated lemon zest\n",
      "\n",
      "**Instructions:**\n",
      "\n",
      "1. Set an electric skillet to 300 degrees and add the butter. Once melted, add a layer of onions and sprinkle with a little salt. Repeat layering onions and salt until all onions are in the skillet. Do not stir until onions have sweated down for 15 to 20 minutes.\n",
      "2. After that, stir occasionally until onions are dark mahogany and reduced to approximately 2 cups. This should take 45 minutes to 1 hour. Do not worry about burning.\n",
      "3. Add enough wine to cover the onions and turn heat to high, reducing the wine to a syrup consistency.\n",
      "4. Add consomme, chicken broth, apple cider, and bouquet garni.\n",
      "5. In a separate pan, heat olive oil over medium-high heat. Add broccoli rabe and cook, turning constantly with tongs, until wilted and bright green, about 5 minutes. Add vinegar and cook, stirring, for 1 minute.\n",
      "6. Return the pasta to the cooking pot, add the vegetable mixture, and toss to combine well.\n",
      "7. Serve hot.\n",
      "\n",
      "This recipe does not contain gluten, making it suitable for those with gluten allergies or intolerance. Enjoy!\n"
     ]
    }
   ],
   "source": [
    "print(result['result'])"
   ]
  },
  {
   "cell_type": "markdown",
   "id": "1ce6ce56-7eb8-44e0-b723-4245c00d85db",
   "metadata": {},
   "source": [
    "<font size=\"6\">RAGAS Evaluation</font> "
   ]
  },
  {
   "cell_type": "code",
   "execution_count": 151,
   "id": "64b0fc35-7332-4a16-8740-f91da7f8aa57",
   "metadata": {},
   "outputs": [
    {
     "name": "stdout",
     "output_type": "stream",
     "text": [
      "Collecting pydantic==2.8\n",
      "  Using cached pydantic-2.8.0-py3-none-any.whl.metadata (123 kB)\n",
      "Requirement already satisfied: annotated-types>=0.4.0 in /opt/conda/lib/python3.11/site-packages (from pydantic==2.8) (0.7.0)\n",
      "Collecting pydantic-core==2.20.0 (from pydantic==2.8)\n",
      "  Using cached pydantic_core-2.20.0-cp311-cp311-manylinux_2_17_x86_64.manylinux2014_x86_64.whl.metadata (6.6 kB)\n",
      "Requirement already satisfied: typing-extensions>=4.6.1 in /opt/conda/lib/python3.11/site-packages (from pydantic==2.8) (4.12.2)\n",
      "Using cached pydantic-2.8.0-py3-none-any.whl (423 kB)\n",
      "Using cached pydantic_core-2.20.0-cp311-cp311-manylinux_2_17_x86_64.manylinux2014_x86_64.whl (2.1 MB)\n",
      "Installing collected packages: pydantic-core, pydantic\n",
      "  Attempting uninstall: pydantic-core\n",
      "    Found existing installation: pydantic_core 2.23.4\n",
      "    Uninstalling pydantic_core-2.23.4:\n",
      "      Successfully uninstalled pydantic_core-2.23.4\n",
      "  Attempting uninstall: pydantic\n",
      "    Found existing installation: pydantic 2.9.2\n",
      "    Uninstalling pydantic-2.9.2:\n",
      "      Successfully uninstalled pydantic-2.9.2\n",
      "Successfully installed pydantic-2.8.0 pydantic-core-2.20.0\n"
     ]
    }
   ],
   "source": [
    "!pip install pydantic==2.8"
   ]
  },
  {
   "cell_type": "code",
   "execution_count": 152,
   "id": "ba83ae18-5312-44bd-88af-1d06ea91330f",
   "metadata": {},
   "outputs": [
    {
     "name": "stdout",
     "output_type": "stream",
     "text": [
      "Requirement already satisfied: ragas in /opt/conda/lib/python3.11/site-packages (0.2.1)\n",
      "Requirement already satisfied: numpy in /opt/conda/lib/python3.11/site-packages (from ragas) (1.26.4)\n",
      "Requirement already satisfied: datasets in /opt/conda/lib/python3.11/site-packages (from ragas) (2.21.0)\n",
      "Requirement already satisfied: tiktoken in /opt/conda/lib/python3.11/site-packages (from ragas) (0.8.0)\n",
      "Requirement already satisfied: langchain in /opt/conda/lib/python3.11/site-packages (from ragas) (0.1.14)\n",
      "Requirement already satisfied: langchain-core in /opt/conda/lib/python3.11/site-packages (from ragas) (0.1.52)\n",
      "Requirement already satisfied: langchain-community in /opt/conda/lib/python3.11/site-packages (from ragas) (0.0.38)\n",
      "Requirement already satisfied: langchain-openai in /opt/conda/lib/python3.11/site-packages (from ragas) (0.1.7)\n",
      "Requirement already satisfied: nest-asyncio in /opt/conda/lib/python3.11/site-packages (from ragas) (1.6.0)\n",
      "Requirement already satisfied: appdirs in /opt/conda/lib/python3.11/site-packages (from ragas) (1.4.4)\n",
      "Requirement already satisfied: pydantic>=2 in /opt/conda/lib/python3.11/site-packages (from ragas) (2.8.0)\n",
      "Requirement already satisfied: openai>1 in /opt/conda/lib/python3.11/site-packages (from ragas) (1.52.0)\n",
      "Requirement already satisfied: pysbd>=0.3.4 in /opt/conda/lib/python3.11/site-packages (from ragas) (0.3.4)\n",
      "Requirement already satisfied: anyio<5,>=3.5.0 in /opt/conda/lib/python3.11/site-packages (from openai>1->ragas) (4.4.0)\n",
      "Requirement already satisfied: distro<2,>=1.7.0 in /opt/conda/lib/python3.11/site-packages (from openai>1->ragas) (1.9.0)\n",
      "Requirement already satisfied: httpx<1,>=0.23.0 in /opt/conda/lib/python3.11/site-packages (from openai>1->ragas) (0.27.0)\n",
      "Requirement already satisfied: jiter<1,>=0.4.0 in /opt/conda/lib/python3.11/site-packages (from openai>1->ragas) (0.6.1)\n",
      "Requirement already satisfied: sniffio in /opt/conda/lib/python3.11/site-packages (from openai>1->ragas) (1.3.1)\n",
      "Requirement already satisfied: tqdm>4 in /opt/conda/lib/python3.11/site-packages (from openai>1->ragas) (4.66.5)\n",
      "Requirement already satisfied: typing-extensions<5,>=4.11 in /opt/conda/lib/python3.11/site-packages (from openai>1->ragas) (4.12.2)\n",
      "Requirement already satisfied: annotated-types>=0.4.0 in /opt/conda/lib/python3.11/site-packages (from pydantic>=2->ragas) (0.7.0)\n",
      "Requirement already satisfied: pydantic-core==2.20.0 in /opt/conda/lib/python3.11/site-packages (from pydantic>=2->ragas) (2.20.0)\n",
      "Requirement already satisfied: filelock in /opt/conda/lib/python3.11/site-packages (from datasets->ragas) (3.15.4)\n",
      "Requirement already satisfied: pyarrow>=15.0.0 in /opt/conda/lib/python3.11/site-packages (from datasets->ragas) (15.0.2)\n",
      "Requirement already satisfied: dill<0.3.9,>=0.3.0 in /opt/conda/lib/python3.11/site-packages (from datasets->ragas) (0.3.8)\n",
      "Requirement already satisfied: pandas in /opt/conda/lib/python3.11/site-packages (from datasets->ragas) (2.2.2)\n",
      "Requirement already satisfied: requests>=2.32.2 in /opt/conda/lib/python3.11/site-packages (from datasets->ragas) (2.32.3)\n",
      "Requirement already satisfied: xxhash in /opt/conda/lib/python3.11/site-packages (from datasets->ragas) (3.5.0)\n",
      "Requirement already satisfied: multiprocess in /opt/conda/lib/python3.11/site-packages (from datasets->ragas) (0.70.16)\n",
      "Requirement already satisfied: fsspec<=2024.6.1,>=2023.1.0 in /opt/conda/lib/python3.11/site-packages (from fsspec[http]<=2024.6.1,>=2023.1.0->datasets->ragas) (2023.6.0)\n",
      "Requirement already satisfied: aiohttp in /opt/conda/lib/python3.11/site-packages (from datasets->ragas) (3.9.5)\n",
      "Requirement already satisfied: huggingface-hub>=0.21.2 in /opt/conda/lib/python3.11/site-packages (from datasets->ragas) (0.24.5)\n",
      "Requirement already satisfied: packaging in /opt/conda/lib/python3.11/site-packages (from datasets->ragas) (23.2)\n",
      "Requirement already satisfied: pyyaml>=5.1 in /opt/conda/lib/python3.11/site-packages (from datasets->ragas) (6.0.2)\n",
      "Requirement already satisfied: SQLAlchemy<3,>=1.4 in /opt/conda/lib/python3.11/site-packages (from langchain->ragas) (2.0.32)\n",
      "Requirement already satisfied: dataclasses-json<0.7,>=0.5.7 in /opt/conda/lib/python3.11/site-packages (from langchain->ragas) (0.6.7)\n",
      "Requirement already satisfied: jsonpatch<2.0,>=1.33 in /opt/conda/lib/python3.11/site-packages (from langchain->ragas) (1.33)\n",
      "Requirement already satisfied: langchain-text-splitters<0.1,>=0.0.1 in /opt/conda/lib/python3.11/site-packages (from langchain->ragas) (0.0.2)\n",
      "Requirement already satisfied: langsmith<0.2.0,>=0.1.17 in /opt/conda/lib/python3.11/site-packages (from langchain->ragas) (0.1.99)\n",
      "Requirement already satisfied: tenacity<9.0.0,>=8.1.0 in /opt/conda/lib/python3.11/site-packages (from langchain->ragas) (8.5.0)\n",
      "Requirement already satisfied: regex>=2022.1.18 in /opt/conda/lib/python3.11/site-packages (from tiktoken->ragas) (2024.7.24)\n",
      "Requirement already satisfied: aiosignal>=1.1.2 in /opt/conda/lib/python3.11/site-packages (from aiohttp->datasets->ragas) (1.3.1)\n",
      "Requirement already satisfied: attrs>=17.3.0 in /opt/conda/lib/python3.11/site-packages (from aiohttp->datasets->ragas) (23.2.0)\n",
      "Requirement already satisfied: frozenlist>=1.1.1 in /opt/conda/lib/python3.11/site-packages (from aiohttp->datasets->ragas) (1.4.1)\n",
      "Requirement already satisfied: multidict<7.0,>=4.5 in /opt/conda/lib/python3.11/site-packages (from aiohttp->datasets->ragas) (6.0.5)\n",
      "Requirement already satisfied: yarl<2.0,>=1.0 in /opt/conda/lib/python3.11/site-packages (from aiohttp->datasets->ragas) (1.9.4)\n",
      "Requirement already satisfied: idna>=2.8 in /opt/conda/lib/python3.11/site-packages (from anyio<5,>=3.5.0->openai>1->ragas) (3.7)\n",
      "Requirement already satisfied: marshmallow<4.0.0,>=3.18.0 in /opt/conda/lib/python3.11/site-packages (from dataclasses-json<0.7,>=0.5.7->langchain->ragas) (3.21.3)\n",
      "Requirement already satisfied: typing-inspect<1,>=0.4.0 in /opt/conda/lib/python3.11/site-packages (from dataclasses-json<0.7,>=0.5.7->langchain->ragas) (0.9.0)\n",
      "Requirement already satisfied: certifi in /opt/conda/lib/python3.11/site-packages (from httpx<1,>=0.23.0->openai>1->ragas) (2024.7.4)\n",
      "Requirement already satisfied: httpcore==1.* in /opt/conda/lib/python3.11/site-packages (from httpx<1,>=0.23.0->openai>1->ragas) (1.0.5)\n",
      "Requirement already satisfied: h11<0.15,>=0.13 in /opt/conda/lib/python3.11/site-packages (from httpcore==1.*->httpx<1,>=0.23.0->openai>1->ragas) (0.14.0)\n",
      "Requirement already satisfied: jsonpointer>=1.9 in /opt/conda/lib/python3.11/site-packages (from jsonpatch<2.0,>=1.33->langchain->ragas) (3.0.0)\n",
      "Requirement already satisfied: orjson<4.0.0,>=3.9.14 in /opt/conda/lib/python3.11/site-packages (from langsmith<0.2.0,>=0.1.17->langchain->ragas) (3.10.7)\n",
      "Requirement already satisfied: charset-normalizer<4,>=2 in /opt/conda/lib/python3.11/site-packages (from requests>=2.32.2->datasets->ragas) (3.3.2)\n",
      "Requirement already satisfied: urllib3<3,>=1.21.1 in /opt/conda/lib/python3.11/site-packages (from requests>=2.32.2->datasets->ragas) (1.26.19)\n",
      "Requirement already satisfied: greenlet!=0.4.17 in /opt/conda/lib/python3.11/site-packages (from SQLAlchemy<3,>=1.4->langchain->ragas) (3.0.3)\n",
      "Requirement already satisfied: python-dateutil>=2.8.2 in /opt/conda/lib/python3.11/site-packages (from pandas->datasets->ragas) (2.9.0)\n",
      "Requirement already satisfied: pytz>=2020.1 in /opt/conda/lib/python3.11/site-packages (from pandas->datasets->ragas) (2023.3)\n",
      "Requirement already satisfied: tzdata>=2022.7 in /opt/conda/lib/python3.11/site-packages (from pandas->datasets->ragas) (2024.1)\n",
      "Requirement already satisfied: six>=1.5 in /opt/conda/lib/python3.11/site-packages (from python-dateutil>=2.8.2->pandas->datasets->ragas) (1.16.0)\n",
      "Requirement already satisfied: mypy-extensions>=0.3.0 in /opt/conda/lib/python3.11/site-packages (from typing-inspect<1,>=0.4.0->dataclasses-json<0.7,>=0.5.7->langchain->ragas) (1.0.0)\n"
     ]
    }
   ],
   "source": [
    "!pip install ragas"
   ]
  },
  {
   "cell_type": "code",
   "execution_count": 156,
   "id": "8ee126cc-ec27-4bd1-a0f7-cc43df15c435",
   "metadata": {
    "scrolled": true
   },
   "outputs": [
    {
     "ename": "ImportError",
     "evalue": "cannot import name 'field_validator' from 'pydantic' (/opt/conda/lib/python3.11/site-packages/pydantic/__init__.cpython-311-x86_64-linux-gnu.so)",
     "output_type": "error",
     "traceback": [
      "\u001b[0;31m---------------------------------------------------------------------------\u001b[0m",
      "\u001b[0;31mImportError\u001b[0m                               Traceback (most recent call last)",
      "Cell \u001b[0;32mIn[156], line 1\u001b[0m\n\u001b[0;32m----> 1\u001b[0m \u001b[38;5;28;01mimport\u001b[39;00m \u001b[38;5;21;01mragas\u001b[39;00m\n\u001b[1;32m      2\u001b[0m \u001b[38;5;28;01mfrom\u001b[39;00m \u001b[38;5;21;01mdatasets\u001b[39;00m \u001b[38;5;28;01mimport\u001b[39;00m Dataset\n\u001b[1;32m      3\u001b[0m \u001b[38;5;66;03m# os.environ[\"OPENAI_API_KEY\"] = userdata.get('OPENAI_API_KEY')\u001b[39;00m\n",
      "File \u001b[0;32m/opt/conda/lib/python3.11/site-packages/ragas/__init__.py:1\u001b[0m\n\u001b[0;32m----> 1\u001b[0m \u001b[38;5;28;01mfrom\u001b[39;00m \u001b[38;5;21;01mragas\u001b[39;00m\u001b[38;5;21;01m.\u001b[39;00m\u001b[38;5;21;01mdataset_schema\u001b[39;00m \u001b[38;5;28;01mimport\u001b[39;00m EvaluationDataset, MultiTurnSample, SingleTurnSample\n\u001b[1;32m      2\u001b[0m \u001b[38;5;28;01mfrom\u001b[39;00m \u001b[38;5;21;01mragas\u001b[39;00m\u001b[38;5;21;01m.\u001b[39;00m\u001b[38;5;21;01mevaluation\u001b[39;00m \u001b[38;5;28;01mimport\u001b[39;00m evaluate\n\u001b[1;32m      3\u001b[0m \u001b[38;5;28;01mfrom\u001b[39;00m \u001b[38;5;21;01mragas\u001b[39;00m\u001b[38;5;21;01m.\u001b[39;00m\u001b[38;5;21;01mrun_config\u001b[39;00m \u001b[38;5;28;01mimport\u001b[39;00m RunConfig\n",
      "File \u001b[0;32m/opt/conda/lib/python3.11/site-packages/ragas/dataset_schema.py:9\u001b[0m\n\u001b[1;32m      6\u001b[0m \u001b[38;5;28;01mfrom\u001b[39;00m \u001b[38;5;21;01mdataclasses\u001b[39;00m \u001b[38;5;28;01mimport\u001b[39;00m dataclass, field\n\u001b[1;32m      8\u001b[0m \u001b[38;5;28;01mfrom\u001b[39;00m \u001b[38;5;21;01mdatasets\u001b[39;00m \u001b[38;5;28;01mimport\u001b[39;00m Dataset \u001b[38;5;28;01mas\u001b[39;00m HFDataset\n\u001b[0;32m----> 9\u001b[0m \u001b[38;5;28;01mfrom\u001b[39;00m \u001b[38;5;21;01mpydantic\u001b[39;00m \u001b[38;5;28;01mimport\u001b[39;00m BaseModel, field_validator\n\u001b[1;32m     11\u001b[0m \u001b[38;5;28;01mfrom\u001b[39;00m \u001b[38;5;21;01mragas\u001b[39;00m\u001b[38;5;21;01m.\u001b[39;00m\u001b[38;5;21;01mcost\u001b[39;00m \u001b[38;5;28;01mimport\u001b[39;00m CostCallbackHandler\n\u001b[1;32m     12\u001b[0m \u001b[38;5;28;01mfrom\u001b[39;00m \u001b[38;5;21;01mragas\u001b[39;00m\u001b[38;5;21;01m.\u001b[39;00m\u001b[38;5;21;01mmessages\u001b[39;00m \u001b[38;5;28;01mimport\u001b[39;00m AIMessage, HumanMessage, ToolCall, ToolMessage\n",
      "\u001b[0;31mImportError\u001b[0m: cannot import name 'field_validator' from 'pydantic' (/opt/conda/lib/python3.11/site-packages/pydantic/__init__.cpython-311-x86_64-linux-gnu.so)"
     ]
    }
   ],
   "source": [
    "import ragas\n",
    "from datasets import Dataset\n",
    "# os.environ[\"OPENAI_API_KEY\"] = userdata.get('OPENAI_API_KEY')\n",
    "from ragas.metrics import (\n",
    "    faithfulness,\n",
    "    answer_relevancy,\n",
    "    context_precision\n",
    ")"
   ]
  },
  {
   "cell_type": "code",
   "execution_count": 154,
   "id": "ec4697ba-c398-4787-b7c5-01d7887ee23b",
   "metadata": {},
   "outputs": [
    {
     "ename": "NameError",
     "evalue": "name 'Dataset' is not defined",
     "output_type": "error",
     "traceback": [
      "\u001b[0;31m---------------------------------------------------------------------------\u001b[0m",
      "\u001b[0;31mNameError\u001b[0m                                 Traceback (most recent call last)",
      "Cell \u001b[0;32mIn[154], line 14\u001b[0m\n\u001b[1;32m      6\u001b[0m \u001b[38;5;66;03m# contexts = [ast.literal_eval(item) for item in contexts] # to make it a list of lists for Ragas\u001b[39;00m\n\u001b[1;32m      8\u001b[0m data \u001b[38;5;241m=\u001b[39m {\n\u001b[1;32m      9\u001b[0m     \u001b[38;5;124m\"\u001b[39m\u001b[38;5;124mquestion\u001b[39m\u001b[38;5;124m\"\u001b[39m: questions,\n\u001b[1;32m     10\u001b[0m     \u001b[38;5;124m\"\u001b[39m\u001b[38;5;124manswer\u001b[39m\u001b[38;5;124m\"\u001b[39m: answer,\n\u001b[1;32m     11\u001b[0m     \u001b[38;5;66;03m# \"contexts\": contexts,\u001b[39;00m\n\u001b[1;32m     12\u001b[0m }\n\u001b[0;32m---> 14\u001b[0m dataset \u001b[38;5;241m=\u001b[39m \u001b[43mDataset\u001b[49m\u001b[38;5;241m.\u001b[39mfrom_dict(data)\n\u001b[1;32m     15\u001b[0m dataset\n",
      "\u001b[0;31mNameError\u001b[0m: name 'Dataset' is not defined"
     ]
    }
   ],
   "source": [
    "questions = [query] #Ragas only takes lists\n",
    "# contexts = result['source_documents']\n",
    "answer = [result['result']]\n",
    "\n",
    "import ast\n",
    "# contexts = [ast.literal_eval(item) for item in contexts] # to make it a list of lists for Ragas\n",
    "\n",
    "data = {\n",
    "    \"question\": questions,\n",
    "    \"answer\": answer,\n",
    "    # \"contexts\": contexts,\n",
    "}\n",
    "\n",
    "dataset = Dataset.from_dict(data)\n",
    "dataset"
   ]
  },
  {
   "cell_type": "code",
   "execution_count": null,
   "id": "88f24ab4-d332-4dc4-866d-bd8aeb27e3a4",
   "metadata": {},
   "outputs": [],
   "source": [
    "score = ragas.evaluate(dataset,metrics=[answer_relevancy], raise_exceptions = False)\n",
    "score"
   ]
  }
 ],
 "metadata": {
  "colab": {
   "provenance": []
  },
  "kernelspec": {
   "display_name": "Python 3 (ipykernel)",
   "language": "python",
   "name": "python3"
  },
  "language_info": {
   "codemirror_mode": {
    "name": "ipython",
    "version": 3
   },
   "file_extension": ".py",
   "mimetype": "text/x-python",
   "name": "python",
   "nbconvert_exporter": "python",
   "pygments_lexer": "ipython3",
   "version": "3.11.9"
  }
 },
 "nbformat": 4,
 "nbformat_minor": 5
}
