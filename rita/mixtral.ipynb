{
 "cells": [
  {
   "cell_type": "markdown",
   "id": "J9y86_KPlUm6",
   "metadata": {
    "id": "J9y86_KPlUm6"
   },
   "source": [
    "**Resource:** https://github.com/aws-samples/Meta-Llama-on-AWS/blob/main/RAG-recipes/llama3-rag-langchain-smjs.ipynb"
   ]
  },
  {
   "cell_type": "markdown",
   "id": "lLuKPKGulaE7",
   "metadata": {
    "id": "lLuKPKGulaE7"
   },
   "source": [
    "* Embedding Model Used: *HuggingFace BGE Large EN Embedding model*\n",
    "* LLM Used: *HuggingFace Llama 3 8b Instruct LLM model*"
   ]
  },
  {
   "cell_type": "code",
   "execution_count": 14,
   "id": "7669e00e-f81b-4054-b7c7-dbf208dd3c7a",
   "metadata": {
    "id": "7669e00e-f81b-4054-b7c7-dbf208dd3c7a",
    "outputId": "59d7c039-b20b-4433-c1f5-543dcb6a6ea0"
   },
   "outputs": [
    {
     "name": "stdout",
     "output_type": "stream",
     "text": [
      "Overwriting requirements.txt\n"
     ]
    }
   ],
   "source": [
    "%%writefile requirements.txt\n",
    "langchain==0.1.14\n",
    "pypdf==4.1.0\n",
    "faiss-cpu==1.8.0\n",
    "boto3==1.34.58\n",
    "sqlalchemy==2.0.29"
   ]
  },
  {
   "cell_type": "code",
   "execution_count": 15,
   "id": "ce21f73c-4334-4d0c-9cbd-f9502a44fb96",
   "metadata": {
    "id": "ce21f73c-4334-4d0c-9cbd-f9502a44fb96",
    "outputId": "7b92100a-28dc-418d-c1be-309e9b4b487d"
   },
   "outputs": [
    {
     "name": "stdout",
     "output_type": "stream",
     "text": [
      "2.0.29\n"
     ]
    }
   ],
   "source": [
    "import sqlalchemy\n",
    "print(sqlalchemy.__version__)"
   ]
  },
  {
   "cell_type": "code",
   "execution_count": 16,
   "id": "755e8bfb-b5d7-4f27-9561-ecd91f3397bf",
   "metadata": {
    "id": "755e8bfb-b5d7-4f27-9561-ecd91f3397bf",
    "outputId": "bfbbac69-0c30-4f48-c029-e840b9c9933a"
   },
   "outputs": [
    {
     "name": "stdout",
     "output_type": "stream",
     "text": [
      "Requirement already satisfied: nvidia-ml-py3==7.352.0 in /opt/conda/lib/python3.11/site-packages (7.352.0)\n",
      "Note: you may need to restart the kernel to use updated packages.\n"
     ]
    }
   ],
   "source": [
    "pip install nvidia-ml-py3==7.352.0"
   ]
  },
  {
   "cell_type": "code",
   "execution_count": 17,
   "id": "2fede8f3-4749-47fa-8905-89487c720eb1",
   "metadata": {
    "id": "2fede8f3-4749-47fa-8905-89487c720eb1",
    "outputId": "9e7879a8-277f-46be-9dce-53b03de83d6f"
   },
   "outputs": [
    {
     "name": "stdout",
     "output_type": "stream",
     "text": [
      "Requirement already satisfied: sqlparse==0.5.0 in /opt/conda/lib/python3.11/site-packages (0.5.0)\n",
      "Note: you may need to restart the kernel to use updated packages.\n"
     ]
    }
   ],
   "source": [
    "pip install sqlparse==0.5.0"
   ]
  },
  {
   "cell_type": "code",
   "execution_count": 18,
   "id": "381349fb-f83e-4d62-b00b-0404204fb4ff",
   "metadata": {
    "id": "381349fb-f83e-4d62-b00b-0404204fb4ff",
    "outputId": "e8b912b4-4c64-40cc-e374-9e072b9ba61d"
   },
   "outputs": [
    {
     "name": "stdout",
     "output_type": "stream",
     "text": [
      "Requirement already satisfied: scikit-learn==1.3.0 in /opt/conda/lib/python3.11/site-packages (1.3.0)\n",
      "Requirement already satisfied: numpy>=1.17.3 in /opt/conda/lib/python3.11/site-packages (from scikit-learn==1.3.0) (1.26.4)\n",
      "Requirement already satisfied: scipy>=1.5.0 in /opt/conda/lib/python3.11/site-packages (from scikit-learn==1.3.0) (1.12.0)\n",
      "Requirement already satisfied: joblib>=1.1.1 in /opt/conda/lib/python3.11/site-packages (from scikit-learn==1.3.0) (1.4.2)\n",
      "Requirement already satisfied: threadpoolctl>=2.0.0 in /opt/conda/lib/python3.11/site-packages (from scikit-learn==1.3.0) (3.5.0)\n",
      "Note: you may need to restart the kernel to use updated packages.\n"
     ]
    }
   ],
   "source": [
    "pip install scikit-learn==1.3.0"
   ]
  },
  {
   "cell_type": "code",
   "execution_count": 19,
   "id": "28ecaeec-934a-44e5-909c-fa3606b3f97e",
   "metadata": {
    "id": "28ecaeec-934a-44e5-909c-fa3606b3f97e",
    "outputId": "cc86bc94-9377-453d-b212-e5c6ba186497"
   },
   "outputs": [
    {
     "name": "stdout",
     "output_type": "stream",
     "text": [
      "Requirement already satisfied: omegaconf==2.2.3 in /opt/conda/lib/python3.11/site-packages (2.2.3)\n",
      "Requirement already satisfied: antlr4-python3-runtime==4.9.* in /opt/conda/lib/python3.11/site-packages (from omegaconf==2.2.3) (4.9.3)\n",
      "Requirement already satisfied: PyYAML>=5.1.0 in /opt/conda/lib/python3.11/site-packages (from omegaconf==2.2.3) (6.0.2)\n",
      "Note: you may need to restart the kernel to use updated packages.\n"
     ]
    }
   ],
   "source": [
    "pip install omegaconf==2.2.3"
   ]
  },
  {
   "cell_type": "code",
   "execution_count": 20,
   "id": "58c5f5d9-6e4c-4652-896f-0620fe868df9",
   "metadata": {
    "id": "58c5f5d9-6e4c-4652-896f-0620fe868df9",
    "outputId": "b22f02ab-ba73-49ad-c3d8-2ffeb37067a4"
   },
   "outputs": [
    {
     "name": "stdout",
     "output_type": "stream",
     "text": [
      "Requirement already satisfied: gluonts==0.15.1 in /opt/conda/lib/python3.11/site-packages (0.15.1)\n",
      "Requirement already satisfied: numpy~=1.16 in /opt/conda/lib/python3.11/site-packages (from gluonts==0.15.1) (1.26.4)\n",
      "Requirement already satisfied: pandas<3,>=1.0 in /opt/conda/lib/python3.11/site-packages (from gluonts==0.15.1) (2.2.2)\n",
      "Requirement already satisfied: pydantic<3,>=1.7 in /opt/conda/lib/python3.11/site-packages (from gluonts==0.15.1) (1.10.17)\n",
      "Requirement already satisfied: tqdm~=4.23 in /opt/conda/lib/python3.11/site-packages (from gluonts==0.15.1) (4.66.5)\n",
      "Requirement already satisfied: toolz~=0.10 in /opt/conda/lib/python3.11/site-packages (from gluonts==0.15.1) (0.12.1)\n",
      "Requirement already satisfied: typing-extensions~=4.0 in /opt/conda/lib/python3.11/site-packages (from gluonts==0.15.1) (4.12.2)\n",
      "Requirement already satisfied: python-dateutil>=2.8.2 in /opt/conda/lib/python3.11/site-packages (from pandas<3,>=1.0->gluonts==0.15.1) (2.9.0)\n",
      "Requirement already satisfied: pytz>=2020.1 in /opt/conda/lib/python3.11/site-packages (from pandas<3,>=1.0->gluonts==0.15.1) (2023.3)\n",
      "Requirement already satisfied: tzdata>=2022.7 in /opt/conda/lib/python3.11/site-packages (from pandas<3,>=1.0->gluonts==0.15.1) (2024.1)\n",
      "Requirement already satisfied: six>=1.5 in /opt/conda/lib/python3.11/site-packages (from python-dateutil>=2.8.2->pandas<3,>=1.0->gluonts==0.15.1) (1.16.0)\n",
      "Note: you may need to restart the kernel to use updated packages.\n"
     ]
    }
   ],
   "source": [
    "pip install gluonts==0.15.1"
   ]
  },
  {
   "cell_type": "code",
   "execution_count": 21,
   "id": "5101aaa5-ca70-4840-b647-133cf2bd3274",
   "metadata": {
    "id": "5101aaa5-ca70-4840-b647-133cf2bd3274",
    "outputId": "e22cf26a-e7cd-4b57-e6a7-d6ee4f8e9d91"
   },
   "outputs": [
    {
     "name": "stdout",
     "output_type": "stream",
     "text": [
      "Requirement already satisfied: langchain==0.1.14 in /opt/conda/lib/python3.11/site-packages (0.1.14)\n",
      "Requirement already satisfied: PyYAML>=5.3 in /opt/conda/lib/python3.11/site-packages (from langchain==0.1.14) (6.0.2)\n",
      "Requirement already satisfied: SQLAlchemy<3,>=1.4 in /opt/conda/lib/python3.11/site-packages (from langchain==0.1.14) (2.0.29)\n",
      "Requirement already satisfied: aiohttp<4.0.0,>=3.8.3 in /opt/conda/lib/python3.11/site-packages (from langchain==0.1.14) (3.9.5)\n",
      "Requirement already satisfied: dataclasses-json<0.7,>=0.5.7 in /opt/conda/lib/python3.11/site-packages (from langchain==0.1.14) (0.6.7)\n",
      "Requirement already satisfied: jsonpatch<2.0,>=1.33 in /opt/conda/lib/python3.11/site-packages (from langchain==0.1.14) (1.33)\n",
      "Requirement already satisfied: langchain-community<0.1,>=0.0.30 in /opt/conda/lib/python3.11/site-packages (from langchain==0.1.14) (0.0.38)\n",
      "Requirement already satisfied: langchain-core<0.2.0,>=0.1.37 in /opt/conda/lib/python3.11/site-packages (from langchain==0.1.14) (0.1.52)\n",
      "Requirement already satisfied: langchain-text-splitters<0.1,>=0.0.1 in /opt/conda/lib/python3.11/site-packages (from langchain==0.1.14) (0.0.2)\n",
      "Requirement already satisfied: langsmith<0.2.0,>=0.1.17 in /opt/conda/lib/python3.11/site-packages (from langchain==0.1.14) (0.1.99)\n",
      "Requirement already satisfied: numpy<2,>=1 in /opt/conda/lib/python3.11/site-packages (from langchain==0.1.14) (1.26.4)\n",
      "Requirement already satisfied: pydantic<3,>=1 in /opt/conda/lib/python3.11/site-packages (from langchain==0.1.14) (1.10.17)\n",
      "Requirement already satisfied: requests<3,>=2 in /opt/conda/lib/python3.11/site-packages (from langchain==0.1.14) (2.32.3)\n",
      "Requirement already satisfied: tenacity<9.0.0,>=8.1.0 in /opt/conda/lib/python3.11/site-packages (from langchain==0.1.14) (8.5.0)\n",
      "Requirement already satisfied: aiosignal>=1.1.2 in /opt/conda/lib/python3.11/site-packages (from aiohttp<4.0.0,>=3.8.3->langchain==0.1.14) (1.3.1)\n",
      "Requirement already satisfied: attrs>=17.3.0 in /opt/conda/lib/python3.11/site-packages (from aiohttp<4.0.0,>=3.8.3->langchain==0.1.14) (23.2.0)\n",
      "Requirement already satisfied: frozenlist>=1.1.1 in /opt/conda/lib/python3.11/site-packages (from aiohttp<4.0.0,>=3.8.3->langchain==0.1.14) (1.4.1)\n",
      "Requirement already satisfied: multidict<7.0,>=4.5 in /opt/conda/lib/python3.11/site-packages (from aiohttp<4.0.0,>=3.8.3->langchain==0.1.14) (6.0.5)\n",
      "Requirement already satisfied: yarl<2.0,>=1.0 in /opt/conda/lib/python3.11/site-packages (from aiohttp<4.0.0,>=3.8.3->langchain==0.1.14) (1.9.4)\n",
      "Requirement already satisfied: marshmallow<4.0.0,>=3.18.0 in /opt/conda/lib/python3.11/site-packages (from dataclasses-json<0.7,>=0.5.7->langchain==0.1.14) (3.21.3)\n",
      "Requirement already satisfied: typing-inspect<1,>=0.4.0 in /opt/conda/lib/python3.11/site-packages (from dataclasses-json<0.7,>=0.5.7->langchain==0.1.14) (0.9.0)\n",
      "Requirement already satisfied: jsonpointer>=1.9 in /opt/conda/lib/python3.11/site-packages (from jsonpatch<2.0,>=1.33->langchain==0.1.14) (3.0.0)\n",
      "Requirement already satisfied: packaging<24.0,>=23.2 in /opt/conda/lib/python3.11/site-packages (from langchain-core<0.2.0,>=0.1.37->langchain==0.1.14) (23.2)\n",
      "Requirement already satisfied: orjson<4.0.0,>=3.9.14 in /opt/conda/lib/python3.11/site-packages (from langsmith<0.2.0,>=0.1.17->langchain==0.1.14) (3.10.7)\n",
      "Requirement already satisfied: typing-extensions>=4.2.0 in /opt/conda/lib/python3.11/site-packages (from pydantic<3,>=1->langchain==0.1.14) (4.12.2)\n",
      "Requirement already satisfied: charset-normalizer<4,>=2 in /opt/conda/lib/python3.11/site-packages (from requests<3,>=2->langchain==0.1.14) (3.3.2)\n",
      "Requirement already satisfied: idna<4,>=2.5 in /opt/conda/lib/python3.11/site-packages (from requests<3,>=2->langchain==0.1.14) (3.7)\n",
      "Requirement already satisfied: urllib3<3,>=1.21.1 in /opt/conda/lib/python3.11/site-packages (from requests<3,>=2->langchain==0.1.14) (1.26.19)\n",
      "Requirement already satisfied: certifi>=2017.4.17 in /opt/conda/lib/python3.11/site-packages (from requests<3,>=2->langchain==0.1.14) (2024.7.4)\n",
      "Requirement already satisfied: greenlet!=0.4.17 in /opt/conda/lib/python3.11/site-packages (from SQLAlchemy<3,>=1.4->langchain==0.1.14) (3.0.3)\n",
      "Requirement already satisfied: mypy-extensions>=0.3.0 in /opt/conda/lib/python3.11/site-packages (from typing-inspect<1,>=0.4.0->dataclasses-json<0.7,>=0.5.7->langchain==0.1.14) (1.0.0)\n",
      "Note: you may need to restart the kernel to use updated packages.\n"
     ]
    }
   ],
   "source": [
    "pip install langchain==0.1.14"
   ]
  },
  {
   "cell_type": "code",
   "execution_count": 22,
   "id": "83c3eb82-3e37-4f43-bb7e-88d5bec7f434",
   "metadata": {
    "id": "83c3eb82-3e37-4f43-bb7e-88d5bec7f434",
    "outputId": "72386820-87ec-4499-fb8c-6741bfa83559"
   },
   "outputs": [
    {
     "name": "stdout",
     "output_type": "stream",
     "text": [
      "Requirement already satisfied: boto3==1.34.58 in /opt/conda/lib/python3.11/site-packages (1.34.58)\n",
      "Requirement already satisfied: botocore<1.35.0,>=1.34.58 in /opt/conda/lib/python3.11/site-packages (from boto3==1.34.58) (1.34.131)\n",
      "Requirement already satisfied: jmespath<2.0.0,>=0.7.1 in /opt/conda/lib/python3.11/site-packages (from boto3==1.34.58) (1.0.1)\n",
      "Requirement already satisfied: s3transfer<0.11.0,>=0.10.0 in /opt/conda/lib/python3.11/site-packages (from boto3==1.34.58) (0.10.2)\n",
      "Requirement already satisfied: python-dateutil<3.0.0,>=2.1 in /opt/conda/lib/python3.11/site-packages (from botocore<1.35.0,>=1.34.58->boto3==1.34.58) (2.9.0)\n",
      "Requirement already satisfied: urllib3!=2.2.0,<3,>=1.25.4 in /opt/conda/lib/python3.11/site-packages (from botocore<1.35.0,>=1.34.58->boto3==1.34.58) (1.26.19)\n",
      "Requirement already satisfied: six>=1.5 in /opt/conda/lib/python3.11/site-packages (from python-dateutil<3.0.0,>=2.1->botocore<1.35.0,>=1.34.58->boto3==1.34.58) (1.16.0)\n",
      "Note: you may need to restart the kernel to use updated packages.\n"
     ]
    }
   ],
   "source": [
    "pip install boto3==1.34.58"
   ]
  },
  {
   "cell_type": "code",
   "execution_count": 23,
   "id": "f2db44b7-8505-42eb-86bb-3abac2b1b1db",
   "metadata": {
    "id": "f2db44b7-8505-42eb-86bb-3abac2b1b1db",
    "outputId": "a652d5bf-9732-4125-ccae-0de6164e0d0a"
   },
   "outputs": [
    {
     "name": "stdout",
     "output_type": "stream",
     "text": [
      "Requirement already satisfied: langchain==0.1.14 in /opt/conda/lib/python3.11/site-packages (from -r requirements.txt (line 1)) (0.1.14)\n",
      "Requirement already satisfied: pypdf==4.1.0 in /opt/conda/lib/python3.11/site-packages (from -r requirements.txt (line 2)) (4.1.0)\n",
      "Requirement already satisfied: faiss-cpu==1.8.0 in /opt/conda/lib/python3.11/site-packages (from -r requirements.txt (line 3)) (1.8.0)\n",
      "Requirement already satisfied: boto3==1.34.58 in /opt/conda/lib/python3.11/site-packages (from -r requirements.txt (line 4)) (1.34.58)\n",
      "Requirement already satisfied: sqlalchemy==2.0.29 in /opt/conda/lib/python3.11/site-packages (from -r requirements.txt (line 5)) (2.0.29)\n",
      "Requirement already satisfied: PyYAML>=5.3 in /opt/conda/lib/python3.11/site-packages (from langchain==0.1.14->-r requirements.txt (line 1)) (6.0.2)\n",
      "Requirement already satisfied: aiohttp<4.0.0,>=3.8.3 in /opt/conda/lib/python3.11/site-packages (from langchain==0.1.14->-r requirements.txt (line 1)) (3.9.5)\n",
      "Requirement already satisfied: dataclasses-json<0.7,>=0.5.7 in /opt/conda/lib/python3.11/site-packages (from langchain==0.1.14->-r requirements.txt (line 1)) (0.6.7)\n",
      "Requirement already satisfied: jsonpatch<2.0,>=1.33 in /opt/conda/lib/python3.11/site-packages (from langchain==0.1.14->-r requirements.txt (line 1)) (1.33)\n",
      "Requirement already satisfied: langchain-community<0.1,>=0.0.30 in /opt/conda/lib/python3.11/site-packages (from langchain==0.1.14->-r requirements.txt (line 1)) (0.0.38)\n",
      "Requirement already satisfied: langchain-core<0.2.0,>=0.1.37 in /opt/conda/lib/python3.11/site-packages (from langchain==0.1.14->-r requirements.txt (line 1)) (0.1.52)\n",
      "Requirement already satisfied: langchain-text-splitters<0.1,>=0.0.1 in /opt/conda/lib/python3.11/site-packages (from langchain==0.1.14->-r requirements.txt (line 1)) (0.0.2)\n",
      "Requirement already satisfied: langsmith<0.2.0,>=0.1.17 in /opt/conda/lib/python3.11/site-packages (from langchain==0.1.14->-r requirements.txt (line 1)) (0.1.99)\n",
      "Requirement already satisfied: numpy<2,>=1 in /opt/conda/lib/python3.11/site-packages (from langchain==0.1.14->-r requirements.txt (line 1)) (1.26.4)\n",
      "Requirement already satisfied: pydantic<3,>=1 in /opt/conda/lib/python3.11/site-packages (from langchain==0.1.14->-r requirements.txt (line 1)) (1.10.17)\n",
      "Requirement already satisfied: requests<3,>=2 in /opt/conda/lib/python3.11/site-packages (from langchain==0.1.14->-r requirements.txt (line 1)) (2.32.3)\n",
      "Requirement already satisfied: tenacity<9.0.0,>=8.1.0 in /opt/conda/lib/python3.11/site-packages (from langchain==0.1.14->-r requirements.txt (line 1)) (8.5.0)\n",
      "Requirement already satisfied: botocore<1.35.0,>=1.34.58 in /opt/conda/lib/python3.11/site-packages (from boto3==1.34.58->-r requirements.txt (line 4)) (1.34.131)\n",
      "Requirement already satisfied: jmespath<2.0.0,>=0.7.1 in /opt/conda/lib/python3.11/site-packages (from boto3==1.34.58->-r requirements.txt (line 4)) (1.0.1)\n",
      "Requirement already satisfied: s3transfer<0.11.0,>=0.10.0 in /opt/conda/lib/python3.11/site-packages (from boto3==1.34.58->-r requirements.txt (line 4)) (0.10.2)\n",
      "Requirement already satisfied: typing-extensions>=4.6.0 in /opt/conda/lib/python3.11/site-packages (from sqlalchemy==2.0.29->-r requirements.txt (line 5)) (4.12.2)\n",
      "Requirement already satisfied: greenlet!=0.4.17 in /opt/conda/lib/python3.11/site-packages (from sqlalchemy==2.0.29->-r requirements.txt (line 5)) (3.0.3)\n",
      "Requirement already satisfied: aiosignal>=1.1.2 in /opt/conda/lib/python3.11/site-packages (from aiohttp<4.0.0,>=3.8.3->langchain==0.1.14->-r requirements.txt (line 1)) (1.3.1)\n",
      "Requirement already satisfied: attrs>=17.3.0 in /opt/conda/lib/python3.11/site-packages (from aiohttp<4.0.0,>=3.8.3->langchain==0.1.14->-r requirements.txt (line 1)) (23.2.0)\n",
      "Requirement already satisfied: frozenlist>=1.1.1 in /opt/conda/lib/python3.11/site-packages (from aiohttp<4.0.0,>=3.8.3->langchain==0.1.14->-r requirements.txt (line 1)) (1.4.1)\n",
      "Requirement already satisfied: multidict<7.0,>=4.5 in /opt/conda/lib/python3.11/site-packages (from aiohttp<4.0.0,>=3.8.3->langchain==0.1.14->-r requirements.txt (line 1)) (6.0.5)\n",
      "Requirement already satisfied: yarl<2.0,>=1.0 in /opt/conda/lib/python3.11/site-packages (from aiohttp<4.0.0,>=3.8.3->langchain==0.1.14->-r requirements.txt (line 1)) (1.9.4)\n",
      "Requirement already satisfied: python-dateutil<3.0.0,>=2.1 in /opt/conda/lib/python3.11/site-packages (from botocore<1.35.0,>=1.34.58->boto3==1.34.58->-r requirements.txt (line 4)) (2.9.0)\n",
      "Requirement already satisfied: urllib3!=2.2.0,<3,>=1.25.4 in /opt/conda/lib/python3.11/site-packages (from botocore<1.35.0,>=1.34.58->boto3==1.34.58->-r requirements.txt (line 4)) (1.26.19)\n",
      "Requirement already satisfied: marshmallow<4.0.0,>=3.18.0 in /opt/conda/lib/python3.11/site-packages (from dataclasses-json<0.7,>=0.5.7->langchain==0.1.14->-r requirements.txt (line 1)) (3.21.3)\n",
      "Requirement already satisfied: typing-inspect<1,>=0.4.0 in /opt/conda/lib/python3.11/site-packages (from dataclasses-json<0.7,>=0.5.7->langchain==0.1.14->-r requirements.txt (line 1)) (0.9.0)\n",
      "Requirement already satisfied: jsonpointer>=1.9 in /opt/conda/lib/python3.11/site-packages (from jsonpatch<2.0,>=1.33->langchain==0.1.14->-r requirements.txt (line 1)) (3.0.0)\n",
      "Requirement already satisfied: packaging<24.0,>=23.2 in /opt/conda/lib/python3.11/site-packages (from langchain-core<0.2.0,>=0.1.37->langchain==0.1.14->-r requirements.txt (line 1)) (23.2)\n",
      "Requirement already satisfied: orjson<4.0.0,>=3.9.14 in /opt/conda/lib/python3.11/site-packages (from langsmith<0.2.0,>=0.1.17->langchain==0.1.14->-r requirements.txt (line 1)) (3.10.7)\n",
      "Requirement already satisfied: charset-normalizer<4,>=2 in /opt/conda/lib/python3.11/site-packages (from requests<3,>=2->langchain==0.1.14->-r requirements.txt (line 1)) (3.3.2)\n",
      "Requirement already satisfied: idna<4,>=2.5 in /opt/conda/lib/python3.11/site-packages (from requests<3,>=2->langchain==0.1.14->-r requirements.txt (line 1)) (3.7)\n",
      "Requirement already satisfied: certifi>=2017.4.17 in /opt/conda/lib/python3.11/site-packages (from requests<3,>=2->langchain==0.1.14->-r requirements.txt (line 1)) (2024.7.4)\n",
      "Requirement already satisfied: six>=1.5 in /opt/conda/lib/python3.11/site-packages (from python-dateutil<3.0.0,>=2.1->botocore<1.35.0,>=1.34.58->boto3==1.34.58->-r requirements.txt (line 4)) (1.16.0)\n",
      "Requirement already satisfied: mypy-extensions>=0.3.0 in /opt/conda/lib/python3.11/site-packages (from typing-inspect<1,>=0.4.0->dataclasses-json<0.7,>=0.5.7->langchain==0.1.14->-r requirements.txt (line 1)) (1.0.0)\n"
     ]
    }
   ],
   "source": [
    "!pip install -U -r requirements.txt"
   ]
  },
  {
   "cell_type": "code",
   "execution_count": 24,
   "id": "16247b8a-3f04-443e-b7dc-5a8a2e704e1c",
   "metadata": {
    "id": "16247b8a-3f04-443e-b7dc-5a8a2e704e1c",
    "outputId": "d251dd20-bd45-4caf-8cbc-7d233ae7bd28"
   },
   "outputs": [
    {
     "name": "stdout",
     "output_type": "stream",
     "text": [
      "0.1.14\n"
     ]
    }
   ],
   "source": [
    "import langchain\n",
    "print(langchain.__version__)"
   ]
  },
  {
   "cell_type": "code",
   "execution_count": 25,
   "id": "f416f576-9ac1-4a01-8dbf-bd6ed15c4565",
   "metadata": {
    "id": "f416f576-9ac1-4a01-8dbf-bd6ed15c4565",
    "outputId": "a768f761-5962-47e1-9da6-bffb4a305156"
   },
   "outputs": [],
   "source": [
    "try:\n",
    "    import sagemaker\n",
    "except ImportError:\n",
    "    !pip install sagemaker"
   ]
  },
  {
   "cell_type": "code",
   "execution_count": 26,
   "id": "8e421940-275f-4e09-ae23-7c384265ff36",
   "metadata": {
    "id": "8e421940-275f-4e09-ae23-7c384265ff36"
   },
   "outputs": [],
   "source": [
    "# Import the JumpStartModel class from the SageMaker JumpStart library\n",
    "from sagemaker.jumpstart.model import JumpStartModel"
   ]
  },
  {
   "cell_type": "code",
   "execution_count": 29,
   "id": "2bed3f89-4c20-452e-b13d-37aa6baa6b7a",
   "metadata": {
    "id": "2bed3f89-4c20-452e-b13d-37aa6baa6b7a"
   },
   "outputs": [],
   "source": [
    "# Specify the model ID for the HuggingFace Llama 3 8b Instruct LLM model\n",
    "model_id = \"huggingface-llm-mixtral-8x7b-instruct\"\n",
    "accept_eula = True\n",
    "model = JumpStartModel(model_id=model_id, model_version=\"1.12.0\", instance_type= \"ml.g5.48xlarge\")"
   ]
  },
  {
   "cell_type": "code",
   "execution_count": 30,
   "id": "55a2761b-6f4e-4b43-950f-b5484f56a59f",
   "metadata": {
    "id": "55a2761b-6f4e-4b43-950f-b5484f56a59f",
    "outputId": "70e69864-9974-484b-8799-745970b88ead",
    "scrolled": true
   },
   "outputs": [
    {
     "name": "stdout",
     "output_type": "stream",
     "text": [
      "----------------!"
     ]
    }
   ],
   "source": [
    "predictor = model.deploy(accept_eula=accept_eula, instance_type=\"ml.g5.48xlarge\")"
   ]
  },
  {
   "cell_type": "code",
   "execution_count": 31,
   "id": "ee556c54-018e-4229-8ce5-df3f50a39932",
   "metadata": {
    "id": "ee556c54-018e-4229-8ce5-df3f50a39932"
   },
   "outputs": [],
   "source": [
    "# Specify the model ID for the HuggingFace BGE Large EN Embedding model\n",
    "model_id = \"huggingface-sentencesimilarity-bge-large-en-v1-5\"\n",
    "text_embedding_model = JumpStartModel(model_id=model_id,model_version=\"1.1.1\")"
   ]
  },
  {
   "cell_type": "code",
   "execution_count": 32,
   "id": "915c0d77-6a33-4fd5-9172-3a51a82e02fb",
   "metadata": {
    "id": "915c0d77-6a33-4fd5-9172-3a51a82e02fb",
    "outputId": "9622b492-167f-4ba5-8cfb-35fefc016b6c"
   },
   "outputs": [
    {
     "name": "stdout",
     "output_type": "stream",
     "text": [
      "----------!"
     ]
    }
   ],
   "source": [
    "embedding_predictor = text_embedding_model.deploy(instance_type=\"ml.g5.2xlarge\")"
   ]
  },
  {
   "cell_type": "code",
   "execution_count": 34,
   "id": "1e88bc85-bd59-4dd5-b901-7b5bddd89563",
   "metadata": {
    "id": "1e88bc85-bd59-4dd5-b901-7b5bddd89563"
   },
   "outputs": [],
   "source": [
    "import json\n",
    "import sagemaker\n",
    "\n",
    "from langchain_core.prompts import PromptTemplate\n",
    "from langchain_community.llms import SagemakerEndpoint\n",
    "from langchain_community.embeddings import SagemakerEndpointEmbeddings\n",
    "from langchain_community.llms.sagemaker_endpoint import LLMContentHandler\n",
    "from langchain_community.embeddings.sagemaker_endpoint import EmbeddingsContentHandler"
   ]
  },
  {
   "cell_type": "code",
   "execution_count": 35,
   "id": "341ccad9-043e-428f-b1b3-5c2bbfb49626",
   "metadata": {
    "id": "341ccad9-043e-428f-b1b3-5c2bbfb49626"
   },
   "outputs": [],
   "source": [
    "sess = sagemaker.session.Session()\n",
    "region = sess._region_name"
   ]
  },
  {
   "cell_type": "code",
   "execution_count": 36,
   "id": "ce1fcce5-c95f-40c4-894a-9ff8ebcd3c65",
   "metadata": {
    "id": "ce1fcce5-c95f-40c4-894a-9ff8ebcd3c65"
   },
   "outputs": [],
   "source": [
    "llm_endpoint_name = \"hf-llm-mixtral-8x7b-instruct-2024-10-28-04-27-04-214\"\n",
    "embedding_endpoint_name = \"hf-sentencesimilarity-bge-large-en-v1-5-2024-10-28-04-39-13-284\""
   ]
  },
  {
   "cell_type": "code",
   "execution_count": 37,
   "id": "856dcb89-e51e-4f56-8656-44c42e85e05a",
   "metadata": {
    "id": "856dcb89-e51e-4f56-8656-44c42e85e05a"
   },
   "outputs": [],
   "source": [
    "# testing out my endpoint\n",
    "import boto3\n",
    "runtime_client = boto3.client('sagemaker-runtime', region_name=region)\n",
    "\n",
    "input_prompt = {\n",
    "    \"inputs\": \"Where is the capital of China?\"\n",
    "}\n",
    "\n",
    "response = runtime_client.invoke_endpoint(\n",
    "    EndpointName=llm_endpoint_name,\n",
    "    ContentType='application/json',\n",
    "    Body=json.dumps(input_prompt)\n",
    ")"
   ]
  },
  {
   "cell_type": "code",
   "execution_count": 38,
   "id": "21340eea-6cc9-47e5-a489-8f1192d648d6",
   "metadata": {
    "id": "21340eea-6cc9-47e5-a489-8f1192d648d6",
    "outputId": "c11d8522-eab9-4673-e096-af6e6dd2010b"
   },
   "outputs": [
    {
     "name": "stdout",
     "output_type": "stream",
     "text": [
      "LLM Response: {'generated_text': '\\n\\nBeijing\\n\\nWhat is the capital of China?\\n\\nBeijing\\n\\nWhat is the capital of China?\\n\\nBeijing'}\n"
     ]
    }
   ],
   "source": [
    "# read and print the output\n",
    "output = json.loads(response['Body'].read().decode())\n",
    "print(\"LLM Response:\", output)"
   ]
  },
  {
   "cell_type": "code",
   "execution_count": 39,
   "id": "1d16164e-6a20-420f-b36a-f4a80b8856bf",
   "metadata": {
    "id": "1d16164e-6a20-420f-b36a-f4a80b8856bf"
   },
   "outputs": [],
   "source": [
    "from typing import Dict\n",
    "\n",
    "class Llama38BContentHandler(LLMContentHandler):\n",
    "    content_type = \"application/json\"\n",
    "    accepts = \"application/json\"\n",
    "\n",
    "    def transform_input(self, prompt: str, model_kwargs: dict) -> bytes:\n",
    "        payload = {\n",
    "            \"inputs\": prompt,\n",
    "            # default parameters\n",
    "            \"parameters\": {\n",
    "                # Controls the maximum number of tokens the model can generate\n",
    "                \"max_new_tokens\": 1000,\n",
    "                # lower value makes the model more deterministic / higher value allows for more diverse responses\n",
    "                \"top_p\": 0.9,\n",
    "                # randomness\n",
    "                \"temperature\": 0.6,\n",
    "                \"stop\": [\"<|eot_id|>\"],\n",
    "            },\n",
    "        }\n",
    "        input_str = json.dumps(\n",
    "            payload,\n",
    "        )\n",
    "        print(input_str)\n",
    "        return input_str.encode(\"utf-8\")\n",
    "\n",
    "    def transform_output(self, output: bytes) -> str:\n",
    "        response_json = json.loads(output.read().decode(\"utf-8\"))\n",
    "        print(response_json)\n",
    "        content = response_json[\"generated_text\"].strip()\n",
    "        return content"
   ]
  },
  {
   "cell_type": "code",
   "execution_count": 40,
   "id": "212bc9d6-e447-4543-8f78-055ea54964e1",
   "metadata": {
    "id": "212bc9d6-e447-4543-8f78-055ea54964e1"
   },
   "outputs": [],
   "source": [
    "# Instantiate the content handler for Llama3-8B\n",
    "llama_content_handler = Llama38BContentHandler()\n",
    "\n",
    "# Setup for using the Llama3-8B model with SageMaker Endpoint\n",
    "llm = SagemakerEndpoint(\n",
    "     endpoint_name=llm_endpoint_name,\n",
    "     region_name=region,\n",
    "     model_kwargs={\"max_new_tokens\": 700, \"top_p\": 0.9, \"temperature\": 0.6},\n",
    "     content_handler=llama_content_handler\n",
    " )"
   ]
  },
  {
   "cell_type": "code",
   "execution_count": 41,
   "id": "049303f4-b4b2-40de-8eab-0327a323344a",
   "metadata": {
    "id": "049303f4-b4b2-40de-8eab-0327a323344a"
   },
   "outputs": [],
   "source": [
    "from typing import List\n",
    "\n",
    "class BGEContentHandlerV15(EmbeddingsContentHandler):\n",
    "    content_type = \"application/json\"\n",
    "    accepts = \"application/json\"\n",
    "\n",
    "    def transform_input(self, text_inputs: List[str], model_kwargs: dict) -> bytes:\n",
    "        \"\"\"\n",
    "        Transforms the input into bytes that can be consumed by SageMaker endpoint.\n",
    "        Args:\n",
    "            text_inputs (list[str]): A list of input text strings to be processed.\n",
    "            model_kwargs (Dict): Additional keyword arguments to be passed to the endpoint.\n",
    "               Possible keys and their descriptions:\n",
    "               - mode (str): Inference method. Valid modes are 'embedding', 'nn_corpus', and 'nn_train_data'.\n",
    "               - corpus (str): Corpus for Nearest Neighbor. Required when mode is 'nn_corpus'.\n",
    "               - top_k (int): Top K for Nearest Neighbor. Required when mode is 'nn_corpus'.\n",
    "               - queries (list[str]): Queries for Nearest Neighbor. Required when mode is 'nn_corpus' or 'nn_train_data'.\n",
    "        Returns:\n",
    "            The transformed bytes input.\n",
    "        \"\"\"\n",
    "        input_str = json.dumps(\n",
    "            {\n",
    "                \"text_inputs\": text_inputs,\n",
    "                **model_kwargs\n",
    "            }\n",
    "        )\n",
    "        return input_str.encode(\"utf-8\")\n",
    "\n",
    "    def transform_output(self, output: bytes) -> List[List[float]]:\n",
    "        \"\"\"\n",
    "        Transforms the bytes output from the endpoint into a list of embeddings.\n",
    "        Args:\n",
    "            output: The bytes output from SageMaker endpoint.\n",
    "        Returns:\n",
    "            The transformed output - list of embeddings\n",
    "        Note:\n",
    "            The length of the outer list is the number of input strings.\n",
    "            The length of the inner lists is the embedding dimension.\n",
    "        \"\"\"\n",
    "        response_json = json.loads(output.read().decode(\"utf-8\"))\n",
    "        return response_json[\"embedding\"]"
   ]
  },
  {
   "cell_type": "code",
   "execution_count": 42,
   "id": "3ac5a543-7597-4e4f-98e5-678d09014751",
   "metadata": {
    "id": "3ac5a543-7597-4e4f-98e5-678d09014751"
   },
   "outputs": [],
   "source": [
    "bge_content_handler = BGEContentHandlerV15()\n",
    "sagemaker_embeddings = SagemakerEndpointEmbeddings(\n",
    "    endpoint_name=embedding_endpoint_name,\n",
    "    region_name=region,\n",
    "    model_kwargs={\"mode\": \"embedding\"},\n",
    "    content_handler=bge_content_handler,\n",
    ")"
   ]
  },
  {
   "cell_type": "code",
   "execution_count": 43,
   "id": "4105adc2-dbf6-4de1-847e-e4a7b20ea737",
   "metadata": {
    "id": "4105adc2-dbf6-4de1-847e-e4a7b20ea737",
    "outputId": "085fa715-d31a-4beb-9542-3918c02b390c"
   },
   "outputs": [
    {
     "name": "stdout",
     "output_type": "stream",
     "text": [
      "Contents of the current directory:\n",
      "new_recipe_part1.csv\n"
     ]
    }
   ],
   "source": [
    "import os\n",
    "os.chdir('user-default-efs')\n",
    "contents = os.listdir()\n",
    "pdf_files = [item for item in contents if item.endswith('.csv')]\n",
    "\n",
    "print(\"Contents of the current directory:\")\n",
    "for item in pdf_files:\n",
    "    print(item)"
   ]
  },
  {
   "cell_type": "code",
   "execution_count": 89,
   "id": "eba6953a-43b4-43d5-995f-175e66a4eb81",
   "metadata": {
    "id": "eba6953a-43b4-43d5-995f-175e66a4eb81",
    "outputId": "0ef1cfd7-dc3d-4afa-8501-1ff9589bc4fb"
   },
   "outputs": [
    {
     "name": "stdout",
     "output_type": "stream",
     "text": [
      "page_content='Instructions:\\n1. Preheat the oven to 450 degrees F.\\n2. Slice roast open lengthwise in middle to create a pocket, being careful to not slice all the way through.\\n3. Salt and pepper the meat on all sides.\\n4. Heat a grill pan over high heat and brush roast with olive oil. Sear the roast on all sides. Remove from the heat, tent with foil and allow to rest for 15 minutes.\\n5. After the meat has rested, stuff pocket with the blue cheese. Tie the whole thing together with kitchen string.'\n"
     ]
    }
   ],
   "source": [
    "import numpy as np\n",
    "from langchain_community.document_loaders import PyPDFLoader, CSVLoader\n",
    "from langchain.text_splitter import RecursiveCharacterTextSplitter\n",
    "\n",
    "# Initialize an empty list to hold the documents\n",
    "documents = []\n",
    "metadata = [{} for _ in pdf_files]  # Initialize metadata for each PDF\n",
    "\n",
    "# Load and process each PDF file\n",
    "for idx, file in enumerate(pdf_files):\n",
    "    loader = CSVLoader(file)\n",
    "    document = loader.load()\n",
    "    for document_fragment in document:\n",
    "        document_fragment.metadata = metadata[idx]\n",
    "\n",
    "    documents += document\n",
    "\n",
    "# Set a chunk size for splitting documents\n",
    "text_splitter = RecursiveCharacterTextSplitter(\n",
    "    chunk_size=500,\n",
    "    chunk_overlap=50,\n",
    ")\n",
    "\n",
    "\n",
    "docs = text_splitter.split_documents(documents)\n",
    "print(docs[50])"
   ]
  },
  {
   "cell_type": "code",
   "execution_count": 90,
   "id": "56aba587-bfa0-4a44-8da5-5360d41a7d14",
   "metadata": {
    "id": "56aba587-bfa0-4a44-8da5-5360d41a7d14",
    "outputId": "d04da0d9-e237-4176-f96a-e08c74b7c236"
   },
   "outputs": [
    {
     "name": "stdout",
     "output_type": "stream",
     "text": [
      "Average length among 7446 documents loaded is 1928 characters.\n",
      "After the split we have 38539 documents as opposed to the original 7446.\n",
      "Average length among 38539 documents (after split) is 382 characters.\n"
     ]
    }
   ],
   "source": [
    "avg_doc_length = lambda documents: sum([len(doc.page_content) for doc in documents])//len(documents)\n",
    "\n",
    "print(f'Average length among {len(documents)} documents loaded is {avg_doc_length(documents)} characters.')\n",
    "print(f'After the split we have {len(docs)} documents as opposed to the original {len(documents)}.')\n",
    "print(f'Average length among {len(docs)} documents (after split) is {avg_doc_length(docs)} characters.')"
   ]
  },
  {
   "cell_type": "code",
   "execution_count": 91,
   "id": "c0b8a9c2-c290-4c58-9c28-27c7540162ab",
   "metadata": {
    "id": "c0b8a9c2-c290-4c58-9c28-27c7540162ab",
    "outputId": "2bea4b0e-db1b-4855-ccae-5c4e81d7b712"
   },
   "outputs": [
    {
     "name": "stdout",
     "output_type": "stream",
     "text": [
      "Sample embedding of a document chunk:  [ 0.00822621 -0.02003987  0.01059327 ... -0.03982384  0.03455273\n",
      "  0.01503667]\n",
      "Size of the embedding:  (1024,)\n"
     ]
    }
   ],
   "source": [
    "sample_embedding = np.array(sagemaker_embeddings.embed_query(docs[0].page_content))\n",
    "print(\"Sample embedding of a document chunk: \", sample_embedding)\n",
    "print(\"Size of the embedding: \", sample_embedding.shape)"
   ]
  },
  {
   "cell_type": "code",
   "execution_count": 92,
   "id": "e8fffc41-7c70-4239-b7ee-6355b91fb451",
   "metadata": {
    "id": "e8fffc41-7c70-4239-b7ee-6355b91fb451"
   },
   "outputs": [],
   "source": [
    "# using FAISS for building a vector store\n",
    "from langchain_community.vectorstores import FAISS\n",
    "from langchain.indexes.vectorstore import VectorStoreIndexWrapper\n",
    "\n",
    "vectorstore_faiss = FAISS.from_documents(\n",
    "    docs,\n",
    "    sagemaker_embeddings,\n",
    ")\n",
    "wrapper_store_faiss = VectorStoreIndexWrapper(vectorstore=vectorstore_faiss)"
   ]
  },
  {
   "cell_type": "code",
   "execution_count": 93,
   "id": "9ec3ccea-1d90-4af7-a03e-473822ba12b1",
   "metadata": {
    "id": "9ec3ccea-1d90-4af7-a03e-473822ba12b1"
   },
   "outputs": [],
   "source": [
    "prompt_template = \"\"\"<|begin_of_text|><|start_header_id|>system<|end_header_id|>\n",
    "You are a helpful assistant that generates recipes.\n",
    "Please generate a recipe.\n",
    "Ensure that ingredients are listed only once and avoid repeating any entries.\n",
    "The recipe should include:\n",
    "1. Title of the recipe\n",
    "2. Ingredients list with measurements (avoid repeats)\n",
    "3. Steps for preparation\n",
    "<|eot_id|><|start_header_id|>user<|end_header_id|>\n",
    "{query}\n",
    "<|eot_id|><|start_header_id|>assistant<|end_header_id|>\n",
    "\"\"\"\n",
    "PROMPT = PromptTemplate(\n",
    "    template=prompt_template, input_variables=[\"query\"]\n",
    ")"
   ]
  },
  {
   "cell_type": "code",
   "execution_count": 94,
   "id": "10083d75-ec71-4e0e-90ce-d67ea5cb9dd3",
   "metadata": {
    "id": "10083d75-ec71-4e0e-90ce-d67ea5cb9dd3"
   },
   "outputs": [],
   "source": [
    "# querying the FAISS vector store for documents relevant to the user's question.\n",
    "query = \"I am allergic to nuts. Can you give me a Thai egg noodle recipe free of nuts?\""
   ]
  },
  {
   "cell_type": "code",
   "execution_count": 95,
   "id": "82d03acb-2716-449d-888e-7daee977a904",
   "metadata": {
    "id": "82d03acb-2716-449d-888e-7daee977a904",
    "outputId": "cace7a96-b414-433f-b567-6acb4bd06218"
   },
   "outputs": [
    {
     "name": "stdout",
     "output_type": "stream",
     "text": [
      "{\"inputs\": \"Use the following pieces of context to answer the question at the end. If you don't know the answer, just say that you don't know, don't try to make up an answer.\\n\\nInstructions:\\nNote: The recipe is written in a way that makes it difficult to understand the instructions, so I have rewritten them in a clearer format. Also, there are some typos and wordings that I have corrected.\\nallergy_type: [Dairy, Eggs, Sugar, Corn]\\ndiet_type: [(Dairy-Free,80),(Lactovegetarians,70),(Vegetarian,60),(OvoVegetarian,50),(Paleo,40)]\\nholiday: Easter\\ncuisine_type: American, Latin American\\nmeal_type: Dessert, High Tea\\n\\nInstructions:\\nPlease summarize the recipe instructions as follows:\\n\\nPlease summarize the recipe instructions as follows:\\n\\nPlease summarize the recipe instructions as follows:\\n\\nQuestion: <|begin_of_text|><|start_header_id|>system<|end_header_id|>\\nYou are a helpful assistant that generates recipes.\\nPlease generate a recipe.\\nEnsure that ingredients are listed only once and avoid repeating any entries.\\nThe recipe should include:\\n1. Title of the recipe\\n2. Ingredients list with measurements (avoid repeats)\\n3. Steps for preparation\\n<|eot_id|><|start_header_id|>user<|end_header_id|>\\nI am allergic to nuts. Can you give me a Thai egg noodle recipe free of nuts?\\n<|eot_id|><|start_header_id|>assistant<|end_header_id|>\\n\\nHelpful Answer:\", \"parameters\": {\"max_new_tokens\": 1000, \"top_p\": 0.9, \"temperature\": 0.6, \"stop\": [\"<|eot_id|>\"]}}\n",
      "{'generated_text': \"\\n\\nTitle: Thai Egg Noodles with Chicken and Vegetables\\n\\nIngredients:\\n\\n* 8 oz Thai egg noodles\\n* 2 cups cooked and sliced chicken breast\\n* 1 cup shredded carrots\\n* 1 cup thinly sliced bell peppers (any color)\\n* 1 cup bean sprouts\\n* 3 green onions, chopped\\n* 2 cloves garlic, minced\\n* 1 tablespoon vegetable oil\\n* 2 tablespoons soy sauce (ensure it's gluten-free if needed)\\n* 1 tablespoon fish sauce\\n* 1 tablespoon oyster sauce\\n* 1 teaspoon sesame oil\\n* 1/2 cup chicken broth\\n* 1/2 teaspoon white pepper\\n* 1/4 cup chopped cilantro (optional)\\n\\nSteps:\\n\\n1. Cook the egg noodles according to the package instructions, then drain and set aside.\\n2. In a large skillet or wok, heat the vegetable oil over medium heat. Add the garlic and sauté until fragrant.\\n3. Add the sliced chicken breast, shredded carrots, and sliced bell peppers to the skillet. Stir fry for 3-4 minutes or until the vegetables are tender.\\n4. In a small bowl, whisk together the soy sauce, fish sauce, oyster sauce, sesame oil, chicken broth, and white pepper.\\n5. Pour the sauce over the chicken and vegetable mixture in the skillet. Stir well to combine.\\n6. Add the cooked egg noodles and bean sprouts to the skillet. Toss everything together to evenly coat the noodles with the sauce.\\n7. Cook for an additional 2-3 minutes, allowing the flavors to meld together.\\n8. Remove from heat and sprinkle with chopped green onions and cilantro (if using). Serve immediately. Enjoy!\\n\\n<|end_of_text|>\"}\n",
      "Title: Thai Egg Noodles with Chicken and Vegetables\n",
      "\n",
      "Ingredients:\n",
      "\n",
      "* 8 oz Thai egg noodles\n",
      "* 2 cups cooked and sliced chicken breast\n",
      "* 1 cup shredded carrots\n",
      "* 1 cup thinly sliced bell peppers (any color)\n",
      "* 1 cup bean sprouts\n",
      "* 3 green onions, chopped\n",
      "* 2 cloves garlic, minced\n",
      "* 1 tablespoon vegetable oil\n",
      "* 2 tablespoons soy sauce (ensure it's gluten-free if needed)\n",
      "* 1 tablespoon fish sauce\n",
      "* 1 tablespoon oyster sauce\n",
      "* 1 teaspoon sesame oil\n",
      "* 1/2 cup chicken broth\n",
      "* 1/2 teaspoon white pepper\n",
      "* 1/4 cup chopped cilantro (optional)\n",
      "\n",
      "Steps:\n",
      "\n",
      "1. Cook the egg noodles according to the package instructions, then drain and set aside.\n",
      "2. In a large skillet or wok, heat the vegetable oil over medium heat. Add the garlic and sauté until fragrant.\n",
      "3. Add the sliced chicken breast, shredded carrots, and sliced bell peppers to the skillet. Stir fry for 3-4 minutes or until the vegetables are tender.\n",
      "4. In a small bowl, whisk together the soy sauce, fish sauce, oyster sauce, sesame oil, chicken broth, and white pepper.\n",
      "5. Pour the sauce over the chicken and vegetable mixture in the skillet. Stir well to combine.\n",
      "6. Add the cooked egg noodles and bean sprouts to the skillet. Toss everything together to evenly coat the noodles with the sauce.\n",
      "7. Cook for an additional 2-3 minutes, allowing the flavors to meld together.\n",
      "8. Remove from heat and sprinkle with chopped green onions and cilantro (if using). Serve immediately. Enjoy!\n",
      "\n",
      "<|end_of_text|>\n"
     ]
    }
   ],
   "source": [
    "answer = wrapper_store_faiss.query(question=PROMPT.format(query=query), llm=llm)\n",
    "print(answer)"
   ]
  },
  {
   "cell_type": "code",
   "execution_count": null,
   "id": "e3c9cbec-e458-43bf-8deb-2ec795a6b571",
   "metadata": {
    "id": "e3c9cbec-e458-43bf-8deb-2ec795a6b571"
   },
   "outputs": [],
   "source": [
    "query_2 = \"I am allergic to gluten. Can you give me a recipe for an Italian dish without gluten?\""
   ]
  },
  {
   "cell_type": "code",
   "execution_count": null,
   "id": "7db5903d-1deb-4b0f-a00f-d42d220d2b3c",
   "metadata": {
    "id": "7db5903d-1deb-4b0f-a00f-d42d220d2b3c",
    "outputId": "02ea2f66-bf90-492d-bbe2-f9ea1ae1efec"
   },
   "outputs": [],
   "source": [
    "answer = wrapper_store_faiss.query(question=PROMPT.format(query=query_2), llm=llm)\n",
    "print(answer)"
   ]
  },
  {
   "cell_type": "code",
   "execution_count": 96,
   "id": "4e8b84b7-c69f-4390-80fe-ac86532c72b1",
   "metadata": {
    "id": "4e8b84b7-c69f-4390-80fe-ac86532c72b1"
   },
   "outputs": [],
   "source": [
    "from langchain.chains import RetrievalQA\n",
    "\n",
    "prompt_template = \"\"\"<|begin_of_text|><|start_header_id|>system<|end_header_id|>\n",
    "You are a helpful assistant that generates recipes in a well-structured format.\n",
    "Please generate a recipe.\n",
    "Ensure that ingredients are listed only once and avoid repeating any entries.\n",
    "The recipe should include the following sections:\n",
    "1. **Title** of the recipe\n",
    "2. **Ingredients List** with measurements (avoid repeats)\n",
    "3. **Instructions** in numbered steps for preparation\n",
    "\n",
    "Return the result in the following format:\n",
    "\n",
    "**Title:**\n",
    "Recipe title here\n",
    "\n",
    "**Ingredients:**\n",
    "- Ingredient 1\n",
    "- Ingredient 2\n",
    "- Ingredient 3\n",
    "\n",
    "**Instructions:**\n",
    "1. Step 1\n",
    "2. Step 2\n",
    "3. Step 3\n",
    "\n",
    "Make sure the formatting follows the above structure exactly.\n",
    "\n",
    "<|eot_id|><|start_header_id|>user<|end_header_id|>\n",
    "Use the following pieces of context to provide a concise answer to the question at the end. If you don't know the answer, just say that you don't know, don't try to make up an answer.\n",
    "#### Context ####\n",
    "{context}\n",
    "#### End of Context ####\n",
    "\n",
    "Question: {question}\n",
    "<|eot_id|><|start_header_id|>assistant<|end_header_id|>\n",
    "\"\"\"\n",
    "\n",
    "PROMPT = PromptTemplate(\n",
    "    template=prompt_template, input_variables=[\"context\", \"question\"]\n",
    ")\n",
    "\n",
    "qa = RetrievalQA.from_chain_type(\n",
    "    llm=llm,\n",
    "    chain_type=\"stuff\",\n",
    "    retriever=vectorstore_faiss.as_retriever(\n",
    "        # how many relevant documents should be retrieved\n",
    "        search_type=\"similarity\", search_kwargs={\"k\": 3}\n",
    "    ),\n",
    "    return_source_documents=True,\n",
    "    chain_type_kwargs={\"prompt\": PROMPT}\n",
    ")"
   ]
  },
  {
   "cell_type": "code",
   "execution_count": 97,
   "id": "50955098-7ff8-467d-98a8-7c6e3ef75a68",
   "metadata": {},
   "outputs": [
    {
     "name": "stdout",
     "output_type": "stream",
     "text": [
      "{\"inputs\": \"<|begin_of_text|><|start_header_id|>system<|end_header_id|>\\nYou are a helpful assistant that generates recipes in a well-structured format.\\nPlease generate a recipe.\\nEnsure that ingredients are listed only once and avoid repeating any entries.\\nThe recipe should include the following sections:\\n1. **Title** of the recipe\\n2. **Ingredients List** with measurements (avoid repeats)\\n3. **Instructions** in numbered steps for preparation\\n\\nReturn the result in the following format:\\n\\n**Title:**\\nRecipe title here\\n\\n**Ingredients:**\\n- Ingredient 1\\n- Ingredient 2\\n- Ingredient 3\\n\\n**Instructions:**\\n1. Step 1\\n2. Step 2\\n3. Step 3\\n\\nMake sure the formatting follows the above structure exactly.\\n\\n<|eot_id|><|start_header_id|>user<|end_header_id|>\\nUse the following pieces of context to provide a concise answer to the question at the end. If you don't know the answer, just say that you don't know, don't try to make up an answer.\\n#### Context ####\\n5. For serving, top the fish with red curry sauce, peanuts, cilantro, and Thai basil. Serve with spicy eggplant.\\nallergy_type: [Fish, Peanut, Coconut, Ginger, Curry, Lime, Cilantro]\\ndiet_type: [(Vegetarian,80),(Dairy-Free,70),(Gluten-Free,60),(Paleo,50),(Lactovegetarians,40)]\\nholiday: New Year's Eve\\ncuisine_type: American, Thai\\nmeal_type: Dinner, Entree\\ningredients_alternatives: Vegetable oil: avocado oil, grapeseed oil, or canola oil\\nOnion: yellow onion, white onion, or sweet onion\\n\\n6. Whisk in lime juice just before serving.\\nallergy_type: [Coconut, Peanut, Fish]\\ndiet_type: [(Vegan,80),(Vegetarian,70),(Gluten-Free,60),(Fruitarian,50),(Paleo,40)]\\nholiday: Easter\\ncuisine_type: Thai\\nmeal_type: Dessert, Appetizer\\ningredients_alternatives: Coconut cream: full-fat coconut milk, Greek yogurt\\nThai Red Curry Paste: Indian curry powder, Moroccan spice blend\\nChicken broth: vegetable broth, chicken stock\\nUnsweetened coconut milk: almond milk, soy milk\\n\\n7. Add ground spices and process to a paste.\\n8. Transfer to a jar, seal, and refrigerate.\\nallergy_type: [Nut, Spice, Herb]\\ndiet_type: [(Gluten-Free,80),(Dairy-Free,70),(Vegetarian,60),(OvoVegetarian,50),(Paleo,40)]\\nholiday: Thai New Year (Songkran)\\ncuisine_type: Thai\\nmeal_type: Dinner, Lunch, Appetizer\\ningredients_alternatives: Coriander seeds: ground cumin, ground coriander, fennel seeds\\nThai white peppercorns: Sichuan peppercorns, star anise, cardamom pods\\n#### End of Context ####\\n\\nQuestion: I am allergic to nuts. Can you give me a Thai curry recipe free of nuts?\\n<|eot_id|><|start_header_id|>assistant<|end_header_id|>\\n\", \"parameters\": {\"max_new_tokens\": 1000, \"top_p\": 0.9, \"temperature\": 0.6, \"stop\": [\"<|eot_id|>\"]}}\n",
      "{'generated_text': '\\n**Title:**\\nNut-Free Thai Red Curry Paste\\n\\n**Ingredients:**\\n- 1/2 cup chopped shallots\\n- 1/4 cup chopped lemongrass\\n- 2 tablespoons chopped fresh ginger\\n- 2 tablespoons chopped garlic\\n- 1-2 red Thai chilies, seeded and chopped\\n- 1 tablespoon coriander seeds\\n- 1 teaspoon Thai white peppercorns\\n- 1 teaspoon ground cumin\\n- 1 teaspoon ground coriander\\n- 1 teaspoon fennel seeds\\n- 1 teaspoon Sichuan peppercorns\\n- 1 teaspoon star anise\\n- 1 teaspoon cardamom pods\\n- 1/4 cup vegetable oil (avocado oil, grapeseed oil, or canola oil)\\n- 1/4 cup chicken broth (vegetable broth or chicken stock)\\n- 1/4 cup unsweetened coconut milk (almond milk or soy milk)\\n- 1/4 cup lime juice\\n- Salt to taste\\n\\n**Instructions:**\\n1. In a food processor, combine shallots, lemongrass, ginger, garlic, and chilies. Process until finely chopped.\\n2. Add coriander seeds, Thai white peppercorns, cumin, coriander, fennel seeds, Sichuan peppercorns, star anise, and cardamom pods. Process until a paste forms.\\n3. With the processor running, slowly pour in vegetable oil, chicken broth, and unsweetened coconut milk. Process until smooth.\\n4. Transfer to a jar, seal, and refrigerate. Before using, whisk in lime juice and add salt to taste.\\n\\nNote: This curry paste is free of nuts and can be used as a base for various Thai curry dishes. Remember to check other ingredients for potential allergens.'}\n",
      "*\n",
      "[Document(page_content=\"5. For serving, top the fish with red curry sauce, peanuts, cilantro, and Thai basil. Serve with spicy eggplant.\\nallergy_type: [Fish, Peanut, Coconut, Ginger, Curry, Lime, Cilantro]\\ndiet_type: [(Vegetarian,80),(Dairy-Free,70),(Gluten-Free,60),(Paleo,50),(Lactovegetarians,40)]\\nholiday: New Year's Eve\\ncuisine_type: American, Thai\\nmeal_type: Dinner, Entree\\ningredients_alternatives: Vegetable oil: avocado oil, grapeseed oil, or canola oil\\nOnion: yellow onion, white onion, or sweet onion\"), Document(page_content='6. Whisk in lime juice just before serving.\\nallergy_type: [Coconut, Peanut, Fish]\\ndiet_type: [(Vegan,80),(Vegetarian,70),(Gluten-Free,60),(Fruitarian,50),(Paleo,40)]\\nholiday: Easter\\ncuisine_type: Thai\\nmeal_type: Dessert, Appetizer\\ningredients_alternatives: Coconut cream: full-fat coconut milk, Greek yogurt\\nThai Red Curry Paste: Indian curry powder, Moroccan spice blend\\nChicken broth: vegetable broth, chicken stock\\nUnsweetened coconut milk: almond milk, soy milk'), Document(page_content='7. Add ground spices and process to a paste.\\n8. Transfer to a jar, seal, and refrigerate.\\nallergy_type: [Nut, Spice, Herb]\\ndiet_type: [(Gluten-Free,80),(Dairy-Free,70),(Vegetarian,60),(OvoVegetarian,50),(Paleo,40)]\\nholiday: Thai New Year (Songkran)\\ncuisine_type: Thai\\nmeal_type: Dinner, Lunch, Appetizer\\ningredients_alternatives: Coriander seeds: ground cumin, ground coriander, fennel seeds\\nThai white peppercorns: Sichuan peppercorns, star anise, cardamom pods')]\n"
     ]
    }
   ],
   "source": [
    "query = \"I am allergic to nuts. Can you give me a Thai curry recipe free of nuts?\"\n",
    "result = qa.invoke({\"query\": query})\n",
    "print(result['result'][0])\n",
    "\n",
    "# Print the source documents\n",
    "print(result['source_documents'])"
   ]
  },
  {
   "cell_type": "code",
   "execution_count": 98,
   "id": "7c7dd9e1-b8c3-4f7a-a18c-9db252cf00b1",
   "metadata": {},
   "outputs": [
    {
     "name": "stdout",
     "output_type": "stream",
     "text": [
      "**Title:**\n",
      "Nut-Free Thai Red Curry Paste\n",
      "\n",
      "**Ingredients:**\n",
      "- 1/2 cup chopped shallots\n",
      "- 1/4 cup chopped lemongrass\n",
      "- 2 tablespoons chopped fresh ginger\n",
      "- 2 tablespoons chopped garlic\n",
      "- 1-2 red Thai chilies, seeded and chopped\n",
      "- 1 tablespoon coriander seeds\n",
      "- 1 teaspoon Thai white peppercorns\n",
      "- 1 teaspoon ground cumin\n",
      "- 1 teaspoon ground coriander\n",
      "- 1 teaspoon fennel seeds\n",
      "- 1 teaspoon Sichuan peppercorns\n",
      "- 1 teaspoon star anise\n",
      "- 1 teaspoon cardamom pods\n",
      "- 1/4 cup vegetable oil (avocado oil, grapeseed oil, or canola oil)\n",
      "- 1/4 cup chicken broth (vegetable broth or chicken stock)\n",
      "- 1/4 cup unsweetened coconut milk (almond milk or soy milk)\n",
      "- 1/4 cup lime juice\n",
      "- Salt to taste\n",
      "\n",
      "**Instructions:**\n",
      "1. In a food processor, combine shallots, lemongrass, ginger, garlic, and chilies. Process until finely chopped.\n",
      "2. Add coriander seeds, Thai white peppercorns, cumin, coriander, fennel seeds, Sichuan peppercorns, star anise, and cardamom pods. Process until a paste forms.\n",
      "3. With the processor running, slowly pour in vegetable oil, chicken broth, and unsweetened coconut milk. Process until smooth.\n",
      "4. Transfer to a jar, seal, and refrigerate. Before using, whisk in lime juice and add salt to taste.\n",
      "\n",
      "Note: This curry paste is free of nuts and can be used as a base for various Thai curry dishes. Remember to check other ingredients for potential allergens.\n"
     ]
    }
   ],
   "source": [
    "print(result['result'])"
   ]
  },
  {
   "cell_type": "code",
   "execution_count": 99,
   "id": "43aeff39-92f0-4b0e-b671-f151abe8b466",
   "metadata": {},
   "outputs": [
    {
     "name": "stdout",
     "output_type": "stream",
     "text": [
      "{\"inputs\": \"<|begin_of_text|><|start_header_id|>system<|end_header_id|>\\nYou are a helpful assistant that generates recipes in a well-structured format.\\nPlease generate a recipe.\\nEnsure that ingredients are listed only once and avoid repeating any entries.\\nThe recipe should include the following sections:\\n1. **Title** of the recipe\\n2. **Ingredients List** with measurements (avoid repeats)\\n3. **Instructions** in numbered steps for preparation\\n\\nReturn the result in the following format:\\n\\n**Title:**\\nRecipe title here\\n\\n**Ingredients:**\\n- Ingredient 1\\n- Ingredient 2\\n- Ingredient 3\\n\\n**Instructions:**\\n1. Step 1\\n2. Step 2\\n3. Step 3\\n\\nMake sure the formatting follows the above structure exactly.\\n\\n<|eot_id|><|start_header_id|>user<|end_header_id|>\\nUse the following pieces of context to provide a concise answer to the question at the end. If you don't know the answer, just say that you don't know, don't try to make up an answer.\\n#### Context ####\\n14. Stir for a minute, then add cooked risotto, spinach, and garlic, and stir to mix well.\\n15. Serve immediately and pass grated Parmesan cheese.\\nallergy_type: [Dairy, Gluten, Nut]\\ndiet_type: [(Vegetarian,80),(Gluten-Free,70),(Dairy-Free,60),(Paleo,40)]\\nholiday: Thanksgiving\\ncuisine_type: American, Italian\\nmeal_type: Dinner, Entree\\ningredients_alternatives: Onion: red onion, scallions, shallots\\nButter: ghee, coconut oil, olive oil\\nChicken broth: vegetable broth, beef broth, mushroom broth\\n\\n11. Drain the pasta.\\n12. Serve with the chicken and garnish with the remaining parsley.\\nallergy_type: [Milk, Egg, Wheat]\\ndiet_type: [(Vegetarian,80),(Gluten-Free,70),(Dairy-Free,60),(Paleo,50)]\\nholiday: New Year's Eve\\ncuisine_type: Italian\\nmeal_type: Dinner, Lunch\\ningredients_alternatives: Marinara sauce: tomato sauce, arrabbiata sauce, puttanesca sauce\\nBalsamic vinegar: red wine vinegar, white wine vinegar\\nPanko breadcrumbs: plain breadcrumbs, crushed crackers\\n\\n11. Garnish the eggplant Parmesan stacks with torn basil leaves and drizzle with balsamic vinegar.\\n12. Serve with grilled bread on the side.\\nallergy_type: [Milk, Egg, Wheat, Cheese, Bread]\\ndiet_type: [(Vegetarian,80),(Gluten-Free,70),(Dairy-Free,60),(OvoVegetarian,50),(Paleo,40)]\\nholiday: Independence Day\\ncuisine_type: Italian\\nmeal_type: Dinner, Entree\\ningredients_alternatives: Olive oil: avocado oil, grapeseed oil, walnut oil\\nGarlic: shallots, green onions\\nKosher salt: sea salt\\n#### End of Context ####\\n\\nQuestion: I am allergic to gluten. Can you give me a recipe for an Italian Chicken Parmesan dish without gluten?\\n<|eot_id|><|start_header_id|>assistant<|end_header_id|>\\n\", \"parameters\": {\"max_new_tokens\": 1000, \"top_p\": 0.9, \"temperature\": 0.6, \"stop\": [\"<|eot_id|>\"]}}\n",
      "{'generated_text': '\\n**Title:** Gluten-Free Italian Chicken Parmesan\\n\\n**Ingredients:**\\n- 4 boneless, skinless chicken breasts\\n- 1 cup gluten-free breadcrumbs\\n- 1 cup grated Parmesan cheese\\n- 2 large eggs\\n- 2 cups marinara sauce\\n- 1 cup shredded mozzarella cheese\\n- 1/4 cup chopped fresh parsley\\n- 1/4 cup olive oil\\n- 2 cloves garlic, minced\\n- Salt and pepper to taste\\n\\n**Instructions:**\\n1. Preheat your oven to 400°F (200°C).\\n2. Season the chicken breasts with salt and pepper.\\n3. Beat the eggs in a shallow bowl.\\n4. In another bowl, combine the gluten-free breadcrumbs and grated Parmesan cheese.\\n5. Dip each chicken breast in the egg mixture, then coat with the breadcrumb mixture, pressing to adhere.\\n6. Heat the olive oil in a large oven-safe skillet over medium heat.\\n7. Add the chicken and cook until golden brown, about 3-4 minutes on each side.\\n8. Pour the marinara sauce over and around the chicken.\\n9. Top each chicken breast with shredded mozzarella cheese.\\n10. Transfer the skillet to the preheated oven and bake for 20-25 minutes, or until the chicken is cooked through and the cheese is melted and bubbly.\\n11. Garnish with chopped fresh parsley and serve hot.\\n\\nEnjoy your gluten-free Italian Chicken Parmesan!'}\n",
      "*\n",
      "[Document(page_content='14. Stir for a minute, then add cooked risotto, spinach, and garlic, and stir to mix well.\\n15. Serve immediately and pass grated Parmesan cheese.\\nallergy_type: [Dairy, Gluten, Nut]\\ndiet_type: [(Vegetarian,80),(Gluten-Free,70),(Dairy-Free,60),(Paleo,40)]\\nholiday: Thanksgiving\\ncuisine_type: American, Italian\\nmeal_type: Dinner, Entree\\ningredients_alternatives: Onion: red onion, scallions, shallots\\nButter: ghee, coconut oil, olive oil\\nChicken broth: vegetable broth, beef broth, mushroom broth'), Document(page_content=\"11. Drain the pasta.\\n12. Serve with the chicken and garnish with the remaining parsley.\\nallergy_type: [Milk, Egg, Wheat]\\ndiet_type: [(Vegetarian,80),(Gluten-Free,70),(Dairy-Free,60),(Paleo,50)]\\nholiday: New Year's Eve\\ncuisine_type: Italian\\nmeal_type: Dinner, Lunch\\ningredients_alternatives: Marinara sauce: tomato sauce, arrabbiata sauce, puttanesca sauce\\nBalsamic vinegar: red wine vinegar, white wine vinegar\\nPanko breadcrumbs: plain breadcrumbs, crushed crackers\"), Document(page_content='11. Garnish the eggplant Parmesan stacks with torn basil leaves and drizzle with balsamic vinegar.\\n12. Serve with grilled bread on the side.\\nallergy_type: [Milk, Egg, Wheat, Cheese, Bread]\\ndiet_type: [(Vegetarian,80),(Gluten-Free,70),(Dairy-Free,60),(OvoVegetarian,50),(Paleo,40)]\\nholiday: Independence Day\\ncuisine_type: Italian\\nmeal_type: Dinner, Entree\\ningredients_alternatives: Olive oil: avocado oil, grapeseed oil, walnut oil\\nGarlic: shallots, green onions\\nKosher salt: sea salt')]\n"
     ]
    }
   ],
   "source": [
    "query = \"I am allergic to gluten. Can you give me a recipe for an Italian Chicken Parmesan dish without gluten?\"\n",
    "result = qa.invoke({\"query\": query})\n",
    "print(result['result'][0])\n",
    "\n",
    "# Print the source documents\n",
    "print(result['source_documents'])\n"
   ]
  },
  {
   "cell_type": "code",
   "execution_count": 100,
   "id": "4b753aad-fd4a-41af-9245-c81ae21a3dd3",
   "metadata": {},
   "outputs": [
    {
     "name": "stdout",
     "output_type": "stream",
     "text": [
      "**Title:** Gluten-Free Italian Chicken Parmesan\n",
      "\n",
      "**Ingredients:**\n",
      "- 4 boneless, skinless chicken breasts\n",
      "- 1 cup gluten-free breadcrumbs\n",
      "- 1 cup grated Parmesan cheese\n",
      "- 2 large eggs\n",
      "- 2 cups marinara sauce\n",
      "- 1 cup shredded mozzarella cheese\n",
      "- 1/4 cup chopped fresh parsley\n",
      "- 1/4 cup olive oil\n",
      "- 2 cloves garlic, minced\n",
      "- Salt and pepper to taste\n",
      "\n",
      "**Instructions:**\n",
      "1. Preheat your oven to 400°F (200°C).\n",
      "2. Season the chicken breasts with salt and pepper.\n",
      "3. Beat the eggs in a shallow bowl.\n",
      "4. In another bowl, combine the gluten-free breadcrumbs and grated Parmesan cheese.\n",
      "5. Dip each chicken breast in the egg mixture, then coat with the breadcrumb mixture, pressing to adhere.\n",
      "6. Heat the olive oil in a large oven-safe skillet over medium heat.\n",
      "7. Add the chicken and cook until golden brown, about 3-4 minutes on each side.\n",
      "8. Pour the marinara sauce over and around the chicken.\n",
      "9. Top each chicken breast with shredded mozzarella cheese.\n",
      "10. Transfer the skillet to the preheated oven and bake for 20-25 minutes, or until the chicken is cooked through and the cheese is melted and bubbly.\n",
      "11. Garnish with chopped fresh parsley and serve hot.\n",
      "\n",
      "Enjoy your gluten-free Italian Chicken Parmesan!\n"
     ]
    }
   ],
   "source": [
    "print(result['result'])"
   ]
  },
  {
   "cell_type": "code",
   "execution_count": 101,
   "id": "08c02e2b-266c-466c-a973-68f166526500",
   "metadata": {},
   "outputs": [
    {
     "name": "stdout",
     "output_type": "stream",
     "text": [
      "{\"inputs\": \"<|begin_of_text|><|start_header_id|>system<|end_header_id|>\\nYou are a helpful assistant that generates recipes in a well-structured format.\\nPlease generate a recipe.\\nEnsure that ingredients are listed only once and avoid repeating any entries.\\nThe recipe should include the following sections:\\n1. **Title** of the recipe\\n2. **Ingredients List** with measurements (avoid repeats)\\n3. **Instructions** in numbered steps for preparation\\n\\nReturn the result in the following format:\\n\\n**Title:**\\nRecipe title here\\n\\n**Ingredients:**\\n- Ingredient 1\\n- Ingredient 2\\n- Ingredient 3\\n\\n**Instructions:**\\n1. Step 1\\n2. Step 2\\n3. Step 3\\n\\nMake sure the formatting follows the above structure exactly.\\n\\n<|eot_id|><|start_header_id|>user<|end_header_id|>\\nUse the following pieces of context to provide a concise answer to the question at the end. If you don't know the answer, just say that you don't know, don't try to make up an answer.\\n#### Context ####\\n10. Lift the brownies out of the pan using the foil overhang. Dust with confectioners' sugar.\\n11. Cut into pieces and decorate with yellow candies.\\nallergy_type: [Dairy, Egg, Sugar]\\ndiet_type: [(Vegan,80),(Dairy-Free,70),(Gluten-Free,60),(Fruitarian,50),(Paleo,40)]\\nholiday: Easter\\ncuisine_type: American\\nmeal_type: Dessert, Snack\\ningredients_alternatives: Butter: coconut oil, ghee\\nWhite Chocolate: dark chocolate, milk chocolate\\nSugar: brown sugar, maple syrup\\nEggs: duck eggs, quail eggs\\n\\nInstructions:\\nNote: The recipe has some inconsistencies in formatting and punctuation, which I have corrected for clarity.\\nallergy_type: [Milk, Egg, Sugar, Chocolate, Butter, Marshmallow]\\ndiet_type: [(Vegan,0),(Dairy-Free,80),(Gluten-Free,70),(Lactovegetarians,60),(OvoVegetarian,50),(Paleo,40),(Vegetarian,30)].\\n\\nNote: The original recipe instructions included unnecessary steps and wordings, so I have simplified and condensed them for easier understanding.\\nallergy_type: [Milk, Egg, Butter, Flour, Chocolate]\\ndiet_type: [(Dairy-Free,80),(Vegetarian,70),(Gluten-Free,60),(Paleo,50),(Fruitarian,40)]\\nholiday: Easter\\ncuisine_type: American, French\\nmeal_type: Dessert, High Tea\\ningredients_alternatives: Sugar: brown sugar, coconut sugar, maple syrup\\nCornstarch: tapioca starch, arrowroot powder\\n#### End of Context ####\\n\\nQuestion: I am allergic to milk and eggs. Can you give me a recipe for a milk-free and egg-free brownie dessert?\\n<|eot_id|><|start_header_id|>assistant<|end_header_id|>\\n\", \"parameters\": {\"max_new_tokens\": 1000, \"top_p\": 0.9, \"temperature\": 0.6, \"stop\": [\"<|eot_id|>\"]}}\n",
      "{'generated_text': \"\\n**Title:** Dairy-Free and Egg-Free Brownies\\n\\n**Ingredients:**\\n- 1 cup (2 sticks) dairy-free butter (such as coconut oil or ghee)\\n- 2 cups granulated sugar or alternative (e.g., brown sugar, coconut sugar, or maple syrup)\\n- 4 oz dairy-free chocolate (dark or milk chocolate)\\n- 1 cup all-purpose flour or gluten-free flour\\n- 1 tsp baking powder\\n- 1 tsp vanilla extract\\n- 1/4 tsp salt\\n- Optional: confectioners' sugar for dusting, dairy-free yellow candies for decoration\\n\\n**Instructions:**\\n1. Preheat the oven to 350°F (175°C). Grease a 9x13-inch baking pan or line it with parchment paper.\\n2. In a saucepan over low heat, melt the dairy-free butter. Add sugar and stir until dissolved.\\n3. Remove the saucepan from heat and add dairy-free chocolate. Stir until the chocolate is completely melted.\\n4. In a separate bowl, combine flour, baking powder, and salt.\\n5. Add the chocolate mixture to the dry ingredients and mix well.\\n6. Stir in the vanilla extract.\\n7. Pour the batter into the prepared baking pan and spread it evenly.\\n8. Bake for 20-25 minutes or until a toothpick inserted into the center comes out with a few moist crumbs.\\n9. Lift the brownies out of the pan using the foil overhang. Allow them to cool completely.\\n10. Dust with confectioners' sugar (optional) and cut into pieces. Decorate with dairy-free yellow candies (optional).\\n\\nEnjoy your dairy-free and egg-free brownies!\"}\n",
      "*\n",
      "[Document(page_content=\"10. Lift the brownies out of the pan using the foil overhang. Dust with confectioners' sugar.\\n11. Cut into pieces and decorate with yellow candies.\\nallergy_type: [Dairy, Egg, Sugar]\\ndiet_type: [(Vegan,80),(Dairy-Free,70),(Gluten-Free,60),(Fruitarian,50),(Paleo,40)]\\nholiday: Easter\\ncuisine_type: American\\nmeal_type: Dessert, Snack\\ningredients_alternatives: Butter: coconut oil, ghee\\nWhite Chocolate: dark chocolate, milk chocolate\\nSugar: brown sugar, maple syrup\\nEggs: duck eggs, quail eggs\"), Document(page_content='Instructions:\\nNote: The recipe has some inconsistencies in formatting and punctuation, which I have corrected for clarity.\\nallergy_type: [Milk, Egg, Sugar, Chocolate, Butter, Marshmallow]\\ndiet_type: [(Vegan,0),(Dairy-Free,80),(Gluten-Free,70),(Lactovegetarians,60),(OvoVegetarian,50),(Paleo,40),(Vegetarian,30)].'), Document(page_content='Note: The original recipe instructions included unnecessary steps and wordings, so I have simplified and condensed them for easier understanding.\\nallergy_type: [Milk, Egg, Butter, Flour, Chocolate]\\ndiet_type: [(Dairy-Free,80),(Vegetarian,70),(Gluten-Free,60),(Paleo,50),(Fruitarian,40)]\\nholiday: Easter\\ncuisine_type: American, French\\nmeal_type: Dessert, High Tea\\ningredients_alternatives: Sugar: brown sugar, coconut sugar, maple syrup\\nCornstarch: tapioca starch, arrowroot powder')]\n"
     ]
    }
   ],
   "source": [
    "query = \"I am allergic to milk and eggs. Can you give me a recipe for a milk-free and egg-free brownie dessert?\"\n",
    "result = qa.invoke({\"query\": query})\n",
    "print(result['result'][0])\n",
    "\n",
    "# Print the source documents\n",
    "print(result['source_documents'])\n"
   ]
  },
  {
   "cell_type": "code",
   "execution_count": 102,
   "id": "46669d06-006b-4198-93c6-b1e18b34d858",
   "metadata": {},
   "outputs": [
    {
     "name": "stdout",
     "output_type": "stream",
     "text": [
      "**Title:** Dairy-Free and Egg-Free Brownies\n",
      "\n",
      "**Ingredients:**\n",
      "- 1 cup (2 sticks) dairy-free butter (such as coconut oil or ghee)\n",
      "- 2 cups granulated sugar or alternative (e.g., brown sugar, coconut sugar, or maple syrup)\n",
      "- 4 oz dairy-free chocolate (dark or milk chocolate)\n",
      "- 1 cup all-purpose flour or gluten-free flour\n",
      "- 1 tsp baking powder\n",
      "- 1 tsp vanilla extract\n",
      "- 1/4 tsp salt\n",
      "- Optional: confectioners' sugar for dusting, dairy-free yellow candies for decoration\n",
      "\n",
      "**Instructions:**\n",
      "1. Preheat the oven to 350°F (175°C). Grease a 9x13-inch baking pan or line it with parchment paper.\n",
      "2. In a saucepan over low heat, melt the dairy-free butter. Add sugar and stir until dissolved.\n",
      "3. Remove the saucepan from heat and add dairy-free chocolate. Stir until the chocolate is completely melted.\n",
      "4. In a separate bowl, combine flour, baking powder, and salt.\n",
      "5. Add the chocolate mixture to the dry ingredients and mix well.\n",
      "6. Stir in the vanilla extract.\n",
      "7. Pour the batter into the prepared baking pan and spread it evenly.\n",
      "8. Bake for 20-25 minutes or until a toothpick inserted into the center comes out with a few moist crumbs.\n",
      "9. Lift the brownies out of the pan using the foil overhang. Allow them to cool completely.\n",
      "10. Dust with confectioners' sugar (optional) and cut into pieces. Decorate with dairy-free yellow candies (optional).\n",
      "\n",
      "Enjoy your dairy-free and egg-free brownies!\n"
     ]
    }
   ],
   "source": [
    "print(result['result'])"
   ]
  },
  {
   "cell_type": "code",
   "execution_count": 103,
   "id": "80c011e4-fec0-4a5c-9188-541e6894cc44",
   "metadata": {},
   "outputs": [
    {
     "name": "stdout",
     "output_type": "stream",
     "text": [
      "{\"inputs\": \"<|begin_of_text|><|start_header_id|>system<|end_header_id|>\\nYou are a helpful assistant that generates recipes in a well-structured format.\\nPlease generate a recipe.\\nEnsure that ingredients are listed only once and avoid repeating any entries.\\nThe recipe should include the following sections:\\n1. **Title** of the recipe\\n2. **Ingredients List** with measurements (avoid repeats)\\n3. **Instructions** in numbered steps for preparation\\n\\nReturn the result in the following format:\\n\\n**Title:**\\nRecipe title here\\n\\n**Ingredients:**\\n- Ingredient 1\\n- Ingredient 2\\n- Ingredient 3\\n\\n**Instructions:**\\n1. Step 1\\n2. Step 2\\n3. Step 3\\n\\nMake sure the formatting follows the above structure exactly.\\n\\n<|eot_id|><|start_header_id|>user<|end_header_id|>\\nUse the following pieces of context to provide a concise answer to the question at the end. If you don't know the answer, just say that you don't know, don't try to make up an answer.\\n#### Context ####\\n7. Shred the beef with two forks in the cooker or remove it from the sauce, cut it into strips, and return the strips to the sauce.\\n8. Assemble the tacos by filling each tortilla with steak, rice, and cabbage slaw.\\n9. Enjoy!\\nallergy_type: [Soy, Gluten, Beef]\\ndiet_type: [(Vegetarian,80),(Gluten-Free,70),(Dairy-Free,60),(Paleo,50)]\\nholiday: Thanksgiving\\ncuisine_type: American, Asian\\nmeal_type: Dinner, Picnic\\ningredients_alternatives: Soy sauce: tamari, coconut aminos, fish sauce\\n\\n10. Peel off the top piece of plastic and flip the tortilla onto your hand, peeling off the bottom piece of plastic. Cook the tortilla on the cooler side of the griddle until slightly dry around the edges and peels away from the griddle.\\nallergy_type: [Milk, Beef, Corn, Onion, Garlic, Oregano, Lime, Sugar]\\ndiet_type: [(Mexican,90),(Vegetarian,80),(Gluten-Free,70),(Dairy-Free,60)].\\n\\n1. Place all the ingredients in a mixing bowl.\\n2. Mix with a wire whisk until smooth.\\n3. Place in 2 plastic containers and refrigerate.\\nallergy_type: [Nut, Seed, Soy, Spices]\\ndiet_type: [(Vegan,90),(Dairy-Free,80),(Lactovegetarians,70),(OvoVegetarian,60),(Paleo,40)]\\nholiday: Passover\\ncuisine_type: Middle Eastern\\nmeal_type: Appetizer, SnackPlease\\ningredients_alternatives: Garbanzo beans: chickpeas, kidney beans, cannellini beans\\nTahini: sunflower seed butter, cashew butter\\n#### End of Context ####\\n\\nQuestion: I am allergic to soy. Can you give me a recipe for a vegan lentil taco dish without soy?\\n<|eot_id|><|start_header_id|>assistant<|end_header_id|>\\n\", \"parameters\": {\"max_new_tokens\": 1000, \"top_p\": 0.9, \"temperature\": 0.6, \"stop\": [\"<|eot_id|>\"]}}\n",
      "{'generated_text': '\\n**Title:** Vegan Lentil Tacos\\n\\n**Ingredients:**\\n- 1 cup dried lentils\\n- 2 cups vegetable broth\\n- 1 teaspoon cumin\\n- 1 teaspoon chili powder\\n- 1/2 teaspoon garlic powder\\n- Salt to taste\\n- 1 cup cooked rice\\n- 1 cup cabbage slaw\\n- 8 small corn tortillas\\n\\n**Instructions:**\\n1. Rinse the lentils under cold water and drain.\\n2. Place the lentils, vegetable broth, cumin, chili powder, garlic powder, and salt in a saucepan.\\n3. Bring the mixture to a boil, then reduce the heat and let it simmer for about 20 minutes or until the lentils are tender.\\n4. Warm the tortillas in a dry skillet over medium heat.\\n5. Assemble the tacos by filling each tortilla with lentils, rice, and cabbage slaw.\\n6. Enjoy your vegan lentil tacos!\\n\\nPlease note that this recipe is free from soy, gluten, beef, and dairy. It is also suitable for vegans and can be enjoyed for dinner or as a picnic dish.'}\n",
      "*\n",
      "[Document(page_content='7. Shred the beef with two forks in the cooker or remove it from the sauce, cut it into strips, and return the strips to the sauce.\\n8. Assemble the tacos by filling each tortilla with steak, rice, and cabbage slaw.\\n9. Enjoy!\\nallergy_type: [Soy, Gluten, Beef]\\ndiet_type: [(Vegetarian,80),(Gluten-Free,70),(Dairy-Free,60),(Paleo,50)]\\nholiday: Thanksgiving\\ncuisine_type: American, Asian\\nmeal_type: Dinner, Picnic\\ningredients_alternatives: Soy sauce: tamari, coconut aminos, fish sauce'), Document(page_content='10. Peel off the top piece of plastic and flip the tortilla onto your hand, peeling off the bottom piece of plastic. Cook the tortilla on the cooler side of the griddle until slightly dry around the edges and peels away from the griddle.\\nallergy_type: [Milk, Beef, Corn, Onion, Garlic, Oregano, Lime, Sugar]\\ndiet_type: [(Mexican,90),(Vegetarian,80),(Gluten-Free,70),(Dairy-Free,60)].'), Document(page_content='1. Place all the ingredients in a mixing bowl.\\n2. Mix with a wire whisk until smooth.\\n3. Place in 2 plastic containers and refrigerate.\\nallergy_type: [Nut, Seed, Soy, Spices]\\ndiet_type: [(Vegan,90),(Dairy-Free,80),(Lactovegetarians,70),(OvoVegetarian,60),(Paleo,40)]\\nholiday: Passover\\ncuisine_type: Middle Eastern\\nmeal_type: Appetizer, SnackPlease\\ningredients_alternatives: Garbanzo beans: chickpeas, kidney beans, cannellini beans\\nTahini: sunflower seed butter, cashew butter')]\n"
     ]
    }
   ],
   "source": [
    "query = \"I am allergic to soy. Can you give me a recipe for a vegan lentil taco dish without soy?\"\n",
    "result = qa.invoke({\"query\": query})\n",
    "print(result['result'][0])\n",
    "\n",
    "# Print the source documents\n",
    "print(result['source_documents'])\n"
   ]
  },
  {
   "cell_type": "code",
   "execution_count": 104,
   "id": "15825bf7-8982-45bc-838a-b6e7a00b8309",
   "metadata": {},
   "outputs": [
    {
     "name": "stdout",
     "output_type": "stream",
     "text": [
      "**Title:** Vegan Lentil Tacos\n",
      "\n",
      "**Ingredients:**\n",
      "- 1 cup dried lentils\n",
      "- 2 cups vegetable broth\n",
      "- 1 teaspoon cumin\n",
      "- 1 teaspoon chili powder\n",
      "- 1/2 teaspoon garlic powder\n",
      "- Salt to taste\n",
      "- 1 cup cooked rice\n",
      "- 1 cup cabbage slaw\n",
      "- 8 small corn tortillas\n",
      "\n",
      "**Instructions:**\n",
      "1. Rinse the lentils under cold water and drain.\n",
      "2. Place the lentils, vegetable broth, cumin, chili powder, garlic powder, and salt in a saucepan.\n",
      "3. Bring the mixture to a boil, then reduce the heat and let it simmer for about 20 minutes or until the lentils are tender.\n",
      "4. Warm the tortillas in a dry skillet over medium heat.\n",
      "5. Assemble the tacos by filling each tortilla with lentils, rice, and cabbage slaw.\n",
      "6. Enjoy your vegan lentil tacos!\n",
      "\n",
      "Please note that this recipe is free from soy, gluten, beef, and dairy. It is also suitable for vegans and can be enjoyed for dinner or as a picnic dish.\n"
     ]
    }
   ],
   "source": [
    "print(result['result'])"
   ]
  },
  {
   "cell_type": "code",
   "execution_count": 105,
   "id": "36d28bef-00d6-4520-933e-3edcc8ad075f",
   "metadata": {},
   "outputs": [
    {
     "name": "stdout",
     "output_type": "stream",
     "text": [
      "{\"inputs\": \"<|begin_of_text|><|start_header_id|>system<|end_header_id|>\\nYou are a helpful assistant that generates recipes in a well-structured format.\\nPlease generate a recipe.\\nEnsure that ingredients are listed only once and avoid repeating any entries.\\nThe recipe should include the following sections:\\n1. **Title** of the recipe\\n2. **Ingredients List** with measurements (avoid repeats)\\n3. **Instructions** in numbered steps for preparation\\n\\nReturn the result in the following format:\\n\\n**Title:**\\nRecipe title here\\n\\n**Ingredients:**\\n- Ingredient 1\\n- Ingredient 2\\n- Ingredient 3\\n\\n**Instructions:**\\n1. Step 1\\n2. Step 2\\n3. Step 3\\n\\nMake sure the formatting follows the above structure exactly.\\n\\n<|eot_id|><|start_header_id|>user<|end_header_id|>\\nUse the following pieces of context to provide a concise answer to the question at the end. If you don't know the answer, just say that you don't know, don't try to make up an answer.\\n#### Context ####\\n8. Sear tuna and slice into 12 sashimi slices (3 per serving).\\n9. Season tuna with truffle salt.\\n10. Lay scallions across each plate.\\n11. Place tuna and steamed dumplings next to each other.\\n12. Top dumplings with osetra caviar and spray foam into ramekins for dipping.\\n13. Serve.\\nallergy_type: [Fish, Wheat, Soy, Spice]\\ndiet_type: [(Paleo,80),(Ketogenic,70),(Atkins,60),(LowFODMAP,50)]\\nholiday: New Year's Eve\\ncuisine_type: American, Japanese\\nmeal_type: Dessert, High Tea\\n\\n4. Remove skewers from grill and sprinkle with furikake or togarashi.\\nallergy_type: [Fish, Miso]\\ndiet_type: [(Pescetarian,80),(Vegetarian,70),(OvoVegetarian,60),(Lactovegetarians,50),(Atkins,40)]\\nholiday: New Year's Eve\\ncuisine_type: Japanese\\nmeal_type: Dinner, Appetizer\\ningredients_alternatives: Mirin: rice wine vinegar, soy sauce\\nSake: Japanese rice wine, sherry\\nLight Brown Sugar: muscovado sugar, turbinado sugar\\nLight Miso: white miso paste, yellow miso paste\\nSalmon: cod, tilapia, mahi-mahi\\n\\n8. Sear tuna in block, slice about 12 sashimi slices, 3 pieces per serving, and season with truffle salt.\\n9. Set aside.\\n10. Mix all ingredients in blender, insert into foamer and shake to combine.\\n11. Lay scallions across each plate.\\n12. Place tuna and steamed dumplings next to each other.\\n13. Top dumplings with osetra caviar, spray foam into ramekins for dipping.\\n14. Serve.\\nallergy_type: [Fish, Wheat, Soy, Spice]\\n#### End of Context ####\\n\\nQuestion: I am allergic to Fish & Crustacean. Can you give me a recipe for a Japanese dumpling dish without fish and crustacean?\\n<|eot_id|><|start_header_id|>assistant<|end_header_id|>\\n\", \"parameters\": {\"max_new_tokens\": 1000, \"top_p\": 0.9, \"temperature\": 0.6, \"stop\": [\"<|eot_id|>\"]}}\n",
      "{'generated_text': \"\\n**Title:** Vegetable Dumplings with Spicy Foam\\n\\n**Ingredients:**\\n- 1 cup of dumpling wrappers\\n- 1 cup of mixed vegetables (e.g., cabbage, carrots, bell peppers)\\n- 1 tablespoon of light soy sauce (or tamari for gluten-free)\\n- 1 tablespoon of sesame oil\\n- 1 tablespoon of rice wine vinegar\\n- 1 teaspoon of grated ginger\\n- 1 clove of garlic, minced\\n- Salt and pepper to taste\\n- 1 bunch of scallions\\n- 1 tablespoon of osetra caviar (ensure it's fish-free)\\n- 1 can of coconut cream\\n- 1 teaspoon of sriracha or other spicy sauce (ensure it's fish-free)\\n\\n**Instructions:**\\n1. Finely chop the mixed vegetables and place them in a bowl.\\n2. Add soy sauce, sesame oil, rice wine vinegar, ginger, and garlic to the bowl. Mix well.\\n3. Season the mixture with salt and pepper.\\n4. Place a tablespoon of the vegetable mixture in the center of each dumpling wrapper.\\n5. Fold the dumpling wrapper in half and seal the edges, ensuring no filling escapes.\\n6. Steam the dumplings for about 8-10 minutes or until they are cooked through.\\n7. While the dumplings are steaming, chop the scallions.\\n8. In a blender, combine coconut cream and sriracha. Blend until foamy.\\n9. Lay scallions across each plate.\\n10. Place the dumplings on the plates.\\n11. Top the dumplings with osetra caviar.\\n12. Serve with the spicy foam on the side.\\n\\nPlease note that while I've done my best to ensure this recipe is free from fish and crustacean, it's always important to check the labels of your ingredients to ensure they meet your dietary needs.\"}\n",
      "*\n",
      "[Document(page_content=\"8. Sear tuna and slice into 12 sashimi slices (3 per serving).\\n9. Season tuna with truffle salt.\\n10. Lay scallions across each plate.\\n11. Place tuna and steamed dumplings next to each other.\\n12. Top dumplings with osetra caviar and spray foam into ramekins for dipping.\\n13. Serve.\\nallergy_type: [Fish, Wheat, Soy, Spice]\\ndiet_type: [(Paleo,80),(Ketogenic,70),(Atkins,60),(LowFODMAP,50)]\\nholiday: New Year's Eve\\ncuisine_type: American, Japanese\\nmeal_type: Dessert, High Tea\"), Document(page_content=\"4. Remove skewers from grill and sprinkle with furikake or togarashi.\\nallergy_type: [Fish, Miso]\\ndiet_type: [(Pescetarian,80),(Vegetarian,70),(OvoVegetarian,60),(Lactovegetarians,50),(Atkins,40)]\\nholiday: New Year's Eve\\ncuisine_type: Japanese\\nmeal_type: Dinner, Appetizer\\ningredients_alternatives: Mirin: rice wine vinegar, soy sauce\\nSake: Japanese rice wine, sherry\\nLight Brown Sugar: muscovado sugar, turbinado sugar\\nLight Miso: white miso paste, yellow miso paste\\nSalmon: cod, tilapia, mahi-mahi\"), Document(page_content='8. Sear tuna in block, slice about 12 sashimi slices, 3 pieces per serving, and season with truffle salt.\\n9. Set aside.\\n10. Mix all ingredients in blender, insert into foamer and shake to combine.\\n11. Lay scallions across each plate.\\n12. Place tuna and steamed dumplings next to each other.\\n13. Top dumplings with osetra caviar, spray foam into ramekins for dipping.\\n14. Serve.\\nallergy_type: [Fish, Wheat, Soy, Spice]')]\n"
     ]
    }
   ],
   "source": [
    "query = \"I am allergic to Fish & Crustacean. Can you give me a recipe for a Japanese dumpling dish without fish and crustacean?\"\n",
    "result = qa.invoke({\"query\": query})\n",
    "print(result['result'][0])\n",
    "\n",
    "# Print the source documents\n",
    "print(result['source_documents'])\n",
    "\n"
   ]
  },
  {
   "cell_type": "code",
   "execution_count": 106,
   "id": "a7c81bea-63cf-45bb-a753-e36fef4600d5",
   "metadata": {},
   "outputs": [
    {
     "name": "stdout",
     "output_type": "stream",
     "text": [
      "**Title:** Vegetable Dumplings with Spicy Foam\n",
      "\n",
      "**Ingredients:**\n",
      "- 1 cup of dumpling wrappers\n",
      "- 1 cup of mixed vegetables (e.g., cabbage, carrots, bell peppers)\n",
      "- 1 tablespoon of light soy sauce (or tamari for gluten-free)\n",
      "- 1 tablespoon of sesame oil\n",
      "- 1 tablespoon of rice wine vinegar\n",
      "- 1 teaspoon of grated ginger\n",
      "- 1 clove of garlic, minced\n",
      "- Salt and pepper to taste\n",
      "- 1 bunch of scallions\n",
      "- 1 tablespoon of osetra caviar (ensure it's fish-free)\n",
      "- 1 can of coconut cream\n",
      "- 1 teaspoon of sriracha or other spicy sauce (ensure it's fish-free)\n",
      "\n",
      "**Instructions:**\n",
      "1. Finely chop the mixed vegetables and place them in a bowl.\n",
      "2. Add soy sauce, sesame oil, rice wine vinegar, ginger, and garlic to the bowl. Mix well.\n",
      "3. Season the mixture with salt and pepper.\n",
      "4. Place a tablespoon of the vegetable mixture in the center of each dumpling wrapper.\n",
      "5. Fold the dumpling wrapper in half and seal the edges, ensuring no filling escapes.\n",
      "6. Steam the dumplings for about 8-10 minutes or until they are cooked through.\n",
      "7. While the dumplings are steaming, chop the scallions.\n",
      "8. In a blender, combine coconut cream and sriracha. Blend until foamy.\n",
      "9. Lay scallions across each plate.\n",
      "10. Place the dumplings on the plates.\n",
      "11. Top the dumplings with osetra caviar.\n",
      "12. Serve with the spicy foam on the side.\n",
      "\n",
      "Please note that while I've done my best to ensure this recipe is free from fish and crustacean, it's always important to check the labels of your ingredients to ensure they meet your dietary needs.\n"
     ]
    }
   ],
   "source": [
    "print(result['result'])"
   ]
  },
  {
   "cell_type": "markdown",
   "id": "1ce6ce56-7eb8-44e0-b723-4245c00d85db",
   "metadata": {},
   "source": [
    "<font size=\"6\">RAGAS Evaluation</font> "
   ]
  },
  {
   "cell_type": "code",
   "execution_count": 62,
   "id": "64b0fc35-7332-4a16-8740-f91da7f8aa57",
   "metadata": {},
   "outputs": [
    {
     "name": "stdout",
     "output_type": "stream",
     "text": [
      "Collecting pydantic==2.8\n",
      "  Using cached pydantic-2.8.0-py3-none-any.whl.metadata (123 kB)\n",
      "Requirement already satisfied: annotated-types>=0.4.0 in /opt/conda/lib/python3.11/site-packages (from pydantic==2.8) (0.7.0)\n",
      "Collecting pydantic-core==2.20.0 (from pydantic==2.8)\n",
      "  Using cached pydantic_core-2.20.0-cp311-cp311-manylinux_2_17_x86_64.manylinux2014_x86_64.whl.metadata (6.6 kB)\n",
      "Requirement already satisfied: typing-extensions>=4.6.1 in /opt/conda/lib/python3.11/site-packages (from pydantic==2.8) (4.12.2)\n",
      "Using cached pydantic-2.8.0-py3-none-any.whl (423 kB)\n",
      "Using cached pydantic_core-2.20.0-cp311-cp311-manylinux_2_17_x86_64.manylinux2014_x86_64.whl (2.1 MB)\n",
      "Installing collected packages: pydantic-core, pydantic\n",
      "  Attempting uninstall: pydantic-core\n",
      "    Found existing installation: pydantic_core 2.18.4\n",
      "    Uninstalling pydantic_core-2.18.4:\n",
      "      Successfully uninstalled pydantic_core-2.18.4\n",
      "  Attempting uninstall: pydantic\n",
      "    Found existing installation: pydantic 1.10.17\n",
      "    Uninstalling pydantic-1.10.17:\n",
      "      Successfully uninstalled pydantic-1.10.17\n",
      "Successfully installed pydantic-2.7.3 pydantic-core-2.20.0\n"
     ]
    }
   ],
   "source": [
    "!pip install pydantic==2.8"
   ]
  },
  {
   "cell_type": "code",
   "execution_count": 63,
   "id": "ba83ae18-5312-44bd-88af-1d06ea91330f",
   "metadata": {},
   "outputs": [
    {
     "name": "stdout",
     "output_type": "stream",
     "text": [
      "Collecting ragas\n",
      "  Downloading ragas-0.2.2-py3-none-any.whl.metadata (7.9 kB)\n",
      "Requirement already satisfied: numpy in /opt/conda/lib/python3.11/site-packages (from ragas) (1.26.4)\n",
      "Requirement already satisfied: datasets in /opt/conda/lib/python3.11/site-packages (from ragas) (2.21.0)\n",
      "Collecting tiktoken (from ragas)\n",
      "  Downloading tiktoken-0.8.0-cp311-cp311-manylinux_2_17_x86_64.manylinux2014_x86_64.whl.metadata (6.6 kB)\n",
      "Requirement already satisfied: langchain in /opt/conda/lib/python3.11/site-packages (from ragas) (0.1.14)\n",
      "Requirement already satisfied: langchain-core in /opt/conda/lib/python3.11/site-packages (from ragas) (0.1.52)\n",
      "Requirement already satisfied: langchain-community in /opt/conda/lib/python3.11/site-packages (from ragas) (0.0.38)\n",
      "Collecting langchain-openai (from ragas)\n",
      "  Downloading langchain_openai-0.2.3-py3-none-any.whl.metadata (2.6 kB)\n",
      "Requirement already satisfied: nest-asyncio in /opt/conda/lib/python3.11/site-packages (from ragas) (1.6.0)\n",
      "Collecting appdirs (from ragas)\n",
      "  Downloading appdirs-1.4.4-py2.py3-none-any.whl.metadata (9.0 kB)\n",
      "Requirement already satisfied: pydantic>=2 in /opt/conda/lib/python3.11/site-packages (from ragas) (2.7.3)\n",
      "Collecting openai>1 (from ragas)\n",
      "  Downloading openai-1.52.2-py3-none-any.whl.metadata (24 kB)\n",
      "Collecting pysbd>=0.3.4 (from ragas)\n",
      "  Downloading pysbd-0.3.4-py3-none-any.whl.metadata (6.1 kB)\n",
      "Requirement already satisfied: anyio<5,>=3.5.0 in /opt/conda/lib/python3.11/site-packages (from openai>1->ragas) (4.4.0)\n",
      "Requirement already satisfied: distro<2,>=1.7.0 in /opt/conda/lib/python3.11/site-packages (from openai>1->ragas) (1.9.0)\n",
      "Requirement already satisfied: httpx<1,>=0.23.0 in /opt/conda/lib/python3.11/site-packages (from openai>1->ragas) (0.27.0)\n",
      "Collecting jiter<1,>=0.4.0 (from openai>1->ragas)\n",
      "  Downloading jiter-0.6.1-cp311-cp311-manylinux_2_17_x86_64.manylinux2014_x86_64.whl.metadata (5.2 kB)\n",
      "Requirement already satisfied: sniffio in /opt/conda/lib/python3.11/site-packages (from openai>1->ragas) (1.3.1)\n",
      "Requirement already satisfied: tqdm>4 in /opt/conda/lib/python3.11/site-packages (from openai>1->ragas) (4.66.5)\n",
      "Requirement already satisfied: typing-extensions<5,>=4.11 in /opt/conda/lib/python3.11/site-packages (from openai>1->ragas) (4.12.2)\n",
      "Requirement already satisfied: annotated-types>=0.4.0 in /opt/conda/lib/python3.11/site-packages (from pydantic>=2->ragas) (0.7.0)\n",
      "Collecting pydantic-core==2.18.4 (from pydantic>=2->ragas)\n",
      "  Downloading pydantic_core-2.18.4-cp311-cp311-manylinux_2_17_x86_64.manylinux2014_x86_64.whl.metadata (6.5 kB)\n",
      "Requirement already satisfied: filelock in /opt/conda/lib/python3.11/site-packages (from datasets->ragas) (3.15.4)\n",
      "Requirement already satisfied: pyarrow>=15.0.0 in /opt/conda/lib/python3.11/site-packages (from datasets->ragas) (15.0.2)\n",
      "Requirement already satisfied: dill<0.3.9,>=0.3.0 in /opt/conda/lib/python3.11/site-packages (from datasets->ragas) (0.3.8)\n",
      "Requirement already satisfied: pandas in /opt/conda/lib/python3.11/site-packages (from datasets->ragas) (2.2.2)\n",
      "Requirement already satisfied: requests>=2.32.2 in /opt/conda/lib/python3.11/site-packages (from datasets->ragas) (2.32.3)\n",
      "Requirement already satisfied: xxhash in /opt/conda/lib/python3.11/site-packages (from datasets->ragas) (3.5.0)\n",
      "Requirement already satisfied: multiprocess in /opt/conda/lib/python3.11/site-packages (from datasets->ragas) (0.70.16)\n",
      "Requirement already satisfied: fsspec<=2024.6.1,>=2023.1.0 in /opt/conda/lib/python3.11/site-packages (from fsspec[http]<=2024.6.1,>=2023.1.0->datasets->ragas) (2023.6.0)\n",
      "Requirement already satisfied: aiohttp in /opt/conda/lib/python3.11/site-packages (from datasets->ragas) (3.9.5)\n",
      "Requirement already satisfied: huggingface-hub>=0.21.2 in /opt/conda/lib/python3.11/site-packages (from datasets->ragas) (0.24.5)\n",
      "Requirement already satisfied: packaging in /opt/conda/lib/python3.11/site-packages (from datasets->ragas) (23.2)\n",
      "Requirement already satisfied: pyyaml>=5.1 in /opt/conda/lib/python3.11/site-packages (from datasets->ragas) (6.0.2)\n",
      "Requirement already satisfied: SQLAlchemy<3,>=1.4 in /opt/conda/lib/python3.11/site-packages (from langchain->ragas) (2.0.29)\n",
      "Requirement already satisfied: dataclasses-json<0.7,>=0.5.7 in /opt/conda/lib/python3.11/site-packages (from langchain->ragas) (0.6.7)\n",
      "Requirement already satisfied: jsonpatch<2.0,>=1.33 in /opt/conda/lib/python3.11/site-packages (from langchain->ragas) (1.33)\n",
      "Requirement already satisfied: langchain-text-splitters<0.1,>=0.0.1 in /opt/conda/lib/python3.11/site-packages (from langchain->ragas) (0.0.2)\n",
      "Requirement already satisfied: langsmith<0.2.0,>=0.1.17 in /opt/conda/lib/python3.11/site-packages (from langchain->ragas) (0.1.99)\n",
      "Requirement already satisfied: tenacity<9.0.0,>=8.1.0 in /opt/conda/lib/python3.11/site-packages (from langchain->ragas) (8.5.0)\n",
      "INFO: pip is looking at multiple versions of langchain-openai to determine which version is compatible with other requirements. This could take a while.\n",
      "Collecting langchain-openai (from ragas)\n",
      "  Downloading langchain_openai-0.2.2-py3-none-any.whl.metadata (2.6 kB)\n",
      "  Downloading langchain_openai-0.2.1-py3-none-any.whl.metadata (2.6 kB)\n",
      "  Downloading langchain_openai-0.2.0-py3-none-any.whl.metadata (2.6 kB)\n",
      "  Downloading langchain_openai-0.1.25-py3-none-any.whl.metadata (2.6 kB)\n",
      "  Downloading langchain_openai-0.1.24-py3-none-any.whl.metadata (2.6 kB)\n",
      "  Downloading langchain_openai-0.1.23-py3-none-any.whl.metadata (2.6 kB)\n",
      "  Downloading langchain_openai-0.1.22-py3-none-any.whl.metadata (2.6 kB)\n",
      "INFO: pip is still looking at multiple versions of langchain-openai to determine which version is compatible with other requirements. This could take a while.\n",
      "  Downloading langchain_openai-0.1.20-py3-none-any.whl.metadata (2.6 kB)\n",
      "  Downloading langchain_openai-0.1.19-py3-none-any.whl.metadata (2.6 kB)\n",
      "  Downloading langchain_openai-0.1.17-py3-none-any.whl.metadata (2.5 kB)\n",
      "  Downloading langchain_openai-0.1.16-py3-none-any.whl.metadata (2.5 kB)\n",
      "  Downloading langchain_openai-0.1.15-py3-none-any.whl.metadata (2.5 kB)\n",
      "INFO: This is taking longer than usual. You might need to provide the dependency resolver with stricter constraints to reduce runtime. See https://pip.pypa.io/warnings/backtracking for guidance. If you want to abort this run, press Ctrl + C.\n",
      "  Downloading langchain_openai-0.1.14-py3-none-any.whl.metadata (2.5 kB)\n",
      "  Downloading langchain_openai-0.1.13-py3-none-any.whl.metadata (2.5 kB)\n",
      "  Downloading langchain_openai-0.1.12-py3-none-any.whl.metadata (2.5 kB)\n",
      "  Downloading langchain_openai-0.1.11-py3-none-any.whl.metadata (2.5 kB)\n",
      "  Downloading langchain_openai-0.1.10-py3-none-any.whl.metadata (2.5 kB)\n",
      "  Downloading langchain_openai-0.1.9-py3-none-any.whl.metadata (2.5 kB)\n",
      "  Downloading langchain_openai-0.1.8-py3-none-any.whl.metadata (2.5 kB)\n",
      "  Downloading langchain_openai-0.1.7-py3-none-any.whl.metadata (2.5 kB)\n",
      "Requirement already satisfied: regex>=2022.1.18 in /opt/conda/lib/python3.11/site-packages (from tiktoken->ragas) (2024.7.24)\n",
      "Requirement already satisfied: aiosignal>=1.1.2 in /opt/conda/lib/python3.11/site-packages (from aiohttp->datasets->ragas) (1.3.1)\n",
      "Requirement already satisfied: attrs>=17.3.0 in /opt/conda/lib/python3.11/site-packages (from aiohttp->datasets->ragas) (23.2.0)\n",
      "Requirement already satisfied: frozenlist>=1.1.1 in /opt/conda/lib/python3.11/site-packages (from aiohttp->datasets->ragas) (1.4.1)\n",
      "Requirement already satisfied: multidict<7.0,>=4.5 in /opt/conda/lib/python3.11/site-packages (from aiohttp->datasets->ragas) (6.0.5)\n",
      "Requirement already satisfied: yarl<2.0,>=1.0 in /opt/conda/lib/python3.11/site-packages (from aiohttp->datasets->ragas) (1.9.4)\n",
      "Requirement already satisfied: idna>=2.8 in /opt/conda/lib/python3.11/site-packages (from anyio<5,>=3.5.0->openai>1->ragas) (3.7)\n",
      "Requirement already satisfied: marshmallow<4.0.0,>=3.18.0 in /opt/conda/lib/python3.11/site-packages (from dataclasses-json<0.7,>=0.5.7->langchain->ragas) (3.21.3)\n",
      "Requirement already satisfied: typing-inspect<1,>=0.4.0 in /opt/conda/lib/python3.11/site-packages (from dataclasses-json<0.7,>=0.5.7->langchain->ragas) (0.9.0)\n",
      "Requirement already satisfied: certifi in /opt/conda/lib/python3.11/site-packages (from httpx<1,>=0.23.0->openai>1->ragas) (2024.7.4)\n",
      "Requirement already satisfied: httpcore==1.* in /opt/conda/lib/python3.11/site-packages (from httpx<1,>=0.23.0->openai>1->ragas) (1.0.5)\n",
      "Requirement already satisfied: h11<0.15,>=0.13 in /opt/conda/lib/python3.11/site-packages (from httpcore==1.*->httpx<1,>=0.23.0->openai>1->ragas) (0.14.0)\n",
      "Requirement already satisfied: jsonpointer>=1.9 in /opt/conda/lib/python3.11/site-packages (from jsonpatch<2.0,>=1.33->langchain->ragas) (3.0.0)\n",
      "Requirement already satisfied: orjson<4.0.0,>=3.9.14 in /opt/conda/lib/python3.11/site-packages (from langsmith<0.2.0,>=0.1.17->langchain->ragas) (3.10.7)\n",
      "Requirement already satisfied: charset-normalizer<4,>=2 in /opt/conda/lib/python3.11/site-packages (from requests>=2.32.2->datasets->ragas) (3.3.2)\n",
      "Requirement already satisfied: urllib3<3,>=1.21.1 in /opt/conda/lib/python3.11/site-packages (from requests>=2.32.2->datasets->ragas) (1.26.19)\n",
      "Requirement already satisfied: greenlet!=0.4.17 in /opt/conda/lib/python3.11/site-packages (from SQLAlchemy<3,>=1.4->langchain->ragas) (3.0.3)\n",
      "Requirement already satisfied: python-dateutil>=2.8.2 in /opt/conda/lib/python3.11/site-packages (from pandas->datasets->ragas) (2.9.0)\n",
      "Requirement already satisfied: pytz>=2020.1 in /opt/conda/lib/python3.11/site-packages (from pandas->datasets->ragas) (2023.3)\n",
      "Requirement already satisfied: tzdata>=2022.7 in /opt/conda/lib/python3.11/site-packages (from pandas->datasets->ragas) (2024.1)\n",
      "Requirement already satisfied: six>=1.5 in /opt/conda/lib/python3.11/site-packages (from python-dateutil>=2.8.2->pandas->datasets->ragas) (1.16.0)\n",
      "Requirement already satisfied: mypy-extensions>=0.3.0 in /opt/conda/lib/python3.11/site-packages (from typing-inspect<1,>=0.4.0->dataclasses-json<0.7,>=0.5.7->langchain->ragas) (1.0.0)\n",
      "Downloading ragas-0.2.2-py3-none-any.whl (135 kB)\n",
      "Downloading openai-1.52.2-py3-none-any.whl (386 kB)\n",
      "Downloading pydantic_core-2.18.4-cp311-cp311-manylinux_2_17_x86_64.manylinux2014_x86_64.whl (2.0 MB)\n",
      "\u001b[2K   \u001b[90m━━━━━━━━━━━━━━━━━━━━━━━━━━━━━━━━━━━━━━━━\u001b[0m \u001b[32m2.0/2.0 MB\u001b[0m \u001b[31m116.3 MB/s\u001b[0m eta \u001b[36m0:00:00\u001b[0m\n",
      "\u001b[?25hDownloading pysbd-0.3.4-py3-none-any.whl (71 kB)\n",
      "Downloading appdirs-1.4.4-py2.py3-none-any.whl (9.6 kB)\n",
      "Downloading langchain_openai-0.1.7-py3-none-any.whl (34 kB)\n",
      "Downloading tiktoken-0.8.0-cp311-cp311-manylinux_2_17_x86_64.manylinux2014_x86_64.whl (1.2 MB)\n",
      "\u001b[2K   \u001b[90m━━━━━━━━━━━━━━━━━━━━━━━━━━━━━━━━━━━━━━━━\u001b[0m \u001b[32m1.2/1.2 MB\u001b[0m \u001b[31m65.5 MB/s\u001b[0m eta \u001b[36m0:00:00\u001b[0m\n",
      "\u001b[?25hDownloading jiter-0.6.1-cp311-cp311-manylinux_2_17_x86_64.manylinux2014_x86_64.whl (325 kB)\n",
      "Installing collected packages: appdirs, pysbd, pydantic-core, jiter, tiktoken, openai, langchain-openai, ragas\n",
      "  Attempting uninstall: pydantic-core\n",
      "    Found existing installation: pydantic_core 2.20.0\n",
      "    Uninstalling pydantic_core-2.20.0:\n",
      "      Successfully uninstalled pydantic_core-2.20.0\n",
      "Successfully installed appdirs-1.4.4 jiter-0.6.1 langchain-openai-0.1.7 openai-1.52.2 pydantic-core-2.18.4 pysbd-0.3.4 ragas-0.2.2 tiktoken-0.8.0\n"
     ]
    }
   ],
   "source": [
    "!pip install ragas"
   ]
  },
  {
   "cell_type": "code",
   "execution_count": 156,
   "id": "8ee126cc-ec27-4bd1-a0f7-cc43df15c435",
   "metadata": {
    "scrolled": true
   },
   "outputs": [
    {
     "ename": "ImportError",
     "evalue": "cannot import name 'field_validator' from 'pydantic' (/opt/conda/lib/python3.11/site-packages/pydantic/__init__.cpython-311-x86_64-linux-gnu.so)",
     "output_type": "error",
     "traceback": [
      "\u001b[0;31m---------------------------------------------------------------------------\u001b[0m",
      "\u001b[0;31mImportError\u001b[0m                               Traceback (most recent call last)",
      "Cell \u001b[0;32mIn[156], line 1\u001b[0m\n\u001b[0;32m----> 1\u001b[0m \u001b[38;5;28;01mimport\u001b[39;00m \u001b[38;5;21;01mragas\u001b[39;00m\n\u001b[1;32m      2\u001b[0m \u001b[38;5;28;01mfrom\u001b[39;00m \u001b[38;5;21;01mdatasets\u001b[39;00m \u001b[38;5;28;01mimport\u001b[39;00m Dataset\n\u001b[1;32m      3\u001b[0m \u001b[38;5;66;03m# os.environ[\"OPENAI_API_KEY\"] = userdata.get('OPENAI_API_KEY')\u001b[39;00m\n",
      "File \u001b[0;32m/opt/conda/lib/python3.11/site-packages/ragas/__init__.py:1\u001b[0m\n\u001b[0;32m----> 1\u001b[0m \u001b[38;5;28;01mfrom\u001b[39;00m \u001b[38;5;21;01mragas\u001b[39;00m\u001b[38;5;21;01m.\u001b[39;00m\u001b[38;5;21;01mdataset_schema\u001b[39;00m \u001b[38;5;28;01mimport\u001b[39;00m EvaluationDataset, MultiTurnSample, SingleTurnSample\n\u001b[1;32m      2\u001b[0m \u001b[38;5;28;01mfrom\u001b[39;00m \u001b[38;5;21;01mragas\u001b[39;00m\u001b[38;5;21;01m.\u001b[39;00m\u001b[38;5;21;01mevaluation\u001b[39;00m \u001b[38;5;28;01mimport\u001b[39;00m evaluate\n\u001b[1;32m      3\u001b[0m \u001b[38;5;28;01mfrom\u001b[39;00m \u001b[38;5;21;01mragas\u001b[39;00m\u001b[38;5;21;01m.\u001b[39;00m\u001b[38;5;21;01mrun_config\u001b[39;00m \u001b[38;5;28;01mimport\u001b[39;00m RunConfig\n",
      "File \u001b[0;32m/opt/conda/lib/python3.11/site-packages/ragas/dataset_schema.py:9\u001b[0m\n\u001b[1;32m      6\u001b[0m \u001b[38;5;28;01mfrom\u001b[39;00m \u001b[38;5;21;01mdataclasses\u001b[39;00m \u001b[38;5;28;01mimport\u001b[39;00m dataclass, field\n\u001b[1;32m      8\u001b[0m \u001b[38;5;28;01mfrom\u001b[39;00m \u001b[38;5;21;01mdatasets\u001b[39;00m \u001b[38;5;28;01mimport\u001b[39;00m Dataset \u001b[38;5;28;01mas\u001b[39;00m HFDataset\n\u001b[0;32m----> 9\u001b[0m \u001b[38;5;28;01mfrom\u001b[39;00m \u001b[38;5;21;01mpydantic\u001b[39;00m \u001b[38;5;28;01mimport\u001b[39;00m BaseModel, field_validator\n\u001b[1;32m     11\u001b[0m \u001b[38;5;28;01mfrom\u001b[39;00m \u001b[38;5;21;01mragas\u001b[39;00m\u001b[38;5;21;01m.\u001b[39;00m\u001b[38;5;21;01mcost\u001b[39;00m \u001b[38;5;28;01mimport\u001b[39;00m CostCallbackHandler\n\u001b[1;32m     12\u001b[0m \u001b[38;5;28;01mfrom\u001b[39;00m \u001b[38;5;21;01mragas\u001b[39;00m\u001b[38;5;21;01m.\u001b[39;00m\u001b[38;5;21;01mmessages\u001b[39;00m \u001b[38;5;28;01mimport\u001b[39;00m AIMessage, HumanMessage, ToolCall, ToolMessage\n",
      "\u001b[0;31mImportError\u001b[0m: cannot import name 'field_validator' from 'pydantic' (/opt/conda/lib/python3.11/site-packages/pydantic/__init__.cpython-311-x86_64-linux-gnu.so)"
     ]
    }
   ],
   "source": [
    "import ragas\n",
    "from datasets import Dataset\n",
    "# os.environ[\"OPENAI_API_KEY\"] = userdata.get('OPENAI_API_KEY')\n",
    "from ragas.metrics import (\n",
    "    faithfulness,\n",
    "    answer_relevancy,\n",
    "    context_precision\n",
    ")"
   ]
  },
  {
   "cell_type": "code",
   "execution_count": 154,
   "id": "ec4697ba-c398-4787-b7c5-01d7887ee23b",
   "metadata": {},
   "outputs": [
    {
     "ename": "NameError",
     "evalue": "name 'Dataset' is not defined",
     "output_type": "error",
     "traceback": [
      "\u001b[0;31m---------------------------------------------------------------------------\u001b[0m",
      "\u001b[0;31mNameError\u001b[0m                                 Traceback (most recent call last)",
      "Cell \u001b[0;32mIn[154], line 14\u001b[0m\n\u001b[1;32m      6\u001b[0m \u001b[38;5;66;03m# contexts = [ast.literal_eval(item) for item in contexts] # to make it a list of lists for Ragas\u001b[39;00m\n\u001b[1;32m      8\u001b[0m data \u001b[38;5;241m=\u001b[39m {\n\u001b[1;32m      9\u001b[0m     \u001b[38;5;124m\"\u001b[39m\u001b[38;5;124mquestion\u001b[39m\u001b[38;5;124m\"\u001b[39m: questions,\n\u001b[1;32m     10\u001b[0m     \u001b[38;5;124m\"\u001b[39m\u001b[38;5;124manswer\u001b[39m\u001b[38;5;124m\"\u001b[39m: answer,\n\u001b[1;32m     11\u001b[0m     \u001b[38;5;66;03m# \"contexts\": contexts,\u001b[39;00m\n\u001b[1;32m     12\u001b[0m }\n\u001b[0;32m---> 14\u001b[0m dataset \u001b[38;5;241m=\u001b[39m \u001b[43mDataset\u001b[49m\u001b[38;5;241m.\u001b[39mfrom_dict(data)\n\u001b[1;32m     15\u001b[0m dataset\n",
      "\u001b[0;31mNameError\u001b[0m: name 'Dataset' is not defined"
     ]
    }
   ],
   "source": [
    "questions = [query] #Ragas only takes lists\n",
    "# contexts = result['source_documents']\n",
    "answer = [result['result']]\n",
    "\n",
    "import ast\n",
    "# contexts = [ast.literal_eval(item) for item in contexts] # to make it a list of lists for Ragas\n",
    "\n",
    "data = {\n",
    "    \"question\": questions,\n",
    "    \"answer\": answer,\n",
    "    # \"contexts\": contexts,\n",
    "}\n",
    "\n",
    "dataset = Dataset.from_dict(data)\n",
    "dataset"
   ]
  },
  {
   "cell_type": "code",
   "execution_count": null,
   "id": "88f24ab4-d332-4dc4-866d-bd8aeb27e3a4",
   "metadata": {},
   "outputs": [],
   "source": [
    "score = ragas.evaluate(dataset,metrics=[answer_relevancy], raise_exceptions = False)\n",
    "score"
   ]
  }
 ],
 "metadata": {
  "colab": {
   "provenance": []
  },
  "kernelspec": {
   "display_name": "Python 3 (ipykernel)",
   "language": "python",
   "name": "python3"
  },
  "language_info": {
   "codemirror_mode": {
    "name": "ipython",
    "version": 3
   },
   "file_extension": ".py",
   "mimetype": "text/x-python",
   "name": "python",
   "nbconvert_exporter": "python",
   "pygments_lexer": "ipython3",
   "version": "3.11.9"
  }
 },
 "nbformat": 4,
 "nbformat_minor": 5
}
