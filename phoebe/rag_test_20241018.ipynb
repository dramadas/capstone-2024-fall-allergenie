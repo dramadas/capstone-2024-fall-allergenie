{
  "cells": [
    {
      "cell_type": "markdown",
      "source": [
        "**Resource:** https://github.com/aws-samples/Meta-Llama-on-AWS/blob/main/RAG-recipes/llama3-rag-langchain-smjs.ipynb"
      ],
      "metadata": {
        "id": "J9y86_KPlUm6"
      },
      "id": "J9y86_KPlUm6"
    },
    {
      "cell_type": "markdown",
      "source": [
        "* Embedding Model Used: *HuggingFace BGE Large EN Embedding model*\n",
        "* LLM Used: *HuggingFace Llama 3 8b Instruct LLM model*"
      ],
      "metadata": {
        "id": "lLuKPKGulaE7"
      },
      "id": "lLuKPKGulaE7"
    },
    {
      "cell_type": "code",
      "execution_count": null,
      "id": "7669e00e-f81b-4054-b7c7-dbf208dd3c7a",
      "metadata": {
        "id": "7669e00e-f81b-4054-b7c7-dbf208dd3c7a",
        "outputId": "59d7c039-b20b-4433-c1f5-543dcb6a6ea0"
      },
      "outputs": [
        {
          "name": "stdout",
          "output_type": "stream",
          "text": [
            "Overwriting requirements.txt\n"
          ]
        }
      ],
      "source": [
        "%%writefile requirements.txt\n",
        "langchain==0.1.14\n",
        "pypdf==4.1.0\n",
        "faiss-cpu==1.8.0\n",
        "boto3==1.34.58\n",
        "sqlalchemy==2.0.29"
      ]
    },
    {
      "cell_type": "code",
      "execution_count": null,
      "id": "ce21f73c-4334-4d0c-9cbd-f9502a44fb96",
      "metadata": {
        "id": "ce21f73c-4334-4d0c-9cbd-f9502a44fb96",
        "outputId": "7b92100a-28dc-418d-c1be-309e9b4b487d"
      },
      "outputs": [
        {
          "name": "stdout",
          "output_type": "stream",
          "text": [
            "2.0.29\n"
          ]
        }
      ],
      "source": [
        "import sqlalchemy\n",
        "print(sqlalchemy.__version__)"
      ]
    },
    {
      "cell_type": "code",
      "execution_count": null,
      "id": "755e8bfb-b5d7-4f27-9561-ecd91f3397bf",
      "metadata": {
        "id": "755e8bfb-b5d7-4f27-9561-ecd91f3397bf",
        "outputId": "bfbbac69-0c30-4f48-c029-e840b9c9933a"
      },
      "outputs": [
        {
          "name": "stdout",
          "output_type": "stream",
          "text": [
            "Requirement already satisfied: nvidia-ml-py3==7.352.0 in /opt/conda/lib/python3.11/site-packages (7.352.0)\n",
            "Note: you may need to restart the kernel to use updated packages.\n"
          ]
        }
      ],
      "source": [
        "pip install nvidia-ml-py3==7.352.0"
      ]
    },
    {
      "cell_type": "code",
      "execution_count": null,
      "id": "2fede8f3-4749-47fa-8905-89487c720eb1",
      "metadata": {
        "id": "2fede8f3-4749-47fa-8905-89487c720eb1",
        "outputId": "9e7879a8-277f-46be-9dce-53b03de83d6f"
      },
      "outputs": [
        {
          "name": "stdout",
          "output_type": "stream",
          "text": [
            "Requirement already satisfied: sqlparse==0.5.0 in /opt/conda/lib/python3.11/site-packages (0.5.0)\n",
            "Note: you may need to restart the kernel to use updated packages.\n"
          ]
        }
      ],
      "source": [
        "pip install sqlparse==0.5.0"
      ]
    },
    {
      "cell_type": "code",
      "execution_count": null,
      "id": "381349fb-f83e-4d62-b00b-0404204fb4ff",
      "metadata": {
        "id": "381349fb-f83e-4d62-b00b-0404204fb4ff",
        "outputId": "e8b912b4-4c64-40cc-e374-9e072b9ba61d"
      },
      "outputs": [
        {
          "name": "stdout",
          "output_type": "stream",
          "text": [
            "Requirement already satisfied: scikit-learn==1.3.0 in /opt/conda/lib/python3.11/site-packages (1.3.0)\n",
            "Requirement already satisfied: numpy>=1.17.3 in /opt/conda/lib/python3.11/site-packages (from scikit-learn==1.3.0) (1.26.4)\n",
            "Requirement already satisfied: scipy>=1.5.0 in /opt/conda/lib/python3.11/site-packages (from scikit-learn==1.3.0) (1.12.0)\n",
            "Requirement already satisfied: joblib>=1.1.1 in /opt/conda/lib/python3.11/site-packages (from scikit-learn==1.3.0) (1.4.2)\n",
            "Requirement already satisfied: threadpoolctl>=2.0.0 in /opt/conda/lib/python3.11/site-packages (from scikit-learn==1.3.0) (3.5.0)\n",
            "Note: you may need to restart the kernel to use updated packages.\n"
          ]
        }
      ],
      "source": [
        "pip install scikit-learn==1.3.0"
      ]
    },
    {
      "cell_type": "code",
      "execution_count": null,
      "id": "28ecaeec-934a-44e5-909c-fa3606b3f97e",
      "metadata": {
        "id": "28ecaeec-934a-44e5-909c-fa3606b3f97e",
        "outputId": "cc86bc94-9377-453d-b212-e5c6ba186497"
      },
      "outputs": [
        {
          "name": "stdout",
          "output_type": "stream",
          "text": [
            "Requirement already satisfied: omegaconf==2.2.3 in /opt/conda/lib/python3.11/site-packages (2.2.3)\n",
            "Requirement already satisfied: antlr4-python3-runtime==4.9.* in /opt/conda/lib/python3.11/site-packages (from omegaconf==2.2.3) (4.9.3)\n",
            "Requirement already satisfied: PyYAML>=5.1.0 in /opt/conda/lib/python3.11/site-packages (from omegaconf==2.2.3) (6.0.2)\n",
            "Note: you may need to restart the kernel to use updated packages.\n"
          ]
        }
      ],
      "source": [
        "pip install omegaconf==2.2.3"
      ]
    },
    {
      "cell_type": "code",
      "execution_count": null,
      "id": "58c5f5d9-6e4c-4652-896f-0620fe868df9",
      "metadata": {
        "id": "58c5f5d9-6e4c-4652-896f-0620fe868df9",
        "outputId": "b22f02ab-ba73-49ad-c3d8-2ffeb37067a4"
      },
      "outputs": [
        {
          "name": "stdout",
          "output_type": "stream",
          "text": [
            "Requirement already satisfied: gluonts==0.15.1 in /opt/conda/lib/python3.11/site-packages (0.15.1)\n",
            "Requirement already satisfied: numpy~=1.16 in /opt/conda/lib/python3.11/site-packages (from gluonts==0.15.1) (1.26.4)\n",
            "Requirement already satisfied: pandas<3,>=1.0 in /opt/conda/lib/python3.11/site-packages (from gluonts==0.15.1) (1.5.3)\n",
            "Requirement already satisfied: pydantic<3,>=1.7 in /opt/conda/lib/python3.11/site-packages (from gluonts==0.15.1) (1.10.17)\n",
            "Requirement already satisfied: tqdm~=4.23 in /opt/conda/lib/python3.11/site-packages (from gluonts==0.15.1) (4.66.5)\n",
            "Requirement already satisfied: toolz~=0.10 in /opt/conda/lib/python3.11/site-packages (from gluonts==0.15.1) (0.12.1)\n",
            "Requirement already satisfied: typing-extensions~=4.0 in /opt/conda/lib/python3.11/site-packages (from gluonts==0.15.1) (4.12.2)\n",
            "Requirement already satisfied: python-dateutil>=2.8.1 in /opt/conda/lib/python3.11/site-packages (from pandas<3,>=1.0->gluonts==0.15.1) (2.9.0)\n",
            "Requirement already satisfied: pytz>=2020.1 in /opt/conda/lib/python3.11/site-packages (from pandas<3,>=1.0->gluonts==0.15.1) (2023.3)\n",
            "Requirement already satisfied: six>=1.5 in /opt/conda/lib/python3.11/site-packages (from python-dateutil>=2.8.1->pandas<3,>=1.0->gluonts==0.15.1) (1.16.0)\n",
            "Note: you may need to restart the kernel to use updated packages.\n"
          ]
        }
      ],
      "source": [
        "pip install gluonts==0.15.1"
      ]
    },
    {
      "cell_type": "code",
      "execution_count": null,
      "id": "5101aaa5-ca70-4840-b647-133cf2bd3274",
      "metadata": {
        "id": "5101aaa5-ca70-4840-b647-133cf2bd3274",
        "outputId": "e22cf26a-e7cd-4b57-e6a7-d6ee4f8e9d91"
      },
      "outputs": [
        {
          "name": "stdout",
          "output_type": "stream",
          "text": [
            "Requirement already satisfied: langchain==0.1.14 in /opt/conda/lib/python3.11/site-packages (0.1.14)\n",
            "Requirement already satisfied: PyYAML>=5.3 in /opt/conda/lib/python3.11/site-packages (from langchain==0.1.14) (6.0.2)\n",
            "Requirement already satisfied: SQLAlchemy<3,>=1.4 in /opt/conda/lib/python3.11/site-packages (from langchain==0.1.14) (2.0.29)\n",
            "Requirement already satisfied: aiohttp<4.0.0,>=3.8.3 in /opt/conda/lib/python3.11/site-packages (from langchain==0.1.14) (3.9.5)\n",
            "Requirement already satisfied: dataclasses-json<0.7,>=0.5.7 in /opt/conda/lib/python3.11/site-packages (from langchain==0.1.14) (0.6.7)\n",
            "Requirement already satisfied: jsonpatch<2.0,>=1.33 in /opt/conda/lib/python3.11/site-packages (from langchain==0.1.14) (1.33)\n",
            "Requirement already satisfied: langchain-community<0.1,>=0.0.30 in /opt/conda/lib/python3.11/site-packages (from langchain==0.1.14) (0.0.38)\n",
            "Requirement already satisfied: langchain-core<0.2.0,>=0.1.37 in /opt/conda/lib/python3.11/site-packages (from langchain==0.1.14) (0.1.52)\n",
            "Requirement already satisfied: langchain-text-splitters<0.1,>=0.0.1 in /opt/conda/lib/python3.11/site-packages (from langchain==0.1.14) (0.0.2)\n",
            "Requirement already satisfied: langsmith<0.2.0,>=0.1.17 in /opt/conda/lib/python3.11/site-packages (from langchain==0.1.14) (0.1.136)\n",
            "Requirement already satisfied: numpy<2,>=1 in /opt/conda/lib/python3.11/site-packages (from langchain==0.1.14) (1.26.4)\n",
            "Requirement already satisfied: pydantic<3,>=1 in /opt/conda/lib/python3.11/site-packages (from langchain==0.1.14) (1.10.17)\n",
            "Requirement already satisfied: requests<3,>=2 in /opt/conda/lib/python3.11/site-packages (from langchain==0.1.14) (2.32.3)\n",
            "Requirement already satisfied: tenacity<9.0.0,>=8.1.0 in /opt/conda/lib/python3.11/site-packages (from langchain==0.1.14) (8.5.0)\n",
            "Requirement already satisfied: aiosignal>=1.1.2 in /opt/conda/lib/python3.11/site-packages (from aiohttp<4.0.0,>=3.8.3->langchain==0.1.14) (1.3.1)\n",
            "Requirement already satisfied: attrs>=17.3.0 in /opt/conda/lib/python3.11/site-packages (from aiohttp<4.0.0,>=3.8.3->langchain==0.1.14) (23.2.0)\n",
            "Requirement already satisfied: frozenlist>=1.1.1 in /opt/conda/lib/python3.11/site-packages (from aiohttp<4.0.0,>=3.8.3->langchain==0.1.14) (1.4.1)\n",
            "Requirement already satisfied: multidict<7.0,>=4.5 in /opt/conda/lib/python3.11/site-packages (from aiohttp<4.0.0,>=3.8.3->langchain==0.1.14) (6.0.5)\n",
            "Requirement already satisfied: yarl<2.0,>=1.0 in /opt/conda/lib/python3.11/site-packages (from aiohttp<4.0.0,>=3.8.3->langchain==0.1.14) (1.9.4)\n",
            "Requirement already satisfied: marshmallow<4.0.0,>=3.18.0 in /opt/conda/lib/python3.11/site-packages (from dataclasses-json<0.7,>=0.5.7->langchain==0.1.14) (3.21.3)\n",
            "Requirement already satisfied: typing-inspect<1,>=0.4.0 in /opt/conda/lib/python3.11/site-packages (from dataclasses-json<0.7,>=0.5.7->langchain==0.1.14) (0.9.0)\n",
            "Requirement already satisfied: jsonpointer>=1.9 in /opt/conda/lib/python3.11/site-packages (from jsonpatch<2.0,>=1.33->langchain==0.1.14) (3.0.0)\n",
            "Requirement already satisfied: packaging<24.0,>=23.2 in /opt/conda/lib/python3.11/site-packages (from langchain-core<0.2.0,>=0.1.37->langchain==0.1.14) (23.2)\n",
            "Requirement already satisfied: httpx<1,>=0.23.0 in /opt/conda/lib/python3.11/site-packages (from langsmith<0.2.0,>=0.1.17->langchain==0.1.14) (0.27.0)\n",
            "Requirement already satisfied: orjson<4.0.0,>=3.9.14 in /opt/conda/lib/python3.11/site-packages (from langsmith<0.2.0,>=0.1.17->langchain==0.1.14) (3.10.7)\n",
            "Requirement already satisfied: requests-toolbelt<2.0.0,>=1.0.0 in /opt/conda/lib/python3.11/site-packages (from langsmith<0.2.0,>=0.1.17->langchain==0.1.14) (1.0.0)\n",
            "Requirement already satisfied: typing-extensions>=4.2.0 in /opt/conda/lib/python3.11/site-packages (from pydantic<3,>=1->langchain==0.1.14) (4.12.2)\n",
            "Requirement already satisfied: charset-normalizer<4,>=2 in /opt/conda/lib/python3.11/site-packages (from requests<3,>=2->langchain==0.1.14) (3.3.2)\n",
            "Requirement already satisfied: idna<4,>=2.5 in /opt/conda/lib/python3.11/site-packages (from requests<3,>=2->langchain==0.1.14) (3.7)\n",
            "Requirement already satisfied: urllib3<3,>=1.21.1 in /opt/conda/lib/python3.11/site-packages (from requests<3,>=2->langchain==0.1.14) (1.26.19)\n",
            "Requirement already satisfied: certifi>=2017.4.17 in /opt/conda/lib/python3.11/site-packages (from requests<3,>=2->langchain==0.1.14) (2024.7.4)\n",
            "Requirement already satisfied: greenlet!=0.4.17 in /opt/conda/lib/python3.11/site-packages (from SQLAlchemy<3,>=1.4->langchain==0.1.14) (3.0.3)\n",
            "Requirement already satisfied: anyio in /opt/conda/lib/python3.11/site-packages (from httpx<1,>=0.23.0->langsmith<0.2.0,>=0.1.17->langchain==0.1.14) (4.4.0)\n",
            "Requirement already satisfied: httpcore==1.* in /opt/conda/lib/python3.11/site-packages (from httpx<1,>=0.23.0->langsmith<0.2.0,>=0.1.17->langchain==0.1.14) (1.0.5)\n",
            "Requirement already satisfied: sniffio in /opt/conda/lib/python3.11/site-packages (from httpx<1,>=0.23.0->langsmith<0.2.0,>=0.1.17->langchain==0.1.14) (1.3.1)\n",
            "Requirement already satisfied: h11<0.15,>=0.13 in /opt/conda/lib/python3.11/site-packages (from httpcore==1.*->httpx<1,>=0.23.0->langsmith<0.2.0,>=0.1.17->langchain==0.1.14) (0.14.0)\n",
            "Requirement already satisfied: mypy-extensions>=0.3.0 in /opt/conda/lib/python3.11/site-packages (from typing-inspect<1,>=0.4.0->dataclasses-json<0.7,>=0.5.7->langchain==0.1.14) (1.0.0)\n",
            "Note: you may need to restart the kernel to use updated packages.\n"
          ]
        }
      ],
      "source": [
        "pip install langchain==0.1.14"
      ]
    },
    {
      "cell_type": "code",
      "execution_count": null,
      "id": "83c3eb82-3e37-4f43-bb7e-88d5bec7f434",
      "metadata": {
        "id": "83c3eb82-3e37-4f43-bb7e-88d5bec7f434",
        "outputId": "72386820-87ec-4499-fb8c-6741bfa83559"
      },
      "outputs": [
        {
          "name": "stdout",
          "output_type": "stream",
          "text": [
            "Requirement already satisfied: boto3==1.34.58 in /opt/conda/lib/python3.11/site-packages (1.34.58)\n",
            "Requirement already satisfied: botocore<1.35.0,>=1.34.58 in /opt/conda/lib/python3.11/site-packages (from boto3==1.34.58) (1.34.162)\n",
            "Requirement already satisfied: jmespath<2.0.0,>=0.7.1 in /opt/conda/lib/python3.11/site-packages (from boto3==1.34.58) (1.0.1)\n",
            "Requirement already satisfied: s3transfer<0.11.0,>=0.10.0 in /opt/conda/lib/python3.11/site-packages (from boto3==1.34.58) (0.10.2)\n",
            "Requirement already satisfied: python-dateutil<3.0.0,>=2.1 in /opt/conda/lib/python3.11/site-packages (from botocore<1.35.0,>=1.34.58->boto3==1.34.58) (2.9.0)\n",
            "Requirement already satisfied: urllib3!=2.2.0,<3,>=1.25.4 in /opt/conda/lib/python3.11/site-packages (from botocore<1.35.0,>=1.34.58->boto3==1.34.58) (1.26.19)\n",
            "Requirement already satisfied: six>=1.5 in /opt/conda/lib/python3.11/site-packages (from python-dateutil<3.0.0,>=2.1->botocore<1.35.0,>=1.34.58->boto3==1.34.58) (1.16.0)\n",
            "Note: you may need to restart the kernel to use updated packages.\n"
          ]
        }
      ],
      "source": [
        "pip install boto3==1.34.58"
      ]
    },
    {
      "cell_type": "code",
      "execution_count": null,
      "id": "f2db44b7-8505-42eb-86bb-3abac2b1b1db",
      "metadata": {
        "id": "f2db44b7-8505-42eb-86bb-3abac2b1b1db",
        "outputId": "a652d5bf-9732-4125-ccae-0de6164e0d0a"
      },
      "outputs": [
        {
          "name": "stdout",
          "output_type": "stream",
          "text": [
            "Requirement already satisfied: langchain==0.1.14 in /opt/conda/lib/python3.11/site-packages (from -r requirements.txt (line 1)) (0.1.14)\n",
            "Requirement already satisfied: pypdf==4.1.0 in /opt/conda/lib/python3.11/site-packages (from -r requirements.txt (line 2)) (4.1.0)\n",
            "Requirement already satisfied: faiss-cpu==1.8.0 in /opt/conda/lib/python3.11/site-packages (from -r requirements.txt (line 3)) (1.8.0)\n",
            "Requirement already satisfied: boto3==1.34.58 in /opt/conda/lib/python3.11/site-packages (from -r requirements.txt (line 4)) (1.34.58)\n",
            "Requirement already satisfied: sqlalchemy==2.0.29 in /opt/conda/lib/python3.11/site-packages (from -r requirements.txt (line 5)) (2.0.29)\n",
            "Requirement already satisfied: PyYAML>=5.3 in /opt/conda/lib/python3.11/site-packages (from langchain==0.1.14->-r requirements.txt (line 1)) (6.0.2)\n",
            "Requirement already satisfied: aiohttp<4.0.0,>=3.8.3 in /opt/conda/lib/python3.11/site-packages (from langchain==0.1.14->-r requirements.txt (line 1)) (3.9.5)\n",
            "Requirement already satisfied: dataclasses-json<0.7,>=0.5.7 in /opt/conda/lib/python3.11/site-packages (from langchain==0.1.14->-r requirements.txt (line 1)) (0.6.7)\n",
            "Requirement already satisfied: jsonpatch<2.0,>=1.33 in /opt/conda/lib/python3.11/site-packages (from langchain==0.1.14->-r requirements.txt (line 1)) (1.33)\n",
            "Requirement already satisfied: langchain-community<0.1,>=0.0.30 in /opt/conda/lib/python3.11/site-packages (from langchain==0.1.14->-r requirements.txt (line 1)) (0.0.38)\n",
            "Requirement already satisfied: langchain-core<0.2.0,>=0.1.37 in /opt/conda/lib/python3.11/site-packages (from langchain==0.1.14->-r requirements.txt (line 1)) (0.1.52)\n",
            "Requirement already satisfied: langchain-text-splitters<0.1,>=0.0.1 in /opt/conda/lib/python3.11/site-packages (from langchain==0.1.14->-r requirements.txt (line 1)) (0.0.2)\n",
            "Requirement already satisfied: langsmith<0.2.0,>=0.1.17 in /opt/conda/lib/python3.11/site-packages (from langchain==0.1.14->-r requirements.txt (line 1)) (0.1.136)\n",
            "Requirement already satisfied: numpy<2,>=1 in /opt/conda/lib/python3.11/site-packages (from langchain==0.1.14->-r requirements.txt (line 1)) (1.26.4)\n",
            "Requirement already satisfied: pydantic<3,>=1 in /opt/conda/lib/python3.11/site-packages (from langchain==0.1.14->-r requirements.txt (line 1)) (1.10.17)\n",
            "Requirement already satisfied: requests<3,>=2 in /opt/conda/lib/python3.11/site-packages (from langchain==0.1.14->-r requirements.txt (line 1)) (2.32.3)\n",
            "Requirement already satisfied: tenacity<9.0.0,>=8.1.0 in /opt/conda/lib/python3.11/site-packages (from langchain==0.1.14->-r requirements.txt (line 1)) (8.5.0)\n",
            "Requirement already satisfied: botocore<1.35.0,>=1.34.58 in /opt/conda/lib/python3.11/site-packages (from boto3==1.34.58->-r requirements.txt (line 4)) (1.34.162)\n",
            "Requirement already satisfied: jmespath<2.0.0,>=0.7.1 in /opt/conda/lib/python3.11/site-packages (from boto3==1.34.58->-r requirements.txt (line 4)) (1.0.1)\n",
            "Requirement already satisfied: s3transfer<0.11.0,>=0.10.0 in /opt/conda/lib/python3.11/site-packages (from boto3==1.34.58->-r requirements.txt (line 4)) (0.10.2)\n",
            "Requirement already satisfied: typing-extensions>=4.6.0 in /opt/conda/lib/python3.11/site-packages (from sqlalchemy==2.0.29->-r requirements.txt (line 5)) (4.12.2)\n",
            "Requirement already satisfied: greenlet!=0.4.17 in /opt/conda/lib/python3.11/site-packages (from sqlalchemy==2.0.29->-r requirements.txt (line 5)) (3.0.3)\n",
            "Requirement already satisfied: aiosignal>=1.1.2 in /opt/conda/lib/python3.11/site-packages (from aiohttp<4.0.0,>=3.8.3->langchain==0.1.14->-r requirements.txt (line 1)) (1.3.1)\n",
            "Requirement already satisfied: attrs>=17.3.0 in /opt/conda/lib/python3.11/site-packages (from aiohttp<4.0.0,>=3.8.3->langchain==0.1.14->-r requirements.txt (line 1)) (23.2.0)\n",
            "Requirement already satisfied: frozenlist>=1.1.1 in /opt/conda/lib/python3.11/site-packages (from aiohttp<4.0.0,>=3.8.3->langchain==0.1.14->-r requirements.txt (line 1)) (1.4.1)\n",
            "Requirement already satisfied: multidict<7.0,>=4.5 in /opt/conda/lib/python3.11/site-packages (from aiohttp<4.0.0,>=3.8.3->langchain==0.1.14->-r requirements.txt (line 1)) (6.0.5)\n",
            "Requirement already satisfied: yarl<2.0,>=1.0 in /opt/conda/lib/python3.11/site-packages (from aiohttp<4.0.0,>=3.8.3->langchain==0.1.14->-r requirements.txt (line 1)) (1.9.4)\n",
            "Requirement already satisfied: python-dateutil<3.0.0,>=2.1 in /opt/conda/lib/python3.11/site-packages (from botocore<1.35.0,>=1.34.58->boto3==1.34.58->-r requirements.txt (line 4)) (2.9.0)\n",
            "Requirement already satisfied: urllib3!=2.2.0,<3,>=1.25.4 in /opt/conda/lib/python3.11/site-packages (from botocore<1.35.0,>=1.34.58->boto3==1.34.58->-r requirements.txt (line 4)) (1.26.19)\n",
            "Requirement already satisfied: marshmallow<4.0.0,>=3.18.0 in /opt/conda/lib/python3.11/site-packages (from dataclasses-json<0.7,>=0.5.7->langchain==0.1.14->-r requirements.txt (line 1)) (3.21.3)\n",
            "Requirement already satisfied: typing-inspect<1,>=0.4.0 in /opt/conda/lib/python3.11/site-packages (from dataclasses-json<0.7,>=0.5.7->langchain==0.1.14->-r requirements.txt (line 1)) (0.9.0)\n",
            "Requirement already satisfied: jsonpointer>=1.9 in /opt/conda/lib/python3.11/site-packages (from jsonpatch<2.0,>=1.33->langchain==0.1.14->-r requirements.txt (line 1)) (3.0.0)\n",
            "Requirement already satisfied: packaging<24.0,>=23.2 in /opt/conda/lib/python3.11/site-packages (from langchain-core<0.2.0,>=0.1.37->langchain==0.1.14->-r requirements.txt (line 1)) (23.2)\n",
            "Requirement already satisfied: httpx<1,>=0.23.0 in /opt/conda/lib/python3.11/site-packages (from langsmith<0.2.0,>=0.1.17->langchain==0.1.14->-r requirements.txt (line 1)) (0.27.0)\n",
            "Requirement already satisfied: orjson<4.0.0,>=3.9.14 in /opt/conda/lib/python3.11/site-packages (from langsmith<0.2.0,>=0.1.17->langchain==0.1.14->-r requirements.txt (line 1)) (3.10.7)\n",
            "Requirement already satisfied: requests-toolbelt<2.0.0,>=1.0.0 in /opt/conda/lib/python3.11/site-packages (from langsmith<0.2.0,>=0.1.17->langchain==0.1.14->-r requirements.txt (line 1)) (1.0.0)\n",
            "Requirement already satisfied: charset-normalizer<4,>=2 in /opt/conda/lib/python3.11/site-packages (from requests<3,>=2->langchain==0.1.14->-r requirements.txt (line 1)) (3.3.2)\n",
            "Requirement already satisfied: idna<4,>=2.5 in /opt/conda/lib/python3.11/site-packages (from requests<3,>=2->langchain==0.1.14->-r requirements.txt (line 1)) (3.7)\n",
            "Requirement already satisfied: certifi>=2017.4.17 in /opt/conda/lib/python3.11/site-packages (from requests<3,>=2->langchain==0.1.14->-r requirements.txt (line 1)) (2024.7.4)\n",
            "Requirement already satisfied: anyio in /opt/conda/lib/python3.11/site-packages (from httpx<1,>=0.23.0->langsmith<0.2.0,>=0.1.17->langchain==0.1.14->-r requirements.txt (line 1)) (4.4.0)\n",
            "Requirement already satisfied: httpcore==1.* in /opt/conda/lib/python3.11/site-packages (from httpx<1,>=0.23.0->langsmith<0.2.0,>=0.1.17->langchain==0.1.14->-r requirements.txt (line 1)) (1.0.5)\n",
            "Requirement already satisfied: sniffio in /opt/conda/lib/python3.11/site-packages (from httpx<1,>=0.23.0->langsmith<0.2.0,>=0.1.17->langchain==0.1.14->-r requirements.txt (line 1)) (1.3.1)\n",
            "Requirement already satisfied: h11<0.15,>=0.13 in /opt/conda/lib/python3.11/site-packages (from httpcore==1.*->httpx<1,>=0.23.0->langsmith<0.2.0,>=0.1.17->langchain==0.1.14->-r requirements.txt (line 1)) (0.14.0)\n",
            "Requirement already satisfied: six>=1.5 in /opt/conda/lib/python3.11/site-packages (from python-dateutil<3.0.0,>=2.1->botocore<1.35.0,>=1.34.58->boto3==1.34.58->-r requirements.txt (line 4)) (1.16.0)\n",
            "Requirement already satisfied: mypy-extensions>=0.3.0 in /opt/conda/lib/python3.11/site-packages (from typing-inspect<1,>=0.4.0->dataclasses-json<0.7,>=0.5.7->langchain==0.1.14->-r requirements.txt (line 1)) (1.0.0)\n"
          ]
        }
      ],
      "source": [
        "!pip install -U -r requirements.txt"
      ]
    },
    {
      "cell_type": "code",
      "execution_count": null,
      "id": "16247b8a-3f04-443e-b7dc-5a8a2e704e1c",
      "metadata": {
        "id": "16247b8a-3f04-443e-b7dc-5a8a2e704e1c",
        "outputId": "d251dd20-bd45-4caf-8cbc-7d233ae7bd28"
      },
      "outputs": [
        {
          "name": "stdout",
          "output_type": "stream",
          "text": [
            "0.1.14\n"
          ]
        }
      ],
      "source": [
        "import langchain\n",
        "print(langchain.__version__)"
      ]
    },
    {
      "cell_type": "code",
      "execution_count": null,
      "id": "f416f576-9ac1-4a01-8dbf-bd6ed15c4565",
      "metadata": {
        "id": "f416f576-9ac1-4a01-8dbf-bd6ed15c4565",
        "outputId": "a768f761-5962-47e1-9da6-bffb4a305156"
      },
      "outputs": [
        {
          "name": "stdout",
          "output_type": "stream",
          "text": [
            "sagemaker.config INFO - Not applying SDK defaults from location: /etc/xdg/sagemaker/config.yaml\n",
            "sagemaker.config INFO - Not applying SDK defaults from location: /home/sagemaker-user/.config/sagemaker/config.yaml\n"
          ]
        }
      ],
      "source": [
        "try:\n",
        "    import sagemaker\n",
        "except ImportError:\n",
        "    !pip install sagemaker"
      ]
    },
    {
      "cell_type": "code",
      "execution_count": null,
      "id": "8e421940-275f-4e09-ae23-7c384265ff36",
      "metadata": {
        "id": "8e421940-275f-4e09-ae23-7c384265ff36"
      },
      "outputs": [],
      "source": [
        "# Import the JumpStartModel class from the SageMaker JumpStart library\n",
        "from sagemaker.jumpstart.model import JumpStartModel"
      ]
    },
    {
      "cell_type": "code",
      "execution_count": null,
      "id": "2bed3f89-4c20-452e-b13d-37aa6baa6b7a",
      "metadata": {
        "id": "2bed3f89-4c20-452e-b13d-37aa6baa6b7a"
      },
      "outputs": [],
      "source": [
        "# Specify the model ID for the HuggingFace Llama 3 8b Instruct LLM model\n",
        "model_id = \"meta-textgeneration-llama-3-8b-instruct\"\n",
        "accept_eula = True\n",
        "model = JumpStartModel(model_id=model_id, model_version=\"2.7.0\", instance_type= \"ml.g5.2xlarge\")"
      ]
    },
    {
      "cell_type": "code",
      "execution_count": null,
      "id": "55a2761b-6f4e-4b43-950f-b5484f56a59f",
      "metadata": {
        "scrolled": true,
        "id": "55a2761b-6f4e-4b43-950f-b5484f56a59f",
        "outputId": "70e69864-9974-484b-8799-745970b88ead"
      },
      "outputs": [
        {
          "name": "stderr",
          "output_type": "stream",
          "text": [
            "Using already existing model: meta-textgeneration-llama-3-8b-instruct-2024-10-18-13-42-12-344\n"
          ]
        },
        {
          "name": "stdout",
          "output_type": "stream",
          "text": [
            "----------------!"
          ]
        }
      ],
      "source": [
        "predictor = model.deploy(accept_eula=accept_eula, instance_type=\"ml.g5.2xlarge\")"
      ]
    },
    {
      "cell_type": "code",
      "execution_count": null,
      "id": "ee556c54-018e-4229-8ce5-df3f50a39932",
      "metadata": {
        "id": "ee556c54-018e-4229-8ce5-df3f50a39932"
      },
      "outputs": [],
      "source": [
        "# Specify the model ID for the HuggingFace BGE Large EN Embedding model\n",
        "model_id = \"huggingface-sentencesimilarity-bge-large-en-v1-5\"\n",
        "text_embedding_model = JumpStartModel(model_id=model_id,model_version=\"1.1.1\")"
      ]
    },
    {
      "cell_type": "code",
      "execution_count": null,
      "id": "915c0d77-6a33-4fd5-9172-3a51a82e02fb",
      "metadata": {
        "id": "915c0d77-6a33-4fd5-9172-3a51a82e02fb",
        "outputId": "9622b492-167f-4ba5-8cfb-35fefc016b6c"
      },
      "outputs": [
        {
          "name": "stdout",
          "output_type": "stream",
          "text": [
            "---------!"
          ]
        }
      ],
      "source": [
        "embedding_predictor = text_embedding_model.deploy(instance_type=\"ml.g5.2xlarge\")"
      ]
    },
    {
      "cell_type": "code",
      "execution_count": null,
      "id": "1e88bc85-bd59-4dd5-b901-7b5bddd89563",
      "metadata": {
        "id": "1e88bc85-bd59-4dd5-b901-7b5bddd89563"
      },
      "outputs": [],
      "source": [
        "import json\n",
        "import sagemaker\n",
        "\n",
        "from langchain_core.prompts import PromptTemplate\n",
        "from langchain_community.llms import SagemakerEndpoint\n",
        "from langchain_community.embeddings import SagemakerEndpointEmbeddings\n",
        "from langchain_community.llms.sagemaker_endpoint import LLMContentHandler\n",
        "from langchain_community.embeddings.sagemaker_endpoint import EmbeddingsContentHandler"
      ]
    },
    {
      "cell_type": "code",
      "execution_count": null,
      "id": "341ccad9-043e-428f-b1b3-5c2bbfb49626",
      "metadata": {
        "id": "341ccad9-043e-428f-b1b3-5c2bbfb49626"
      },
      "outputs": [],
      "source": [
        "sess = sagemaker.session.Session()\n",
        "region = sess._region_name"
      ]
    },
    {
      "cell_type": "code",
      "execution_count": null,
      "id": "ce1fcce5-c95f-40c4-894a-9ff8ebcd3c65",
      "metadata": {
        "id": "ce1fcce5-c95f-40c4-894a-9ff8ebcd3c65"
      },
      "outputs": [],
      "source": [
        "llm_endpoint_name = \"meta-textgeneration-llama-3-8b-instruct-2024-10-18-13-47-59-493\"\n",
        "embedding_endpoint_name = \"hf-sentencesimilarity-bge-large-en-v1-5-2024-10-18-13-58-39-827\""
      ]
    },
    {
      "cell_type": "code",
      "execution_count": null,
      "id": "856dcb89-e51e-4f56-8656-44c42e85e05a",
      "metadata": {
        "id": "856dcb89-e51e-4f56-8656-44c42e85e05a"
      },
      "outputs": [],
      "source": [
        "# testing out my endpoint\n",
        "import boto3\n",
        "runtime_client = boto3.client('sagemaker-runtime', region_name=region)\n",
        "\n",
        "input_prompt = {\n",
        "    \"inputs\": \"Where is the capital of China?\"\n",
        "}\n",
        "\n",
        "response = runtime_client.invoke_endpoint(\n",
        "    EndpointName=llm_endpoint_name,\n",
        "    ContentType='application/json',\n",
        "    Body=json.dumps(input_prompt)\n",
        ")"
      ]
    },
    {
      "cell_type": "code",
      "execution_count": null,
      "id": "21340eea-6cc9-47e5-a489-8f1192d648d6",
      "metadata": {
        "id": "21340eea-6cc9-47e5-a489-8f1192d648d6",
        "outputId": "c11d8522-eab9-4673-e096-af6e6dd2010b"
      },
      "outputs": [
        {
          "name": "stdout",
          "output_type": "stream",
          "text": [
            "LLM Response: {'generated_text': ' The capital of China is Beijing. Beijing is located in the northern part of the country and is the second most populous city in China, with a population'}\n"
          ]
        }
      ],
      "source": [
        "# read and print the output\n",
        "output = json.loads(response['Body'].read().decode())\n",
        "print(\"LLM Response:\", output)"
      ]
    },
    {
      "cell_type": "code",
      "execution_count": null,
      "id": "1d16164e-6a20-420f-b36a-f4a80b8856bf",
      "metadata": {
        "id": "1d16164e-6a20-420f-b36a-f4a80b8856bf"
      },
      "outputs": [],
      "source": [
        "from typing import Dict\n",
        "\n",
        "class Llama38BContentHandler(LLMContentHandler):\n",
        "    content_type = \"application/json\"\n",
        "    accepts = \"application/json\"\n",
        "\n",
        "    def transform_input(self, prompt: str, model_kwargs: dict) -> bytes:\n",
        "        payload = {\n",
        "            \"inputs\": prompt,\n",
        "            # default parameters\n",
        "            \"parameters\": {\n",
        "                # Controls the maximum number of tokens the model can generate\n",
        "                \"max_new_tokens\": 1000,\n",
        "                # lower value makes the model more deterministic / higher value allows for more diverse responses\n",
        "                \"top_p\": 0.9,\n",
        "                # randomness\n",
        "                \"temperature\": 0.6,\n",
        "                \"stop\": [\"<|eot_id|>\"],\n",
        "            },\n",
        "        }\n",
        "        input_str = json.dumps(\n",
        "            payload,\n",
        "        )\n",
        "        print(input_str)\n",
        "        return input_str.encode(\"utf-8\")\n",
        "\n",
        "    def transform_output(self, output: bytes) -> str:\n",
        "        response_json = json.loads(output.read().decode(\"utf-8\"))\n",
        "        print(response_json)\n",
        "        content = response_json[\"generated_text\"].strip()\n",
        "        return content"
      ]
    },
    {
      "cell_type": "code",
      "execution_count": null,
      "id": "212bc9d6-e447-4543-8f78-055ea54964e1",
      "metadata": {
        "id": "212bc9d6-e447-4543-8f78-055ea54964e1"
      },
      "outputs": [],
      "source": [
        "# Instantiate the content handler for Llama3-8B\n",
        "llama_content_handler = Llama38BContentHandler()\n",
        "\n",
        "# Setup for using the Llama3-8B model with SageMaker Endpoint\n",
        "llm = SagemakerEndpoint(\n",
        "     endpoint_name=llm_endpoint_name,\n",
        "     region_name=region,\n",
        "     model_kwargs={\"max_new_tokens\": 1024, \"top_p\": 0.9, \"temperature\": 0.7},\n",
        "     content_handler=llama_content_handler\n",
        " )"
      ]
    },
    {
      "cell_type": "code",
      "execution_count": null,
      "id": "049303f4-b4b2-40de-8eab-0327a323344a",
      "metadata": {
        "id": "049303f4-b4b2-40de-8eab-0327a323344a"
      },
      "outputs": [],
      "source": [
        "from typing import List\n",
        "\n",
        "class BGEContentHandlerV15(EmbeddingsContentHandler):\n",
        "    content_type = \"application/json\"\n",
        "    accepts = \"application/json\"\n",
        "\n",
        "    def transform_input(self, text_inputs: List[str], model_kwargs: dict) -> bytes:\n",
        "        \"\"\"\n",
        "        Transforms the input into bytes that can be consumed by SageMaker endpoint.\n",
        "        Args:\n",
        "            text_inputs (list[str]): A list of input text strings to be processed.\n",
        "            model_kwargs (Dict): Additional keyword arguments to be passed to the endpoint.\n",
        "               Possible keys and their descriptions:\n",
        "               - mode (str): Inference method. Valid modes are 'embedding', 'nn_corpus', and 'nn_train_data'.\n",
        "               - corpus (str): Corpus for Nearest Neighbor. Required when mode is 'nn_corpus'.\n",
        "               - top_k (int): Top K for Nearest Neighbor. Required when mode is 'nn_corpus'.\n",
        "               - queries (list[str]): Queries for Nearest Neighbor. Required when mode is 'nn_corpus' or 'nn_train_data'.\n",
        "        Returns:\n",
        "            The transformed bytes input.\n",
        "        \"\"\"\n",
        "        input_str = json.dumps(\n",
        "            {\n",
        "                \"text_inputs\": text_inputs,\n",
        "                **model_kwargs\n",
        "            }\n",
        "        )\n",
        "        return input_str.encode(\"utf-8\")\n",
        "\n",
        "    def transform_output(self, output: bytes) -> List[List[float]]:\n",
        "        \"\"\"\n",
        "        Transforms the bytes output from the endpoint into a list of embeddings.\n",
        "        Args:\n",
        "            output: The bytes output from SageMaker endpoint.\n",
        "        Returns:\n",
        "            The transformed output - list of embeddings\n",
        "        Note:\n",
        "            The length of the outer list is the number of input strings.\n",
        "            The length of the inner lists is the embedding dimension.\n",
        "        \"\"\"\n",
        "        response_json = json.loads(output.read().decode(\"utf-8\"))\n",
        "        return response_json[\"embedding\"]"
      ]
    },
    {
      "cell_type": "code",
      "execution_count": null,
      "id": "3ac5a543-7597-4e4f-98e5-678d09014751",
      "metadata": {
        "id": "3ac5a543-7597-4e4f-98e5-678d09014751"
      },
      "outputs": [],
      "source": [
        "bge_content_handler = BGEContentHandlerV15()\n",
        "sagemaker_embeddings = SagemakerEndpointEmbeddings(\n",
        "    endpoint_name=embedding_endpoint_name,\n",
        "    region_name=region,\n",
        "    model_kwargs={\"mode\": \"embedding\"},\n",
        "    content_handler=bge_content_handler,\n",
        ")"
      ]
    },
    {
      "cell_type": "code",
      "execution_count": null,
      "id": "4105adc2-dbf6-4de1-847e-e4a7b20ea737",
      "metadata": {
        "id": "4105adc2-dbf6-4de1-847e-e4a7b20ea737",
        "outputId": "085fa715-d31a-4beb-9542-3918c02b390c"
      },
      "outputs": [
        {
          "name": "stdout",
          "output_type": "stream",
          "text": [
            "Contents of the current directory:\n",
            "recipe-data-sagemaker.pdf\n",
            "recipe-data-sagemaker2.pdf\n"
          ]
        }
      ],
      "source": [
        "import os\n",
        "contents = os.listdir()\n",
        "pdf_files = [item for item in contents if item.endswith('.pdf')]\n",
        "\n",
        "print(\"Contents of the current directory:\")\n",
        "for item in pdf_files:\n",
        "    print(item)"
      ]
    },
    {
      "cell_type": "code",
      "execution_count": null,
      "id": "eba6953a-43b4-43d5-995f-175e66a4eb81",
      "metadata": {
        "id": "eba6953a-43b4-43d5-995f-175e66a4eb81",
        "outputId": "0ef1cfd7-dc3d-4afa-8501-1ff9589bc4fb"
      },
      "outputs": [
        {
          "name": "stdout",
          "output_type": "stream",
          "text": [
            "page_content='salad. \\nVariation:\\ninstead\\nof\\nthe\\ncheese\\nand \\nherbs,\\nstuff\\neach\\nchicken\\nbreast\\nwith \\nabout\\n2\\nto\\n4\\ntablespoons\\nof\\nanother \\nmixture\\nwhich\\nmight\\ninclude\\none\\nor \\nseveral\\ningredients\\nsuch\\nas\\nslivered \\nroasted\\npeppers,\\npitted\\ngood\\nblack \\nolives,\\nsun-dried\\ntomatoes,\\ncapers, \\nanchovies,\\nhot\\nchilis,\\nor\\nother\\ncheeses \\nsuch\\nas\\nMozzarella\\nor\\nFontina.'\n"
          ]
        }
      ],
      "source": [
        "import numpy as np\n",
        "from langchain_community.document_loaders import PyPDFLoader\n",
        "from langchain.text_splitter import RecursiveCharacterTextSplitter\n",
        "\n",
        "# Initialize an empty list to hold the documents\n",
        "documents = []\n",
        "metadata = [{} for _ in pdf_files]  # Initialize metadata for each PDF\n",
        "\n",
        "# Load and process each PDF file\n",
        "for idx, file in enumerate(pdf_files):\n",
        "    loader = PyPDFLoader(file)\n",
        "    document = loader.load()\n",
        "    for document_fragment in document:\n",
        "        document_fragment.metadata = metadata[idx]\n",
        "\n",
        "    documents += document\n",
        "\n",
        "# Set a chunk size for splitting documents\n",
        "text_splitter = RecursiveCharacterTextSplitter(\n",
        "    chunk_size=1000,\n",
        "    chunk_overlap=100,\n",
        ")\n",
        "\n",
        "\n",
        "docs = text_splitter.split_documents(documents)\n",
        "print(docs[50])"
      ]
    },
    {
      "cell_type": "code",
      "execution_count": null,
      "id": "56aba587-bfa0-4a44-8da5-5360d41a7d14",
      "metadata": {
        "id": "56aba587-bfa0-4a44-8da5-5360d41a7d14",
        "outputId": "d04da0d9-e237-4176-f96a-e08c74b7c236"
      },
      "outputs": [
        {
          "name": "stdout",
          "output_type": "stream",
          "text": [
            "Average length among 30 documents loaded is 2495 characters.\n",
            "After the split we have 97 documents as opposed to the original 30.\n",
            "Average length among 97 documents (after split) is 838 characters.\n"
          ]
        }
      ],
      "source": [
        "avg_doc_length = lambda documents: sum([len(doc.page_content) for doc in documents])//len(documents)\n",
        "\n",
        "print(f'Average length among {len(documents)} documents loaded is {avg_doc_length(documents)} characters.')\n",
        "print(f'After the split we have {len(docs)} documents as opposed to the original {len(documents)}.')\n",
        "print(f'Average length among {len(docs)} documents (after split) is {avg_doc_length(docs)} characters.')"
      ]
    },
    {
      "cell_type": "code",
      "execution_count": null,
      "id": "c0b8a9c2-c290-4c58-9c28-27c7540162ab",
      "metadata": {
        "id": "c0b8a9c2-c290-4c58-9c28-27c7540162ab",
        "outputId": "2bea4b0e-db1b-4855-ccae-5c4e81d7b712"
      },
      "outputs": [
        {
          "name": "stdout",
          "output_type": "stream",
          "text": [
            "Sample embedding of a document chunk:  [-0.02978267  0.02248217  0.0348905  ... -0.0368495   0.0366135\n",
            "  0.00579986]\n",
            "Size of the embedding:  (1024,)\n"
          ]
        }
      ],
      "source": [
        "sample_embedding = np.array(sagemaker_embeddings.embed_query(docs[0].page_content))\n",
        "print(\"Sample embedding of a document chunk: \", sample_embedding)\n",
        "print(\"Size of the embedding: \", sample_embedding.shape)"
      ]
    },
    {
      "cell_type": "code",
      "execution_count": null,
      "id": "e8fffc41-7c70-4239-b7ee-6355b91fb451",
      "metadata": {
        "id": "e8fffc41-7c70-4239-b7ee-6355b91fb451"
      },
      "outputs": [],
      "source": [
        "# using FAISS for building a vector store\n",
        "from langchain_community.vectorstores import FAISS\n",
        "from langchain.indexes.vectorstore import VectorStoreIndexWrapper\n",
        "\n",
        "vectorstore_faiss = FAISS.from_documents(\n",
        "    docs,\n",
        "    sagemaker_embeddings,\n",
        ")\n",
        "wrapper_store_faiss = VectorStoreIndexWrapper(vectorstore=vectorstore_faiss)"
      ]
    },
    {
      "cell_type": "code",
      "execution_count": null,
      "id": "9ec3ccea-1d90-4af7-a03e-473822ba12b1",
      "metadata": {
        "id": "9ec3ccea-1d90-4af7-a03e-473822ba12b1"
      },
      "outputs": [],
      "source": [
        "prompt_template = \"\"\"<|begin_of_text|><|start_header_id|>system<|end_header_id|>\n",
        "You are a helpful assistant.\n",
        "<|eot_id|><|start_header_id|>user<|end_header_id|>\n",
        "{query}\n",
        "<|eot_id|><|start_header_id|>assistant<|end_header_id|>\n",
        "\"\"\"\n",
        "PROMPT = PromptTemplate(\n",
        "    template=prompt_template, input_variables=[\"query\"]\n",
        ")"
      ]
    },
    {
      "cell_type": "code",
      "execution_count": null,
      "id": "10083d75-ec71-4e0e-90ce-d67ea5cb9dd3",
      "metadata": {
        "id": "10083d75-ec71-4e0e-90ce-d67ea5cb9dd3"
      },
      "outputs": [],
      "source": [
        "# querying the FAISS vector store for documents relevant to the user's question.\n",
        "query = \"How to cook a dish with pork tenderloin?\""
      ]
    },
    {
      "cell_type": "code",
      "execution_count": null,
      "id": "82d03acb-2716-449d-888e-7daee977a904",
      "metadata": {
        "id": "82d03acb-2716-449d-888e-7daee977a904",
        "outputId": "cace7a96-b414-433f-b567-6acb4bd06218"
      },
      "outputs": [
        {
          "name": "stdout",
          "output_type": "stream",
          "text": [
            "{\"inputs\": \"Use the following pieces of context to answer the question at the end. If you don't know the answer, just say that you don't know, don't try to make up an answer.\\n\\nbunches\\nbroccoli\\nrabe,\\ncut\\ncrosswise \\ninto\\n1-inch\\nsquares,\\n2\\nteaspoons \\nbalsamic\\nvinegar,\\n1\\ncup\\nextra-virgin \\nolive\\noil,\\nolive\\noil,\\ngrapeseed\\noil,\\nor \\nother\\nvegetable\\noil,\\n2\\ntablespoons \\nfinely\\ngrated\\nlemon\\nzest\\nleaves\\nbegin\\nto\\nwilt,\\nadd\\nmore\\nto\\nfit\\nin \\nthe\\npan,\\nturning\\nconstantly\\nwith\\ntongs; \\ncook\\nuntil\\nthe\\ngreens\\nare\\nwilted\\nand \\nbright\\ngreen,\\nabout\\n5\\nminutes.\\nAdd\\nthe \\nvinegar\\nand\\ncook,\\nstirring,\\nfor\\n1 \\nminute. \\nReturn\\nthe\\npasta\\nto\\nthe\\ncooking\\npot, \\nadd\\nthe\\nvegetable\\nmixture,\\nand\\ntoss\\nto \\ncombine\\nwell.\\nServe\\nhot. \\nPlace\\nthe\\noil\\nand\\nthe\\nzest\\nin\\na\\nglass\\njar. \\nLet\\nstand\\nat\\nroom\\ntemperature\\nfor\\nat \\nleast\\n2\\nweeks,\\nshaking\\noccasionally. \\nPour\\nthe\\noil\\nthrough\\na\\nstrainer\\nand \\ndiscard\\nthe\\nzest.\\nTransfer\\nto\\na\\njar\\nand \\nstore,\\ntightly\\ncovered,\\nat\\nin \\nrefrigerator.\\nAsian-Spiced\\nBaby\\nBack\\nRibs\\n1\\norange,\\nKosher\\nsalt,\\n3/4\\ncup\\npacked \\nlight\\nbrown\\nsugar,\\n1\\npiece\\nstar\\nanise,\\n1 \\nteaspoon\\npickling\\nspice,\\n2\\nslices \\nginger,\\nplus\\n1\\nteaspoon\\ngrated\\npeeled \\nginger,\\n3\\n1-pound\\nracks\\nbaby\\nback \\npork\\nribs,\\n2\\n\\ntitle\\ningredients\\ninstructions\\nApricot\\nSpritzer\\n1\\ncup\\napricot\\nnectar,\\n1\\nbottle\\nsparkling \\nwine,\\nwell\\nchilled\\nDivide\\nthe\\napricot\\nnectar\\namong\\n4 \\nchilled\\nchampagne\\nflutes\\nor\\ncoupe \\nglasses.\\nTop\\nwith\\nthe\\nsparkling\\nwine \\nand\\nserve\\nimmediately.\\nPork\\nTenderloin\\nwith\\nPeach\\nand\\nPecan \\nSauce\\n1\\ntablespoon\\nolive\\noil,\\n1\\npork \\ntenderloin\\n(about\\n1\\npound),\\ncut\\ninto \\n3/4-inch-thick\\nslices,\\n2\\ncloves\\ngarlic, \\nminced,\\n2\\ngreen\\nonions,\\nsliced\\n(about \\n1/4\\ncup),\\n1\\ncan\\n(10\\n3/4\\nounces) \\nCampbell's\\u00ae\\nCondensed\\nGolden \\nMushroom\\nSoup,\\n1\\ncan\\n(about\\n15 \\nounces)\\nsliced\\npeaches\\nin\\njuice, \\ndrained,\\nreserving\\njuice,\\n3\\ntablespoons \\nlow-sodium\\nsoy\\nsauce,\\n2\\ntablespoons \\nhoney,\\n1/4\\ncup\\npecan\\nhalves,\\ntoasted \\nand\\nbroken\\ninto\\nlarge\\npieces,\\nHot \\ncooked\\nrice\\nHeat\\nthe\\noil\\nin\\na\\n10-inch\\nskillet\\nover \\nmedium-high\\nheat.\\nAdd\\nthe\\npork\\nand \\ncook\\nuntil\\nwell\\nbrowned\\non\\nboth \\nsides.\\nRemove\\nthe\\npork\\nfrom\\nthe \\nskillet. \\nAdd\\nthe\\ngarlic\\nand\\nonions\\nto\\nthe \\nskillet\\nand\\ncook\\nand\\nstir\\nfor\\n1\\nminute. \\nStir\\nthe\\nsoup,\\npeach\\njuice,\\nsoy\\nsauce \\nand\\n\\n2\\nslices \\nginger,\\nplus\\n1\\nteaspoon\\ngrated\\npeeled \\nginger,\\n3\\n1-pound\\nracks\\nbaby\\nback \\npork\\nribs,\\n2\\nteaspoons\\nvegetable\\noil,\\n1 \\nclove\\ngarlic,\\ngrated,\\n1/4\\ncup\\ndry \\nsherry,\\n1/3\\ncup\\nlow-sodium\\nchicken \\nbroth,\\n1/3\\ncup\\nbalsamic\\nvinegar,\\n1/4 \\ncup\\nlow-sodium\\nsoy\\nsauce,\\nFreshly \\nground\\nblack\\npepper,\\n1/4\\nteaspoon \\ncayenne\\npepper\\nMake\\nthe\\nbrine:\\nRemove\\n3\\nwide\\nstrips \\nzest\\nfrom\\nthe\\norange\\nwith\\na\\nvegetable \\npeeler.\\nSqueeze\\n3\\ntablespoons\\norange \\njuice\\nand\\nset\\naside.\\nCombine\\n2\\nstrips \\nof\\nthe\\nzest,\\n4\\ncups\\nwater,\\n1/3\\ncup\\nsalt, \\n1/2\\ncup\\nbrown\\nsugar,\\nthe\\nstar\\nanise, \\npickling\\nspice\\nand\\nginger\\nslices\\nin\\na \\nmedium\\nsaucepan\\nover\\nmedium-high \\nheat.\\nCook,\\nstirring\\nfrequently,\\nuntil \\nthe\\nsalt\\nand\\nsugar\\ndissolve.\\nRemove \\nfrom\\nthe\\nheat\\nand\\nadd\\n4\\ncups\\ncold \\nwater;\\nlet\\ncool\\nto\\nroom\\ntemperature. \\nPut\\nthe\\nribs\\nmeat-side\\ndown\\non\\na \\ncutting\\nboard.\\nInsert\\na\\nparing\\nknife \\nbetween\\nthe\\nmembrane\\nand\\nthe\\nbones \\non\\none\\nend,\\nthen\\nloosen\\nthe\\nmembrane \\nwith\\nyour\\nfingers\\nand\\ngently\\npull\\nit \\noff.\\nPut\\nthe\\nribs\\nin\\na\\nroasting\\npan\\n\\nbutter,\\n1\\nteaspoon\\nsalt,\\n2\\ncups\\nwhite \\nwine,\\n10\\nounces\\ncanned\\nbeef \\nconsomme,\\n10\\nounces\\nchicken\\nbroth, \\n10\\nounces\\napple\\ncider\\n(unfiltered\\nis \\nbest),\\nBouquet\\ngarni;\\nthyme\\nsprigs, \\nbay\\nleaf\\nand\\nparsley\\ntied\\ntogether\\nwith \\nkitchen\\nstring,\\n1\\nloaf\\ncountry\\nstyle \\nbread,\\nKosher\\nsalt,\\nGround\\nblack \\npepper,\\nSplash\\nof\\nCognac\\n(optional),\\n1 \\ncup\\nFontina\\nor\\nGruyere\\ncheese,\\ngrated\\nfinely\\nslice\\ninto\\nhalf-moon\\nshapes.\\nSet \\nelectric\\nskillet\\nto\\n300\\ndegrees\\nand\\nadd \\nbutter.\\nOnce\\nbutter\\nhas\\nmelted\\nadd\\na \\nlayer\\nof\\nonions\\nand\\nsprinkle\\nwith\\na \\nlittle\\nsalt.\\nRepeat\\nlayering\\nonions\\nand \\nsalt\\nuntil\\nall\\nonions\\nare\\nin\\nthe\\nskillet. \\nDo\\nnot\\ntry\\nstirring\\nuntil\\nonions\\nhave \\nsweated\\ndown\\nfor\\n15\\nto\\n20\\nminutes. \\nAfter\\nthat,\\nstir\\noccasionally\\nuntil \\nonions\\nare\\ndark\\nmahogany\\nand \\nreduced\\nto\\napproximately\\n2\\ncups.\\nThis \\nshould\\ntake\\n45\\nminutes\\nto\\n1\\nhour.\\nDo \\nnot\\nworry\\nabout\\nburning. \\nAdd\\nenough\\nwine\\nto\\ncover\\nthe\\nonions \\nand\\nturn\\nheat\\nto\\nhigh,\\nreducing\\nthe \\nwine\\nto\\na\\nsyrup\\nconsistency.\\nAdd \\nconsomme,\\nchicken\\nbroth,\\napple\\n\\nQuestion: <|begin_of_text|><|start_header_id|>system<|end_header_id|>\\nYou are a helpful assistant.\\n<|eot_id|><|start_header_id|>user<|end_header_id|>\\nHow to cook a dish with pork tenderloin?\\n<|eot_id|><|start_header_id|>assistant<|end_header_id|>\\n\\nHelpful Answer:\", \"parameters\": {\"max_new_tokens\": 1000, \"top_p\": 0.9, \"temperature\": 0.6, \"stop\": [\"<|eot_id|>\"]}}\n",
            "{'generated_text': ' \\n\\nI found a few recipes that feature pork tenderloin as the main ingredient. Here are the instructions for each dish:\\n\\n1. Pork Tenderloin with Peach and Pecan Sauce:\\n   - Heat the oil in a 10-inch skillet over medium-high heat.\\n   - Add the pork and cook until well browned on both sides.\\n   - Remove the pork from the skillet. Add the garlic and onions to the skillet and cook for 1 minute.\\n   - Stir the soup, peach juice, soy sauce, and ginger. Add the pork back to the skillet and cook until the sauce is bubbly and the pork is cooked through.\\n\\n2. Asian-Spiced Baby Back Ribs:\\n   - Preheat the oven to 300 degrees. Set the electric skillet to 300 degrees and add butter.\\n   - Once the butter has melted, add a layer of onions and sprinkle with a little salt. Repeat layering onions and salt until all onions are in the skillet.\\n   - Do not stir until the onions have sweated down for 15 to 20 minutes. After that, stir occasionally until the onions are dark mahogany and reduced to approximately 2 cups.\\n\\nPlease note that these are just a few examples of recipes that feature pork tenderloin. If you have any specific questions or would like more information, feel free to ask!'}\n",
            "I found a few recipes that feature pork tenderloin as the main ingredient. Here are the instructions for each dish:\n",
            "\n",
            "1. Pork Tenderloin with Peach and Pecan Sauce:\n",
            "   - Heat the oil in a 10-inch skillet over medium-high heat.\n",
            "   - Add the pork and cook until well browned on both sides.\n",
            "   - Remove the pork from the skillet. Add the garlic and onions to the skillet and cook for 1 minute.\n",
            "   - Stir the soup, peach juice, soy sauce, and ginger. Add the pork back to the skillet and cook until the sauce is bubbly and the pork is cooked through.\n",
            "\n",
            "2. Asian-Spiced Baby Back Ribs:\n",
            "   - Preheat the oven to 300 degrees. Set the electric skillet to 300 degrees and add butter.\n",
            "   - Once the butter has melted, add a layer of onions and sprinkle with a little salt. Repeat layering onions and salt until all onions are in the skillet.\n",
            "   - Do not stir until the onions have sweated down for 15 to 20 minutes. After that, stir occasionally until the onions are dark mahogany and reduced to approximately 2 cups.\n",
            "\n",
            "Please note that these are just a few examples of recipes that feature pork tenderloin. If you have any specific questions or would like more information, feel free to ask!\n"
          ]
        }
      ],
      "source": [
        "answer = wrapper_store_faiss.query(question=PROMPT.format(query=query), llm=llm)\n",
        "print(answer)"
      ]
    },
    {
      "cell_type": "code",
      "execution_count": null,
      "id": "e3c9cbec-e458-43bf-8deb-2ec795a6b571",
      "metadata": {
        "id": "e3c9cbec-e458-43bf-8deb-2ec795a6b571"
      },
      "outputs": [],
      "source": [
        "query_2 = \"I have brussel sprouts and carrots, can you give me a healthy dairy-free recipe to make.\""
      ]
    },
    {
      "cell_type": "code",
      "execution_count": null,
      "id": "7db5903d-1deb-4b0f-a00f-d42d220d2b3c",
      "metadata": {
        "id": "7db5903d-1deb-4b0f-a00f-d42d220d2b3c",
        "outputId": "02ea2f66-bf90-492d-bbe2-f9ea1ae1efec"
      },
      "outputs": [
        {
          "name": "stdout",
          "output_type": "stream",
          "text": [
            "{\"inputs\": \"Use the following pieces of context to answer the question at the end. If you don't know the answer, just say that you don't know, don't try to make up an answer.\\n\\nbutter,\\n1\\nteaspoon\\nsalt,\\n2\\ncups\\nwhite \\nwine,\\n10\\nounces\\ncanned\\nbeef \\nconsomme,\\n10\\nounces\\nchicken\\nbroth, \\n10\\nounces\\napple\\ncider\\n(unfiltered\\nis \\nbest),\\nBouquet\\ngarni;\\nthyme\\nsprigs, \\nbay\\nleaf\\nand\\nparsley\\ntied\\ntogether\\nwith \\nkitchen\\nstring,\\n1\\nloaf\\ncountry\\nstyle \\nbread,\\nKosher\\nsalt,\\nGround\\nblack \\npepper,\\nSplash\\nof\\nCognac\\n(optional),\\n1 \\ncup\\nFontina\\nor\\nGruyere\\ncheese,\\ngrated\\nfinely\\nslice\\ninto\\nhalf-moon\\nshapes.\\nSet \\nelectric\\nskillet\\nto\\n300\\ndegrees\\nand\\nadd \\nbutter.\\nOnce\\nbutter\\nhas\\nmelted\\nadd\\na \\nlayer\\nof\\nonions\\nand\\nsprinkle\\nwith\\na \\nlittle\\nsalt.\\nRepeat\\nlayering\\nonions\\nand \\nsalt\\nuntil\\nall\\nonions\\nare\\nin\\nthe\\nskillet. \\nDo\\nnot\\ntry\\nstirring\\nuntil\\nonions\\nhave \\nsweated\\ndown\\nfor\\n15\\nto\\n20\\nminutes. \\nAfter\\nthat,\\nstir\\noccasionally\\nuntil \\nonions\\nare\\ndark\\nmahogany\\nand \\nreduced\\nto\\napproximately\\n2\\ncups.\\nThis \\nshould\\ntake\\n45\\nminutes\\nto\\n1\\nhour.\\nDo \\nnot\\nworry\\nabout\\nburning. \\nAdd\\nenough\\nwine\\nto\\ncover\\nthe\\nonions \\nand\\nturn\\nheat\\nto\\nhigh,\\nreducing\\nthe \\nwine\\nto\\na\\nsyrup\\nconsistency.\\nAdd \\nconsomme,\\nchicken\\nbroth,\\napple\\n\\ntablespoon\\nsalt,\\n1\\ntablespoon\\nsesame \\noil,\\n1\\npackage\\ngyoza\\nwrappers,\\nBlack \\npepper,\\n3/4\\npound\\nflank\\nsteak,\\n3 \\nquarts\\nwater,\\n1/2\\nteaspoon\\nsalt,\\n1 \\nteaspoon\\nsoy\\nsauce,\\n1\\nenvelope \\nwonton\\nsoup\\nbase,\\n1\\nscallion\\nsliced \\nthinly\\non\\nthe\\ndiagonal,\\n1\\nbeaten\\negg, \\ncooked\\nin\\none\\nlayer\\nand\\njulienned,\\n1 \\nsheet\\nnori\\n(seaweed)\\ncut\\ninto\\n2-inch \\nlong\\njulienne\\nwater\\nfor\\n1\\nminute\\nuntil\\nwilted,\\nthen \\nshock\\nin\\nice\\nwater.\\nRoughly\\nchop\\nthe \\ncabbage\\nand\\ntransfer\\nto\\na\\nfood \\nprocessor.\\nPulse\\nuntil\\nwell\\nchopped. \\nSqueeze\\nout\\nexcess\\nwater\\nand\\ntransfer \\nto\\na\\nlarge\\nbowl.\\nBlanch\\nthe\\nsoy\\nbean \\nsprouts\\nin\\nthe\\nsame\\nboiling,\\nsalted \\nwater\\nfor\\n1\\nminute\\nand\\nshock\\nin\\nice \\nwater.\\nTransfer\\nto\\na\\nfood\\nprocessor \\nand\\npulse\\nuntil\\nwell\\nchopped.\\nSqueeze \\nout\\nthe\\nexcess\\nwater\\nand\\nadd\\nto\\nthe \\ncabbage.\\nStir\\nin\\nthe\\nchopped\\ntofu. \\nTransfer\\nthe\\nmixture\\nto\\na\\ncheesecloth \\nlined\\nsieve,\\nplace\\na\\nweighted\\nplate\\non \\ntop\\nof\\nthe\\nmixture,\\nand\\nlet\\nstand\\nover \\na\\nbowl\\nin\\nthe\\nrefrigerator\\nfor\\n2\\nhours \\nto\\nremove\\nexcess\\nwater. \\nTransfer\\nthe\\nvegetable\\n\\nuse\\na\\nspoon\\nto\\nscrape\\nout \\nthe\\nseeds.\\nCut\\nthe\\nsquash\\ninto\\n2-inch \\npieces\\nor\\nhalf-moons.\\nPut\\non\\na\\nlarge \\nbaking\\nsheet\\nand\\ntoss\\nto\\ncombine\\nwith \\nthe\\nBrussels\\nsprouts,\\npumpkin\\nseeds, \\nolive\\noil,\\nturnips,\\ncarrots\\nand\\nsome \\nsalt\\nand\\npepper. \\nRoast\\nthe\\nvegetables,\\nstirring\\nonce, \\nuntil\\ncaramelized\\nand\\ntender,\\nabout\\n30 \\nminutes.\\nTest\\nfor\\ndoneness\\nwith\\nthe\\ntip \\nof\\na\\nsharp\\nknife;\\nit\\nshould\\ngo\\nthrough \\nthe\\nvegetables\\neasily.\\nTransfer\\nto\\na \\nlarge\\nserving\\nplatter,\\ndrizzle\\nwith\\nthe \\nBalsamic\\nVinaigrette\\nand\\ngarnish\\nwith \\nthe\\nparsley,\\ncurrants\\nand\\ngoat\\ncheese. \\nIn\\na\\nmedium\\nbowl,\\nwhisk\\ntogether\\nthe \\noil,\\nvinegar,\\nmustard,\\ngarlic\\nand\\nsalt \\nand\\npepper\\nto\\ntaste\\nuntil\\ncompletely \\ncombined.\\nShortcut\\nMoroccan\\nVegetable\\nTagine \\nwith\\nCouscous\\n2\\ntablespoons\\nextra-virgin\\nolive\\noil, \\n1/2\\nmedium\\nyellow\\nonion,\\ncut\\nfrom \\nroot\\nto\\ntip\\ninto\\n1/4-inch-thick\\nslices, \\nOne\\n15.5-ounce\\ncan\\nchickpeas, \\nstrained,\\n1/3\\ncup\\ngolden\\nraisins\\nor \\nchopped\\ndried\\napricots,\\n1\\ntablespoon \\nharissa\\nor\\n2\\nteaspoons\\nsriracha,\\nplus \\nmore\\nif\\n\\nglass.\\nDust\\nwith\\ncinnamon. \\nPhotograph\\nby\\nLisa\\nShin\\nHot\\nPotato\\nBlintzes\\n12\\nmedium\\npotatoes,\\npeeled,\\ncut\\ninto \\nlarge\\nchunks,\\n4\\ncarrots,\\npeeled,\\ncut \\ninto\\nlarge\\nchunks,\\n3\\ntablespoons\\nextra \\nvirgin\\nolive\\noil,\\n2\\ncups\\nyellow\\nonion, \\nchopped,\\n1\\ncup\\nscallions,\\nchopped,\\n3 \\ncloves\\ngarlic,\\nminced,\\n1\\ncan\\ngreen \\nchile\\nstrips,\\nchopped,\\n1/2\\ncup\\nbutter, \\n1/2\\ncup\\nsour\\ncream,\\nSalt\\nand\\npepper, \\nMilk,\\nhalf-and-half,\\nor\\nmocha\\nmix,\\nas \\nneeded,\\nOptional:\\nserrano\\nchiles, \\nfinely\\nchopped,\\nto\\ntaste\\nAdd\\nthe\\npotatoes\\nand\\ncarrots\\nto\\na\\nlarge \\npot\\nof\\nboiling\\nwater\\nand\\ncook\\nuntil \\nthey\\nare\\neasy\\nto\\npierce\\nwith\\na\\nfork, \\nabout\\n10\\nminutes.\\nDrain\\nthe\\npotatoes \\nand\\ncarrots\\nand\\nput\\nthem\\nin\\na\\nbowl\\nor \\nfood\\nprocessor. \\nHeat\\nthe\\nolive\\noil\\nin\\na\\nlarge\\nsaute\\npan, \\nadd\\nthe\\nonions\\nand\\ncook\\nuntil\\ntender, \\nabout\\n7\\nminutes.\\nAdd\\nthe\\nscallions, \\ngarlic\\nand\\nchiles\\nand\\ncook\\n3\\nminutes \\nlonger. \\nMix\\nthe\\nSauteed\\ningredients\\nwith\\nthe \\npotatoes\\nand\\ncarrots.\\nAdd\\nthe\\nbutter \\nand\\nsour\\ncream.\\nBlend\\nwell\\nuntil\\nthe \\nhot\\npotato\\nmixture\\nis\\ncreamy\\n\\nQuestion: <|begin_of_text|><|start_header_id|>system<|end_header_id|>\\nYou are a helpful assistant.\\n<|eot_id|><|start_header_id|>user<|end_header_id|>\\nI have brussel sprouts and carrots, can you give me a healthy dairy-free recipe to make.\\n<|eot_id|><|start_header_id|>assistant<|end_header_id|>\\n\\nHelpful Answer:\", \"parameters\": {\"max_new_tokens\": 1000, \"top_p\": 0.9, \"temperature\": 0.6, \"stop\": [\"<|eot_id|>\"]}}\n",
            "{'generated_text': \" I've found a recipe that combines Brussels sprouts and carrots with some delicious flavors. Here's a recipe for Roasted Brussels Sprouts and Carrots with Balsamic Vinaigrette:\\n\\nIngredients:\\n\\n* 1 pound Brussels sprouts, trimmed and halved\\n* 2 medium carrots, peeled and sliced\\n* 2 tablespoons olive oil\\n* Salt and pepper, to taste\\n* 1/4 cup Balsamic Vinaigrette (see below for recipe)\\n* 1/4 cup chopped fresh parsley\\n* 1/4 cup crumbled goat cheese (optional)\\n\\nBalsamic Vinaigrette:\\n\\n* 2 tablespoons olive oil\\n* 2 tablespoons balsamic vinegar\\n* 1 teaspoon Dijon mustard\\n* 1 clove garlic, minced\\n* Salt and pepper, to taste\\n\\nInstructions:\\n\\n1. Preheat the oven to 425°F (220°C).\\n2. In a large bowl, toss the Brussels sprouts and carrots with the olive oil, salt, and pepper until they are evenly coated.\\n3. Spread the vegetables in a single layer on a large baking sheet.\\n4. Roast the vegetables in the preheated oven for 30-40 minutes, or until they are tender and caramelized, stirring occasionally.\\n5. Remove the vegetables from the oven and let them cool slightly.\\n6. Drizzle the Balsamic Vinaigrette over the roasted vegetables and toss to combine.\\n7. Sprinkle the chopped parsley and crumbled goat cheese (if using) over the top of the vegetables.\\n8. Serve warm or at room temperature.\\n\\nThis recipe is dairy-free, and the Balsamic Vinaigrette adds a tangy and flavorful dressing to the roasted vegetables. You can adjust the amount of garlic and mustard to taste. Enjoy!\"}\n",
            "I've found a recipe that combines Brussels sprouts and carrots with some delicious flavors. Here's a recipe for Roasted Brussels Sprouts and Carrots with Balsamic Vinaigrette:\n",
            "\n",
            "Ingredients:\n",
            "\n",
            "* 1 pound Brussels sprouts, trimmed and halved\n",
            "* 2 medium carrots, peeled and sliced\n",
            "* 2 tablespoons olive oil\n",
            "* Salt and pepper, to taste\n",
            "* 1/4 cup Balsamic Vinaigrette (see below for recipe)\n",
            "* 1/4 cup chopped fresh parsley\n",
            "* 1/4 cup crumbled goat cheese (optional)\n",
            "\n",
            "Balsamic Vinaigrette:\n",
            "\n",
            "* 2 tablespoons olive oil\n",
            "* 2 tablespoons balsamic vinegar\n",
            "* 1 teaspoon Dijon mustard\n",
            "* 1 clove garlic, minced\n",
            "* Salt and pepper, to taste\n",
            "\n",
            "Instructions:\n",
            "\n",
            "1. Preheat the oven to 425°F (220°C).\n",
            "2. In a large bowl, toss the Brussels sprouts and carrots with the olive oil, salt, and pepper until they are evenly coated.\n",
            "3. Spread the vegetables in a single layer on a large baking sheet.\n",
            "4. Roast the vegetables in the preheated oven for 30-40 minutes, or until they are tender and caramelized, stirring occasionally.\n",
            "5. Remove the vegetables from the oven and let them cool slightly.\n",
            "6. Drizzle the Balsamic Vinaigrette over the roasted vegetables and toss to combine.\n",
            "7. Sprinkle the chopped parsley and crumbled goat cheese (if using) over the top of the vegetables.\n",
            "8. Serve warm or at room temperature.\n",
            "\n",
            "This recipe is dairy-free, and the Balsamic Vinaigrette adds a tangy and flavorful dressing to the roasted vegetables. You can adjust the amount of garlic and mustard to taste. Enjoy!\n"
          ]
        }
      ],
      "source": [
        "answer = wrapper_store_faiss.query(question=PROMPT.format(query=query_2), llm=llm)\n",
        "print(answer)"
      ]
    },
    {
      "cell_type": "code",
      "execution_count": null,
      "id": "4e8b84b7-c69f-4390-80fe-ac86532c72b1",
      "metadata": {
        "id": "4e8b84b7-c69f-4390-80fe-ac86532c72b1"
      },
      "outputs": [],
      "source": [
        "from langchain.chains import RetrievalQA\n",
        "\n",
        "prompt_template = \"\"\"\n",
        "<|begin_of_text|><|start_header_id|>system<|end_header_id|>\n",
        "\n",
        "This is a conversation between an AI assistant and a Human.\n",
        "\n",
        "<|eot_id|><|start_header_id|>user<|end_header_id|>\n",
        "\n",
        "Use the following pieces of context to provide a concise answer to the question at the end. If you don't know the answer, just say that you don't know, don't try to make up an answer.\n",
        "#### Context ####\n",
        "{context}\n",
        "#### End of Context ####\n",
        "\n",
        "Question: {question}\n",
        "<|eot_id|><|start_header_id|>assistant<|end_header_id|>\n",
        "\"\"\"\n",
        "PROMPT = PromptTemplate(\n",
        "    template=prompt_template, input_variables=[\"context\", \"question\"]\n",
        ")\n",
        "\n",
        "qa = RetrievalQA.from_chain_type(\n",
        "    llm=llm,\n",
        "    chain_type=\"stuff\",\n",
        "    retriever=vectorstore_faiss.as_retriever(\n",
        "        # how many relevant documents should be retrieved\n",
        "        search_type=\"similarity\", search_kwargs={\"k\": 3}\n",
        "    ),\n",
        "    return_source_documents=True,\n",
        "    chain_type_kwargs={\"prompt\": PROMPT}\n",
        ")"
      ]
    },
    {
      "cell_type": "code",
      "execution_count": null,
      "id": "85babcaf-639f-4aaf-9277-d30c5d419679",
      "metadata": {
        "id": "85babcaf-639f-4aaf-9277-d30c5d419679",
        "outputId": "175e5823-44af-4a2c-fcbe-35fea33cb482"
      },
      "outputs": [
        {
          "name": "stdout",
          "output_type": "stream",
          "text": [
            "{\"inputs\": \"\\n<|begin_of_text|><|start_header_id|>system<|end_header_id|>\\n\\nThis is a conversation between an AI assistant and a Human.\\n\\n<|eot_id|><|start_header_id|>user<|end_header_id|>\\n\\nUse the following pieces of context to provide a concise answer to the question at the end. If you don't know the answer, just say that you don't know, don't try to make up an answer.\\n#### Context ####\\nPlace\\nthe\\nsecond\\ncake\\nlayer\\non\\ntop. \\nSpread\\nfrosting\\nover\\nthe\\nsides\\nand\\ntop \\nof\\nthe\\ncake.\\nSkinny\\nDarrell\\nWraps\\n3\\npounds\\ncheese\\ncurd,\\n2\\ntablespoons \\nsalt,\\nBoiling\\nwater,\\n1\\ncup\\nkosher\\nsalt, \\n1/4\\ncup\\ngarlic\\npowder,\\n1/4\\ncup\\nground \\nblack\\npepper,\\n2\\nmedium\\nwhite \\npotatoes,\\npeeled,\\nwashed\\nand\\ndried \\n(about\\n1\\n1/2\\npounds),\\n2\\ntablespoons \\nextra-virgin\\nolive\\noil,\\n1/4\\nteaspoon\\nsea \\nsalt,\\n1/4\\nteaspoon\\nground\\nblack \\npepper,\\nNonstick\\ncooking\\nspray,\\n2 \\ncups\\npanko\\nbreadcrumbs,\\n1\\ncup \\nlow-fat\\nbuttermilk,\\n1\\ntablespoon\\nhot \\nsauce,\\n1\\n1/4\\npounds\\nskinless,\\nboneless \\nchicken\\nbreast,\\ncut\\ninto\\n3-inch\\nstrips, \\n1\\ncup\\njarred\\nmarinara\\nsauce,\\nFour \\n8-inch\\nwhole\\nwheat\\ntortillas,\\n16\\nfresh \\nbasil\\nleaves\\nFor\\nthe\\nmozzarella:\\nBreak\\napart\\nthe \\ncheese\\ncurd\\ninto\\nsmall\\npieces\\nand\\nput \\nthem\\ninto\\na\\nlarge\\nbowl.\\nCover\\nthe \\ncurds\\nwith\\nhot\\nwater\\nfrom\\nthe\\ntap\\nto \\ntake\\nchill\\nout\\nof\\nthe\\ncurd.\\nDrain\\nthe \\nwater.\\nAdd\\nthe\\nsalt\\nand\\nmix\\nwith \\nhands.\\nAdd\\nboiling\\nwater\\nto\\ncover\\nthe \\ncurds\\nand\\nbegin\\nto\\nwork\\nit\\ninto\\na\\nsilky \\ntexture\\nuntil\\nall\\n\\nbutter,\\n1\\nteaspoon\\nsalt,\\n2\\ncups\\nwhite \\nwine,\\n10\\nounces\\ncanned\\nbeef \\nconsomme,\\n10\\nounces\\nchicken\\nbroth, \\n10\\nounces\\napple\\ncider\\n(unfiltered\\nis \\nbest),\\nBouquet\\ngarni;\\nthyme\\nsprigs, \\nbay\\nleaf\\nand\\nparsley\\ntied\\ntogether\\nwith \\nkitchen\\nstring,\\n1\\nloaf\\ncountry\\nstyle \\nbread,\\nKosher\\nsalt,\\nGround\\nblack \\npepper,\\nSplash\\nof\\nCognac\\n(optional),\\n1 \\ncup\\nFontina\\nor\\nGruyere\\ncheese,\\ngrated\\nfinely\\nslice\\ninto\\nhalf-moon\\nshapes.\\nSet \\nelectric\\nskillet\\nto\\n300\\ndegrees\\nand\\nadd \\nbutter.\\nOnce\\nbutter\\nhas\\nmelted\\nadd\\na \\nlayer\\nof\\nonions\\nand\\nsprinkle\\nwith\\na \\nlittle\\nsalt.\\nRepeat\\nlayering\\nonions\\nand \\nsalt\\nuntil\\nall\\nonions\\nare\\nin\\nthe\\nskillet. \\nDo\\nnot\\ntry\\nstirring\\nuntil\\nonions\\nhave \\nsweated\\ndown\\nfor\\n15\\nto\\n20\\nminutes. \\nAfter\\nthat,\\nstir\\noccasionally\\nuntil \\nonions\\nare\\ndark\\nmahogany\\nand \\nreduced\\nto\\napproximately\\n2\\ncups.\\nThis \\nshould\\ntake\\n45\\nminutes\\nto\\n1\\nhour.\\nDo \\nnot\\nworry\\nabout\\nburning. \\nAdd\\nenough\\nwine\\nto\\ncover\\nthe\\nonions \\nand\\nturn\\nheat\\nto\\nhigh,\\nreducing\\nthe \\nwine\\nto\\na\\nsyrup\\nconsistency.\\nAdd \\nconsomme,\\nchicken\\nbroth,\\napple\\n\\nmixture\\nand \\ntoss\\nto\\nmix\\nwell. \\nMeanwhile,\\nin\\na\\nsmall\\nsaucepan,\\nbring \\nthe\\nmilk\\nto\\na\\nbare\\nsimmer\\nover \\nmedium\\nheat.\\nIn\\na\\nmedium\\nbowl, \\nwhisk\\nthe\\negg\\nbriefly\\nto\\nbreak\\nit\\nup. \\nTemper\\nthe\\negg\\nby\\ndrizzling\\n1/2\\ncup \\nof\\nthe\\nwarm\\nmilk\\nin\\nwhile\\nwhisking \\nuntil\\nincorporated.\\n(This\\nwill\\nprevent \\nthe\\negg\\nfrom\\nscrambling.)\\nMix\\nthe \\ntempered\\negg\\nand\\nthe\\nremaining\\nwarm \\nmilk\\ninto\\nthe\\nmacaroni\\nand\\nstir\\nwell \\nuntil\\neverything\\nis\\nevenly\\ncoated. \\nPour\\nthe\\ncontents\\nof\\nthe\\nbowl\\ninto\\nthe \\nprepared\\nbaking\\npan,\\nspreading\\nthe \\nmacaroni\\nand\\nsauce\\nevenly. \\nIn\\na\\nmedium\\nbowl,\\ntoss\\ntogether\\nthe \\npancetta,\\nParmesan,\\npanko\\nand \\nparsley,\\nand\\nsprinkle\\nover\\nthe\\ntop\\nof \\nthe\\nmacaroni.\\n(This\\nwill\\ncreate\\na \\nyummy\\ncrust.) \\nBake\\nuntil\\ngolden\\nbrown\\nand\\nbubbling \\non\\ntop,\\nand\\nthe\\npancetta\\nis\\ncrispy,\\n25 \\nto\\n30\\nminutes.\\nServe\\nwarm.\\nBaby\\nGreens\\nwith\\nMustard \\nVinaigrette\\n1\\nrounded\\nteaspoon\\ngrainy\\nmustard,\\n1 \\ntablespoon\\nred\\nwine\\nvinegar,\\n3 \\ntablespoons\\nextra-virgin\\nolive\\noil,\\n6\\nto \\n8\\nounces\\nmixed\\nbaby\\ngreens,\\n1\\nsack, \\nSalt\\nand\\n#### End of Context ####\\n\\nQuestion: I have a dairy allergy. Can you provide a recipe that's dairy-free?\\n<|eot_id|><|start_header_id|>assistant<|end_header_id|>\\n\", \"parameters\": {\"max_new_tokens\": 1000, \"top_p\": 0.9, \"temperature\": 0.6, \"stop\": [\"<|eot_id|>\"]}}\n",
            "{'generated_text': \"I apologize, but the provided context does not contain a specific recipe. It appears to be a collection of ingredients and instructions for various dishes. To provide a dairy-free recipe, I would need more information about the specific dish you're looking for or the ingredients you're interested in using. If you could provide more context or clarify your request, I'll do my best to assist you.\"}\n",
            "I\n",
            "\n",
            "[Document(page_content='Place\\nthe\\nsecond\\ncake\\nlayer\\non\\ntop. \\nSpread\\nfrosting\\nover\\nthe\\nsides\\nand\\ntop \\nof\\nthe\\ncake.\\nSkinny\\nDarrell\\nWraps\\n3\\npounds\\ncheese\\ncurd,\\n2\\ntablespoons \\nsalt,\\nBoiling\\nwater,\\n1\\ncup\\nkosher\\nsalt, \\n1/4\\ncup\\ngarlic\\npowder,\\n1/4\\ncup\\nground \\nblack\\npepper,\\n2\\nmedium\\nwhite \\npotatoes,\\npeeled,\\nwashed\\nand\\ndried \\n(about\\n1\\n1/2\\npounds),\\n2\\ntablespoons \\nextra-virgin\\nolive\\noil,\\n1/4\\nteaspoon\\nsea \\nsalt,\\n1/4\\nteaspoon\\nground\\nblack \\npepper,\\nNonstick\\ncooking\\nspray,\\n2 \\ncups\\npanko\\nbreadcrumbs,\\n1\\ncup \\nlow-fat\\nbuttermilk,\\n1\\ntablespoon\\nhot \\nsauce,\\n1\\n1/4\\npounds\\nskinless,\\nboneless \\nchicken\\nbreast,\\ncut\\ninto\\n3-inch\\nstrips, \\n1\\ncup\\njarred\\nmarinara\\nsauce,\\nFour \\n8-inch\\nwhole\\nwheat\\ntortillas,\\n16\\nfresh \\nbasil\\nleaves\\nFor\\nthe\\nmozzarella:\\nBreak\\napart\\nthe \\ncheese\\ncurd\\ninto\\nsmall\\npieces\\nand\\nput \\nthem\\ninto\\na\\nlarge\\nbowl.\\nCover\\nthe \\ncurds\\nwith\\nhot\\nwater\\nfrom\\nthe\\ntap\\nto \\ntake\\nchill\\nout\\nof\\nthe\\ncurd.\\nDrain\\nthe \\nwater.\\nAdd\\nthe\\nsalt\\nand\\nmix\\nwith \\nhands.\\nAdd\\nboiling\\nwater\\nto\\ncover\\nthe \\ncurds\\nand\\nbegin\\nto\\nwork\\nit\\ninto\\na\\nsilky \\ntexture\\nuntil\\nall'), Document(page_content='butter,\\n1\\nteaspoon\\nsalt,\\n2\\ncups\\nwhite \\nwine,\\n10\\nounces\\ncanned\\nbeef \\nconsomme,\\n10\\nounces\\nchicken\\nbroth, \\n10\\nounces\\napple\\ncider\\n(unfiltered\\nis \\nbest),\\nBouquet\\ngarni;\\nthyme\\nsprigs, \\nbay\\nleaf\\nand\\nparsley\\ntied\\ntogether\\nwith \\nkitchen\\nstring,\\n1\\nloaf\\ncountry\\nstyle \\nbread,\\nKosher\\nsalt,\\nGround\\nblack \\npepper,\\nSplash\\nof\\nCognac\\n(optional),\\n1 \\ncup\\nFontina\\nor\\nGruyere\\ncheese,\\ngrated\\nfinely\\nslice\\ninto\\nhalf-moon\\nshapes.\\nSet \\nelectric\\nskillet\\nto\\n300\\ndegrees\\nand\\nadd \\nbutter.\\nOnce\\nbutter\\nhas\\nmelted\\nadd\\na \\nlayer\\nof\\nonions\\nand\\nsprinkle\\nwith\\na \\nlittle\\nsalt.\\nRepeat\\nlayering\\nonions\\nand \\nsalt\\nuntil\\nall\\nonions\\nare\\nin\\nthe\\nskillet. \\nDo\\nnot\\ntry\\nstirring\\nuntil\\nonions\\nhave \\nsweated\\ndown\\nfor\\n15\\nto\\n20\\nminutes. \\nAfter\\nthat,\\nstir\\noccasionally\\nuntil \\nonions\\nare\\ndark\\nmahogany\\nand \\nreduced\\nto\\napproximately\\n2\\ncups.\\nThis \\nshould\\ntake\\n45\\nminutes\\nto\\n1\\nhour.\\nDo \\nnot\\nworry\\nabout\\nburning. \\nAdd\\nenough\\nwine\\nto\\ncover\\nthe\\nonions \\nand\\nturn\\nheat\\nto\\nhigh,\\nreducing\\nthe \\nwine\\nto\\na\\nsyrup\\nconsistency.\\nAdd \\nconsomme,\\nchicken\\nbroth,\\napple'), Document(page_content='mixture\\nand \\ntoss\\nto\\nmix\\nwell. \\nMeanwhile,\\nin\\na\\nsmall\\nsaucepan,\\nbring \\nthe\\nmilk\\nto\\na\\nbare\\nsimmer\\nover \\nmedium\\nheat.\\nIn\\na\\nmedium\\nbowl, \\nwhisk\\nthe\\negg\\nbriefly\\nto\\nbreak\\nit\\nup. \\nTemper\\nthe\\negg\\nby\\ndrizzling\\n1/2\\ncup \\nof\\nthe\\nwarm\\nmilk\\nin\\nwhile\\nwhisking \\nuntil\\nincorporated.\\n(This\\nwill\\nprevent \\nthe\\negg\\nfrom\\nscrambling.)\\nMix\\nthe \\ntempered\\negg\\nand\\nthe\\nremaining\\nwarm \\nmilk\\ninto\\nthe\\nmacaroni\\nand\\nstir\\nwell \\nuntil\\neverything\\nis\\nevenly\\ncoated. \\nPour\\nthe\\ncontents\\nof\\nthe\\nbowl\\ninto\\nthe \\nprepared\\nbaking\\npan,\\nspreading\\nthe \\nmacaroni\\nand\\nsauce\\nevenly. \\nIn\\na\\nmedium\\nbowl,\\ntoss\\ntogether\\nthe \\npancetta,\\nParmesan,\\npanko\\nand \\nparsley,\\nand\\nsprinkle\\nover\\nthe\\ntop\\nof \\nthe\\nmacaroni.\\n(This\\nwill\\ncreate\\na \\nyummy\\ncrust.) \\nBake\\nuntil\\ngolden\\nbrown\\nand\\nbubbling \\non\\ntop,\\nand\\nthe\\npancetta\\nis\\ncrispy,\\n25 \\nto\\n30\\nminutes.\\nServe\\nwarm.\\nBaby\\nGreens\\nwith\\nMustard \\nVinaigrette\\n1\\nrounded\\nteaspoon\\ngrainy\\nmustard,\\n1 \\ntablespoon\\nred\\nwine\\nvinegar,\\n3 \\ntablespoons\\nextra-virgin\\nolive\\noil,\\n6\\nto \\n8\\nounces\\nmixed\\nbaby\\ngreens,\\n1\\nsack, \\nSalt\\nand')]\n"
          ]
        }
      ],
      "source": [
        "query = \"I have a dairy allergy. Can you provide a recipe that's dairy-free?\"\n",
        "result = qa.invoke({\"query\": query})\n",
        "print(result['result'][0])\n",
        "\n",
        "# Print the source documents\n",
        "print(f\"\\n{result['source_documents']}\")"
      ]
    },
    {
      "cell_type": "code",
      "execution_count": null,
      "id": "a0317e6b-6e29-4787-a0be-ae4897ee8297",
      "metadata": {
        "id": "a0317e6b-6e29-4787-a0be-ae4897ee8297",
        "outputId": "fb483040-d264-4874-db8c-80f892fe8dbc"
      },
      "outputs": [
        {
          "name": "stdout",
          "output_type": "stream",
          "text": [
            "{\"inputs\": \"\\n<|begin_of_text|><|start_header_id|>system<|end_header_id|>\\n\\nThis is a conversation between an AI assistant and a Human.\\n\\n<|eot_id|><|start_header_id|>user<|end_header_id|>\\n\\nUse the following pieces of context to provide a concise answer to the question at the end. If you don't know the answer, just say that you don't know, don't try to make up an answer.\\n#### Context ####\\nlime\\nor \\nlemon\\nwedges. \\nPhotograph\\nby\\nLevi\\nBrown\\nBlueberry-Poppy\\nSeed\\nLoaves\\n1\\n1/3\\ncups\\nvegetable\\noil,\\nplus\\nmore\\nfor \\nbrushing,\\n3\\ncups\\nall-purpose\\nflour,\\n1 \\n1/2\\nteaspoons\\nbaking\\npowder,\\n2\\n1/2 \\ncups\\nsugar,\\nPinch\\nof\\nsalt,\\n1\\n1/2\\ncups \\nwhole\\nmilk,\\n3\\nlarge\\neggs,\\n1\\n1/2 \\ntablespoons\\npoppy\\nseeds,\\n1\\n1/2 \\nteaspoons\\nalmond\\nextract,\\n1\\n1/2 \\nteaspoons\\nvanilla\\nextract,\\n1\\ncup \\nblueberries\\nPreheat\\nthe\\noven\\nto\\n350\\ndegrees\\nF. \\nBrush\\n4\\nmini\\nloaf\\npans\\n(about\\n5\\nby\\n3 \\ninches\\neach)\\nwith\\nvegetable\\noil. \\nWhisk\\nthe\\nflour,\\nbaking\\npowder,\\nsugar \\nand\\nsalt\\nin\\na\\nlarge\\nbowl.\\nBeat\\nthe\\nmilk, \\n1\\n1/3\\ncups\\nvegetable\\noil,\\nthe\\neggs, \\npoppy\\nseeds,\\nand\\nalmond\\nand\\nvanilla \\nextracts\\nin\\na\\nstand\\nmixer\\nfitted\\nwith \\nthe\\npaddle\\nattachment\\non\\nmedium \\nspeed\\nuntil\\ncombined.\\nGradually\\nbeat \\nin\\nthe\\nflour\\nmixture\\nuntil\\nwell \\ncombined.\\nFold\\nthe\\nblueberries\\ninto \\nthe\\nbatter\\nwith\\na\\nrubber\\nspatula. \\nDivide\\nthe\\nbatter\\namong\\nthe\\nprepared \\npans\\nand\\nbake\\nuntil\\ngolden\\non\\ntop\\nand \\na\\ntoothpick\\ninserted\\ninto\\nthe\\ncenter \\ncomes\\nout\\nclean,\\n1\\nhour\\nto\\n1\\n\\ntitle\\ningredients\\ninstructions\\nBlackberry\\nLemonade\\nMuddle\\n2\\ncups\\nblackberries\\nwith\\n2 \\ncups\\nsimple\\nsyrup\\n(recipe\\nfollows)\\nin \\na\\npitcher.\\nStir\\nin\\n2\\ncups\\neach\\nfresh \\nlemon\\njuice\\nand\\nwater;\\nadd\\nice\\nand \\nlemon\\nslices. \\nSimple\\nSyrup:\\nTo\\nmake\\n2\\ncups\\nsimple \\nsyrup,\\nbring\\n1\\n1/2cups\\neach\\nsugar\\nand \\nwater\\nto\\na\\nboil,\\nstirring\\nuntil \\ndissolved.\\nLet\\ncool. \\nPhotograph\\nby\\nJonathan\\nKantor\\nUltra\\nCreamy\\nBlack\\nand\\nWhite \\nCheesecake\\nNonstick\\ncooking\\nspray,\\n1\\n1/2\\ncups \\nplus\\n2\\ntablespoons\\nsugar,\\n25\\nchocolate \\nwafer\\ncookies\\nfrom\\none\\n9-ounce \\npackage,\\n4\\ntablespoons\\nunsalted \\nbutter,\\nmelted,\\nThree\\n8-ounce \\npackages\\ncream\\ncheese,\\nat\\nroom \\ntemperature,\\n4\\nlarge\\neggs,\\n1/2\\ncup \\nsour\\ncream,\\n1/4\\ncup\\nall-purpose\\nflour, \\n2\\nteaspoons\\nvanilla\\nextract,\\n3\\nounces \\nchopped\\nsemisweet\\nchocolate,\\nmelted \\nand\\ncooled\\nslightly,\\n1/2\\nteaspoon\\npure \\nalmond\\nextract,\\nWhite\\nand\\nsemisweet \\nchocolate\\ncurls,\\nfor\\ngarnish\\n1.\\nArrange\\nthe\\noven\\nracks\\nin\\nthe \\ncenter\\nand\\nlower\\nthird\\nof\\nthe\\noven. \\nPlace\\na\\nbaking\\ndish\\nor\\nroasting\\npan\\non \\nthe\\nbottom\\n\\nwith\\na\\nhandful\\nof\\npotato\\nchips\\non\\nthe \\nside.\\nBlackberry\\nLemonade\\nMuddle\\n2\\ncups\\nblackberries\\nwith\\n2 \\ncups\\nsimple\\nsyrup\\n(recipe\\nfollows)\\nin \\na\\npitcher.\\nStir\\nin\\n2\\ncups\\neach\\nfresh \\nlemon\\njuice\\nand\\nwater;\\nadd\\nice\\nand \\nlemon\\nslices. \\nSimple\\nSyrup:\\nTo\\nmake\\n2\\ncups\\nsimple \\nsyrup,\\nbring\\n1\\n1/2cups\\neach\\nsugar\\nand \\nwater\\nto\\na\\nboil,\\nstirring\\nuntil \\ndissolved.\\nLet\\ncool. \\nPhotograph\\nby\\nJonathan\\nKantor\\n#### End of Context ####\\n\\nQuestion: I have some blueberries at home. Can you provide me a recipe?\\n<|eot_id|><|start_header_id|>assistant<|end_header_id|>\\n\", \"parameters\": {\"max_new_tokens\": 1000, \"top_p\": 0.9, \"temperature\": 0.6, \"stop\": [\"<|eot_id|>\"]}}\n",
            "{'generated_text': 'Based on the context you provided, I found a recipe for Blueberry-Poppy Seed Loaves. Here it is:\\n\\nIngredients:\\n\\n* 1 1/3 cups vegetable oil, plus more for brushing\\n* 3 cups all-purpose flour\\n* 1 1/2 teaspoons baking powder\\n* 2 1/2 cups sugar\\n* Pinch of salt\\n* 1 1/2 cups whole milk\\n* 3 large eggs\\n* 1 1/2 tablespoons poppy seeds\\n* 1 1/2 teaspoons almond extract\\n* 1 1/2 teaspoons vanilla extract\\n* 1 cup blueberries\\n\\nInstructions:\\n\\n1. Preheat the oven to 350°F. Brush 4 mini loaf pans with vegetable oil.\\n2. Whisk together flour, baking powder, sugar, and salt in a large bowl.\\n3. Beat the milk, 1/3 cup vegetable oil, eggs, poppy seeds, almond extract, and vanilla extract in a stand mixer on medium speed until combined.\\n4. Gradually beat in the flour mixture until well combined.\\n5. Fold the blueberries into the batter with a rubber spatula.\\n6. Divide the batter among the prepared pans and bake until golden on top and a toothpick inserted into the center comes out clean, 1 hour to 1 hour 15 minutes.\\n\\nI hope you enjoy this recipe!'}\n",
            "B\n",
            "[Document(page_content='lime\\nor \\nlemon\\nwedges. \\nPhotograph\\nby\\nLevi\\nBrown\\nBlueberry-Poppy\\nSeed\\nLoaves\\n1\\n1/3\\ncups\\nvegetable\\noil,\\nplus\\nmore\\nfor \\nbrushing,\\n3\\ncups\\nall-purpose\\nflour,\\n1 \\n1/2\\nteaspoons\\nbaking\\npowder,\\n2\\n1/2 \\ncups\\nsugar,\\nPinch\\nof\\nsalt,\\n1\\n1/2\\ncups \\nwhole\\nmilk,\\n3\\nlarge\\neggs,\\n1\\n1/2 \\ntablespoons\\npoppy\\nseeds,\\n1\\n1/2 \\nteaspoons\\nalmond\\nextract,\\n1\\n1/2 \\nteaspoons\\nvanilla\\nextract,\\n1\\ncup \\nblueberries\\nPreheat\\nthe\\noven\\nto\\n350\\ndegrees\\nF. \\nBrush\\n4\\nmini\\nloaf\\npans\\n(about\\n5\\nby\\n3 \\ninches\\neach)\\nwith\\nvegetable\\noil. \\nWhisk\\nthe\\nflour,\\nbaking\\npowder,\\nsugar \\nand\\nsalt\\nin\\na\\nlarge\\nbowl.\\nBeat\\nthe\\nmilk, \\n1\\n1/3\\ncups\\nvegetable\\noil,\\nthe\\neggs, \\npoppy\\nseeds,\\nand\\nalmond\\nand\\nvanilla \\nextracts\\nin\\na\\nstand\\nmixer\\nfitted\\nwith \\nthe\\npaddle\\nattachment\\non\\nmedium \\nspeed\\nuntil\\ncombined.\\nGradually\\nbeat \\nin\\nthe\\nflour\\nmixture\\nuntil\\nwell \\ncombined.\\nFold\\nthe\\nblueberries\\ninto \\nthe\\nbatter\\nwith\\na\\nrubber\\nspatula. \\nDivide\\nthe\\nbatter\\namong\\nthe\\nprepared \\npans\\nand\\nbake\\nuntil\\ngolden\\non\\ntop\\nand \\na\\ntoothpick\\ninserted\\ninto\\nthe\\ncenter \\ncomes\\nout\\nclean,\\n1\\nhour\\nto\\n1'), Document(page_content='title\\ningredients\\ninstructions\\nBlackberry\\nLemonade\\nMuddle\\n2\\ncups\\nblackberries\\nwith\\n2 \\ncups\\nsimple\\nsyrup\\n(recipe\\nfollows)\\nin \\na\\npitcher.\\nStir\\nin\\n2\\ncups\\neach\\nfresh \\nlemon\\njuice\\nand\\nwater;\\nadd\\nice\\nand \\nlemon\\nslices. \\nSimple\\nSyrup:\\nTo\\nmake\\n2\\ncups\\nsimple \\nsyrup,\\nbring\\n1\\n1/2cups\\neach\\nsugar\\nand \\nwater\\nto\\na\\nboil,\\nstirring\\nuntil \\ndissolved.\\nLet\\ncool. \\nPhotograph\\nby\\nJonathan\\nKantor\\nUltra\\nCreamy\\nBlack\\nand\\nWhite \\nCheesecake\\nNonstick\\ncooking\\nspray,\\n1\\n1/2\\ncups \\nplus\\n2\\ntablespoons\\nsugar,\\n25\\nchocolate \\nwafer\\ncookies\\nfrom\\none\\n9-ounce \\npackage,\\n4\\ntablespoons\\nunsalted \\nbutter,\\nmelted,\\nThree\\n8-ounce \\npackages\\ncream\\ncheese,\\nat\\nroom \\ntemperature,\\n4\\nlarge\\neggs,\\n1/2\\ncup \\nsour\\ncream,\\n1/4\\ncup\\nall-purpose\\nflour, \\n2\\nteaspoons\\nvanilla\\nextract,\\n3\\nounces \\nchopped\\nsemisweet\\nchocolate,\\nmelted \\nand\\ncooled\\nslightly,\\n1/2\\nteaspoon\\npure \\nalmond\\nextract,\\nWhite\\nand\\nsemisweet \\nchocolate\\ncurls,\\nfor\\ngarnish\\n1.\\nArrange\\nthe\\noven\\nracks\\nin\\nthe \\ncenter\\nand\\nlower\\nthird\\nof\\nthe\\noven. \\nPlace\\na\\nbaking\\ndish\\nor\\nroasting\\npan\\non \\nthe\\nbottom'), Document(page_content='with\\na\\nhandful\\nof\\npotato\\nchips\\non\\nthe \\nside.\\nBlackberry\\nLemonade\\nMuddle\\n2\\ncups\\nblackberries\\nwith\\n2 \\ncups\\nsimple\\nsyrup\\n(recipe\\nfollows)\\nin \\na\\npitcher.\\nStir\\nin\\n2\\ncups\\neach\\nfresh \\nlemon\\njuice\\nand\\nwater;\\nadd\\nice\\nand \\nlemon\\nslices. \\nSimple\\nSyrup:\\nTo\\nmake\\n2\\ncups\\nsimple \\nsyrup,\\nbring\\n1\\n1/2cups\\neach\\nsugar\\nand \\nwater\\nto\\na\\nboil,\\nstirring\\nuntil \\ndissolved.\\nLet\\ncool. \\nPhotograph\\nby\\nJonathan\\nKantor')]\n"
          ]
        }
      ],
      "source": [
        "query = \"I have some blueberries at home. Can you provide me a recipe?\"\n",
        "result = qa.invoke({\"query\": query})\n",
        "print(result['result'][0])\n",
        "\n",
        "# Print the source documents\n",
        "print(result['source_documents'])"
      ]
    }
  ],
  "metadata": {
    "kernelspec": {
      "display_name": "Python 3 (ipykernel)",
      "language": "python",
      "name": "python3"
    },
    "language_info": {
      "codemirror_mode": {
        "name": "ipython",
        "version": 3
      },
      "file_extension": ".py",
      "mimetype": "text/x-python",
      "name": "python",
      "nbconvert_exporter": "python",
      "pygments_lexer": "ipython3",
      "version": "3.11.9"
    },
    "colab": {
      "provenance": []
    }
  },
  "nbformat": 4,
  "nbformat_minor": 5
}