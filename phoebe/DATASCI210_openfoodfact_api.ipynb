{
  "nbformat": 4,
  "nbformat_minor": 0,
  "metadata": {
    "colab": {
      "provenance": [],
      "gpuType": "T4"
    },
    "kernelspec": {
      "name": "python3",
      "display_name": "Python 3"
    },
    "language_info": {
      "name": "python"
    },
    "accelerator": "GPU"
  },
  "cells": [
    {
      "cell_type": "code",
      "execution_count": null,
      "metadata": {
        "id": "HeYW1lFjnFZA",
        "outputId": "d9ea2ead-e583-422d-df42-22476c35d54a",
        "colab": {
          "base_uri": "https://localhost:8080/"
        }
      },
      "outputs": [
        {
          "output_type": "stream",
          "name": "stdout",
          "text": [
            "Requirement already satisfied: requests in /usr/local/lib/python3.10/dist-packages (2.32.3)\n",
            "Requirement already satisfied: charset-normalizer<4,>=2 in /usr/local/lib/python3.10/dist-packages (from requests) (3.3.2)\n",
            "Requirement already satisfied: idna<4,>=2.5 in /usr/local/lib/python3.10/dist-packages (from requests) (3.8)\n",
            "Requirement already satisfied: urllib3<3,>=1.21.1 in /usr/local/lib/python3.10/dist-packages (from requests) (2.0.7)\n",
            "Requirement already satisfied: certifi>=2017.4.17 in /usr/local/lib/python3.10/dist-packages (from requests) (2024.8.30)\n"
          ]
        }
      ],
      "source": [
        "pip install requests"
      ]
    },
    {
      "cell_type": "code",
      "source": [
        "import requests\n",
        "\n",
        "def get_product_data(barcode):\n",
        "    url = f\"https://world.openfoodfacts.org/api/v0/product/{barcode}.json\"\n",
        "    response = requests.get(url)\n",
        "    if response.status_code == 200:\n",
        "        data = response.json()\n",
        "        if data['status'] == 1:\n",
        "            product = data['product']\n",
        "            return product\n",
        "        else:\n",
        "            return f\"Product with barcode not found.\"\n",
        "    else:\n",
        "        return f\"Error fetching data. Status code: {response.status_code}\""
      ],
      "metadata": {
        "id": "cYJpc6gfnHaZ"
      },
      "execution_count": null,
      "outputs": []
    },
    {
      "cell_type": "markdown",
      "source": [
        "**Extract all columns in the dataset**"
      ],
      "metadata": {
        "id": "Y1B3FqLd5owb"
      }
    },
    {
      "cell_type": "code",
      "source": [
        "# extract a product\n",
        "barcode = \"737628064502\"\n",
        "product_data = get_product_data(barcode)\n",
        "\n",
        "# extract all columns\n",
        "if isinstance(product_data, dict):\n",
        "    for key, value in product_data.items():\n",
        "        print(f\"{key}: {value}\")\n",
        "else:\n",
        "    print(product_data)"
      ],
      "metadata": {
        "colab": {
          "base_uri": "https://localhost:8080/"
        },
        "id": "DO9L9hIR5nh1",
        "outputId": "7103dce0-045b-4f9f-cbcf-4053ad32a8c6"
      },
      "execution_count": null,
      "outputs": [
        {
          "output_type": "stream",
          "name": "stdout",
          "text": [
            "_id: 0737628064502\n",
            "_keywords: ['and', 'asia', 'beverage', 'cereal', 'food', 'gluten', 'include', 'kit', 'kitchen', 'no', 'noodle', 'pasta', 'peanut', 'plant-based', 'potatoe', 'product', 'rice', 'seasoning', 'simply', 'stir-fry', 'thai', 'thailand', 'their', 'vegan', 'vegetarian']\n",
            "added_countries_tags: []\n",
            "additives_debug_tags: []\n",
            "additives_n: 1\n",
            "additives_old_n: 1\n",
            "additives_old_tags: ['en:e330']\n",
            "additives_original_tags: ['en:e330']\n",
            "additives_prev_original_tags: ['en:e330']\n",
            "additives_tags: ['en:e330']\n",
            "allergens: en:peanuts\n",
            "allergens_from_ingredients: en:peanuts, peanut\n",
            "allergens_from_user: (en) en:peanuts\n",
            "allergens_hierarchy: ['en:peanuts']\n",
            "allergens_lc: en\n",
            "allergens_tags: ['en:peanuts']\n",
            "amino_acids_prev_tags: []\n",
            "amino_acids_tags: []\n",
            "brand_owner: Simply Asia Foods, Inc.\n",
            "brand_owner_imported: Simply Asia Foods, Inc.\n",
            "brands: Thai Kitchen,Simply Asia\n",
            "brands_tags: ['thai-kitchen', 'simply-asia']\n",
            "categories: Plant-based foods and beverages, Plant-based foods, Cereals and potatoes, Cereals and their products, Pastas, Noodles, Rice Noodles\n",
            "categories_hierarchy: ['en:plant-based-foods-and-beverages', 'en:plant-based-foods', 'en:cereals-and-potatoes', 'en:cereals-and-their-products', 'en:pastas', 'en:noodles', 'en:Rice Noodles']\n",
            "categories_imported: Plant-based foods and beverages, Plant-based foods, Cereals and potatoes, Cereals and their products, Noodles\n",
            "categories_lc: en\n",
            "categories_old: Plant-based foods and beverages,Plant-based foods,Cereals and potatoes,Cereals and their products,Pastas,Noodles,Rice Noodles\n",
            "categories_properties: {}\n",
            "categories_properties_tags: ['all-products', 'categories-known', 'agribalyse-food-code-unknown', 'agribalyse-proxy-food-code-unknown', 'ciqual-food-code-unknown', 'agribalyse-unknown']\n",
            "categories_tags: ['en:plant-based-foods-and-beverages', 'en:plant-based-foods', 'en:cereals-and-potatoes', 'en:cereals-and-their-products', 'en:pastas', 'en:noodles', 'en:rice-noodles']\n",
            "category_properties: {}\n",
            "checkers: []\n",
            "checkers_tags: []\n",
            "ciqual_food_name_tags: ['unknown']\n",
            "cities_tags: []\n",
            "code: 0737628064502\n",
            "codes_tags: ['code-13', '0737628064xxx', '073762806xxxx', '07376280xxxxx', '0737628xxxxxx', '073762xxxxxxx', '07376xxxxxxxx', '0737xxxxxxxxx', '073xxxxxxxxxx', '07xxxxxxxxxxx', '0xxxxxxxxxxxx']\n",
            "compared_to_category: en:rice-noodles\n",
            "complete: 0\n",
            "completeness: 0.8875\n",
            "correctors: ['andre', 'thierrym']\n",
            "correctors_tags: ['andre', 'thierrym', 'usda-ndb-import', 'smartchef', 'org-database-usda', 'packbot', 'openfoodfacts-contributors', 'roboto-app', 'waytovegan', 'charlesnepote', 'foodie-tim']\n",
            "countries: France,United States\n",
            "countries_hierarchy: ['en:france', 'en:united-states']\n",
            "countries_imported: United States\n",
            "countries_lc: en\n",
            "countries_tags: ['en:france', 'en:united-states']\n",
            "created_t: 1345799269\n",
            "creator: openfoodfacts-contributors\n",
            "data_quality_bugs_tags: []\n",
            "data_quality_errors_tags: []\n",
            "data_quality_info_tags: ['en:packaging-data-incomplete', 'en:ingredients-percent-analysis-ok', 'en:ecoscore-extended-data-not-computed', 'en:food-groups-1-known', 'en:food-groups-2-known', 'en:food-groups-3-unknown']\n",
            "data_quality_tags: ['en:packaging-data-incomplete', 'en:ingredients-percent-analysis-ok', 'en:ecoscore-extended-data-not-computed', 'en:food-groups-1-known', 'en:food-groups-2-known', 'en:food-groups-3-unknown', 'en:nutrition-value-very-high-for-category-sugars', 'en:vegan-label-but-could-not-confirm-for-all-ingredients', 'en:vegetarian-label-but-could-not-confirm-for-all-ingredients', 'en:ecoscore-packaging-unscored-shape', 'en:ecoscore-production-system-no-label']\n",
            "data_quality_warnings_tags: ['en:nutrition-value-very-high-for-category-sugars', 'en:vegan-label-but-could-not-confirm-for-all-ingredients', 'en:vegetarian-label-but-could-not-confirm-for-all-ingredients', 'en:ecoscore-packaging-unscored-shape', 'en:ecoscore-production-system-no-label']\n",
            "data_sources: Databases, database-usda, Database - USDA NDB\n",
            "data_sources_imported: Databases, database-usda\n",
            "data_sources_tags: ['databases', 'database-usda', 'database-usda-ndb']\n",
            "debug_param_sorted_langs: ['en']\n",
            "ecoscore_data: {'adjustments': {'origins_of_ingredients': {'aggregated_origins': [{'epi_score': '0', 'origin': 'en:thailand', 'percent': 100, 'transportation_score': None}], 'epi_score': 0, 'epi_value': -5, 'origins_from_categories': ['en:unknown'], 'origins_from_origins_field': ['en:thailand'], 'transportation_score': 0, 'transportation_scores': {'ad': 19, 'al': 33, 'at': 8, 'ax': 4, 'ba': 11, 'be': 12, 'bg': 13, 'ch': 9, 'cy': 37, 'cz': 0, 'de': 12, 'dk': 0, 'dz': 9, 'ee': 7, 'eg': 33, 'es': 25, 'fi': 7, 'fo': 3, 'fr': 0, 'gg': 0, 'gi': 27, 'gr': 37, 'hr': 24, 'hu': 4, 'ie': 17, 'il': 33, 'im': 0, 'is': 0, 'it': 16, 'je': 0, 'lb': 37, 'li': 11, 'lt': 0, 'lu': 3, 'lv': 8, 'ly': 34, 'ma': 3, 'mc': 31, 'md': 22, 'me': 29, 'mk': 20, 'mt': 34, 'nl': 12, 'no': 12, 'pl': 0, 'ps': 41, 'pt': 16, 'ro': 23, 'rs': 10, 'se': 0, 'si': 27, 'sj': 0, 'sk': 0, 'sm': 10, 'sy': 24, 'tn': 33, 'tr': 0, 'ua': 33, 'uk': 7, 'us': 0, 'va': 1, 'world': 0, 'xk': 19}, 'transportation_value': 0, 'transportation_values': {'ad': 3, 'al': 5, 'at': 1, 'ax': 1, 'ba': 2, 'be': 2, 'bg': 2, 'ch': 1, 'cy': 6, 'cz': 0, 'de': 2, 'dk': 0, 'dz': 1, 'ee': 1, 'eg': 5, 'es': 4, 'fi': 1, 'fo': 0, 'fr': 0, 'gg': 0, 'gi': 4, 'gr': 6, 'hr': 4, 'hu': 1, 'ie': 3, 'il': 5, 'im': 0, 'is': 0, 'it': 2, 'je': 0, 'lb': 6, 'li': 2, 'lt': 0, 'lu': 0, 'lv': 1, 'ly': 5, 'ma': 0, 'mc': 5, 'md': 3, 'me': 4, 'mk': 3, 'mt': 5, 'nl': 2, 'no': 2, 'pl': 0, 'ps': 6, 'pt': 2, 'ro': 3, 'rs': 2, 'se': 0, 'si': 4, 'sj': 0, 'sk': 0, 'sm': 2, 'sy': 4, 'tn': 5, 'tr': 0, 'ua': 5, 'uk': 1, 'us': 0, 'va': 0, 'world': 0, 'xk': 3}, 'value': -5, 'values': {'ad': -2, 'al': 0, 'at': -4, 'ax': -4, 'ba': -3, 'be': -3, 'bg': -3, 'ch': -4, 'cy': 1, 'cz': -5, 'de': -3, 'dk': -5, 'dz': -4, 'ee': -4, 'eg': 0, 'es': -1, 'fi': -4, 'fo': -5, 'fr': -5, 'gg': -5, 'gi': -1, 'gr': 1, 'hr': -1, 'hu': -4, 'ie': -2, 'il': 0, 'im': -5, 'is': -5, 'it': -3, 'je': -5, 'lb': 1, 'li': -3, 'lt': -5, 'lu': -5, 'lv': -4, 'ly': 0, 'ma': -5, 'mc': 0, 'md': -2, 'me': -1, 'mk': -2, 'mt': 0, 'nl': -3, 'no': -3, 'pl': -5, 'ps': 1, 'pt': -3, 'ro': -2, 'rs': -3, 'se': -5, 'si': -1, 'sj': -5, 'sk': -5, 'sm': -3, 'sy': -1, 'tn': 0, 'tr': -5, 'ua': 0, 'uk': -4, 'us': -5, 'va': -5, 'world': -5, 'xk': -2}}, 'packaging': {'non_recyclable_and_non_biodegradable_materials': 0, 'packagings': [{'ecoscore_material_score': 0, 'ecoscore_shape_ratio': 1, 'material': 'en:unknown', 'shape': 'xx:cellophane'}, {'ecoscore_material_score': 0, 'ecoscore_shape_ratio': 1, 'material': 'en:unknown', 'shape': 'en:Container'}], 'score': -100, 'value': -15, 'warning': 'unscored_shape'}, 'production_system': {'labels': [], 'value': 0, 'warning': 'no_label'}, 'threatened_species': {}}, 'agribalyse': {'warning': 'missing_agribalyse_match'}, 'missing': {'agb_category': 1, 'labels': 1, 'packagings': 1}, 'missing_agribalyse_match_warning': 1, 'scores': {}, 'status': 'unknown'}\n",
            "ecoscore_grade: unknown\n",
            "ecoscore_tags: ['unknown']\n",
            "editors: ['', 'thierrym', 'manu1400', 'andre', 'upcbot']\n",
            "editors_tags: ['andre', 'charlesnepote', 'foodie-tim', 'manu1400', 'openfoodfacts-contributors', 'org-database-usda', 'packbot', 'roboto-app', 'smartchef', 'thierrym', 'upcbot', 'usda-ndb-import', 'waytovegan']\n",
            "emb_codes: \n",
            "emb_codes_20141016: \n",
            "emb_codes_orig: \n",
            "emb_codes_tags: []\n",
            "entry_dates_tags: ['2012-08-24', '2012-08', '2012']\n",
            "expiration_date: \n",
            "food_groups: en:cereals\n",
            "food_groups_tags: ['en:cereals-and-potatoes', 'en:cereals']\n",
            "fruits-vegetables-nuts_100g_estimate: 0\n",
            "generic_name: Rice Noodles\n",
            "generic_name_en: Rice Noodles\n",
            "id: 737628064502\n",
            "image_front_small_url: https://images.openfoodfacts.org/images/products/073/762/806/4502/front_en.6.200.jpg\n",
            "image_front_thumb_url: https://images.openfoodfacts.org/images/products/073/762/806/4502/front_en.6.100.jpg\n",
            "image_front_url: https://images.openfoodfacts.org/images/products/073/762/806/4502/front_en.6.400.jpg\n",
            "image_ingredients_small_url: https://images.openfoodfacts.org/images/products/073/762/806/4502/ingredients_en.10.200.jpg\n",
            "image_ingredients_thumb_url: https://images.openfoodfacts.org/images/products/073/762/806/4502/ingredients_en.10.100.jpg\n",
            "image_ingredients_url: https://images.openfoodfacts.org/images/products/073/762/806/4502/ingredients_en.10.400.jpg\n",
            "image_nutrition_small_url: https://images.openfoodfacts.org/images/products/073/762/806/4502/nutrition_en.12.200.jpg\n",
            "image_nutrition_thumb_url: https://images.openfoodfacts.org/images/products/073/762/806/4502/nutrition_en.12.100.jpg\n",
            "image_nutrition_url: https://images.openfoodfacts.org/images/products/073/762/806/4502/nutrition_en.12.400.jpg\n",
            "image_small_url: https://images.openfoodfacts.org/images/products/073/762/806/4502/front_en.6.200.jpg\n",
            "image_thumb_url: https://images.openfoodfacts.org/images/products/073/762/806/4502/front_en.6.100.jpg\n",
            "image_url: https://images.openfoodfacts.org/images/products/073/762/806/4502/front_en.6.400.jpg\n",
            "images: {'1': {'sizes': {'100': {'h': 71, 'w': 100}, '400': {'h': 284, 'w': 400}, 'full': {'h': 1089, 'w': 1536}}, 'uploaded_t': 1345799270, 'uploader': 'openfoodfacts-contributors'}, '2': {'sizes': {'100': {'h': 100, 'w': 72}, '400': {'h': 400, 'w': 289}, 'full': {'h': 1812, 'w': 1311}}, 'uploaded_t': 1345799309, 'uploader': 'andre'}, '3': {'sizes': {'100': {'h': 72, 'w': 100}, '400': {'h': 289, 'w': 400}, 'full': {'h': 927, 'w': 1281}}, 'uploaded_t': 1345799558, 'uploader': 'andre'}, '4': {'sizes': {'100': {'h': 72, 'w': 100}, '400': {'h': 289, 'w': 400}, 'full': {'h': 927, 'w': 1281}}, 'uploaded_t': 1345799666, 'uploader': 'andre'}, '5': {'sizes': {'100': {'h': 100, 'w': 54}, '400': {'h': 400, 'w': 216}, 'full': {'h': 1611, 'w': 870}}, 'uploaded_t': 1345799925, 'uploader': 'andre'}, 'front': {'geometry': '0x0--4--4', 'imgid': '2', 'normalize': None, 'rev': '6', 'sizes': {'100': {'h': 100, 'w': 72}, '200': {'h': 200, 'w': 145}, '400': {'h': 400, 'w': 289}, 'full': {'h': 1812, 'w': 1311}}, 'white_magic': None}, 'front_en': {'geometry': '0x0--4--4', 'imgid': '2', 'normalize': None, 'rev': '6', 'sizes': {'100': {'h': 100, 'w': 72}, '200': {'h': 200, 'w': 145}, '400': {'h': 400, 'w': 289}, 'full': {'h': 1812, 'w': 1311}}, 'white_magic': None}, 'ingredients': {'geometry': '0x0--3--3', 'imgid': '4', 'normalize': 'checked', 'rev': '10', 'sizes': {'100': {'h': 72, 'w': 100}, '200': {'h': 145, 'w': 200}, '400': {'h': 289, 'w': 400}, 'full': {'h': 927, 'w': 1281}}, 'white_magic': None}, 'ingredients_en': {'geometry': '0x0--3--3', 'imgid': '4', 'normalize': 'checked', 'rev': '10', 'sizes': {'100': {'h': 72, 'w': 100}, '200': {'h': 145, 'w': 200}, '400': {'h': 289, 'w': 400}, 'full': {'h': 927, 'w': 1281}}, 'white_magic': None}, 'nutrition': {'geometry': '0x0--4--4', 'imgid': '5', 'normalize': 'checked', 'rev': '12', 'sizes': {'100': {'h': 100, 'w': 54}, '200': {'h': 200, 'w': 108}, '400': {'h': 400, 'w': 216}, 'full': {'h': 1611, 'w': 870}}, 'white_magic': None}, 'nutrition_en': {'geometry': '0x0--4--4', 'imgid': '5', 'normalize': 'checked', 'rev': '12', 'sizes': {'100': {'h': 100, 'w': 54}, '200': {'h': 200, 'w': 108}, '400': {'h': 400, 'w': 216}, 'full': {'h': 1611, 'w': 870}}, 'white_magic': None}}\n",
            "informers: ['andre', 'manu1400', 'thierrym']\n",
            "informers_tags: ['andre', 'manu1400', 'thierrym', 'upcbot', 'smartchef', 'org-database-usda', 'waytovegan']\n",
            "ingredients: [{'has_sub_ingredients': 'yes', 'id': 'en:rice-noodles', 'percent_estimate': 75, 'percent_max': 100, 'percent_min': 50, 'rank': 1, 'text': 'Rice Noodles', 'vegan': 'maybe', 'vegetarian': 'maybe'}, {'has_sub_ingredients': 'yes', 'id': 'en:seasoning-packet', 'percent_estimate': 25, 'percent_max': 50, 'percent_min': 0, 'rank': 2, 'text': 'seasoning packet'}, {'ciqual_proxy_food_code': '9100', 'id': 'en:rice', 'percent_estimate': 50, 'percent_max': 100, 'percent_min': 25, 'text': 'rice', 'vegan': 'yes', 'vegetarian': 'yes'}, {'ciqual_food_code': '18066', 'id': 'en:water', 'percent_estimate': 25, 'percent_max': 50, 'percent_min': 0, 'text': 'water', 'vegan': 'yes', 'vegetarian': 'yes'}, {'ciqual_food_code': '15001', 'id': 'en:peanut', 'percent_estimate': 12.5, 'percent_max': 50, 'percent_min': 0, 'text': 'peanut', 'vegan': 'yes', 'vegetarian': 'yes'}, {'ciqual_proxy_food_code': '31016', 'id': 'en:sugar', 'percent_estimate': 6.25, 'percent_max': 13.46, 'percent_min': 0, 'text': 'sugar', 'vegan': 'yes', 'vegetarian': 'yes'}, {'ciqual_food_code': '11058', 'id': 'en:salt', 'percent_estimate': 0.36, 'percent_max': 0.72, 'percent_min': 0, 'text': 'salt', 'vegan': 'yes', 'vegetarian': 'yes'}, {'ciqual_food_code': '9510', 'id': 'en:corn-starch', 'percent_estimate': 0.36, 'percent_max': 0.72, 'percent_min': 0, 'text': 'corn starch', 'vegan': 'yes', 'vegetarian': 'yes'}, {'has_sub_ingredients': 'yes', 'id': 'en:spice', 'percent_estimate': 0.36, 'percent_max': 0.72, 'percent_min': 0, 'text': 'spices', 'vegan': 'yes', 'vegetarian': 'yes'}, {'ciqual_food_code': '20591', 'id': 'en:hydrolysed-soy-protein', 'percent_estimate': 0.36, 'percent_max': 0.72, 'percent_min': 0, 'text': 'hydrolyzed soy protein', 'vegan': 'yes', 'vegetarian': 'yes'}, {'ciqual_food_code': '11003', 'id': 'en:spring-onion', 'percent_estimate': 0.36, 'percent_max': 0.72, 'percent_min': 0, 'text': 'green onions', 'vegan': 'yes', 'vegetarian': 'yes'}, {'id': 'en:e330', 'percent_estimate': 0.36, 'percent_max': 0.72, 'percent_min': 0, 'text': 'citric acid', 'vegan': 'yes', 'vegetarian': 'yes'}, {'ciqual_food_code': '17040', 'from_palm_oil': 'no', 'id': 'en:peanut-oil', 'percent_estimate': 0.36, 'percent_max': 0.72, 'percent_min': 0, 'text': 'peanut oil', 'vegan': 'yes', 'vegetarian': 'yes'}, {'ciqual_food_code': '17400', 'from_palm_oil': 'no', 'id': 'en:sesame-oil', 'percent_estimate': 0.36, 'percent_max': 0.72, 'percent_min': 0, 'text': 'sesame oil', 'vegan': 'yes', 'vegetarian': 'yes'}, {'id': 'en:natural-flavouring', 'percent_estimate': 3.37, 'percent_max': 0.72, 'percent_min': 0, 'text': 'natural flavor', 'vegan': 'maybe', 'vegetarian': 'maybe'}, {'ciqual_food_code': '20151', 'id': 'en:chili-pepper', 'percent_estimate': 0.18, 'percent_max': 0.72, 'percent_min': 0, 'text': 'chili', 'vegan': 'yes', 'vegetarian': 'yes'}, {'id': 'en:cinnamon', 'percent_estimate': 0.09, 'percent_max': 0.36, 'percent_min': 0, 'text': 'cinnamon', 'vegan': 'yes', 'vegetarian': 'yes'}, {'id': 'en:pepper', 'percent_estimate': 0.045, 'percent_max': 0.24, 'percent_min': 0, 'text': 'pepper', 'vegan': 'yes', 'vegetarian': 'yes'}, {'id': 'en:cumin', 'percent_estimate': 0.0225, 'percent_max': 0.18, 'percent_min': 0, 'text': 'cumin', 'vegan': 'yes', 'vegetarian': 'yes'}, {'ciqual_food_code': '11052', 'id': 'en:clove', 'percent_estimate': 0.0225, 'percent_max': 0.18, 'percent_min': 0, 'text': 'clove', 'vegan': 'yes', 'vegetarian': 'yes'}]\n",
            "ingredients_analysis: {'en:palm-oil-content-unknown': ['en:seasoning-packet'], 'en:vegan-status-unknown': ['en:seasoning-packet'], 'en:vegetarian-status-unknown': ['en:seasoning-packet']}\n",
            "ingredients_analysis_tags: ['en:palm-oil-content-unknown', 'en:vegan', 'en:vegetarian']\n",
            "ingredients_debug: ['RICE NOODLES ', '(', '(', None, None, 'RICE', ',', None, None, None, ' WATER)', ',', None, None, None, ' SEASONING PACKET ', '(', '(', None, None, 'PEANUT', ',', None, None, None, ' SUGAR', ',', None, None, None, ' SALT', ',', None, None, None, ' CORN STARCH', ',', None, None, None, ' SPICES ', '[', '[', None, None, 'CHILI', ',', None, None, None, ' CINNAMON', ',', None, None, None, ' PEPPER', ',', None, None, None, ' CUMIN', ',', None, None, None, ' CLOVE]', ',', None, None, None, ' HYDRDLYZED SOY PROTEIN', ',', None, None, None, ' GREEN ONIONS', ',', None, None, None, ' CITRIC ACID', ',', None, None, None, ' PEANUT OIL', ',', None, None, None, ' SESAME OIL', ',', None, None, None, ' ', ':', ':', None, None, ' NATURAL FLAVOR ', ':', ':', None, None, ' ).']\n",
            "ingredients_from_or_that_may_be_from_palm_oil_n: 0\n",
            "ingredients_from_palm_oil_n: 0\n",
            "ingredients_from_palm_oil_tags: []\n",
            "ingredients_hierarchy: ['en:rice-noodles', 'en:dough', 'en:noodle', 'en:seasoning-packet', 'en:rice', 'en:water', 'en:peanut', 'en:nut', 'en:sugar', 'en:added-sugar', 'en:disaccharide', 'en:salt', 'en:corn-starch', 'en:starch', 'en:spice', 'en:condiment', 'en:hydrolysed-soy-protein', 'en:protein', 'en:plant-protein', 'en:hydrolysed-vegetable-protein', 'en:soy-protein', 'en:spring-onion', 'en:vegetable', 'en:root-vegetable', 'en:onion-family-vegetable', 'en:onion', 'en:e330', 'en:peanut-oil', 'en:oil-and-fat', 'en:vegetable-oil-and-fat', 'en:vegetable-oil', 'en:sesame-oil', 'en:natural-flavouring', 'en:flavouring', 'en:chili-pepper', 'en:fruit-vegetable', 'en:cinnamon', 'en:pepper', 'en:seed', 'en:cumin', 'en:clove']\n",
            "ingredients_ids_debug: ['rice-noodles', 'rice', 'water', 'seasoning-packet', 'peanut', 'sugar', 'salt', 'corn-starch', 'spices', 'chili', 'cinnamon', 'pepper', 'cumin', 'clove', 'hydrdlyzed-soy-protein', 'green-onions', 'citric-acid', 'peanut-oil', 'sesame-oil', 'natural-flavor']\n",
            "ingredients_lc: en\n",
            "ingredients_n: 20\n",
            "ingredients_n_tags: ['20', '11-20']\n",
            "ingredients_original_tags: ['en:rice-noodles', 'en:seasoning-packet', 'en:rice', 'en:water', 'en:peanut', 'en:sugar', 'en:salt', 'en:corn-starch', 'en:spice', 'en:hydrolysed-soy-protein', 'en:spring-onion', 'en:e330', 'en:peanut-oil', 'en:sesame-oil', 'en:natural-flavouring', 'en:chili-pepper', 'en:cinnamon', 'en:pepper', 'en:cumin', 'en:clove']\n",
            "ingredients_percent_analysis: 1\n",
            "ingredients_tags: ['en:rice-noodles', 'en:dough', 'en:noodle', 'en:seasoning-packet', 'en:rice', 'en:water', 'en:peanut', 'en:nut', 'en:sugar', 'en:added-sugar', 'en:disaccharide', 'en:salt', 'en:corn-starch', 'en:starch', 'en:spice', 'en:condiment', 'en:hydrolysed-soy-protein', 'en:protein', 'en:plant-protein', 'en:hydrolysed-vegetable-protein', 'en:soy-protein', 'en:spring-onion', 'en:vegetable', 'en:root-vegetable', 'en:onion-family-vegetable', 'en:onion', 'en:e330', 'en:peanut-oil', 'en:oil-and-fat', 'en:vegetable-oil-and-fat', 'en:vegetable-oil', 'en:sesame-oil', 'en:natural-flavouring', 'en:flavouring', 'en:chili-pepper', 'en:fruit-vegetable', 'en:cinnamon', 'en:pepper', 'en:seed', 'en:cumin', 'en:clove']\n",
            "ingredients_text: Rice Noodles (rice, water), seasoning packet (peanut, sugar, salt, corn starch, spices [chili, cinnamon, pepper, cumin, clove], hydrolyzed soy protein, green onions, citric acid, peanut oil, sesame oil, natural flavor).\n",
            "ingredients_text_debug: RICE NOODLES (RICE, WATER), SEASONING PACKET (PEANUT, SUGAR, SALT, CORN STARCH, SPICES [CHILI, CINNAMON, PEPPER, CUMIN, CLOVE], HYDRDLYZED SOY PROTEIN, GREEN ONIONS, CITRIC ACID, PEANUT OIL, SESAME OIL, : NATURAL FLAVOR : ).\n",
            "ingredients_text_en: Rice Noodles (rice, water), seasoning packet (peanut, sugar, salt, corn starch, spices [chili, cinnamon, pepper, cumin, clove], hydrolyzed soy protein, green onions, citric acid, peanut oil, sesame oil, natural flavor).\n",
            "ingredients_text_en_imported: Noodle: rice, water. seasoning packet: peanut, sugar, hydrolyzed soy protein, green onion, corn maltodextrin, spice (including paprika), citric acid, sea salt, extractives of paprika (color), silicon dioxide (added to make free flowing), yeast extract.\n",
            "ingredients_text_with_allergens: Rice Noodles (rice, water), seasoning packet (<span class=\"allergen\">peanut</span>, sugar, salt, corn starch, spices [chili, cinnamon, pepper, cumin, clove], hydrolyzed soy protein, green onions, citric acid, peanut oil, sesame oil, natural flavor).\n",
            "ingredients_text_with_allergens_en: Rice Noodles (rice, water), seasoning packet (<span class=\"allergen\">peanut</span>, sugar, salt, corn starch, spices [chili, cinnamon, pepper, cumin, clove], hydrolyzed soy protein, green onions, citric acid, peanut oil, sesame oil, natural flavor).\n",
            "ingredients_that_may_be_from_palm_oil_n: 0\n",
            "ingredients_that_may_be_from_palm_oil_tags: []\n",
            "ingredients_with_specified_percent_n: 0\n",
            "ingredients_with_specified_percent_sum: 0\n",
            "ingredients_with_unspecified_percent_n: 17\n",
            "ingredients_with_unspecified_percent_sum: 100\n",
            "ingredients_without_ciqual_codes: ['en:cinnamon', 'en:cumin', 'en:e330', 'en:natural-flavouring', 'en:pepper', 'en:rice-noodles', 'en:seasoning-packet', 'en:spice']\n",
            "ingredients_without_ciqual_codes_n: 8\n",
            "interface_version_created: 20120622\n",
            "interface_version_modified: 20190830\n",
            "known_ingredients_n: 40\n",
            "labels: No gluten, Vegetarian, Vegan\n",
            "labels_hierarchy: ['en:no-gluten', 'en:vegetarian', 'en:vegan']\n",
            "labels_lc: en\n",
            "labels_old: No gluten,Vegetarian,Vegan\n",
            "labels_tags: ['en:no-gluten', 'en:vegetarian', 'en:vegan']\n",
            "lang: en\n",
            "languages: {'en:english': 6}\n",
            "languages_codes: {'en': 6}\n",
            "languages_hierarchy: ['en:english']\n",
            "languages_tags: ['en:english', 'en:1']\n",
            "last_edit_dates_tags: ['2024-02-05', '2024-02', '2024']\n",
            "last_editor: foodie-tim\n",
            "last_image_dates_tags: ['2012-08-24', '2012-08', '2012']\n",
            "last_image_t: 1345799925\n",
            "last_modified_by: foodie-tim\n",
            "last_modified_t: 1707110670\n",
            "last_updated_t: 1707515877\n",
            "lc: en\n",
            "lc_imported: en\n",
            "link: \n",
            "main_countries_tags: []\n",
            "manufacturing_places: \n",
            "manufacturing_places_tags: []\n",
            "max_imgid: 5\n",
            "minerals_prev_tags: []\n",
            "minerals_tags: []\n",
            "misc_tags: ['en:packagings-number-of-components-2', 'en:ecoscore-not-computed', 'en:main-countries-fr-product-name-not-in-country-language', 'en:main-countries-fr-ingredients-not-in-country-language', 'en:main-countries-fr-no-data-in-country-language', 'en:nutriscore-computed', 'en:nutrition-fruits-vegetables-nuts-estimate-from-ingredients', 'en:nutrition-all-nutriscore-values-known', 'en:nutrition-fruits-vegetables-legumes-estimate-from-ingredients', 'en:nutriscore-2021-different-from-2023', 'en:nutriscore-2021-better-than-2023', 'en:nutriscore-2021-c-2023-d', 'en:packagings-not-complete', 'en:packagings-not-empty-but-not-complete', 'en:packagings-not-empty', 'en:ecoscore-extended-data-not-computed']\n",
            "new_additives_n: 1\n",
            "no_nutrition_data: \n",
            "nova_group: 4\n",
            "nova_group_debug: \n",
            "nova_groups: 4\n",
            "nova_groups_markers: {'3': [['ingredients', 'en:salt'], ['ingredients', 'en:starch'], ['ingredients', 'en:sugar'], ['ingredients', 'en:vegetable-oil']], '4': [['ingredients', 'en:flavouring']]}\n",
            "nova_groups_tags: ['en:4-ultra-processed-food-and-drink-products']\n",
            "nucleotides_prev_tags: []\n",
            "nucleotides_tags: []\n",
            "nutrient_levels: {'fat': 'moderate', 'salt': 'moderate', 'saturated-fat': 'moderate', 'sugars': 'high'}\n",
            "nutrient_levels_tags: ['en:fat-in-moderate-quantity', 'en:saturated-fat-in-moderate-quantity', 'en:sugars-in-high-quantity', 'en:salt-in-moderate-quantity']\n",
            "nutriments: {'calcium': 0.038, 'calcium_100g': 0.038, 'calcium_serving': 0.0198, 'calcium_unit': 'mg', 'calcium_value': 38, 'carbohydrates': 71.15, 'carbohydrates_100g': 71.15, 'carbohydrates_serving': 37, 'carbohydrates_unit': 'g', 'carbohydrates_value': 71.15, 'cholesterol': 0, 'cholesterol_100g': 0, 'cholesterol_serving': 0, 'cholesterol_unit': 'mg', 'cholesterol_value': 0, 'energy': 1611, 'energy-kcal': 385, 'energy-kcal_100g': 385, 'energy-kcal_serving': 200, 'energy-kcal_unit': 'kcal', 'energy-kcal_value': 385, 'energy-kcal_value_computed': 396.09, 'energy_100g': 1611, 'energy_serving': 838, 'energy_unit': 'kcal', 'energy_value': 385, 'fat': 7.69, 'fat_100g': 7.69, 'fat_serving': 4, 'fat_unit': 'g', 'fat_value': 7.69, 'fiber': 1.9, 'fiber_100g': 1.9, 'fiber_serving': 0.988, 'fiber_unit': 'g', 'fiber_value': 1.9, 'fruits-vegetables-legumes-estimate-from-ingredients_100g': 0.54, 'fruits-vegetables-legumes-estimate-from-ingredients_serving': 0.54, 'fruits-vegetables-nuts-estimate-from-ingredients_100g': 13.04, 'fruits-vegetables-nuts-estimate-from-ingredients_serving': 13.04, 'iron': 0.00069, 'iron_100g': 0.00069, 'iron_serving': 0.000359, 'iron_unit': 'mg', 'iron_value': 0.69, 'nova-group': 4, 'nova-group_100g': 4, 'nova-group_serving': 4, 'nutrition-score-fr': 4, 'nutrition-score-fr_100g': 4, 'proteins': 9.62, 'proteins_100g': 9.62, 'proteins_serving': 5, 'proteins_unit': 'g', 'proteins_value': 9.62, 'salt': 0.72, 'salt_100g': 0.72, 'salt_serving': 0.374, 'salt_unit': 'mg', 'salt_value': 720, 'saturated-fat': 1.92, 'saturated-fat_100g': 1.92, 'saturated-fat_serving': 0.998, 'saturated-fat_unit': 'g', 'saturated-fat_value': 1.92, 'sodium': 0.288, 'sodium_100g': 0.288, 'sodium_serving': 0.15, 'sodium_unit': 'mg', 'sodium_value': 288, 'sugars': 13.46, 'sugars_100g': 13.46, 'sugars_serving': 7, 'sugars_unit': 'g', 'sugars_value': 13.46, 'trans-fat': 0, 'trans-fat_100g': 0, 'trans-fat_serving': 0, 'trans-fat_unit': 'g', 'trans-fat_value': 0, 'vitamin-a': 0.0001155, 'vitamin-a_100g': 0.0001155, 'vitamin-a_serving': 6.01e-05, 'vitamin-a_unit': 'IU', 'vitamin-a_value': 385, 'vitamin-c': 0, 'vitamin-c_100g': 0, 'vitamin-c_serving': 0, 'vitamin-c_unit': 'mg', 'vitamin-c_value': 0}\n",
            "nutriscore: {'2021': {'category_available': 1, 'data': {'energy': 1611, 'energy_points': 4, 'energy_value': 1611, 'fiber': 1.9, 'fiber_points': 1, 'fiber_value': 1.9, 'fruits_vegetables_nuts_colza_walnut_olive_oils': 13.04, 'fruits_vegetables_nuts_colza_walnut_olive_oils_points': 0, 'fruits_vegetables_nuts_colza_walnut_olive_oils_value': 13, 'is_beverage': 0, 'is_cheese': 0, 'is_fat': 0, 'is_water': 0, 'negative_points': 10, 'positive_points': 6, 'proteins': 9.62, 'proteins_points': 5, 'proteins_value': 9.62, 'saturated_fat': 1.92, 'saturated_fat_points': 1, 'saturated_fat_value': 1.9, 'sodium': 288, 'sodium_points': 3, 'sodium_value': 288, 'sugars': 13.46, 'sugars_points': 2, 'sugars_value': 13.46}, 'grade': 'c', 'nutrients_available': 1, 'nutriscore_applicable': 1, 'nutriscore_computed': 1, 'score': 4}, '2023': {'category_available': 1, 'data': {'components': {'negative': [{'id': 'energy', 'points': 4, 'points_max': 10, 'unit': 'kJ', 'value': 1611}, {'id': 'sugars', 'points': 3, 'points_max': 15, 'unit': 'g', 'value': 13.46}, {'id': 'saturated_fat', 'points': 1, 'points_max': 10, 'unit': 'g', 'value': 1.92}, {'id': 'salt', 'points': 3, 'points_max': 20, 'unit': 'g', 'value': 0.72}], 'positive': [{'id': 'fiber', 'points': 0, 'points_max': 5, 'unit': 'g', 'value': 1.9}, {'id': 'fruits_vegetables_legumes', 'points': 0, 'points_max': 5, 'unit': '%', 'value': 0.5}]}, 'count_proteins': 0, 'count_proteins_reason': 'negative_points_greater_than_or_equal_to_11', 'is_beverage': 0, 'is_cheese': 0, 'is_fat_oil_nuts_seeds': 0, 'is_red_meat_product': 0, 'is_water': 0, 'negative_points': 11, 'negative_points_max': 55, 'positive_nutrients': ['fiber', 'fruits_vegetables_legumes'], 'positive_points': 0, 'positive_points_max': 10}, 'grade': 'd', 'nutrients_available': 1, 'nutriscore_applicable': 1, 'nutriscore_computed': 1, 'score': 11}}\n",
            "nutriscore_2021_tags: ['c']\n",
            "nutriscore_2023_tags: ['d']\n",
            "nutriscore_data: {'energy': 1611, 'energy_points': 4, 'energy_value': 1611, 'fiber': 1.9, 'fiber_points': 1, 'fiber_value': 1.9, 'fruits_vegetables_nuts_colza_walnut_olive_oils': 13.04, 'fruits_vegetables_nuts_colza_walnut_olive_oils_points': 0, 'fruits_vegetables_nuts_colza_walnut_olive_oils_value': 13, 'grade': 'c', 'is_beverage': 0, 'is_cheese': 0, 'is_fat': 0, 'is_water': 0, 'negative_points': 10, 'positive_points': 6, 'proteins': 9.62, 'proteins_points': 5, 'proteins_value': 9.62, 'saturated_fat': 1.92, 'saturated_fat_points': 1, 'saturated_fat_value': 1.9, 'score': 4, 'sodium': 288, 'sodium_points': 3, 'sodium_value': 288, 'sugars': 13.46, 'sugars_points': 2, 'sugars_value': 13.46}\n",
            "nutriscore_grade: c\n",
            "nutriscore_score: 4\n",
            "nutriscore_score_opposite: -4\n",
            "nutriscore_tags: ['c']\n",
            "nutriscore_version: 2021\n",
            "nutrition_data: on\n",
            "nutrition_data_per: 100g\n",
            "nutrition_data_per_imported: 100g\n",
            "nutrition_data_prepared: \n",
            "nutrition_data_prepared_per: 100g\n",
            "nutrition_data_prepared_per_imported: 100g\n",
            "nutrition_grade_fr: c\n",
            "nutrition_grades: c\n",
            "nutrition_grades_tags: ['c']\n",
            "nutrition_score_beverage: 0\n",
            "nutrition_score_debug: \n",
            "nutrition_score_warning_fruits_vegetables_legumes_estimate_from_ingredients: 1\n",
            "nutrition_score_warning_fruits_vegetables_legumes_estimate_from_ingredients_value: 0.54\n",
            "nutrition_score_warning_fruits_vegetables_nuts_estimate_from_ingredients: 1\n",
            "nutrition_score_warning_fruits_vegetables_nuts_estimate_from_ingredients_value: 13.04\n",
            "obsolete: \n",
            "obsolete_since_date: \n",
            "origin: \n",
            "origin_en: \n",
            "origins: Thailand\n",
            "origins_hierarchy: ['en:thailand']\n",
            "origins_lc: en\n",
            "origins_old: Thailand\n",
            "origins_tags: ['en:thailand']\n",
            "other_nutritional_substances_tags: []\n",
            "packaging: Container, Cellophane\n",
            "packaging_hierarchy: ['en:container', 'xx:cellophane']\n",
            "packaging_lc: en\n",
            "packaging_materials_tags: []\n",
            "packaging_old: Container, Cellophane\n",
            "packaging_old_before_taxonomization: Cellophane,Carton\n",
            "packaging_recycling_tags: []\n",
            "packaging_shapes_tags: ['en:Container', 'xx:cellophane']\n",
            "packaging_tags: ['en:container', 'xx:cellophane']\n",
            "packaging_text: \n",
            "packaging_text_en: \n",
            "packagings: [{'shape': 'xx:cellophane'}, {'shape': 'en:Container'}]\n",
            "packagings_complete: 0\n",
            "packagings_materials: {'all': {}, 'en:unknown': {}}\n",
            "packagings_n: 2\n",
            "photographers: ['andre']\n",
            "photographers_tags: ['openfoodfacts-contributors', 'andre']\n",
            "pnns_groups_1: Cereals and potatoes\n",
            "pnns_groups_1_tags: ['cereals-and-potatoes', 'known']\n",
            "pnns_groups_2: Cereals\n",
            "pnns_groups_2_tags: ['cereals', 'known']\n",
            "popularity_key: 21900000004\n",
            "popularity_tags: ['bottom-25-percent-scans-2019', 'bottom-20-percent-scans-2019', 'top-85-percent-scans-2019', 'top-90-percent-scans-2019', 'top-50000-it-scans-2019', 'top-100000-it-scans-2019', 'top-country-it-scans-2019', 'top-100000-scans-2020', 'at-least-5-scans-2020', 'top-75-percent-scans-2020', 'top-80-percent-scans-2020', 'top-85-percent-scans-2020', 'top-90-percent-scans-2020', 'top-10-by-scans-2020', 'top-50-by-scans-2020', 'top-100-by-scans-2020', 'top-500-by-scans-2020', 'top-1000-by-scans-2020', 'top-5000-by-scans-2020', 'top-10000-by-scans-2020', 'top-50000-by-scans-2020', 'top-100000-by-scans-2020', 'top-country-by-scans-2020', 'top-5000-ca-scans-2020', 'top-10000-ca-scans-2020', 'top-50000-ca-scans-2020', 'top-100000-ca-scans-2020', 'top-50000-be-scans-2020', 'top-100000-be-scans-2020', 'top-100000-scans-2021', 'at-least-5-scans-2021', 'top-75-percent-scans-2021', 'top-80-percent-scans-2021', 'top-85-percent-scans-2021', 'top-90-percent-scans-2021', 'top-5000-it-scans-2021', 'top-10000-it-scans-2021', 'top-50000-it-scans-2021', 'top-100000-it-scans-2021', 'top-country-it-scans-2021', 'top-500-ae-scans-2021', 'top-1000-ae-scans-2021', 'top-5000-ae-scans-2021', 'top-10000-ae-scans-2021', 'top-50000-ae-scans-2021', 'top-100000-ae-scans-2021', 'top-5000-us-scans-2021', 'top-10000-us-scans-2021', 'top-50000-us-scans-2021', 'top-100000-us-scans-2021', 'top-500-in-scans-2021', 'top-1000-in-scans-2021', 'top-5000-in-scans-2021', 'top-10000-in-scans-2021', 'top-50000-in-scans-2021', 'top-100000-in-scans-2021', 'top-100000-scans-2022', 'top-75-percent-scans-2022', 'top-80-percent-scans-2022', 'top-85-percent-scans-2022', 'top-90-percent-scans-2022', 'top-500-ca-scans-2022', 'top-1000-ca-scans-2022', 'top-5000-ca-scans-2022', 'top-10000-ca-scans-2022', 'top-50000-ca-scans-2022', 'top-100000-ca-scans-2022', 'top-country-ca-scans-2022', 'top-50-by-scans-2022', 'top-100-by-scans-2022', 'top-500-by-scans-2022', 'top-1000-by-scans-2022', 'top-5000-by-scans-2022', 'top-10000-by-scans-2022', 'top-50000-by-scans-2022', 'top-100000-by-scans-2022']\n",
            "product_name: Thai peanut noodle kit includes stir-fry rice noodles & thai peanut seasoning\n",
            "product_name_en: Thai peanut noodle kit includes stir-fry rice noodles & thai peanut seasoning\n",
            "product_name_en_imported: Thai peanut noodle kit includes stir-fry rice noodles & thai peanut seasoning\n",
            "product_quantity: 155\n",
            "product_quantity_unit: g\n",
            "purchase_places: \n",
            "purchase_places_tags: []\n",
            "quantity: 155 g\n",
            "removed_countries_tags: []\n",
            "rev: 27\n",
            "scans_n: 10\n",
            "selected_images: {'front': {'display': {'en': 'https://images.openfoodfacts.org/images/products/073/762/806/4502/front_en.6.400.jpg'}, 'small': {'en': 'https://images.openfoodfacts.org/images/products/073/762/806/4502/front_en.6.200.jpg'}, 'thumb': {'en': 'https://images.openfoodfacts.org/images/products/073/762/806/4502/front_en.6.100.jpg'}}, 'ingredients': {'display': {'en': 'https://images.openfoodfacts.org/images/products/073/762/806/4502/ingredients_en.10.400.jpg'}, 'small': {'en': 'https://images.openfoodfacts.org/images/products/073/762/806/4502/ingredients_en.10.200.jpg'}, 'thumb': {'en': 'https://images.openfoodfacts.org/images/products/073/762/806/4502/ingredients_en.10.100.jpg'}}, 'nutrition': {'display': {'en': 'https://images.openfoodfacts.org/images/products/073/762/806/4502/nutrition_en.12.400.jpg'}, 'small': {'en': 'https://images.openfoodfacts.org/images/products/073/762/806/4502/nutrition_en.12.200.jpg'}, 'thumb': {'en': 'https://images.openfoodfacts.org/images/products/073/762/806/4502/nutrition_en.12.100.jpg'}}}\n",
            "serving_quantity: 52\n",
            "serving_quantity_unit: g\n",
            "serving_size: 0.333 PACKAGE (52 g)\n",
            "serving_size_imported: 0.333 PACKAGE (52 g)\n",
            "sortkey: 1587581231\n",
            "sources: [{'fields': ['brands', 'countries'], 'id': 'usda-ndb', 'images': [], 'import_t': 1489067409, 'url': 'https://api.nal.usda.gov/ndb/reports/?ndbno=45108002&type=f&format=json&api_key=DEMO_KEY'}, {'fields': ['product_name_en', 'categories', 'brand_owner', 'data_sources', 'nutrition_data_per', 'serving_size', 'ingredients_text_en', 'nutrients.calcium_unit', 'nutrients.calcium_value', 'nutrients.carbohydrates_value', 'nutrients.cholesterol_unit', 'nutrients.cholesterol_value', 'nutrients.energy_value', 'nutrients.energy-kcal_value', 'nutrients.fat_value', 'nutrients.fiber_value', 'nutrients.iron_unit', 'nutrients.iron_value', 'nutrients.proteins_value', 'nutrients.salt_unit', 'nutrients.salt_value', 'nutrients.saturated-fat_value', 'nutrients.sugars_value', 'nutrients.trans-fat_unit', 'nutrients.trans-fat_value', 'nutrients.vitamin-a_unit', 'nutrients.vitamin-a_value', 'nutrients.vitamin-c_unit', 'nutrients.vitamin-c_value'], 'id': 'database-usda', 'images': [], 'import_t': 1587581231, 'manufacturer': None, 'name': 'database-usda', 'url': None}]\n",
            "sources_fields: {'org-database-usda': {'available_date': '2019-09-25T00:00:00Z', 'fdc_category': 'All Noodles', 'fdc_data_source': 'LI', 'fdc_id': '628190', 'modified_date': '2019-09-25T00:00:00Z', 'publication_date': '2019-12-06T00:00:00Z'}}\n",
            "states: en:to-be-completed, en:nutrition-facts-completed, en:ingredients-completed, en:expiration-date-to-be-completed, en:packaging-code-to-be-completed, en:characteristics-completed, en:origins-completed, en:categories-completed, en:brands-completed, en:packaging-completed, en:quantity-completed, en:product-name-completed, en:photos-to-be-validated, en:packaging-photo-to-be-selected, en:nutrition-photo-selected, en:ingredients-photo-selected, en:front-photo-selected, en:photos-uploaded\n",
            "states_hierarchy: ['en:to-be-completed', 'en:nutrition-facts-completed', 'en:ingredients-completed', 'en:expiration-date-to-be-completed', 'en:packaging-code-to-be-completed', 'en:characteristics-completed', 'en:origins-completed', 'en:categories-completed', 'en:brands-completed', 'en:packaging-completed', 'en:quantity-completed', 'en:product-name-completed', 'en:photos-to-be-validated', 'en:packaging-photo-to-be-selected', 'en:nutrition-photo-selected', 'en:ingredients-photo-selected', 'en:front-photo-selected', 'en:photos-uploaded']\n",
            "states_tags: ['en:to-be-completed', 'en:nutrition-facts-completed', 'en:ingredients-completed', 'en:expiration-date-to-be-completed', 'en:packaging-code-to-be-completed', 'en:characteristics-completed', 'en:origins-completed', 'en:categories-completed', 'en:brands-completed', 'en:packaging-completed', 'en:quantity-completed', 'en:product-name-completed', 'en:photos-to-be-validated', 'en:packaging-photo-to-be-selected', 'en:nutrition-photo-selected', 'en:ingredients-photo-selected', 'en:front-photo-selected', 'en:photos-uploaded']\n",
            "stores: \n",
            "stores_tags: []\n",
            "teams: stakano,chocolatine\n",
            "teams_tags: ['stakano', 'chocolatine']\n",
            "traces: en:peanuts\n",
            "traces_from_ingredients: \n",
            "traces_from_user: (en) en:peanuts\n",
            "traces_hierarchy: ['en:peanuts']\n",
            "traces_lc: en\n",
            "traces_tags: ['en:peanuts']\n",
            "unique_scans_n: 4\n",
            "unknown_ingredients_n: 1\n",
            "unknown_nutrients_tags: []\n",
            "update_key: 20240209\n",
            "vitamins_prev_tags: []\n",
            "vitamins_tags: []\n",
            "weighers_tags: []\n"
          ]
        }
      ]
    },
    {
      "cell_type": "code",
      "source": [
        "import requests\n",
        "import pandas as pd\n",
        "\n",
        "def get_first_n_product_details(n):\n",
        "    base_url = \"https://world.openfoodfacts.org/cgi/search.pl\"\n",
        "    product_details = []\n",
        "    page = 1\n",
        "    page_size = 100\n",
        "\n",
        "    while len(product_details) < n:\n",
        "        params = {\n",
        "            'json': 1,\n",
        "            'page_size': page_size,\n",
        "            'page': page,\n",
        "            'action': 'process'\n",
        "        }\n",
        "        response = requests.get(base_url, params=params)\n",
        "\n",
        "        if response.status_code == 200:\n",
        "            try:\n",
        "                data = response.json()\n",
        "                products = data.get('products', [])\n",
        "                if not products:\n",
        "                    break\n",
        "                for product in products:\n",
        "                    product_name = product.get('product_name', 'N/A')\n",
        "                    allergens = product.get('allergens', 'N/A')\n",
        "                    food_groups = product.get('food_groups','N/A'),\n",
        "                    image_url = product.get('image_url','N/A')\n",
        "                    product_details.append({\n",
        "                        'Product Name': product_name,\n",
        "                        'Allergens': allergens,\n",
        "                        'Food Group': food_groups,\n",
        "                        'Image':image_url\n",
        "                    })\n",
        "                    if len(product_details) >= n:\n",
        "                        break\n",
        "                page += 1\n",
        "            except ValueError as e:\n",
        "                print(f\"JSON decoding error: {e}\")\n",
        "                break\n",
        "        else:\n",
        "            print(f\"Error fetching data. Status code: {response.status_code}\")\n",
        "            break\n",
        "    return product_details\n",
        "\n",
        "# get the first 200 rows\n",
        "first_200_product_details = get_first_n_product_details(200)\n",
        "\n",
        "# convert to a pandas dataframe\n",
        "df = pd.DataFrame(first_200_product_details)"
      ],
      "metadata": {
        "id": "piD5Q-bW6TnZ"
      },
      "execution_count": null,
      "outputs": []
    },
    {
      "cell_type": "markdown",
      "source": [
        "**Sample Dataframe**"
      ],
      "metadata": {
        "id": "UhMpV3Ee-4at"
      }
    },
    {
      "cell_type": "code",
      "source": [
        "pd.set_option('display.max_rows', 50)\n",
        "df.head(50)"
      ],
      "metadata": {
        "colab": {
          "base_uri": "https://localhost:8080/",
          "height": 1000
        },
        "id": "nBYwdXed80Yb",
        "outputId": "7d2e4159-0f87-4192-d0c0-290a41d59bce"
      },
      "execution_count": null,
      "outputs": [
        {
          "output_type": "execute_result",
          "data": {
            "text/plain": [
              "                                        Product Name  \\\n",
              "0                                      Eau de source   \n",
              "1            Prince Chocolat biscuits au blé complet   \n",
              "2                                            Nutella   \n",
              "3                                             Sésame   \n",
              "4                                          Coca-cola   \n",
              "5                                            Nutella   \n",
              "6                                      Yeast Extract   \n",
              "7                                          Coca-Cola   \n",
              "8                                      Eau de source   \n",
              "9                                          Coke zero   \n",
              "10                                               N/A   \n",
              "11                                           Almonds   \n",
              "12                       Alvalle Gazpacho l'original   \n",
              "13                                                     \n",
              "14                            70% Cacao noir intense   \n",
              "15                                                     \n",
              "16                      Tartine croustillante FIBRES   \n",
              "17                               S. Pellegrino Water   \n",
              "18                               Noir Excellence 90%   \n",
              "19       Excellence 85% Cacao Chocolat Noir Puissant   \n",
              "20                                           Cashews   \n",
              "21                                          Original   \n",
              "22                                            volvic   \n",
              "23                                       La salvetat   \n",
              "24                                     Pulco Zitrone   \n",
              "25                      Geröstete Mandel Ohne Zucker   \n",
              "26   Cerneaux de noix -nutriscore A- sans sel ajouté   \n",
              "27                           cruesly mélange de noix   \n",
              "28  Biscuits croquants au coeur onctueux de Nutella®   \n",
              "29                             Le Beurre Tendre Doux   \n",
              "30                Pâte à tartiner noisettes et cacao   \n",
              "31                                      Tartine Doux   \n",
              "32                            Mélange de fruits secs   \n",
              "33                 Tartine croustillante Authentique   \n",
              "34                       Cracotte Céréales Complètes   \n",
              "35                               Edelbitter mild 85%   \n",
              "36                                 Céréales Chocapic   \n",
              "37                             Coca-Cola zero azúcar   \n",
              "38                                         Primevère   \n",
              "39                    Extra dark chocolate 74% cacao   \n",
              "40                                      Coca-Cola 2l   \n",
              "41                         Oat Drink Barista Edition   \n",
              "42                   Tartines craquantes au sarrasin   \n",
              "43                                       Skyr Nature   \n",
              "44                             Alpenmilch Schokolade   \n",
              "45                   Belvita Petit Déjeuner Chocolat   \n",
              "46                           Pur beurre de cacahuète   \n",
              "47                                 La gâche tranchée   \n",
              "48                              Biscottes 6 céréales   \n",
              "49                                  Flocons d'avoine   \n",
              "\n",
              "                                            Allergens                              Food Group  \\\n",
              "0                                                                 (en:unsweetened-beverages,)   \n",
              "1               en:eggs,en:gluten,en:milk,en:soybeans                (en:biscuits-and-cakes,)   \n",
              "2                         en:milk,en:nuts,en:soybeans                            (en:sweets,)   \n",
              "3         en:gluten,en:milk,en:sesame-seeds,fr:Avoine                (en:biscuits-and-cakes,)   \n",
              "4                                                                   (en:sweetened-beverages,)   \n",
              "5                         en:milk,en:nuts,en:soybeans                            (en:sweets,)   \n",
              "6                                 en:celery,en:gluten          (en:salty-and-fatty-products,)   \n",
              "7                                                                   (en:sweetened-beverages,)   \n",
              "8                                                                 (en:unsweetened-beverages,)   \n",
              "9                                        fr:Aspartame  (en:artificially-sweetened-beverages,)   \n",
              "10                                                                  (en:sweetened-beverages,)   \n",
              "11                                            en:nuts                              (en:nuts,)   \n",
              "12                                                                                (en:soups,)   \n",
              "13                        en:milk,en:nuts,en:soybeans                            (en:sweets,)   \n",
              "14                                                                   (en:chocolate-products,)   \n",
              "15                        en:milk,en:nuts,en:soybeans                            (en:sweets,)   \n",
              "16                en:gluten,en:sesame-seeds,fr:Avoine                             (en:bread,)   \n",
              "17                                                                (en:unsweetened-beverages,)   \n",
              "18                                                                   (en:chocolate-products,)   \n",
              "19                                                                   (en:chocolate-products,)   \n",
              "20                                    en:milk,en:nuts                              (en:nuts,)   \n",
              "21  en:eggs,en:gluten,en:sulphur-dioxide-and-sulph...                (en:biscuits-and-cakes,)   \n",
              "22                                                                (en:unsweetened-beverages,)   \n",
              "23                                                                (en:unsweetened-beverages,)   \n",
              "24                                                                (en:unsweetened-beverages,)   \n",
              "25                                            en:nuts      (en:plant-based-milk-substitutes,)   \n",
              "26                                            en:nuts                              (en:nuts,)   \n",
              "27                        en:gluten,en:nuts,fr:Avoine                 (en:breakfast-cereals,)   \n",
              "28              en:gluten,en:milk,en:nuts,en:soybeans                (en:biscuits-and-cakes,)   \n",
              "29                                            en:milk                              (en:fats,)   \n",
              "30                                    en:milk,en:nuts                            (en:sweets,)   \n",
              "31                                                             (en:salty-and-fatty-products,)   \n",
              "32                                            en:nuts                      (en:dried-fruits,)   \n",
              "33                                          en:gluten                             (en:bread,)   \n",
              "34                                  en:gluten,en:milk              (en:cereals-and-potatoes,)   \n",
              "35                                        en:soybeans                (en:chocolate-products,)   \n",
              "36                                          en:gluten                 (en:breakfast-cereals,)   \n",
              "37                                                     (en:artificially-sweetened-beverages,)   \n",
              "38                                                             (en:salty-and-fatty-products,)   \n",
              "39                                        en:soybeans                (en:chocolate-products,)   \n",
              "40                                                                  (en:sweetened-beverages,)   \n",
              "41                                          en:gluten      (en:plant-based-milk-substitutes,)   \n",
              "42                                                                 (en:cereals-and-potatoes,)   \n",
              "43                                            en:milk                    (en:dairy-desserts,)   \n",
              "44                        en:milk,en:nuts,en:soybeans                (en:chocolate-products,)   \n",
              "45                      en:gluten,en:milk,en:soybeans                (en:biscuits-and-cakes,)   \n",
              "46                                         en:peanuts                            (en:sweets,)   \n",
              "47                          en:eggs,en:gluten,en:milk                          (en:pastries,)   \n",
              "48                          en:gluten,en:sesame-seeds                             (en:bread,)   \n",
              "49                                en:gluten,fr:Avoine                 (en:breakfast-cereals,)   \n",
              "\n",
              "                                                Image  \n",
              "0   https://images.openfoodfacts.org/images/produc...  \n",
              "1   https://images.openfoodfacts.org/images/produc...  \n",
              "2   https://images.openfoodfacts.org/images/produc...  \n",
              "3   https://images.openfoodfacts.org/images/produc...  \n",
              "4   https://images.openfoodfacts.org/images/produc...  \n",
              "5   https://images.openfoodfacts.org/images/produc...  \n",
              "6   https://images.openfoodfacts.org/images/produc...  \n",
              "7   https://images.openfoodfacts.org/images/produc...  \n",
              "8   https://images.openfoodfacts.org/images/produc...  \n",
              "9   https://images.openfoodfacts.org/images/produc...  \n",
              "10  https://images.openfoodfacts.org/images/produc...  \n",
              "11  https://images.openfoodfacts.org/images/produc...  \n",
              "12  https://images.openfoodfacts.org/images/produc...  \n",
              "13  https://images.openfoodfacts.org/images/produc...  \n",
              "14  https://images.openfoodfacts.org/images/produc...  \n",
              "15  https://images.openfoodfacts.org/images/produc...  \n",
              "16  https://images.openfoodfacts.org/images/produc...  \n",
              "17  https://images.openfoodfacts.org/images/produc...  \n",
              "18  https://images.openfoodfacts.org/images/produc...  \n",
              "19  https://images.openfoodfacts.org/images/produc...  \n",
              "20  https://images.openfoodfacts.org/images/produc...  \n",
              "21  https://images.openfoodfacts.org/images/produc...  \n",
              "22  https://images.openfoodfacts.org/images/produc...  \n",
              "23  https://images.openfoodfacts.org/images/produc...  \n",
              "24                                                N/A  \n",
              "25  https://images.openfoodfacts.org/images/produc...  \n",
              "26  https://images.openfoodfacts.org/images/produc...  \n",
              "27  https://images.openfoodfacts.org/images/produc...  \n",
              "28  https://images.openfoodfacts.org/images/produc...  \n",
              "29  https://images.openfoodfacts.org/images/produc...  \n",
              "30  https://images.openfoodfacts.org/images/produc...  \n",
              "31  https://images.openfoodfacts.org/images/produc...  \n",
              "32  https://images.openfoodfacts.org/images/produc...  \n",
              "33  https://images.openfoodfacts.org/images/produc...  \n",
              "34  https://images.openfoodfacts.org/images/produc...  \n",
              "35  https://images.openfoodfacts.org/images/produc...  \n",
              "36  https://images.openfoodfacts.org/images/produc...  \n",
              "37  https://images.openfoodfacts.org/images/produc...  \n",
              "38  https://images.openfoodfacts.org/images/produc...  \n",
              "39  https://images.openfoodfacts.org/images/produc...  \n",
              "40  https://images.openfoodfacts.org/images/produc...  \n",
              "41  https://images.openfoodfacts.org/images/produc...  \n",
              "42  https://images.openfoodfacts.org/images/produc...  \n",
              "43  https://images.openfoodfacts.org/images/produc...  \n",
              "44  https://images.openfoodfacts.org/images/produc...  \n",
              "45  https://images.openfoodfacts.org/images/produc...  \n",
              "46  https://images.openfoodfacts.org/images/produc...  \n",
              "47  https://images.openfoodfacts.org/images/produc...  \n",
              "48  https://images.openfoodfacts.org/images/produc...  \n",
              "49  https://images.openfoodfacts.org/images/produc...  "
            ],
            "text/html": [
              "\n",
              "  <div id=\"df-68139559-9646-4dbd-a121-9c3f2a8c71b5\" class=\"colab-df-container\">\n",
              "    <div>\n",
              "<style scoped>\n",
              "    .dataframe tbody tr th:only-of-type {\n",
              "        vertical-align: middle;\n",
              "    }\n",
              "\n",
              "    .dataframe tbody tr th {\n",
              "        vertical-align: top;\n",
              "    }\n",
              "\n",
              "    .dataframe thead th {\n",
              "        text-align: right;\n",
              "    }\n",
              "</style>\n",
              "<table border=\"1\" class=\"dataframe\">\n",
              "  <thead>\n",
              "    <tr style=\"text-align: right;\">\n",
              "      <th></th>\n",
              "      <th>Product Name</th>\n",
              "      <th>Allergens</th>\n",
              "      <th>Food Group</th>\n",
              "      <th>Image</th>\n",
              "    </tr>\n",
              "  </thead>\n",
              "  <tbody>\n",
              "    <tr>\n",
              "      <th>0</th>\n",
              "      <td>Eau de source</td>\n",
              "      <td></td>\n",
              "      <td>(en:unsweetened-beverages,)</td>\n",
              "      <td>https://images.openfoodfacts.org/images/produc...</td>\n",
              "    </tr>\n",
              "    <tr>\n",
              "      <th>1</th>\n",
              "      <td>Prince Chocolat biscuits au blé complet</td>\n",
              "      <td>en:eggs,en:gluten,en:milk,en:soybeans</td>\n",
              "      <td>(en:biscuits-and-cakes,)</td>\n",
              "      <td>https://images.openfoodfacts.org/images/produc...</td>\n",
              "    </tr>\n",
              "    <tr>\n",
              "      <th>2</th>\n",
              "      <td>Nutella</td>\n",
              "      <td>en:milk,en:nuts,en:soybeans</td>\n",
              "      <td>(en:sweets,)</td>\n",
              "      <td>https://images.openfoodfacts.org/images/produc...</td>\n",
              "    </tr>\n",
              "    <tr>\n",
              "      <th>3</th>\n",
              "      <td>Sésame</td>\n",
              "      <td>en:gluten,en:milk,en:sesame-seeds,fr:Avoine</td>\n",
              "      <td>(en:biscuits-and-cakes,)</td>\n",
              "      <td>https://images.openfoodfacts.org/images/produc...</td>\n",
              "    </tr>\n",
              "    <tr>\n",
              "      <th>4</th>\n",
              "      <td>Coca-cola</td>\n",
              "      <td></td>\n",
              "      <td>(en:sweetened-beverages,)</td>\n",
              "      <td>https://images.openfoodfacts.org/images/produc...</td>\n",
              "    </tr>\n",
              "    <tr>\n",
              "      <th>5</th>\n",
              "      <td>Nutella</td>\n",
              "      <td>en:milk,en:nuts,en:soybeans</td>\n",
              "      <td>(en:sweets,)</td>\n",
              "      <td>https://images.openfoodfacts.org/images/produc...</td>\n",
              "    </tr>\n",
              "    <tr>\n",
              "      <th>6</th>\n",
              "      <td>Yeast Extract</td>\n",
              "      <td>en:celery,en:gluten</td>\n",
              "      <td>(en:salty-and-fatty-products,)</td>\n",
              "      <td>https://images.openfoodfacts.org/images/produc...</td>\n",
              "    </tr>\n",
              "    <tr>\n",
              "      <th>7</th>\n",
              "      <td>Coca-Cola</td>\n",
              "      <td></td>\n",
              "      <td>(en:sweetened-beverages,)</td>\n",
              "      <td>https://images.openfoodfacts.org/images/produc...</td>\n",
              "    </tr>\n",
              "    <tr>\n",
              "      <th>8</th>\n",
              "      <td>Eau de source</td>\n",
              "      <td></td>\n",
              "      <td>(en:unsweetened-beverages,)</td>\n",
              "      <td>https://images.openfoodfacts.org/images/produc...</td>\n",
              "    </tr>\n",
              "    <tr>\n",
              "      <th>9</th>\n",
              "      <td>Coke zero</td>\n",
              "      <td>fr:Aspartame</td>\n",
              "      <td>(en:artificially-sweetened-beverages,)</td>\n",
              "      <td>https://images.openfoodfacts.org/images/produc...</td>\n",
              "    </tr>\n",
              "    <tr>\n",
              "      <th>10</th>\n",
              "      <td>N/A</td>\n",
              "      <td></td>\n",
              "      <td>(en:sweetened-beverages,)</td>\n",
              "      <td>https://images.openfoodfacts.org/images/produc...</td>\n",
              "    </tr>\n",
              "    <tr>\n",
              "      <th>11</th>\n",
              "      <td>Almonds</td>\n",
              "      <td>en:nuts</td>\n",
              "      <td>(en:nuts,)</td>\n",
              "      <td>https://images.openfoodfacts.org/images/produc...</td>\n",
              "    </tr>\n",
              "    <tr>\n",
              "      <th>12</th>\n",
              "      <td>Alvalle Gazpacho l'original</td>\n",
              "      <td></td>\n",
              "      <td>(en:soups,)</td>\n",
              "      <td>https://images.openfoodfacts.org/images/produc...</td>\n",
              "    </tr>\n",
              "    <tr>\n",
              "      <th>13</th>\n",
              "      <td></td>\n",
              "      <td>en:milk,en:nuts,en:soybeans</td>\n",
              "      <td>(en:sweets,)</td>\n",
              "      <td>https://images.openfoodfacts.org/images/produc...</td>\n",
              "    </tr>\n",
              "    <tr>\n",
              "      <th>14</th>\n",
              "      <td>70% Cacao noir intense</td>\n",
              "      <td></td>\n",
              "      <td>(en:chocolate-products,)</td>\n",
              "      <td>https://images.openfoodfacts.org/images/produc...</td>\n",
              "    </tr>\n",
              "    <tr>\n",
              "      <th>15</th>\n",
              "      <td></td>\n",
              "      <td>en:milk,en:nuts,en:soybeans</td>\n",
              "      <td>(en:sweets,)</td>\n",
              "      <td>https://images.openfoodfacts.org/images/produc...</td>\n",
              "    </tr>\n",
              "    <tr>\n",
              "      <th>16</th>\n",
              "      <td>Tartine croustillante FIBRES</td>\n",
              "      <td>en:gluten,en:sesame-seeds,fr:Avoine</td>\n",
              "      <td>(en:bread,)</td>\n",
              "      <td>https://images.openfoodfacts.org/images/produc...</td>\n",
              "    </tr>\n",
              "    <tr>\n",
              "      <th>17</th>\n",
              "      <td>S. Pellegrino Water</td>\n",
              "      <td></td>\n",
              "      <td>(en:unsweetened-beverages,)</td>\n",
              "      <td>https://images.openfoodfacts.org/images/produc...</td>\n",
              "    </tr>\n",
              "    <tr>\n",
              "      <th>18</th>\n",
              "      <td>Noir Excellence 90%</td>\n",
              "      <td></td>\n",
              "      <td>(en:chocolate-products,)</td>\n",
              "      <td>https://images.openfoodfacts.org/images/produc...</td>\n",
              "    </tr>\n",
              "    <tr>\n",
              "      <th>19</th>\n",
              "      <td>Excellence 85% Cacao Chocolat Noir Puissant</td>\n",
              "      <td></td>\n",
              "      <td>(en:chocolate-products,)</td>\n",
              "      <td>https://images.openfoodfacts.org/images/produc...</td>\n",
              "    </tr>\n",
              "    <tr>\n",
              "      <th>20</th>\n",
              "      <td>Cashews</td>\n",
              "      <td>en:milk,en:nuts</td>\n",
              "      <td>(en:nuts,)</td>\n",
              "      <td>https://images.openfoodfacts.org/images/produc...</td>\n",
              "    </tr>\n",
              "    <tr>\n",
              "      <th>21</th>\n",
              "      <td>Original</td>\n",
              "      <td>en:eggs,en:gluten,en:sulphur-dioxide-and-sulph...</td>\n",
              "      <td>(en:biscuits-and-cakes,)</td>\n",
              "      <td>https://images.openfoodfacts.org/images/produc...</td>\n",
              "    </tr>\n",
              "    <tr>\n",
              "      <th>22</th>\n",
              "      <td>volvic</td>\n",
              "      <td></td>\n",
              "      <td>(en:unsweetened-beverages,)</td>\n",
              "      <td>https://images.openfoodfacts.org/images/produc...</td>\n",
              "    </tr>\n",
              "    <tr>\n",
              "      <th>23</th>\n",
              "      <td>La salvetat</td>\n",
              "      <td></td>\n",
              "      <td>(en:unsweetened-beverages,)</td>\n",
              "      <td>https://images.openfoodfacts.org/images/produc...</td>\n",
              "    </tr>\n",
              "    <tr>\n",
              "      <th>24</th>\n",
              "      <td>Pulco Zitrone</td>\n",
              "      <td></td>\n",
              "      <td>(en:unsweetened-beverages,)</td>\n",
              "      <td>N/A</td>\n",
              "    </tr>\n",
              "    <tr>\n",
              "      <th>25</th>\n",
              "      <td>Geröstete Mandel Ohne Zucker</td>\n",
              "      <td>en:nuts</td>\n",
              "      <td>(en:plant-based-milk-substitutes,)</td>\n",
              "      <td>https://images.openfoodfacts.org/images/produc...</td>\n",
              "    </tr>\n",
              "    <tr>\n",
              "      <th>26</th>\n",
              "      <td>Cerneaux de noix -nutriscore A- sans sel ajouté</td>\n",
              "      <td>en:nuts</td>\n",
              "      <td>(en:nuts,)</td>\n",
              "      <td>https://images.openfoodfacts.org/images/produc...</td>\n",
              "    </tr>\n",
              "    <tr>\n",
              "      <th>27</th>\n",
              "      <td>cruesly mélange de noix</td>\n",
              "      <td>en:gluten,en:nuts,fr:Avoine</td>\n",
              "      <td>(en:breakfast-cereals,)</td>\n",
              "      <td>https://images.openfoodfacts.org/images/produc...</td>\n",
              "    </tr>\n",
              "    <tr>\n",
              "      <th>28</th>\n",
              "      <td>Biscuits croquants au coeur onctueux de Nutella®</td>\n",
              "      <td>en:gluten,en:milk,en:nuts,en:soybeans</td>\n",
              "      <td>(en:biscuits-and-cakes,)</td>\n",
              "      <td>https://images.openfoodfacts.org/images/produc...</td>\n",
              "    </tr>\n",
              "    <tr>\n",
              "      <th>29</th>\n",
              "      <td>Le Beurre Tendre Doux</td>\n",
              "      <td>en:milk</td>\n",
              "      <td>(en:fats,)</td>\n",
              "      <td>https://images.openfoodfacts.org/images/produc...</td>\n",
              "    </tr>\n",
              "    <tr>\n",
              "      <th>30</th>\n",
              "      <td>Pâte à tartiner noisettes et cacao</td>\n",
              "      <td>en:milk,en:nuts</td>\n",
              "      <td>(en:sweets,)</td>\n",
              "      <td>https://images.openfoodfacts.org/images/produc...</td>\n",
              "    </tr>\n",
              "    <tr>\n",
              "      <th>31</th>\n",
              "      <td>Tartine Doux</td>\n",
              "      <td></td>\n",
              "      <td>(en:salty-and-fatty-products,)</td>\n",
              "      <td>https://images.openfoodfacts.org/images/produc...</td>\n",
              "    </tr>\n",
              "    <tr>\n",
              "      <th>32</th>\n",
              "      <td>Mélange de fruits secs</td>\n",
              "      <td>en:nuts</td>\n",
              "      <td>(en:dried-fruits,)</td>\n",
              "      <td>https://images.openfoodfacts.org/images/produc...</td>\n",
              "    </tr>\n",
              "    <tr>\n",
              "      <th>33</th>\n",
              "      <td>Tartine croustillante Authentique</td>\n",
              "      <td>en:gluten</td>\n",
              "      <td>(en:bread,)</td>\n",
              "      <td>https://images.openfoodfacts.org/images/produc...</td>\n",
              "    </tr>\n",
              "    <tr>\n",
              "      <th>34</th>\n",
              "      <td>Cracotte Céréales Complètes</td>\n",
              "      <td>en:gluten,en:milk</td>\n",
              "      <td>(en:cereals-and-potatoes,)</td>\n",
              "      <td>https://images.openfoodfacts.org/images/produc...</td>\n",
              "    </tr>\n",
              "    <tr>\n",
              "      <th>35</th>\n",
              "      <td>Edelbitter mild 85%</td>\n",
              "      <td>en:soybeans</td>\n",
              "      <td>(en:chocolate-products,)</td>\n",
              "      <td>https://images.openfoodfacts.org/images/produc...</td>\n",
              "    </tr>\n",
              "    <tr>\n",
              "      <th>36</th>\n",
              "      <td>Céréales Chocapic</td>\n",
              "      <td>en:gluten</td>\n",
              "      <td>(en:breakfast-cereals,)</td>\n",
              "      <td>https://images.openfoodfacts.org/images/produc...</td>\n",
              "    </tr>\n",
              "    <tr>\n",
              "      <th>37</th>\n",
              "      <td>Coca-Cola zero azúcar</td>\n",
              "      <td></td>\n",
              "      <td>(en:artificially-sweetened-beverages,)</td>\n",
              "      <td>https://images.openfoodfacts.org/images/produc...</td>\n",
              "    </tr>\n",
              "    <tr>\n",
              "      <th>38</th>\n",
              "      <td>Primevère</td>\n",
              "      <td></td>\n",
              "      <td>(en:salty-and-fatty-products,)</td>\n",
              "      <td>https://images.openfoodfacts.org/images/produc...</td>\n",
              "    </tr>\n",
              "    <tr>\n",
              "      <th>39</th>\n",
              "      <td>Extra dark chocolate 74% cacao</td>\n",
              "      <td>en:soybeans</td>\n",
              "      <td>(en:chocolate-products,)</td>\n",
              "      <td>https://images.openfoodfacts.org/images/produc...</td>\n",
              "    </tr>\n",
              "    <tr>\n",
              "      <th>40</th>\n",
              "      <td>Coca-Cola 2l</td>\n",
              "      <td></td>\n",
              "      <td>(en:sweetened-beverages,)</td>\n",
              "      <td>https://images.openfoodfacts.org/images/produc...</td>\n",
              "    </tr>\n",
              "    <tr>\n",
              "      <th>41</th>\n",
              "      <td>Oat Drink Barista Edition</td>\n",
              "      <td>en:gluten</td>\n",
              "      <td>(en:plant-based-milk-substitutes,)</td>\n",
              "      <td>https://images.openfoodfacts.org/images/produc...</td>\n",
              "    </tr>\n",
              "    <tr>\n",
              "      <th>42</th>\n",
              "      <td>Tartines craquantes au sarrasin</td>\n",
              "      <td></td>\n",
              "      <td>(en:cereals-and-potatoes,)</td>\n",
              "      <td>https://images.openfoodfacts.org/images/produc...</td>\n",
              "    </tr>\n",
              "    <tr>\n",
              "      <th>43</th>\n",
              "      <td>Skyr Nature</td>\n",
              "      <td>en:milk</td>\n",
              "      <td>(en:dairy-desserts,)</td>\n",
              "      <td>https://images.openfoodfacts.org/images/produc...</td>\n",
              "    </tr>\n",
              "    <tr>\n",
              "      <th>44</th>\n",
              "      <td>Alpenmilch Schokolade</td>\n",
              "      <td>en:milk,en:nuts,en:soybeans</td>\n",
              "      <td>(en:chocolate-products,)</td>\n",
              "      <td>https://images.openfoodfacts.org/images/produc...</td>\n",
              "    </tr>\n",
              "    <tr>\n",
              "      <th>45</th>\n",
              "      <td>Belvita Petit Déjeuner Chocolat</td>\n",
              "      <td>en:gluten,en:milk,en:soybeans</td>\n",
              "      <td>(en:biscuits-and-cakes,)</td>\n",
              "      <td>https://images.openfoodfacts.org/images/produc...</td>\n",
              "    </tr>\n",
              "    <tr>\n",
              "      <th>46</th>\n",
              "      <td>Pur beurre de cacahuète</td>\n",
              "      <td>en:peanuts</td>\n",
              "      <td>(en:sweets,)</td>\n",
              "      <td>https://images.openfoodfacts.org/images/produc...</td>\n",
              "    </tr>\n",
              "    <tr>\n",
              "      <th>47</th>\n",
              "      <td>La gâche tranchée</td>\n",
              "      <td>en:eggs,en:gluten,en:milk</td>\n",
              "      <td>(en:pastries,)</td>\n",
              "      <td>https://images.openfoodfacts.org/images/produc...</td>\n",
              "    </tr>\n",
              "    <tr>\n",
              "      <th>48</th>\n",
              "      <td>Biscottes 6 céréales</td>\n",
              "      <td>en:gluten,en:sesame-seeds</td>\n",
              "      <td>(en:bread,)</td>\n",
              "      <td>https://images.openfoodfacts.org/images/produc...</td>\n",
              "    </tr>\n",
              "    <tr>\n",
              "      <th>49</th>\n",
              "      <td>Flocons d'avoine</td>\n",
              "      <td>en:gluten,fr:Avoine</td>\n",
              "      <td>(en:breakfast-cereals,)</td>\n",
              "      <td>https://images.openfoodfacts.org/images/produc...</td>\n",
              "    </tr>\n",
              "  </tbody>\n",
              "</table>\n",
              "</div>\n",
              "    <div class=\"colab-df-buttons\">\n",
              "\n",
              "  <div class=\"colab-df-container\">\n",
              "    <button class=\"colab-df-convert\" onclick=\"convertToInteractive('df-68139559-9646-4dbd-a121-9c3f2a8c71b5')\"\n",
              "            title=\"Convert this dataframe to an interactive table.\"\n",
              "            style=\"display:none;\">\n",
              "\n",
              "  <svg xmlns=\"http://www.w3.org/2000/svg\" height=\"24px\" viewBox=\"0 -960 960 960\">\n",
              "    <path d=\"M120-120v-720h720v720H120Zm60-500h600v-160H180v160Zm220 220h160v-160H400v160Zm0 220h160v-160H400v160ZM180-400h160v-160H180v160Zm440 0h160v-160H620v160ZM180-180h160v-160H180v160Zm440 0h160v-160H620v160Z\"/>\n",
              "  </svg>\n",
              "    </button>\n",
              "\n",
              "  <style>\n",
              "    .colab-df-container {\n",
              "      display:flex;\n",
              "      gap: 12px;\n",
              "    }\n",
              "\n",
              "    .colab-df-convert {\n",
              "      background-color: #E8F0FE;\n",
              "      border: none;\n",
              "      border-radius: 50%;\n",
              "      cursor: pointer;\n",
              "      display: none;\n",
              "      fill: #1967D2;\n",
              "      height: 32px;\n",
              "      padding: 0 0 0 0;\n",
              "      width: 32px;\n",
              "    }\n",
              "\n",
              "    .colab-df-convert:hover {\n",
              "      background-color: #E2EBFA;\n",
              "      box-shadow: 0px 1px 2px rgba(60, 64, 67, 0.3), 0px 1px 3px 1px rgba(60, 64, 67, 0.15);\n",
              "      fill: #174EA6;\n",
              "    }\n",
              "\n",
              "    .colab-df-buttons div {\n",
              "      margin-bottom: 4px;\n",
              "    }\n",
              "\n",
              "    [theme=dark] .colab-df-convert {\n",
              "      background-color: #3B4455;\n",
              "      fill: #D2E3FC;\n",
              "    }\n",
              "\n",
              "    [theme=dark] .colab-df-convert:hover {\n",
              "      background-color: #434B5C;\n",
              "      box-shadow: 0px 1px 3px 1px rgba(0, 0, 0, 0.15);\n",
              "      filter: drop-shadow(0px 1px 2px rgba(0, 0, 0, 0.3));\n",
              "      fill: #FFFFFF;\n",
              "    }\n",
              "  </style>\n",
              "\n",
              "    <script>\n",
              "      const buttonEl =\n",
              "        document.querySelector('#df-68139559-9646-4dbd-a121-9c3f2a8c71b5 button.colab-df-convert');\n",
              "      buttonEl.style.display =\n",
              "        google.colab.kernel.accessAllowed ? 'block' : 'none';\n",
              "\n",
              "      async function convertToInteractive(key) {\n",
              "        const element = document.querySelector('#df-68139559-9646-4dbd-a121-9c3f2a8c71b5');\n",
              "        const dataTable =\n",
              "          await google.colab.kernel.invokeFunction('convertToInteractive',\n",
              "                                                    [key], {});\n",
              "        if (!dataTable) return;\n",
              "\n",
              "        const docLinkHtml = 'Like what you see? Visit the ' +\n",
              "          '<a target=\"_blank\" href=https://colab.research.google.com/notebooks/data_table.ipynb>data table notebook</a>'\n",
              "          + ' to learn more about interactive tables.';\n",
              "        element.innerHTML = '';\n",
              "        dataTable['output_type'] = 'display_data';\n",
              "        await google.colab.output.renderOutput(dataTable, element);\n",
              "        const docLink = document.createElement('div');\n",
              "        docLink.innerHTML = docLinkHtml;\n",
              "        element.appendChild(docLink);\n",
              "      }\n",
              "    </script>\n",
              "  </div>\n",
              "\n",
              "\n",
              "<div id=\"df-9efcb305-0651-4e09-9f00-a54f3d52175e\">\n",
              "  <button class=\"colab-df-quickchart\" onclick=\"quickchart('df-9efcb305-0651-4e09-9f00-a54f3d52175e')\"\n",
              "            title=\"Suggest charts\"\n",
              "            style=\"display:none;\">\n",
              "\n",
              "<svg xmlns=\"http://www.w3.org/2000/svg\" height=\"24px\"viewBox=\"0 0 24 24\"\n",
              "     width=\"24px\">\n",
              "    <g>\n",
              "        <path d=\"M19 3H5c-1.1 0-2 .9-2 2v14c0 1.1.9 2 2 2h14c1.1 0 2-.9 2-2V5c0-1.1-.9-2-2-2zM9 17H7v-7h2v7zm4 0h-2V7h2v10zm4 0h-2v-4h2v4z\"/>\n",
              "    </g>\n",
              "</svg>\n",
              "  </button>\n",
              "\n",
              "<style>\n",
              "  .colab-df-quickchart {\n",
              "      --bg-color: #E8F0FE;\n",
              "      --fill-color: #1967D2;\n",
              "      --hover-bg-color: #E2EBFA;\n",
              "      --hover-fill-color: #174EA6;\n",
              "      --disabled-fill-color: #AAA;\n",
              "      --disabled-bg-color: #DDD;\n",
              "  }\n",
              "\n",
              "  [theme=dark] .colab-df-quickchart {\n",
              "      --bg-color: #3B4455;\n",
              "      --fill-color: #D2E3FC;\n",
              "      --hover-bg-color: #434B5C;\n",
              "      --hover-fill-color: #FFFFFF;\n",
              "      --disabled-bg-color: #3B4455;\n",
              "      --disabled-fill-color: #666;\n",
              "  }\n",
              "\n",
              "  .colab-df-quickchart {\n",
              "    background-color: var(--bg-color);\n",
              "    border: none;\n",
              "    border-radius: 50%;\n",
              "    cursor: pointer;\n",
              "    display: none;\n",
              "    fill: var(--fill-color);\n",
              "    height: 32px;\n",
              "    padding: 0;\n",
              "    width: 32px;\n",
              "  }\n",
              "\n",
              "  .colab-df-quickchart:hover {\n",
              "    background-color: var(--hover-bg-color);\n",
              "    box-shadow: 0 1px 2px rgba(60, 64, 67, 0.3), 0 1px 3px 1px rgba(60, 64, 67, 0.15);\n",
              "    fill: var(--button-hover-fill-color);\n",
              "  }\n",
              "\n",
              "  .colab-df-quickchart-complete:disabled,\n",
              "  .colab-df-quickchart-complete:disabled:hover {\n",
              "    background-color: var(--disabled-bg-color);\n",
              "    fill: var(--disabled-fill-color);\n",
              "    box-shadow: none;\n",
              "  }\n",
              "\n",
              "  .colab-df-spinner {\n",
              "    border: 2px solid var(--fill-color);\n",
              "    border-color: transparent;\n",
              "    border-bottom-color: var(--fill-color);\n",
              "    animation:\n",
              "      spin 1s steps(1) infinite;\n",
              "  }\n",
              "\n",
              "  @keyframes spin {\n",
              "    0% {\n",
              "      border-color: transparent;\n",
              "      border-bottom-color: var(--fill-color);\n",
              "      border-left-color: var(--fill-color);\n",
              "    }\n",
              "    20% {\n",
              "      border-color: transparent;\n",
              "      border-left-color: var(--fill-color);\n",
              "      border-top-color: var(--fill-color);\n",
              "    }\n",
              "    30% {\n",
              "      border-color: transparent;\n",
              "      border-left-color: var(--fill-color);\n",
              "      border-top-color: var(--fill-color);\n",
              "      border-right-color: var(--fill-color);\n",
              "    }\n",
              "    40% {\n",
              "      border-color: transparent;\n",
              "      border-right-color: var(--fill-color);\n",
              "      border-top-color: var(--fill-color);\n",
              "    }\n",
              "    60% {\n",
              "      border-color: transparent;\n",
              "      border-right-color: var(--fill-color);\n",
              "    }\n",
              "    80% {\n",
              "      border-color: transparent;\n",
              "      border-right-color: var(--fill-color);\n",
              "      border-bottom-color: var(--fill-color);\n",
              "    }\n",
              "    90% {\n",
              "      border-color: transparent;\n",
              "      border-bottom-color: var(--fill-color);\n",
              "    }\n",
              "  }\n",
              "</style>\n",
              "\n",
              "  <script>\n",
              "    async function quickchart(key) {\n",
              "      const quickchartButtonEl =\n",
              "        document.querySelector('#' + key + ' button');\n",
              "      quickchartButtonEl.disabled = true;  // To prevent multiple clicks.\n",
              "      quickchartButtonEl.classList.add('colab-df-spinner');\n",
              "      try {\n",
              "        const charts = await google.colab.kernel.invokeFunction(\n",
              "            'suggestCharts', [key], {});\n",
              "      } catch (error) {\n",
              "        console.error('Error during call to suggestCharts:', error);\n",
              "      }\n",
              "      quickchartButtonEl.classList.remove('colab-df-spinner');\n",
              "      quickchartButtonEl.classList.add('colab-df-quickchart-complete');\n",
              "    }\n",
              "    (() => {\n",
              "      let quickchartButtonEl =\n",
              "        document.querySelector('#df-9efcb305-0651-4e09-9f00-a54f3d52175e button');\n",
              "      quickchartButtonEl.style.display =\n",
              "        google.colab.kernel.accessAllowed ? 'block' : 'none';\n",
              "    })();\n",
              "  </script>\n",
              "</div>\n",
              "\n",
              "    </div>\n",
              "  </div>\n"
            ],
            "application/vnd.google.colaboratory.intrinsic+json": {
              "type": "dataframe",
              "variable_name": "df",
              "summary": "{\n  \"name\": \"df\",\n  \"rows\": 200,\n  \"fields\": [\n    {\n      \"column\": \"Product Name\",\n      \"properties\": {\n        \"dtype\": \"string\",\n        \"num_unique_values\": 186,\n        \"samples\": [\n          \"V\\u00e9ritable Petit Beurre \\ud83e\\uddc8\",\n          \"Biscuit raisins\",\n          \"Maille Moutarde Fine de Dijon L'Originale Bocal 360g\"\n        ],\n        \"semantic_type\": \"\",\n        \"description\": \"\"\n      }\n    },\n    {\n      \"column\": \"Allergens\",\n      \"properties\": {\n        \"dtype\": \"category\",\n        \"num_unique_values\": 43,\n        \"samples\": [\n          \"en:gluten,en:soybeans\",\n          \"en:eggs,en:mustard\",\n          \"en:eggs,en:gluten,en:lupin,en:milk,en:sesame-seeds,en:soybeans,fr:Avoine\"\n        ],\n        \"semantic_type\": \"\",\n        \"description\": \"\"\n      }\n    },\n    {\n      \"column\": \"Food Group\",\n      \"properties\": {\n        \"dtype\": \"category\",\n        \"num_unique_values\": 27,\n        \"samples\": [\n          [\n            \"en:chocolate-products\"\n          ],\n          [\n            \"en:dried-fruits\"\n          ],\n          [\n            \"en:bread\"\n          ]\n        ],\n        \"semantic_type\": \"\",\n        \"description\": \"\"\n      }\n    },\n    {\n      \"column\": \"Image\",\n      \"properties\": {\n        \"dtype\": \"string\",\n        \"num_unique_values\": 199,\n        \"samples\": [\n          \"https://images.openfoodfacts.org/images/products/848/000/067/1400/front_es.42.400.jpg\",\n          \"https://images.openfoodfacts.org/images/products/80135463/front_en.325.400.jpg\",\n          \"https://images.openfoodfacts.org/images/products/500/015/702/4671/front_en.240.400.jpg\"\n        ],\n        \"semantic_type\": \"\",\n        \"description\": \"\"\n      }\n    }\n  ]\n}"
            }
          },
          "metadata": {},
          "execution_count": 29
        }
      ]
    },
    {
      "cell_type": "markdown",
      "source": [
        "**Search for Products Images with allergens**"
      ],
      "metadata": {
        "id": "oM5Z9I275chk"
      }
    },
    {
      "cell_type": "code",
      "source": [
        "import requests\n",
        "from IPython.display import Image, display\n",
        "\n",
        "# Function to search for products and return images\n",
        "def get_product_images(query, num_images=10):\n",
        "    url = f\"https://world.openfoodfacts.org/cgi/search.pl\"\n",
        "    params = {\n",
        "        'search_terms': query,\n",
        "        'json': 1,\n",
        "        'page_size': num_images,\n",
        "    }\n",
        "    response = requests.get(url, params=params)\n",
        "\n",
        "    if response.status_code == 200:\n",
        "        return response.json()['products']\n",
        "    else:\n",
        "        return f\"Error fetching data. Status code: {response.status_code}\"\n",
        "\n",
        "query = \"fish\"\n",
        "products = get_product_images(query)\n",
        "\n",
        "# display 10 images\n",
        "for i, product in enumerate(products[:10]):\n",
        "    image_url = product.get('image_url')\n",
        "    product_name = product.get('product_name', 'N/A')\n",
        "    allergens = product.get('allergens', 'N/A')\n",
        "\n",
        "    print(f\"Product Name: {product_name}\")\n",
        "    print(f\"Allergens: {allergens}\")\n",
        "\n",
        "    if image_url:\n",
        "        display(Image(url=image_url))\n",
        "    else:\n",
        "        print(\"No image available\")\n",
        "    print()"
      ],
      "metadata": {
        "colab": {
          "base_uri": "https://localhost:8080/",
          "height": 1000
        },
        "id": "3p_wAnyMnRhk",
        "outputId": "d330ab28-3062-40f3-bad0-99587e25c9f1"
      },
      "execution_count": null,
      "outputs": [
        {
          "output_type": "stream",
          "name": "stdout",
          "text": [
            "Product Name: 28 bâtonnets de surimi\n",
            "Allergens: en:crustaceans,en:eggs,en:fish,en:gluten\n"
          ]
        },
        {
          "output_type": "display_data",
          "data": {
            "text/html": [
              "<img src=\"https://images.openfoodfacts.org/images/products/20466909/front_en.223.400.jpg\"/>"
            ],
            "text/plain": [
              "<IPython.core.display.Image object>"
            ]
          },
          "metadata": {}
        },
        {
          "output_type": "stream",
          "name": "stdout",
          "text": [
            "\n",
            "Product Name: Bâton surimi\n",
            "Allergens: en:crustaceans,en:eggs,en:fish,en:gluten\n"
          ]
        },
        {
          "output_type": "display_data",
          "data": {
            "text/html": [
              "<img src=\"https://images.openfoodfacts.org/images/products/356/470/030/9575/front_en.188.400.jpg\"/>"
            ],
            "text/plain": [
              "<IPython.core.display.Image object>"
            ]
          },
          "metadata": {}
        },
        {
          "output_type": "stream",
          "name": "stdout",
          "text": [
            "\n",
            "Product Name: BRANDADE DE MORUE\n",
            "Allergens: en:fish\n"
          ]
        },
        {
          "output_type": "display_data",
          "data": {
            "text/html": [
              "<img src=\"https://images.openfoodfacts.org/images/products/357/149/221/0019/front_fr.53.400.jpg\"/>"
            ],
            "text/plain": [
              "<IPython.core.display.Image object>"
            ]
          },
          "metadata": {}
        },
        {
          "output_type": "stream",
          "name": "stdout",
          "text": [
            "\n",
            "Product Name: Filets de maquereaux aux vin blanc et aux aromates\n",
            "Allergens: en:fish\n"
          ]
        },
        {
          "output_type": "display_data",
          "data": {
            "text/html": [
              "<img src=\"https://images.openfoodfacts.org/images/products/20043384/front_fr.71.400.jpg\"/>"
            ],
            "text/plain": [
              "<IPython.core.display.Image object>"
            ]
          },
          "metadata": {}
        },
        {
          "output_type": "stream",
          "name": "stdout",
          "text": [
            "\n",
            "Product Name: Surimi saveur crabe\n",
            "Allergens: en:crustaceans,en:fish,en:gluten\n"
          ]
        },
        {
          "output_type": "display_data",
          "data": {
            "text/html": [
              "<img src=\"https://images.openfoodfacts.org/images/products/352/104/220/6511/front_en.87.400.jpg\"/>"
            ],
            "text/plain": [
              "<IPython.core.display.Image object>"
            ]
          },
          "metadata": {}
        },
        {
          "output_type": "stream",
          "name": "stdout",
          "text": [
            "\n",
            "Product Name: Salade & Compagnie - Antibes\n",
            "Allergens: en:eggs,en:fish,en:gluten,en:milk,en:soybeans,en:sulphur-dioxide-and-sulphites\n"
          ]
        },
        {
          "output_type": "display_data",
          "data": {
            "text/html": [
              "<img src=\"https://images.openfoodfacts.org/images/products/324/227/400/2053/front.14.400.jpg\"/>"
            ],
            "text/plain": [
              "<IPython.core.display.Image object>"
            ]
          },
          "metadata": {}
        },
        {
          "output_type": "stream",
          "name": "stdout",
          "text": [
            "\n",
            "Product Name: Foie de Morue nature au sel de Guérande 121g Cble\n",
            "Allergens: en:fish,fr:Foie de morue\n"
          ]
        },
        {
          "output_type": "display_data",
          "data": {
            "text/html": [
              "<img src=\"https://images.openfoodfacts.org/images/products/326/367/092/3414/front_fr.63.400.jpg\"/>"
            ],
            "text/plain": [
              "<IPython.core.display.Image object>"
            ]
          },
          "metadata": {}
        },
        {
          "output_type": "stream",
          "name": "stdout",
          "text": [
            "\n",
            "Product Name: Filets de Maquereaux Nature\n",
            "Allergens: en:fish\n"
          ]
        },
        {
          "output_type": "display_data",
          "data": {
            "text/html": [
              "<img src=\"https://images.openfoodfacts.org/images/products/301/908/124/1612/front_fr.27.400.jpg\"/>"
            ],
            "text/plain": [
              "<IPython.core.display.Image object>"
            ]
          },
          "metadata": {}
        },
        {
          "output_type": "stream",
          "name": "stdout",
          "text": [
            "\n",
            "Product Name: Filet de Saumon Purée de Brocolis\n",
            "Allergens: en:fish,en:milk\n"
          ]
        },
        {
          "output_type": "display_data",
          "data": {
            "text/html": [
              "<img src=\"https://images.openfoodfacts.org/images/products/330/274/048/3103/front_fr.670.400.jpg\"/>"
            ],
            "text/plain": [
              "<IPython.core.display.Image object>"
            ]
          },
          "metadata": {}
        },
        {
          "output_type": "stream",
          "name": "stdout",
          "text": [
            "\n",
            "Product Name: Fischstäbchen\n",
            "Allergens: en:fish,en:gluten,de:Alaska-SeeIachsfiIet\n"
          ]
        },
        {
          "output_type": "display_data",
          "data": {
            "text/html": [
              "<img src=\"https://images.openfoodfacts.org/images/products/20155087/front_de.118.400.jpg\"/>"
            ],
            "text/plain": [
              "<IPython.core.display.Image object>"
            ]
          },
          "metadata": {}
        },
        {
          "output_type": "stream",
          "name": "stdout",
          "text": [
            "\n"
          ]
        }
      ]
    },
    {
      "cell_type": "markdown",
      "source": [
        "**Search for Allergens**"
      ],
      "metadata": {
        "id": "hpZjhhPd5XNl"
      }
    },
    {
      "cell_type": "code",
      "source": [
        "import requests\n",
        "from IPython.display import Image, display\n",
        "\n",
        "# Function to search for products containing a specific allergen and return images\n",
        "def get_products_with_allergen(allergen, num_images=10):\n",
        "    url = \"https://world.openfoodfacts.org/cgi/search.pl\"\n",
        "    params = {\n",
        "        'search_terms': allergen,\n",
        "        'json': 1,\n",
        "        'page_size': num_images,\n",
        "    }\n",
        "    response = requests.get(url, params=params)\n",
        "\n",
        "    if response.status_code == 200:\n",
        "        return response.json().get('products', [])\n",
        "    else:\n",
        "        return f\"Error fetching data. Status code: {response.status_code}\"\n",
        "\n",
        "allergen = \"egg\"\n",
        "products = get_products_with_allergen(allergen)\n",
        "\n",
        "# display 10 product images and allergen information\n",
        "for i, product in enumerate(products[:10]):\n",
        "    image_url = product.get('image_url')\n",
        "    product_name = product.get('product_name', 'N/A')\n",
        "    allergens = product.get('allergens', 'N/A')\n",
        "    print(f\"Product Name: {product_name}\")\n",
        "    print(f\"Allergens: {allergens}\")\n",
        "\n",
        "    if image_url:\n",
        "        display(Image(url=image_url))\n",
        "    else:\n",
        "        print(\"No image available\")\n",
        "    print()"
      ],
      "metadata": {
        "id": "qOuBXV6hqJX4",
        "colab": {
          "base_uri": "https://localhost:8080/",
          "height": 1000
        },
        "outputId": "9f286cce-2d44-4f47-c4a3-7eadc94c54e3"
      },
      "execution_count": null,
      "outputs": [
        {
          "output_type": "stream",
          "name": "stdout",
          "text": [
            "Product Name: Brioche Tranchée Bio 400g\n",
            "Allergens: en:eggs,en:gluten\n"
          ]
        },
        {
          "output_type": "display_data",
          "data": {
            "text/html": [
              "<img src=\"https://images.openfoodfacts.org/images/products/328/423/000/6408/front_en.160.400.jpg\"/>"
            ],
            "text/plain": [
              "<IPython.core.display.Image object>"
            ]
          },
          "metadata": {}
        },
        {
          "output_type": "stream",
          "name": "stdout",
          "text": [
            "\n",
            "Product Name: Real Mayonnaise\n",
            "Allergens: en:eggs\n"
          ]
        },
        {
          "output_type": "display_data",
          "data": {
            "text/html": [
              "<img src=\"https://images.openfoodfacts.org/images/products/871/811/472/4485/front_en.46.400.jpg\"/>"
            ],
            "text/plain": [
              "<IPython.core.display.Image object>"
            ]
          },
          "metadata": {}
        },
        {
          "output_type": "stream",
          "name": "stdout",
          "text": [
            "\n",
            "Product Name: 4 Baguettes viennoises 340g\n",
            "Allergens: en:eggs,en:gluten,en:milk\n"
          ]
        },
        {
          "output_type": "display_data",
          "data": {
            "text/html": [
              "<img src=\"https://images.openfoodfacts.org/images/products/376/004/979/0818/front_fr.103.400.jpg\"/>"
            ],
            "text/plain": [
              "<IPython.core.display.Image object>"
            ]
          },
          "metadata": {}
        },
        {
          "output_type": "stream",
          "name": "stdout",
          "text": [
            "\n",
            "Product Name: Galettes au bon beurre bio\n",
            "Allergens: en:eggs,en:gluten,en:milk\n"
          ]
        },
        {
          "output_type": "display_data",
          "data": {
            "text/html": [
              "<img src=\"https://images.openfoodfacts.org/images/products/317/853/041/6541/front_fr.56.400.jpg\"/>"
            ],
            "text/plain": [
              "<IPython.core.display.Image object>"
            ]
          },
          "metadata": {}
        },
        {
          "output_type": "stream",
          "name": "stdout",
          "text": [
            "\n",
            "Product Name: Pain au lait bio x12 420g\n",
            "Allergens: en:eggs,en:gluten,en:milk\n"
          ]
        },
        {
          "output_type": "display_data",
          "data": {
            "text/html": [
              "<img src=\"https://images.openfoodfacts.org/images/products/376/004/979/8890/front_fr.34.400.jpg\"/>"
            ],
            "text/plain": [
              "<IPython.core.display.Image object>"
            ]
          },
          "metadata": {}
        },
        {
          "output_type": "stream",
          "name": "stdout",
          "text": [
            "\n",
            "Product Name: Seriously Good Times Mayonnaise\n",
            "Allergens: \n"
          ]
        },
        {
          "output_type": "display_data",
          "data": {
            "text/html": [
              "<img src=\"https://images.openfoodfacts.org/images/products/500/015/707/6410/front_en.35.400.jpg\"/>"
            ],
            "text/plain": [
              "<IPython.core.display.Image object>"
            ]
          },
          "metadata": {}
        },
        {
          "output_type": "stream",
          "name": "stdout",
          "text": [
            "\n",
            "Product Name: Bueno milk & hazelnut bars\n",
            "Allergens: en:gluten,en:milk,en:soybeans\n"
          ]
        },
        {
          "output_type": "display_data",
          "data": {
            "text/html": [
              "<img src=\"https://images.openfoodfacts.org/images/products/80310891/front_en.109.400.jpg\"/>"
            ],
            "text/plain": [
              "<IPython.core.display.Image object>"
            ]
          },
          "metadata": {}
        },
        {
          "output_type": "stream",
          "name": "stdout",
          "text": [
            "\n",
            "Product Name: Alpro Fermentiertes Kokosnussprodukt, Natur, Absolutely 350g\n",
            "Allergens: \n"
          ]
        },
        {
          "output_type": "display_data",
          "data": {
            "text/html": [
              "<img src=\"https://images.openfoodfacts.org/images/products/541/118/813/1380/front_en.124.400.jpg\"/>"
            ],
            "text/plain": [
              "<IPython.core.display.Image object>"
            ]
          },
          "metadata": {}
        },
        {
          "output_type": "stream",
          "name": "stdout",
          "text": [
            "\n",
            "Product Name: Queso blanco light cheese\n",
            "Allergens: en:milk\n"
          ]
        },
        {
          "output_type": "display_data",
          "data": {
            "text/html": [
              "<img src=\"https://images.openfoodfacts.org/images/products/848/000/051/2239/front_en.68.400.jpg\"/>"
            ],
            "text/plain": [
              "<IPython.core.display.Image object>"
            ]
          },
          "metadata": {}
        },
        {
          "output_type": "stream",
          "name": "stdout",
          "text": [
            "\n",
            "Product Name: 10 Pains au lait frais sans sucres ajoutés 350g\n",
            "Allergens: en:eggs,en:gluten,en:milk\n"
          ]
        },
        {
          "output_type": "display_data",
          "data": {
            "text/html": [
              "<img src=\"https://images.openfoodfacts.org/images/products/376/004/979/8876/front_fr.38.400.jpg\"/>"
            ],
            "text/plain": [
              "<IPython.core.display.Image object>"
            ]
          },
          "metadata": {}
        },
        {
          "output_type": "stream",
          "name": "stdout",
          "text": [
            "\n"
          ]
        }
      ]
    }
  ]
}